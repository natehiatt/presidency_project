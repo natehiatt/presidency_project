{
 "cells": [
  {
   "cell_type": "markdown",
   "id": "5b539edb",
   "metadata": {},
   "source": [
    "# Classifying Political Rhetoric"
   ]
  },
  {
   "cell_type": "markdown",
   "id": "3d9be858",
   "metadata": {},
   "source": [
    "## Table of Contents"
   ]
  },
  {
   "cell_type": "markdown",
   "id": "f12d0d60",
   "metadata": {},
   "source": [
    "1. Background\n",
    "2. Data Understanding\n",
    "3. Data Preparation\n",
    "    - 3.a. Webscraping & Cleaning Presidential Debates\n",
    "    - 3.b. Webscraping & Cleaning RNC/DNC Conventions\n",
    "    - 3.c. Webscraping & Cleaning Inaugural Speeches\n",
    "    - 3.d. NLP Preprocessing all 3 Datasets\n",
    "        - 3.d.i. NLP Preprocessing the Presidential Debates\n",
    "        - 3.d.ii. NLP Preprocessing the RNC/DNC Conventions\n",
    "        - 3.d.i. NLP Preprocessing the Inaugural Speeches\n",
    "    - 3.e. Combining all 3 Datasets\n",
    "    - 3.f. Basic Visualization\n",
    "    - 3.g. Additional Stopwords Removal\n",
    "4. Modelling\n",
    "    - 4.a. Multinomial Naive Bayes Model\n",
    "        - 4.a.i. MNB Grid Searches\n",
    "    - 4.b. Gaussian Bayes Model\n",
    "        - 4.b.i. GB Grid Searches\n",
    "    - 4.c. Random Forest Model\n",
    "        - 4.c.i. RF Grid Searches\n",
    "5. Final Results: MNB \n",
    "6. Next Steps"
   ]
  },
  {
   "cell_type": "code",
   "execution_count": 2,
   "id": "98ca812a",
   "metadata": {},
   "outputs": [],
   "source": [
    "# Imports\n",
    "import pandas as pd\n",
    "import matplotlib.pyplot as plt\n",
    "import requests\n",
    "from bs4 import BeautifulSoup\n",
    "from urllib.parse import urljoin\n",
    "\n",
    "import re \n",
    "\n",
    "from nltk.probability import FreqDist\n",
    "from nltk.corpus import stopwords\n",
    "from nltk.tokenize import regexp_tokenize, RegexpTokenizer\n",
    "from nltk.stem import WordNetLemmatizer\n",
    "\n",
    "from sklearn.model_selection import train_test_split\n",
    "from sklearn.pipeline import Pipeline\n",
    "from sklearn.feature_extraction.text import TfidfVectorizer, CountVectorizer\n",
    "from sklearn.naive_bayes import MultinomialNB\n",
    "from sklearn.model_selection import cross_val_score, GridSearchCV\n",
    "from sklearn.metrics import accuracy_score, confusion_matrix, ConfusionMatrixDisplay"
   ]
  },
  {
   "cell_type": "markdown",
   "id": "ae225c90",
   "metadata": {},
   "source": [
    "## 1. Background"
   ]
  },
  {
   "cell_type": "markdown",
   "id": "3076965c",
   "metadata": {},
   "source": [
    "What words/phrases do politicians say most often?\n",
    "\n",
    "Can we identify a politician’s party using their speech?\n",
    "\n",
    "How has speech variance between parties changed over time?\n",
    "\n"
   ]
  },
  {
   "cell_type": "markdown",
   "id": "08b114fa",
   "metadata": {},
   "source": [
    "## 2. Data Understanding"
   ]
  },
  {
   "cell_type": "markdown",
   "id": "d96abe30",
   "metadata": {},
   "source": [
    "*talk about how much data we have\n"
   ]
  },
  {
   "cell_type": "markdown",
   "id": "8d582e76",
   "metadata": {},
   "source": [
    "## 3. Data Preparation"
   ]
  },
  {
   "cell_type": "markdown",
   "id": "a63931fe",
   "metadata": {},
   "source": [
    "### 3.a. Webscraping & Cleaning Presidential Debates"
   ]
  },
  {
   "cell_type": "markdown",
   "id": "70ac33c9",
   "metadata": {},
   "source": [
    "Below we "
   ]
  },
  {
   "cell_type": "code",
   "execution_count": 59,
   "id": "c93d8008",
   "metadata": {},
   "outputs": [
    {
     "data": {
      "text/html": [
       "<div>\n",
       "<style scoped>\n",
       "    .dataframe tbody tr th:only-of-type {\n",
       "        vertical-align: middle;\n",
       "    }\n",
       "\n",
       "    .dataframe tbody tr th {\n",
       "        vertical-align: top;\n",
       "    }\n",
       "\n",
       "    .dataframe thead th {\n",
       "        text-align: right;\n",
       "    }\n",
       "</style>\n",
       "<table border=\"1\" class=\"dataframe\">\n",
       "  <thead>\n",
       "    <tr style=\"text-align: right;\">\n",
       "      <th></th>\n",
       "      <th>date</th>\n",
       "      <th>text</th>\n",
       "      <th>link</th>\n",
       "    </tr>\n",
       "  </thead>\n",
       "  <tbody>\n",
       "    <tr>\n",
       "      <th>0</th>\n",
       "      <td></td>\n",
       "      <td>Unofficial transcripts of most presidential an...</td>\n",
       "      <td>https://www.debates.org/voter-education/debate...</td>\n",
       "    </tr>\n",
       "    <tr>\n",
       "      <th>1</th>\n",
       "      <td>october-22-2020</td>\n",
       "      <td>Presidential Debate at Belmont University in N...</td>\n",
       "      <td>https://www.debates.org/voter-education/debate...</td>\n",
       "    </tr>\n",
       "    <tr>\n",
       "      <th>2</th>\n",
       "      <td>september-29-2020</td>\n",
       "      <td>Presidential Debate at Case Western Reserve Un...</td>\n",
       "      <td>https://www.debates.org/voter-education/debate...</td>\n",
       "    </tr>\n",
       "    <tr>\n",
       "      <th>3</th>\n",
       "      <td>october-19-2016</td>\n",
       "      <td>Presidential Debate at the University of Nevad...</td>\n",
       "      <td>https://www.debates.org/voter-education/debate...</td>\n",
       "    </tr>\n",
       "    <tr>\n",
       "      <th>4</th>\n",
       "      <td>october-9-2016</td>\n",
       "      <td>Presidential Debate at Washington University i...</td>\n",
       "      <td>https://www.debates.org/voter-education/debate...</td>\n",
       "    </tr>\n",
       "    <tr>\n",
       "      <th>...</th>\n",
       "      <td>...</td>\n",
       "      <td>...</td>\n",
       "      <td>...</td>\n",
       "    </tr>\n",
       "    <tr>\n",
       "      <th>88</th>\n",
       "      <td>october-22-1976</td>\n",
       "      <td>\\nOctober 22, 1976\\n The Third Carter-Ford Pre...</td>\n",
       "      <td>https://www.debates.org/voter-education/debate...</td>\n",
       "    </tr>\n",
       "    <tr>\n",
       "      <th>89</th>\n",
       "      <td>september-26-1960</td>\n",
       "      <td>\\nSeptember 26, 1960\\n The First Kennedy-Nixon...</td>\n",
       "      <td>https://www.debates.org/voter-education/debate...</td>\n",
       "    </tr>\n",
       "    <tr>\n",
       "      <th>90</th>\n",
       "      <td>october-7-1960</td>\n",
       "      <td>\\nOctober 7, 1960\\n The Second Kennedy-Nixon P...</td>\n",
       "      <td>https://www.debates.org/voter-education/debate...</td>\n",
       "    </tr>\n",
       "    <tr>\n",
       "      <th>91</th>\n",
       "      <td>october-13-1960</td>\n",
       "      <td>\\nOctober 13, 1960\\n The Third Kennedy-Nixon P...</td>\n",
       "      <td>https://www.debates.org/voter-education/debate...</td>\n",
       "    </tr>\n",
       "    <tr>\n",
       "      <th>92</th>\n",
       "      <td>october-21-1960</td>\n",
       "      <td>\\nOctober 21, 1960\\n The Fourth Kennedy-Nixon ...</td>\n",
       "      <td>https://www.debates.org/voter-education/debate...</td>\n",
       "    </tr>\n",
       "  </tbody>\n",
       "</table>\n",
       "<p>93 rows × 3 columns</p>\n",
       "</div>"
      ],
      "text/plain": [
       "                 date                                               text   \n",
       "0                      Unofficial transcripts of most presidential an...  \\\n",
       "1     october-22-2020  Presidential Debate at Belmont University in N...   \n",
       "2   september-29-2020  Presidential Debate at Case Western Reserve Un...   \n",
       "3     october-19-2016  Presidential Debate at the University of Nevad...   \n",
       "4      october-9-2016  Presidential Debate at Washington University i...   \n",
       "..                ...                                                ...   \n",
       "88    october-22-1976  \\nOctober 22, 1976\\n The Third Carter-Ford Pre...   \n",
       "89  september-26-1960  \\nSeptember 26, 1960\\n The First Kennedy-Nixon...   \n",
       "90     october-7-1960  \\nOctober 7, 1960\\n The Second Kennedy-Nixon P...   \n",
       "91    october-13-1960  \\nOctober 13, 1960\\n The Third Kennedy-Nixon P...   \n",
       "92    october-21-1960  \\nOctober 21, 1960\\n The Fourth Kennedy-Nixon ...   \n",
       "\n",
       "                                                 link  \n",
       "0   https://www.debates.org/voter-education/debate...  \n",
       "1   https://www.debates.org/voter-education/debate...  \n",
       "2   https://www.debates.org/voter-education/debate...  \n",
       "3   https://www.debates.org/voter-education/debate...  \n",
       "4   https://www.debates.org/voter-education/debate...  \n",
       "..                                                ...  \n",
       "88  https://www.debates.org/voter-education/debate...  \n",
       "89  https://www.debates.org/voter-education/debate...  \n",
       "90  https://www.debates.org/voter-education/debate...  \n",
       "91  https://www.debates.org/voter-education/debate...  \n",
       "92  https://www.debates.org/voter-education/debate...  \n",
       "\n",
       "[93 rows x 3 columns]"
      ]
     },
     "execution_count": 59,
     "metadata": {},
     "output_type": "execute_result"
    }
   ],
   "source": [
    "df = pd.DataFrame(columns=[\"date\", \"text\", \"link\"])\n",
    "debatelink = []\n",
    "\n",
    "base_url = \"https://www.debates.org\"\n",
    "page = requests.get(urljoin(base_url, \"/voter-education/debate-transcripts/\"))\n",
    "soup = BeautifulSoup(page.content, 'html.parser')\n",
    "\n",
    "links = soup.find_all(\"a\")\n",
    "for link in links:\n",
    "    if \"debate-transcript\" in link.get(\"href\") and \"Media\" not in link.get(\"href\") and \"vice\" not in link.get(\"href\"):\n",
    "        debatelink.append(urljoin(base_url, link.get(\"href\")))\n",
    "        df.loc[len(df)] = [None, None, urljoin(base_url, link.get(\"href\"))]\n",
    "\n",
    "for link in df[\"link\"]:\n",
    "    try:\n",
    "        page = requests.get(link)\n",
    "        soup = BeautifulSoup(page.content, 'html.parser')\n",
    "        text = soup.find_all(\"p\")\n",
    "        text = [t.get_text() for t in text]\n",
    "        text = \" \".join(text)\n",
    "        df.loc[df[\"link\"] == link, \"text\"] = text\n",
    "\n",
    "        date_link = link.split(\"/\")[5:6] \n",
    "        date_link = \"-\".join(date_link[0].split(\"-\")[:3])\n",
    "        df.loc[df[\"link\"] == link, \"date\"] = date_link\n",
    "    except requests.exceptions.RequestException as e:\n",
    "        print(f\"Error accessing {link}: {e}\")\n",
    "\n",
    "df"
   ]
  },
  {
   "cell_type": "markdown",
   "id": "9deea85d",
   "metadata": {},
   "source": [
    "We want to strip the last 4 characters of each string in the 'date' column to get a column with just the year of each speech. Below we check every row to make sure there would be no inconsistencies with this method"
   ]
  },
  {
   "cell_type": "code",
   "execution_count": 60,
   "id": "b0c28bdb",
   "metadata": {},
   "outputs": [
    {
     "data": {
      "text/plain": [
       "0                            \n",
       "1             october-22-2020\n",
       "2           september-29-2020\n",
       "3             october-19-2016\n",
       "4              october-9-2016\n",
       "5              october-4-2016\n",
       "6           september-26-2016\n",
       "7             october-22-2012\n",
       "8             october-16-2012\n",
       "9              october-3-2012\n",
       "10     2008-debate-transcript\n",
       "11     2008-debate-transcript\n",
       "12             october-7-2008\n",
       "13            october-15-2008\n",
       "14            october-13-2004\n",
       "15             october-8-2004\n",
       "16             october-5-2004\n",
       "17          september-30-2004\n",
       "18            october-17-2000\n",
       "19            october-11-2000\n",
       "20             october-5-2000\n",
       "21             october-3-2000\n",
       "22            october-16-1996\n",
       "23             october-9-1996\n",
       "24             october-6-1996\n",
       "25            october-19-1992\n",
       "26            october-15-1992\n",
       "27            october-15-1992\n",
       "28            october-13-1992\n",
       "29            october-11-1992\n",
       "30            october-11-1992\n",
       "31            october-13-1988\n",
       "32             october-5-1988\n",
       "33          september-25-1988\n",
       "34            october-21-1984\n",
       "35            october-11-1984\n",
       "36             october-7-1984\n",
       "37            october-28-1980\n",
       "38          september-21-1980\n",
       "39            october-22-1976\n",
       "40             october-6-1976\n",
       "41          september-23-1976\n",
       "42            october-21-1960\n",
       "43            october-13-1960\n",
       "44             october-7-1960\n",
       "45          september-26-1960\n",
       "46    2000-debate-transcripts\n",
       "47          september-29-2020\n",
       "48            october-22-2020\n",
       "49          september-26-2016\n",
       "Name: date, dtype: object"
      ]
     },
     "execution_count": 60,
     "metadata": {},
     "output_type": "execute_result"
    }
   ],
   "source": [
    "df['date'][:50]"
   ]
  },
  {
   "cell_type": "code",
   "execution_count": 61,
   "id": "f738b0fc",
   "metadata": {},
   "outputs": [
    {
     "data": {
      "text/plain": [
       "50             october-4-2016\n",
       "51             october-9-2016\n",
       "52            october-19-2016\n",
       "53             october-3-2012\n",
       "54            october-16-2012\n",
       "55            october-22-2012\n",
       "56     2008-debate-transcript\n",
       "57     2008-debate-transcript\n",
       "58             october-7-2008\n",
       "59            october-15-2008\n",
       "60            october-13-2004\n",
       "61             october-8-2004\n",
       "62             october-5-2004\n",
       "63          september-30-2004\n",
       "64             october-3-2000\n",
       "65             october-5-2000\n",
       "66            october-11-2000\n",
       "67            october-17-2000\n",
       "68    2000-debate-transcripts\n",
       "69             october-6-1996\n",
       "70             october-9-1996\n",
       "71            october-16-1996\n",
       "72            october-11-1992\n",
       "73            october-11-1992\n",
       "74            october-13-1992\n",
       "75            october-15-1992\n",
       "76            october-15-1992\n",
       "77            october-19-1992\n",
       "78          september-25-1988\n",
       "79             october-5-1988\n",
       "80            october-13-1988\n",
       "81             october-7-1984\n",
       "82            october-11-1984\n",
       "83            october-21-1984\n",
       "84          september-21-1980\n",
       "85            october-28-1980\n",
       "86          september-23-1976\n",
       "87             october-6-1976\n",
       "88            october-22-1976\n",
       "89          september-26-1960\n",
       "90             october-7-1960\n",
       "91            october-13-1960\n",
       "92            october-21-1960\n",
       "Name: date, dtype: object"
      ]
     },
     "execution_count": 61,
     "metadata": {},
     "output_type": "execute_result"
    }
   ],
   "source": [
    "df['date'][50:100]"
   ]
  },
  {
   "cell_type": "markdown",
   "id": "5bda8d5f",
   "metadata": {},
   "source": [
    "From this exploration we can see that there are 6 rows that do not properly end in the year, so we cannot split the last four characters from them. Instead, we will .loc into those cells and enter their years by hand."
   ]
  },
  {
   "cell_type": "code",
   "execution_count": 62,
   "id": "4e3ddebb",
   "metadata": {},
   "outputs": [],
   "source": [
    "df['date'][10] = '2008'\n",
    "df['date'][11] = '2008'\n",
    "df['date'][46] = '2000'\n",
    "df['date'][56] = '2008'\n",
    "df['date'][57] = '2008'\n",
    "df['date'][68] = '2000'"
   ]
  },
  {
   "cell_type": "markdown",
   "id": "2375ba0d",
   "metadata": {},
   "source": [
    "Now we'll take a look at one row in the 'text' column to see how it is structured. This will inform how we isolate the candidates' speech and remove all other speakers' speech."
   ]
  },
  {
   "cell_type": "code",
   "execution_count": 63,
   "id": "c6e012c0",
   "metadata": {
    "scrolled": true
   },
   "outputs": [
    {
     "data": {
      "text/plain": [
       "'Vice Presidential Debate at Longwood University in Farmville, Virginia October 4, 2016 PARTICIPANTS: Senator Tim Kaine (D-VA) and Governor Mike Pence (R-IN) MODERATOR: Elaine Quijano (CBS News) QUIJANO: Good evening. From Longwood University in Farmville, Virginia, and welcome to the first, and only, vice presidential debate of 2016, sponsored by the Commission on Presidential Debates. I’m Elaine Quijano, anchor at CBSN, and correspondent for CBS News. It’s an honor to moderate this debate between Senator Tim Kaine and Governor Mike Pence. Both are longtime public servants who are also proud fathers of sons serving in the U.S. Marines. The campaigns have agreed to the rules of this 90-minute debate. There will be nine different segments covering domestic and foreign policy issues. Each segment will begin with a question to both candidates who will each have two minutes to answer. Then I’ll ask follow-up questions to facilitate a discussion between the candidates. By coin toss, it’s been determined that Senator Kaine will be first to answer the opening question. We have an enthusiastic audience tonight. They’ve agreed to only express that enthusiasm once at the end of the debate and right now as we welcome Governor Mike Pence and Senator Tim Kaine. [applause] Gentlemen, welcome. It truly is a privilege to be with both of you tonight. I’d like to start with the topic of presidential leadership. Twenty-eight years ago tomorrow night, Lloyd Bentsen said the vice presidential debate was not about the qualifications for the vice presidency, but about how if tragedy should occur, the vice president has to step in without any margin for error, without time for preparation, to take over the responsibility for the biggest job in the world. What about your qualities, your skills, and your temperament equip you to step into that role at a moment’s notice? Senator Kaine? KAINE: Elaine, thank you for being here tonight, and, Governor Pence, welcome. It is so great to be back at Longwood University in Farmville, Virginia. This is a very special place. Sixty-five years ago, a young, courageous woman, Barbara Johns, led a walkout of her high school, Moton High School. She made history by protesting school segregation. She believed our nation was stronger together. And that walkout led to the Brown v. Board of Education decision that moved us down the path toward equality. I am so proud to be running with another strong, history-making woman, Hillary Clinton, to be president of the United States. I’m proud because her vision of stronger together, building an economy that works for all, not just those at the top, being safe in the world not only with a strong military, but also strong alliances to battle terrorism and climate change, and also to build a community of respect, just like Barbara Johns tried to do 65 years ago. That’s why I’m so proud to be her running mate. Hillary told me why she asked me to be her running mate. She said the test of a Clinton administration will not be the signing of a bill or the passage of a bill. It’ll be whether we can make somebody’s life better, whether we can make a classroom better learning environment for schoolkids or teachers, whether we can make a safer — it’s going to be about results. And she said to me, you’ve been a missionary and a civil rights lawyer. You’ve been a city councilman and mayor. You’ve been a lieutenant governor and governor and now a U.S. senator. I think you will help me figure out how to govern this nation so that we always keep in mind that the success of the administration is the difference we make in people’s lives. And that’s what I bring to the ticket, that experience having served at all levels of government. But my primary role is to be Hillary Clinton’s right-hand person and strong supporter as she puts together the most historic administration possible. And I relish that role. I’m so proud of her. I’ll just say this: We trust Hillary Clinton, my wife and I, and we trust her with the most important thing in our life. We have a son deployed overseas in the Marine Corps right now. We trust Hillary Clinton as president and commander-in-chief, but the thought of Donald Trump as commander-in-chief scares us to death. QUIJANO: Governor Pence? PENCE: Well, first off, thank you, Elaine, and thank you to — thank you to Norwood University for their wonderful hospitality and the Commission on Presidential Debates. It’s deeply humbling for me to be here, to be surrounded by my — my wonderful family. And, Senator Kaine, it’s an honor to be here with you, as well. And I just — I also want to say — I want to say thanks to everyone that’s looking in tonight, who understands what an enormously important time this is in the life of our nation. For the last seven-and-a-half years, we’ve seen America’s place in the world weakened. We’ve seen an economy stifled by more taxes, more regulation, a war on coal, and a failing health care reform come to be known as Obamacare, and the American people know that we need to make a change. And so I want to thank all of you for being — being with us tonight. I also want to thank Donald Trump for making that call and inviting us to be a part of this ticket. I have to tell you, I’m a — I’m a small-town boy from a place not too different from Farmville. I grew up with a cornfield in my backyard. My grandfather had immigrated to this country when he was about my son’s age. My mom and dad built a — everything that matters in a small town in Southern Indiana. They built a family and — and a good name and a business. And they raised a family. And I dreamed some day of representing my home town in Washington, D.C., but I — honestly, Elaine, I never imagined — never imagined I’d have the opportunity to be governor of the state that I love, let alone be sitting at a table like this in this kind of a position. So to answer your question, I would say I — I would hope that if — if the responsibility ever fell to me in this role, that I would meet it with the way that I’m going to meet the responsibility should I be elected vice president of the United States. And that’s to bring a lifetime of experience, a lifetime growing up in a small town, a lifetime where I’ve served in the Congress of the United States, where — where I’ve led a state that works in the great state of Indiana, and whatever other responsibilities might follow from this, I — I would hope and, frankly, I would pray to be able to meet that moment with that — that lifetime of experience. QUIJANO: Senator Kaine, on the campaign trail, you praised Secretary Clinton’s character, including her commitment to public service, yet 60 percent of voters don’t think she’s trustworthy. Why do so many people distrust her? Is it because they have questions about her e-mails and the Clinton Foundation? KAINE: Elaine, let me tell you why I trust Hillary Clinton. Here’s what people should look at as they look at a public servant. Do they have a passion in their life that showed up before they were in public life? And have they held onto that passion throughout their life, regardless of whether they were in office or not, succeeding or failing? Hillary Clinton has that passion. From a time as a kid in a Methodist youth group in the suburbs of Chicago, she has been focused on serving others with a special focus on empowering families and kids. As a civil rights lawyer in the South, with the Children’s Defense Fund, first lady of Arkansas and this country, senator, secretary of state, it’s always been about putting others first. And that’s a sharp contrast with Donald Trump. Donald Trump always puts himself first. He built a business career, in the words of one of his own campaign staffers, “off the backs of the little guy.” And as a candidate, he started his campaign with a speech where he called Mexicans rapists and criminals, and he has pursued the discredited and really outrageous lie that President Obama wasn’t born in the United States. It is so painful to suggest that we go back to think about these days where an African-American could not be a citizen of the United States. And I can’t imagine how Governor Pence can defend the insult-driven selfish “me first” style of Donald Trump. QUIJANO: Governor Pence, let me ask you, you have said Donald Trump is, quote, “thoughtful, compassionate, and steady.” Yet 67 percent of voters feel he is a risky choice, and 65 percent feel he does not have the right kind of temperament to be president. Why do so many Americans think Mr. Trump is simply too erratic? PENCE: Well, let me — let me say first and foremost that, Senator, you and Hillary Clinton would know a lot about an insult-driven campaign. It really is remarkable. At a time when literally, in the wake of Hillary Clinton’s tenure as secretary of state, where she was the architect of the Obama administration’s foreign policy, we see entire portions of the world, particularly the wider Middle East, literally spinning out of control. I mean, the situation we’re watching hour by hour in Syria today is the result of the failed foreign policy and the weak foreign policy that Hillary Clinton helped lead in this administration and create. The newly emboldened — the aggression of Russia, whether it was in Ukraine or now their heavy-handed approach… KAINE: You guys love Russia. You both have said… PENCE: … their heavy-handed approach. KAINE: You both have said — you both have said Vladimir Putin is a better leader than the president. PENCE: Well…[crosstalk] QUIJANO: Well, we’re going to get to Russia in just a moment. But I do want to get back to the question at… PENCE: But in the midst — Elaine, thank you. Thank you. Thank you, Senator, I’ll… KAINE: These guys have praised Vladimir Putin as a great leader. How can that…[crosstalk] QUIJANO: Yes, and we will get to that, Senator. We do have that coming up here. But in the meantime, the questions… PENCE: Well, Senator, I must have hit a…[crosstalk]…I must have hit a nerve here. QUIJANO: Why the disconnect? PENCE: Because at a time of great challenge in the life of this nation, where we’ve weakened America’s place in the world, stifled America’s economy, the campaign of Hillary Clinton and Tim Kaine has been an avalanche of insults. Look, to get to your question about trustworthiness, Donald Trump has built a business through hard times and through good times. He’s brought an extraordinary business acumen. He’s employed tens of thousands of people in this country. KAINE: And paid few taxes and lost a billion a year. [crosstalk] QUIJANO: And why the disconnect with your running mate? PENCE: But there’s a — there’s a reason why people question the trustworthiness of Hillary Clinton. And that’s because they’re paying attention. I mean, the reality is, when she was secretary of state, Senator, come on. She had a Clinton Foundation accepting contributions from foreign governments. KAINE: You are Donald Trump’s apprentice. Let me talk about this…[crosstalk] PENCE: Senator, I think I’m still on my time. KAINE: Well, I think — isn’t this a discussion? QUIJANO: This is our open discussion. KAINE: Yeah, let’s talk about the state of…[crosstalk] PENCE: Well, let me interrupt — let me interrupt you and finish my sentence, if I can. KAINE: Finish your sentence. PENCE: The Clinton Foundation accepted foreign contributions from foreign governments and foreign donors while she was secretary of state. KAINE: OK, now I can weigh in. Now… PENCE: She had a private server… KAINE: Now, I get to weigh in. Now, let me just say this… PENCE: … that was discovered…[crosstalk] QUIJANO: … Senator, you have an opportunity to respond. PENCE: … keep that pay to play process out of the reach of the public. KAINE: Governor Pence — Governor Pence doesn’t think the world’s going so well and he, you know, is going to say it’s everybody’s fault. PENCE: Do you? KAINE: Let me tell you this. When Hillary Clinton became secretary of state, Governor Pence, do you know that Osama bin Laden was alive? PENCE: Yes. KAINE: Do you know that we had 175,000 troops deployed in the battlefield in Iraq and Afghanistan? Do you know that Iran was racing toward a nuclear weapon and Russia was expanding its stockpile? Under Secretary Clinton’s leadership, she was part of the national team, public safety team that went after and revived the dormant hunt against bin Laden and wiped him off the face of the Earth. She worked to deal with the Russians to reduce their chemical weapons stockpile. She worked a tough negotiation with nations around the world to eliminate the Iranian nuclear weapons program without firing a shot. PENCE: Eliminate the Iranian nuclear weapons program? KAINE: Absolutely, without firing a shot. And instead of 175,000 American troops deployed overseas, we now have 15,000. PENCE: Right and… KAINE: These are very, very good things. PENCE: And Iraq has been overrun by ISIS, because Hillary Clinton failed to renegotiate… KAINE: Well, if you want to put more American troops in Iraq, you can propose that. PENCE: Hillary Clinton — Hillary Clinton — Hillary Clinton failed to renegotiate a status of forces agreement… KAINE: No, that is incorrect. That’s incorrect. PENCE: And so we removed — we removed all of our… QUIJANO: Gentlemen, we’ll get to…[crosstalk] PENCE: … troops from Iraq, and ISIS was able to be conjured up in that vacuum. KAINE: But I’d like to correct… PENCE: … and overrun vast areas of Iraq. KAINE: Governor, President Bush said we would leave Iraq at the end of 2011. And, Elaine, Iraq didn’t want our troops to stay, and they wouldn’t give us the protection for our troops. And guess what? If a nation where our troops are serving does not want us to stay, we’re not going to stay without their protection. PENCE: It was a failure of the secretary of state… QUIJANO: We need to move on to the next topic, gentlemen. KAINE: If Governor Pence wants to put more troops back in Iraq, that’s… QUIJANO: There are a lot of people wondering in this country about the economy. Let’s turn to the issue of the economy. KAINE: OK. QUIJANO: According to the nonpartisan Committee for a Responsible Federal Budget, neither of your economic plans will reduce the growing $19 trillion gross national debt. In fact, your plans would add even more to it. Both of you were governors who balanced state budgets. Are you concerned that adding more to the debt could be disastrous for the country. Governor Pence? PENCE: I think the fact that — that under this past administration of which Hillary Clinton was a part, we’ve almost doubled the national debt is atrocious. I mean, I’m very proud of the fact that — I come from a state that works. The state of Indiana has balanced budgets. We cut taxes, we’ve made record investments in education and in infrastructure, and I still finish my term with $2 billion in the bank. That’s a little bit different than when Senator Kaine was governor here in Virginia. He actually — he actually tried to raise taxes by about $4 billion. He left his state about $2 billion in the hole. In the state of Indiana, we’ve cut unemployment in half; unemployment doubled when he was governor. But I think he’s a very fitting running mate for Hillary Clinton, because in the wake of a season where American families are struggling in this economy under the weight of higher taxes and Obamacare and the war on coal and the stifling avalanche of regulation coming out of this administration, Hillary Clinton and Tim Kaine want more of the same. It really is remarkable that they actually are advocating a trillion dollars in tax increases, which I get that. You tried to raise taxes here in Virginia and were unsuccessful. But a trillion dollars in tax increases, more regulation, more of the same war on coal, and more of Obamacare that now even former President Bill Clinton calls Obamacare a crazy plan. But Hillary Clinton and Tim Kaine want to build on Obamacare. They want to expand it into a single-payer program. And for all the world, Hillary Clinton just thinks Obamacare is a good start. Look, Donald Trump and I have a plan to get this economy moving again just the way that it worked in the 1980s, just the way it worked in the 1960s, and that is by lowering taxes across the board for working families, small businesses and family farms, ending the war on coal that is hurting jobs and hurting this economy even here in Virginia, repealing Obamacare lock, stock, and barrel, and repealing all of the executive orders that Barack Obama has signed that are stifling economic growth in this economy. We can get America moving again. Put on top of that the kind of trade deals that’ll put the American worker first, and you’ve got a prescription for real growth. And when you get the economy growing, Elaine, that’s when you can deal with the national debt. When we get back to 3.5 percent to 4 percent growth with Donald Trump’s plan will do, then we’re going to have the resources to meet our nation’s needs at home and abroad, and we’re going to have the ability to bring down the national debt. QUIJANO: Senator Kaine? KAINE: Elaine, on the economy, there’s a fundamental choice for the American electorate. Do you want a “you’re hired” president in Hillary Clinton or do you want a “you’re fired” president in Donald Trump? I think that’s not such a hard choice. Hillary and I have a plan that’s on the table that’s a “you’re hired” plan. Five components. First thing we do is we invest in manufacturing, infrastructure, and research in the clean energy jobs of tomorrow. Second thing is we invest in our workforce, from pre-K education to great teachers to debt-free college and tuition-free college for families that make less than $125,000 a year. Third, we promote fairness by raising the minimum wage, so you can’t work full-time and be under the poverty level, and by paying women equal pay for equal work. Fourth, we promote small business growth, just as we’ve done in Virginia, to make it easier to start and grow small businesses. Hillary and I each grew up in small-business families. My dad, who ran an iron working and welding shop, is here tonight. And, fifth, we have a tax plan that targets tax relief to middle- class individuals and small businesses and asks those at the very top who’ve benefited as we’ve come out of recession to pay more. The Trump plan is a different plan. It’s a “you’re fired” plan. And there’s two key elements to it. First, Donald Trump said wages are too high. And both Donald Trump and Mike Pence think we ought to eliminate the federal minimum wage. Mike Pence, when he was in Congress, voted against raising the minimum wage above $5.15. And he has been a one-man bulwark against minimum wage increases in Indiana. The second component of the plan is massive tax breaks for the very top, trillions of dollars of tax breaks for people just like Donald Trump. The problem with this, Elaine, is that’s exactly what we did 10 years ago and it put the economy into the deepest recession — the deepest recession since the 1930s. Independent analysts say the Clinton plan would grow the economy by 10.5 million jobs. The Trump plan would cost 3.5 million jobs. And Donald Trump — why would he do this? Because his tax plan basically helps him. And if he ever met his promise and he gave his tax returns to the American public like he said he would, we would see just how much his economic plan is really a Trump-first plan. QUIJANO: On that point, Governor Pence, recently the New York Times released part of Mr. Trump’s 1995 tax return and reported that he could have avoided paying federal income taxes for years. Yesterday, Mr. Trump said he brilliantly used the laws to pay as little tax as legally possible. Does that seem fair to you? PENCE: Well, first, let me say, I appreciated the “you’re hired,” “you’re fired” thing, Senator. You use that a whole lot. And I think your running mate used a lot of pre-done lines. Look, what — what you all just heard out there is more taxes, $2 trillion in more spending, more deficits, more debt, more government. And if you think that’s all working, then you look at the other side of the table. I mean, the truth of the matter is, the policies of this administration, which Hillary Clinton and Senator Kaine want to continue, have run this economy into a ditch. We’re in the… KAINE: Fifteen million new jobs? PENCE: … slowest economic recovery since the Great Depression. KAINE: Fifteen million new jobs? QUIJANO: Governor…[crosstalk] PENCE: There are millions more people living in poverty today than the day that Barack Obama with Hillary Clinton at his side… KAINE: And the poverty level and the median income… PENCE: … stepped into the Oval Office. KAINE: … improved dramatically between 2014 and 2015. PENCE: You — honestly, Senator, you can roll out the numbers and the sunny side, but I got to tell you, people in Scranton know different. People in Fort Wayne, Indiana, know different. I mean, this economy is struggling. The answer to this economy is not more taxes. KAINE: But it’s not the giveaway tax relief to the folks at the top. PENCE: It’s not more spending…[crosstalk] KAINE: I am interested to hear whether he’ll defend his running mate’s not releasing taxes and not paying taxes. PENCE: Absolutely I will. QUIJANO: Governor, with all due respect, the question was about whether it seems fair to you that Mr. Trump said he brilliantly used the laws to pay as little tax as legally possible. PENCE: Well, this is probably the difference between Donald Trump and Hillary Clinton and Senator Kaine. And, I mean, Hillary Clinton and Senator Kaine — God bless you for it, career public servants, that’s great — Donald Trump is a businessman, not a career politician. He actually built a business. Those tax returns that were — that came out publicly this week show that he faced some pretty tough times 20 years ago. But like virtually every other business, including the New York Times not too long ago, he used what’s called net operating loss. We have a tax code, Senator, that actually is designed to encourage entrepreneurship in this country. KAINE: But why won’t he release his tax returns? PENCE: Well, we’re answering the question about — about a business thing, is he… KAINE: I do want to come back to that, but… PENCE: His tax returns — his tax returns showed he went through a very difficult time, but he used the tax code just the way it’s supposed to be used. And he did it brilliantly. KAINE: How do you know that? You haven’t seen his tax returns. PENCE: He created a runway — because he’s created a business that’s worth billions of dollars today. KAINE: How do you know that? PENCE: And with regard to paying taxes, this whole riff about not paying taxes and people saying he didn’t pay taxes for years, Donald Trump has created tens of thousands of jobs. And he’s paid payroll taxes, sales taxes, property taxes… KAINE: Elaine, let me talk about something. QUIJANO: Senator, I’m going to give you about 30 seconds to respond, and I have question on Social Security for you. KAINE: OK. PENCE: The only issue on taxes — Hillary Clinton is going to raise taxes, and Donald Trump and I are going to cut them. KAINE: Donald Trump started this campaign in 2014 and he said, “If I run for president, I will absolutely release my taxes.” He’s broken his first… PENCE: And he will. KAINE: He’s broken his first promise. Second, he stood on the stage… PENCE: He hasn’t broken his promise. He said he’s… KAINE: He stood on the stage last week and when Hillary said, you haven’t been paying taxes, he said, “That makes me smart.” So it’s smart not to pay for our military? It’s smart not to pay for veterans? It’s smart not to pay for teachers? And I guess all of us who do pay for those things, I guess we’re stupid. And the last thing I’ll say is this… PENCE: Senator, do you take all the deductions that you’re entitled to? KAINE: The last thing — the last thing I want to ask Governor Pence is… PENCE: I do. KAINE: Governor Pence had to give Donald Trump his tax returns to show he was qualified to be vice president. Donald Trump must give the American public his tax returns to show that he’s qualified to be president. And he’s breaking his promise. PENCE: Elaine, I have to respond to this. QUIJANO: You get very little time, 20 seconds. PENCE: I’ll be — I’ll be very respectful. QUIJANO: Governor? PENCE: Look, Donald Trump has filed over 100 pages of financial disclosure, which is what the law requires. KAINE: But he said he would release his tax returns. QUIJANO: All right, Gentlemen… PENCE: The American people can review that. And he’s going — Senator, he’s going to release his tax returns when the audit is over… QUIJANO: … I need to ask you about Social Security… KAINE: Richard Nixon released tax returns when he was under audit. PENCE: They’re going to raise your taxes. We’re going to cut your taxes. QUIJANO: Gentlemen… KAINE: If you can’t meet Nixon’s standard… QUIJANO: The people at home cannot understand either one of you when you speak over each other. I would please ask you to wait until it is that the other is finished. KAINE: All right. We’re having fun up here. QUIJANO: Senator Kaine, on the issue of Social Security, in 18 years, when the Social Security Trust Funds run out of money, you’ll be 76. The Committee for a Responsible Federal Budget estimates your benefits could be cut by as much as $7,500 per year. What would your administration do to prevent this cut? KAINE: First, we’re going to protect Social Security, which is one of the greatest programs that the American government has ever done. It happened at a time when you would work your whole life, your whole life, raising your kids, working, being a Little League coach or a Sunday school teacher, and then you would retire into poverty. And Social Security has enabled people to retire with dignity and overwhelmingly not be in poverty. We have to keep it solvent. And we will keep it solvent. And we’ll look for strategies like adjusting the payroll tax cap upward in order to do that. Here’s what Hillary and I will not do. And I want to make this very plain. We will never, ever engage in a risky scheme to privatize Social Security. Donald Trump wrote a book and he said Social Security is a Ponzi scheme and privatization would be good for all of us. And when Congressman Pence was in Congress, he was the chief cheerleader for the privatization of Social Security. Even after President Bush stopped pushing for it, Congressman Pence kept pushing for it. We’re going to stand up against efforts to privatize Social Security. And we’ll look for ways to keep it solvent going forward, focusing primarily on the payroll tax cap. QUIJANO: Governor Pence, I’ll give you an opportunity to respond. PENCE: Well, thanks, Elaine. There they go again. OK… KAINE: Go read — go read the book. PENCE: All Donald Trump — all Donald Trump and I have said about Social Security is we’re going to meet our obligations to our seniors. That’s it. KAINE: Go read the book. PENCE: We’ve said we’re going to meet the obligations of Medicare. That’s what this campaign is really about, Senator. And I get, this is — this is the old scare tactic that they roll out… KAINE: But — but you have a voting record, Governor. PENCE: And I get all of that. I just, look… KAINE: I… PENCE: There’s a question that you asked a little bit earlier that I want to go back to. KAINE: I can’t believe that you won’t defend your own voting record. PENCE: I have to go back to. QUIJANO: We… PENCE: Well, look, I — you’re running with Hillary Clinton, who wants to raise taxes by $1 trillion, increase spending by $2 trillion, and you say you’re going to keep the promises of Social Security. Donald Trump and I are going to cut taxes. We’re going to — we’re going to — we’re going to… KAINE: You’re not going to cut taxes. You’re going to raise taxes on the middle class. PENCE: … reform government programs so we can meet the obligations of Social Security and Medicare. QUIJANO: All right. PENCE: Stay on the path that your party has us on, we’re going to be in a — in a mountain range of debt. And we’re going to face hard choices and…[crosstalk] Gentleman, I want to move on now. KAINE: You did ask this question about debt, and the debt explosion on the Trump plan is much, much bigger than anything on the Clinton side. QUIJANO: All right. Let me move on now… PENCE: Three hundred and five economists said your plan is bad for the economy. QUIJANO: … to the issue of law enforcement and race relations. Law enforcement and race relations. After the Dallas police shooting, Police Chief David Brown said, quote, “We’re asking cops to do too much in this country. Every societal failure we put it off on the cops to solve. Not enough mental health funding, not enough drug addiction funding, schools fail, let’s give it to the cops.” Do we ask too much of police officers in this country? And how would you specifically address the chief’s concerns? Senator Kaine? KAINE: Elaine, I think that’s a very fair comment. I think we put a lot on police shoulders. And this is something I got a lot of scar tissue and experience on. I was a city councilman and mayor in Richmond. And when I came in, we had one of the highest homicide rates in the United States. We fought very, very hard over the course of my time in local office with our police department, and we reduced our homicide rate nearly in half. And then when I was governor of Virginia, we worked hard, too. And we did something we had really wanted to do. For the first time ever, we cracked the top 10, 10 safest states, because we worked together. Here’s what I learned as a mayor and a governor. The way you make communities safer and the way you make police safer is through community policing. You build the bonds between the community and the police force, build bonds of understanding, and then when people feel comfortable in their communities, that gap between the police and the communities they serve narrows. And when that gap narrows, it’s safer for the communities and it’s safer for the police. That model still works across our country, but there are some other models that don’t work, an overly aggressive, more militarized model. Donald Trump recently said we need to do more stop-and-frisk around the country. That would be a big mistake because it polarizes the relationship between the police and the community. So here’s what we’ll do. We’ll focus on community policing. We will focus on — and Hillary Clinton has rolled out a really comprehensive mental health reform package that she worked on with law enforcement professionals, and we will also fight the scourge of gun violence in the United States. I’m a gun-owner. I’m a strong Second Amendment supporter. But I’ve got a lot of scar tissue, because when I was governor of Virginia, there was a horrible shooting at Virginia Tech, and we learned that through that painful situation that gaps in the background record check system should have been closed and it could have prevented that crime, and so we’re going to work to do things like close background record checks. And if we do, we won’t have the tragedies that we did. One of those killed at Virginia Tech was a guy named Liviu Librescu. He was a 70-plus-year-old Romanian Holocaust survivor. He had survived the Holocaust. Then he survived the Soviet Union takeover of his country. But then he was a visiting professor at Virginia Tech, and he couldn’t survive the scourge of gun violence. We can support the Second Amendment and do things like background record checks and make us safer, and that will make police safer, too. QUIJANO: Governor Pence? PENCE: You know, my uncle was a cop, a career cop, on the beat in downtown Chicago. He was my hero when I was growing up. And we’d go up to visit my dad’s family in Chicago. My three brothers and I would marvel at my uncle when he would come out in his uniform, sidearm at his side. Police officers are the best of us. And the men and women, white, African-American, Asian, Latino, Hispanic, they put their lives on the line every single day. And let me say, at the risk of agreeing with you, community policing is a great idea. It’s worked in the Hoosier state. And we fully support that. Donald Trump and I are going to make sure that law enforcement have the resources and the tools to be able to really restore law and order to the cities and communities in this nation. It’s probably — probably why the 330,000 members of the Fraternal Order of Police endorsed Donald Trump as the next president of the United States of America, because they see his commitment to them. They see his commitment to law and order. But they also — they also hear the bad mouthing, the bad mouthing that comes from people that seize upon tragedy in the wake of police action shootings as — as a reason to — to use a broad brush to accuse law enforcement of — of implicit bias or institutional racism. And that really has got to stop. I mean, when an African-American police officer in Charlotte named Brentley Vinson, an all-star football player who went to Liberty University here in the state, came home, followed his dad into law enforcement, joined the force in Charlotte, joined the force in Charlotte in 2014, was involved in a police action shooting that claimed the life of Keith — Keith Lamont Scott, it was a tragedy. I mean, I — we — we mourn with those who mourn. We — we grieve with those who grieve. And we’re saddened at the loss of life. But Hillary Clinton actually referred to that moment as an example of implicit bias in the police force, where — where she used — when she was asked in the debate a week ago whether there was implicit bias in law enforcement, her only answer was that there’s implicit bias in everyone in the United States. I just think… KAINE: Can I — can I explain… PENCE: … I just think what we ought to do is we ought to stop seizing on these moments of tragedy. We ought to assure the public that we’ll have a full and complete and transparent investigation whenever there’s a loss of life because of police action. But, Senator, please, you know, enough of this seeking every opportunity to demean law enforcement broadly by making the accusation of implicit bias every time tragedy occurs. KAINE: Elaine — Elaine, people shouldn’t be afraid to bring up issues of bias in law enforcement. And if you’re afraid to have… PENCE: I’m not afraid to bring that up. KAINE: And if — if you’re afraid to have the discussion, you’ll never solve it. And so here’s — here’s an example, heartbreaking. We would agree this is a heartbreaking example. The guy, Philando Castile, who was killed in St. Paul, he was a worker, a valued worker in a local school. And he was killed for no apparent reason in an incident that will be discussed and will be investigated. But when folks went and explored this situation, what they found is that Philando Castile, who was a — they called him Mr. Rogers with Dreadlocks in the school that he worked. The kids loved him. But he had been stopped by police 40 or 50 times before that fatal incident. And if you look at sentencing in this country, African-Americans and Latinos get sentenced for the same crimes at very different rates. PENCE: We need criminal justice reform. KAINE: Well, we do. PENCE: Indiana has passed criminal justice reform. KAINE: But I just want to say, those who say that we should not… PENCE: But that’s not what you’re talking about. KAINE: … we should not be able to bring up and talk about bias in the system, we’ll never solve the problem… QUIJANO: Governor Pence…[crosstalk]…Governor Pence… PENCE: Senator, when African-American police officers involved in a police action shooting involving an African-American, why would Hillary Clinton accuse that African-American police officer of implicit bias? KAINE: Well, I guess I can’t believe you are defending the position that there is no bias and it’s a topic we don’t even…[crosstalk] QUIJANO: Governor Pence, I have a question on that point. PENCE: I did not make that statement. I… QUIJANO: Your fellow Republican, Governor Pence, Senator Tim Scott, who is African-American, recently spoke on the Senate floor. He said he was stopped seven times by law enforcement in one year. KAINE: A U.S. senator. QUIJANO: He said, “I have felt the anger, the frustration, the sadness, and the humiliation that comes with feeling like you’re being targeted for nothing more than being just yourself.” What would you say to Senator Scott about his experiences? PENCE: Well, I have the deepest respect for Senator Scott, and he’s a close friend. And what I would say is that we — we need to adopt criminal justice reform nationally. I — I signed criminal justice reform in the state of Indiana, Senator, and we’re very proud of it. I worked when I was in Congress on the second chance act. We have got to do a better job recognizing and correcting the errors in the system that do reflect on institutional bias in criminal justice. But what — what — what Donald Trump and I are saying is let’s not have the reflex of assuming the worst of men and women in law enforcement. We truly do believe that law enforcement is not a force for racism or division in our country… KAINE: Elaine, can I… QUIJANO: So what would you say to Senator Scott, Governor? PENCE: Law enforcement in this country is a force for good. They are the — they truly are people that put their lives on the line every single day. But I would — I would suggest to you, what we need to do is assert a stronger leadership at the national level to support law enforcement. You just heard Senator Kaine reject stop-and-frisk. Well, I would suggest to you that the families that live in our inner cities that are besieged by crime… KAINE: Elaine, let me — let me… QUIJANO: Governor, the question is about Senator Scott. What would — what would you tell Senator Scott? KAINE: Elaine, if I could — if I could jump in. I’ve heard Senator Scott make that eloquent plea. And look, criminal justice is about respecting the law and being respected by the law. So there is a fundamental respect issue here. And I just want to talk about the tone that’s set from the top. Donald Trump during his campaign has called Mexicans rapists and criminals. He’s called women slobs, pigs, dogs, disgusting. I don’t like saying that in front of my wife and my mother. He attacked an Indiana-born federal judge and said he was unqualified to hear a federal lawsuit because his parents were Mexican. He went after John McCain, a POW, and said he wasn’t a hero because he’d been captured. He said African-Americans are living in Hell. And he perpetrated this outrageous and bigoted lie that President Obama is not a U.S. citizen. If you want to have a society where people are respected and respect laws, you can’t have somebody at the top who demeans every group that he talks about. And I just — again, I cannot believe that Governor Pence will defend the insult-driven campaign that Donald Trump has run. QUIJANO: All right. I want to turn to our next segment now, immigration. Your running mates have both said that undocumented immigrants who have committed violent crimes should be deported. What would you tell the millions of undocumented immigrants who have not committed violent crimes? Governor Pence? PENCE: Donald Trump’s laid out a plan to end illegal immigration once and for all in this country. We’ve been talking it to death for 20 years. Hillary Clinton and Tim Kaine want to continue the policies of open borders, amnesty, catch and release, sanctuary cities, all the things that are driving — that are driving wages down in this country, Senator, and also too often with criminal aliens in the country, it’s bringing heartbreak. But I — Donald Trump has a plan that he laid out in Arizona, that will deal systemically with illegal immigration, beginning with border security, internal enforcement. It’s probably why for the first time in the history of Immigration and Customs Enforcement their union actually endorsed Donald Trump as the next president of the United States, because they know they need help to enforce the laws of this country. And Donald Trump has laid out a priority to remove criminal aliens, remove people that have overstayed their visas. And — and once we have accomplished all of that, which will — which will strengthen our economy, strengthen the rule of law in the country and make our communities safer once the criminal aliens are out, then we’ll deal with those that remain. But I have to tell you, I just — I was listening to the avalanche of insults coming out of Senator Kaine a minute ago. KAINE: These were Donald’s — hold on a second, Governor. [crosstalk] PENCE: It’s my time, Senator. QUIJANO: It is, in fact, the governor’s time. KAINE: I apologize. It’s your two minutes. I apologize. PENCE: Thanks. I forgive you. He says ours is an insult-driven campaign. Did you all just hear that? Ours is an insult-driven campaign? I mean, to be honest with you, if Donald Trump had said all of the things that you’ve said he said in the way you said he said them, he still wouldn’t have a fraction of the insults that Hillary Clinton leveled when she said that half of our supporters were a basket of deplorables. It’s — she said they were irredeemable, they were not American. I mean, it’s extraordinary. And then she labeled one after another “ism” on millions of Americans who believe that we can have a stronger America at home and abroad, who believe we can get this economy moving again, who believe that we can end illegal immigration once and for all. So, Senator, this — this insult-driven campaign, I mean… QUIJANO: Governor… PENCE: That’s small potatoes compared to Hillary Clinton… QUIJANO: Senator Kaine? PENCE: …. calling half of Donald Trump’s supporters a basket of deplorables. KAINE: Hillary Clinton said something on the campaign trail, and the very next day, she said, you know what, I shouldn’t have said that. PENCE: She said she shouldn’t have said half. QUIJANO: Governor, this is Senator Kaine’s two minutes, please. KAINE: Yeah, that’s right, so now we’re even. PENCE: Yeah. [laughter] KAINE: Look for Donald Trump apologizing to John McCain for saying he wasn’t a hero… PENCE: Oh… KAINE: … to Donald Trump apologizing for calling women slobs, pigs, dogs, disgusting. PENCE: She apologized for saying “half.” QUIJANO: Governor. It is his two minutes, please. KAINE: Did Donald Trump apologize for taking after somebody in a Twitter war and making fun of her weight? Did he apologize for saying African-Americans are living in Hell? Did he apologize for saying President Obama was not even a citizen of the United States? You will look in vain to see Donald Trump ever taking responsibility for anybody and apologizing. Immigration. There’s two plans on the table. Hillary and I believe in comprehensive immigration reform. Donald Trump believes in deportation nation. You’ve got to pick your choice. Hillary and I want a bipartisan reform that will put keeping families together as the top goal, second, that will help focus enforcement efforts on those who are violent, third, that will do more border control, and, fourth, that will provide a path to citizenship for those who work hard, pay taxes, play by the rules, and take criminal background record checks. That’s our proposal. Donald Trump proposes to deport 16 million people, 11 million who are here without documents. And both Donald Trump and Mike Pence want to get rid of birthright citizenship. So if you’re born here, but your parents don’t have documents, they want to eliminate that. That’s another 4.5 million people. These guys — and Donald Trump has said it — deportation force. They want to go house to house, school to school, business to business, and kick out 16 million people. And I cannot believe… PENCE: That’s nonsense. That’s nonsense. KAINE: I cannot believe that Governor Pence would sit here and defend his running mate’s claim that we should create a deportation force to — so that they’ll all be gone. PENCE: Senator, we have a deportation force. It’s called Immigrations and Customs Enforcement. And the union for Immigrations and Customs Enforcement for the first time in their history endorsed Donald Trump to be the next president of the United States of America. KAINE: So you like the 16 million deportations? PENCE: Senator, that’s — that’s nonsense. Look, what you just heard is they have a plan for open borders, amnesty. That’s…[crosstalk] KAINE: Our plan is like Ronald Reagan’s plan from 1986. PENCE: They call it comprehensive immigration reform — they call it comprehensive immigration reform on Capitol Hill. We all know the routine. It’s amnesty. And you heard one of the last things he mentioned was border security. That’s how Washington always plays it. KAINE: No, I… PENCE: They always say we’re going to do this, we’re going to do that, we’ll eventually get the border…[crosstalk] KAINE: … border security three years ago, and Governor Pence was against it. QUIJANO: Governor, Mr. Trump has said… PENCE: Ronald Reagan said a nation without borders is not a nation. Donald Trump is committed to restoring the borders of this nation and securing our nation, enforcing our laws. QUIJANO: So, Governor, how would these millions of undocumented immigrants leave? Would they be forcibly removed? PENCE: Well, I think Donald Trump laid out a series of priorities that doesn’t ends with border security. It begins with border security. And after we secure the border, not only build a wall, but beneath the ground and in the air, we do internal enforcement. But he said the focus has to be on criminal aliens. We just — we just had a conversation about law enforcement. We just had a conversation about the — the violence that’s besetting our cities. The reality is that there’s heartbreak and tragedy that has struck American families because people that came into this country illegally are now involved in criminal enterprise and activity. And we don’t have the resources or the will to deport them systematically.  Donald Trump has said we’re going to move those people out, people who’ve overstayed their visas. We’re going to enforce the law of this country. We’re going to strengthen Immigrations and Customs Enforcements with more resources and more personnel to be able to do that. And then Donald Trump has made it clear, once we’ve done all of those things, that we’re going to reform the immigration system that we have… KAINE: I just have to correct Governor Pence…. PENCE: … where people can come into this country. KAINE: I have to… PENCE: That’s the order that you should do it. Border security, removing criminal aliens, upholding with law, and then — but then, Senator, I’ll work you when you go back to the Senate, I promise you, we’ll work with you to reform the immigration system. KAINE: I look forward to working together in whatever capacities we serve in. But I just want to make it very, very clear that he’s trying to fuzz up what Donald Trump has said. When Donald Trump spoke in Phoenix, he looked the audience in the eye and he said, no, we’re building a wall, and we’re deporting everybody. He said, quote, “They will all be gone.” “They will all be gone.” And this is one of these ones where you can just go to the tape on it and see what Donald Trump has said. And to add… PENCE: He’s talking about criminal aliens. KAINE: And to add to it, and to add to it, and to add to it, we are a nation of immigrants. Mike Pence and I both are descended from immigrant families. Some things, you know, maybe weren’t said so great about the Irish when they came, but we’ve done well by absorbing immigrants, and it’s made our nation stronger. When Donald Trump says Mexicans are rapists and criminals, Mexican immigrants, when Donald Trump says about your judge, a Hoosier judge, he said that Judge Curiel was unqualified to hear a case because his parents were Mexican, I can’t imagine how you could defend that. QUIJANO: Gentleman, I’d like to shift now to the threat of terrorism. Do you think the world today is a safer or more dangerous place than it was eight years ago? Has the terrorist threat increased or decreased? Senator Kaine? KAINE: The terrorist threat has decreased in some ways, because bin Laden is dead. The terrorist threat has decreased in some ways because an Iranian nuclear weapons program has been stopped. The terrorist threat to United States troops has been decreased in some ways because there’s not 175,000 in a dangerous part of the world. There’s only 15,000. But there are other parts of the world that are challenging. Let me tell you this: To beat terrorism, there’s only one candidate who can do it, and it’s Hillary Clinton. Remember, Hillary Clinton was the senator from New York on 9/11. She was there at the World Trade Center when they were still searching for victims and survivors. That’s seared onto her, the need to beat terrorism. And she’s got a plan to do it. She was part of the national security team that wiped out bin Laden. Here’s her plan to defeat ISIL. First, we’ve got to keep taking out their leaders on the battlefield. She was part of the team that got bin Laden, and she’ll lead the team that will get Abu Bakr al-Baghdadi, the head of ISIS. Second, we’ve got to disrupt financing networks, third, disrupt their ability to recruit on the Internet, in their safe havens. But, fourth, we also have to work with allies to share and surge intelligence. That’s the Hillary Clinton plan; she’s got the experience to do it. Donald Trump. Donald Trump can’t start a Twitter war with Miss Universe without shooting himself in the foot. Donald Trump doesn’t have a plan. He said, “I have a secret plan,” and then he said, “Um, I know more than all the generals about ISIL.” And then he said, “I’m going to call the generals to help me figure out a plan.” And finally he said, “I’m going to fire all the generals.” He doesn’t have a plan. But he does have dangerous ideas. Here’s four. He trash talks the military. The military is a disaster, John McCain’s no hero, the generals need all to be fired, and I know more than them. He wants to tear up alliances. NATO is obsolete, and we’ll only work together with Israel if they pay “big league.” Third, he loves dictators. He’s got kind of a personal Mount Rushmore, Vladimir Putin, Kim Jong-un, Moammar Gadhafi… PENCE: Oh, please. Come on. KAINE: … and Saddam Hussein. And last and most dangerously, Donald Trump believes — Donald Trump believes that the world will be safer if more nations have nuclear weapons. He’s said Saudi Arabia should get them, Japan should get them, Korea should get them. And when he was confronted with this, and told, wait a minute, terrorists could get those, proliferation could lead to nuclear war, here’s what Donald Trump said, and I quote: “Go ahead, folks, enjoy yourselves.” I’d love to hear Governor Pence tell me what’s so enjoyable or comical about nuclear war. QUIJANO: Governor Pence? PENCE: Did you work on that one a long time? Because that had a lot of really creative lines in it. KAINE: Well, I’m going to see if you can defend any of it. PENCE: Well, look, I can defend — I — I — I can — I can make very clear to the American people, after traveling millions of miles as our secretary of state, after being the architect of the foreign policy of this administration, America is less safe today than it was the day that Barack Obama became president of the United States. It’s absolutely inarguable. We’ve weakened America’s place in the world. It’s been a combination of factors, but mostly it’s been a lack of leadership. I mean, I will give you — and I was in Washington, D.C., on 9/11. I saw the clouds of smoke rise from the Pentagon. KAINE: I was in Virginia where the Pentagon’s…[crosstalk] PENCE: I know you were. We all lived through that day as a nation. It was heartbreaking. And I want to give this president credit for bringing Osama bin Laden to justice. But the truth is, Osama bin Laden led Al Qaida. Our primary threat today is ISIS. And because Hillary Clinton failed to renegotiate a status of forces agreement that would have allowed some American combat troops to remain in Iraq and secure the hard fought gains the American soldier had won by 2009, ISIS was able to be literally conjured up out of the desert, and it’s overrun vast areas that the American soldier had won in Operation Iraqi Freedom. My heart breaks for the likes of Lance Cpl. Scott Zubowski. He fell in Fallujah in 2005. He fought hard through some of the most difficult days in Operation Iraqi Freedom, and he paid the ultimate sacrifice to defend our freedom and secure that nation. And that nation was secured in 2009. But because Hillary Clinton and Barack Obama failed to provide a status of forces agreement and leave sufficient troops in there, we are back at war. The president just ordered more troops on the ground. We are back at war in Iraq. And Scott Zubowski, whose mom would always come to Memorial Day events in Newcastle, Indiana, to see me, and I’d always give her a hug and tell her we’re never going to forget her son and we never will, Scott Zubowski and the sacrifices the American soldier made were squandered in Iraq because this administration created a vacuum in which ISIS was able to grow. And a reference to the Iranian deal, the Iranian deal that Hillary Clinton initiated, $150 billion to the radical mullahs in Iran. KAINE: Stopping a nuclear weapons program without firing a shot? PENCE: You didn’t stop the nuclear weapons program. KAINE: Yes, we did. PENCE: You essentially… KAINE: Even the Israeli military says it stopped. PENCE: … guaranteed that Iran will someday become a nuclear power, because there’s no limitations once the period of time of the treaty comes off. QUIJANO: Governor Pence, Mr. Trump has proposed extreme vetting of immigrants from parts of the world that export terrorism. But that does not address many of the recent terrorist attacks in the United States, such as the Orlando nightclub massacre and the recent bombings in New York and New Jersey. Those were homegrown, committed by U.S. citizens and legal residents. What specific tools would you use to prevent those kinds of attacks? PENCE: Well, I think it’s — I think it’s a great question, Elaine, but it really does begin with us reforming our immigration system and putting the interests, particularly the safety and security of the American people, first. I mean, Donald Trump has called for extreme vetting for people coming into this country so that we don’t bring people into the United States who are hostile to our Bill of Rights freedoms, who are hostile to the American way life. But also, Donald Trump and I are committed to suspending the Syrian refugee program and programs and immigration from areas of the world that have been compromised by terrorism. Hillary Clinton and Tim Kaine want to increase the Syrian refugee program by 500…[crosstalk] KAINE: Elaine, I want to…[crosstalk] QUIJANO: Governor, the question was about homegrown. PENCE: Yeah, and so — but first, you know, let’s make sure we’re putting the safety and security of the American people first instead of Hillary Clinton expanding the Syrian refugee program… KAINE: Or instead of you violating the Constitution by blocking people based on their national origin rather than whether they’re dangerous. PENCE: That’s not — that’s absolutely false. KAINE: That’s what the Seventh Circuit decided just — here’s the difference, Elaine. PENCE: The Seventh Circuit… KAINE: We have different views on — on refugee issues and on immigration. Hillary and I want to do enforcement based on, are people dangerous? These guys say all Mexicans are bad. PENCE: That’s absolutely false. KAINE: And with respect to refugees, we want to keep people out if they’re dangerous. Donald Trump said keep them out if they’re Muslim. Mike Pence… PENCE: Absolutely… KAINE: … put a program in place to keep them out if they’re from Syria. And yesterday an appellate court with three Republican judges struck down the Pence plan… PENCE: Right. Right. KAINE: … and said it was discriminatory… PENCE: And those judges — those judges said… KAINE: We should focus upon danger, not upon discrimination. QUIJANO: Governor? PENCE: Elaine, to your point, those judges said it was because there wasn’t any evidence yet that — that ISIS had infiltrated the United States. Well, Germany just arrested three Syrian refugees that were connected to ISIS. [crosstalk] KAINE: But they told you there’s a right way and a wrong way to do it. PENCE: But, look, if you’re going to be critical of me on that, that’s fair game. I will tell you, after two Syrian refugees were involved in the attack in Paris that is called Paris’ 9/11, as governor of the state of Indiana, I have no higher priority than the safety and security of the people of my state. KAINE: But, Governor Pence… PENCE: So you bet I suspended that program. KAINE: But, Governor Pence, I just… PENCE: And I stand by that decision. And if I’m vice president of the United States or Donald Trump is president, we’re going to put the safety and security of the American people first. KAINE: Sure. Can we just be clear — Hillary and I will do immigration enforcement and we’ll vet refugees based on whether they’re dangerous or not. We won’t do it based on discriminating against you from the country you come from or the religion that you practice. PENCE: But the problem with that… KAINE: That is completely antithetical to the Jeffersonian values of…[crosstalk] PENCE: Elaine, the director of the FBI, our homeland security, said we can’t know for certain who these people are coming from Syria. KAINE: Yes, we can, and when we don’t let them know, we don’t let them in. PENCE: So — the FBI… KAINE: When we don’t know who they are, we don’t let them in. PENCE: The FBI and homeland security said we can’t know for certain. You’ve got to err on the side of the safety and security of the American people, Senator. I understand the… KAINE: By trashing all Syrians or trashing all Muslims? PENCE: … the U.N. wants us to expand the Syrian refugee program… QUIJANO: Senator Kaine, let me ask you this. Secretary Clinton… PENCE: We’re going to put the safety and security of the American people first. QUIJANO: … has talked about an intelligence surge. KAINE: Yes. QUIJANO: What exactly would an intelligence surge look like? And how would that help identify terrorists with no operational connection to a foreign terrorist organization? KAINE: Intelligence surge is two things, Elaine. It’s two things. It’s, first, dramatically expanding our intelligence capacities by hiring great professionals, but also we’ve got some of the best intel and cyber employees in the world right here in the United States working for many of our private sector companies. So it involves increasing our own workforce, but striking great partnerships with some of our cyber and intel experts in the private sector so that we can, consistent with constitutional principles, gather more intelligence. But the second piece of this is really, really important. It also means creating stronger alliances, because you gather intelligence and then you share your intelligence back and forth with allies. And that’s how you find out who may be trying to recruit, who may be trying to come from one country to the next. Alliances are critical. That’s why Donald Trump’s claim that he wants to — that NATO is obsolete and that we need to get rid of NATO is so dangerous. PENCE: That’s not his plan. KAINE: Well, he said NATO is obsolete. And, look, if you put aside — push aside your alliances, who you’re going to share intelligence with? Hillary Clinton is the secretary of state who knows how to build alliances. She built the sanctions regime around the world that stopped the Iranian nuclear weapons program. And that’s what an intelligence surge means. Better skill and capacity, but also better alliances. QUIJANO: All right. I’d like to turn now to the tragedy in Syria. Two hundred fifty thousand… PENCE: Can I speak about the cybersecurity surge at all? QUIJANO: You can — you can have 30 seconds, Governor, quickly, please. PENCE: First, Donald Trump just spoke about this issue this week. We have got to bring together the best resources of this country to understand that cyber warfare is the new warfare of the asymmetrical enemies that we face in this country. And I look forward if I’m privileged to be in this role of working with you in the Senate to make sure that we resource that effort. KAINE: We will work together in whatever roles we inhabit. PENCE: We have an intelligence, sir. But I will also tell you that it’s important in this moment to remember that Hillary Clinton had a private server in her home that had classified information on it… QUIJANO: And I don’t — 30 seconds is on up. PENCE: … about drone strikes, e-mails from the president of the United States of America were on there. QUIJANO: Right. PENCE: Her private server was subject to being hacked by foreign…[crosstalk] QUIJANO: I’d like to ask you about Syria, Governor. PENCE: We could put cybersecurity first if we just make sure the next secretary of state doesn’t have a private server. [crosstalk] KAINE: A full investigation concluded that not one reasonable prosecutor would take any additional step. You don’t get to decide the rights and wrongs of this. We have a justice system that does that. And a Republican FBI director did an investigation and concluded that…[crosstalk] QUIJANO: All right, we are moving on now. Two hundred fifty thousand people… PENCE: If your son or my son handled classified information the way Hillary Clinton did… QUIJANO: … one hundred thousand of them children — Governor… PENCE: … they’d be court martialed. KAINE: That is absolutely false and you know that. PENCE: Absolutely true. KAINE: And you know that, Governor. QUIJANO: Governor… PENCE: It’s absolutely true. QUIJANO: Gentlemen, please. KAINE: Because the FBI did an investigation. QUIJANO: Gentlemen. KAINE: And they concluded that there was no reasonable prosecutor who would take it further. Sorry. QUIJANO: Senator Kaine, Governor Pence, please. KAINE: Syria. QUIJANO: I want to turn now to Syria. Two hundred fifty thousand people, 100,000 of them children, are under siege in Aleppo, Syria. Bunker buster bombs, cluster munitions, and incendiary weapons are being dropped on them by Russian and Syrian militaries. Does the U.S. have a responsibility to protect civilians and prevent mass casualties on this scale, Governor Pence? PENCE: The United States of America needs to begin to exercise strong leadership to protect the vulnerable citizens and over 100,000 children in Aleppo. Hillary Clinton’s top priority when she became secretary of state was the Russian reset, the Russian reset. After the Russian reset, the Russians invaded Ukraine and took over Crimea. And the small and bullying leader of Russia is now dictating terms to the United States to the point where all the United States of America — the greatest nation on Earth — just withdraws from talks about a cease-fire while Vladimir Putin puts a missile defense system in Syria while he marshals the forces and begins — look, we have got to begin to lean into this with strong, broad-shouldered American leadership. It begins by rebuilding our military. And the Russians and the Chinese have been making enormous investments in the military. We have the smallest Navy since 1916. We have the lowest number of troops since the end of the Second World War. We’ve got to work with the Congress, and Donald Trump will, to rebuild our military and project American strength in the world. But about Aleppo and about Syria, I truly do believe that what America ought to do right now is immediately establish safe zones, so that families and vulnerable families with children can move out of those areas, work with our Arab partners, real time, right now, to make that happen. And secondly, I just have to tell you that the provocations by Russia need to be met with American strength. And if Russia chooses to be involved and continue, I should say, to be involved in this barbaric attack on civilians in Aleppo, the United States of America should be prepared to use military force to strike military targets of the Assad regime to prevent them from this humanitarian crisis that is taking place in Aleppo. There’s a broad range of other things that we ought to do, as well. We ought to deploy a missile defense shield to the Czech Republic and Poland which Hillary Clinton and Barack Obama pulled back on out of not wanting to offend the Russians back in 2009. QUIJANO: Governor, your two minutes are up. PENCE: We’ve just got to have American strength on the world stage. When Donald Trump becomes president of the United States, the Russians and other countries in the world will know they’re dealing with a strong American president. QUIJANO: Senator Kaine? KAINE: Hillary and I also agree that the establishment of humanitarian zones in northern Syria with the provision of international human aid, consistent with the U.N. Security Council resolution that was passed in February 2014, would be a very, very good idea. And Hillary also has the ability to stand up to Russia in a way that this ticket does not. Donald Trump, again and again, has praised Vladimir Putin. And it’s clear that he has business dealings with Russian oligarchs who are very connected to Putin. The Trump campaign management team had to be fired a month or so ago because of those shadowy connections with pro-Putin forces. Governor Pence made the odd claim, he said inarguably Vladimir Putin is a better leader than President Obama. Vladimir Putin has run his economy into the ground. He persecutes LGBT folks and journalists. If you don’t know the difference between dictatorship and leadership, then you got to go back to a fifth-grade civics class. I’ll tell you what offends me… PENCE: Well, that offended me. KAINE: Governor Pence just said — Governor Pence just said that Donald Trump will rebuild the military. No, he won’t. Donald Trump is avoiding paying taxes. The New York Times story — and we need to get this — but the New York Times suggested that he probably didn’t pay taxes for about 18 years starting in 1995. Those years included the years of 9/11. So get this. On 9/11, Hillary Clinton and Donald Trump’s hometown was attacked by the worst terrorist attack in the history of the United States. Young men and women — young men and women signed up to serve in the military to fight terrorism. Hillary Clinton went to Washington to get funds to rebuild her city and protect first responders, but Donald Trump was fighting a very different fight. It was a fight to avoid paying taxes so that he wouldn’t support the fight against terror. QUIJANO: The question was about Aleppo, Senator. KAINE: He wouldn’t support troops. He wouldn’t — he wouldn’t support — this is important, Elaine. When a guy running for president will not support the troops, not support veterans, not support teachers, that’s really important. QUIJANO: Right. KAINE: And I said about Aleppo, we do agree the notion is we have to create a humanitarian zone in northern Syria. It’s very important. QUIJANO: Governor Pence, you had mentioned a no-fly zone. Where would you propose setting up a safe zone specifically? How would you keep it safe? PENCE: Well, first and foremost, Donald Trump supports our troops. Donald Trump supports our veterans. KAINE: He won’t pay taxes. PENCE: Donald Trump has paid all the taxes that he’s — do you not take deductions? How does that work? QUIJANO: Gentlemen, this is about Syria. I’d like to…[crosstalk] PENCE: Honestly, Senator. Honestly, Senator. KAINE: It is about our troops. It is about our troops. PENCE: I understand why you want to change — I understand why you want to change the subject. KAINE: How can you support the troops if you won’t pay taxes? PENCE: I understand why you want to change the subject. And let me be very clear on this Russian thing. The larger question here… KAINE: Do you think Donald Trump is smart to not pay taxes? QUIJANO: Gentlemen, we’re going to have time to get to Russia here. PENCE: What we’re dealing with is the — you know, there’s an old proverb that says the Russian bear never dies, it just hibernates. And the truth of the matter is, the weak and feckless foreign policy of Hillary Clinton and Barack Obama has awakened an aggression in Russia that first appeared a few years ago with their move in Georgia, now their move into Crimea, now their move into the wider Middle East. And all the while, all we do is fold our arms and say we’re not having talks anymore. To answer your question, we just need American strength. We need to — we need to marshal the resources of our allies in the region, and in the immediate, we need to act and act now to get people out of harm’s way. QUIJANO: And exactly how would those safe zones work? How would they remain safe? PENCE: The — the safe zones would have to be — as the senator said, there’s already a framework for this that’s been recognized by the international community. The United States of America needs to be prepared to work with our allies in the region to create a route for safe passage and then to protect people in those areas, including with a no-fly zone. But, look, this is very tough stuff. I served on the Foreign Affairs Committee for a decade. I traveled in and out of that region for 10 years. I saw what the American soldier won in Operation Iraqi Freedom. And to see the weak and feckless leadership that Hillary Clinton was the architect of and the foreign policy of the Obama administration… KAINE: Well, let me — let me come back… PENCE: … is deeply troubling to me. That will all change the day Donald Trump becomes president of the United States. KAINE: … and talk about — let me talk about the things that Governor Pence doesn’t want to acknowledge, Elaine. He doesn’t want to acknowledge that we stopped the Iranian nuclear weapons program. He doesn’t want to acknowledge… PENCE: You didn’t. KAINE: … that Hillary was part of the team that got bin Laden. He doesn’t want to acknowledge… PENCE: I just did. KAINE: … that it’s a good thing, not a bad thing, that it’s a good thing — not a bad thing — that we’re down from 175,000 troops deployed overseas to 15,000. But let me tell you what will really make the Middle East dangerous. Donald Trump’s idea that more nations should get nuclear weapons, Saudi Arabia, Japan, South Korea. Ronald Reagan said something really interesting about nuclear proliferation back in the 1980s. He said the problem with nuclear proliferation is that some fool or maniac could trigger a catastrophic event. And I think that’s who Governor Pence’s running mate is, exactly who Governor Reagan warned us about. PENCE: And come on. Senator. Senator, that was even beneath you and Hillary Clinton. And that — that’s pretty low. KAINE: But do you — do you think — do you think we should have — more nuclear weapons in the world will make us safer? PENCE: Senator, the… KAINE: That’s what Donald Trump thinks. PENCE: Ronald Reagan also said nuclear war should never be fought because it can never be won. And the United States of America needs to make investments in modernizing our nuclear force for both deterrence… KAINE: But can you defend Donald Trump’s claim that more nations should get nuclear weapons? PENCE: … and assurance to our allies. But let me go back to this Iran thing. I mean, he keeps saying that they prevented — that Hillary Clinton started the deal with the Iranians prevented Iran from getting a nuclear weapon. [crosstalk] KAINE: That’s what the Israeli joint chiefs of staff is saying right now. PENCE: Well, that’s not what — that’s not what Israel thinks. KAINE: Gadi Eizenkot, you can go check it. PENCE: You wouldn’t necessarily know that. KAINE: Go to the tape. PENCE: I know you boycotted Prime Minister Netanyahu’s speech when he came before the Congress. KAINE: No, I visited him in his office. I visited him in his office. PENCE: You boycotted the speech. The point is, what this Iran — so-called Iran deal did was essentially guarantee — I mean, when I was in Congress, I fought hard on a bipartisan basis with Republican and Democrat members to move forward the toughest sanctions, it — literally in the history of the United States, against Iran. KAINE: And then Hillary used them to get a deal. PENCE: We were bringing them to heel, but the goal was always that we would only lift the sanctions if Iran permanently renounced their nuclear ambitions. KAINE: Elaine, let me just mention one thing. [crosstalk] PENCE: They have not — Elaine, let me finish a sentence. They have not renounced their nuclear ambitions. And when the deal’s period runs out, there’s no limitation on them obtaining weapons. That…[crosstalk] QUIJANO: And very quickly, Senator. KAINE: Elaine… PENCE: … and the fact that they got $1.7 billion in a ransom payment… QUIJANO: We need to talk about Russia. Very quickly, though, Senator, please. PENCE: … is astonishing to the American people. KAINE: Six times tonight, I have said to Governor Pence I can’t imagine how you can defend your running mate’s position on one issue after the next. And in all six cases, he’s refused to defend his running mate. PENCE: Well, let’s — no, no, don’t put words in my mouth. QUIJANO: All right. PENCE: He’s going…[crosstalk] KAINE: And yet he is asking everybody to vote for somebody that he cannot defend. And I just think that should be underlined. PENCE: No, I’m — look…[crosstalk] QUIJANO: All right, gentlemen, let’s talk about Russia. This is a topic that has come up. PENCE: I’m very, very happy to defend Donald Trump. If he wants to take these one at a time, I’ll take them one at a time. QUIJANO: I will give you an opportunity to do that. KAINE: More nations should get nuclear weapons. Try to defend that. PENCE: Don’t put words in my mouth. Well, he never said that, Senator. KAINE: He absolutely said it. Saudi Arabia, South Korea, Japan. PENCE: Most of the stuff you’ve said, he’s never said. QUIJANO: Gentlemen, Russia. Russian President Vladimir Putin invaded Ukraine, annexed Crimea, and has provided crucial military support to the Assad regime. What steps, if any, would your administration take to counter these actions? Senator Kaine? KAINE: You’ve got to be tough on Russia. So let’s start with not praising Vladimir Putin as a great leader. Donald Trump and Mike Pence have said he’s a great leader. And Donald Trump has business… PENCE: No, we haven’t. KAINE: … has business dealings — has business dealings with Russia that he refuses to disclose. Hillary Clinton has gone toe-to-toe with Russia. She went toe-to-toe with Russia as secretary of state to do the New START Agreement to reduce Russia’s nuclear stockpile. She’s had the experience doing it. She went toe-to-toe with Russia and lodged protests when they went into Georgia. And we’ve done the same thing about Ukraine, but more than launching protests, we’ve put punishing economic sanctions on Russia that we need to continue. Donald Trump, on the other hand, didn’t know that Russia had invaded the Crimea. PENCE: Oh, that’s nonsense. KAINE: He was on a TV show a couple months back, and he said, “I’ll guarantee you this, Russia’s not going into the Ukraine.” And he had to be reminded that they had gone into the Crimea two years before. PENCE: He knew that. KAINE: Hillary Clinton has gone toe-to-toe with Russia to work out a deal on New START. She got them engaged in a meaningful way to cap Iran’s nuclear weapons program. And yet she stood up to them on issues such as Syria and their invasion of Georgia. You’ve got to have the ability to do that, and Hillary does. On the other hand, in Donald Trump, you have somebody who praises Vladimir Putin all the time. America should really wonder about a President Trump, who had a campaign manager with ties to Putin, pro-Putin elements in the Ukraine, who had to be fired for that reason. They should wonder — when Donald Trump is sitting down with Vladimir Putin, is it going to be America’s bottom line or is it going to be Donald Trump’s bottom line that he’s going to be worried about with all of his business dealings? Now, this could be solved if Donald Trump would be willing to release his tax returns, as he told the American public that he would do. And I know he’s laughing at this, but every president… PENCE: But what’s it got to do with Russia? KAINE: Every president since Richard Nixon has done it, and Donald Trump has said I’m doing business with Russia. The only way the American public will see whether he has a conflict of interest… PENCE: No, he hasn’t said that. KAINE: He has, actually. QUIJANO: Senator, your time is up. Governor? PENCE: Well, thanks. I’m just trying to keep up with the insult-driven campaign on the other side of the table. KAINE: You know, I’m just saying facts about your running mate. PENCE: Yeah. KAINE: And I know you can’t defend. QUIJANO: Senator, please. This is the governor’s two minutes. PENCE: I’m happy to defend him, Senator. Don’t put words in my mouth that I’m not defending him. KAINE: You’re not. PENCE: I’m happy to defend him. Most of what you said is completely false, and the American people know that. KAINE: I’ll run through the list of things where you won’t defend… PENCE: This isn’t the old days where you can just say stuff and people believe it. QUIJANO: Senator, please. This is Governor Pence’s two minutes. PENCE: Look, this is the alternative universe of Washington, D.C., versus reality. Hillary Clinton said her number-one priority was a reset with Russia. That reset resulted in the invasion of Ukraine, after they’d infiltrated with what are called little green men, Russian soldiers that were dressing up like Ukrainian dissidents, and then they moved all the way into Crimea, took over the Crimean Peninsula. Donald Trump knew that happened. He basically was saying it’s not going to happen again. The truth of the matter is that what you have in the rise of aggressive Russia, which has had — increased its influence in Iran, that’s now — now because of this deal is on a pathway in the future to obtain a nuclear — the leading state sponsor of terror in the world in Iran now has a closer working relationship with Russia because of Hillary Clinton and Barack Obama’s foreign policy and $150 billion and sanctions all being lifted. And then, of course, Syria, I mean, it really is extraordinary that — Syria is imploding. You just asked a very thoughtful question about the disaster in Aleppo. ISIS is headquartered in Raqqa. It is — ISIS from Raqqa has overrun vast areas that at great sacrifice the American soldier won in Operation Iraqi Freedom, and yet Senator Kaine still sits here, loyal soldier — I get all that — in saying that the foreign policy of Hillary Clinton and Barack Obama somehow made the world more secure. I mean, it really is astonishing that on the day… KAINE: We wiped out the leader of Al Qaida. PENCE: … on the day that Iran released four American hostages… KAINE: We stopped Iran from getting nuclear weapons. QUIJANO: Governor… PENCE: … we delivered $400 million in cash as a ransom payment for Americans held by the radical mullahs in Tehran. [crosstalk] QUIJANO: Governor, yesterday, Mr. Trump said… KAINE: And we stopped a nuclear weapons program without a shot. QUIJANO: … quote, “Putin has no respect for Hillary Clinton and no respect for Obama.” Why do you think he’ll respect a Trump-Pence administration? PENCE: Strength. Plain and simple. KAINE: Business dealings. PENCE: Donald Trump — that’s nonsense. Donald Trump is a strong leader… KAINE: Donald Trump’s son says that the Trump organization… PENCE: … who is going to lead with American strength. QUIJANO: Please, Senator, I’ll give you a chance to respond. PENCE: We’re going to rebuild our military. And let me — let me — this whole Putin thing. Look, America is stronger than Russia. Our economy is 16 times larger than the Russian economy. America’s political system is superior to the crony, corrupt capitalist system in Russia in every way. When Donald Trump and I observe that, as I’ve said in Syria, in Iran, in Ukraine, that the small and bullying leader of Russia has been stronger on the world stage than this administration, that’s stating painful facts. That’s not an endorsement of Vladimir Putin. That’s an indictment of the weak and feckless leadership… QUIJANO: Senator Kaine? PENCE: … of Hillary Clinton and Barack Obama. KAINE: Well, this is one where we can just kind of go to the tape on it. But Governor Pence said, inarguably, Vladimir Putin is a better leader than President Obama. PENCE: That is absolutely inaccurate. KAINE: And — and — and I just think a guy who praises… PENCE: He said he’s stronger — he’s been stronger on the world stage. KAINE: No, he said leader. And if — and I’ll just say this, Governor. PENCE: You just said better. KAINE: If you mistake leadership for dictatorship, and you can’t tell the difference, a country that’s running its economy into the ground… PENCE: Yeah, here we go. This is the grade school thing again? KAINE: … persecuting journalists… PENCE: Right, this is grade school. KAINE: … if you can’t tell the difference, you shouldn’t be commander-in-chief. PENCE: Yeah. KAINE: And with Donald Trump — Donald Trump’s sons say that they have all these business dealings with Russia. Those could be disclosed with tax returns, but they refuse to do them. Americans need to worry about whether Donald Trump will be watching out for America’s bottom line or his own bottom line. QUIJANO: Senator Kaine, what went wrong with the Russia reset? KAINE: Vladimir Putin. Vladimir Putin is a dictator. QUIJANO: And what would do you differently? KAINE: Vladimir Putin is a dictator. He’s not a leader. Anybody who thinks otherwise doesn’t know Russian history and they don’t know Vladimir Putin. Hillary Clinton knows exactly who this guy is. John McCain said, I look in his eyes and I see KGB. And Hillary kind of has that same feeling. PENCE: Right. KAINE: So how do deal with him? You’ve got to — we do have to deal with Russia in a lot of different ways. There are areas where we can cooperate. So it was Hillary Clinton who worked with Russia on the New START Treaty to reduce their nuclear weapons stockpile. It was Hillary Clinton that worked with Russia to get them engaged in a community of nations to stop the Iranian nuclear weapons program without firing a shot. She’s not going around praising Vladimir Putin as a great guy. But she knows how to sit down at a table and negotiate tough deals. This is a very challenging part of the world, and we ought to have a commander-in-chief who is prepared and done it, rather than somebody who goes around praising Vladimir Putin as a great leader. QUIJANO: All right, I’d like to ask now about North Korea, Iran and the threat of nuclear weapons. North Korea recently conducted its fifth and most powerful nuclear test. PENCE: Right. QUIJANO: What specific steps would you take to prevent North Korea from developing a nuclear-armed missile capable of reaching the United States? Governor Pence? PENCE: Well, first, we need to — we need to make a commitment to rebuild our military, including modernizing our nuclear forces. And we also need — we also need an effective American diplomacy that will marshal the resources of nations in the Asian Pacific Rim to put pressure on North Korea, on Kim Jong-un, to abandon his nuclear ambitions. It has to remain the policy of the United States of America the denuclearization of the Korean Peninsula, plain and simple. And when Donald Trump is president of the United States, we’re — we’re not going to have the — the kind of posture in the world that has Russia invading Crimea and Ukraine, that has the Chinese building new islands in the South China Sea, that has literally the world, including North Korea, flouting American power. We’re going to — we’re going to go back to the days of peace through strength. But I have to tell you that — that all this talk about tax returns — and I get it, you know, you want to keep bringing that up. It must have — must have… KAINE: Until he…[crosstalk] PENCE: … done well in some focus group. But here — Hillary Clinton and her husband set up a private foundation called the Clinton Foundation. While she was secretary of state, the Clinton Foundation accepted tens of millions of dollars from foreign governments and foreign donors. Now, you all need to know out there, this is basic stuff. Foreign donors, and certainly foreign governments, cannot participate in the American political process. They cannot make financial contributions. But the Clintons figured out a way to create a foundation where foreign governments and foreign donors could donate millions of dollars. And then we found, thanks to the good work of the Associated Press, that more than half of her private meetings when she was secretary of state were given to major donors of the Clinton Foundation. When you talk about all these — all these baseless rumors about Russia and the rest, Hillary Clinton — you asked the trustworthy question at the very beginning — the reason… QUIJANO: Governor, your two minutes are up. PENCE: … the reason the American people don’t trust Hillary Clinton is because they are looking at the pay to play politics that she operated with the Clinton Foundation through a private server… QUIJANO: Governor, please. PENCE: … while she’s secretary of state. QUIJANO: Your two minutes are up, Governor. PENCE: And they’re saying enough is enough. QUIJANO: Senator Kaine? KAINE: I’m going to talk about the foundation, and then I’ll talk about North Korea. So, on the foundation. I am glad to talk about the foundation. The Clinton Foundation is one of the highest- rated charities in the world. It provides AIDS drugs to about 11.5 million people. It helps Americans deal with opioid overdoses. It gets higher rankings for its charity than the American Red Cross does. The Clinton Foundation does an awful lot of good work. Hillary Clinton as secretary of state took no action to benefit the foundation. The State Department did an investigation, and they concluded that everything Hillary Clinton did as secretary of state was completely in the interest of the United States. So the foundation does good work. And Hillary Clinton as secretary of state acted in the interests of the United States. But let’s compare this now with the Trump organization and the Trump Foundation. The Trump organization is an octopus-like organization with tentacles all over the world whose conflict of interests could only be known if Donald Trump would release his tax returns. He’s refused to do it. His sons have said that the organization has a lot of business dealings in Russia. And remember, the Trump organization is not a non-profit. It’s putting money into Donald Trump’s pockets and into the pockets of his children, whereas the Clinton Foundation is a non-profit and no Clinton family member draws any salary. PENCE: The Trump Foundation is a non-profit. KAINE: In addition, Donald Trump has a foundation. The foundation was just fined for illegally contributing foundation dollars to a political campaign of a Florida attorney general. They made an illegal contribution, and then they tried to hide it by disguising it to somebody else. And the person they donated to was somebody whose office was charged with investigating Trump University. This is the difference between a foundation that does good work and a secretary of state who acted in accord with American interest and somebody who is conflicted and doing work around the world and won’t share with the American public what he’s doing and what those conflicts are. QUIJANO: Governor, I will give you 30 seconds to respond, because I know you want to, but, again, I would remind you both this was about North Korea. [laughter] PENCE: Well, thank you. Thank you. The Trump Foundation is a private family foundation. They give virtually every cent in the Trump Foundation to charitable causes. KAINE: Political contributions? PENCE: Less than ten cents on the dollar in the Clinton Foundation has gone to charitable causes. KAINE: A $20,000 portrait of Donald Trump? PENCE: Less than 10 cents on the dollar of the Clinton Foundation has gone to charitable causes. KAINE: Ninety percent. PENCE: It has been a platform for the Clintons to travel the world, to have staff. But honestly, Senator, we would know a lot more about it if Hillary Clinton would just turn over the 33,000 e-mails… QUIJANO: All right, let’s turn back to North Korea… PENCE: … that she refused to turn over in her private server… QUIJANO: Senator Kaine… PENCE: … and we’d have a much better picture of what the Clinton Foundation was about. QUIJANO: Senator Kaine, if you had intelligence that North Korea was about to launch a missile, a nuclear-armed missile capable of reaching the United States, would you take preemptive action? KAINE: If we — look, a president should take action to defend the United States against imminent threat. You have to. A president has to do that. Now exactly what action, you would have to determine what your intelligence was, how certain you were of that intelligence, but you would have to take action. You asked the question about how do we deal with a North Korea. I’m on the Foreign Relations Committee. We just did an extensive sanctions package against North Korea. And interestingly enough, Elaine, the U.N. followed and did this — virtually the same package. Often China will use their veto in the Security Council to veto a package like that. They’re starting to get worried about North Korea, too. So they actually supported the sanctions package, even though many of the sanctions are against Chinese firms, Chinese financial institutions. So we’re working together with China, and we need to. China’s another one of those relationships where it’s competitive, it’s also challenging, and in times like North Korea, we have to be able to cooperate. Hillary understands that very well. She went once famously to China and stood up at a human rights meeting and looked them in the eye and said, “Women’s rights are human rights.” They didn’t want her to say that, but she did. But she’s also worked on a lot of diplomatic and important diplomatic deals with China. And that’s what it’s going to take. The thing I would worry a little bit about is that Donald Trump owes about $650 million to banks, including the Bank of China. I’m not sure he could stand up so tough to the people who have loaned him money. QUIJANO: All right. I’d like to turn to our next segment now. And in this, I’d like to focus on social issues. You have both been open about the role that faith has played in your lives. Can you discuss in detail a time when you struggled to balance your personal faith and a public policy position? Senator Kaine? KAINE: Yeah, that’s an easy one for me, Elaine. It’s an easy one. I’m really fortunate. I grew up in a wonderful household with great Irish Catholic parents. My mom and dad are sitting right here. I was educated by Jesuits at Rockhurst High School in Kansas City. My 40th reunion is in 10 days. And I worked with Jesuit missionaries in Honduras, now nearly 35 years ago, and they were the heroes of my life. I try to practice my religion in a very devout way and follow the teachings of my church in my own personal life. But I don’t believe in this nation, a First Amendment nation, where we don’t raise any religion over the other, and we allow people to worship as they please, that the doctrines of any one religion should be mandated for everyone. For me, the hardest struggle in my faith life was the Catholic Church is against the death penalty and so am I. But I was governor of a state, and the state law said that there was a death penalty for crimes if the jury determined them to be heinous. And so I had to grapple with that. When I was running for governor, I was attacked pretty strongly because of my position on the death penalty. But I looked the voters of Virginia in the eye and said, look, this is my religion. I’m not going to change my religious practice to get one vote, but I know how to take an oath and uphold the law. And if you elect me, I will uphold the law. And I was elected, and I did. It was very, very difficult to allow executions to go forward, but in circumstances where I didn’t feel like there was a case for clemency, I told Virginia voters I would uphold the law, and I did. That was a real struggle. But I think it is really, really important that those of us who have deep faith lives don’t feel like we could just substitute our own views for everybody else in society, regardless of their views. QUIJANO: Governor Pence? PENCE: Well, it’s a wonderful question. And my Christian faith is at the very heart of who I am. I was also raised in a wonderful family of faith. It was a church on Sunday morning and grace before dinner. But my Christian faith became real for me when I made a personal decision for Christ when I was a freshman in college. And I’ve tried to live that out however imperfectly every day of my life since. And with my wife at my side, we’ve followed a calling into public service, where we’ve — we’ve tried to — we’ve tried to keep faith with the values that we cherish. And with regard to when I struggle, I appreciate, and — and — and — I have a great deal of respect for Senator Kaine’s sincere faith. I truly do. KAINE: That’s shared. PENCE: But for me, I would tell you that for me the sanctity of life proceeds out of the belief that — that ancient principle that — where God says before you were formed in the womb, I knew you, and so for my first time in public life, I sought to stand with great compassion for the sanctity of life. The state of Indiana has also sought to make sure that we expand alternatives in health care counseling for women, non-abortion alternatives. I’m also very pleased at the fact we’re well on our way in Indiana to becoming the most pro-adoption state in America. I think if you’re going to be pro-life, you should — you should be pro-adoption. But what I can’t understand is with Hillary Clinton and now Senator Kaine at her side is to support a practice like partial-birth abortion. I mean, to hold to the view — and I know Senator Kaine, you hold pro-life views personally — but the very idea that a child that is almost born into the world could still have their life taken from them is just anathema to me. And I cannot — I can’t conscience about — about a party that supports that. Or that — I know you’ve historically opposed taxpayer funding of abortion. But Hillary Clinton wants to — wants to repeal the longstanding provision in the law where we said we wouldn’t use taxpayer dollars to fund abortion. So for me, my faith informs my life. I try and spend a little time on my knees every day. But it all for me begins with cherishing the dignity, the worth, the value of every human life. KAINE: Elaine, this is a fundamental question, a fundamental question. Hillary and I are both people out of religious backgrounds, from Methodist church experience, which was really formative for her as a public servant. But we really feel like you should live fully and with enthusiasm the commands of your faith. But it is not the role of the public servant to mandate that for everybody else. So let’s talk about abortion and choice. Let’s talk about them. We support Roe v. Wade. We support the constitutional right of American women to consult their own conscience, their own supportive partner, their own minister, but then make their own decision about pregnancy. That’s something we trust American women to do that. And we don’t think that women should be punished, as Donald Trump said they should, for making the decision to have an abortion. Governor Pence wants to repeal Roe v. Wade. He said he wants to put it on the ash heap of history. And we have some young people in the audience who weren’t even born when Roe was decided. This is pretty important. Before Roe v. Wade, states could pass criminal laws to do just that, to punish women if they made the choice to terminate a pregnancy. I think you should live your moral values. But the last thing, the very last thing that government should do is have laws that would punish women who make reproductive choices. And that is the fundamental difference between a Clinton-Kaine ticket and a Trump-Pence ticket that wants to punish women who make that choice. PENCE: No, it’s really not. Donald Trump and I would never support legislation that punished women who made the heartbreaking choice to end a pregnancy. KAINE: Then why did Donald Trump say that? PENCE: We just never would. KAINE: Why did he say that? PENCE: Well, look, it’s — look, he’s not a polished politician like you and Hillary Clinton. And so… KAINE: Well, I would admit that’s not a polished…[crosstalk] PENCE: You know, things don’t always come out exactly the way he means them. KAINE: Well, can I say… PENCE: But I’m telling you what the policy of our administration would be. KAINE: Great line from the — great line from the gospel of Matthew. From the fullness of the heart, the mouth speaks. PENCE: Yeah. KAINE: When Donald Trump says women should be punished or Mexicans are rapists and criminals… PENCE: I’m telling you… KAINE: … or John McCain is not a hero, he is showing you who he is. PENCE: Senator, you’ve whipped out that Mexican thing again. He — look… KAINE: Can you defend it? PENCE: There are criminal aliens in this country, Tim, who have come into this country illegally who are perpetrating violence and taking American lives. KAINE: You want to — you want to use a big broad brush against Mexicans on that? PENCE: He also said and many of them are good people. You keep leaving that out of your quote. And if you want me to go there, I’ll go there. But here’s — there is a choice, and it is a choice on life. I couldn’t be more proud to be standing with Donald Trump, who’s standing for the right to life. It’s a principle that — Senator Kaine — and I’m very gentle about this, because I really do respect you — it’s a principle that you embrace. And I have appreciated the fact that you’ve supported the Hyde amendment, which bans the use of taxpayer funding for abortion, in the past, but that’s not Hillary Clinton’s view. People need to understand, we can come together as a nation. We can create a culture of life. More and more young people today are embracing life because we know we are — we’re better for it. We can — like Mother Teresa said at that famous national prayer breakfast… KAINE: This is important — PENCE: … bring the — let’s welcome the children into our world. There are so many families around the country who can’t have children. We could improve adoption… KAINE: But, Governor… PENCE: … so that families that can’t have children can adopt more readily those children from crisis pregnancies. KAINE: Governor, why don’t you trust women to make this choice for themselves? We can encourage people to support life. Of course we can. But why don’t you trust women? Why doesn’t Donald Trump trust women to make this choice for themselves? That’s what we ought to be doing in public life. Living our lives of faith or motivation with enthusiasm and excitement, convincing each other, dialoguing with each other about important moral issues of the day… PENCE: Because there are… KAINE: … but on fundamental issues of morality, we should let women make their own decisions. PENCE: Because there is — a society can be judged by how it deals with its most vulnerable, the aged, the infirm, the disabled, and the unborn. I believe it with all my heart. And I couldn’t be more proud to be standing with a pro-life candidate in Donald Trump. QUIJANO: I do have one final question for you both tonight. It has been a divisive campaign. Senator Kaine, if your ticket wins, what specifically are you going to do to unify the country and reassure the people who voted against you? KAINE: That’s a really important one. That may be the $64,000 question, because it has been a divisive campaign. And again, Hillary is running a campaign about stronger together, and Donald Trump — and this is — this is not directed at this man, except to the extent that he can’t defend Donald Trump — Donald Trump has run a campaign that’s been about one insult after the next. But we do have to bring the country together. So here’s what we’ll do. Hillary Clinton was first lady, then senator for eight years and secretary of state. And I served in the Senate. And I’m really amazed, Elaine, as I talk to Republican senators, how well they regard and respect Hillary Clinton. She was on the Armed Services Committee. She was on other committees. She worked across the aisle when she was first lady to get the CHIP program passed so that 8 million low-income kids have health insurance in this country, including 150,000 in Indiana. She worked across the aisle after 9/11 to get health benefits for the first responders who bravely went into the towers and into the Pentagon. She worked to get benefits for — TRICARE benefits for National Guard members, including Hoosiers and Virginians in the National Guard. She has a track record of working across the aisle to make things happen. And, you know, Elaine, I have the same track record. I was a governor of Virginia with two Republican houses. And in the Senate, I have good working relationships across the aisle. Because I think it’s fine to be a Democrat or Republican or independent, but after Election Day, the goal is work together. And Hillary Clinton has a track record of accomplishment across the aisle that will enable her to do just that when we work with the new Congress in January. QUIJANO: Governor, how will you unify the country if you win? PENCE: Well, thank you, Elaine, and thanks for a great discussion… KAINE: Absolutely. PENCE: … tonight. Thank you, Senator. This is a very challenging time in the life of our nation. Weakened America’s place in the world after the leadership of Hillary Clinton and Barack Obama on the world stage has been followed by an economy that is truly struggling, stifled by an avalanche of more taxes, more regulation, Obamacare, the war on coal, and the kind of trade deals that have put American workers in the back seat. I think the best way that we can bring people together is through change in Washington, D.C. You know, I served in Washington, D.C., for 12 years in the Congress of the United States. And I served with many Republicans and Democrats, men and women of goodwill. The potential is there to really change the direction of this country, but it’s going to take leadership to do it. The American people want to see our nation standing tall on the world stage again. They want to see us supporting our military, rebuilding our military, commanding the respect of the world, and they want to see the American economy off to the races again. They want to see an American comeback. And Donald Trump’s entire career has been about building. It’s been about — it’s going through hardship just like a businessperson does and finding a way through smarts and ingenuity and resilience to fight forward and — when Donald Trump becomes president of the United States, we’re going to have a stronger America. When you hear him say he wants to make America great again, when we do that, I truly do believe the American people are going to be standing taller. They’re going to see that real change can happen after decades of just talking about it. And when that happens, the American people are going to stand tall, stand together, and we’ll have the kind of unity that’s been missing for way too long. QUIJANO: All right, gentlemen, thank you so much. This concludes the vice presidential debate. My thanks to the candidates, the commission, and to you for watching. Please tune in this Sunday for the second presidential debate at Washington University in St. Louis and the final debate on October 19th at the University of Nevada, Las Vegas. From Farmville, Virginia, I’m Elaine Quijano of CBS News. Good night. © COPYRIGHT 2020 THE COMMISSION ON PRESIDENTIAL DEBATES. ALL RIGHTS RESERVED.'"
      ]
     },
     "execution_count": 63,
     "metadata": {},
     "output_type": "execute_result"
    }
   ],
   "source": [
    "df['text'][5]"
   ]
  },
  {
   "cell_type": "markdown",
   "id": "ae76d609",
   "metadata": {},
   "source": [
    "We can see that the candidates' speech is introduced by their name in all caps, followed by a colon. For example in the site above, Hillary Clinton's speech follows the following string \"CLINTON:\". \n",
    "\n",
    "Thus, in order to extract just the text that Hillary Clinton said, we need to extract just the text between all instances of the text \"CLINTON:\".\n",
    "\n",
    "To accomplish that, we create a function that takes in text data and a name (in this case, 'CLINTON'). It loops through all of df['text'], using a regex pattern to search for all instances of 'CLINTON:'. It then extracts only the text starting at 'CLINTON:' and ending at the next instance of any all caps name followed by a colon. Then it adds that extracted text to a new row in a new dataframe called 'CLINTON'."
   ]
  },
  {
   "cell_type": "code",
   "execution_count": 64,
   "id": "1df0837b",
   "metadata": {},
   "outputs": [
    {
     "data": {
      "text/plain": [
       "[]"
      ]
     },
     "execution_count": 64,
     "metadata": {},
     "output_type": "execute_result"
    }
   ],
   "source": [
    "# Function to extract text between all-caps words followed by a colon\n",
    "def extract_text_segments(text, name):\n",
    "    pattern = f\"{name}:\\s*([\\s\\S]*?)(?=(?:[A-Z]+\\s*:\\s*|$))\"\n",
    "    matches = re.finditer(pattern, text)\n",
    "    indices = [(match.start(), match.end()) for match in matches]\n",
    "\n",
    "    extracted_texts = []\n",
    "    for i in range(len(indices) - 1):\n",
    "        start = indices[i][0]\n",
    "        end = indices[i][1]\n",
    "        extracted_text = text[start:end].strip()\n",
    "        extracted_texts.append(extracted_text)\n",
    "\n",
    "    return extracted_texts\n",
    "\n",
    "extract_text_segments(df['text'][5], 'CLINTON')"
   ]
  },
  {
   "cell_type": "markdown",
   "id": "f465ccd0",
   "metadata": {},
   "source": [
    "Below we define another function that creates a new dataframe containing only 3 columns: the year a speech was given, the name of the speaker we are interested in, and the text of what that speaker said in that speech.\n",
    "\n",
    "We get the 'Year' column data by stripping the last four characters of the date strings in df['date'].\n",
    "\n",
    "We get the 'Name' column data from a list of candidates initialized below.\n",
    "\n",
    "We get the 'Text' column data by calling our previous function 'extract_text_segments' on each row in df['text']. To reiterate, that function will grab only the words said by candidates from the names list below. "
   ]
  },
  {
   "cell_type": "code",
   "execution_count": 65,
   "id": "c38f05a4",
   "metadata": {},
   "outputs": [
    {
     "name": "stderr",
     "output_type": "stream",
     "text": [
      "/Users/shelleywang/miniconda3/envs/tensorflow_test/lib/python3.10/site-packages/pandas/core/dtypes/cast.py:965: VisibleDeprecationWarning: Creating an ndarray from ragged nested sequences (which is a list-or-tuple of lists-or-tuples-or ndarrays with different lengths or shapes) is deprecated. If you meant to do this, you must specify 'dtype=object' when creating the ndarray.\n",
      "  element = np.asarray(element)\n"
     ]
    },
    {
     "name": "stdout",
     "output_type": "stream",
     "text": [
      "     Year      Name                                               Text\n",
      "0    2016   CLINTON  [CLINTON: Thank you very much, Chris. And than...\n",
      "1    2016   CLINTON  [CLINTON: Well, thank you. Are you a teacher? ...\n",
      "2    2016   CLINTON  [CLINTON: How are you, Donald? [applause], CLI...\n",
      "3    1996   CLINTON  [CLINTON: I was going to applaud, too. Well, t...\n",
      "4    1996   CLINTON  [CLINTON: Thank you, Jim. And thank you to the...\n",
      "..    ...       ...                                                ...\n",
      "163  1960   KENNEDY  [KENNEDY: In the first place I’ve never sugges...\n",
      "164  1960   KENNEDY  [KENNEDY: Good evening, Mr. Shadel. MR., KENNE...\n",
      "165  1960   KENNEDY  [KENNEDY: Good evening, Mr. Howe. MR., KENNEDY...\n",
      "166  1980  ANDERSON  [ANDERSON: Miss Loomis, I think it’s very appr...\n",
      "167  1980  ANDERSON  [ANDERSON: Miss Loomis, I think it’s very appr...\n",
      "\n",
      "[168 rows x 3 columns]\n"
     ]
    }
   ],
   "source": [
    "names = ['CLINTON', 'TRUMP', 'OBAMA', 'ROMNEY', 'MCCAIN', 'BUSH', 'KERRY', 'GORE', 'CLINTON', 'DOLE', 'DUKAKIS', 'REAGAN', 'MONDALE', 'CARTER', 'FORD', 'NIXON', 'KENNEDY', 'ANDERSON']\n",
    "\n",
    "dict2 = {'Year': [], 'Name': [], 'Text': []}\n",
    "df2 = pd.DataFrame(dict2)\n",
    "\n",
    "def text_extractor(data):\n",
    "    for name in names:\n",
    "        for index, row in df.iterrows():\n",
    "            if name in row['text']:\n",
    "                extracted_text = extract_text_segments(row['text'], name)\n",
    "                year = row['date'][-4:]\n",
    "                df2.loc[len(df2.index)] = [year, name, extracted_text]\n",
    "    return df2\n",
    "\n",
    "result_df = text_extractor(df)\n",
    "print(result_df)\n"
   ]
  },
  {
   "cell_type": "code",
   "execution_count": 66,
   "id": "1c416aec",
   "metadata": {
    "scrolled": true
   },
   "outputs": [
    {
     "data": {
      "text/plain": [
       "['CLINTON: Well, thank you. Are you a teacher? Yes, I think that that’s a very good question, because I’ve heard from lots of teachers and parents about some of their concerns about some of the things that are being said and done in this campaign. And I think it is very important for us to make clear to our children that our country really is great because we’re good. And we are going to respect one another, lift each other up. We are going to be looking for ways to celebrate our diversity, and we are going to try to reach out to every boy and girl, as well as every adult, to bring them in to working on behalf of our country. I have a very positive and optimistic view about what we can do together. That’s why the slogan of my campaign is “Stronger Together,” because I think if we work together, if we overcome the divisiveness that sometimes sets Americans against one another, and instead we make some big goals—and I’ve set forth some big goals, getting the economy to work for everyone, not just those at the top, making sure that we have the best education system from preschool through college and making it affordable, and so much else. If we set those goals and we go together to try to achieve them, there’s nothing in my opinion that America can’t do. So that’s why I hope that we will come together in this campaign. Obviously, I’m hoping to earn your vote, I’m hoping to be elected in November, and I can promise you, I will work with every American. I want to be the president for all Americans, regardless of your political beliefs, where you come from, what you look like, your religion. I want us to heal our country and bring it together because that’s, I think, the best way for us to get the future that our children and our grandchildren deserve.',\n",
       " 'CLINTON: Well, like everyone else, I’ve spent a lot of time thinking over the last 48 hours about what we heard and saw. You know, with prior Republican nominees for president, I disagreed with them on politics, policies, principles, but I never questioned their fitness to serve. Donald Trump is different. I said starting back in June that he was not fit to be president and commander-in-chief. And many Republicans and independents have said the same thing. What we all saw and heard on Friday was Donald talking about women, what he thinks about women, what he does to women. And he has said that the video doesn’t represent who he is. But I think it’s clear to anyone who heard it that it represents exactly who he is. Because we’ve seen this throughout the campaign. We have seen him insult women. We’ve seen him rate women on their appearance, ranking them from one to ten. We’ve seen him embarrass women on TV and on Twitter. We saw him after the first debate spend nearly a week denigrating a former Miss Universe in the harshest, most personal terms. So, yes, this is who Donald Trump is. But it’s not only women, and it’s not only this video that raises questions about his fitness to be our president, because he has also targeted immigrants, African-Americans, Latinos, people with disabilities, POWs, Muslims, and so many others. So this is who Donald Trump is. And the question for us, the question our country must answer is that this is not who we are. That’s why—to go back to your question—I want to send a message—we all should—to every boy and girl and, indeed, to the entire world that America already is great, but we are great because we are good, and we will respect one another, and we will work with one another, and we will celebrate our diversity. These are very important values to me, because this is the America that I know and love. And I can pledge to you tonight that this is the America that I will serve if I’m so fortunate enough to become your president.',\n",
       " 'CLINTON: Well, first, let me start by saying that so much of what he’s just said is not right, but he gets to run his campaign any way he chooses. He gets to decide what he wants to talk about. Instead of answering people’s questions, talking about our agenda, laying out the plans that we have that we think can make a better life and a better country, that’s his choice. When I hear something like that, I am reminded of what my friend, Michelle Obama, advised us all: When they go low, you go high. [applause] And, look, if this were just about one video, maybe what he’s saying tonight would be understandable, but everyone can draw their own conclusions at this point about whether or not the man in the video or the man on the stage respects women. But he never apologizes for anything to anyone. He never apologized to Mr. and Mrs. Khan, the Gold Star family whose son, Captain Khan, died in the line of duty in Iraq. And Donald insulted and attacked them for weeks over their religion. He never apologized to the distinguished federal judge who was born in Indiana, but Donald said he couldn’t be trusted to be a judge because his parents were, quote, “Mexican.” He never apologized to the reporter that he mimicked and mocked on national television and our children were watching. And he never apologized for the racist lie that President Obama was not born in the United States of America. He owes the president an apology, he owes our country an apology, and he needs to take responsibility for his actions and his words.',\n",
       " 'CLINTON: … because everything he just said is absolutely false, but I’m not surprised.',\n",
       " 'CLINTON: In the first debate…[laughter]',\n",
       " 'CLINTON: … I told people that it would be impossible to be fact-checking Donald all the time. I’d never get to talk about anything I want to do and how we’re going to really make lives better for people. So, once again, go to HillaryClinton.com. We have literally Trump—you can fact check him in real time. Last time at the first debate, we had millions of people fact checking, so I expect we’ll have millions more fact checking, because, you know, it is—it’s just awfully good that someone with the temperament of Donald Trump is not in charge of the law in our country.',\n",
       " 'CLINTON: Well, Martha, first, let me say—and I’ve said before, but I’ll repeat it, because I want everyone to hear it—that was a mistake, and I take responsibility for using a personal e-mail account. Obviously, if I were to do it over again, I would not. I’m not making any excuses. It was a mistake. And I am very sorry about that. But I think it’s also important to point out where there are some misleading accusations from critics and others. After a year-long investigation, there is no evidence that anyone hacked the server I was using and there is no evidence that anyone can point to at all—anyone who says otherwise has no basis—that any classified material ended up in the wrong hands. I take classified materials very seriously and always have. When I was on the Senate Armed Services Committee, I was privy to a lot of classified material. Obviously, as secretary of state, I had some of the most important secrets that we possess, such as going after Bin Laden. So I am very committed to taking classified information seriously. And as I said, there is no evidence that any classified information ended up in the wrong hands.',\n",
       " 'CLINTON: Look, it’s just not true. And so please, go to…',\n",
       " 'CLINTON: It was personal e-mails, not official.',\n",
       " 'CLINTON: Not—well, we turned over 35,000, so…',\n",
       " 'CLINTON: Yes, that’s true, I didn’t.',\n",
       " 'CLINTON: I didn’t in the first debate, and I’m going to try not to in this debate, because I’d like to get to the questions that the people have brought here tonight to talk to us about.',\n",
       " 'CLINTON: OK, Donald. I know you’re into big diversion tonight, anything to avoid talking about your campaign and the way it’s exploding and the way Republicans are leaving you. But let’s at least focus…',\n",
       " 'CLINTON: … on some of the issues that people care about tonight. Let’s get to their questions.',\n",
       " 'CLINTON: If he wants to start, he can start. No, go ahead, Donald.',\n",
       " 'CLINTON: Well, I think Donald was about to say he’s going to solve it by repealing it and getting rid of the Affordable Care Act. And I’m going to fix it, because I agree with you. Premiums have gotten too high. Copays, deductibles, prescription drug costs, and I’ve laid out a series of actions that we can take to try to get those costs down. But here’s what I don’t want people to forget when we’re talking about reining in the costs, which has to be the highest priority of the next president, when the Affordable Care Act passed, it wasn’t just that 20 million people got insurance who didn’t have it before. But that in and of itself was a good thing. I meet these people all the time, and they tell me what a difference having that insurance meant to them and their families. But everybody else, the 170 million of us who get health insurance through our employers got big benefits. Number one, insurance companies can’t deny you coverage because of a pre-existing condition. Number two, no lifetime limits, which is a big deal if you have serious health problems. Number three, women can’t be charged more than men for our health insurance, which is the way it used to be before the Affordable Care Act. Number four, if you’re under 26, and your parents have a policy, you can be on that policy until the age of 26, something that didn’t happen before. So I want very much to save what works and is good about the Affordable Care Act. But we’ve got to get costs down. We’ve got to provide some additional help to small businesses so that they can afford to provide health insurance. But if we repeal it, as Donald has proposed, and start over again, all of those benefits I just mentioned are lost to everybody, not just people who get their health insurance on the exchange. And then we would have to start all over again. Right now, we are at 90 percent health insurance coverage. That’s the highest we’ve ever been in our country.',\n",
       " 'CLINTON: So I want us to get to 100 percent, but get costs down and keep quality up.',\n",
       " 'CLINTON: No, I mean, he clarified what he meant. And it’s very clear. Look, we are in a situation in our country where if we were to start all over again, we might come up with a different system. But we have an employer-based system. That’s where the vast majority of people get their health care. And the Affordable Care Act was meant to try to fill the gap between people who were too poor and couldn’t put together any resources to afford health care, namely people on Medicaid. Obviously, Medicare, which is a single-payer system, which takes care of our elderly and does a great job doing it, by the way, and then all of the people who were employed, but people who were working but didn’t have the money to afford insurance and didn’t have anybody, an employer or anybody else, to help them. That was the slot that the Obamacare approach was to take. And like I say, 20 million people now have health insurance. So if we just rip it up and throw it away, what Donald’s not telling you is we just turn it back to the insurance companies the way it used to be, and that means the insurance companies…',\n",
       " 'CLINTON: … get to do pretty much whatever they want, including saying, look, I’m sorry, you’ve got diabetes, you had cancer, your child has asthma…',\n",
       " 'CLINTON: … you may not be able to have insurance because you can’t afford it. So let’s fix what’s broken about it, but let’s not throw it away and give it all back to the insurance companies and the drug companies. That’s not going to work.',\n",
       " 'CLINTON: Well, thank you for asking your question. And I’ve heard this question from a lot of Muslim-Americans across our country, because, unfortunately, there’s been a lot of very divisive, dark things said about Muslims. And even someone like Captain Khan, the young man who sacrificed himself defending our country in the United States Army, has been subject to attack by Donald. I want to say just a couple of things. First, we’ve had Muslims in America since George Washington. And we’ve had many successful Muslims. We just lost a particularly well-known one with Muhammad Ali. My vision of America is an America where everyone has a place, if you’re willing to work hard, you do your part, you contribute to the community. That’s what America is. That’s what we want America to be for our children and our grandchildren. It’s also very short-sighted and even dangerous to be engaging in the kind of demagogic rhetoric that Donald has about Muslims. We need American Muslims to be part of our eyes and ears on our front lines. I’ve worked with a lot of different Muslim groups around America. I’ve met with a lot of them, and I’ve heard how important it is for them to feel that they are wanted and included and part of our country, part of our homeland security, and that’s what I want to see. It’s also important I intend to defeat ISIS, to do so in a coalition with majority Muslim nations. Right now, a lot of those nations are hearing what Donald says and wondering, why should we cooperate with the Americans? And this is a gift to ISIS and the terrorists, violent jihadist terrorists. We are not at war with Islam. And it is a mistake and it plays into the hands of the terrorists to act as though we are. So I want a country where citizens like you and your family are just as welcome as anyone else.',\n",
       " 'CLINTON: Well, first of all, I will not let anyone into our country that I think poses a risk to us. But there are a lot of refugees, women and children—think of that picture we all saw of that 4-year-old boy with the blood on his forehead because he’d been bombed by the Russian and Syrian air forces. There are children suffering in this catastrophic war, largely, I believe, because of Russian aggression. And we need to do our part. We by no means are carrying anywhere near the load that Europe and others are. But we will have vetting that is as tough as it needs to be from our professionals, our intelligence experts and others. But it is important for us as a policy, you know, not to say, as Donald has said, we’re going to ban people based on a religion. How do you do that? We are a country founded on religious freedom and liberty. How do we do what he has advocated without causing great distress within our own county? Are we going to have religious tests when people fly into our country? And how do we expect to be able to implement those? So I thought that what he said was extremely unwise and even dangerous. And indeed, you can look at the propaganda on a lot of the terrorist sites, and what Donald Trump says about Muslims is used to recruit fighters, because they want to create a war between us. And the final thing I would say, this is the 10th or 12th time that he’s denied being for the war in Iraq. We have it on tape. The entire press corps has looked at it. It’s been debunked, but it never stops him from saying whatever he wants to say.',\n",
       " 'CLINTON: So, please…',\n",
       " 'CLINTON: … go to HillaryClinton.com and you can see it.',\n",
       " 'CLINTON: Well, right. As I recall, that was something I said about Abraham Lincoln after having seen the wonderful Steven Spielberg movie called “Lincoln.” It was a master class watching President Lincoln get the Congress to approve the 13th Amendment. It was principled, and it was strategic. And I was making the point that it is hard sometimes to get the Congress to do what you want to do and you have to keep working at it. And, yes, President Lincoln was trying to convince some people, he used some arguments, convincing other people, he used other arguments. That was a great—I thought a great display of presidential leadership. But, you know, let’s talk about what’s really going on here, Martha, because our intelligence community just came out and said in the last few days that the Kremlin, meaning Putin and the Russian government, are directing the attacks, the hacking on American accounts to influence our election. And WikiLeaks is part of that, as are other sites where the Russians hack information, we don’t even know if it’s accurate information, and then they put it out. We have never in the history of our country been in a situation where an adversary, a foreign power, is working so hard to influence the outcome of the election. And believe me, they’re not doing it to get me elected. They’re doing it to try to influence the election for Donald Trump. Now, maybe because he has praised Putin, maybe because he says he agrees with a lot of what Putin wants to do, maybe because he wants to do business in Moscow, I don’t know the reasons. But we deserve answers. And we should demand that Donald release all of his tax returns so that people can see what are the entanglements and the financial relationships that he has…',\n",
       " 'CLINTON: … with the Russians and other foreign powers.',\n",
       " 'CLINTON: Well, everything you’ve heard just now from Donald is not true. I’m sorry I have to keep saying this, but he lives in an alternative reality. And it is sort of amusing to hear somebody who hasn’t paid federal income taxes in maybe 20 years talking about what he’s going to do. But I’ll tell you what he’s going to do. His plan will give the wealthy and corporations the biggest tax cuts they’ve ever had, more than the Bush tax cuts by at least a factor of two. Donald always takes care of Donald and people like Donald, and this would be a massive gift. And, indeed, the way that he talks about his tax cuts would end up raising taxes on middle-class families, millions of middle-class families. Now, here’s what I want to do. I have said nobody who makes less than $250,000 a year—and that’s the vast majority of Americans as you know—will have their taxes raised, because I think we’ve got to go where the money is. And the money is with people who have taken advantage of every single break in the tax code. And, yes, when I was a senator, I did vote to close corporate loopholes. I voted to close, I think, one of the loopholes he took advantage of when he claimed a billion-dollar loss that enabled him to avoid paying taxes. I want to have a tax on people who are making a million dollars. It’s called the Buffett rule. Yes, Warren Buffett is the one who’s gone out and said somebody like him should not be paying a lower tax rate than his secretary. I want to have a surcharge on incomes above $5 million. We have to make up for lost times, because I want to invest in you. I want to invest in hard-working families. And I think it’s been unfortunate, but it’s happened, that since the Great Recession, the gains have all gone to the top. And we need to reverse that. People like Donald, who paid zero in taxes, zero for our vets, zero for our military, zero for health and education, that is wrong.',\n",
       " 'CLINTON: And we’re going to make sure that nobody, no corporation, and no individual can get away without paying his fair share to support our country.',\n",
       " 'CLINTON: Well, here we go again. I’ve been in favor of getting rid of carried interest for years, starting when I was a senator from New York. But that’s not the point here.',\n",
       " 'CLINTON: Because I was a senator with a Republican president.',\n",
       " 'CLINTON: I will be the president and we will get it done. That’s exactly right.',\n",
       " 'CLINTON: You know, under our Constitution, presidents have something called veto power. Look, he has now said repeatedly, “30 years this and 30 years that.” So let me talk about my 30 years in public service. I’m very glad to do so. Eight million kids every year have health insurance, because when I was first lady I worked with Democrats and Republicans to create the Children’s Health Insurance Program. Hundreds of thousands of kids now have a chance to be adopted because I worked to change our adoption and foster care system. After 9/11, I went to work with Republican mayor, governor and president to rebuild New York and to get health care for our first responders who were suffering because they had run toward danger and gotten sickened by it. Hundreds of thousands of National Guard and Reserve members have health care because of work that I did, and children have safer medicines because I was able to pass a law that required the dosing to be more carefully done. When I was secretary of state, I went around the world advocating for our country, but also advocating for women’s rights, to make sure that women had a decent chance to have a better life and negotiated a treaty with Russia to lower nuclear weapons. Four hundred pieces of legislation have my name on it as a sponsor or cosponsor when I was a senator for eight years. I worked very hard and was very proud to be re-elected in New York by an even bigger margin than I had been elected the first time. And as president, I will take that work, that bipartisan work, that finding common ground, because you have to be able to get along with people to get things done in Washington.',\n",
       " 'CLINTON: And I’ve proven that I can, and for 30 years, I’ve produced results for people.',\n",
       " 'CLINTON: Well, the situation in Syria is catastrophic. And every day that goes by, we see the results of the regime by Assad in partnership with the Iranians on the ground, the Russians in the air, bombarding places, in particular Aleppo, where there are hundreds of thousands of people, probably about 250,000 still left. And there is a determined effort by the Russian air force to destroy Aleppo in order to eliminate the last of the Syrian rebels who are really holding out against the Assad regime. Russia hasn’t paid any attention to ISIS. They’re interested in keeping Assad in power. So I, when I was secretary of state, advocated and I advocate today a no-fly zone and safe zones. We need some leverage with the Russians, because they are not going to come to the negotiating table for a diplomatic resolution, unless there is some leverage over them. And we have to work more closely with our partners and allies on the ground. But I want to emphasize that what is at stake here is the ambitions and the aggressiveness of Russia. Russia has decided that it’s all in, in Syria. And they’ve also decided who they want to see become president of the United States, too, and it’s not me. I’ve stood up to Russia. I’ve taken on Putin and others, and I would do that as president. I think wherever we can cooperate with Russia, that’s fine. And I did as secretary of state. That’s how we got a treaty reducing nuclear weapons. It’s how we got the sanctions on Iran that put a lid on the Iranian nuclear program without firing a single shot. So I would go to the negotiating table with more leverage than we have now. But I do support the effort to investigate for crimes, war crimes committed by the Syrians and the Russians and try to hold them accountable.',\n",
       " 'CLINTON: No, I wasn’t. I was gone. I hate to interrupt you, but at some point…',\n",
       " 'CLINTON: At some point, we need to do some fact-checking here.',\n",
       " 'CLINTON: I would not use American ground forces in Syria. I think that would be a very serious mistake. I don’t think American troops should be holding territory, which is what they would have to do as an occupying force. I don’t think that is a smart strategy. I do think the use of special forces, which we’re using, the use of enablers and trainers in Iraq, which has had some positive effects, are very much in our interests, and so I do support what is happening, but let me just…',\n",
       " 'CLINTON: Well, Martha, I hope that by the time I—if I’m fortunate…',\n",
       " 'CLINTON: I hope by the time I am president that we will have pushed ISIS out of Iraq. I do think that there is a good chance that we can take Mosul. And, you know, Donald says he knows more about ISIS than the generals. No, he doesn’t. There are a lot of very important planning going on, and some of it is to signal to the Sunnis in the area, as well as Kurdish Peshmerga fighters, that we all need to be in this. And that takes a lot of planning and preparation. I would go after Baghdadi. I would specifically target Baghdadi, because I think our targeting of Al Qaida leaders—and I was involved in a lot of those operations, highly classified ones—made a difference. So I think that could help. I would also consider arming the Kurds. The Kurds have been our best partners in Syria, as well as Iraq. And I know there’s a lot of concern about that in some circles, but I think they should have the equipment they need so that Kurdish and Arab fighters on the ground are the principal way that we take Raqqa after pushing ISIS out of Iraq.',\n",
       " 'CLINTON: Well, 67 percent of the people voted to re-elect me when I ran for my second term, and I was very proud and very humbled by that. Mr. Carter, I have tried my entire life to do what I can to support children and families. You know, right out of law school, I went to work for the Children’s Defense Fund. And Donald talks a lot about, you know, the 30 years I’ve been in public service. I’m proud of that. You know, I started off as a young lawyer working against discrimination against African-American children in schools and in the criminal justice system. I worked to make sure that kids with disabilities could get a public education, something that I care very much about. I have worked with Latinos—one of my first jobs in politics was down in south Texas registering Latino citizens to be able to vote. So I have a deep devotion, to use your absolutely correct word, to making sure that every American feels like he or she has a place in our country. And I think when you look at the letters that I get, a lot of people are worried that maybe they wouldn’t have a place in Donald Trump’s America. They write me, and one woman wrote me about her son, Felix. She adopted him from Ethiopia when he was a toddler. He’s 10 years old now. This is the only country he’s ever known. And he listens to Donald on TV and he said to his mother one day, will he send me back to Ethiopia if he gets elected? You know, children listen to what is being said. To go back to the very, very first question. And there’s a lot of fear—in fact, teachers and parents are calling it the Trump effect. Bullying is up. A lot of people are feeling, you know, uneasy. A lot of kids are expressing their concerns. So, first and foremost, I will do everything I can to reach out to everybody.',\n",
       " 'CLINTON: Democrats, Republicans, independents, people across our country. If you don’t vote for me, I still want to be your president.',\n",
       " 'CLINTON: I want to be the best president I can be for every American.',\n",
       " 'CLINTON: Well, within hours I said that I was sorry about the way I talked about that, because my argument is not with his supporters. It’s with him and with the hateful and divisive campaign that he has run, and the inciting of violence at his rallies, and the very brutal kinds of comments about not just women, but all Americans, all kinds of Americans. And what he has said about African-Americans and Latinos, about Muslims, about POWs, about immigrants, about people with disabilities, he’s never apologized for. And so I do think that a lot of the tone and tenor that he has said—I’m proud of the campaign that Bernie Sanders and I ran. We ran a campaign based on issues, not insults. And he is supporting me 100 percent.',\n",
       " 'CLINTON: Because we talked about what we wanted to do. We might have had some differences, and we had a lot of debates…',\n",
       " 'CLINTON: No.',\n",
       " 'CLINTON: Well, it’s not only my opinion. It’s the opinion of many others, national security experts, Republicans, former Republican members of Congress. But it’s in part because those of us who have had the great privilege of seeing this job up close and know how difficult it is, and it’s not just because I watched my husband take a $300 billion deficit and turn it into a $200 billion surplus, and 23 million new jobs were created, and incomes went up for everybody. Everybody. African-American incomes went up 33 percent. And it’s not just because I worked with George W. Bush after 9/11, and I was very proud that when I told him what the city needed, what we needed to recover, he said you’ve got it, and he never wavered. He stuck with me. And I have worked and I admire President Obama. He inherited the worst financial crisis since the Great Depression. That was a terrible time for our country.',\n",
       " 'CLINTON: Nine million people lost their jobs.',\n",
       " 'CLINTON: Five million homes were lost.',\n",
       " 'CLINTON: And $13 trillion in family wealth was wiped out. We are back on the right track. He would send us back into recession with his tax plans that benefit the wealthiest of Americans.',\n",
       " 'CLINTON: Thank you. Well, you’re right. This is one of the most important issues in this election. I want to appoint Supreme Court justices who understand the way the world really works, who have real-life experience, who have not just been in a big law firm and maybe clerked for a judge and then gotten on the bench, but, you know, maybe they tried some more cases, they actually understand what people are up against. Because I think the current court has gone in the wrong direction. And so I would want to see the Supreme Court reverse Citizens United and get dark, unaccountable money out of our politics. Donald doesn’t agree with that. I would like the Supreme Court to understand that voting rights are still a big problem in many parts of our country, that we don’t always do everything we can to make it possible for people of color and older people and young people to be able to exercise their franchise. I want a Supreme Court that will stick with Roe v. Wade and a woman’s right to choose, and I want a Supreme Court that will stick with marriage equality. Now, Donald has put forth the names of some people that he would consider. And among the ones that he has suggested are people who would reverse Roe v. Wade and reverse marriage equality. I think that would be a terrible mistake and would take us backwards. I want a Supreme Court that doesn’t always side with corporate interests. I want a Supreme Court that understands because you’re wealthy and you can give more money to something doesn’t mean you have any more rights or should have any more rights than anybody else. So I have very clear views about what I want to see to kind of change the balance on the Supreme Court. And I regret deeply that the Senate has not done its job and they have not permitted a vote on the person that President Obama, a highly qualified person, they’ve not given him a vote to be able to be have the full complement of nine Supreme Court justices. I think that was a dereliction of duty. I hope that they will see their way to doing it, but if I am so fortunate enough as to be president, I will immediately move to make sure that we fill that, we have nine justices that get to work on behalf of our people.',\n",
       " 'CLINTON: Well…[crosstalk]',\n",
       " 'CLINTON: The question was about the Supreme Court. And I just want to quickly say, I respect the Second Amendment. But I believe there should be comprehensive background checks, and we should close the gun show loophole, and close the online loophole.',\n",
       " 'CLINTON: We have to save as many lives as we possibly can.',\n",
       " 'CLINTON: And actually—well, that was very interesting. First of all, China is illegally dumping steel in the United States and Donald Trump is buying it to build his buildings, putting steelworkers and American steel plants out of business. That’s something that I fought against as a senator and that I would have a trade prosecutor to make sure that we don’t get taken advantage of by China on steel or anything else. You know, because it sounds like you’re in the business or you’re aware of people in the business—you know that we are now for the first time ever energy-independent. We are not dependent upon the Middle East. But the Middle East still controls a lot of the prices. So the price of oil has been way down. And that has had a damaging effect on a lot of the oil companies, right? We are, however, producing a lot of natural gas, which serves as a bridge to more renewable fuels. And I think that’s an important transition. We’ve got to remain energy-independent. It gives us much more power and freedom than to be worried about what goes on in the Middle East. We have enough worries over there without having to worry about that. So I have a comprehensive energy policy, but it really does include fighting climate change, because I think that is a serious problem. And I support moving toward more clean, renewable energy as quickly as we can, because I think we can be the 21st century clean energy superpower and create millions of new jobs and businesses. But I also want to be sure that we don’t leave people behind. That’s why I’m the only candidate from the very beginning of this campaign who had a plan to help us revitalize coal country, because those coal miners and their fathers and their grandfathers, they dug that coal out. A lot of them lost their lives. They were injured, but they turned the lights on and they powered our factories. I don’t want to walk away from them. So we’ve got to do something for them.',\n",
       " 'CLINTON: But the price of coal is down worldwide. So we have to look at this comprehensively.',\n",
       " 'CLINTON: And that’s exactly what I have proposed. I hope you will go to HillaryClinton.com and look at my entire policy.']"
      ]
     },
     "execution_count": 66,
     "metadata": {},
     "output_type": "execute_result"
    }
   ],
   "source": [
    "result_df['Text'][1]"
   ]
  },
  {
   "cell_type": "markdown",
   "id": "df98f87d",
   "metadata": {},
   "source": [
    "In the resultant dataframe, the 'Text' column is a list of strings of each instance our candidate of interest spoke. We combine this list into one string below."
   ]
  },
  {
   "cell_type": "code",
   "execution_count": 67,
   "id": "452c1888",
   "metadata": {},
   "outputs": [],
   "source": [
    "result_df['Text']= [\" \".join(x) for x in result_df['Text']]"
   ]
  },
  {
   "cell_type": "code",
   "execution_count": 68,
   "id": "f1aa30fd",
   "metadata": {
    "scrolled": true
   },
   "outputs": [
    {
     "data": {
      "text/plain": [
       "'CLINTON: Well, thank you. Are you a teacher? Yes, I think that that’s a very good question, because I’ve heard from lots of teachers and parents about some of their concerns about some of the things that are being said and done in this campaign. And I think it is very important for us to make clear to our children that our country really is great because we’re good. And we are going to respect one another, lift each other up. We are going to be looking for ways to celebrate our diversity, and we are going to try to reach out to every boy and girl, as well as every adult, to bring them in to working on behalf of our country. I have a very positive and optimistic view about what we can do together. That’s why the slogan of my campaign is “Stronger Together,” because I think if we work together, if we overcome the divisiveness that sometimes sets Americans against one another, and instead we make some big goals—and I’ve set forth some big goals, getting the economy to work for everyone, not just those at the top, making sure that we have the best education system from preschool through college and making it affordable, and so much else. If we set those goals and we go together to try to achieve them, there’s nothing in my opinion that America can’t do. So that’s why I hope that we will come together in this campaign. Obviously, I’m hoping to earn your vote, I’m hoping to be elected in November, and I can promise you, I will work with every American. I want to be the president for all Americans, regardless of your political beliefs, where you come from, what you look like, your religion. I want us to heal our country and bring it together because that’s, I think, the best way for us to get the future that our children and our grandchildren deserve. CLINTON: Well, like everyone else, I’ve spent a lot of time thinking over the last 48 hours about what we heard and saw. You know, with prior Republican nominees for president, I disagreed with them on politics, policies, principles, but I never questioned their fitness to serve. Donald Trump is different. I said starting back in June that he was not fit to be president and commander-in-chief. And many Republicans and independents have said the same thing. What we all saw and heard on Friday was Donald talking about women, what he thinks about women, what he does to women. And he has said that the video doesn’t represent who he is. But I think it’s clear to anyone who heard it that it represents exactly who he is. Because we’ve seen this throughout the campaign. We have seen him insult women. We’ve seen him rate women on their appearance, ranking them from one to ten. We’ve seen him embarrass women on TV and on Twitter. We saw him after the first debate spend nearly a week denigrating a former Miss Universe in the harshest, most personal terms. So, yes, this is who Donald Trump is. But it’s not only women, and it’s not only this video that raises questions about his fitness to be our president, because he has also targeted immigrants, African-Americans, Latinos, people with disabilities, POWs, Muslims, and so many others. So this is who Donald Trump is. And the question for us, the question our country must answer is that this is not who we are. That’s why—to go back to your question—I want to send a message—we all should—to every boy and girl and, indeed, to the entire world that America already is great, but we are great because we are good, and we will respect one another, and we will work with one another, and we will celebrate our diversity. These are very important values to me, because this is the America that I know and love. And I can pledge to you tonight that this is the America that I will serve if I’m so fortunate enough to become your president. CLINTON: Well, first, let me start by saying that so much of what he’s just said is not right, but he gets to run his campaign any way he chooses. He gets to decide what he wants to talk about. Instead of answering people’s questions, talking about our agenda, laying out the plans that we have that we think can make a better life and a better country, that’s his choice. When I hear something like that, I am reminded of what my friend, Michelle Obama, advised us all: When they go low, you go high. [applause] And, look, if this were just about one video, maybe what he’s saying tonight would be understandable, but everyone can draw their own conclusions at this point about whether or not the man in the video or the man on the stage respects women. But he never apologizes for anything to anyone. He never apologized to Mr. and Mrs. Khan, the Gold Star family whose son, Captain Khan, died in the line of duty in Iraq. And Donald insulted and attacked them for weeks over their religion. He never apologized to the distinguished federal judge who was born in Indiana, but Donald said he couldn’t be trusted to be a judge because his parents were, quote, “Mexican.” He never apologized to the reporter that he mimicked and mocked on national television and our children were watching. And he never apologized for the racist lie that President Obama was not born in the United States of America. He owes the president an apology, he owes our country an apology, and he needs to take responsibility for his actions and his words. CLINTON: … because everything he just said is absolutely false, but I’m not surprised. CLINTON: In the first debate…[laughter] CLINTON: … I told people that it would be impossible to be fact-checking Donald all the time. I’d never get to talk about anything I want to do and how we’re going to really make lives better for people. So, once again, go to HillaryClinton.com. We have literally Trump—you can fact check him in real time. Last time at the first debate, we had millions of people fact checking, so I expect we’ll have millions more fact checking, because, you know, it is—it’s just awfully good that someone with the temperament of Donald Trump is not in charge of the law in our country. CLINTON: Well, Martha, first, let me say—and I’ve said before, but I’ll repeat it, because I want everyone to hear it—that was a mistake, and I take responsibility for using a personal e-mail account. Obviously, if I were to do it over again, I would not. I’m not making any excuses. It was a mistake. And I am very sorry about that. But I think it’s also important to point out where there are some misleading accusations from critics and others. After a year-long investigation, there is no evidence that anyone hacked the server I was using and there is no evidence that anyone can point to at all—anyone who says otherwise has no basis—that any classified material ended up in the wrong hands. I take classified materials very seriously and always have. When I was on the Senate Armed Services Committee, I was privy to a lot of classified material. Obviously, as secretary of state, I had some of the most important secrets that we possess, such as going after Bin Laden. So I am very committed to taking classified information seriously. And as I said, there is no evidence that any classified information ended up in the wrong hands. CLINTON: Look, it’s just not true. And so please, go to… CLINTON: It was personal e-mails, not official. CLINTON: Not—well, we turned over 35,000, so… CLINTON: Yes, that’s true, I didn’t. CLINTON: I didn’t in the first debate, and I’m going to try not to in this debate, because I’d like to get to the questions that the people have brought here tonight to talk to us about. CLINTON: OK, Donald. I know you’re into big diversion tonight, anything to avoid talking about your campaign and the way it’s exploding and the way Republicans are leaving you. But let’s at least focus… CLINTON: … on some of the issues that people care about tonight. Let’s get to their questions. CLINTON: If he wants to start, he can start. No, go ahead, Donald. CLINTON: Well, I think Donald was about to say he’s going to solve it by repealing it and getting rid of the Affordable Care Act. And I’m going to fix it, because I agree with you. Premiums have gotten too high. Copays, deductibles, prescription drug costs, and I’ve laid out a series of actions that we can take to try to get those costs down. But here’s what I don’t want people to forget when we’re talking about reining in the costs, which has to be the highest priority of the next president, when the Affordable Care Act passed, it wasn’t just that 20 million people got insurance who didn’t have it before. But that in and of itself was a good thing. I meet these people all the time, and they tell me what a difference having that insurance meant to them and their families. But everybody else, the 170 million of us who get health insurance through our employers got big benefits. Number one, insurance companies can’t deny you coverage because of a pre-existing condition. Number two, no lifetime limits, which is a big deal if you have serious health problems. Number three, women can’t be charged more than men for our health insurance, which is the way it used to be before the Affordable Care Act. Number four, if you’re under 26, and your parents have a policy, you can be on that policy until the age of 26, something that didn’t happen before. So I want very much to save what works and is good about the Affordable Care Act. But we’ve got to get costs down. We’ve got to provide some additional help to small businesses so that they can afford to provide health insurance. But if we repeal it, as Donald has proposed, and start over again, all of those benefits I just mentioned are lost to everybody, not just people who get their health insurance on the exchange. And then we would have to start all over again. Right now, we are at 90 percent health insurance coverage. That’s the highest we’ve ever been in our country. CLINTON: So I want us to get to 100 percent, but get costs down and keep quality up. CLINTON: No, I mean, he clarified what he meant. And it’s very clear. Look, we are in a situation in our country where if we were to start all over again, we might come up with a different system. But we have an employer-based system. That’s where the vast majority of people get their health care. And the Affordable Care Act was meant to try to fill the gap between people who were too poor and couldn’t put together any resources to afford health care, namely people on Medicaid. Obviously, Medicare, which is a single-payer system, which takes care of our elderly and does a great job doing it, by the way, and then all of the people who were employed, but people who were working but didn’t have the money to afford insurance and didn’t have anybody, an employer or anybody else, to help them. That was the slot that the Obamacare approach was to take. And like I say, 20 million people now have health insurance. So if we just rip it up and throw it away, what Donald’s not telling you is we just turn it back to the insurance companies the way it used to be, and that means the insurance companies… CLINTON: … get to do pretty much whatever they want, including saying, look, I’m sorry, you’ve got diabetes, you had cancer, your child has asthma… CLINTON: … you may not be able to have insurance because you can’t afford it. So let’s fix what’s broken about it, but let’s not throw it away and give it all back to the insurance companies and the drug companies. That’s not going to work. CLINTON: Well, thank you for asking your question. And I’ve heard this question from a lot of Muslim-Americans across our country, because, unfortunately, there’s been a lot of very divisive, dark things said about Muslims. And even someone like Captain Khan, the young man who sacrificed himself defending our country in the United States Army, has been subject to attack by Donald. I want to say just a couple of things. First, we’ve had Muslims in America since George Washington. And we’ve had many successful Muslims. We just lost a particularly well-known one with Muhammad Ali. My vision of America is an America where everyone has a place, if you’re willing to work hard, you do your part, you contribute to the community. That’s what America is. That’s what we want America to be for our children and our grandchildren. It’s also very short-sighted and even dangerous to be engaging in the kind of demagogic rhetoric that Donald has about Muslims. We need American Muslims to be part of our eyes and ears on our front lines. I’ve worked with a lot of different Muslim groups around America. I’ve met with a lot of them, and I’ve heard how important it is for them to feel that they are wanted and included and part of our country, part of our homeland security, and that’s what I want to see. It’s also important I intend to defeat ISIS, to do so in a coalition with majority Muslim nations. Right now, a lot of those nations are hearing what Donald says and wondering, why should we cooperate with the Americans? And this is a gift to ISIS and the terrorists, violent jihadist terrorists. We are not at war with Islam. And it is a mistake and it plays into the hands of the terrorists to act as though we are. So I want a country where citizens like you and your family are just as welcome as anyone else. CLINTON: Well, first of all, I will not let anyone into our country that I think poses a risk to us. But there are a lot of refugees, women and children—think of that picture we all saw of that 4-year-old boy with the blood on his forehead because he’d been bombed by the Russian and Syrian air forces. There are children suffering in this catastrophic war, largely, I believe, because of Russian aggression. And we need to do our part. We by no means are carrying anywhere near the load that Europe and others are. But we will have vetting that is as tough as it needs to be from our professionals, our intelligence experts and others. But it is important for us as a policy, you know, not to say, as Donald has said, we’re going to ban people based on a religion. How do you do that? We are a country founded on religious freedom and liberty. How do we do what he has advocated without causing great distress within our own county? Are we going to have religious tests when people fly into our country? And how do we expect to be able to implement those? So I thought that what he said was extremely unwise and even dangerous. And indeed, you can look at the propaganda on a lot of the terrorist sites, and what Donald Trump says about Muslims is used to recruit fighters, because they want to create a war between us. And the final thing I would say, this is the 10th or 12th time that he’s denied being for the war in Iraq. We have it on tape. The entire press corps has looked at it. It’s been debunked, but it never stops him from saying whatever he wants to say. CLINTON: So, please… CLINTON: … go to HillaryClinton.com and you can see it. CLINTON: Well, right. As I recall, that was something I said about Abraham Lincoln after having seen the wonderful Steven Spielberg movie called “Lincoln.” It was a master class watching President Lincoln get the Congress to approve the 13th Amendment. It was principled, and it was strategic. And I was making the point that it is hard sometimes to get the Congress to do what you want to do and you have to keep working at it. And, yes, President Lincoln was trying to convince some people, he used some arguments, convincing other people, he used other arguments. That was a great—I thought a great display of presidential leadership. But, you know, let’s talk about what’s really going on here, Martha, because our intelligence community just came out and said in the last few days that the Kremlin, meaning Putin and the Russian government, are directing the attacks, the hacking on American accounts to influence our election. And WikiLeaks is part of that, as are other sites where the Russians hack information, we don’t even know if it’s accurate information, and then they put it out. We have never in the history of our country been in a situation where an adversary, a foreign power, is working so hard to influence the outcome of the election. And believe me, they’re not doing it to get me elected. They’re doing it to try to influence the election for Donald Trump. Now, maybe because he has praised Putin, maybe because he says he agrees with a lot of what Putin wants to do, maybe because he wants to do business in Moscow, I don’t know the reasons. But we deserve answers. And we should demand that Donald release all of his tax returns so that people can see what are the entanglements and the financial relationships that he has… CLINTON: … with the Russians and other foreign powers. CLINTON: Well, everything you’ve heard just now from Donald is not true. I’m sorry I have to keep saying this, but he lives in an alternative reality. And it is sort of amusing to hear somebody who hasn’t paid federal income taxes in maybe 20 years talking about what he’s going to do. But I’ll tell you what he’s going to do. His plan will give the wealthy and corporations the biggest tax cuts they’ve ever had, more than the Bush tax cuts by at least a factor of two. Donald always takes care of Donald and people like Donald, and this would be a massive gift. And, indeed, the way that he talks about his tax cuts would end up raising taxes on middle-class families, millions of middle-class families. Now, here’s what I want to do. I have said nobody who makes less than $250,000 a year—and that’s the vast majority of Americans as you know—will have their taxes raised, because I think we’ve got to go where the money is. And the money is with people who have taken advantage of every single break in the tax code. And, yes, when I was a senator, I did vote to close corporate loopholes. I voted to close, I think, one of the loopholes he took advantage of when he claimed a billion-dollar loss that enabled him to avoid paying taxes. I want to have a tax on people who are making a million dollars. It’s called the Buffett rule. Yes, Warren Buffett is the one who’s gone out and said somebody like him should not be paying a lower tax rate than his secretary. I want to have a surcharge on incomes above $5 million. We have to make up for lost times, because I want to invest in you. I want to invest in hard-working families. And I think it’s been unfortunate, but it’s happened, that since the Great Recession, the gains have all gone to the top. And we need to reverse that. People like Donald, who paid zero in taxes, zero for our vets, zero for our military, zero for health and education, that is wrong. CLINTON: And we’re going to make sure that nobody, no corporation, and no individual can get away without paying his fair share to support our country. CLINTON: Well, here we go again. I’ve been in favor of getting rid of carried interest for years, starting when I was a senator from New York. But that’s not the point here. CLINTON: Because I was a senator with a Republican president. CLINTON: I will be the president and we will get it done. That’s exactly right. CLINTON: You know, under our Constitution, presidents have something called veto power. Look, he has now said repeatedly, “30 years this and 30 years that.” So let me talk about my 30 years in public service. I’m very glad to do so. Eight million kids every year have health insurance, because when I was first lady I worked with Democrats and Republicans to create the Children’s Health Insurance Program. Hundreds of thousands of kids now have a chance to be adopted because I worked to change our adoption and foster care system. After 9/11, I went to work with Republican mayor, governor and president to rebuild New York and to get health care for our first responders who were suffering because they had run toward danger and gotten sickened by it. Hundreds of thousands of National Guard and Reserve members have health care because of work that I did, and children have safer medicines because I was able to pass a law that required the dosing to be more carefully done. When I was secretary of state, I went around the world advocating for our country, but also advocating for women’s rights, to make sure that women had a decent chance to have a better life and negotiated a treaty with Russia to lower nuclear weapons. Four hundred pieces of legislation have my name on it as a sponsor or cosponsor when I was a senator for eight years. I worked very hard and was very proud to be re-elected in New York by an even bigger margin than I had been elected the first time. And as president, I will take that work, that bipartisan work, that finding common ground, because you have to be able to get along with people to get things done in Washington. CLINTON: And I’ve proven that I can, and for 30 years, I’ve produced results for people. CLINTON: Well, the situation in Syria is catastrophic. And every day that goes by, we see the results of the regime by Assad in partnership with the Iranians on the ground, the Russians in the air, bombarding places, in particular Aleppo, where there are hundreds of thousands of people, probably about 250,000 still left. And there is a determined effort by the Russian air force to destroy Aleppo in order to eliminate the last of the Syrian rebels who are really holding out against the Assad regime. Russia hasn’t paid any attention to ISIS. They’re interested in keeping Assad in power. So I, when I was secretary of state, advocated and I advocate today a no-fly zone and safe zones. We need some leverage with the Russians, because they are not going to come to the negotiating table for a diplomatic resolution, unless there is some leverage over them. And we have to work more closely with our partners and allies on the ground. But I want to emphasize that what is at stake here is the ambitions and the aggressiveness of Russia. Russia has decided that it’s all in, in Syria. And they’ve also decided who they want to see become president of the United States, too, and it’s not me. I’ve stood up to Russia. I’ve taken on Putin and others, and I would do that as president. I think wherever we can cooperate with Russia, that’s fine. And I did as secretary of state. That’s how we got a treaty reducing nuclear weapons. It’s how we got the sanctions on Iran that put a lid on the Iranian nuclear program without firing a single shot. So I would go to the negotiating table with more leverage than we have now. But I do support the effort to investigate for crimes, war crimes committed by the Syrians and the Russians and try to hold them accountable. CLINTON: No, I wasn’t. I was gone. I hate to interrupt you, but at some point… CLINTON: At some point, we need to do some fact-checking here. CLINTON: I would not use American ground forces in Syria. I think that would be a very serious mistake. I don’t think American troops should be holding territory, which is what they would have to do as an occupying force. I don’t think that is a smart strategy. I do think the use of special forces, which we’re using, the use of enablers and trainers in Iraq, which has had some positive effects, are very much in our interests, and so I do support what is happening, but let me just… CLINTON: Well, Martha, I hope that by the time I—if I’m fortunate… CLINTON: I hope by the time I am president that we will have pushed ISIS out of Iraq. I do think that there is a good chance that we can take Mosul. And, you know, Donald says he knows more about ISIS than the generals. No, he doesn’t. There are a lot of very important planning going on, and some of it is to signal to the Sunnis in the area, as well as Kurdish Peshmerga fighters, that we all need to be in this. And that takes a lot of planning and preparation. I would go after Baghdadi. I would specifically target Baghdadi, because I think our targeting of Al Qaida leaders—and I was involved in a lot of those operations, highly classified ones—made a difference. So I think that could help. I would also consider arming the Kurds. The Kurds have been our best partners in Syria, as well as Iraq. And I know there’s a lot of concern about that in some circles, but I think they should have the equipment they need so that Kurdish and Arab fighters on the ground are the principal way that we take Raqqa after pushing ISIS out of Iraq. CLINTON: Well, 67 percent of the people voted to re-elect me when I ran for my second term, and I was very proud and very humbled by that. Mr. Carter, I have tried my entire life to do what I can to support children and families. You know, right out of law school, I went to work for the Children’s Defense Fund. And Donald talks a lot about, you know, the 30 years I’ve been in public service. I’m proud of that. You know, I started off as a young lawyer working against discrimination against African-American children in schools and in the criminal justice system. I worked to make sure that kids with disabilities could get a public education, something that I care very much about. I have worked with Latinos—one of my first jobs in politics was down in south Texas registering Latino citizens to be able to vote. So I have a deep devotion, to use your absolutely correct word, to making sure that every American feels like he or she has a place in our country. And I think when you look at the letters that I get, a lot of people are worried that maybe they wouldn’t have a place in Donald Trump’s America. They write me, and one woman wrote me about her son, Felix. She adopted him from Ethiopia when he was a toddler. He’s 10 years old now. This is the only country he’s ever known. And he listens to Donald on TV and he said to his mother one day, will he send me back to Ethiopia if he gets elected? You know, children listen to what is being said. To go back to the very, very first question. And there’s a lot of fear—in fact, teachers and parents are calling it the Trump effect. Bullying is up. A lot of people are feeling, you know, uneasy. A lot of kids are expressing their concerns. So, first and foremost, I will do everything I can to reach out to everybody. CLINTON: Democrats, Republicans, independents, people across our country. If you don’t vote for me, I still want to be your president. CLINTON: I want to be the best president I can be for every American. CLINTON: Well, within hours I said that I was sorry about the way I talked about that, because my argument is not with his supporters. It’s with him and with the hateful and divisive campaign that he has run, and the inciting of violence at his rallies, and the very brutal kinds of comments about not just women, but all Americans, all kinds of Americans. And what he has said about African-Americans and Latinos, about Muslims, about POWs, about immigrants, about people with disabilities, he’s never apologized for. And so I do think that a lot of the tone and tenor that he has said—I’m proud of the campaign that Bernie Sanders and I ran. We ran a campaign based on issues, not insults. And he is supporting me 100 percent. CLINTON: Because we talked about what we wanted to do. We might have had some differences, and we had a lot of debates… CLINTON: No. CLINTON: Well, it’s not only my opinion. It’s the opinion of many others, national security experts, Republicans, former Republican members of Congress. But it’s in part because those of us who have had the great privilege of seeing this job up close and know how difficult it is, and it’s not just because I watched my husband take a $300 billion deficit and turn it into a $200 billion surplus, and 23 million new jobs were created, and incomes went up for everybody. Everybody. African-American incomes went up 33 percent. And it’s not just because I worked with George W. Bush after 9/11, and I was very proud that when I told him what the city needed, what we needed to recover, he said you’ve got it, and he never wavered. He stuck with me. And I have worked and I admire President Obama. He inherited the worst financial crisis since the Great Depression. That was a terrible time for our country. CLINTON: Nine million people lost their jobs. CLINTON: Five million homes were lost. CLINTON: And $13 trillion in family wealth was wiped out. We are back on the right track. He would send us back into recession with his tax plans that benefit the wealthiest of Americans. CLINTON: Thank you. Well, you’re right. This is one of the most important issues in this election. I want to appoint Supreme Court justices who understand the way the world really works, who have real-life experience, who have not just been in a big law firm and maybe clerked for a judge and then gotten on the bench, but, you know, maybe they tried some more cases, they actually understand what people are up against. Because I think the current court has gone in the wrong direction. And so I would want to see the Supreme Court reverse Citizens United and get dark, unaccountable money out of our politics. Donald doesn’t agree with that. I would like the Supreme Court to understand that voting rights are still a big problem in many parts of our country, that we don’t always do everything we can to make it possible for people of color and older people and young people to be able to exercise their franchise. I want a Supreme Court that will stick with Roe v. Wade and a woman’s right to choose, and I want a Supreme Court that will stick with marriage equality. Now, Donald has put forth the names of some people that he would consider. And among the ones that he has suggested are people who would reverse Roe v. Wade and reverse marriage equality. I think that would be a terrible mistake and would take us backwards. I want a Supreme Court that doesn’t always side with corporate interests. I want a Supreme Court that understands because you’re wealthy and you can give more money to something doesn’t mean you have any more rights or should have any more rights than anybody else. So I have very clear views about what I want to see to kind of change the balance on the Supreme Court. And I regret deeply that the Senate has not done its job and they have not permitted a vote on the person that President Obama, a highly qualified person, they’ve not given him a vote to be able to be have the full complement of nine Supreme Court justices. I think that was a dereliction of duty. I hope that they will see their way to doing it, but if I am so fortunate enough as to be president, I will immediately move to make sure that we fill that, we have nine justices that get to work on behalf of our people. CLINTON: Well…[crosstalk] CLINTON: The question was about the Supreme Court. And I just want to quickly say, I respect the Second Amendment. But I believe there should be comprehensive background checks, and we should close the gun show loophole, and close the online loophole. CLINTON: We have to save as many lives as we possibly can. CLINTON: And actually—well, that was very interesting. First of all, China is illegally dumping steel in the United States and Donald Trump is buying it to build his buildings, putting steelworkers and American steel plants out of business. That’s something that I fought against as a senator and that I would have a trade prosecutor to make sure that we don’t get taken advantage of by China on steel or anything else. You know, because it sounds like you’re in the business or you’re aware of people in the business—you know that we are now for the first time ever energy-independent. We are not dependent upon the Middle East. But the Middle East still controls a lot of the prices. So the price of oil has been way down. And that has had a damaging effect on a lot of the oil companies, right? We are, however, producing a lot of natural gas, which serves as a bridge to more renewable fuels. And I think that’s an important transition. We’ve got to remain energy-independent. It gives us much more power and freedom than to be worried about what goes on in the Middle East. We have enough worries over there without having to worry about that. So I have a comprehensive energy policy, but it really does include fighting climate change, because I think that is a serious problem. And I support moving toward more clean, renewable energy as quickly as we can, because I think we can be the 21st century clean energy superpower and create millions of new jobs and businesses. But I also want to be sure that we don’t leave people behind. That’s why I’m the only candidate from the very beginning of this campaign who had a plan to help us revitalize coal country, because those coal miners and their fathers and their grandfathers, they dug that coal out. A lot of them lost their lives. They were injured, but they turned the lights on and they powered our factories. I don’t want to walk away from them. So we’ve got to do something for them. CLINTON: But the price of coal is down worldwide. So we have to look at this comprehensively. CLINTON: And that’s exactly what I have proposed. I hope you will go to HillaryClinton.com and look at my entire policy.'"
      ]
     },
     "execution_count": 68,
     "metadata": {},
     "output_type": "execute_result"
    }
   ],
   "source": [
    "# Checking that the 'Text' is now one string\n",
    "result_df['Text'][1]"
   ]
  },
  {
   "cell_type": "code",
   "execution_count": 69,
   "id": "c8698727",
   "metadata": {},
   "outputs": [
    {
     "data": {
      "text/plain": [
       "str"
      ]
     },
     "execution_count": 69,
     "metadata": {},
     "output_type": "execute_result"
    }
   ],
   "source": [
    "type(result_df['Text'][1])"
   ]
  },
  {
   "cell_type": "code",
   "execution_count": 70,
   "id": "249e77ff",
   "metadata": {},
   "outputs": [
    {
     "data": {
      "text/plain": [
       "0      CLINTON: Thank you very much, Chris. And thank...\n",
       "1      CLINTON: Well, thank you. Are you a teacher? Y...\n",
       "2      CLINTON: How are you, Donald? [applause] CLINT...\n",
       "3      CLINTON: I was going to applaud, too. Well, th...\n",
       "4      CLINTON: Thank you, Jim. And thank you to the ...\n",
       "                             ...                        \n",
       "163    KENNEDY: In the first place I’ve never suggest...\n",
       "164    KENNEDY: Good evening, Mr. Shadel. MR. KENNEDY...\n",
       "165    KENNEDY: Good evening, Mr. Howe. MR. KENNEDY: ...\n",
       "166    ANDERSON: Miss Loomis, I think it’s very appro...\n",
       "167    ANDERSON: Miss Loomis, I think it’s very appro...\n",
       "Name: Text, Length: 168, dtype: object"
      ]
     },
     "execution_count": 70,
     "metadata": {},
     "output_type": "execute_result"
    }
   ],
   "source": [
    "# Checking our text column\n",
    "result_df['Text']"
   ]
  },
  {
   "cell_type": "markdown",
   "id": "2eef41f0",
   "metadata": {},
   "source": [
    "Above it seems like rows 166 and 167 are exact duplicates."
   ]
  },
  {
   "cell_type": "code",
   "execution_count": 71,
   "id": "4e787816",
   "metadata": {},
   "outputs": [
    {
     "data": {
      "text/plain": [
       "Year    True\n",
       "Name    True\n",
       "Text    True\n",
       "dtype: bool"
      ]
     },
     "execution_count": 71,
     "metadata": {},
     "output_type": "execute_result"
    }
   ],
   "source": [
    "# Checking to see if rows 16 and 167 are identical\n",
    "result_df.iloc[166] == result_df.iloc[167]"
   ]
  },
  {
   "cell_type": "code",
   "execution_count": 72,
   "id": "74120569",
   "metadata": {},
   "outputs": [
    {
     "data": {
      "text/html": [
       "<div>\n",
       "<style scoped>\n",
       "    .dataframe tbody tr th:only-of-type {\n",
       "        vertical-align: middle;\n",
       "    }\n",
       "\n",
       "    .dataframe tbody tr th {\n",
       "        vertical-align: top;\n",
       "    }\n",
       "\n",
       "    .dataframe thead th {\n",
       "        text-align: right;\n",
       "    }\n",
       "</style>\n",
       "<table border=\"1\" class=\"dataframe\">\n",
       "  <thead>\n",
       "    <tr style=\"text-align: right;\">\n",
       "      <th></th>\n",
       "      <th>Year</th>\n",
       "      <th>Name</th>\n",
       "      <th>Text</th>\n",
       "    </tr>\n",
       "  </thead>\n",
       "  <tbody>\n",
       "    <tr>\n",
       "      <th>0</th>\n",
       "      <td>2016</td>\n",
       "      <td>CLINTON</td>\n",
       "      <td>CLINTON: Thank you very much, Chris. And thank...</td>\n",
       "    </tr>\n",
       "    <tr>\n",
       "      <th>1</th>\n",
       "      <td>2016</td>\n",
       "      <td>CLINTON</td>\n",
       "      <td>CLINTON: Well, thank you. Are you a teacher? Y...</td>\n",
       "    </tr>\n",
       "    <tr>\n",
       "      <th>2</th>\n",
       "      <td>2016</td>\n",
       "      <td>CLINTON</td>\n",
       "      <td>CLINTON: How are you, Donald? [applause] CLINT...</td>\n",
       "    </tr>\n",
       "    <tr>\n",
       "      <th>3</th>\n",
       "      <td>1996</td>\n",
       "      <td>CLINTON</td>\n",
       "      <td>CLINTON: I was going to applaud, too. Well, th...</td>\n",
       "    </tr>\n",
       "    <tr>\n",
       "      <th>4</th>\n",
       "      <td>1996</td>\n",
       "      <td>CLINTON</td>\n",
       "      <td>CLINTON: Thank you, Jim. And thank you to the ...</td>\n",
       "    </tr>\n",
       "    <tr>\n",
       "      <th>...</th>\n",
       "      <td>...</td>\n",
       "      <td>...</td>\n",
       "      <td>...</td>\n",
       "    </tr>\n",
       "    <tr>\n",
       "      <th>163</th>\n",
       "      <td>1960</td>\n",
       "      <td>KENNEDY</td>\n",
       "      <td>NaN</td>\n",
       "    </tr>\n",
       "    <tr>\n",
       "      <th>164</th>\n",
       "      <td>1960</td>\n",
       "      <td>KENNEDY</td>\n",
       "      <td>NaN</td>\n",
       "    </tr>\n",
       "    <tr>\n",
       "      <th>165</th>\n",
       "      <td>1960</td>\n",
       "      <td>KENNEDY</td>\n",
       "      <td>NaN</td>\n",
       "    </tr>\n",
       "    <tr>\n",
       "      <th>166</th>\n",
       "      <td>1980</td>\n",
       "      <td>ANDERSON</td>\n",
       "      <td>ANDERSON: Miss Loomis, I think it’s very appro...</td>\n",
       "    </tr>\n",
       "    <tr>\n",
       "      <th>167</th>\n",
       "      <td>1980</td>\n",
       "      <td>ANDERSON</td>\n",
       "      <td>NaN</td>\n",
       "    </tr>\n",
       "  </tbody>\n",
       "</table>\n",
       "<p>168 rows × 3 columns</p>\n",
       "</div>"
      ],
      "text/plain": [
       "     Year      Name                                               Text\n",
       "0    2016   CLINTON  CLINTON: Thank you very much, Chris. And thank...\n",
       "1    2016   CLINTON  CLINTON: Well, thank you. Are you a teacher? Y...\n",
       "2    2016   CLINTON  CLINTON: How are you, Donald? [applause] CLINT...\n",
       "3    1996   CLINTON  CLINTON: I was going to applaud, too. Well, th...\n",
       "4    1996   CLINTON  CLINTON: Thank you, Jim. And thank you to the ...\n",
       "..    ...       ...                                                ...\n",
       "163  1960   KENNEDY                                                NaN\n",
       "164  1960   KENNEDY                                                NaN\n",
       "165  1960   KENNEDY                                                NaN\n",
       "166  1980  ANDERSON  ANDERSON: Miss Loomis, I think it’s very appro...\n",
       "167  1980  ANDERSON                                                NaN\n",
       "\n",
       "[168 rows x 3 columns]"
      ]
     },
     "execution_count": 72,
     "metadata": {},
     "output_type": "execute_result"
    }
   ],
   "source": [
    "# Keeping only the first instance of any duplicate rows\n",
    "\n",
    "result_df['Text'] = result_df['Text'].drop_duplicates(keep='first')\n",
    "result_df"
   ]
  },
  {
   "cell_type": "code",
   "execution_count": 73,
   "id": "856cc526",
   "metadata": {},
   "outputs": [
    {
     "data": {
      "text/plain": [
       "Year     True\n",
       "Name     True\n",
       "Text    False\n",
       "dtype: bool"
      ]
     },
     "execution_count": 73,
     "metadata": {},
     "output_type": "execute_result"
    }
   ],
   "source": [
    "result_df.iloc[166] == result_df.iloc[167]"
   ]
  },
  {
   "cell_type": "code",
   "execution_count": 74,
   "id": "172abee0",
   "metadata": {},
   "outputs": [
    {
     "data": {
      "text/html": [
       "<div>\n",
       "<style scoped>\n",
       "    .dataframe tbody tr th:only-of-type {\n",
       "        vertical-align: middle;\n",
       "    }\n",
       "\n",
       "    .dataframe tbody tr th {\n",
       "        vertical-align: top;\n",
       "    }\n",
       "\n",
       "    .dataframe thead th {\n",
       "        text-align: right;\n",
       "    }\n",
       "</style>\n",
       "<table border=\"1\" class=\"dataframe\">\n",
       "  <thead>\n",
       "    <tr style=\"text-align: right;\">\n",
       "      <th></th>\n",
       "      <th>Year</th>\n",
       "      <th>Name</th>\n",
       "      <th>Text</th>\n",
       "    </tr>\n",
       "  </thead>\n",
       "  <tbody>\n",
       "    <tr>\n",
       "      <th>10</th>\n",
       "      <td>2016</td>\n",
       "      <td>CLINTON</td>\n",
       "      <td>NaN</td>\n",
       "    </tr>\n",
       "    <tr>\n",
       "      <th>11</th>\n",
       "      <td>2016</td>\n",
       "      <td>CLINTON</td>\n",
       "      <td>NaN</td>\n",
       "    </tr>\n",
       "    <tr>\n",
       "      <th>12</th>\n",
       "      <td>2016</td>\n",
       "      <td>CLINTON</td>\n",
       "      <td>NaN</td>\n",
       "    </tr>\n",
       "    <tr>\n",
       "      <th>13</th>\n",
       "      <td>1996</td>\n",
       "      <td>CLINTON</td>\n",
       "      <td>NaN</td>\n",
       "    </tr>\n",
       "    <tr>\n",
       "      <th>14</th>\n",
       "      <td>1996</td>\n",
       "      <td>CLINTON</td>\n",
       "      <td>NaN</td>\n",
       "    </tr>\n",
       "    <tr>\n",
       "      <th>...</th>\n",
       "      <td>...</td>\n",
       "      <td>...</td>\n",
       "      <td>...</td>\n",
       "    </tr>\n",
       "    <tr>\n",
       "      <th>162</th>\n",
       "      <td>1960</td>\n",
       "      <td>KENNEDY</td>\n",
       "      <td>NaN</td>\n",
       "    </tr>\n",
       "    <tr>\n",
       "      <th>163</th>\n",
       "      <td>1960</td>\n",
       "      <td>KENNEDY</td>\n",
       "      <td>NaN</td>\n",
       "    </tr>\n",
       "    <tr>\n",
       "      <th>164</th>\n",
       "      <td>1960</td>\n",
       "      <td>KENNEDY</td>\n",
       "      <td>NaN</td>\n",
       "    </tr>\n",
       "    <tr>\n",
       "      <th>165</th>\n",
       "      <td>1960</td>\n",
       "      <td>KENNEDY</td>\n",
       "      <td>NaN</td>\n",
       "    </tr>\n",
       "    <tr>\n",
       "      <th>167</th>\n",
       "      <td>1980</td>\n",
       "      <td>ANDERSON</td>\n",
       "      <td>NaN</td>\n",
       "    </tr>\n",
       "  </tbody>\n",
       "</table>\n",
       "<p>94 rows × 3 columns</p>\n",
       "</div>"
      ],
      "text/plain": [
       "     Year      Name Text\n",
       "10   2016   CLINTON  NaN\n",
       "11   2016   CLINTON  NaN\n",
       "12   2016   CLINTON  NaN\n",
       "13   1996   CLINTON  NaN\n",
       "14   1996   CLINTON  NaN\n",
       "..    ...       ...  ...\n",
       "162  1960   KENNEDY  NaN\n",
       "163  1960   KENNEDY  NaN\n",
       "164  1960   KENNEDY  NaN\n",
       "165  1960   KENNEDY  NaN\n",
       "167  1980  ANDERSON  NaN\n",
       "\n",
       "[94 rows x 3 columns]"
      ]
     },
     "execution_count": 74,
     "metadata": {},
     "output_type": "execute_result"
    }
   ],
   "source": [
    "result_df[result_df['Text'].isna() == True]"
   ]
  },
  {
   "cell_type": "markdown",
   "id": "c27c5628",
   "metadata": {},
   "source": [
    "Now we check for nulls."
   ]
  },
  {
   "cell_type": "code",
   "execution_count": 75,
   "id": "98d5dec2",
   "metadata": {},
   "outputs": [],
   "source": [
    "result_df.dropna(inplace=True)"
   ]
  },
  {
   "cell_type": "code",
   "execution_count": 76,
   "id": "2310a7c7",
   "metadata": {},
   "outputs": [
    {
     "data": {
      "text/html": [
       "<div>\n",
       "<style scoped>\n",
       "    .dataframe tbody tr th:only-of-type {\n",
       "        vertical-align: middle;\n",
       "    }\n",
       "\n",
       "    .dataframe tbody tr th {\n",
       "        vertical-align: top;\n",
       "    }\n",
       "\n",
       "    .dataframe thead th {\n",
       "        text-align: right;\n",
       "    }\n",
       "</style>\n",
       "<table border=\"1\" class=\"dataframe\">\n",
       "  <thead>\n",
       "    <tr style=\"text-align: right;\">\n",
       "      <th></th>\n",
       "      <th>Year</th>\n",
       "      <th>Name</th>\n",
       "      <th>Text</th>\n",
       "    </tr>\n",
       "  </thead>\n",
       "  <tbody>\n",
       "  </tbody>\n",
       "</table>\n",
       "</div>"
      ],
      "text/plain": [
       "Empty DataFrame\n",
       "Columns: [Year, Name, Text]\n",
       "Index: []"
      ]
     },
     "execution_count": 76,
     "metadata": {},
     "output_type": "execute_result"
    }
   ],
   "source": [
    "result_df[result_df['Text'].isna() == True]"
   ]
  },
  {
   "cell_type": "code",
   "execution_count": 77,
   "id": "cef924d3",
   "metadata": {},
   "outputs": [
    {
     "name": "stdout",
     "output_type": "stream",
     "text": [
      "<class 'pandas.core.frame.DataFrame'>\n",
      "Index: 74 entries, 0 to 166\n",
      "Data columns (total 3 columns):\n",
      " #   Column  Non-Null Count  Dtype \n",
      "---  ------  --------------  ----- \n",
      " 0   Year    74 non-null     object\n",
      " 1   Name    74 non-null     object\n",
      " 2   Text    74 non-null     object\n",
      "dtypes: object(3)\n",
      "memory usage: 2.3+ KB\n"
     ]
    }
   ],
   "source": [
    "result_df.info()"
   ]
  },
  {
   "cell_type": "code",
   "execution_count": 78,
   "id": "f4985b12",
   "metadata": {},
   "outputs": [],
   "source": [
    "# Function for re-naming both Clintons and Bushes\n",
    "def rename(currentname, newname, year):\n",
    "    mask = (result_df['Name'] == currentname) & (result_df['Year'] == year)\n",
    "    result_df.loc[mask, 'Name'] = newname"
   ]
  },
  {
   "cell_type": "code",
   "execution_count": 79,
   "id": "e56fb3dd",
   "metadata": {},
   "outputs": [],
   "source": [
    "rename(\"CLINTON\", \"H_CLINTON\", \"2016\")\n",
    "rename(\"CLINTON\", \"B_CLINTON\", \"1992\")\n",
    "rename(\"CLINTON\", \"B_CLINTON\", \"1996\")\n",
    "rename(\"BUSH\", \"BUSH_2\", \"2008\")\n",
    "rename(\"BUSH\", \"BUSH_2\", \"2004\")\n",
    "rename(\"BUSH\", \"BUSH_2\", \"2000\")\n",
    "rename(\"BUSH\", \"BUSH_1\", \"1988\")\n",
    "rename(\"BUSH\", \"BUSH_1\", \"1992\")"
   ]
  },
  {
   "cell_type": "code",
   "execution_count": 80,
   "id": "1074c571",
   "metadata": {},
   "outputs": [
    {
     "data": {
      "text/plain": [
       "Name\n",
       "B_CLINTON    7\n",
       "BUSH_1       7\n",
       "OBAMA        6\n",
       "BUSH_2       6\n",
       "GORE         5\n",
       "TRUMP        5\n",
       "KENNEDY      4\n",
       "NIXON        4\n",
       "FORD         4\n",
       "CARTER       4\n",
       "H_CLINTON    3\n",
       "KERRY        3\n",
       "MCCAIN       3\n",
       "ROMNEY       3\n",
       "DOLE         2\n",
       "DUKAKIS      2\n",
       "REAGAN       2\n",
       "MONDALE      2\n",
       "BUSH         1\n",
       "ANDERSON     1\n",
       "Name: count, dtype: int64"
      ]
     },
     "execution_count": 80,
     "metadata": {},
     "output_type": "execute_result"
    }
   ],
   "source": [
    "result_df['Name'].value_counts()"
   ]
  },
  {
   "cell_type": "code",
   "execution_count": 81,
   "id": "c13613bb",
   "metadata": {},
   "outputs": [
    {
     "data": {
      "text/html": [
       "<div>\n",
       "<style scoped>\n",
       "    .dataframe tbody tr th:only-of-type {\n",
       "        vertical-align: middle;\n",
       "    }\n",
       "\n",
       "    .dataframe tbody tr th {\n",
       "        vertical-align: top;\n",
       "    }\n",
       "\n",
       "    .dataframe thead th {\n",
       "        text-align: right;\n",
       "    }\n",
       "</style>\n",
       "<table border=\"1\" class=\"dataframe\">\n",
       "  <thead>\n",
       "    <tr style=\"text-align: right;\">\n",
       "      <th></th>\n",
       "      <th>Year</th>\n",
       "      <th>Name</th>\n",
       "      <th>Text</th>\n",
       "    </tr>\n",
       "  </thead>\n",
       "  <tbody>\n",
       "    <tr>\n",
       "      <th>67</th>\n",
       "      <td>1984</td>\n",
       "      <td>BUSH</td>\n",
       "      <td>BUSH: Well, I don’t think there’s a great diff...</td>\n",
       "    </tr>\n",
       "  </tbody>\n",
       "</table>\n",
       "</div>"
      ],
      "text/plain": [
       "    Year  Name                                               Text\n",
       "67  1984  BUSH  BUSH: Well, I don’t think there’s a great diff..."
      ]
     },
     "execution_count": 81,
     "metadata": {},
     "output_type": "execute_result"
    }
   ],
   "source": [
    "# Looking at the un-renamed 'BUSH' rows\n",
    "result_df[result_df['Name'] == 'BUSH']"
   ]
  },
  {
   "cell_type": "markdown",
   "id": "ba28cc0c",
   "metadata": {},
   "source": [
    "We noticed 2 instance of 'BUSH' in our dataframe. They are both for 1984, when George H.W. Bush ran as Reagan's V.P. Since we are interested in presidential candidates, we drop these rows below."
   ]
  },
  {
   "cell_type": "code",
   "execution_count": 82,
   "id": "a8486cf8",
   "metadata": {},
   "outputs": [],
   "source": [
    "result_df = result_df[result_df['Name'] != \"BUSH\"]"
   ]
  },
  {
   "cell_type": "markdown",
   "id": "b55b60a7",
   "metadata": {},
   "source": [
    "Now we need to create our target column. The loop below assigns a 0 to a 'Target' column if the person in that row is a democrat, and assigns a 1 otherwise. \n",
    "\n",
    "We also drop our one independent candidate, as we do not have enough data for independent candidates' speech to "
   ]
  },
  {
   "cell_type": "code",
   "execution_count": 83,
   "id": "24a88929",
   "metadata": {},
   "outputs": [
    {
     "name": "stderr",
     "output_type": "stream",
     "text": [
      "/var/folders/45/9490rsy120vgdzpsxzj4d3wr0000gn/T/ipykernel_65116/332914409.py:4: SettingWithCopyWarning: \n",
      "A value is trying to be set on a copy of a slice from a DataFrame.\n",
      "Try using .loc[row_indexer,col_indexer] = value instead\n",
      "\n",
      "See the caveats in the documentation: https://pandas.pydata.org/pandas-docs/stable/user_guide/indexing.html#returning-a-view-versus-a-copy\n",
      "  result_df['Target'] = 1  # Default value for rows not matching dems or ind\n"
     ]
    },
    {
     "data": {
      "text/html": [
       "<div>\n",
       "<style scoped>\n",
       "    .dataframe tbody tr th:only-of-type {\n",
       "        vertical-align: middle;\n",
       "    }\n",
       "\n",
       "    .dataframe tbody tr th {\n",
       "        vertical-align: top;\n",
       "    }\n",
       "\n",
       "    .dataframe thead th {\n",
       "        text-align: right;\n",
       "    }\n",
       "</style>\n",
       "<table border=\"1\" class=\"dataframe\">\n",
       "  <thead>\n",
       "    <tr style=\"text-align: right;\">\n",
       "      <th></th>\n",
       "      <th>Year</th>\n",
       "      <th>Name</th>\n",
       "      <th>Text</th>\n",
       "      <th>Target</th>\n",
       "    </tr>\n",
       "  </thead>\n",
       "  <tbody>\n",
       "    <tr>\n",
       "      <th>0</th>\n",
       "      <td>2016</td>\n",
       "      <td>H_CLINTON</td>\n",
       "      <td>CLINTON: Thank you very much, Chris. And thank...</td>\n",
       "      <td>0</td>\n",
       "    </tr>\n",
       "    <tr>\n",
       "      <th>1</th>\n",
       "      <td>2016</td>\n",
       "      <td>H_CLINTON</td>\n",
       "      <td>CLINTON: Well, thank you. Are you a teacher? Y...</td>\n",
       "      <td>0</td>\n",
       "    </tr>\n",
       "    <tr>\n",
       "      <th>2</th>\n",
       "      <td>2016</td>\n",
       "      <td>H_CLINTON</td>\n",
       "      <td>CLINTON: How are you, Donald? [applause] CLINT...</td>\n",
       "      <td>0</td>\n",
       "    </tr>\n",
       "    <tr>\n",
       "      <th>3</th>\n",
       "      <td>1996</td>\n",
       "      <td>B_CLINTON</td>\n",
       "      <td>CLINTON: I was going to applaud, too. Well, th...</td>\n",
       "      <td>0</td>\n",
       "    </tr>\n",
       "    <tr>\n",
       "      <th>4</th>\n",
       "      <td>1996</td>\n",
       "      <td>B_CLINTON</td>\n",
       "      <td>CLINTON: Thank you, Jim. And thank you to the ...</td>\n",
       "      <td>0</td>\n",
       "    </tr>\n",
       "    <tr>\n",
       "      <th>...</th>\n",
       "      <td>...</td>\n",
       "      <td>...</td>\n",
       "      <td>...</td>\n",
       "      <td>...</td>\n",
       "    </tr>\n",
       "    <tr>\n",
       "      <th>153</th>\n",
       "      <td>1960</td>\n",
       "      <td>NIXON</td>\n",
       "      <td>NIXON: Mr. Smith, Senator Kennedy. The things ...</td>\n",
       "      <td>1</td>\n",
       "    </tr>\n",
       "    <tr>\n",
       "      <th>158</th>\n",
       "      <td>1960</td>\n",
       "      <td>KENNEDY</td>\n",
       "      <td>KENNEDY: Good evening, Mr. Howe. MR. KENNEDY: ...</td>\n",
       "      <td>0</td>\n",
       "    </tr>\n",
       "    <tr>\n",
       "      <th>159</th>\n",
       "      <td>1960</td>\n",
       "      <td>KENNEDY</td>\n",
       "      <td>KENNEDY: Good evening, Mr. Shadel. MR. KENNEDY...</td>\n",
       "      <td>0</td>\n",
       "    </tr>\n",
       "    <tr>\n",
       "      <th>160</th>\n",
       "      <td>1960</td>\n",
       "      <td>KENNEDY</td>\n",
       "      <td>KENNEDY: In the first place I’ve never suggest...</td>\n",
       "      <td>0</td>\n",
       "    </tr>\n",
       "    <tr>\n",
       "      <th>161</th>\n",
       "      <td>1960</td>\n",
       "      <td>KENNEDY</td>\n",
       "      <td>KENNEDY: Mr. Smith, Mr. Nixon. In the election...</td>\n",
       "      <td>0</td>\n",
       "    </tr>\n",
       "  </tbody>\n",
       "</table>\n",
       "<p>72 rows × 4 columns</p>\n",
       "</div>"
      ],
      "text/plain": [
       "     Year       Name                                               Text   \n",
       "0    2016  H_CLINTON  CLINTON: Thank you very much, Chris. And thank...  \\\n",
       "1    2016  H_CLINTON  CLINTON: Well, thank you. Are you a teacher? Y...   \n",
       "2    2016  H_CLINTON  CLINTON: How are you, Donald? [applause] CLINT...   \n",
       "3    1996  B_CLINTON  CLINTON: I was going to applaud, too. Well, th...   \n",
       "4    1996  B_CLINTON  CLINTON: Thank you, Jim. And thank you to the ...   \n",
       "..    ...        ...                                                ...   \n",
       "153  1960      NIXON  NIXON: Mr. Smith, Senator Kennedy. The things ...   \n",
       "158  1960    KENNEDY  KENNEDY: Good evening, Mr. Howe. MR. KENNEDY: ...   \n",
       "159  1960    KENNEDY  KENNEDY: Good evening, Mr. Shadel. MR. KENNEDY...   \n",
       "160  1960    KENNEDY  KENNEDY: In the first place I’ve never suggest...   \n",
       "161  1960    KENNEDY  KENNEDY: Mr. Smith, Mr. Nixon. In the election...   \n",
       "\n",
       "     Target  \n",
       "0         0  \n",
       "1         0  \n",
       "2         0  \n",
       "3         0  \n",
       "4         0  \n",
       "..      ...  \n",
       "153       1  \n",
       "158       0  \n",
       "159       0  \n",
       "160       0  \n",
       "161       0  \n",
       "\n",
       "[72 rows x 4 columns]"
      ]
     },
     "execution_count": 83,
     "metadata": {},
     "output_type": "execute_result"
    }
   ],
   "source": [
    "dems = ['B_CLINTON', 'OBAMA', 'GORE', 'CARTER', 'KENNEDY', 'H_CLINTON', 'KERRY', 'DUKAKIS', 'MONDALE']\n",
    "ind = ['ANDERSON']\n",
    "\n",
    "result_df['Target'] = 1  # Default value for rows not matching dems or ind\n",
    "\n",
    "for row in result_df['Name']:\n",
    "    if row in dems:\n",
    "        result_df.loc[result_df['Name'] == row, 'Target'] = 0\n",
    "    else:\n",
    "        result_df.loc[result_df['Name'] == row, 'Target'] = 1\n",
    "\n",
    "result_df = result_df[result_df['Name'] != \"ANDERSON\"]\n",
    "result_df"
   ]
  },
  {
   "cell_type": "code",
   "execution_count": 84,
   "id": "5ed8dc6c",
   "metadata": {},
   "outputs": [
    {
     "data": {
      "text/html": [
       "<div>\n",
       "<style scoped>\n",
       "    .dataframe tbody tr th:only-of-type {\n",
       "        vertical-align: middle;\n",
       "    }\n",
       "\n",
       "    .dataframe tbody tr th {\n",
       "        vertical-align: top;\n",
       "    }\n",
       "\n",
       "    .dataframe thead th {\n",
       "        text-align: right;\n",
       "    }\n",
       "</style>\n",
       "<table border=\"1\" class=\"dataframe\">\n",
       "  <thead>\n",
       "    <tr style=\"text-align: right;\">\n",
       "      <th></th>\n",
       "      <th>Year</th>\n",
       "      <th>Name</th>\n",
       "      <th>Text</th>\n",
       "      <th>Target</th>\n",
       "    </tr>\n",
       "  </thead>\n",
       "  <tbody>\n",
       "  </tbody>\n",
       "</table>\n",
       "</div>"
      ],
      "text/plain": [
       "Empty DataFrame\n",
       "Columns: [Year, Name, Text, Target]\n",
       "Index: []"
      ]
     },
     "execution_count": 84,
     "metadata": {},
     "output_type": "execute_result"
    }
   ],
   "source": [
    "result_df[result_df['Name'] == 'Anderson']"
   ]
  },
  {
   "cell_type": "code",
   "execution_count": 85,
   "id": "4af299c7",
   "metadata": {},
   "outputs": [
    {
     "data": {
      "text/html": [
       "<div>\n",
       "<style scoped>\n",
       "    .dataframe tbody tr th:only-of-type {\n",
       "        vertical-align: middle;\n",
       "    }\n",
       "\n",
       "    .dataframe tbody tr th {\n",
       "        vertical-align: top;\n",
       "    }\n",
       "\n",
       "    .dataframe thead th {\n",
       "        text-align: right;\n",
       "    }\n",
       "</style>\n",
       "<table border=\"1\" class=\"dataframe\">\n",
       "  <thead>\n",
       "    <tr style=\"text-align: right;\">\n",
       "      <th></th>\n",
       "      <th>Year</th>\n",
       "      <th>Name</th>\n",
       "      <th>Text</th>\n",
       "      <th>Target</th>\n",
       "    </tr>\n",
       "  </thead>\n",
       "  <tbody>\n",
       "    <tr>\n",
       "      <th>126</th>\n",
       "      <td>1980</td>\n",
       "      <td>REAGAN</td>\n",
       "      <td>REAGAN: I don’t know what the differences migh...</td>\n",
       "      <td>1</td>\n",
       "    </tr>\n",
       "    <tr>\n",
       "      <th>127</th>\n",
       "      <td>1980</td>\n",
       "      <td>REAGAN</td>\n",
       "      <td>REAGAN: I believe that the only unpopular meas...</td>\n",
       "      <td>1</td>\n",
       "    </tr>\n",
       "  </tbody>\n",
       "</table>\n",
       "</div>"
      ],
      "text/plain": [
       "     Year    Name                                               Text  Target\n",
       "126  1980  REAGAN  REAGAN: I don’t know what the differences migh...       1\n",
       "127  1980  REAGAN  REAGAN: I believe that the only unpopular meas...       1"
      ]
     },
     "execution_count": 85,
     "metadata": {},
     "output_type": "execute_result"
    }
   ],
   "source": [
    "result_df[result_df['Name'] == \"REAGAN\"]"
   ]
  },
  {
   "cell_type": "code",
   "execution_count": 86,
   "id": "60301214",
   "metadata": {},
   "outputs": [
    {
     "data": {
      "text/plain": [
       "Target\n",
       "0    36\n",
       "1    36\n",
       "Name: count, dtype: int64"
      ]
     },
     "execution_count": 86,
     "metadata": {},
     "output_type": "execute_result"
    }
   ],
   "source": [
    "result_df['Target'].value_counts()"
   ]
  },
  {
   "cell_type": "markdown",
   "id": "f273e58b",
   "metadata": {},
   "source": [
    "Removing the names from the transcripts"
   ]
  },
  {
   "cell_type": "code",
   "execution_count": 87,
   "id": "6ddcb626",
   "metadata": {
    "scrolled": true
   },
   "outputs": [
    {
     "data": {
      "text/plain": [
       "' Well, thank you. Are you a teacher? Yes, I think that that’s a very good question, because I’ve heard from lots of teachers and parents about some of their concerns about some of the things that are being said and done in this campaign. And I think it is very important for us to make clear to our children that our country really is great because we’re good. And we are going to respect one another, lift each other up. We are going to be looking for ways to celebrate our diversity, and we are going to try to reach out to every boy and girl, as well as every adult, to bring them in to working on behalf of our country. I have a very positive and optimistic view about what we can do together. That’s why the slogan of my campaign is “Stronger Together,” because I think if we work together, if we overcome the divisiveness that sometimes sets Americans against one another, and instead we make some big goals—and I’ve set forth some big goals, getting the economy to work for everyone, not just those at the top, making sure that we have the best education system from preschool through college and making it affordable, and so much else. If we set those goals and we go together to try to achieve them, there’s nothing in my opinion that America can’t do. So that’s why I hope that we will come together in this campaign. Obviously, I’m hoping to earn your vote, I’m hoping to be elected in November, and I can promise you, I will work with every American. I want to be the president for all Americans, regardless of your political beliefs, where you come from, what you look like, your religion. I want us to heal our country and bring it together because that’s, I think, the best way for us to get the future that our children and our grandchildren deserve.  Well, like everyone else, I’ve spent a lot of time thinking over the last 48 hours about what we heard and saw. You know, with prior Republican nominees for president, I disagreed with them on politics, policies, principles, but I never questioned their fitness to serve. Donald Trump is different. I said starting back in June that he was not fit to be president and commander-in-chief. And many Republicans and independents have said the same thing. What we all saw and heard on Friday was Donald talking about women, what he thinks about women, what he does to women. And he has said that the video doesn’t represent who he is. But I think it’s clear to anyone who heard it that it represents exactly who he is. Because we’ve seen this throughout the campaign. We have seen him insult women. We’ve seen him rate women on their appearance, ranking them from one to ten. We’ve seen him embarrass women on TV and on Twitter. We saw him after the first debate spend nearly a week denigrating a former Miss Universe in the harshest, most personal terms. So, yes, this is who Donald Trump is. But it’s not only women, and it’s not only this video that raises questions about his fitness to be our president, because he has also targeted immigrants, African-Americans, Latinos, people with disabilities, POWs, Muslims, and so many others. So this is who Donald Trump is. And the question for us, the question our country must answer is that this is not who we are. That’s why—to go back to your question—I want to send a message—we all should—to every boy and girl and, indeed, to the entire world that America already is great, but we are great because we are good, and we will respect one another, and we will work with one another, and we will celebrate our diversity. These are very important values to me, because this is the America that I know and love. And I can pledge to you tonight that this is the America that I will serve if I’m so fortunate enough to become your president.  Well, first, let me start by saying that so much of what he’s just said is not right, but he gets to run his campaign any way he chooses. He gets to decide what he wants to talk about. Instead of answering people’s questions, talking about our agenda, laying out the plans that we have that we think can make a better life and a better country, that’s his choice. When I hear something like that, I am reminded of what my friend, Michelle Obama, advised us all: When they go low, you go high. [applause] And, look, if this were just about one video, maybe what he’s saying tonight would be understandable, but everyone can draw their own conclusions at this point about whether or not the man in the video or the man on the stage respects women. But he never apologizes for anything to anyone. He never apologized to Mr. and Mrs. Khan, the Gold Star family whose son, Captain Khan, died in the line of duty in Iraq. And Donald insulted and attacked them for weeks over their religion. He never apologized to the distinguished federal judge who was born in Indiana, but Donald said he couldn’t be trusted to be a judge because his parents were, quote, “Mexican.” He never apologized to the reporter that he mimicked and mocked on national television and our children were watching. And he never apologized for the racist lie that President Obama was not born in the United States of America. He owes the president an apology, he owes our country an apology, and he needs to take responsibility for his actions and his words.  … because everything he just said is absolutely false, but I’m not surprised.  In the first debate…[laughter]  … I told people that it would be impossible to be fact-checking Donald all the time. I’d never get to talk about anything I want to do and how we’re going to really make lives better for people. So, once again, go to HillaryClinton.com. We have literally Trump—you can fact check him in real time. Last time at the first debate, we had millions of people fact checking, so I expect we’ll have millions more fact checking, because, you know, it is—it’s just awfully good that someone with the temperament of Donald Trump is not in charge of the law in our country.  Well, Martha, first, let me say—and I’ve said before, but I’ll repeat it, because I want everyone to hear it—that was a mistake, and I take responsibility for using a personal e-mail account. Obviously, if I were to do it over again, I would not. I’m not making any excuses. It was a mistake. And I am very sorry about that. But I think it’s also important to point out where there are some misleading accusations from critics and others. After a year-long investigation, there is no evidence that anyone hacked the server I was using and there is no evidence that anyone can point to at all—anyone who says otherwise has no basis—that any classified material ended up in the wrong hands. I take classified materials very seriously and always have. When I was on the Senate Armed Services Committee, I was privy to a lot of classified material. Obviously, as secretary of state, I had some of the most important secrets that we possess, such as going after Bin Laden. So I am very committed to taking classified information seriously. And as I said, there is no evidence that any classified information ended up in the wrong hands.  Look, it’s just not true. And so please, go to…  It was personal e-mails, not official.  Not—well, we turned over 35,000, so…  Yes, that’s true, I didn’t.  I didn’t in the first debate, and I’m going to try not to in this debate, because I’d like to get to the questions that the people have brought here tonight to talk to us about.  OK, Donald. I know you’re into big diversion tonight, anything to avoid talking about your campaign and the way it’s exploding and the way Republicans are leaving you. But let’s at least focus…  … on some of the issues that people care about tonight. Let’s get to their questions.  If he wants to start, he can start. No, go ahead, Donald.  Well, I think Donald was about to say he’s going to solve it by repealing it and getting rid of the Affordable Care Act. And I’m going to fix it, because I agree with you. Premiums have gotten too high. Copays, deductibles, prescription drug costs, and I’ve laid out a series of actions that we can take to try to get those costs down. But here’s what I don’t want people to forget when we’re talking about reining in the costs, which has to be the highest priority of the next president, when the Affordable Care Act passed, it wasn’t just that 20 million people got insurance who didn’t have it before. But that in and of itself was a good thing. I meet these people all the time, and they tell me what a difference having that insurance meant to them and their families. But everybody else, the 170 million of us who get health insurance through our employers got big benefits. Number one, insurance companies can’t deny you coverage because of a pre-existing condition. Number two, no lifetime limits, which is a big deal if you have serious health problems. Number three, women can’t be charged more than men for our health insurance, which is the way it used to be before the Affordable Care Act. Number four, if you’re under 26, and your parents have a policy, you can be on that policy until the age of 26, something that didn’t happen before. So I want very much to save what works and is good about the Affordable Care Act. But we’ve got to get costs down. We’ve got to provide some additional help to small businesses so that they can afford to provide health insurance. But if we repeal it, as Donald has proposed, and start over again, all of those benefits I just mentioned are lost to everybody, not just people who get their health insurance on the exchange. And then we would have to start all over again. Right now, we are at 90 percent health insurance coverage. That’s the highest we’ve ever been in our country.  So I want us to get to 100 percent, but get costs down and keep quality up.  No, I mean, he clarified what he meant. And it’s very clear. Look, we are in a situation in our country where if we were to start all over again, we might come up with a different system. But we have an employer-based system. That’s where the vast majority of people get their health care. And the Affordable Care Act was meant to try to fill the gap between people who were too poor and couldn’t put together any resources to afford health care, namely people on Medicaid. Obviously, Medicare, which is a single-payer system, which takes care of our elderly and does a great job doing it, by the way, and then all of the people who were employed, but people who were working but didn’t have the money to afford insurance and didn’t have anybody, an employer or anybody else, to help them. That was the slot that the Obamacare approach was to take. And like I say, 20 million people now have health insurance. So if we just rip it up and throw it away, what Donald’s not telling you is we just turn it back to the insurance companies the way it used to be, and that means the insurance companies…  … get to do pretty much whatever they want, including saying, look, I’m sorry, you’ve got diabetes, you had cancer, your child has asthma…  … you may not be able to have insurance because you can’t afford it. So let’s fix what’s broken about it, but let’s not throw it away and give it all back to the insurance companies and the drug companies. That’s not going to work.  Well, thank you for asking your question. And I’ve heard this question from a lot of Muslim-Americans across our country, because, unfortunately, there’s been a lot of very divisive, dark things said about Muslims. And even someone like Captain Khan, the young man who sacrificed himself defending our country in the United States Army, has been subject to attack by Donald. I want to say just a couple of things. First, we’ve had Muslims in America since George Washington. And we’ve had many successful Muslims. We just lost a particularly well-known one with Muhammad Ali. My vision of America is an America where everyone has a place, if you’re willing to work hard, you do your part, you contribute to the community. That’s what America is. That’s what we want America to be for our children and our grandchildren. It’s also very short-sighted and even dangerous to be engaging in the kind of demagogic rhetoric that Donald has about Muslims. We need American Muslims to be part of our eyes and ears on our front lines. I’ve worked with a lot of different Muslim groups around America. I’ve met with a lot of them, and I’ve heard how important it is for them to feel that they are wanted and included and part of our country, part of our homeland security, and that’s what I want to see. It’s also important I intend to defeat ISIS, to do so in a coalition with majority Muslim nations. Right now, a lot of those nations are hearing what Donald says and wondering, why should we cooperate with the Americans? And this is a gift to ISIS and the terrorists, violent jihadist terrorists. We are not at war with Islam. And it is a mistake and it plays into the hands of the terrorists to act as though we are. So I want a country where citizens like you and your family are just as welcome as anyone else.  Well, first of all, I will not let anyone into our country that I think poses a risk to us. But there are a lot of refugees, women and children—think of that picture we all saw of that 4-year-old boy with the blood on his forehead because he’d been bombed by the Russian and Syrian air forces. There are children suffering in this catastrophic war, largely, I believe, because of Russian aggression. And we need to do our part. We by no means are carrying anywhere near the load that Europe and others are. But we will have vetting that is as tough as it needs to be from our professionals, our intelligence experts and others. But it is important for us as a policy, you know, not to say, as Donald has said, we’re going to ban people based on a religion. How do you do that? We are a country founded on religious freedom and liberty. How do we do what he has advocated without causing great distress within our own county? Are we going to have religious tests when people fly into our country? And how do we expect to be able to implement those? So I thought that what he said was extremely unwise and even dangerous. And indeed, you can look at the propaganda on a lot of the terrorist sites, and what Donald Trump says about Muslims is used to recruit fighters, because they want to create a war between us. And the final thing I would say, this is the 10th or 12th time that he’s denied being for the war in Iraq. We have it on tape. The entire press corps has looked at it. It’s been debunked, but it never stops him from saying whatever he wants to say.  So, please…  … go to HillaryClinton.com and you can see it.  Well, right. As I recall, that was something I said about Abraham Lincoln after having seen the wonderful Steven Spielberg movie called “Lincoln.” It was a master class watching President Lincoln get the Congress to approve the 13th Amendment. It was principled, and it was strategic. And I was making the point that it is hard sometimes to get the Congress to do what you want to do and you have to keep working at it. And, yes, President Lincoln was trying to convince some people, he used some arguments, convincing other people, he used other arguments. That was a great—I thought a great display of presidential leadership. But, you know, let’s talk about what’s really going on here, Martha, because our intelligence community just came out and said in the last few days that the Kremlin, meaning Putin and the Russian government, are directing the attacks, the hacking on American accounts to influence our election. And WikiLeaks is part of that, as are other sites where the Russians hack information, we don’t even know if it’s accurate information, and then they put it out. We have never in the history of our country been in a situation where an adversary, a foreign power, is working so hard to influence the outcome of the election. And believe me, they’re not doing it to get me elected. They’re doing it to try to influence the election for Donald Trump. Now, maybe because he has praised Putin, maybe because he says he agrees with a lot of what Putin wants to do, maybe because he wants to do business in Moscow, I don’t know the reasons. But we deserve answers. And we should demand that Donald release all of his tax returns so that people can see what are the entanglements and the financial relationships that he has…  … with the Russians and other foreign powers.  Well, everything you’ve heard just now from Donald is not true. I’m sorry I have to keep saying this, but he lives in an alternative reality. And it is sort of amusing to hear somebody who hasn’t paid federal income taxes in maybe 20 years talking about what he’s going to do. But I’ll tell you what he’s going to do. His plan will give the wealthy and corporations the biggest tax cuts they’ve ever had, more than the Bush tax cuts by at least a factor of two. Donald always takes care of Donald and people like Donald, and this would be a massive gift. And, indeed, the way that he talks about his tax cuts would end up raising taxes on middle-class families, millions of middle-class families. Now, here’s what I want to do. I have said nobody who makes less than $250,000 a year—and that’s the vast majority of Americans as you know—will have their taxes raised, because I think we’ve got to go where the money is. And the money is with people who have taken advantage of every single break in the tax code. And, yes, when I was a senator, I did vote to close corporate loopholes. I voted to close, I think, one of the loopholes he took advantage of when he claimed a billion-dollar loss that enabled him to avoid paying taxes. I want to have a tax on people who are making a million dollars. It’s called the Buffett rule. Yes, Warren Buffett is the one who’s gone out and said somebody like him should not be paying a lower tax rate than his secretary. I want to have a surcharge on incomes above $5 million. We have to make up for lost times, because I want to invest in you. I want to invest in hard-working families. And I think it’s been unfortunate, but it’s happened, that since the Great Recession, the gains have all gone to the top. And we need to reverse that. People like Donald, who paid zero in taxes, zero for our vets, zero for our military, zero for health and education, that is wrong.  And we’re going to make sure that nobody, no corporation, and no individual can get away without paying his fair share to support our country.  Well, here we go again. I’ve been in favor of getting rid of carried interest for years, starting when I was a senator from New York. But that’s not the point here.  Because I was a senator with a Republican president.  I will be the president and we will get it done. That’s exactly right.  You know, under our Constitution, presidents have something called veto power. Look, he has now said repeatedly, “30 years this and 30 years that.” So let me talk about my 30 years in public service. I’m very glad to do so. Eight million kids every year have health insurance, because when I was first lady I worked with Democrats and Republicans to create the Children’s Health Insurance Program. Hundreds of thousands of kids now have a chance to be adopted because I worked to change our adoption and foster care system. After 9/11, I went to work with Republican mayor, governor and president to rebuild New York and to get health care for our first responders who were suffering because they had run toward danger and gotten sickened by it. Hundreds of thousands of National Guard and Reserve members have health care because of work that I did, and children have safer medicines because I was able to pass a law that required the dosing to be more carefully done. When I was secretary of state, I went around the world advocating for our country, but also advocating for women’s rights, to make sure that women had a decent chance to have a better life and negotiated a treaty with Russia to lower nuclear weapons. Four hundred pieces of legislation have my name on it as a sponsor or cosponsor when I was a senator for eight years. I worked very hard and was very proud to be re-elected in New York by an even bigger margin than I had been elected the first time. And as president, I will take that work, that bipartisan work, that finding common ground, because you have to be able to get along with people to get things done in Washington.  And I’ve proven that I can, and for 30 years, I’ve produced results for people.  Well, the situation in Syria is catastrophic. And every day that goes by, we see the results of the regime by Assad in partnership with the Iranians on the ground, the Russians in the air, bombarding places, in particular Aleppo, where there are hundreds of thousands of people, probably about 250,000 still left. And there is a determined effort by the Russian air force to destroy Aleppo in order to eliminate the last of the Syrian rebels who are really holding out against the Assad regime. Russia hasn’t paid any attention to ISIS. They’re interested in keeping Assad in power. So I, when I was secretary of state, advocated and I advocate today a no-fly zone and safe zones. We need some leverage with the Russians, because they are not going to come to the negotiating table for a diplomatic resolution, unless there is some leverage over them. And we have to work more closely with our partners and allies on the ground. But I want to emphasize that what is at stake here is the ambitions and the aggressiveness of Russia. Russia has decided that it’s all in, in Syria. And they’ve also decided who they want to see become president of the United States, too, and it’s not me. I’ve stood up to Russia. I’ve taken on Putin and others, and I would do that as president. I think wherever we can cooperate with Russia, that’s fine. And I did as secretary of state. That’s how we got a treaty reducing nuclear weapons. It’s how we got the sanctions on Iran that put a lid on the Iranian nuclear program without firing a single shot. So I would go to the negotiating table with more leverage than we have now. But I do support the effort to investigate for crimes, war crimes committed by the Syrians and the Russians and try to hold them accountable.  No, I wasn’t. I was gone. I hate to interrupt you, but at some point…  At some point, we need to do some fact-checking here.  I would not use American ground forces in Syria. I think that would be a very serious mistake. I don’t think American troops should be holding territory, which is what they would have to do as an occupying force. I don’t think that is a smart strategy. I do think the use of special forces, which we’re using, the use of enablers and trainers in Iraq, which has had some positive effects, are very much in our interests, and so I do support what is happening, but let me just…  Well, Martha, I hope that by the time I—if I’m fortunate…  I hope by the time I am president that we will have pushed ISIS out of Iraq. I do think that there is a good chance that we can take Mosul. And, you know, Donald says he knows more about ISIS than the generals. No, he doesn’t. There are a lot of very important planning going on, and some of it is to signal to the Sunnis in the area, as well as Kurdish Peshmerga fighters, that we all need to be in this. And that takes a lot of planning and preparation. I would go after Baghdadi. I would specifically target Baghdadi, because I think our targeting of Al Qaida leaders—and I was involved in a lot of those operations, highly classified ones—made a difference. So I think that could help. I would also consider arming the Kurds. The Kurds have been our best partners in Syria, as well as Iraq. And I know there’s a lot of concern about that in some circles, but I think they should have the equipment they need so that Kurdish and Arab fighters on the ground are the principal way that we take Raqqa after pushing ISIS out of Iraq.  Well, 67 percent of the people voted to re-elect me when I ran for my second term, and I was very proud and very humbled by that. Mr. Carter, I have tried my entire life to do what I can to support children and families. You know, right out of law school, I went to work for the Children’s Defense Fund. And Donald talks a lot about, you know, the 30 years I’ve been in public service. I’m proud of that. You know, I started off as a young lawyer working against discrimination against African-American children in schools and in the criminal justice system. I worked to make sure that kids with disabilities could get a public education, something that I care very much about. I have worked with Latinos—one of my first jobs in politics was down in south Texas registering Latino citizens to be able to vote. So I have a deep devotion, to use your absolutely correct word, to making sure that every American feels like he or she has a place in our country. And I think when you look at the letters that I get, a lot of people are worried that maybe they wouldn’t have a place in Donald Trump’s America. They write me, and one woman wrote me about her son, Felix. She adopted him from Ethiopia when he was a toddler. He’s 10 years old now. This is the only country he’s ever known. And he listens to Donald on TV and he said to his mother one day, will he send me back to Ethiopia if he gets elected? You know, children listen to what is being said. To go back to the very, very first question. And there’s a lot of fear—in fact, teachers and parents are calling it the Trump effect. Bullying is up. A lot of people are feeling, you know, uneasy. A lot of kids are expressing their concerns. So, first and foremost, I will do everything I can to reach out to everybody.  Democrats, Republicans, independents, people across our country. If you don’t vote for me, I still want to be your president.  I want to be the best president I can be for every American.  Well, within hours I said that I was sorry about the way I talked about that, because my argument is not with his supporters. It’s with him and with the hateful and divisive campaign that he has run, and the inciting of violence at his rallies, and the very brutal kinds of comments about not just women, but all Americans, all kinds of Americans. And what he has said about African-Americans and Latinos, about Muslims, about POWs, about immigrants, about people with disabilities, he’s never apologized for. And so I do think that a lot of the tone and tenor that he has said—I’m proud of the campaign that Bernie Sanders and I ran. We ran a campaign based on issues, not insults. And he is supporting me 100 percent.  Because we talked about what we wanted to do. We might have had some differences, and we had a lot of debates…  No.  Well, it’s not only my opinion. It’s the opinion of many others, national security experts, Republicans, former Republican members of Congress. But it’s in part because those of us who have had the great privilege of seeing this job up close and know how difficult it is, and it’s not just because I watched my husband take a $300 billion deficit and turn it into a $200 billion surplus, and 23 million new jobs were created, and incomes went up for everybody. Everybody. African-American incomes went up 33 percent. And it’s not just because I worked with George W. Bush after 9/11, and I was very proud that when I told him what the city needed, what we needed to recover, he said you’ve got it, and he never wavered. He stuck with me. And I have worked and I admire President Obama. He inherited the worst financial crisis since the Great Depression. That was a terrible time for our country.  Nine million people lost their jobs.  Five million homes were lost.  And $13 trillion in family wealth was wiped out. We are back on the right track. He would send us back into recession with his tax plans that benefit the wealthiest of Americans.  Thank you. Well, you’re right. This is one of the most important issues in this election. I want to appoint Supreme Court justices who understand the way the world really works, who have real-life experience, who have not just been in a big law firm and maybe clerked for a judge and then gotten on the bench, but, you know, maybe they tried some more cases, they actually understand what people are up against. Because I think the current court has gone in the wrong direction. And so I would want to see the Supreme Court reverse Citizens United and get dark, unaccountable money out of our politics. Donald doesn’t agree with that. I would like the Supreme Court to understand that voting rights are still a big problem in many parts of our country, that we don’t always do everything we can to make it possible for people of color and older people and young people to be able to exercise their franchise. I want a Supreme Court that will stick with Roe v. Wade and a woman’s right to choose, and I want a Supreme Court that will stick with marriage equality. Now, Donald has put forth the names of some people that he would consider. And among the ones that he has suggested are people who would reverse Roe v. Wade and reverse marriage equality. I think that would be a terrible mistake and would take us backwards. I want a Supreme Court that doesn’t always side with corporate interests. I want a Supreme Court that understands because you’re wealthy and you can give more money to something doesn’t mean you have any more rights or should have any more rights than anybody else. So I have very clear views about what I want to see to kind of change the balance on the Supreme Court. And I regret deeply that the Senate has not done its job and they have not permitted a vote on the person that President Obama, a highly qualified person, they’ve not given him a vote to be able to be have the full complement of nine Supreme Court justices. I think that was a dereliction of duty. I hope that they will see their way to doing it, but if I am so fortunate enough as to be president, I will immediately move to make sure that we fill that, we have nine justices that get to work on behalf of our people.  Well…[crosstalk]  The question was about the Supreme Court. And I just want to quickly say, I respect the Second Amendment. But I believe there should be comprehensive background checks, and we should close the gun show loophole, and close the online loophole.  We have to save as many lives as we possibly can.  And actually—well, that was very interesting. First of all, China is illegally dumping steel in the United States and Donald Trump is buying it to build his buildings, putting steelworkers and American steel plants out of business. That’s something that I fought against as a senator and that I would have a trade prosecutor to make sure that we don’t get taken advantage of by China on steel or anything else. You know, because it sounds like you’re in the business or you’re aware of people in the business—you know that we are now for the first time ever energy-independent. We are not dependent upon the Middle East. But the Middle East still controls a lot of the prices. So the price of oil has been way down. And that has had a damaging effect on a lot of the oil companies, right? We are, however, producing a lot of natural gas, which serves as a bridge to more renewable fuels. And I think that’s an important transition. We’ve got to remain energy-independent. It gives us much more power and freedom than to be worried about what goes on in the Middle East. We have enough worries over there without having to worry about that. So I have a comprehensive energy policy, but it really does include fighting climate change, because I think that is a serious problem. And I support moving toward more clean, renewable energy as quickly as we can, because I think we can be the 21st century clean energy superpower and create millions of new jobs and businesses. But I also want to be sure that we don’t leave people behind. That’s why I’m the only candidate from the very beginning of this campaign who had a plan to help us revitalize coal country, because those coal miners and their fathers and their grandfathers, they dug that coal out. A lot of them lost their lives. They were injured, but they turned the lights on and they powered our factories. I don’t want to walk away from them. So we’ve got to do something for them.  But the price of coal is down worldwide. So we have to look at this comprehensively.  And that’s exactly what I have proposed. I hope you will go to HillaryClinton.com and look at my entire policy.'"
      ]
     },
     "execution_count": 87,
     "metadata": {},
     "output_type": "execute_result"
    }
   ],
   "source": [
    "candidates = ['CLINTON:', 'OBAMA:', 'GORE:', 'CARTER:', 'KENNEDY:', 'KERRY:', 'DUKAKIS:', 'MONDALE:', 'DOLE:', 'ANDERSON:', 'BUSH:', \"TRUMP:\", \"NIXON:\", \"MCCAIN:\", 'FORD:', 'ROMNEY:', 'REAGAN:']\n",
    "\n",
    "# Iterate through each row in the \"Text\" column\n",
    "for index, row in result_df.iterrows():\n",
    "    text = row['Text']\n",
    "    \n",
    "    # Iterate through each candidate in the list\n",
    "    for candidate in candidates:\n",
    "        # Check if candidate is in the text\n",
    "        if candidate in text:\n",
    "            # Replace candidate with an empty string\n",
    "            text = text.replace(candidate, \"\")\n",
    "    \n",
    "    # Update the \"Text\" column with the modified text\n",
    "    result_df.at[index, 'Text'] = text\n",
    "\n",
    "result_df['Text'][1]"
   ]
  },
  {
   "cell_type": "code",
   "execution_count": null,
   "id": "47805274",
   "metadata": {},
   "outputs": [],
   "source": []
  },
  {
   "cell_type": "code",
   "execution_count": 88,
   "id": "b05ef770",
   "metadata": {},
   "outputs": [],
   "source": [
    "# Lower casing the text and assigning it to a new column\n",
    "result_df['text_lower'] = [\"\".join(item for item in lst).lower() for lst in result_df['Text']]"
   ]
  },
  {
   "cell_type": "code",
   "execution_count": 90,
   "id": "7807805a",
   "metadata": {},
   "outputs": [
    {
     "data": {
      "text/plain": [
       "str"
      ]
     },
     "execution_count": 90,
     "metadata": {},
     "output_type": "execute_result"
    }
   ],
   "source": [
    "type(result_df['text_lower'][1])"
   ]
  },
  {
   "cell_type": "markdown",
   "id": "4ae2c1c3",
   "metadata": {},
   "source": [
    "### 3.b. Webscraping & Cleaning RNC/DNC Conventions"
   ]
  },
  {
   "cell_type": "code",
   "execution_count": null,
   "id": "77657e97",
   "metadata": {},
   "outputs": [],
   "source": [
    "conventions_df['Name'].value_counts()"
   ]
  },
  {
   "cell_type": "markdown",
   "id": "26a67475",
   "metadata": {},
   "source": [
    "Renaming Clintons and Bushes in the conventions_df"
   ]
  },
  {
   "cell_type": "code",
   "execution_count": null,
   "id": "1f51ede2",
   "metadata": {},
   "outputs": [],
   "source": [
    "mask = (conventions_df['Name'] == \"CLINTON\") & (conventions_df['Year'] < 2010)\n",
    "conventions_df.loc[mask, 'Name'] = \"B_CLINTON\"\n",
    "mask = (conventions_df['Name'] == \"CLINTON\") & (conventions_df['Year'] > 2010)\n",
    "conventions_df.loc[mask, 'Name'] = \"H_CLINTON\"\n",
    "mask = (conventions_df['Name'] == \"BUSH\") & (conventions_df['Year'] > 1990)\n",
    "conventions_df.loc[mask, 'Name'] = \"BUSH_2\"\n",
    "mask = (conventions_df['Name'] == \"BUSH\") & (conventions_df['Year'] < 1990)\n",
    "conventions_df.loc[mask, 'Name'] = \"BUSH_1\""
   ]
  },
  {
   "cell_type": "code",
   "execution_count": null,
   "id": "fa119c0b",
   "metadata": {},
   "outputs": [],
   "source": [
    "# Checking that the Clintons and Bushes were renamed properly\n",
    "conventions_df['Name'].value_counts()"
   ]
  },
  {
   "cell_type": "markdown",
   "id": "34f18f46",
   "metadata": {},
   "source": [
    "### 3.c. Webscraping & Cleaning Inaugural Speeches"
   ]
  },
  {
   "cell_type": "markdown",
   "id": "7aff6b51-0580-44b4-977c-0a948eb46806",
   "metadata": {},
   "source": [
    "Creating a dataframe for scraped text from inaugural speeches website. "
   ]
  },
  {
   "cell_type": "code",
   "execution_count": 4,
   "id": "05b723dc",
   "metadata": {},
   "outputs": [
    {
     "data": {
      "text/html": [
       "<div>\n",
       "<style scoped>\n",
       "    .dataframe tbody tr th:only-of-type {\n",
       "        vertical-align: middle;\n",
       "    }\n",
       "\n",
       "    .dataframe tbody tr th {\n",
       "        vertical-align: top;\n",
       "    }\n",
       "\n",
       "    .dataframe thead th {\n",
       "        text-align: right;\n",
       "    }\n",
       "</style>\n",
       "<table border=\"1\" class=\"dataframe\">\n",
       "  <thead>\n",
       "    <tr style=\"text-align: right;\">\n",
       "      <th></th>\n",
       "      <th>date</th>\n",
       "      <th>name</th>\n",
       "      <th>text</th>\n",
       "      <th>link</th>\n",
       "    </tr>\n",
       "  </thead>\n",
       "  <tbody>\n",
       "    <tr>\n",
       "      <th>41</th>\n",
       "      <td>January 20, 1961</td>\n",
       "      <td>kennedy</td>\n",
       "      <td>Vice President Johnson, Mr. Speaker, Mr. Chief...</td>\n",
       "      <td>https://www.presidency.ucsb.edu/documents/inau...</td>\n",
       "    </tr>\n",
       "    <tr>\n",
       "      <th>42</th>\n",
       "      <td>January 20, 1965</td>\n",
       "      <td>johnson</td>\n",
       "      <td>My fellow countrymen: On this occasion the oat...</td>\n",
       "      <td>https://www.presidency.ucsb.edu/documents/the-...</td>\n",
       "    </tr>\n",
       "    <tr>\n",
       "      <th>43</th>\n",
       "      <td>January 20, 1969</td>\n",
       "      <td>nixon</td>\n",
       "      <td>Senator Dirksen, Mr. Chief Justice, Mr. Vice p...</td>\n",
       "      <td>https://www.presidency.ucsb.edu/documents/inau...</td>\n",
       "    </tr>\n",
       "    <tr>\n",
       "      <th>44</th>\n",
       "      <td>January 20, 1977</td>\n",
       "      <td>carter</td>\n",
       "      <td>For myself and for our Nation, I want to thank...</td>\n",
       "      <td>https://www.presidency.ucsb.edu/documents/inau...</td>\n",
       "    </tr>\n",
       "    <tr>\n",
       "      <th>45</th>\n",
       "      <td>January 20, 1981</td>\n",
       "      <td>reagan</td>\n",
       "      <td>Senator Hatfield, Mr. Chief Justice, Mr. Presi...</td>\n",
       "      <td>https://www.presidency.ucsb.edu/documents/inau...</td>\n",
       "    </tr>\n",
       "  </tbody>\n",
       "</table>\n",
       "</div>"
      ],
      "text/plain": [
       "                date     name  \\\n",
       "41  January 20, 1961  kennedy   \n",
       "42  January 20, 1965  johnson   \n",
       "43  January 20, 1969    nixon   \n",
       "44  January 20, 1977   carter   \n",
       "45  January 20, 1981   reagan   \n",
       "\n",
       "                                                 text  \\\n",
       "41  Vice President Johnson, Mr. Speaker, Mr. Chief...   \n",
       "42  My fellow countrymen: On this occasion the oat...   \n",
       "43  Senator Dirksen, Mr. Chief Justice, Mr. Vice p...   \n",
       "44  For myself and for our Nation, I want to thank...   \n",
       "45  Senator Hatfield, Mr. Chief Justice, Mr. Presi...   \n",
       "\n",
       "                                                 link  \n",
       "41  https://www.presidency.ucsb.edu/documents/inau...  \n",
       "42  https://www.presidency.ucsb.edu/documents/the-...  \n",
       "43  https://www.presidency.ucsb.edu/documents/inau...  \n",
       "44  https://www.presidency.ucsb.edu/documents/inau...  \n",
       "45  https://www.presidency.ucsb.edu/documents/inau...  "
      ]
     },
     "execution_count": 4,
     "metadata": {},
     "output_type": "execute_result"
    }
   ],
   "source": [
    "inaugural_df = pd.DataFrame(columns=[\"date\", \"name\", \"text\", \"link\"])\n",
    "inauglinks = []\n",
    "base_url = \"https://www.presidency.ucsb.edu/documents/\"\n",
    "# URL of the page to scrape\n",
    "url = \"https://www.presidency.ucsb.edu/documents/presidential-documents-archive-guidebook/inaugural-addresses\"\n",
    "\n",
    "# Send a GET request to the URL\n",
    "response = requests.get(url)\n",
    "\n",
    "# Create a BeautifulSoup object to parse the HTML content\n",
    "soup = BeautifulSoup(response.content, 'html.parser')\n",
    "\n",
    "# Find all the links on the page\n",
    "links = soup.find_all(\"a\")\n",
    "\n",
    "\n",
    "for link in links:\n",
    "    if \"inaugural-address-\" in str(link) or \"the-presidents-inaugural-address\" in str(link) or \"https://www.presidency.ucsb.edu/documents/inaugural-address\" in str(link):\n",
    "        url = link.get(\"href\")\n",
    "        date = link.text\n",
    "        page = requests.get(url)\n",
    "        soup = BeautifulSoup(page.content, 'html.parser')\n",
    "        text = soup.find(\"div\", class_=\"field-docs-content\").find_all(\"p\")\n",
    "        text = [t.text for t in text]\n",
    "        text = \" \".join(text)\n",
    "        links2 = soup.find_all(\"a\")\n",
    "        for link in links2:\n",
    "            if \"people\" in str(link):\n",
    "                person = str(link.get(\"href\")).split(\"-\")[-1]\n",
    "        inaugural_df.loc[len(inaugural_df.index)] = [date, person, text, url]\n",
    "\n",
    "\n",
    "inaugural_df = inaugural_df.drop(index=range(41))\n",
    "inaugural_df.head()"
   ]
  },
  {
   "cell_type": "markdown",
   "id": "dca42471-80dc-43aa-b666-4f06566d76c2",
   "metadata": {},
   "source": [
    "Cleaning the text column and date column for analysis."
   ]
  },
  {
   "cell_type": "code",
   "execution_count": 5,
   "id": "bc5051e9-2b7d-4a83-bd20-299e208b1f7d",
   "metadata": {},
   "outputs": [],
   "source": [
    "inaugural_df['text_lower'] = [\"\".join(item for item in lst).lower() for lst in inaugural_df['text']]\n",
    "inaugural_df['date'] = [year[-4:] for year in inaugural_df['date']]"
   ]
  },
  {
   "cell_type": "code",
   "execution_count": 6,
   "id": "fd9d565e-06fd-4014-84b1-3a68da71e370",
   "metadata": {},
   "outputs": [],
   "source": [
    "inaugural_df.reset_index(drop=True, inplace=True)"
   ]
  },
  {
   "cell_type": "markdown",
   "id": "986ac77b",
   "metadata": {},
   "source": [
    "Creating the binary target column for the inaugural speeches dataset:"
   ]
  },
  {
   "cell_type": "code",
   "execution_count": 8,
   "id": "d787204c",
   "metadata": {},
   "outputs": [
    {
     "data": {
      "text/html": [
       "<div>\n",
       "<style scoped>\n",
       "    .dataframe tbody tr th:only-of-type {\n",
       "        vertical-align: middle;\n",
       "    }\n",
       "\n",
       "    .dataframe tbody tr th {\n",
       "        vertical-align: top;\n",
       "    }\n",
       "\n",
       "    .dataframe thead th {\n",
       "        text-align: right;\n",
       "    }\n",
       "</style>\n",
       "<table border=\"1\" class=\"dataframe\">\n",
       "  <thead>\n",
       "    <tr style=\"text-align: right;\">\n",
       "      <th></th>\n",
       "      <th>Year</th>\n",
       "      <th>Name</th>\n",
       "      <th>Text</th>\n",
       "      <th>link</th>\n",
       "      <th>text_lower</th>\n",
       "      <th>Target</th>\n",
       "    </tr>\n",
       "  </thead>\n",
       "  <tbody>\n",
       "    <tr>\n",
       "      <th>0</th>\n",
       "      <td>1961</td>\n",
       "      <td>KENNEDY</td>\n",
       "      <td>Vice President Johnson, Mr. Speaker, Mr. Chief...</td>\n",
       "      <td>https://www.presidency.ucsb.edu/documents/inau...</td>\n",
       "      <td>vice president johnson, mr. speaker, mr. chief...</td>\n",
       "      <td>0</td>\n",
       "    </tr>\n",
       "    <tr>\n",
       "      <th>1</th>\n",
       "      <td>1965</td>\n",
       "      <td>JOHNSON</td>\n",
       "      <td>My fellow countrymen: On this occasion the oat...</td>\n",
       "      <td>https://www.presidency.ucsb.edu/documents/the-...</td>\n",
       "      <td>my fellow countrymen: on this occasion the oat...</td>\n",
       "      <td>0</td>\n",
       "    </tr>\n",
       "    <tr>\n",
       "      <th>2</th>\n",
       "      <td>1969</td>\n",
       "      <td>NIXON</td>\n",
       "      <td>Senator Dirksen, Mr. Chief Justice, Mr. Vice p...</td>\n",
       "      <td>https://www.presidency.ucsb.edu/documents/inau...</td>\n",
       "      <td>senator dirksen, mr. chief justice, mr. vice p...</td>\n",
       "      <td>1</td>\n",
       "    </tr>\n",
       "    <tr>\n",
       "      <th>3</th>\n",
       "      <td>1977</td>\n",
       "      <td>CARTER</td>\n",
       "      <td>For myself and for our Nation, I want to thank...</td>\n",
       "      <td>https://www.presidency.ucsb.edu/documents/inau...</td>\n",
       "      <td>for myself and for our nation, i want to thank...</td>\n",
       "      <td>0</td>\n",
       "    </tr>\n",
       "    <tr>\n",
       "      <th>4</th>\n",
       "      <td>1981</td>\n",
       "      <td>REAGAN</td>\n",
       "      <td>Senator Hatfield, Mr. Chief Justice, Mr. Presi...</td>\n",
       "      <td>https://www.presidency.ucsb.edu/documents/inau...</td>\n",
       "      <td>senator hatfield, mr. chief justice, mr. presi...</td>\n",
       "      <td>1</td>\n",
       "    </tr>\n",
       "  </tbody>\n",
       "</table>\n",
       "</div>"
      ],
      "text/plain": [
       "   Year     Name                                               Text  \\\n",
       "0  1961  KENNEDY  Vice President Johnson, Mr. Speaker, Mr. Chief...   \n",
       "1  1965  JOHNSON  My fellow countrymen: On this occasion the oat...   \n",
       "2  1969    NIXON  Senator Dirksen, Mr. Chief Justice, Mr. Vice p...   \n",
       "3  1977   CARTER  For myself and for our Nation, I want to thank...   \n",
       "4  1981   REAGAN  Senator Hatfield, Mr. Chief Justice, Mr. Presi...   \n",
       "\n",
       "                                                link  \\\n",
       "0  https://www.presidency.ucsb.edu/documents/inau...   \n",
       "1  https://www.presidency.ucsb.edu/documents/the-...   \n",
       "2  https://www.presidency.ucsb.edu/documents/inau...   \n",
       "3  https://www.presidency.ucsb.edu/documents/inau...   \n",
       "4  https://www.presidency.ucsb.edu/documents/inau...   \n",
       "\n",
       "                                          text_lower  Target  \n",
       "0  vice president johnson, mr. speaker, mr. chief...       0  \n",
       "1  my fellow countrymen: on this occasion the oat...       0  \n",
       "2  senator dirksen, mr. chief justice, mr. vice p...       1  \n",
       "3  for myself and for our nation, i want to thank...       0  \n",
       "4  senator hatfield, mr. chief justice, mr. presi...       1  "
      ]
     },
     "execution_count": 8,
     "metadata": {},
     "output_type": "execute_result"
    }
   ],
   "source": [
    "#inaugural_df.drop(columns='Unnamed: 0', inplace=True)\n",
    "inaugural_df.rename(columns = {'date':'Year', 'name':'Name','text':'Text', 'tokens':'list_tokens'}, inplace = True)\n",
    "\n",
    "dems = ['kennedy', 'johnson', 'carter', 'clinton', 'obama', 'biden']\n",
    "\n",
    "inaugural_df['Target'] = 1  # Default value for rows not matching dems or ind\n",
    "\n",
    "for row in inaugural_df['Name']:\n",
    "    if row in dems:\n",
    "        inaugural_df.loc[inaugural_df['Name'] == row, 'Target'] = 0\n",
    "    else:\n",
    "        inaugural_df.loc[inaugural_df['Name'] == row, 'Target'] = 1\n",
    "        \n",
    "inaugural_df['Name'] = [name.upper() for name in inaugural_df['Name']]\n",
    "\n",
    "inaugural_df.head()"
   ]
  },
  {
   "cell_type": "code",
   "execution_count": null,
   "id": "bc5f23a9",
   "metadata": {},
   "outputs": [],
   "source": [
    "inaugural_df['Name'].value_counts()"
   ]
  },
  {
   "cell_type": "markdown",
   "id": "555b54ca",
   "metadata": {},
   "source": [
    "Renaming the Clintons and Bushes"
   ]
  },
  {
   "cell_type": "code",
   "execution_count": null,
   "id": "6c3fb086",
   "metadata": {},
   "outputs": [],
   "source": [
    "inaugural_df['Name'] = inaugural_df['Name'].replace(to_replace={'CLINTON':'B_CLINTON'})\n",
    "mask = (inaugural_df['Name'] == \"BUSH\") & (inaugural_df['Year'] > 1990)\n",
    "inaugural_df.loc[mask, 'Name'] = \"BUSH_2\"\n",
    "mask = (inaugural_df['Name'] == \"BUSH\") & (inaugural_df['Year'] < 1990)\n",
    "inaugural_df.loc[mask, 'Name'] = \"BUSH_1\""
   ]
  },
  {
   "cell_type": "code",
   "execution_count": null,
   "id": "b5032382",
   "metadata": {},
   "outputs": [],
   "source": [
    "# Checking that the Clintons and Bushes were renamed properly\n",
    "inaugural_df['Name'].value_counts()"
   ]
  },
  {
   "cell_type": "markdown",
   "id": "7d4f7149",
   "metadata": {},
   "source": [
    "### 3.d. NLP Preprocessing all 3 Datasets"
   ]
  },
  {
   "cell_type": "code",
   "execution_count": 11,
   "id": "455ca44a",
   "metadata": {},
   "outputs": [],
   "source": [
    "tokenizer = RegexpTokenizer(r\"(?u)\\w{3,}\") # This pattern finds words that are at least 3 letters long\n",
    "stopwords = stopwords.words(\"english\")\n",
    "lemmatizer = WordNetLemmatizer()\n",
    "\n",
    "def preprocessing(text, tokenizer, stopwords, lemmatizer):\n",
    "    # Make everything in the df[\"Text\"] column into a lower-case string\n",
    "    #text = [\"\".join(item for item in lst).lower() for lst in text]\n",
    "\n",
    "    # Tokenize\n",
    "    tokens = tokenizer.tokenize(text)\n",
    "    \n",
    "    # Remove stopwords\n",
    "    tokens = [token for token in tokens if token not in stopwords]\n",
    "    \n",
    "    # Lemmatize\n",
    "    tokens = [lemmatizer.lemmatize(token) for token in tokens]\n",
    "    \n",
    "    \n",
    "    return tokens"
   ]
  },
  {
   "cell_type": "markdown",
   "id": "580abdc9",
   "metadata": {},
   "source": [
    "#### 3.d.i. NLP Preprocessing the Presidential Debates"
   ]
  },
  {
   "cell_type": "code",
   "execution_count": 95,
   "id": "b9ddfee8",
   "metadata": {
    "scrolled": true
   },
   "outputs": [
    {
     "data": {
      "text/html": [
       "<div>\n",
       "<style scoped>\n",
       "    .dataframe tbody tr th:only-of-type {\n",
       "        vertical-align: middle;\n",
       "    }\n",
       "\n",
       "    .dataframe tbody tr th {\n",
       "        vertical-align: top;\n",
       "    }\n",
       "\n",
       "    .dataframe thead th {\n",
       "        text-align: right;\n",
       "    }\n",
       "</style>\n",
       "<table border=\"1\" class=\"dataframe\">\n",
       "  <thead>\n",
       "    <tr style=\"text-align: right;\">\n",
       "      <th></th>\n",
       "      <th>Year</th>\n",
       "      <th>Name</th>\n",
       "      <th>Text</th>\n",
       "      <th>Target</th>\n",
       "      <th>text_lower</th>\n",
       "      <th>list_tokens</th>\n",
       "    </tr>\n",
       "  </thead>\n",
       "  <tbody>\n",
       "    <tr>\n",
       "      <th>0</th>\n",
       "      <td>2016</td>\n",
       "      <td>H_CLINTON</td>\n",
       "      <td>Thank you very much, Chris. And thanks to UNL...</td>\n",
       "      <td>0</td>\n",
       "      <td>thank you very much, chris. and thanks to unl...</td>\n",
       "      <td>[thank, much, chris, thanks, unlv, hosting, kn...</td>\n",
       "    </tr>\n",
       "    <tr>\n",
       "      <th>1</th>\n",
       "      <td>2016</td>\n",
       "      <td>H_CLINTON</td>\n",
       "      <td>Well, thank you. Are you a teacher? Yes, I th...</td>\n",
       "      <td>0</td>\n",
       "      <td>well, thank you. are you a teacher? yes, i th...</td>\n",
       "      <td>[well, thank, teacher, yes, think, good, quest...</td>\n",
       "    </tr>\n",
       "    <tr>\n",
       "      <th>2</th>\n",
       "      <td>2016</td>\n",
       "      <td>H_CLINTON</td>\n",
       "      <td>How are you, Donald? [applause]  Well, thank ...</td>\n",
       "      <td>0</td>\n",
       "      <td>how are you, donald? [applause]  well, thank ...</td>\n",
       "      <td>[donald, applause, well, thank, lester, thanks...</td>\n",
       "    </tr>\n",
       "    <tr>\n",
       "      <th>3</th>\n",
       "      <td>1996</td>\n",
       "      <td>B_CLINTON</td>\n",
       "      <td>I was going to applaud, too. Well, thank you,...</td>\n",
       "      <td>0</td>\n",
       "      <td>i was going to applaud, too. well, thank you,...</td>\n",
       "      <td>[going, applaud, well, thank, jim, thanks, peo...</td>\n",
       "    </tr>\n",
       "    <tr>\n",
       "      <th>4</th>\n",
       "      <td>1996</td>\n",
       "      <td>B_CLINTON</td>\n",
       "      <td>Thank you, Jim. And thank you to the people o...</td>\n",
       "      <td>0</td>\n",
       "      <td>thank you, jim. and thank you to the people o...</td>\n",
       "      <td>[thank, jim, thank, people, hartford, host, wa...</td>\n",
       "    </tr>\n",
       "    <tr>\n",
       "      <th>...</th>\n",
       "      <td>...</td>\n",
       "      <td>...</td>\n",
       "      <td>...</td>\n",
       "      <td>...</td>\n",
       "      <td>...</td>\n",
       "      <td>...</td>\n",
       "    </tr>\n",
       "    <tr>\n",
       "      <th>153</th>\n",
       "      <td>1960</td>\n",
       "      <td>NIXON</td>\n",
       "      <td>Mr. Smith, Senator Kennedy. The things that S...</td>\n",
       "      <td>1</td>\n",
       "      <td>mr. smith, senator kennedy. the things that s...</td>\n",
       "      <td>[smith, senator, kennedy, thing, senator, kenn...</td>\n",
       "    </tr>\n",
       "    <tr>\n",
       "      <th>158</th>\n",
       "      <td>1960</td>\n",
       "      <td>KENNEDY</td>\n",
       "      <td>Good evening, Mr. Howe. MR.  Mr. Howe, Mr. Vi...</td>\n",
       "      <td>0</td>\n",
       "      <td>good evening, mr. howe. mr.  mr. howe, mr. vi...</td>\n",
       "      <td>[good, evening, howe, howe, vice, president, f...</td>\n",
       "    </tr>\n",
       "    <tr>\n",
       "      <th>159</th>\n",
       "      <td>1960</td>\n",
       "      <td>KENNEDY</td>\n",
       "      <td>Good evening, Mr. Shadel. MR.  Mr. McGee, we ...</td>\n",
       "      <td>0</td>\n",
       "      <td>good evening, mr. shadel. mr.  mr. mcgee, we ...</td>\n",
       "      <td>[good, evening, shadel, mcgee, contractual, ri...</td>\n",
       "    </tr>\n",
       "    <tr>\n",
       "      <th>160</th>\n",
       "      <td>1960</td>\n",
       "      <td>KENNEDY</td>\n",
       "      <td>In the first place I’ve never suggested that ...</td>\n",
       "      <td>0</td>\n",
       "      <td>in the first place i’ve never suggested that ...</td>\n",
       "      <td>[first, place, never, suggested, cuba, lost, e...</td>\n",
       "    </tr>\n",
       "    <tr>\n",
       "      <th>161</th>\n",
       "      <td>1960</td>\n",
       "      <td>KENNEDY</td>\n",
       "      <td>Mr. Smith, Mr. Nixon. In the election of 1860...</td>\n",
       "      <td>0</td>\n",
       "      <td>mr. smith, mr. nixon. in the election of 1860...</td>\n",
       "      <td>[smith, nixon, election, 1860, abraham, lincol...</td>\n",
       "    </tr>\n",
       "  </tbody>\n",
       "</table>\n",
       "<p>72 rows × 6 columns</p>\n",
       "</div>"
      ],
      "text/plain": [
       "     Year       Name                                               Text   \n",
       "0    2016  H_CLINTON   Thank you very much, Chris. And thanks to UNL...  \\\n",
       "1    2016  H_CLINTON   Well, thank you. Are you a teacher? Yes, I th...   \n",
       "2    2016  H_CLINTON   How are you, Donald? [applause]  Well, thank ...   \n",
       "3    1996  B_CLINTON   I was going to applaud, too. Well, thank you,...   \n",
       "4    1996  B_CLINTON   Thank you, Jim. And thank you to the people o...   \n",
       "..    ...        ...                                                ...   \n",
       "153  1960      NIXON   Mr. Smith, Senator Kennedy. The things that S...   \n",
       "158  1960    KENNEDY   Good evening, Mr. Howe. MR.  Mr. Howe, Mr. Vi...   \n",
       "159  1960    KENNEDY   Good evening, Mr. Shadel. MR.  Mr. McGee, we ...   \n",
       "160  1960    KENNEDY   In the first place I’ve never suggested that ...   \n",
       "161  1960    KENNEDY   Mr. Smith, Mr. Nixon. In the election of 1860...   \n",
       "\n",
       "     Target                                         text_lower   \n",
       "0         0   thank you very much, chris. and thanks to unl...  \\\n",
       "1         0   well, thank you. are you a teacher? yes, i th...   \n",
       "2         0   how are you, donald? [applause]  well, thank ...   \n",
       "3         0   i was going to applaud, too. well, thank you,...   \n",
       "4         0   thank you, jim. and thank you to the people o...   \n",
       "..      ...                                                ...   \n",
       "153       1   mr. smith, senator kennedy. the things that s...   \n",
       "158       0   good evening, mr. howe. mr.  mr. howe, mr. vi...   \n",
       "159       0   good evening, mr. shadel. mr.  mr. mcgee, we ...   \n",
       "160       0   in the first place i’ve never suggested that ...   \n",
       "161       0   mr. smith, mr. nixon. in the election of 1860...   \n",
       "\n",
       "                                           list_tokens  \n",
       "0    [thank, much, chris, thanks, unlv, hosting, kn...  \n",
       "1    [well, thank, teacher, yes, think, good, quest...  \n",
       "2    [donald, applause, well, thank, lester, thanks...  \n",
       "3    [going, applaud, well, thank, jim, thanks, peo...  \n",
       "4    [thank, jim, thank, people, hartford, host, wa...  \n",
       "..                                                 ...  \n",
       "153  [smith, senator, kennedy, thing, senator, kenn...  \n",
       "158  [good, evening, howe, howe, vice, president, f...  \n",
       "159  [good, evening, shadel, mcgee, contractual, ri...  \n",
       "160  [first, place, never, suggested, cuba, lost, e...  \n",
       "161  [smith, nixon, election, 1860, abraham, lincol...  \n",
       "\n",
       "[72 rows x 6 columns]"
      ]
     },
     "execution_count": 95,
     "metadata": {},
     "output_type": "execute_result"
    }
   ],
   "source": [
    "# Apply the preprocessing function to the 'Text' column\n",
    "result_df['list_tokens'] = result_df['text_lower'].apply(lambda x: preprocessing(x, tokenizer, stopwords, lemmatizer))\n",
    "result_df"
   ]
  },
  {
   "cell_type": "code",
   "execution_count": 96,
   "id": "22b5f522",
   "metadata": {},
   "outputs": [
    {
     "data": {
      "text/plain": [
       "list"
      ]
     },
     "execution_count": 96,
     "metadata": {},
     "output_type": "execute_result"
    }
   ],
   "source": [
    "type(result_df['list_tokens'][0])"
   ]
  },
  {
   "cell_type": "code",
   "execution_count": null,
   "id": "ac9e2f1e",
   "metadata": {},
   "outputs": [],
   "source": [
    "# making the tokens list of strings into one big string \n",
    "result_df['string_tokens'] = result_df['list_tokens'].apply(lambda x: ' '.join(x))\n",
    "result_df['string_tokens'][0]"
   ]
  },
  {
   "cell_type": "code",
   "execution_count": null,
   "id": "9efeddcb",
   "metadata": {},
   "outputs": [],
   "source": [
    "# Saving df as a csv\n",
    "result_df.to_csv('../data/result_df.csv')"
   ]
  },
  {
   "cell_type": "markdown",
   "id": "61fc592f",
   "metadata": {},
   "source": [
    "#### 3.d.ii. NLP Preprocessing the RNC/DNC Conventions"
   ]
  },
  {
   "cell_type": "code",
   "execution_count": null,
   "id": "3843bea4",
   "metadata": {},
   "outputs": [],
   "source": []
  },
  {
   "cell_type": "code",
   "execution_count": null,
   "id": "de20ba74",
   "metadata": {},
   "outputs": [],
   "source": []
  },
  {
   "cell_type": "markdown",
   "id": "5620370d",
   "metadata": {},
   "source": [
    "#### 3.d.iii. NLP Preprocessing the Inaugural Speeches"
   ]
  },
  {
   "cell_type": "markdown",
   "id": "60fecda9-8302-45a0-bd7b-25b40fbc2d43",
   "metadata": {},
   "source": [
    "Run preprocessing on inaugural speeches df. Using preprocessing function from earlier."
   ]
  },
  {
   "cell_type": "code",
   "execution_count": 12,
   "id": "7489c525",
   "metadata": {},
   "outputs": [],
   "source": [
    "inaugural_df['tokens'] = inaugural_df['text_lower'].apply(lambda x: preprocessing(x, tokenizer, stopwords, lemmatizer))"
   ]
  },
  {
   "cell_type": "code",
   "execution_count": 15,
   "id": "b5cf5857-40b9-47ca-8700-c35095b7411f",
   "metadata": {},
   "outputs": [
    {
     "data": {
      "text/plain": [
       "['vice',\n",
       " 'president',\n",
       " 'johnson',\n",
       " 'speaker',\n",
       " 'chief',\n",
       " 'justice',\n",
       " 'president',\n",
       " 'eisenhower',\n",
       " 'vice',\n",
       " 'president']"
      ]
     },
     "execution_count": 15,
     "metadata": {},
     "output_type": "execute_result"
    }
   ],
   "source": [
    "inaugural_df['tokens'][0][0:10]"
   ]
  },
  {
   "cell_type": "markdown",
   "id": "1ae342f6",
   "metadata": {},
   "source": [
    "### 3.e. Combining all 3 Datasets"
   ]
  },
  {
   "cell_type": "markdown",
   "id": "175e7b02",
   "metadata": {},
   "source": [
    "We need to make sure all three datasets' columns of interest have the same names so that we can join them together properly"
   ]
  },
  {
   "cell_type": "code",
   "execution_count": null,
   "id": "545a626e",
   "metadata": {},
   "outputs": [],
   "source": [
    "result_df.info()"
   ]
  },
  {
   "cell_type": "code",
   "execution_count": null,
   "id": "c5111242",
   "metadata": {},
   "outputs": [],
   "source": [
    "result_df.rename(columns = {'tokens':'string_tokens'}, inplace = True)\n",
    "result_df.head()"
   ]
  },
  {
   "cell_type": "code",
   "execution_count": null,
   "id": "ae67879c",
   "metadata": {},
   "outputs": [],
   "source": [
    "conventions_df.info()"
   ]
  },
  {
   "cell_type": "code",
   "execution_count": null,
   "id": "5e372d48",
   "metadata": {},
   "outputs": [],
   "source": [
    "conventions_df = pd.read_csv('../data/conventions.csv')\n",
    "conventions_df.rename(columns = {'date':'Year', 'speaker':'Name','text':'Text', 'convention':'Target','tokens':'list_tokens'}, inplace = True)\n",
    "conventions_df['Target'] = conventions_df['Target'].replace(to_replace={'DNC':0, 'RNC':1})\n",
    "conventions_df.loc[(conventions_df['Name'] == 'johnson') & (conventions_df['Year'] == 1964), 'Target'] = 0\n",
    "conventions_df['Name'] = [name.upper() for name in conventions_df['Name']]\n",
    "# conventions_df.iloc[14]['Target'] = 0\n",
    "# conventions_df[conventions_df['Target'].isna()]\n",
    "conventions_df.head()"
   ]
  },
  {
   "cell_type": "markdown",
   "id": "5b410c4f",
   "metadata": {},
   "source": [
    "Now that the columns have consistent names, we can concatenate them all by those shared columns"
   ]
  },
  {
   "cell_type": "code",
   "execution_count": null,
   "id": "a60dd86e",
   "metadata": {},
   "outputs": [],
   "source": [
    "final_df = pd.concat([result_df, conventions_df, inaugural_df], axis=0)\n",
    "final_df"
   ]
  },
  {
   "cell_type": "code",
   "execution_count": null,
   "id": "31f651aa",
   "metadata": {},
   "outputs": [],
   "source": [
    "final_df.isna().sum()"
   ]
  },
  {
   "cell_type": "markdown",
   "id": "cab9648c",
   "metadata": {},
   "source": [
    "It is okay that we have nulls in the 'text_lower' and 'link' columns, as only our presidential debates (result_df) dataset had the former, and only our conventions and inaugural speeches datasets had the latter. They are not necessary for our analysis.\n",
    "\n",
    "However, we do want every row to have the tokens in the form of a string: i.e., we want no nulls in the 'string_tokens' column. So, we simply replace that column with the 'list_tokens' column typecasted into a string."
   ]
  },
  {
   "cell_type": "code",
   "execution_count": null,
   "id": "e11f56a2",
   "metadata": {},
   "outputs": [],
   "source": [
    "import ast\n",
    "\n",
    "# Function to convert string to list\n",
    "def convert_string_to_list(string):\n",
    "    try:\n",
    "        return ast.literal_eval(string)\n",
    "    except ValueError:\n",
    "        return string  # returns the original string in case of an error\n",
    "\n",
    "# Apply this function to the desired column\n",
    "final_df['list_tokens'] = final_df['list_tokens'].apply(convert_string_to_list)"
   ]
  },
  {
   "cell_type": "code",
   "execution_count": null,
   "id": "939ff26b",
   "metadata": {},
   "outputs": [],
   "source": [
    "final_df['string_tokens']= [\" \".join(x) for x in final_df['list_tokens']]"
   ]
  },
  {
   "cell_type": "code",
   "execution_count": null,
   "id": "1ed8408c",
   "metadata": {},
   "outputs": [],
   "source": [
    "final_df.isna().sum()"
   ]
  },
  {
   "cell_type": "markdown",
   "id": "28ae5642",
   "metadata": {},
   "source": [
    "We will not save this final dataset until we inspect the most common words and confirm that our stopwords list is as complete as possible. "
   ]
  },
  {
   "cell_type": "markdown",
   "id": "45258c66",
   "metadata": {},
   "source": [
    "### 3.f. EDA on preprocessed debate dataset"
   ]
  },
  {
   "cell_type": "markdown",
   "id": "dbca0eb1-da8f-41cf-af41-0da7aeb93358",
   "metadata": {},
   "source": [
    "Now that we have the data prepared for vectorization, we created functions for visualizations to perform EDA."
   ]
  },
  {
   "cell_type": "code",
   "execution_count": null,
   "id": "187bd5d5-9d70-41be-a535-5619354ca2e2",
   "metadata": {},
   "outputs": [],
   "source": [
    "# Create a frequency distribution for each speaker\n",
    "speaker_freq_dist = {}\n",
    "for speaker in result_df['Name'].unique():\n",
    "    #tokens = [token for sublist in result_df[result_df['Name'] == speaker]['tokens'] for token in sublist]\n",
    "    tokens = [token for sublist in result_df[result_df['Name'] == speaker]['tokens'] for token in sublist]\n",
    "\n",
    "    freq_dist = FreqDist(tokens)\n",
    "    \n",
    "    # Check if the frequency distribution is not empty\n",
    "    if freq_dist and freq_dist.N():\n",
    "        # Get the top 10 tokens\n",
    "        top_tokens = freq_dist.most_common(10)\n",
    "        \n",
    "        # Create a frequency distribution for the top 10 tokens\n",
    "        top_freq_dist = FreqDist(dict(top_tokens))\n",
    "        speaker_freq_dist[speaker] = top_freq_dist\n",
    "\n",
    "# Plot the frequency distribution for each speaker using a line graph\n",
    "for speaker, freq_dist in speaker_freq_dist.items():\n",
    "    plt.figure(figsize=(10, 6))\n",
    "    \n",
    "    # Extract words and frequencies\n",
    "    words, frequencies = zip(*freq_dist.items())\n",
    "    tickvals = range(0,len(words))\n",
    "    \n",
    "# Use Pandas Series plot function with kind='line'\n",
    "    pd.Series(frequencies, index=words).plot(kind='line', marker='o', linestyle='-', color='b')\n",
    "    \n",
    "    plt.title(f\"Top 10 Word Usage Frequency Distribution for {speaker}\")\n",
    "    plt.xlabel(\"words\")\n",
    "    plt.ylabel(\"Frequency\")\n",
    "    plt.xticks(ticks=tickvals, labels= words, rotation=45)\n",
    "    plt.show()"
   ]
  },
  {
   "cell_type": "code",
   "execution_count": null,
   "id": "cb97b964-4577-4dc1-8ac2-fa6ccdc44e75",
   "metadata": {},
   "outputs": [],
   "source": [
    "def plot_speaker_comparison(speaker1, speaker2, df, num_words=15):\n",
    "    \"\"\"\n",
    "    Plot the top 'num_words' used by two speakers side by side.\n",
    "\n",
    "    :param speaker1: Name of the first speaker.\n",
    "    :param speaker2: Name of the second speaker.\n",
    "    :param df: DataFrame containing the speakers and tokens.\n",
    "    :param num_words: Number of top words to plot (default is 15).\n",
    "    \"\"\"\n",
    "    \n",
    "    # Initialize subplots\n",
    "    fig, axes = plt.subplots(nrows=1, ncols=2, figsize=(15, 6))\n",
    "\n",
    "    # Loop over speakers\n",
    "    for idx, speaker in enumerate([speaker1, speaker2]):\n",
    "        # Extract tokens for the speaker\n",
    "        tokens = [token for token_list in df[df['Name'] == speaker]['tokens'] for token in token_list]\n",
    "\n",
    "        # Create frequency distribution and get top tokens\n",
    "        freq_dist = FreqDist(tokens)\n",
    "        top_tokens = freq_dist.most_common(num_words)\n",
    "\n",
    "        # Extract words and frequencies\n",
    "        words, frequencies = zip(*top_tokens)\n",
    "\n",
    "        # Plot\n",
    "        axes[idx].bar(words, frequencies)\n",
    "        axes[idx].set_title(f\"Top {num_words} Words for {speaker}\")\n",
    "        axes[idx].tick_params(axis='x', rotation=45)\n",
    "        axes[idx].set_ylabel(\"Frequency\")\n",
    "\n",
    "    plt.tight_layout()\n",
    "    plt.show()\n",
    "\n",
    "# Example usage\n",
    "plot_speaker_comparison('H_CLINTON', 'TRUMP', result_df)"
   ]
  },
  {
   "cell_type": "code",
   "execution_count": null,
   "id": "b9ac025f-3df7-40b6-9711-51ee5a055350",
   "metadata": {},
   "outputs": [],
   "source": [
    "def plot_speaker_comparison(speaker1, speaker2, df, num_words=15):\n",
    "    \"\"\"\n",
    "    Plot the top 'num_words' used by two speakers side by side.\n",
    "\n",
    "    :param speaker1: Name of the first speaker.\n",
    "    :param speaker2: Name of the second speaker.\n",
    "    :param df: DataFrame containing the speakers and tokens.\n",
    "    :param num_words: Number of top words to plot (default is 15).\n",
    "    \"\"\"\n",
    "    \n",
    "    # Initialize subplots\n",
    "    fig, axes = plt.subplots(nrows=1, ncols=2, figsize=(15, 6))\n",
    "\n",
    "    # Loop over speakers\n",
    "    for idx, speaker in enumerate([speaker1, speaker2]):\n",
    "        # Extract tokens for the speaker\n",
    "        tokens = [token for token_list in df[df['Name'] == speaker]['tokens'] for token in token_list]\n",
    "\n",
    "        # Create frequency distribution and get top tokens\n",
    "        freq_dist = FreqDist(tokens)\n",
    "        top_tokens = freq_dist.most_common(num_words)\n",
    "\n",
    "        # Extract words and frequencies\n",
    "        words, frequencies = zip(*top_tokens)\n",
    "\n",
    "        # Plot\n",
    "        axes[idx].bar(words, frequencies)\n",
    "        axes[idx].set_title(f\"Top {num_words} Words for {speaker}\")\n",
    "        axes[idx].tick_params(axis='x', rotation=45)\n",
    "        axes[idx].set_ylabel(\"Frequency\")\n",
    "\n",
    "    plt.tight_layout()\n",
    "    plt.show()\n",
    "\n",
    "# Example usage\n",
    "plot_speaker_comparison('H_CLINTON', 'TRUMP', result_df)"
   ]
  },
  {
   "cell_type": "code",
   "execution_count": null,
   "id": "03814b83-5896-431b-95aa-844f6b5258d3",
   "metadata": {},
   "outputs": [],
   "source": [
    "def plot_speaker_comparison(speaker1, speaker2, df, num_words=15):\n",
    "    \"\"\"\n",
    "    Plot the top 'num_words' used by two speakers side by side.\n",
    "\n",
    "    :param speaker1: Name of the first speaker.\n",
    "    :param speaker2: Name of the second speaker.\n",
    "    :param df: DataFrame containing the speakers and tokens.\n",
    "    :param num_words: Number of top words to plot (default is 15).\n",
    "    \"\"\"\n",
    "    \n",
    "    # Initialize subplots\n",
    "    fig, axes = plt.subplots(nrows=1, ncols=2, figsize=(15, 6))\n",
    "\n",
    "    # Loop over speakers\n",
    "    for idx, speaker in enumerate([speaker1, speaker2]):\n",
    "        # Extract tokens for the speaker\n",
    "        tokens = [token for token_list in df[df['Name'] == speaker]['tokens'] for token in token_list]\n",
    "\n",
    "        # Create frequency distribution and get top tokens\n",
    "        freq_dist = FreqDist(tokens)\n",
    "        top_tokens = freq_dist.most_common(num_words)\n",
    "\n",
    "        # Extract words and frequencies\n",
    "        words, frequencies = zip(*top_tokens)\n",
    "\n",
    "        # Plot\n",
    "        axes[idx].bar(words, frequencies)\n",
    "        axes[idx].set_title(f\"Top {num_words} Words for {speaker}\")\n",
    "        axes[idx].tick_params(axis='x', rotation=45)\n",
    "        axes[idx].set_ylabel(\"Frequency\")\n",
    "\n",
    "    plt.tight_layout()\n",
    "    plt.show()\n",
    "\n",
    "# Example usage\n",
    "plot_speaker_comparison('H_CLINTON', 'TRUMP', result_df)"
   ]
  },
  {
   "cell_type": "markdown",
   "id": "458210ca",
   "metadata": {},
   "source": [
    "### 3.g. Additional Stopwords Removal"
   ]
  },
  {
   "cell_type": "code",
   "execution_count": null,
   "id": "c666020a",
   "metadata": {},
   "outputs": [],
   "source": [
    "# Nate's code here"
   ]
  },
  {
   "cell_type": "code",
   "execution_count": null,
   "id": "b3f2538e",
   "metadata": {},
   "outputs": [],
   "source": []
  },
  {
   "cell_type": "code",
   "execution_count": null,
   "id": "55772044",
   "metadata": {},
   "outputs": [],
   "source": [
    "add_stopwords = ['mccain','bush','donald','romney','ford','nixon','george','john','dole','dan','richard','reagan','trump','quayle','jim','obama','hillary','joe','clinton','carter','khrushchev','kennedy','biden','crosstalk','bernie','sander']"
   ]
  },
  {
   "cell_type": "code",
   "execution_count": null,
   "id": "da5e5367",
   "metadata": {},
   "outputs": [],
   "source": [
    "# Function to remove stopwords from a string\n",
    "def remove_stopwords(text):\n",
    "    words = text.split()\n",
    "    filtered_words = [word for word in words if word not in add_stopwords]\n",
    "    return ' '.join(filtered_words)\n",
    "\n",
    "# Apply the remove_stopwords function to the 'string_tokens' column\n",
    "final_df['string_tokens'] = final_df['string_tokens'].apply(lambda x: remove_stopwords(x))\n",
    "\n",
    "# Display the updated DataFrame\n",
    "final_df.head()\n"
   ]
  },
  {
   "cell_type": "code",
   "execution_count": null,
   "id": "915ad089",
   "metadata": {},
   "outputs": [],
   "source": []
  },
  {
   "cell_type": "markdown",
   "id": "39cd128e",
   "metadata": {},
   "source": [
    "Finally we can save off our final dataset"
   ]
  },
  {
   "cell_type": "code",
   "execution_count": null,
   "id": "3013860d",
   "metadata": {},
   "outputs": [],
   "source": [
    "final_df.to_csv('../data/final_df.csv', index=False)"
   ]
  },
  {
   "cell_type": "markdown",
   "id": "f20443fb",
   "metadata": {},
   "source": [
    "## 4. Modelling"
   ]
  },
  {
   "cell_type": "code",
   "execution_count": null,
   "id": "18d19ff0",
   "metadata": {},
   "outputs": [],
   "source": [
    "final_df.isna().sum()"
   ]
  },
  {
   "cell_type": "code",
   "execution_count": null,
   "id": "457ca7d3",
   "metadata": {},
   "outputs": [],
   "source": [
    "final_df['string_tokens'][1]"
   ]
  },
  {
   "cell_type": "markdown",
   "id": "e5948e3c",
   "metadata": {},
   "source": [
    "First we define some functions that will make it easier for us to evaluate our grid searches of each future model type"
   ]
  },
  {
   "cell_type": "code",
   "execution_count": null,
   "id": "d735c1a4",
   "metadata": {},
   "outputs": [],
   "source": [
    "def evaluate_grid(gs):\n",
    "    y_pred = gs.predict(X_test)\n",
    "    print(\"Best Params: \" + str(gs.best_params_)) \n",
    "    print(\"Best CV Accuracy: \" + str(gs.best_score_)) \n",
    "    print(\"Train Accuracy: \" + str(gs.score(X_train, y_train)))"
   ]
  },
  {
   "cell_type": "code",
   "execution_count": null,
   "id": "7c2e22ba",
   "metadata": {},
   "outputs": [],
   "source": [
    "def plot_cm(y_test, gs):\n",
    "    '''\n",
    "    Takes in true values and predicted values and plots a confusion matrix\n",
    "    '''\n",
    "    y_pred = gs.predict(X_test)    \n",
    "    cm = confusion_matrix(y_test, y_pred)\n",
    "    disp = ConfusionMatrixDisplay(confusion_matrix=cm, display_labels=['dem', 'ind', 'rep'])\n",
    "    disp.plot();"
   ]
  },
  {
   "cell_type": "code",
   "execution_count": null,
   "id": "db8dd2c7",
   "metadata": {},
   "outputs": [],
   "source": [
    "# Train Test split\n",
    "X_train, X_test, y_train, y_test = train_test_split(final_df[\"string_tokens\"], final_df['Target'], random_state=42)"
   ]
  },
  {
   "cell_type": "markdown",
   "id": "729a524b",
   "metadata": {},
   "source": [
    "### 4.a. Multinomial Naive Bayes Model"
   ]
  },
  {
   "cell_type": "code",
   "execution_count": null,
   "id": "1dee9c2f",
   "metadata": {},
   "outputs": [],
   "source": [
    "pipe = Pipeline(steps=[\n",
    "    ('tfidf', TfidfVectorizer()), \n",
    "    ('mnb', MultinomialNB())])\n",
    "pipe.fit(X_train, y_train)"
   ]
  },
  {
   "cell_type": "code",
   "execution_count": null,
   "id": "daff9c52",
   "metadata": {},
   "outputs": [],
   "source": [
    "cross_val_score(pipe, X_train, y_train)"
   ]
  },
  {
   "cell_type": "code",
   "execution_count": null,
   "id": "3257eb6c",
   "metadata": {},
   "outputs": [],
   "source": [
    "pipe.score(X_test, y_test)"
   ]
  },
  {
   "cell_type": "markdown",
   "id": "4e140213",
   "metadata": {},
   "source": [
    "#### 4.a.i. MNB Grid Searches"
   ]
  },
  {
   "cell_type": "code",
   "execution_count": null,
   "id": "ce2da28b",
   "metadata": {},
   "outputs": [],
   "source": [
    "gs = GridSearchCV(pipe, param_grid= {\n",
    "    'tfidf__max_df': [0.75, 0.9, 1.0], # default 1.0\n",
    "    'tfidf__min_df': [0.0, 0.05, 0.1], # default 1\n",
    "    'tfidf__ngram_range': [(1, 1), (1, 2)], # default (1,1)\n",
    "    'tfidf__max_features': [None, 2, 20], # default (None)\n",
    "    'tfidf__norm': ['l1', 'l2', None]\n",
    "})\n",
    "gs.fit(X_train, y_train)"
   ]
  },
  {
   "cell_type": "code",
   "execution_count": null,
   "id": "3ec7263f",
   "metadata": {},
   "outputs": [],
   "source": [
    "evaluate_grid(gs)"
   ]
  },
  {
   "cell_type": "code",
   "execution_count": null,
   "id": "79c281bd",
   "metadata": {},
   "outputs": [],
   "source": [
    "plot_cm(y_test, gs)"
   ]
  },
  {
   "cell_type": "code",
   "execution_count": null,
   "id": "d4adc088",
   "metadata": {},
   "outputs": [],
   "source": [
    "gs2 = GridSearchCV(pipe, param_grid= {\n",
    "    'tfidf__max_df': [0.95, 1.0], # default 1.0 was best\n",
    "    'tfidf__min_df': [0.0, 0.05], # default 1, 0 was best\n",
    "    'tfidf__ngram_range': [(2, 2), (1, 2)], # default (1,1)\n",
    "    'tfidf__max_features': [None, 1], # default (None) was best\n",
    "    'tfidf__norm': ['l1', 'l2', None] # best was None\n",
    "})\n",
    "gs2.fit(X_train, y_train)"
   ]
  },
  {
   "cell_type": "code",
   "execution_count": null,
   "id": "2979c958",
   "metadata": {},
   "outputs": [],
   "source": [
    "evaluate_grid(gs2)"
   ]
  },
  {
   "cell_type": "code",
   "execution_count": null,
   "id": "fe57557f",
   "metadata": {},
   "outputs": [],
   "source": [
    "plot_cm(y_test, gs2)"
   ]
  },
  {
   "cell_type": "code",
   "execution_count": null,
   "id": "7e1d7bd4",
   "metadata": {},
   "outputs": [],
   "source": [
    "gs3 = GridSearchCV(pipe, param_grid= {\n",
    "    'tfidf__max_df': [0.95, 1.0], # earlier 0.95 was best\n",
    "    'tfidf__min_df': [0.05, 0.0], # 0.05 was best\n",
    "    'tfidf__ngram_range': [(2,2), (1,2), (1,3)], # default (1,1)\n",
    "   'tfidf__max_features': [None, 1], # default (None) was best so commenting it out\n",
    "    'tfidf__norm': [None] # None was best\n",
    "})\n",
    "gs3.fit(X_train, y_train)"
   ]
  },
  {
   "cell_type": "code",
   "execution_count": null,
   "id": "8ba1d574",
   "metadata": {},
   "outputs": [],
   "source": [
    "evaluate_grid(gs3)"
   ]
  },
  {
   "cell_type": "code",
   "execution_count": null,
   "id": "3a5b7144",
   "metadata": {},
   "outputs": [],
   "source": [
    "plot_cm(y_test, gs3)"
   ]
  },
  {
   "cell_type": "code",
   "execution_count": null,
   "id": "4412ce01",
   "metadata": {},
   "outputs": [],
   "source": [
    "gs4 = GridSearchCV(pipe, param_grid= {\n",
    "    'tfidf__max_df': [0.3, 0.35, 0.4, 0.45], # earlier 0.4 was best\n",
    "    'tfidf__min_df': [0.0], # 0.0 was best\n",
    "    'tfidf__ngram_range': [(2,2), (3,3)], # default (1,1)\n",
    "   'tfidf__max_features': [None, 2, 20], # default (None) was best so commenting it out\n",
    "    'tfidf__norm': [None] # None was best\n",
    "})\n",
    "gs4.fit(X_train, y_train)\n"
   ]
  },
  {
   "cell_type": "code",
   "execution_count": null,
   "id": "e6d291ef",
   "metadata": {},
   "outputs": [],
   "source": [
    "evaluate_grid(gs4)"
   ]
  },
  {
   "cell_type": "code",
   "execution_count": null,
   "id": "fd42d3df",
   "metadata": {},
   "outputs": [],
   "source": [
    "plot_cm(y_test, gs4)"
   ]
  },
  {
   "cell_type": "markdown",
   "id": "695591c1",
   "metadata": {},
   "source": [
    "Our scores past grid search 2 did not improve, so we will assign it as our best model and score it on testing data"
   ]
  },
  {
   "cell_type": "code",
   "execution_count": null,
   "id": "b732be9b",
   "metadata": {},
   "outputs": [],
   "source": [
    "gs2.score(X_test, y_test)"
   ]
  },
  {
   "cell_type": "markdown",
   "id": "4690e136",
   "metadata": {},
   "source": [
    "### 4.b. Gaussian Bayes Model"
   ]
  },
  {
   "cell_type": "markdown",
   "id": "8e806017",
   "metadata": {},
   "source": [
    "#### 4.b.i. GB Grid Searches"
   ]
  },
  {
   "cell_type": "markdown",
   "id": "7f8c4730",
   "metadata": {},
   "source": [
    "### 4.c. Random Forest Model"
   ]
  },
  {
   "cell_type": "code",
   "execution_count": null,
   "id": "3fa4ef81",
   "metadata": {},
   "outputs": [],
   "source": [
    "from sklearn.ensemble import RandomForestClassifier\n",
    "\n",
    "pipe3 = Pipeline(steps=[\n",
    "    ('tfidf', TfidfVectorizer()), \n",
    "    ('rf', RandomForestClassifier(random_state=42))])\n",
    "pipe3.fit(X_train, y_train)"
   ]
  },
  {
   "cell_type": "code",
   "execution_count": null,
   "id": "e4c155e1",
   "metadata": {},
   "outputs": [],
   "source": [
    "pipe3.score(X_train, y_train)"
   ]
  },
  {
   "cell_type": "code",
   "execution_count": null,
   "id": "0a7299a0",
   "metadata": {},
   "outputs": [],
   "source": [
    "cross_val_score(pipe3, X_train, y_train)"
   ]
  },
  {
   "cell_type": "markdown",
   "id": "eb1d4a5e",
   "metadata": {},
   "source": [
    "#### 4.c.i. RF Grid Searches"
   ]
  },
  {
   "cell_type": "code",
   "execution_count": null,
   "id": "9b115fef",
   "metadata": {},
   "outputs": [],
   "source": [
    "gs_rf = GridSearchCV(pipe3, param_grid = {\n",
    "        'rf__max_depth': [None, 5, 10],\n",
    "        'rf__min_samples_split': [2, 5, 10],\n",
    "        'rf__min_samples_leaf': [1, 5, 10],\n",
    "        'rf__n_estimators': [100, 200, 300],\n",
    "})\n",
    "gs_rf.fit(X_train, y_train)"
   ]
  },
  {
   "cell_type": "code",
   "execution_count": null,
   "id": "93d6f00e",
   "metadata": {},
   "outputs": [],
   "source": [
    "evaluate_grid(gs_rf)"
   ]
  },
  {
   "cell_type": "code",
   "execution_count": null,
   "id": "af7bd7fa",
   "metadata": {},
   "outputs": [],
   "source": [
    "gs2_rf = GridSearchCV(pipe3, param_grid = {\n",
    "        'rf__max_depth': [None, 1],\n",
    "        'rf__min_samples_split': [2, 3, 1],\n",
    "        'rf__min_samples_leaf': [4, 5, 6],\n",
    "        'rf__n_estimators': [190, 200, 210],\n",
    "})\n",
    "gs2_rf.fit(X_train, y_train)"
   ]
  },
  {
   "cell_type": "code",
   "execution_count": null,
   "id": "2b20949a",
   "metadata": {},
   "outputs": [],
   "source": [
    "evaluate_grid(gs2_rf)"
   ]
  },
  {
   "cell_type": "code",
   "execution_count": null,
   "id": "d330dfbf",
   "metadata": {},
   "outputs": [],
   "source": [
    "final_rf = gs2_rf.best_estimator_\n",
    "final_rf.feature_importances_"
   ]
  },
  {
   "cell_type": "markdown",
   "id": "ddd9dc7a",
   "metadata": {},
   "source": [
    "## 5. Final Results: Multinomial Naive Bayes Model"
   ]
  },
  {
   "cell_type": "code",
   "execution_count": null,
   "id": "93c91e9f",
   "metadata": {},
   "outputs": [],
   "source": []
  },
  {
   "cell_type": "code",
   "execution_count": null,
   "id": "658496f9",
   "metadata": {},
   "outputs": [],
   "source": []
  },
  {
   "cell_type": "markdown",
   "id": "26726010",
   "metadata": {},
   "source": [
    "## 6. Next Steps"
   ]
  },
  {
   "cell_type": "markdown",
   "id": "9117660c",
   "metadata": {},
   "source": [
    "Model again using a more data and stricter processing\n",
    "Track changes in candidate rhetoric \n",
    "Deployment\n",
    "Nate\n",
    "\n",
    "So what about going forward?\n",
    "First, the model would benefit from a larger data training set. In particular, it would be helpful to pull in campaign stops and other less formal speech occasions. Including candidates for party nominations who nonetheless failed to become the party nominee would also be worthwhile.  It is worth considering bringing in other political rhetoric, not merely from those seeking presidential office, although that may go beyond the scope of this particular dataset and model.\n",
    "With our trained model, there are other analyses that would be worth pursuing. To name a few: how much does rhetoric change before and after a politician becomes his or her party’s nominee? What about once they win the election? And how much does context affect rhetoric: a town hall, versus cable news, versus a formal press conference, and so on?\n",
    "Finally, we would want to allow others to make use of this model as they see fit.\n"
   ]
  },
  {
   "cell_type": "code",
   "execution_count": null,
   "id": "9d482a93",
   "metadata": {},
   "outputs": [],
   "source": []
  }
 ],
 "metadata": {
  "kernelspec": {
   "display_name": "Python 3 (ipykernel)",
   "language": "python",
   "name": "python3"
  },
  "language_info": {
   "codemirror_mode": {
    "name": "ipython",
    "version": 3
   },
   "file_extension": ".py",
   "mimetype": "text/x-python",
   "name": "python",
   "nbconvert_exporter": "python",
   "pygments_lexer": "ipython3",
   "version": "3.9.18"
  }
 },
 "nbformat": 4,
 "nbformat_minor": 5
}
