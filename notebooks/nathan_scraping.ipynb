{
 "cells": [
  {
   "cell_type": "code",
   "execution_count": 2,
   "id": "9dca97eb-756d-4c74-9737-62cb59d7451e",
   "metadata": {},
   "outputs": [],
   "source": [
    "import pandas as pd\n",
    "import requests\n",
    "from bs4 import BeautifulSoup\n",
    "from urllib.parse import urljoin"
   ]
  },
  {
   "cell_type": "code",
   "execution_count": null,
   "id": "d898418a-b1f0-48b1-a082-64ac7675e546",
   "metadata": {},
   "outputs": [],
   "source": [
    "inaugural_speeches = pd.DataFrame(columns=[\"date\", \"name\", \"text\", \"link\"])\n",
    "inauglinks = []\n",
    "base_url = \"https://www.presidency.ucsb.edu/documents/\"\n",
    "# URL of the page to scrape\n",
    "url = \"https://www.presidency.ucsb.edu/documents/presidential-documents-archive-guidebook/inaugural-addresses\"\n",
    "\n",
    "# Send a GET request to the URL\n",
    "response = requests.get(url)\n",
    "\n",
    "# Create a BeautifulSoup object to parse the HTML content\n",
    "soup = BeautifulSoup(response.content, 'html.parser')\n",
    "\n",
    "# Find all the links on the page\n",
    "links = soup.find_all(\"a\")\n",
    "\n",
    "\n",
    "for link in links:\n",
    "    if \"inaugural-address-\" in str(link) or \"the-presidents-inaugural-address\" in str(link) or \"https://www.presidency.ucsb.edu/documents/inaugural-address\" in str(link):\n",
    "        url = link.get(\"href\")\n",
    "        date = link.text\n",
    "        page = requests.get(url)\n",
    "        soup = BeautifulSoup(page.content, 'html.parser')\n",
    "        text = soup.find(\"div\", class_=\"field-docs-content\").find_all(\"p\")\n",
    "        text = [t.text for t in text]\n",
    "        text = \" \".join(text)\n",
    "        links2 = soup.find_all(\"a\")\n",
    "        for link in links2:\n",
    "            if \"people\" in str(link):\n",
    "                person = str(link.get(\"href\")).split(\"-\")[-1]\n",
    "        inaugural_speeches.loc[len(inaugural_speeches.index)] = [date, person, text, url]\n",
    "\n",
    "\n",
    "inaugural_speeches"
   ]
  },
  {
   "cell_type": "code",
   "execution_count": null,
   "id": "99ddccd2",
   "metadata": {},
   "outputs": [],
   "source": [
    "inaugural_speeches['text'][1]"
   ]
  },
  {
   "cell_type": "code",
   "execution_count": null,
   "id": "87f9fbd5",
   "metadata": {},
   "outputs": [],
   "source": [
    "inaugural_speeches = inaugural_speeches.drop(index=range(41))\n",
    "inaugural_speeches\n"
   ]
  },
  {
   "cell_type": "code",
   "execution_count": null,
   "id": "e948ec4d",
   "metadata": {},
   "outputs": [],
   "source": [
    "from collections import defaultdict\n",
    "import numpy as np\n",
    "import pandas as pd\n",
    "from sklearn.model_selection import train_test_split\n",
    "\n",
    "import nltk\n",
    "nltk.download('wordnet')\n",
    "nltk.download('tagsets')\n",
    "nltk.download('averaged_perceptron_tagger')\n",
    "\n",
    "from nltk.probability import FreqDist\n",
    "from nltk.corpus import stopwords\n",
    "from nltk.tokenize import regexp_tokenize, word_tokenize, RegexpTokenizer\n",
    "from nltk import pos_tag\n",
    "from nltk.corpus import stopwords, wordnet\n",
    "from nltk.stem import WordNetLemmatizer\n",
    "import matplotlib.pyplot as plt\n",
    "import string\n",
    "import re\n",
    "from sklearn.naive_bayes import MultinomialNB\n",
    "from sklearn.metrics import accuracy_score, precision_score\n",
    "\n",
    "from sklearn.feature_extraction.text import CountVectorizer, TfidfVectorizer,\\\n",
    "HashingVectorizer"
   ]
  },
  {
   "cell_type": "code",
   "execution_count": null,
   "id": "d8593526",
   "metadata": {},
   "outputs": [],
   "source": [
    "inaugural_speeches['text_lower'] = [\"\".join(item for item in lst).lower() for lst in inaugural_speeches['text']]"
   ]
  },
  {
   "cell_type": "code",
   "execution_count": null,
   "id": "2425c6af",
   "metadata": {},
   "outputs": [],
   "source": [
    "from nltk.corpus import stopwords\n",
    "tokenizer = RegexpTokenizer(r\"(?u)\\w{3,}\")\n",
    "stopwords = stopwords.words(\"english\")\n",
    "lemmatizer = WordNetLemmatizer()\n",
    "\n",
    "def preprocessing(text, tokenizer, stopwords, lemmatizer):\n",
    "    # Make everything in the df[\"Text\"] column into a lower-case string\n",
    "    #text = [\"\".join(item for item in lst).lower() for lst in text]\n",
    "\n",
    "    # Tokenize\n",
    "    tokens = tokenizer.tokenize(text)\n",
    "    \n",
    "    # Remove stopwords\n",
    "    tokens = [token for token in tokens if token not in stopwords]\n",
    "    \n",
    "    # Lemmatize\n",
    "    tokens = [lemmatizer.lemmatize(token) for token in tokens]\n",
    "    \n",
    "    \n",
    "    return tokens"
   ]
  },
  {
   "cell_type": "code",
   "execution_count": null,
   "id": "d6783f1f",
   "metadata": {},
   "outputs": [],
   "source": [
    "inaugural_speeches['tokens'] = inaugural_speeches['text_lower'].apply(lambda x: preprocessing(x, tokenizer, stopwords, lemmatizer))\n",
    "inaugural_speeches"
   ]
  },
  {
   "cell_type": "code",
   "execution_count": null,
   "id": "644ee1d8",
   "metadata": {},
   "outputs": [],
   "source": [
    "inaugural_speeches.reset_index(drop=True, inplace=True)\n"
   ]
  },
  {
   "cell_type": "code",
   "execution_count": null,
   "id": "39777fcf",
   "metadata": {},
   "outputs": [],
   "source": [
    "inaugural_speeches['tokens'][0]"
   ]
  },
  {
   "cell_type": "code",
   "execution_count": null,
   "id": "308da098",
   "metadata": {},
   "outputs": [],
   "source": [
    "inaugural_speeches.to_csv('../data/inaugural_speeches.csv')"
   ]
  },
  {
   "cell_type": "code",
   "execution_count": null,
   "id": "e966f065-3a94-472d-8d11-ee3d4b03dbe4",
   "metadata": {},
   "outputs": [],
   "source": []
  }
 ],
 "metadata": {
  "kernelspec": {
   "display_name": "Python (learn-env-tensor)”\n",
   "language": "python",
   "name": "learn-env-tensor"
  },
  "language_info": {
   "codemirror_mode": {
    "name": "ipython",
    "version": 3
   },
   "file_extension": ".py",
   "mimetype": "text/x-python",
   "name": "python",
   "nbconvert_exporter": "python",
   "pygments_lexer": "ipython3",
   "version": "3.9.18"
  }
 },
 "nbformat": 4,
 "nbformat_minor": 5
}
