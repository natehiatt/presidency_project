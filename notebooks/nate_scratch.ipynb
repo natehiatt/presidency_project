{
 "cells": [
  {
   "cell_type": "markdown",
   "metadata": {},
   "source": [
    "# Webscraping"
   ]
  },
  {
   "cell_type": "code",
   "execution_count": 272,
   "metadata": {},
   "outputs": [
    {
     "data": {
      "text/html": [
       "<div>\n",
       "<style scoped>\n",
       "    .dataframe tbody tr th:only-of-type {\n",
       "        vertical-align: middle;\n",
       "    }\n",
       "\n",
       "    .dataframe tbody tr th {\n",
       "        vertical-align: top;\n",
       "    }\n",
       "\n",
       "    .dataframe thead th {\n",
       "        text-align: right;\n",
       "    }\n",
       "</style>\n",
       "<table border=\"1\" class=\"dataframe\">\n",
       "  <thead>\n",
       "    <tr style=\"text-align: right;\">\n",
       "      <th></th>\n",
       "      <th>date</th>\n",
       "      <th>text</th>\n",
       "      <th>link</th>\n",
       "    </tr>\n",
       "  </thead>\n",
       "  <tbody>\n",
       "    <tr>\n",
       "      <th>0</th>\n",
       "      <td></td>\n",
       "      <td>Unofficial transcripts of most presidential an...</td>\n",
       "      <td>https://www.debates.org/voter-education/debate...</td>\n",
       "    </tr>\n",
       "    <tr>\n",
       "      <th>1</th>\n",
       "      <td>october-22-2020</td>\n",
       "      <td>Presidential Debate at Belmont University in N...</td>\n",
       "      <td>https://www.debates.org/voter-education/debate...</td>\n",
       "    </tr>\n",
       "    <tr>\n",
       "      <th>2</th>\n",
       "      <td>september-29-2020</td>\n",
       "      <td>Presidential Debate at Case Western Reserve Un...</td>\n",
       "      <td>https://www.debates.org/voter-education/debate...</td>\n",
       "    </tr>\n",
       "    <tr>\n",
       "      <th>3</th>\n",
       "      <td>october-19-2016</td>\n",
       "      <td>Presidential Debate at the University of Nevad...</td>\n",
       "      <td>https://www.debates.org/voter-education/debate...</td>\n",
       "    </tr>\n",
       "    <tr>\n",
       "      <th>4</th>\n",
       "      <td>october-9-2016</td>\n",
       "      <td>Presidential Debate at Washington University i...</td>\n",
       "      <td>https://www.debates.org/voter-education/debate...</td>\n",
       "    </tr>\n",
       "    <tr>\n",
       "      <th>...</th>\n",
       "      <td>...</td>\n",
       "      <td>...</td>\n",
       "      <td>...</td>\n",
       "    </tr>\n",
       "    <tr>\n",
       "      <th>88</th>\n",
       "      <td>october-22-1976</td>\n",
       "      <td>\\nOctober 22, 1976\\n The Third Carter-Ford Pre...</td>\n",
       "      <td>https://www.debates.org/voter-education/debate...</td>\n",
       "    </tr>\n",
       "    <tr>\n",
       "      <th>89</th>\n",
       "      <td>september-26-1960</td>\n",
       "      <td>\\nSeptember 26, 1960\\n The First Kennedy-Nixon...</td>\n",
       "      <td>https://www.debates.org/voter-education/debate...</td>\n",
       "    </tr>\n",
       "    <tr>\n",
       "      <th>90</th>\n",
       "      <td>october-7-1960</td>\n",
       "      <td>\\nOctober 7, 1960\\n The Second Kennedy-Nixon P...</td>\n",
       "      <td>https://www.debates.org/voter-education/debate...</td>\n",
       "    </tr>\n",
       "    <tr>\n",
       "      <th>91</th>\n",
       "      <td>october-13-1960</td>\n",
       "      <td>\\nOctober 13, 1960\\n The Third Kennedy-Nixon P...</td>\n",
       "      <td>https://www.debates.org/voter-education/debate...</td>\n",
       "    </tr>\n",
       "    <tr>\n",
       "      <th>92</th>\n",
       "      <td>october-21-1960</td>\n",
       "      <td>\\nOctober 21, 1960\\n The Fourth Kennedy-Nixon ...</td>\n",
       "      <td>https://www.debates.org/voter-education/debate...</td>\n",
       "    </tr>\n",
       "  </tbody>\n",
       "</table>\n",
       "<p>93 rows × 3 columns</p>\n",
       "</div>"
      ],
      "text/plain": [
       "                 date                                               text  \\\n",
       "0                      Unofficial transcripts of most presidential an...   \n",
       "1     october-22-2020  Presidential Debate at Belmont University in N...   \n",
       "2   september-29-2020  Presidential Debate at Case Western Reserve Un...   \n",
       "3     october-19-2016  Presidential Debate at the University of Nevad...   \n",
       "4      october-9-2016  Presidential Debate at Washington University i...   \n",
       "..                ...                                                ...   \n",
       "88    october-22-1976  \\nOctober 22, 1976\\n The Third Carter-Ford Pre...   \n",
       "89  september-26-1960  \\nSeptember 26, 1960\\n The First Kennedy-Nixon...   \n",
       "90     october-7-1960  \\nOctober 7, 1960\\n The Second Kennedy-Nixon P...   \n",
       "91    october-13-1960  \\nOctober 13, 1960\\n The Third Kennedy-Nixon P...   \n",
       "92    october-21-1960  \\nOctober 21, 1960\\n The Fourth Kennedy-Nixon ...   \n",
       "\n",
       "                                                 link  \n",
       "0   https://www.debates.org/voter-education/debate...  \n",
       "1   https://www.debates.org/voter-education/debate...  \n",
       "2   https://www.debates.org/voter-education/debate...  \n",
       "3   https://www.debates.org/voter-education/debate...  \n",
       "4   https://www.debates.org/voter-education/debate...  \n",
       "..                                                ...  \n",
       "88  https://www.debates.org/voter-education/debate...  \n",
       "89  https://www.debates.org/voter-education/debate...  \n",
       "90  https://www.debates.org/voter-education/debate...  \n",
       "91  https://www.debates.org/voter-education/debate...  \n",
       "92  https://www.debates.org/voter-education/debate...  \n",
       "\n",
       "[93 rows x 3 columns]"
      ]
     },
     "execution_count": 272,
     "metadata": {},
     "output_type": "execute_result"
    }
   ],
   "source": [
    "\n",
    "import pandas as pd\n",
    "import requests\n",
    "from bs4 import BeautifulSoup\n",
    "from urllib.parse import urljoin\n",
    "\n",
    "df = pd.DataFrame(columns=[\"date\", \"text\", \"link\"])\n",
    "debatelink = []\n",
    "\n",
    "base_url = \"https://www.debates.org\"\n",
    "page = requests.get(urljoin(base_url, \"/voter-education/debate-transcripts/\"))\n",
    "soup = BeautifulSoup(page.content, 'html.parser')\n",
    "\n",
    "links = soup.find_all(\"a\")\n",
    "for link in links:\n",
    "    if \"debate-transcript\" in link.get(\"href\") and \"Media\" not in link.get(\"href\") and \"vice\" not in link.get(\"href\"):\n",
    "        debatelink.append(urljoin(base_url, link.get(\"href\")))\n",
    "        df.loc[len(df)] = [None, None, urljoin(base_url, link.get(\"href\"))]\n",
    "\n",
    "for link in df[\"link\"]:\n",
    "    try:\n",
    "        page = requests.get(link)\n",
    "        soup = BeautifulSoup(page.content, 'html.parser')\n",
    "        text = soup.find_all(\"p\")\n",
    "        text = [t.get_text() for t in text]\n",
    "        text = \" \".join(text)\n",
    "        df.loc[df[\"link\"] == link, \"text\"] = text\n",
    "\n",
    "        date_link = link.split(\"/\")[5:6] \n",
    "        date_link = \"-\".join(date_link[0].split(\"-\")[:3])\n",
    "        df.loc[df[\"link\"] == link, \"date\"] = date_link\n",
    "    except requests.exceptions.RequestException as e:\n",
    "        print(f\"Error accessing {link}: {e}\")\n",
    "\n",
    "df\n"
   ]
  },
  {
   "cell_type": "code",
   "execution_count": null,
   "metadata": {},
   "outputs": [],
   "source": []
  },
  {
   "cell_type": "code",
   "execution_count": null,
   "metadata": {},
   "outputs": [],
   "source": [
    "\n"
   ]
  },
  {
   "cell_type": "code",
   "execution_count": null,
   "metadata": {},
   "outputs": [],
   "source": []
  },
  {
   "cell_type": "code",
   "execution_count": 273,
   "metadata": {},
   "outputs": [
    {
     "data": {
      "text/plain": [
       "93"
      ]
     },
     "execution_count": 273,
     "metadata": {},
     "output_type": "execute_result"
    }
   ],
   "source": [
    "len(debatelink)"
   ]
  },
  {
   "cell_type": "code",
   "execution_count": 274,
   "metadata": {},
   "outputs": [],
   "source": [
    "# req = requests.get('https://www.presidency.ucsb.edu/documents/republican-candidates-debate-des-moines-iowa-1')"
   ]
  },
  {
   "cell_type": "code",
   "execution_count": 275,
   "metadata": {},
   "outputs": [],
   "source": [
    "# req = requests.get('https://www.presidency.ucsb.edu/documents/republican-candidates-debate-des-moines-iowa-1')"
   ]
  },
  {
   "cell_type": "code",
   "execution_count": 276,
   "metadata": {},
   "outputs": [],
   "source": [
    "# req.status_code"
   ]
  },
  {
   "cell_type": "code",
   "execution_count": 277,
   "metadata": {},
   "outputs": [],
   "source": [
    "# req.content"
   ]
  },
  {
   "cell_type": "code",
   "execution_count": 278,
   "metadata": {},
   "outputs": [],
   "source": [
    "# req.text"
   ]
  },
  {
   "cell_type": "code",
   "execution_count": 279,
   "metadata": {},
   "outputs": [],
   "source": [
    "# sitesoup = BeautifulSoup(req.content)"
   ]
  },
  {
   "cell_type": "code",
   "execution_count": 280,
   "metadata": {},
   "outputs": [],
   "source": [
    "# [tag.text for tag in sitesoup.select('p')]"
   ]
  },
  {
   "cell_type": "code",
   "execution_count": 281,
   "metadata": {},
   "outputs": [
    {
     "data": {
      "text/plain": [
       "[]"
      ]
     },
     "execution_count": 281,
     "metadata": {},
     "output_type": "execute_result"
    }
   ],
   "source": [
    "import re \n",
    "# Function to extract text between all-caps words followed by a colon\n",
    "def extract_text_segments(text, name):\n",
    "    pattern = f\"{name}:\\s*([\\s\\S]*?)(?=(?:[A-Z]+\\s*:\\s*|$))\"\n",
    "    matches = re.finditer(pattern, text)\n",
    "    indices = [(match.start(), match.end()) for match in matches]\n",
    "\n",
    "    extracted_texts = []\n",
    "    for i in range(len(indices) - 1):\n",
    "        start = indices[i][0]\n",
    "        end = indices[i][1]\n",
    "        extracted_text = text[start:end].strip()\n",
    "        extracted_texts.append(extracted_text)\n",
    "\n",
    "    return extracted_texts\n",
    "\n",
    "extract_text_segments(df['text'][5], 'CLINTON')"
   ]
  },
  {
   "cell_type": "markdown",
   "metadata": {},
   "source": [
    "loop through dftext get just clinton, add that extracted text to a row 'clinton' in new dataframe\n",
    "- year = \n",
    "- dict = {'Year':None, \n",
    "        'Name':None \n",
    "        'Text': None\n",
    "- df2 = pd.DataFrame(dict) \n",
    "- df2.loc[len(df.index)] = ['year, 'name', extracted text]  \n",
    "- split last 4 characters of 'date' value in df"
   ]
  },
  {
   "cell_type": "code",
   "execution_count": 282,
   "metadata": {},
   "outputs": [],
   "source": [
    "# names = ['CLINTON', 'TRUMP', 'OBAMA', 'ROMNEY',\n",
    "#         'MCCAIN', 'BUSH', 'KERRY', 'GORE', 'CLINTON', 'DOLE',\n",
    "#         'DUKAKIS', 'REAGAN', 'MONDALE', 'CARTER', 'FORD', 'NIXON',\n",
    "#         'KENNEDY', 'ANDERSON']\n",
    "\n",
    "# dict = {'Year':[None], \n",
    "#         'Name':[None], \n",
    "#         'Text': [None]}\n",
    "# df2 = pd.DataFrame(dict) \n",
    "                            \n",
    "# def text_extractor(data):\n",
    "#     for row in data:\n",
    "#         for name in names:\n",
    "#             extracted_text = extract_text_segments(data, name)\n",
    "#             year = df['date'].str[-4:]\n",
    "#             df2.loc[len(df.index)] = [year, name, extracted_text]\n",
    "#     return df2\n",
    "\n",
    "# text_extractor(df['text'])"
   ]
  },
  {
   "cell_type": "code",
   "execution_count": 283,
   "metadata": {},
   "outputs": [
    {
     "name": "stderr",
     "output_type": "stream",
     "text": [
      "/Users/natehiatt/anaconda3/envs/learn-env/lib/python3.9/site-packages/pandas/core/dtypes/cast.py:950: VisibleDeprecationWarning: Creating an ndarray from ragged nested sequences (which is a list-or-tuple of lists-or-tuples-or ndarrays with different lengths or shapes) is deprecated. If you meant to do this, you must specify 'dtype=object' when creating the ndarray.\n",
      "  element = np.asarray(element)\n"
     ]
    },
    {
     "name": "stdout",
     "output_type": "stream",
     "text": [
      "     Year      Name                                               Text\n",
      "0    2016   CLINTON  [CLINTON: Thank you very much, Chris. And than...\n",
      "1    2016   CLINTON  [CLINTON: Well, thank you. Are you a teacher? ...\n",
      "2    2016   CLINTON  [CLINTON: How are you, Donald? [applause], CLI...\n",
      "3    1996   CLINTON  [CLINTON: I was going to applaud, too. Well, t...\n",
      "4    1996   CLINTON  [CLINTON: Thank you, Jim. And thank you to the...\n",
      "..    ...       ...                                                ...\n",
      "163  1960   KENNEDY  [KENNEDY: In the first place I’ve never sugges...\n",
      "164  1960   KENNEDY  [KENNEDY: Good evening, Mr. Shadel. MR., KENNE...\n",
      "165  1960   KENNEDY  [KENNEDY: Good evening, Mr. Howe. MR., KENNEDY...\n",
      "166  1980  ANDERSON  [ANDERSON: Miss Loomis, I think it’s very appr...\n",
      "167  1980  ANDERSON  [ANDERSON: Miss Loomis, I think it’s very appr...\n",
      "\n",
      "[168 rows x 3 columns]\n"
     ]
    }
   ],
   "source": [
    "import pandas as pd\n",
    "\n",
    "names = ['CLINTON', 'TRUMP', 'OBAMA', 'ROMNEY', 'MCCAIN', 'BUSH', 'KERRY', 'GORE', 'CLINTON', 'DOLE', 'DUKAKIS', 'REAGAN', 'MONDALE', 'CARTER', 'FORD', 'NIXON', 'KENNEDY', 'ANDERSON']\n",
    "\n",
    "dict2 = {'Year': [], 'Name': [], 'Text': []}\n",
    "df2 = pd.DataFrame(dict2)\n",
    "\n",
    "def text_extractor(data):\n",
    "    for name in names:\n",
    "        for index, row in df.iterrows():\n",
    "            if name in row['text']:\n",
    "                extracted_text = extract_text_segments(row['text'], name)\n",
    "                year = row['date'][-4:]\n",
    "                df2.loc[len(df2.index)] = [year, name, extracted_text]\n",
    "    return df2\n",
    "\n",
    "result_df = text_extractor(df)\n",
    "print(result_df)\n"
   ]
  },
  {
   "cell_type": "code",
   "execution_count": 284,
   "metadata": {},
   "outputs": [],
   "source": [
    "result_df.to_csv('test.csv')"
   ]
  },
  {
   "cell_type": "code",
   "execution_count": 285,
   "metadata": {},
   "outputs": [
    {
     "data": {
      "text/plain": [
       "Year    True\n",
       "Name    True\n",
       "Text    True\n",
       "dtype: bool"
      ]
     },
     "execution_count": 285,
     "metadata": {},
     "output_type": "execute_result"
    }
   ],
   "source": [
    "result_df.iloc[166] == result_df.iloc[167]"
   ]
  },
  {
   "cell_type": "code",
   "execution_count": 286,
   "metadata": {},
   "outputs": [
    {
     "data": {
      "text/html": [
       "<div>\n",
       "<style scoped>\n",
       "    .dataframe tbody tr th:only-of-type {\n",
       "        vertical-align: middle;\n",
       "    }\n",
       "\n",
       "    .dataframe tbody tr th {\n",
       "        vertical-align: top;\n",
       "    }\n",
       "\n",
       "    .dataframe thead th {\n",
       "        text-align: right;\n",
       "    }\n",
       "</style>\n",
       "<table border=\"1\" class=\"dataframe\">\n",
       "  <thead>\n",
       "    <tr style=\"text-align: right;\">\n",
       "      <th></th>\n",
       "      <th>Year</th>\n",
       "      <th>Name</th>\n",
       "      <th>Text</th>\n",
       "    </tr>\n",
       "  </thead>\n",
       "  <tbody>\n",
       "    <tr>\n",
       "      <th>0</th>\n",
       "      <td>2016</td>\n",
       "      <td>CLINTON</td>\n",
       "      <td>[CLINTON: Thank you very much, Chris. And than...</td>\n",
       "    </tr>\n",
       "    <tr>\n",
       "      <th>1</th>\n",
       "      <td>2016</td>\n",
       "      <td>CLINTON</td>\n",
       "      <td>[CLINTON: Well, thank you. Are you a teacher? ...</td>\n",
       "    </tr>\n",
       "    <tr>\n",
       "      <th>2</th>\n",
       "      <td>2016</td>\n",
       "      <td>CLINTON</td>\n",
       "      <td>[CLINTON: How are you, Donald? [applause], CLI...</td>\n",
       "    </tr>\n",
       "    <tr>\n",
       "      <th>3</th>\n",
       "      <td>1996</td>\n",
       "      <td>CLINTON</td>\n",
       "      <td>[CLINTON: I was going to applaud, too. Well, t...</td>\n",
       "    </tr>\n",
       "    <tr>\n",
       "      <th>4</th>\n",
       "      <td>1996</td>\n",
       "      <td>CLINTON</td>\n",
       "      <td>[CLINTON: Thank you, Jim. And thank you to the...</td>\n",
       "    </tr>\n",
       "    <tr>\n",
       "      <th>...</th>\n",
       "      <td>...</td>\n",
       "      <td>...</td>\n",
       "      <td>...</td>\n",
       "    </tr>\n",
       "    <tr>\n",
       "      <th>163</th>\n",
       "      <td>1960</td>\n",
       "      <td>KENNEDY</td>\n",
       "      <td>NaN</td>\n",
       "    </tr>\n",
       "    <tr>\n",
       "      <th>164</th>\n",
       "      <td>1960</td>\n",
       "      <td>KENNEDY</td>\n",
       "      <td>NaN</td>\n",
       "    </tr>\n",
       "    <tr>\n",
       "      <th>165</th>\n",
       "      <td>1960</td>\n",
       "      <td>KENNEDY</td>\n",
       "      <td>NaN</td>\n",
       "    </tr>\n",
       "    <tr>\n",
       "      <th>166</th>\n",
       "      <td>1980</td>\n",
       "      <td>ANDERSON</td>\n",
       "      <td>[ANDERSON: Miss Loomis, I think it’s very appr...</td>\n",
       "    </tr>\n",
       "    <tr>\n",
       "      <th>167</th>\n",
       "      <td>1980</td>\n",
       "      <td>ANDERSON</td>\n",
       "      <td>NaN</td>\n",
       "    </tr>\n",
       "  </tbody>\n",
       "</table>\n",
       "<p>168 rows × 3 columns</p>\n",
       "</div>"
      ],
      "text/plain": [
       "     Year      Name                                               Text\n",
       "0    2016   CLINTON  [CLINTON: Thank you very much, Chris. And than...\n",
       "1    2016   CLINTON  [CLINTON: Well, thank you. Are you a teacher? ...\n",
       "2    2016   CLINTON  [CLINTON: How are you, Donald? [applause], CLI...\n",
       "3    1996   CLINTON  [CLINTON: I was going to applaud, too. Well, t...\n",
       "4    1996   CLINTON  [CLINTON: Thank you, Jim. And thank you to the...\n",
       "..    ...       ...                                                ...\n",
       "163  1960   KENNEDY                                                NaN\n",
       "164  1960   KENNEDY                                                NaN\n",
       "165  1960   KENNEDY                                                NaN\n",
       "166  1980  ANDERSON  [ANDERSON: Miss Loomis, I think it’s very appr...\n",
       "167  1980  ANDERSON                                                NaN\n",
       "\n",
       "[168 rows x 3 columns]"
      ]
     },
     "execution_count": 286,
     "metadata": {},
     "output_type": "execute_result"
    }
   ],
   "source": [
    "result_df['Text'] = result_df['Text'].drop_duplicates(keep='first')\n",
    "result_df"
   ]
  },
  {
   "cell_type": "code",
   "execution_count": 287,
   "metadata": {},
   "outputs": [],
   "source": [
    "result_df.dropna(inplace=True)"
   ]
  },
  {
   "cell_type": "code",
   "execution_count": 288,
   "metadata": {},
   "outputs": [
    {
     "data": {
      "text/html": [
       "<div>\n",
       "<style scoped>\n",
       "    .dataframe tbody tr th:only-of-type {\n",
       "        vertical-align: middle;\n",
       "    }\n",
       "\n",
       "    .dataframe tbody tr th {\n",
       "        vertical-align: top;\n",
       "    }\n",
       "\n",
       "    .dataframe thead th {\n",
       "        text-align: right;\n",
       "    }\n",
       "</style>\n",
       "<table border=\"1\" class=\"dataframe\">\n",
       "  <thead>\n",
       "    <tr style=\"text-align: right;\">\n",
       "      <th></th>\n",
       "      <th>Year</th>\n",
       "      <th>Name</th>\n",
       "      <th>Text</th>\n",
       "    </tr>\n",
       "  </thead>\n",
       "  <tbody>\n",
       "  </tbody>\n",
       "</table>\n",
       "</div>"
      ],
      "text/plain": [
       "Empty DataFrame\n",
       "Columns: [Year, Name, Text]\n",
       "Index: []"
      ]
     },
     "execution_count": 288,
     "metadata": {},
     "output_type": "execute_result"
    }
   ],
   "source": [
    "result_df[result_df['Text'].isna() == True]"
   ]
  },
  {
   "cell_type": "code",
   "execution_count": 289,
   "metadata": {},
   "outputs": [
    {
     "name": "stdout",
     "output_type": "stream",
     "text": [
      "<class 'pandas.core.frame.DataFrame'>\n",
      "Index: 74 entries, 0 to 166\n",
      "Data columns (total 3 columns):\n",
      " #   Column  Non-Null Count  Dtype \n",
      "---  ------  --------------  ----- \n",
      " 0   Year    74 non-null     object\n",
      " 1   Name    74 non-null     object\n",
      " 2   Text    74 non-null     object\n",
      "dtypes: object(3)\n",
      "memory usage: 2.3+ KB\n"
     ]
    }
   ],
   "source": [
    "result_df.info()"
   ]
  },
  {
   "cell_type": "code",
   "execution_count": 290,
   "metadata": {},
   "outputs": [],
   "source": [
    "mask = (result_df['Name'] == \"CLINTON\") & (result_df['Year'] == \"2016\")\n",
    "result_df.loc[mask, 'Name'] = \"H_CLINTON\""
   ]
  },
  {
   "cell_type": "code",
   "execution_count": 291,
   "metadata": {},
   "outputs": [],
   "source": [
    "mask = (result_df['Name'] == \"CLINTON\") & (result_df['Year'] == \"1992\")\n",
    "result_df.loc[mask, 'Name'] = \"B_CLINTON\""
   ]
  },
  {
   "cell_type": "code",
   "execution_count": 292,
   "metadata": {},
   "outputs": [],
   "source": [
    "mask = (result_df['Name'] == \"CLINTON\") & (result_df['Year'] == \"1996\")\n",
    "result_df.loc[mask, 'Name'] = \"B_CLINTON\""
   ]
  },
  {
   "cell_type": "code",
   "execution_count": 293,
   "metadata": {},
   "outputs": [],
   "source": [
    "mask = (result_df['Name'] == \"BUSH\") & (result_df['Year'] == \"2008\")\n",
    "result_df.loc[mask, 'Name'] = \"BUSH_2\""
   ]
  },
  {
   "cell_type": "code",
   "execution_count": 294,
   "metadata": {},
   "outputs": [],
   "source": [
    "mask = (result_df['Name'] == \"BUSH\") & (result_df['Year'] == \"2004\")\n",
    "result_df.loc[mask, 'Name'] = \"BUSH_2\""
   ]
  },
  {
   "cell_type": "code",
   "execution_count": 295,
   "metadata": {},
   "outputs": [],
   "source": [
    "mask = (result_df['Name'] == \"BUSH\") & (result_df['Year'] == \"2000\")\n",
    "result_df.loc[mask, 'Name'] = \"BUSH_2\""
   ]
  },
  {
   "cell_type": "code",
   "execution_count": 296,
   "metadata": {},
   "outputs": [],
   "source": [
    "mask = (result_df['Name'] == \"BUSH\") & (result_df['Year'] == \"1988\") \n",
    "result_df.loc[mask, 'Name'] = \"BUSH_1\""
   ]
  },
  {
   "cell_type": "code",
   "execution_count": 297,
   "metadata": {},
   "outputs": [],
   "source": [
    "mask = (result_df['Name'] == \"BUSH\") & (result_df['Year'] == \"1992\") \n",
    "result_df.loc[mask, 'Name'] = \"BUSH_1\""
   ]
  },
  {
   "cell_type": "code",
   "execution_count": 298,
   "metadata": {},
   "outputs": [
    {
     "data": {
      "text/plain": [
       "Name\n",
       "B_CLINTON    7\n",
       "BUSH_1       7\n",
       "OBAMA        6\n",
       "BUSH_2       6\n",
       "GORE         5\n",
       "TRUMP        5\n",
       "KENNEDY      4\n",
       "NIXON        4\n",
       "FORD         4\n",
       "CARTER       4\n",
       "H_CLINTON    3\n",
       "KERRY        3\n",
       "MCCAIN       3\n",
       "ROMNEY       3\n",
       "DOLE         2\n",
       "DUKAKIS      2\n",
       "REAGAN       2\n",
       "MONDALE      2\n",
       "BUSH         1\n",
       "ANDERSON     1\n",
       "Name: count, dtype: int64"
      ]
     },
     "execution_count": 298,
     "metadata": {},
     "output_type": "execute_result"
    }
   ],
   "source": [
    "result_df['Name'].value_counts()"
   ]
  },
  {
   "cell_type": "code",
   "execution_count": 299,
   "metadata": {},
   "outputs": [],
   "source": [
    "result_df = result_df[result_df['Name'] != \"BUSH\"]"
   ]
  },
  {
   "cell_type": "code",
   "execution_count": 300,
   "metadata": {},
   "outputs": [
    {
     "data": {
      "text/html": [
       "<div>\n",
       "<style scoped>\n",
       "    .dataframe tbody tr th:only-of-type {\n",
       "        vertical-align: middle;\n",
       "    }\n",
       "\n",
       "    .dataframe tbody tr th {\n",
       "        vertical-align: top;\n",
       "    }\n",
       "\n",
       "    .dataframe thead th {\n",
       "        text-align: right;\n",
       "    }\n",
       "</style>\n",
       "<table border=\"1\" class=\"dataframe\">\n",
       "  <thead>\n",
       "    <tr style=\"text-align: right;\">\n",
       "      <th></th>\n",
       "      <th>Year</th>\n",
       "      <th>Name</th>\n",
       "      <th>Text</th>\n",
       "    </tr>\n",
       "  </thead>\n",
       "  <tbody>\n",
       "    <tr>\n",
       "      <th>0</th>\n",
       "      <td>2016</td>\n",
       "      <td>H_CLINTON</td>\n",
       "      <td>[CLINTON: Thank you very much, Chris. And than...</td>\n",
       "    </tr>\n",
       "    <tr>\n",
       "      <th>1</th>\n",
       "      <td>2016</td>\n",
       "      <td>H_CLINTON</td>\n",
       "      <td>[CLINTON: Well, thank you. Are you a teacher? ...</td>\n",
       "    </tr>\n",
       "    <tr>\n",
       "      <th>2</th>\n",
       "      <td>2016</td>\n",
       "      <td>H_CLINTON</td>\n",
       "      <td>[CLINTON: How are you, Donald? [applause], CLI...</td>\n",
       "    </tr>\n",
       "    <tr>\n",
       "      <th>3</th>\n",
       "      <td>1996</td>\n",
       "      <td>B_CLINTON</td>\n",
       "      <td>[CLINTON: I was going to applaud, too. Well, t...</td>\n",
       "    </tr>\n",
       "    <tr>\n",
       "      <th>4</th>\n",
       "      <td>1996</td>\n",
       "      <td>B_CLINTON</td>\n",
       "      <td>[CLINTON: Thank you, Jim. And thank you to the...</td>\n",
       "    </tr>\n",
       "    <tr>\n",
       "      <th>...</th>\n",
       "      <td>...</td>\n",
       "      <td>...</td>\n",
       "      <td>...</td>\n",
       "    </tr>\n",
       "    <tr>\n",
       "      <th>158</th>\n",
       "      <td>1960</td>\n",
       "      <td>KENNEDY</td>\n",
       "      <td>[KENNEDY: Good evening, Mr. Howe. MR., KENNEDY...</td>\n",
       "    </tr>\n",
       "    <tr>\n",
       "      <th>159</th>\n",
       "      <td>1960</td>\n",
       "      <td>KENNEDY</td>\n",
       "      <td>[KENNEDY: Good evening, Mr. Shadel. MR., KENNE...</td>\n",
       "    </tr>\n",
       "    <tr>\n",
       "      <th>160</th>\n",
       "      <td>1960</td>\n",
       "      <td>KENNEDY</td>\n",
       "      <td>[KENNEDY: In the first place I’ve never sugges...</td>\n",
       "    </tr>\n",
       "    <tr>\n",
       "      <th>161</th>\n",
       "      <td>1960</td>\n",
       "      <td>KENNEDY</td>\n",
       "      <td>[KENNEDY: Mr. Smith, Mr. Nixon. In the electio...</td>\n",
       "    </tr>\n",
       "    <tr>\n",
       "      <th>166</th>\n",
       "      <td>1980</td>\n",
       "      <td>ANDERSON</td>\n",
       "      <td>[ANDERSON: Miss Loomis, I think it’s very appr...</td>\n",
       "    </tr>\n",
       "  </tbody>\n",
       "</table>\n",
       "<p>73 rows × 3 columns</p>\n",
       "</div>"
      ],
      "text/plain": [
       "     Year       Name                                               Text\n",
       "0    2016  H_CLINTON  [CLINTON: Thank you very much, Chris. And than...\n",
       "1    2016  H_CLINTON  [CLINTON: Well, thank you. Are you a teacher? ...\n",
       "2    2016  H_CLINTON  [CLINTON: How are you, Donald? [applause], CLI...\n",
       "3    1996  B_CLINTON  [CLINTON: I was going to applaud, too. Well, t...\n",
       "4    1996  B_CLINTON  [CLINTON: Thank you, Jim. And thank you to the...\n",
       "..    ...        ...                                                ...\n",
       "158  1960    KENNEDY  [KENNEDY: Good evening, Mr. Howe. MR., KENNEDY...\n",
       "159  1960    KENNEDY  [KENNEDY: Good evening, Mr. Shadel. MR., KENNE...\n",
       "160  1960    KENNEDY  [KENNEDY: In the first place I’ve never sugges...\n",
       "161  1960    KENNEDY  [KENNEDY: Mr. Smith, Mr. Nixon. In the electio...\n",
       "166  1980   ANDERSON  [ANDERSON: Miss Loomis, I think it’s very appr...\n",
       "\n",
       "[73 rows x 3 columns]"
      ]
     },
     "execution_count": 300,
     "metadata": {},
     "output_type": "execute_result"
    }
   ],
   "source": [
    "result_df"
   ]
  },
  {
   "cell_type": "code",
   "execution_count": 301,
   "metadata": {},
   "outputs": [
    {
     "data": {
      "text/plain": [
       "73"
      ]
     },
     "execution_count": 301,
     "metadata": {},
     "output_type": "execute_result"
    }
   ],
   "source": [
    "len(result_df)"
   ]
  },
  {
   "cell_type": "code",
   "execution_count": 302,
   "metadata": {},
   "outputs": [
    {
     "data": {
      "text/plain": [
       "Name\n",
       "BUSH_1       7\n",
       "B_CLINTON    7\n",
       "OBAMA        6\n",
       "BUSH_2       6\n",
       "GORE         5\n",
       "TRUMP        5\n",
       "CARTER       4\n",
       "KENNEDY      4\n",
       "NIXON        4\n",
       "FORD         4\n",
       "H_CLINTON    3\n",
       "KERRY        3\n",
       "MCCAIN       3\n",
       "ROMNEY       3\n",
       "DUKAKIS      2\n",
       "REAGAN       2\n",
       "MONDALE      2\n",
       "DOLE         2\n",
       "ANDERSON     1\n",
       "Name: count, dtype: int64"
      ]
     },
     "execution_count": 302,
     "metadata": {},
     "output_type": "execute_result"
    }
   ],
   "source": [
    "result_df['Name'].value_counts()"
   ]
  },
  {
   "cell_type": "code",
   "execution_count": 303,
   "metadata": {},
   "outputs": [
    {
     "name": "stderr",
     "output_type": "stream",
     "text": [
      "/var/folders/gf/gqtw2hsd3xx5_9tt2z47xflr0000gn/T/ipykernel_35357/569863851.py:4: SettingWithCopyWarning: \n",
      "A value is trying to be set on a copy of a slice from a DataFrame.\n",
      "Try using .loc[row_indexer,col_indexer] = value instead\n",
      "\n",
      "See the caveats in the documentation: https://pandas.pydata.org/pandas-docs/stable/user_guide/indexing.html#returning-a-view-versus-a-copy\n",
      "  result_df['Target'] = 2  # Default value for rows not matching dems or ind\n"
     ]
    },
    {
     "data": {
      "text/html": [
       "<div>\n",
       "<style scoped>\n",
       "    .dataframe tbody tr th:only-of-type {\n",
       "        vertical-align: middle;\n",
       "    }\n",
       "\n",
       "    .dataframe tbody tr th {\n",
       "        vertical-align: top;\n",
       "    }\n",
       "\n",
       "    .dataframe thead th {\n",
       "        text-align: right;\n",
       "    }\n",
       "</style>\n",
       "<table border=\"1\" class=\"dataframe\">\n",
       "  <thead>\n",
       "    <tr style=\"text-align: right;\">\n",
       "      <th></th>\n",
       "      <th>Year</th>\n",
       "      <th>Name</th>\n",
       "      <th>Text</th>\n",
       "      <th>Target</th>\n",
       "    </tr>\n",
       "  </thead>\n",
       "  <tbody>\n",
       "    <tr>\n",
       "      <th>0</th>\n",
       "      <td>2016</td>\n",
       "      <td>H_CLINTON</td>\n",
       "      <td>[CLINTON: Thank you very much, Chris. And than...</td>\n",
       "      <td>0</td>\n",
       "    </tr>\n",
       "    <tr>\n",
       "      <th>1</th>\n",
       "      <td>2016</td>\n",
       "      <td>H_CLINTON</td>\n",
       "      <td>[CLINTON: Well, thank you. Are you a teacher? ...</td>\n",
       "      <td>0</td>\n",
       "    </tr>\n",
       "    <tr>\n",
       "      <th>2</th>\n",
       "      <td>2016</td>\n",
       "      <td>H_CLINTON</td>\n",
       "      <td>[CLINTON: How are you, Donald? [applause], CLI...</td>\n",
       "      <td>0</td>\n",
       "    </tr>\n",
       "    <tr>\n",
       "      <th>3</th>\n",
       "      <td>1996</td>\n",
       "      <td>B_CLINTON</td>\n",
       "      <td>[CLINTON: I was going to applaud, too. Well, t...</td>\n",
       "      <td>0</td>\n",
       "    </tr>\n",
       "    <tr>\n",
       "      <th>4</th>\n",
       "      <td>1996</td>\n",
       "      <td>B_CLINTON</td>\n",
       "      <td>[CLINTON: Thank you, Jim. And thank you to the...</td>\n",
       "      <td>0</td>\n",
       "    </tr>\n",
       "    <tr>\n",
       "      <th>...</th>\n",
       "      <td>...</td>\n",
       "      <td>...</td>\n",
       "      <td>...</td>\n",
       "      <td>...</td>\n",
       "    </tr>\n",
       "    <tr>\n",
       "      <th>158</th>\n",
       "      <td>1960</td>\n",
       "      <td>KENNEDY</td>\n",
       "      <td>[KENNEDY: Good evening, Mr. Howe. MR., KENNEDY...</td>\n",
       "      <td>0</td>\n",
       "    </tr>\n",
       "    <tr>\n",
       "      <th>159</th>\n",
       "      <td>1960</td>\n",
       "      <td>KENNEDY</td>\n",
       "      <td>[KENNEDY: Good evening, Mr. Shadel. MR., KENNE...</td>\n",
       "      <td>0</td>\n",
       "    </tr>\n",
       "    <tr>\n",
       "      <th>160</th>\n",
       "      <td>1960</td>\n",
       "      <td>KENNEDY</td>\n",
       "      <td>[KENNEDY: In the first place I’ve never sugges...</td>\n",
       "      <td>0</td>\n",
       "    </tr>\n",
       "    <tr>\n",
       "      <th>161</th>\n",
       "      <td>1960</td>\n",
       "      <td>KENNEDY</td>\n",
       "      <td>[KENNEDY: Mr. Smith, Mr. Nixon. In the electio...</td>\n",
       "      <td>0</td>\n",
       "    </tr>\n",
       "    <tr>\n",
       "      <th>166</th>\n",
       "      <td>1980</td>\n",
       "      <td>ANDERSON</td>\n",
       "      <td>[ANDERSON: Miss Loomis, I think it’s very appr...</td>\n",
       "      <td>1</td>\n",
       "    </tr>\n",
       "  </tbody>\n",
       "</table>\n",
       "<p>73 rows × 4 columns</p>\n",
       "</div>"
      ],
      "text/plain": [
       "     Year       Name                                               Text  \\\n",
       "0    2016  H_CLINTON  [CLINTON: Thank you very much, Chris. And than...   \n",
       "1    2016  H_CLINTON  [CLINTON: Well, thank you. Are you a teacher? ...   \n",
       "2    2016  H_CLINTON  [CLINTON: How are you, Donald? [applause], CLI...   \n",
       "3    1996  B_CLINTON  [CLINTON: I was going to applaud, too. Well, t...   \n",
       "4    1996  B_CLINTON  [CLINTON: Thank you, Jim. And thank you to the...   \n",
       "..    ...        ...                                                ...   \n",
       "158  1960    KENNEDY  [KENNEDY: Good evening, Mr. Howe. MR., KENNEDY...   \n",
       "159  1960    KENNEDY  [KENNEDY: Good evening, Mr. Shadel. MR., KENNE...   \n",
       "160  1960    KENNEDY  [KENNEDY: In the first place I’ve never sugges...   \n",
       "161  1960    KENNEDY  [KENNEDY: Mr. Smith, Mr. Nixon. In the electio...   \n",
       "166  1980   ANDERSON  [ANDERSON: Miss Loomis, I think it’s very appr...   \n",
       "\n",
       "     Target  \n",
       "0         0  \n",
       "1         0  \n",
       "2         0  \n",
       "3         0  \n",
       "4         0  \n",
       "..      ...  \n",
       "158       0  \n",
       "159       0  \n",
       "160       0  \n",
       "161       0  \n",
       "166       1  \n",
       "\n",
       "[73 rows x 4 columns]"
      ]
     },
     "execution_count": 303,
     "metadata": {},
     "output_type": "execute_result"
    }
   ],
   "source": [
    "dems = ['B_CLINTON', 'OBAMA', 'GORE', 'CARTER', 'KENNEDY', 'H_CLINTON', 'KERRY', 'DUKAKIS', 'MONDALE']\n",
    "ind = ['DOLE', 'ANDERSON']\n",
    "\n",
    "result_df['Target'] = 2  # Default value for rows not matching dems or ind\n",
    "\n",
    "for row in result_df['Name']:\n",
    "    if row in dems:\n",
    "        result_df.loc[result_df['Name'] == row, 'Target'] = 0\n",
    "    elif row in ind:\n",
    "        result_df.loc[result_df['Name'] == row, 'Target'] = 1\n",
    "\n",
    "result_df\n"
   ]
  },
  {
   "cell_type": "code",
   "execution_count": 304,
   "metadata": {},
   "outputs": [
    {
     "data": {
      "text/html": [
       "<div>\n",
       "<style scoped>\n",
       "    .dataframe tbody tr th:only-of-type {\n",
       "        vertical-align: middle;\n",
       "    }\n",
       "\n",
       "    .dataframe tbody tr th {\n",
       "        vertical-align: top;\n",
       "    }\n",
       "\n",
       "    .dataframe thead th {\n",
       "        text-align: right;\n",
       "    }\n",
       "</style>\n",
       "<table border=\"1\" class=\"dataframe\">\n",
       "  <thead>\n",
       "    <tr style=\"text-align: right;\">\n",
       "      <th></th>\n",
       "      <th>Year</th>\n",
       "      <th>Name</th>\n",
       "      <th>Text</th>\n",
       "      <th>Target</th>\n",
       "    </tr>\n",
       "  </thead>\n",
       "  <tbody>\n",
       "    <tr>\n",
       "      <th>126</th>\n",
       "      <td>1980</td>\n",
       "      <td>REAGAN</td>\n",
       "      <td>[REAGAN: I don’t know what the differences mig...</td>\n",
       "      <td>2</td>\n",
       "    </tr>\n",
       "    <tr>\n",
       "      <th>127</th>\n",
       "      <td>1980</td>\n",
       "      <td>REAGAN</td>\n",
       "      <td>[REAGAN: I believe that the only unpopular mea...</td>\n",
       "      <td>2</td>\n",
       "    </tr>\n",
       "  </tbody>\n",
       "</table>\n",
       "</div>"
      ],
      "text/plain": [
       "     Year    Name                                               Text  Target\n",
       "126  1980  REAGAN  [REAGAN: I don’t know what the differences mig...       2\n",
       "127  1980  REAGAN  [REAGAN: I believe that the only unpopular mea...       2"
      ]
     },
     "execution_count": 304,
     "metadata": {},
     "output_type": "execute_result"
    }
   ],
   "source": [
    "result_df[result_df['Name'] == \"REAGAN\"]"
   ]
  },
  {
   "cell_type": "code",
   "execution_count": 305,
   "metadata": {},
   "outputs": [
    {
     "data": {
      "text/plain": [
       "Target\n",
       "0    36\n",
       "2    34\n",
       "1     3\n",
       "Name: count, dtype: int64"
      ]
     },
     "execution_count": 305,
     "metadata": {},
     "output_type": "execute_result"
    }
   ],
   "source": [
    "result_df['Target'].value_counts()"
   ]
  },
  {
   "cell_type": "markdown",
   "metadata": {},
   "source": [
    "# NLP"
   ]
  },
  {
   "cell_type": "code",
   "execution_count": 306,
   "metadata": {},
   "outputs": [
    {
     "name": "stderr",
     "output_type": "stream",
     "text": [
      "[nltk_data] Downloading package wordnet to\n",
      "[nltk_data]     /Users/natehiatt/nltk_data...\n",
      "[nltk_data]   Package wordnet is already up-to-date!\n",
      "[nltk_data] Downloading package tagsets to\n",
      "[nltk_data]     /Users/natehiatt/nltk_data...\n",
      "[nltk_data]   Package tagsets is already up-to-date!\n",
      "[nltk_data] Downloading package averaged_perceptron_tagger to\n",
      "[nltk_data]     /Users/natehiatt/nltk_data...\n",
      "[nltk_data]   Package averaged_perceptron_tagger is already up-to-\n",
      "[nltk_data]       date!\n",
      "[nltk_data] Downloading package stopwords to\n",
      "[nltk_data]     /Users/natehiatt/nltk_data...\n",
      "[nltk_data]   Package stopwords is already up-to-date!\n"
     ]
    }
   ],
   "source": [
    "from collections import defaultdict\n",
    "import numpy as np\n",
    "import pandas as pd\n",
    "from sklearn.model_selection import train_test_split\n",
    "\n",
    "import nltk\n",
    "nltk.download('wordnet')\n",
    "nltk.download('tagsets')\n",
    "nltk.download('averaged_perceptron_tagger')\n",
    "nltk.download('stopwords')\n",
    "from nltk.probability import FreqDist\n",
    "from nltk.corpus import stopwords\n",
    "from nltk.tokenize import regexp_tokenize, word_tokenize, RegexpTokenizer\n",
    "from nltk import pos_tag\n",
    "from nltk.corpus import stopwords, wordnet\n",
    "from nltk.stem import WordNetLemmatizer\n",
    "import matplotlib.pyplot as plt\n",
    "import string\n",
    "import re\n",
    "from sklearn.ensemble import RandomForestClassifier\n",
    "from sklearn.naive_bayes import MultinomialNB\n",
    "from sklearn.metrics import accuracy_score, precision_score, ConfusionMatrixDisplay\n",
    "\n",
    "from sklearn.feature_extraction.text import CountVectorizer, TfidfVectorizer,\\\n",
    "HashingVectorizer"
   ]
  },
  {
   "cell_type": "code",
   "execution_count": 320,
   "metadata": {},
   "outputs": [
    {
     "name": "stdout",
     "output_type": "stream",
     "text": [
      "<class 'pandas.core.frame.DataFrame'>\n",
      "Index: 73 entries, 0 to 166\n",
      "Data columns (total 5 columns):\n",
      " #   Column      Non-Null Count  Dtype \n",
      "---  ------      --------------  ----- \n",
      " 0   Year        73 non-null     object\n",
      " 1   Name        73 non-null     object\n",
      " 2   Text        73 non-null     object\n",
      " 3   Target      73 non-null     int64 \n",
      " 4   text_lower  73 non-null     object\n",
      "dtypes: int64(1), object(4)\n",
      "memory usage: 3.4+ KB\n"
     ]
    }
   ],
   "source": [
    "result_df.info()"
   ]
  },
  {
   "cell_type": "code",
   "execution_count": 339,
   "metadata": {},
   "outputs": [
    {
     "name": "stderr",
     "output_type": "stream",
     "text": [
      "/var/folders/gf/gqtw2hsd3xx5_9tt2z47xflr0000gn/T/ipykernel_35357/1050904620.py:1: SettingWithCopyWarning: \n",
      "A value is trying to be set on a copy of a slice from a DataFrame.\n",
      "Try using .loc[row_indexer,col_indexer] = value instead\n",
      "\n",
      "See the caveats in the documentation: https://pandas.pydata.org/pandas-docs/stable/user_guide/indexing.html#returning-a-view-versus-a-copy\n",
      "  result_df['text_lower'] = [\"\".join(item for item in lst).lower() for lst in result_df['Text']]\n"
     ]
    },
    {
     "data": {
      "text/html": [
       "<div>\n",
       "<style scoped>\n",
       "    .dataframe tbody tr th:only-of-type {\n",
       "        vertical-align: middle;\n",
       "    }\n",
       "\n",
       "    .dataframe tbody tr th {\n",
       "        vertical-align: top;\n",
       "    }\n",
       "\n",
       "    .dataframe thead th {\n",
       "        text-align: right;\n",
       "    }\n",
       "</style>\n",
       "<table border=\"1\" class=\"dataframe\">\n",
       "  <thead>\n",
       "    <tr style=\"text-align: right;\">\n",
       "      <th></th>\n",
       "      <th>Year</th>\n",
       "      <th>Name</th>\n",
       "      <th>Text</th>\n",
       "      <th>Target</th>\n",
       "      <th>text_lower</th>\n",
       "    </tr>\n",
       "  </thead>\n",
       "  <tbody>\n",
       "    <tr>\n",
       "      <th>0</th>\n",
       "      <td>2016</td>\n",
       "      <td>H_CLINTON</td>\n",
       "      <td>[CLINTON: Thank you very much, Chris. And than...</td>\n",
       "      <td>0</td>\n",
       "      <td>clinton: thank you very much, chris. and thank...</td>\n",
       "    </tr>\n",
       "    <tr>\n",
       "      <th>1</th>\n",
       "      <td>2016</td>\n",
       "      <td>H_CLINTON</td>\n",
       "      <td>[CLINTON: Well, thank you. Are you a teacher? ...</td>\n",
       "      <td>0</td>\n",
       "      <td>clinton: well, thank you. are you a teacher? y...</td>\n",
       "    </tr>\n",
       "    <tr>\n",
       "      <th>2</th>\n",
       "      <td>2016</td>\n",
       "      <td>H_CLINTON</td>\n",
       "      <td>[CLINTON: How are you, Donald? [applause], CLI...</td>\n",
       "      <td>0</td>\n",
       "      <td>clinton: how are you, donald? [applause]clinto...</td>\n",
       "    </tr>\n",
       "    <tr>\n",
       "      <th>3</th>\n",
       "      <td>1996</td>\n",
       "      <td>B_CLINTON</td>\n",
       "      <td>[CLINTON: I was going to applaud, too. Well, t...</td>\n",
       "      <td>0</td>\n",
       "      <td>clinton: i was going to applaud, too. well, th...</td>\n",
       "    </tr>\n",
       "    <tr>\n",
       "      <th>4</th>\n",
       "      <td>1996</td>\n",
       "      <td>B_CLINTON</td>\n",
       "      <td>[CLINTON: Thank you, Jim. And thank you to the...</td>\n",
       "      <td>0</td>\n",
       "      <td>clinton: thank you, jim. and thank you to the ...</td>\n",
       "    </tr>\n",
       "    <tr>\n",
       "      <th>...</th>\n",
       "      <td>...</td>\n",
       "      <td>...</td>\n",
       "      <td>...</td>\n",
       "      <td>...</td>\n",
       "      <td>...</td>\n",
       "    </tr>\n",
       "    <tr>\n",
       "      <th>158</th>\n",
       "      <td>1960</td>\n",
       "      <td>KENNEDY</td>\n",
       "      <td>[KENNEDY: Good evening, Mr. Howe. MR., KENNEDY...</td>\n",
       "      <td>0</td>\n",
       "      <td>kennedy: good evening, mr. howe. mr.kennedy: m...</td>\n",
       "    </tr>\n",
       "    <tr>\n",
       "      <th>159</th>\n",
       "      <td>1960</td>\n",
       "      <td>KENNEDY</td>\n",
       "      <td>[KENNEDY: Good evening, Mr. Shadel. MR., KENNE...</td>\n",
       "      <td>0</td>\n",
       "      <td>kennedy: good evening, mr. shadel. mr.kennedy:...</td>\n",
       "    </tr>\n",
       "    <tr>\n",
       "      <th>160</th>\n",
       "      <td>1960</td>\n",
       "      <td>KENNEDY</td>\n",
       "      <td>[KENNEDY: In the first place I’ve never sugges...</td>\n",
       "      <td>0</td>\n",
       "      <td>kennedy: in the first place i’ve never suggest...</td>\n",
       "    </tr>\n",
       "    <tr>\n",
       "      <th>161</th>\n",
       "      <td>1960</td>\n",
       "      <td>KENNEDY</td>\n",
       "      <td>[KENNEDY: Mr. Smith, Mr. Nixon. In the electio...</td>\n",
       "      <td>0</td>\n",
       "      <td>kennedy: mr. smith, mr. nixon. in the election...</td>\n",
       "    </tr>\n",
       "    <tr>\n",
       "      <th>166</th>\n",
       "      <td>1980</td>\n",
       "      <td>ANDERSON</td>\n",
       "      <td>[ANDERSON: Miss Loomis, I think it’s very appr...</td>\n",
       "      <td>1</td>\n",
       "      <td>anderson: miss loomis, i think it’s very appro...</td>\n",
       "    </tr>\n",
       "  </tbody>\n",
       "</table>\n",
       "<p>73 rows × 5 columns</p>\n",
       "</div>"
      ],
      "text/plain": [
       "     Year       Name                                               Text  \\\n",
       "0    2016  H_CLINTON  [CLINTON: Thank you very much, Chris. And than...   \n",
       "1    2016  H_CLINTON  [CLINTON: Well, thank you. Are you a teacher? ...   \n",
       "2    2016  H_CLINTON  [CLINTON: How are you, Donald? [applause], CLI...   \n",
       "3    1996  B_CLINTON  [CLINTON: I was going to applaud, too. Well, t...   \n",
       "4    1996  B_CLINTON  [CLINTON: Thank you, Jim. And thank you to the...   \n",
       "..    ...        ...                                                ...   \n",
       "158  1960    KENNEDY  [KENNEDY: Good evening, Mr. Howe. MR., KENNEDY...   \n",
       "159  1960    KENNEDY  [KENNEDY: Good evening, Mr. Shadel. MR., KENNE...   \n",
       "160  1960    KENNEDY  [KENNEDY: In the first place I’ve never sugges...   \n",
       "161  1960    KENNEDY  [KENNEDY: Mr. Smith, Mr. Nixon. In the electio...   \n",
       "166  1980   ANDERSON  [ANDERSON: Miss Loomis, I think it’s very appr...   \n",
       "\n",
       "     Target                                         text_lower  \n",
       "0         0  clinton: thank you very much, chris. and thank...  \n",
       "1         0  clinton: well, thank you. are you a teacher? y...  \n",
       "2         0  clinton: how are you, donald? [applause]clinto...  \n",
       "3         0  clinton: i was going to applaud, too. well, th...  \n",
       "4         0  clinton: thank you, jim. and thank you to the ...  \n",
       "..      ...                                                ...  \n",
       "158       0  kennedy: good evening, mr. howe. mr.kennedy: m...  \n",
       "159       0  kennedy: good evening, mr. shadel. mr.kennedy:...  \n",
       "160       0  kennedy: in the first place i’ve never suggest...  \n",
       "161       0  kennedy: mr. smith, mr. nixon. in the election...  \n",
       "166       1  anderson: miss loomis, i think it’s very appro...  \n",
       "\n",
       "[73 rows x 5 columns]"
      ]
     },
     "execution_count": 339,
     "metadata": {},
     "output_type": "execute_result"
    }
   ],
   "source": [
    "result_df['text_lower'] = [\"\".join(item for item in lst).lower() for lst in result_df['Text']]\n",
    "\n",
    "result_df"
   ]
  },
  {
   "cell_type": "code",
   "execution_count": 355,
   "metadata": {},
   "outputs": [
    {
     "data": {
      "text/plain": [
       "0"
      ]
     },
     "execution_count": 355,
     "metadata": {},
     "output_type": "execute_result"
    }
   ],
   "source": [
    "result_df['text_lower'].isna().sum()"
   ]
  },
  {
   "cell_type": "code",
   "execution_count": 378,
   "metadata": {},
   "outputs": [],
   "source": [
    "from nltk.corpus import stopwords\n",
    "tokenizer = RegexpTokenizer(r\"(?u)\\w{3,}\")\n",
    "stopwords = stopwords.words(\"english\")\n",
    "lemmatizer = WordNetLemmatizer()\n",
    "\n",
    "def preprocessing(text, tokenizer, stopwords, lemmatizer):\n",
    "    # Make everything in the df[\"Text\"] column into a lower-case string\n",
    "    #text = [\"\".join(item for item in lst).lower() for lst in text]\n",
    "\n",
    "    # Tokenize\n",
    "    tokens = tokenizer.tokenize(text)\n",
    "    \n",
    "    # Remove stopwords\n",
    "    tokens = [token for token in tokens if token not in stopwords]\n",
    "    \n",
    "    # Lemmatize\n",
    "    tokens = [lemmatizer.lemmatize(token) for token in tokens]\n",
    "    \n",
    "    \n",
    "    return tokens"
   ]
  },
  {
   "cell_type": "code",
   "execution_count": 380,
   "metadata": {},
   "outputs": [
    {
     "name": "stderr",
     "output_type": "stream",
     "text": [
      "/var/folders/gf/gqtw2hsd3xx5_9tt2z47xflr0000gn/T/ipykernel_35357/1465720170.py:2: SettingWithCopyWarning: \n",
      "A value is trying to be set on a copy of a slice from a DataFrame.\n",
      "Try using .loc[row_indexer,col_indexer] = value instead\n",
      "\n",
      "See the caveats in the documentation: https://pandas.pydata.org/pandas-docs/stable/user_guide/indexing.html#returning-a-view-versus-a-copy\n",
      "  result_df['tokens'] = result_df['text_lower'].apply(lambda x: preprocessing(x, tokenizer, stopwords, lemmatizer))\n"
     ]
    },
    {
     "data": {
      "text/html": [
       "<div>\n",
       "<style scoped>\n",
       "    .dataframe tbody tr th:only-of-type {\n",
       "        vertical-align: middle;\n",
       "    }\n",
       "\n",
       "    .dataframe tbody tr th {\n",
       "        vertical-align: top;\n",
       "    }\n",
       "\n",
       "    .dataframe thead th {\n",
       "        text-align: right;\n",
       "    }\n",
       "</style>\n",
       "<table border=\"1\" class=\"dataframe\">\n",
       "  <thead>\n",
       "    <tr style=\"text-align: right;\">\n",
       "      <th></th>\n",
       "      <th>Year</th>\n",
       "      <th>Name</th>\n",
       "      <th>Text</th>\n",
       "      <th>Target</th>\n",
       "      <th>text_lower</th>\n",
       "      <th>tokens</th>\n",
       "    </tr>\n",
       "  </thead>\n",
       "  <tbody>\n",
       "    <tr>\n",
       "      <th>0</th>\n",
       "      <td>2016</td>\n",
       "      <td>H_CLINTON</td>\n",
       "      <td>[CLINTON: Thank you very much, Chris. And than...</td>\n",
       "      <td>0</td>\n",
       "      <td>clinton: thank you very much, chris. and thank...</td>\n",
       "      <td>[clinton, thank, much, chris, thanks, unlv, ho...</td>\n",
       "    </tr>\n",
       "    <tr>\n",
       "      <th>1</th>\n",
       "      <td>2016</td>\n",
       "      <td>H_CLINTON</td>\n",
       "      <td>[CLINTON: Well, thank you. Are you a teacher? ...</td>\n",
       "      <td>0</td>\n",
       "      <td>clinton: well, thank you. are you a teacher? y...</td>\n",
       "      <td>[clinton, well, thank, teacher, yes, think, go...</td>\n",
       "    </tr>\n",
       "    <tr>\n",
       "      <th>2</th>\n",
       "      <td>2016</td>\n",
       "      <td>H_CLINTON</td>\n",
       "      <td>[CLINTON: How are you, Donald? [applause], CLI...</td>\n",
       "      <td>0</td>\n",
       "      <td>clinton: how are you, donald? [applause]clinto...</td>\n",
       "      <td>[clinton, donald, applause, clinton, well, tha...</td>\n",
       "    </tr>\n",
       "    <tr>\n",
       "      <th>3</th>\n",
       "      <td>1996</td>\n",
       "      <td>B_CLINTON</td>\n",
       "      <td>[CLINTON: I was going to applaud, too. Well, t...</td>\n",
       "      <td>0</td>\n",
       "      <td>clinton: i was going to applaud, too. well, th...</td>\n",
       "      <td>[clinton, going, applaud, well, thank, jim, th...</td>\n",
       "    </tr>\n",
       "    <tr>\n",
       "      <th>4</th>\n",
       "      <td>1996</td>\n",
       "      <td>B_CLINTON</td>\n",
       "      <td>[CLINTON: Thank you, Jim. And thank you to the...</td>\n",
       "      <td>0</td>\n",
       "      <td>clinton: thank you, jim. and thank you to the ...</td>\n",
       "      <td>[clinton, thank, jim, thank, people, hartford,...</td>\n",
       "    </tr>\n",
       "    <tr>\n",
       "      <th>...</th>\n",
       "      <td>...</td>\n",
       "      <td>...</td>\n",
       "      <td>...</td>\n",
       "      <td>...</td>\n",
       "      <td>...</td>\n",
       "      <td>...</td>\n",
       "    </tr>\n",
       "    <tr>\n",
       "      <th>158</th>\n",
       "      <td>1960</td>\n",
       "      <td>KENNEDY</td>\n",
       "      <td>[KENNEDY: Good evening, Mr. Howe. MR., KENNEDY...</td>\n",
       "      <td>0</td>\n",
       "      <td>kennedy: good evening, mr. howe. mr.kennedy: m...</td>\n",
       "      <td>[kennedy, good, evening, howe, kennedy, howe, ...</td>\n",
       "    </tr>\n",
       "    <tr>\n",
       "      <th>159</th>\n",
       "      <td>1960</td>\n",
       "      <td>KENNEDY</td>\n",
       "      <td>[KENNEDY: Good evening, Mr. Shadel. MR., KENNE...</td>\n",
       "      <td>0</td>\n",
       "      <td>kennedy: good evening, mr. shadel. mr.kennedy:...</td>\n",
       "      <td>[kennedy, good, evening, shadel, kennedy, mcge...</td>\n",
       "    </tr>\n",
       "    <tr>\n",
       "      <th>160</th>\n",
       "      <td>1960</td>\n",
       "      <td>KENNEDY</td>\n",
       "      <td>[KENNEDY: In the first place I’ve never sugges...</td>\n",
       "      <td>0</td>\n",
       "      <td>kennedy: in the first place i’ve never suggest...</td>\n",
       "      <td>[kennedy, first, place, never, suggested, cuba...</td>\n",
       "    </tr>\n",
       "    <tr>\n",
       "      <th>161</th>\n",
       "      <td>1960</td>\n",
       "      <td>KENNEDY</td>\n",
       "      <td>[KENNEDY: Mr. Smith, Mr. Nixon. In the electio...</td>\n",
       "      <td>0</td>\n",
       "      <td>kennedy: mr. smith, mr. nixon. in the election...</td>\n",
       "      <td>[kennedy, smith, nixon, election, 1860, abraha...</td>\n",
       "    </tr>\n",
       "    <tr>\n",
       "      <th>166</th>\n",
       "      <td>1980</td>\n",
       "      <td>ANDERSON</td>\n",
       "      <td>[ANDERSON: Miss Loomis, I think it’s very appr...</td>\n",
       "      <td>1</td>\n",
       "      <td>anderson: miss loomis, i think it’s very appro...</td>\n",
       "      <td>[anderson, miss, loomis, think, appropriate, f...</td>\n",
       "    </tr>\n",
       "  </tbody>\n",
       "</table>\n",
       "<p>73 rows × 6 columns</p>\n",
       "</div>"
      ],
      "text/plain": [
       "     Year       Name                                               Text  \\\n",
       "0    2016  H_CLINTON  [CLINTON: Thank you very much, Chris. And than...   \n",
       "1    2016  H_CLINTON  [CLINTON: Well, thank you. Are you a teacher? ...   \n",
       "2    2016  H_CLINTON  [CLINTON: How are you, Donald? [applause], CLI...   \n",
       "3    1996  B_CLINTON  [CLINTON: I was going to applaud, too. Well, t...   \n",
       "4    1996  B_CLINTON  [CLINTON: Thank you, Jim. And thank you to the...   \n",
       "..    ...        ...                                                ...   \n",
       "158  1960    KENNEDY  [KENNEDY: Good evening, Mr. Howe. MR., KENNEDY...   \n",
       "159  1960    KENNEDY  [KENNEDY: Good evening, Mr. Shadel. MR., KENNE...   \n",
       "160  1960    KENNEDY  [KENNEDY: In the first place I’ve never sugges...   \n",
       "161  1960    KENNEDY  [KENNEDY: Mr. Smith, Mr. Nixon. In the electio...   \n",
       "166  1980   ANDERSON  [ANDERSON: Miss Loomis, I think it’s very appr...   \n",
       "\n",
       "     Target                                         text_lower  \\\n",
       "0         0  clinton: thank you very much, chris. and thank...   \n",
       "1         0  clinton: well, thank you. are you a teacher? y...   \n",
       "2         0  clinton: how are you, donald? [applause]clinto...   \n",
       "3         0  clinton: i was going to applaud, too. well, th...   \n",
       "4         0  clinton: thank you, jim. and thank you to the ...   \n",
       "..      ...                                                ...   \n",
       "158       0  kennedy: good evening, mr. howe. mr.kennedy: m...   \n",
       "159       0  kennedy: good evening, mr. shadel. mr.kennedy:...   \n",
       "160       0  kennedy: in the first place i’ve never suggest...   \n",
       "161       0  kennedy: mr. smith, mr. nixon. in the election...   \n",
       "166       1  anderson: miss loomis, i think it’s very appro...   \n",
       "\n",
       "                                                tokens  \n",
       "0    [clinton, thank, much, chris, thanks, unlv, ho...  \n",
       "1    [clinton, well, thank, teacher, yes, think, go...  \n",
       "2    [clinton, donald, applause, clinton, well, tha...  \n",
       "3    [clinton, going, applaud, well, thank, jim, th...  \n",
       "4    [clinton, thank, jim, thank, people, hartford,...  \n",
       "..                                                 ...  \n",
       "158  [kennedy, good, evening, howe, kennedy, howe, ...  \n",
       "159  [kennedy, good, evening, shadel, kennedy, mcge...  \n",
       "160  [kennedy, first, place, never, suggested, cuba...  \n",
       "161  [kennedy, smith, nixon, election, 1860, abraha...  \n",
       "166  [anderson, miss, loomis, think, appropriate, f...  \n",
       "\n",
       "[73 rows x 6 columns]"
      ]
     },
     "execution_count": 380,
     "metadata": {},
     "output_type": "execute_result"
    }
   ],
   "source": [
    "\n",
    "# Apply the preprocessing function to the 'Text' column\n",
    "result_df['tokens'] = result_df['text_lower'].apply(lambda x: preprocessing(x, tokenizer, stopwords, lemmatizer))\n",
    "result_df\n"
   ]
  },
  {
   "cell_type": "code",
   "execution_count": 383,
   "metadata": {},
   "outputs": [
    {
     "data": {
      "text/plain": [
       "0"
      ]
     },
     "execution_count": 383,
     "metadata": {},
     "output_type": "execute_result"
    }
   ],
   "source": [
    "result_df['tokens'].isna().sum()"
   ]
  },
  {
   "cell_type": "markdown",
   "metadata": {},
   "source": [
    "## NLP Modelling"
   ]
  },
  {
   "cell_type": "code",
   "execution_count": null,
   "metadata": {},
   "outputs": [
    {
     "ename": "KeyError",
     "evalue": "'target'",
     "output_type": "error",
     "traceback": [
      "\u001b[0;31m---------------------------------------------------------------------------\u001b[0m",
      "\u001b[0;31mKeyError\u001b[0m                                  Traceback (most recent call last)",
      "File \u001b[0;32m~/anaconda3/envs/learn-env/lib/python3.9/site-packages/pandas/core/indexes/base.py:3790\u001b[0m, in \u001b[0;36mIndex.get_loc\u001b[0;34m(self, key)\u001b[0m\n\u001b[1;32m   3789\u001b[0m \u001b[38;5;28;01mtry\u001b[39;00m:\n\u001b[0;32m-> 3790\u001b[0m     \u001b[38;5;28;01mreturn\u001b[39;00m \u001b[38;5;28;43mself\u001b[39;49m\u001b[38;5;241;43m.\u001b[39;49m\u001b[43m_engine\u001b[49m\u001b[38;5;241;43m.\u001b[39;49m\u001b[43mget_loc\u001b[49m\u001b[43m(\u001b[49m\u001b[43mcasted_key\u001b[49m\u001b[43m)\u001b[49m\n\u001b[1;32m   3791\u001b[0m \u001b[38;5;28;01mexcept\u001b[39;00m \u001b[38;5;167;01mKeyError\u001b[39;00m \u001b[38;5;28;01mas\u001b[39;00m err:\n",
      "File \u001b[0;32mindex.pyx:152\u001b[0m, in \u001b[0;36mpandas._libs.index.IndexEngine.get_loc\u001b[0;34m()\u001b[0m\n",
      "File \u001b[0;32mindex.pyx:181\u001b[0m, in \u001b[0;36mpandas._libs.index.IndexEngine.get_loc\u001b[0;34m()\u001b[0m\n",
      "File \u001b[0;32mpandas/_libs/hashtable_class_helper.pxi:7080\u001b[0m, in \u001b[0;36mpandas._libs.hashtable.PyObjectHashTable.get_item\u001b[0;34m()\u001b[0m\n",
      "File \u001b[0;32mpandas/_libs/hashtable_class_helper.pxi:7088\u001b[0m, in \u001b[0;36mpandas._libs.hashtable.PyObjectHashTable.get_item\u001b[0;34m()\u001b[0m\n",
      "\u001b[0;31mKeyError\u001b[0m: 'target'",
      "\nThe above exception was the direct cause of the following exception:\n",
      "\u001b[0;31mKeyError\u001b[0m                                  Traceback (most recent call last)",
      "Cell \u001b[0;32mIn[43], line 1\u001b[0m\n\u001b[0;32m----> 1\u001b[0m X_train, X_test, y_train, y_test \u001b[38;5;241m=\u001b[39m train_test_split(df[\u001b[38;5;124m\"\u001b[39m\u001b[38;5;124mstring_tokens\u001b[39m\u001b[38;5;124m\"\u001b[39m], \u001b[43mdf\u001b[49m\u001b[43m[\u001b[49m\u001b[38;5;124;43m'\u001b[39;49m\u001b[38;5;124;43mtarget\u001b[39;49m\u001b[38;5;124;43m'\u001b[39;49m\u001b[43m]\u001b[49m, random_state\u001b[38;5;241m=\u001b[39m\u001b[38;5;241m42\u001b[39m)\n",
      "File \u001b[0;32m~/anaconda3/envs/learn-env/lib/python3.9/site-packages/pandas/core/frame.py:3893\u001b[0m, in \u001b[0;36mDataFrame.__getitem__\u001b[0;34m(self, key)\u001b[0m\n\u001b[1;32m   3891\u001b[0m \u001b[38;5;28;01mif\u001b[39;00m \u001b[38;5;28mself\u001b[39m\u001b[38;5;241m.\u001b[39mcolumns\u001b[38;5;241m.\u001b[39mnlevels \u001b[38;5;241m>\u001b[39m \u001b[38;5;241m1\u001b[39m:\n\u001b[1;32m   3892\u001b[0m     \u001b[38;5;28;01mreturn\u001b[39;00m \u001b[38;5;28mself\u001b[39m\u001b[38;5;241m.\u001b[39m_getitem_multilevel(key)\n\u001b[0;32m-> 3893\u001b[0m indexer \u001b[38;5;241m=\u001b[39m \u001b[38;5;28;43mself\u001b[39;49m\u001b[38;5;241;43m.\u001b[39;49m\u001b[43mcolumns\u001b[49m\u001b[38;5;241;43m.\u001b[39;49m\u001b[43mget_loc\u001b[49m\u001b[43m(\u001b[49m\u001b[43mkey\u001b[49m\u001b[43m)\u001b[49m\n\u001b[1;32m   3894\u001b[0m \u001b[38;5;28;01mif\u001b[39;00m is_integer(indexer):\n\u001b[1;32m   3895\u001b[0m     indexer \u001b[38;5;241m=\u001b[39m [indexer]\n",
      "File \u001b[0;32m~/anaconda3/envs/learn-env/lib/python3.9/site-packages/pandas/core/indexes/base.py:3797\u001b[0m, in \u001b[0;36mIndex.get_loc\u001b[0;34m(self, key)\u001b[0m\n\u001b[1;32m   3792\u001b[0m     \u001b[38;5;28;01mif\u001b[39;00m \u001b[38;5;28misinstance\u001b[39m(casted_key, \u001b[38;5;28mslice\u001b[39m) \u001b[38;5;129;01mor\u001b[39;00m (\n\u001b[1;32m   3793\u001b[0m         \u001b[38;5;28misinstance\u001b[39m(casted_key, abc\u001b[38;5;241m.\u001b[39mIterable)\n\u001b[1;32m   3794\u001b[0m         \u001b[38;5;129;01mand\u001b[39;00m \u001b[38;5;28many\u001b[39m(\u001b[38;5;28misinstance\u001b[39m(x, \u001b[38;5;28mslice\u001b[39m) \u001b[38;5;28;01mfor\u001b[39;00m x \u001b[38;5;129;01min\u001b[39;00m casted_key)\n\u001b[1;32m   3795\u001b[0m     ):\n\u001b[1;32m   3796\u001b[0m         \u001b[38;5;28;01mraise\u001b[39;00m InvalidIndexError(key)\n\u001b[0;32m-> 3797\u001b[0m     \u001b[38;5;28;01mraise\u001b[39;00m \u001b[38;5;167;01mKeyError\u001b[39;00m(key) \u001b[38;5;28;01mfrom\u001b[39;00m \u001b[38;5;21;01merr\u001b[39;00m\n\u001b[1;32m   3798\u001b[0m \u001b[38;5;28;01mexcept\u001b[39;00m \u001b[38;5;167;01mTypeError\u001b[39;00m:\n\u001b[1;32m   3799\u001b[0m     \u001b[38;5;66;03m# If we have a listlike key, _check_indexing_error will raise\u001b[39;00m\n\u001b[1;32m   3800\u001b[0m     \u001b[38;5;66;03m#  InvalidIndexError. Otherwise we fall through and re-raise\u001b[39;00m\n\u001b[1;32m   3801\u001b[0m     \u001b[38;5;66;03m#  the TypeError.\u001b[39;00m\n\u001b[1;32m   3802\u001b[0m     \u001b[38;5;28mself\u001b[39m\u001b[38;5;241m.\u001b[39m_check_indexing_error(key)\n",
      "\u001b[0;31mKeyError\u001b[0m: 'target'"
     ]
    }
   ],
   "source": [
    "X_train, X_test, y_train, y_test = train_test_split(df[\"string_tokens\"], df['target'], random_state=42)"
   ]
  },
  {
   "cell_type": "code",
   "execution_count": null,
   "metadata": {},
   "outputs": [],
   "source": [
    "vectorizer = TfidfVectorizer()\n",
    "vectorizr.fit(X_train\n",
    "X_train_vectorized = vectorizer.transform(X_train)\n",
    "X_test_vectorized = vectorizer.transform(X_test)"
   ]
  },
  {
   "cell_type": "code",
   "execution_count": null,
   "metadata": {},
   "outputs": [],
   "source": [
    "mnb = MultinomialNB()\n",
    "mnb = mnb.fit(X_train_vectorized, y_train)\n"
   ]
  },
  {
   "cell_type": "code",
   "execution_count": null,
   "metadata": {},
   "outputs": [],
   "source": [
    "import matplotlib.pyplot as plt\n",
    "from nltk.probability import FreqDist\n",
    "\n",
    "# Create a frequency distribution for each speaker\n",
    "speaker_freq_dist = {}\n",
    "for speaker in result_df['Name'].unique():\n",
    "    tokens = [token for sublist in result_df[result_df['Name'] == speaker]['tokens'] for token in sublist]\n",
    "    freq_dist = FreqDist(tokens)\n",
    "    speaker_freq_dist[speaker] = freq_dist\n",
    "\n",
    "# Plot the frequency distribution for each speaker\n",
    "for speaker, freq_dist in speaker_freq_dist.items():\n",
    "    plt.figure(figsize=(10, 6))\n",
    "    freq_dist.plot(30, cumulative=False)\n",
    "    plt.title(f\"Word Usage Frequency Distribution for {speaker}\")\n",
    "    plt.xlabel(\"Words\")\n",
    "    plt.ylabel(\"Frequency\")\n",
    "    plt.show()\n"
   ]
  }
 ],
 "metadata": {
  "kernelspec": {
   "display_name": "Python 3",
   "language": "python",
   "name": "python3"
  },
  "language_info": {
   "codemirror_mode": {
    "name": "ipython",
    "version": 3
   },
   "file_extension": ".py",
   "mimetype": "text/x-python",
   "name": "python",
   "nbconvert_exporter": "python",
   "pygments_lexer": "ipython3",
   "version": "3.9.18"
  }
 },
 "nbformat": 4,
 "nbformat_minor": 2
}
