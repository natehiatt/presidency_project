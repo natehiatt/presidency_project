{
 "cells": [
  {
   "cell_type": "code",
   "execution_count": 3,
   "id": "686ca5f5",
   "metadata": {},
   "outputs": [],
   "source": [
    "import pandas as pd\n",
    "df = pd.read_csv('../data/final_df.csv')"
   ]
  },
  {
   "cell_type": "code",
   "execution_count": 4,
   "id": "a5ef4237",
   "metadata": {},
   "outputs": [
    {
     "name": "stdout",
     "output_type": "stream",
     "text": [
      "<class 'pandas.core.frame.DataFrame'>\n",
      "RangeIndex: 119 entries, 0 to 118\n",
      "Data columns (total 8 columns):\n",
      " #   Column         Non-Null Count  Dtype  \n",
      "---  ------         --------------  -----  \n",
      " 0   Year           119 non-null    int64  \n",
      " 1   Name           119 non-null    object \n",
      " 2   Text           118 non-null    object \n",
      " 3   Target         119 non-null    float64\n",
      " 4   text_lower     86 non-null     object \n",
      " 5   list_tokens    119 non-null    object \n",
      " 6   string_tokens  103 non-null    object \n",
      " 7   link           47 non-null     object \n",
      "dtypes: float64(1), int64(1), object(6)\n",
      "memory usage: 7.6+ KB\n"
     ]
    }
   ],
   "source": [
    "df.info()"
   ]
  },
  {
   "cell_type": "code",
   "execution_count": 7,
   "id": "6e65c1aa",
   "metadata": {},
   "outputs": [
    {
     "data": {
      "text/plain": [
       "0      [[['thank', 'much', 'chris', 'thanks', 'unlv',...\n",
       "1      [[['well', 'thank', 'teacher', 'yes', 'think',...\n",
       "2      [[['donald', 'applause', 'well', 'thank', 'les...\n",
       "3      [[['going', 'applaud', 'well', 'thank', 'jim',...\n",
       "4      [[['thank', 'jim', 'thank', 'people', 'hartfor...\n",
       "                             ...                        \n",
       "114    [[['vice', 'president', 'cheney', 'chief', 'ju...\n",
       "115    [[['fellow', 'citizen', 'stand', 'today', 'hum...\n",
       "116    [[['thank', 'thank', 'much', 'vice', 'presiden...\n",
       "117    [[['chief', 'justice', 'robert', 'president', ...\n",
       "118    [[['chief', 'justice', 'robert', 'vice', 'pres...\n",
       "Name: list_tokens, Length: 119, dtype: object"
      ]
     },
     "execution_count": 7,
     "metadata": {},
     "output_type": "execute_result"
    }
   ],
   "source": [
    "df['list_tokens'] = df['list_tokens'].apply(lambda x: [x])\n",
    "df['list_tokens'] "
   ]
  },
  {
   "cell_type": "code",
   "execution_count": 8,
   "id": "cb0bc6f7",
   "metadata": {},
   "outputs": [
    {
     "ename": "TypeError",
     "evalue": "sequence item 0: expected str instance, list found",
     "output_type": "error",
     "traceback": [
      "\u001b[0;31m---------------------------------------------------------------------------\u001b[0m",
      "\u001b[0;31mTypeError\u001b[0m                                 Traceback (most recent call last)",
      "Cell \u001b[0;32mIn[8], line 1\u001b[0m\n\u001b[0;32m----> 1\u001b[0m df[\u001b[38;5;124m\"\u001b[39m\u001b[38;5;124mstring_tokens\u001b[39m\u001b[38;5;124m\"\u001b[39m]\u001b[38;5;241m=\u001b[39m [\u001b[38;5;124m\"\u001b[39m\u001b[38;5;124m \u001b[39m\u001b[38;5;124m\"\u001b[39m\u001b[38;5;241m.\u001b[39mjoin(x) \u001b[38;5;28;01mfor\u001b[39;00m x \u001b[38;5;129;01min\u001b[39;00m df[\u001b[38;5;124m'\u001b[39m\u001b[38;5;124mlist_tokens\u001b[39m\u001b[38;5;124m'\u001b[39m]]\n",
      "Cell \u001b[0;32mIn[8], line 1\u001b[0m, in \u001b[0;36m<listcomp>\u001b[0;34m(.0)\u001b[0m\n\u001b[0;32m----> 1\u001b[0m df[\u001b[38;5;124m\"\u001b[39m\u001b[38;5;124mstring_tokens\u001b[39m\u001b[38;5;124m\"\u001b[39m]\u001b[38;5;241m=\u001b[39m [\u001b[38;5;124;43m\"\u001b[39;49m\u001b[38;5;124;43m \u001b[39;49m\u001b[38;5;124;43m\"\u001b[39;49m\u001b[38;5;241;43m.\u001b[39;49m\u001b[43mjoin\u001b[49m\u001b[43m(\u001b[49m\u001b[43mx\u001b[49m\u001b[43m)\u001b[49m \u001b[38;5;28;01mfor\u001b[39;00m x \u001b[38;5;129;01min\u001b[39;00m df[\u001b[38;5;124m'\u001b[39m\u001b[38;5;124mlist_tokens\u001b[39m\u001b[38;5;124m'\u001b[39m]]\n",
      "\u001b[0;31mTypeError\u001b[0m: sequence item 0: expected str instance, list found"
     ]
    }
   ],
   "source": [
    "df[\"string_tokens\"]= [\" \".join(x) for x in df['list_tokens']]"
   ]
  },
  {
   "cell_type": "code",
   "execution_count": null,
   "id": "89a35c2b",
   "metadata": {},
   "outputs": [],
   "source": []
  }
 ],
 "metadata": {
  "kernelspec": {
   "display_name": "Python (tensorflow_test)”\n\n",
   "language": "python",
   "name": "tensorflow_test"
  },
  "language_info": {
   "codemirror_mode": {
    "name": "ipython",
    "version": 3
   },
   "file_extension": ".py",
   "mimetype": "text/x-python",
   "name": "python",
   "nbconvert_exporter": "python",
   "pygments_lexer": "ipython3",
   "version": "3.10.10"
  }
 },
 "nbformat": 4,
 "nbformat_minor": 5
}
