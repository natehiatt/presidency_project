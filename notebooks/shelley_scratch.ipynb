{
 "cells": [
  {
   "cell_type": "markdown",
   "metadata": {},
   "source": [
    "# Webscraping"
   ]
  },
  {
   "cell_type": "code",
   "execution_count": 1,
   "metadata": {},
   "outputs": [],
   "source": [
    "from sklearn.pipeline import Pipeline\n",
    "from sklearn.feature_extraction.text import TfidfVectorizer\n",
    "from sklearn.model_selection import cross_val_score, GridSearchCV\n",
    "from sklearn.metrics import accuracy_score, precision_score, recall_score, confusion_matrix, ConfusionMatrixDisplay"
   ]
  },
  {
   "cell_type": "code",
   "execution_count": 2,
   "metadata": {},
   "outputs": [
    {
     "data": {
      "text/html": [
       "<div>\n",
       "<style scoped>\n",
       "    .dataframe tbody tr th:only-of-type {\n",
       "        vertical-align: middle;\n",
       "    }\n",
       "\n",
       "    .dataframe tbody tr th {\n",
       "        vertical-align: top;\n",
       "    }\n",
       "\n",
       "    .dataframe thead th {\n",
       "        text-align: right;\n",
       "    }\n",
       "</style>\n",
       "<table border=\"1\" class=\"dataframe\">\n",
       "  <thead>\n",
       "    <tr style=\"text-align: right;\">\n",
       "      <th></th>\n",
       "      <th>date</th>\n",
       "      <th>text</th>\n",
       "      <th>link</th>\n",
       "    </tr>\n",
       "  </thead>\n",
       "  <tbody>\n",
       "    <tr>\n",
       "      <th>0</th>\n",
       "      <td></td>\n",
       "      <td>Unofficial transcripts of most presidential an...</td>\n",
       "      <td>https://www.debates.org/voter-education/debate...</td>\n",
       "    </tr>\n",
       "    <tr>\n",
       "      <th>1</th>\n",
       "      <td>october-22-2020</td>\n",
       "      <td>Presidential Debate at Belmont University in N...</td>\n",
       "      <td>https://www.debates.org/voter-education/debate...</td>\n",
       "    </tr>\n",
       "    <tr>\n",
       "      <th>2</th>\n",
       "      <td>september-29-2020</td>\n",
       "      <td>Presidential Debate at Case Western Reserve Un...</td>\n",
       "      <td>https://www.debates.org/voter-education/debate...</td>\n",
       "    </tr>\n",
       "    <tr>\n",
       "      <th>3</th>\n",
       "      <td>october-19-2016</td>\n",
       "      <td>Presidential Debate at the University of Nevad...</td>\n",
       "      <td>https://www.debates.org/voter-education/debate...</td>\n",
       "    </tr>\n",
       "    <tr>\n",
       "      <th>4</th>\n",
       "      <td>october-9-2016</td>\n",
       "      <td>Presidential Debate at Washington University i...</td>\n",
       "      <td>https://www.debates.org/voter-education/debate...</td>\n",
       "    </tr>\n",
       "    <tr>\n",
       "      <th>...</th>\n",
       "      <td>...</td>\n",
       "      <td>...</td>\n",
       "      <td>...</td>\n",
       "    </tr>\n",
       "    <tr>\n",
       "      <th>88</th>\n",
       "      <td>october-22-1976</td>\n",
       "      <td>\\nOctober 22, 1976\\n The Third Carter-Ford Pre...</td>\n",
       "      <td>https://www.debates.org/voter-education/debate...</td>\n",
       "    </tr>\n",
       "    <tr>\n",
       "      <th>89</th>\n",
       "      <td>september-26-1960</td>\n",
       "      <td>\\nSeptember 26, 1960\\n The First Kennedy-Nixon...</td>\n",
       "      <td>https://www.debates.org/voter-education/debate...</td>\n",
       "    </tr>\n",
       "    <tr>\n",
       "      <th>90</th>\n",
       "      <td>october-7-1960</td>\n",
       "      <td>\\nOctober 7, 1960\\n The Second Kennedy-Nixon P...</td>\n",
       "      <td>https://www.debates.org/voter-education/debate...</td>\n",
       "    </tr>\n",
       "    <tr>\n",
       "      <th>91</th>\n",
       "      <td>october-13-1960</td>\n",
       "      <td>\\nOctober 13, 1960\\n The Third Kennedy-Nixon P...</td>\n",
       "      <td>https://www.debates.org/voter-education/debate...</td>\n",
       "    </tr>\n",
       "    <tr>\n",
       "      <th>92</th>\n",
       "      <td>october-21-1960</td>\n",
       "      <td>\\nOctober 21, 1960\\n The Fourth Kennedy-Nixon ...</td>\n",
       "      <td>https://www.debates.org/voter-education/debate...</td>\n",
       "    </tr>\n",
       "  </tbody>\n",
       "</table>\n",
       "<p>93 rows × 3 columns</p>\n",
       "</div>"
      ],
      "text/plain": [
       "                 date                                               text   \n",
       "0                      Unofficial transcripts of most presidential an...  \\\n",
       "1     october-22-2020  Presidential Debate at Belmont University in N...   \n",
       "2   september-29-2020  Presidential Debate at Case Western Reserve Un...   \n",
       "3     october-19-2016  Presidential Debate at the University of Nevad...   \n",
       "4      october-9-2016  Presidential Debate at Washington University i...   \n",
       "..                ...                                                ...   \n",
       "88    october-22-1976  \\nOctober 22, 1976\\n The Third Carter-Ford Pre...   \n",
       "89  september-26-1960  \\nSeptember 26, 1960\\n The First Kennedy-Nixon...   \n",
       "90     october-7-1960  \\nOctober 7, 1960\\n The Second Kennedy-Nixon P...   \n",
       "91    october-13-1960  \\nOctober 13, 1960\\n The Third Kennedy-Nixon P...   \n",
       "92    october-21-1960  \\nOctober 21, 1960\\n The Fourth Kennedy-Nixon ...   \n",
       "\n",
       "                                                 link  \n",
       "0   https://www.debates.org/voter-education/debate...  \n",
       "1   https://www.debates.org/voter-education/debate...  \n",
       "2   https://www.debates.org/voter-education/debate...  \n",
       "3   https://www.debates.org/voter-education/debate...  \n",
       "4   https://www.debates.org/voter-education/debate...  \n",
       "..                                                ...  \n",
       "88  https://www.debates.org/voter-education/debate...  \n",
       "89  https://www.debates.org/voter-education/debate...  \n",
       "90  https://www.debates.org/voter-education/debate...  \n",
       "91  https://www.debates.org/voter-education/debate...  \n",
       "92  https://www.debates.org/voter-education/debate...  \n",
       "\n",
       "[93 rows x 3 columns]"
      ]
     },
     "execution_count": 2,
     "metadata": {},
     "output_type": "execute_result"
    }
   ],
   "source": [
    "import pandas as pd\n",
    "import requests\n",
    "from bs4 import BeautifulSoup\n",
    "from urllib.parse import urljoin\n",
    "\n",
    "df = pd.DataFrame(columns=[\"date\", \"text\", \"link\"])\n",
    "debatelink = []\n",
    "\n",
    "base_url = \"https://www.debates.org\"\n",
    "page = requests.get(urljoin(base_url, \"/voter-education/debate-transcripts/\"))\n",
    "soup = BeautifulSoup(page.content, 'html.parser')\n",
    "\n",
    "links = soup.find_all(\"a\")\n",
    "for link in links:\n",
    "    if \"debate-transcript\" in link.get(\"href\") and \"Media\" not in link.get(\"href\") and \"vice\" not in link.get(\"href\"):\n",
    "        debatelink.append(urljoin(base_url, link.get(\"href\")))\n",
    "        df.loc[len(df)] = [None, None, urljoin(base_url, link.get(\"href\"))]\n",
    "\n",
    "for link in df[\"link\"]:\n",
    "    try:\n",
    "        page = requests.get(link)\n",
    "        soup = BeautifulSoup(page.content, 'html.parser')\n",
    "        text = soup.find_all(\"p\")\n",
    "        text = [t.get_text() for t in text]\n",
    "        text = \" \".join(text)\n",
    "        df.loc[df[\"link\"] == link, \"text\"] = text\n",
    "\n",
    "        date_link = link.split(\"/\")[5:6] \n",
    "        date_link = \"-\".join(date_link[0].split(\"-\")[:3])\n",
    "        df.loc[df[\"link\"] == link, \"date\"] = date_link\n",
    "    except requests.exceptions.RequestException as e:\n",
    "        print(f\"Error accessing {link}: {e}\")\n",
    "\n",
    "df\n"
   ]
  },
  {
   "cell_type": "code",
   "execution_count": 3,
   "metadata": {},
   "outputs": [
    {
     "data": {
      "text/plain": [
       "0                            \n",
       "1             october-22-2020\n",
       "2           september-29-2020\n",
       "3             october-19-2016\n",
       "4              october-9-2016\n",
       "5              october-4-2016\n",
       "6           september-26-2016\n",
       "7             october-22-2012\n",
       "8             october-16-2012\n",
       "9              october-3-2012\n",
       "10     2008-debate-transcript\n",
       "11     2008-debate-transcript\n",
       "12             october-7-2008\n",
       "13            october-15-2008\n",
       "14            october-13-2004\n",
       "15             october-8-2004\n",
       "16             october-5-2004\n",
       "17          september-30-2004\n",
       "18            october-17-2000\n",
       "19            october-11-2000\n",
       "20             october-5-2000\n",
       "21             october-3-2000\n",
       "22            october-16-1996\n",
       "23             october-9-1996\n",
       "24             october-6-1996\n",
       "25            october-19-1992\n",
       "26            october-15-1992\n",
       "27            october-15-1992\n",
       "28            october-13-1992\n",
       "29            october-11-1992\n",
       "30            october-11-1992\n",
       "31            october-13-1988\n",
       "32             october-5-1988\n",
       "33          september-25-1988\n",
       "34            october-21-1984\n",
       "35            october-11-1984\n",
       "36             october-7-1984\n",
       "37            october-28-1980\n",
       "38          september-21-1980\n",
       "39            october-22-1976\n",
       "40             october-6-1976\n",
       "41          september-23-1976\n",
       "42            october-21-1960\n",
       "43            october-13-1960\n",
       "44             october-7-1960\n",
       "45          september-26-1960\n",
       "46    2000-debate-transcripts\n",
       "47          september-29-2020\n",
       "48            october-22-2020\n",
       "49          september-26-2016\n",
       "Name: date, dtype: object"
      ]
     },
     "execution_count": 3,
     "metadata": {},
     "output_type": "execute_result"
    }
   ],
   "source": [
    "df['date'][:50]"
   ]
  },
  {
   "cell_type": "code",
   "execution_count": 4,
   "metadata": {},
   "outputs": [
    {
     "data": {
      "text/plain": [
       "50             october-4-2016\n",
       "51             october-9-2016\n",
       "52            october-19-2016\n",
       "53             october-3-2012\n",
       "54            october-16-2012\n",
       "55            october-22-2012\n",
       "56     2008-debate-transcript\n",
       "57     2008-debate-transcript\n",
       "58             october-7-2008\n",
       "59            october-15-2008\n",
       "60            october-13-2004\n",
       "61             october-8-2004\n",
       "62             october-5-2004\n",
       "63          september-30-2004\n",
       "64             october-3-2000\n",
       "65             october-5-2000\n",
       "66            october-11-2000\n",
       "67            october-17-2000\n",
       "68    2000-debate-transcripts\n",
       "69             october-6-1996\n",
       "70             october-9-1996\n",
       "71            october-16-1996\n",
       "72            october-11-1992\n",
       "73            october-11-1992\n",
       "74            october-13-1992\n",
       "75            october-15-1992\n",
       "76            october-15-1992\n",
       "77            october-19-1992\n",
       "78          september-25-1988\n",
       "79             october-5-1988\n",
       "80            october-13-1988\n",
       "81             october-7-1984\n",
       "82            october-11-1984\n",
       "83            october-21-1984\n",
       "84          september-21-1980\n",
       "85            october-28-1980\n",
       "86          september-23-1976\n",
       "87             october-6-1976\n",
       "88            october-22-1976\n",
       "89          september-26-1960\n",
       "90             october-7-1960\n",
       "91            october-13-1960\n",
       "92            october-21-1960\n",
       "Name: date, dtype: object"
      ]
     },
     "execution_count": 4,
     "metadata": {},
     "output_type": "execute_result"
    }
   ],
   "source": [
    "df['date'][50:100]\n",
    "#10 (2008), 11(2008), 46(2000), 56(2008), 57(2008), 68(2000)"
   ]
  },
  {
   "cell_type": "code",
   "execution_count": null,
   "metadata": {},
   "outputs": [],
   "source": []
  },
  {
   "cell_type": "code",
   "execution_count": 5,
   "metadata": {},
   "outputs": [],
   "source": [
    "df['date'][10] = '2008'\n",
    "df['date'][11] = '2008'\n",
    "df['date'][46] = '2000'\n",
    "df['date'][56] = '2008'\n",
    "df['date'][57] = '2008'\n",
    "df['date'][68] = '2000'"
   ]
  },
  {
   "cell_type": "code",
   "execution_count": 6,
   "metadata": {},
   "outputs": [
    {
     "data": {
      "text/plain": [
       "0                      \n",
       "1       october-22-2020\n",
       "2     september-29-2020\n",
       "3       october-19-2016\n",
       "4        october-9-2016\n",
       "5        october-4-2016\n",
       "6     september-26-2016\n",
       "7       october-22-2012\n",
       "8       october-16-2012\n",
       "9        october-3-2012\n",
       "10                 2008\n",
       "11                 2008\n",
       "12       october-7-2008\n",
       "13      october-15-2008\n",
       "14      october-13-2004\n",
       "15       october-8-2004\n",
       "16       october-5-2004\n",
       "17    september-30-2004\n",
       "18      october-17-2000\n",
       "19      october-11-2000\n",
       "20       october-5-2000\n",
       "21       october-3-2000\n",
       "22      october-16-1996\n",
       "23       october-9-1996\n",
       "24       october-6-1996\n",
       "25      october-19-1992\n",
       "26      october-15-1992\n",
       "27      october-15-1992\n",
       "28      october-13-1992\n",
       "29      october-11-1992\n",
       "30      october-11-1992\n",
       "31      october-13-1988\n",
       "32       october-5-1988\n",
       "33    september-25-1988\n",
       "34      october-21-1984\n",
       "35      october-11-1984\n",
       "36       october-7-1984\n",
       "37      october-28-1980\n",
       "38    september-21-1980\n",
       "39      october-22-1976\n",
       "40       october-6-1976\n",
       "41    september-23-1976\n",
       "42      october-21-1960\n",
       "43      october-13-1960\n",
       "44       october-7-1960\n",
       "45    september-26-1960\n",
       "46                 2000\n",
       "47    september-29-2020\n",
       "48      october-22-2020\n",
       "49    september-26-2016\n",
       "Name: date, dtype: object"
      ]
     },
     "execution_count": 6,
     "metadata": {},
     "output_type": "execute_result"
    }
   ],
   "source": [
    "df['date'][:50]"
   ]
  },
  {
   "cell_type": "code",
   "execution_count": 7,
   "metadata": {},
   "outputs": [
    {
     "data": {
      "text/plain": [
       "50       october-4-2016\n",
       "51       october-9-2016\n",
       "52      october-19-2016\n",
       "53       october-3-2012\n",
       "54      october-16-2012\n",
       "55      october-22-2012\n",
       "56                 2008\n",
       "57                 2008\n",
       "58       october-7-2008\n",
       "59      october-15-2008\n",
       "60      october-13-2004\n",
       "61       october-8-2004\n",
       "62       october-5-2004\n",
       "63    september-30-2004\n",
       "64       october-3-2000\n",
       "65       october-5-2000\n",
       "66      october-11-2000\n",
       "67      october-17-2000\n",
       "68                 2000\n",
       "69       october-6-1996\n",
       "70       october-9-1996\n",
       "71      october-16-1996\n",
       "72      october-11-1992\n",
       "73      october-11-1992\n",
       "74      october-13-1992\n",
       "75      october-15-1992\n",
       "76      october-15-1992\n",
       "77      october-19-1992\n",
       "78    september-25-1988\n",
       "79       october-5-1988\n",
       "80      october-13-1988\n",
       "81       october-7-1984\n",
       "82      october-11-1984\n",
       "83      october-21-1984\n",
       "84    september-21-1980\n",
       "85      october-28-1980\n",
       "86    september-23-1976\n",
       "87       october-6-1976\n",
       "88      october-22-1976\n",
       "89    september-26-1960\n",
       "90       october-7-1960\n",
       "91      october-13-1960\n",
       "92      october-21-1960\n",
       "Name: date, dtype: object"
      ]
     },
     "execution_count": 7,
     "metadata": {},
     "output_type": "execute_result"
    }
   ],
   "source": [
    "df['date'][50:100]"
   ]
  },
  {
   "cell_type": "code",
   "execution_count": null,
   "metadata": {},
   "outputs": [],
   "source": []
  },
  {
   "cell_type": "code",
   "execution_count": 8,
   "metadata": {},
   "outputs": [
    {
     "data": {
      "text/plain": [
       "'Vice Presidential Debate at Longwood University in Farmville, Virginia October 4, 2016 PARTICIPANTS: Senator Tim Kaine (D-VA) and Governor Mike Pence (R-IN) MODERATOR: Elaine Quijano (CBS News) QUIJANO: Good evening. From Longwood University in Farmville, Virginia, and welcome to the first, and only, vice presidential debate of 2016, sponsored by the Commission on Presidential Debates. I’m Elaine Quijano, anchor at CBSN, and correspondent for CBS News. It’s an honor to moderate this debate between Senator Tim Kaine and Governor Mike Pence. Both are longtime public servants who are also proud fathers of sons serving in the U.S. Marines. The campaigns have agreed to the rules of this 90-minute debate. There will be nine different segments covering domestic and foreign policy issues. Each segment will begin with a question to both candidates who will each have two minutes to answer. Then I’ll ask follow-up questions to facilitate a discussion between the candidates. By coin toss, it’s been determined that Senator Kaine will be first to answer the opening question. We have an enthusiastic audience tonight. They’ve agreed to only express that enthusiasm once at the end of the debate and right now as we welcome Governor Mike Pence and Senator Tim Kaine. [applause] Gentlemen, welcome. It truly is a privilege to be with both of you tonight. I’d like to start with the topic of presidential leadership. Twenty-eight years ago tomorrow night, Lloyd Bentsen said the vice presidential debate was not about the qualifications for the vice presidency, but about how if tragedy should occur, the vice president has to step in without any margin for error, without time for preparation, to take over the responsibility for the biggest job in the world. What about your qualities, your skills, and your temperament equip you to step into that role at a moment’s notice? Senator Kaine? KAINE: Elaine, thank you for being here tonight, and, Governor Pence, welcome. It is so great to be back at Longwood University in Farmville, Virginia. This is a very special place. Sixty-five years ago, a young, courageous woman, Barbara Johns, led a walkout of her high school, Moton High School. She made history by protesting school segregation. She believed our nation was stronger together. And that walkout led to the Brown v. Board of Education decision that moved us down the path toward equality. I am so proud to be running with another strong, history-making woman, Hillary Clinton, to be president of the United States. I’m proud because her vision of stronger together, building an economy that works for all, not just those at the top, being safe in the world not only with a strong military, but also strong alliances to battle terrorism and climate change, and also to build a community of respect, just like Barbara Johns tried to do 65 years ago. That’s why I’m so proud to be her running mate. Hillary told me why she asked me to be her running mate. She said the test of a Clinton administration will not be the signing of a bill or the passage of a bill. It’ll be whether we can make somebody’s life better, whether we can make a classroom better learning environment for schoolkids or teachers, whether we can make a safer — it’s going to be about results. And she said to me, you’ve been a missionary and a civil rights lawyer. You’ve been a city councilman and mayor. You’ve been a lieutenant governor and governor and now a U.S. senator. I think you will help me figure out how to govern this nation so that we always keep in mind that the success of the administration is the difference we make in people’s lives. And that’s what I bring to the ticket, that experience having served at all levels of government. But my primary role is to be Hillary Clinton’s right-hand person and strong supporter as she puts together the most historic administration possible. And I relish that role. I’m so proud of her. I’ll just say this: We trust Hillary Clinton, my wife and I, and we trust her with the most important thing in our life. We have a son deployed overseas in the Marine Corps right now. We trust Hillary Clinton as president and commander-in-chief, but the thought of Donald Trump as commander-in-chief scares us to death. QUIJANO: Governor Pence? PENCE: Well, first off, thank you, Elaine, and thank you to — thank you to Norwood University for their wonderful hospitality and the Commission on Presidential Debates. It’s deeply humbling for me to be here, to be surrounded by my — my wonderful family. And, Senator Kaine, it’s an honor to be here with you, as well. And I just — I also want to say — I want to say thanks to everyone that’s looking in tonight, who understands what an enormously important time this is in the life of our nation. For the last seven-and-a-half years, we’ve seen America’s place in the world weakened. We’ve seen an economy stifled by more taxes, more regulation, a war on coal, and a failing health care reform come to be known as Obamacare, and the American people know that we need to make a change. And so I want to thank all of you for being — being with us tonight. I also want to thank Donald Trump for making that call and inviting us to be a part of this ticket. I have to tell you, I’m a — I’m a small-town boy from a place not too different from Farmville. I grew up with a cornfield in my backyard. My grandfather had immigrated to this country when he was about my son’s age. My mom and dad built a — everything that matters in a small town in Southern Indiana. They built a family and — and a good name and a business. And they raised a family. And I dreamed some day of representing my home town in Washington, D.C., but I — honestly, Elaine, I never imagined — never imagined I’d have the opportunity to be governor of the state that I love, let alone be sitting at a table like this in this kind of a position. So to answer your question, I would say I — I would hope that if — if the responsibility ever fell to me in this role, that I would meet it with the way that I’m going to meet the responsibility should I be elected vice president of the United States. And that’s to bring a lifetime of experience, a lifetime growing up in a small town, a lifetime where I’ve served in the Congress of the United States, where — where I’ve led a state that works in the great state of Indiana, and whatever other responsibilities might follow from this, I — I would hope and, frankly, I would pray to be able to meet that moment with that — that lifetime of experience. QUIJANO: Senator Kaine, on the campaign trail, you praised Secretary Clinton’s character, including her commitment to public service, yet 60 percent of voters don’t think she’s trustworthy. Why do so many people distrust her? Is it because they have questions about her e-mails and the Clinton Foundation? KAINE: Elaine, let me tell you why I trust Hillary Clinton. Here’s what people should look at as they look at a public servant. Do they have a passion in their life that showed up before they were in public life? And have they held onto that passion throughout their life, regardless of whether they were in office or not, succeeding or failing? Hillary Clinton has that passion. From a time as a kid in a Methodist youth group in the suburbs of Chicago, she has been focused on serving others with a special focus on empowering families and kids. As a civil rights lawyer in the South, with the Children’s Defense Fund, first lady of Arkansas and this country, senator, secretary of state, it’s always been about putting others first. And that’s a sharp contrast with Donald Trump. Donald Trump always puts himself first. He built a business career, in the words of one of his own campaign staffers, “off the backs of the little guy.” And as a candidate, he started his campaign with a speech where he called Mexicans rapists and criminals, and he has pursued the discredited and really outrageous lie that President Obama wasn’t born in the United States. It is so painful to suggest that we go back to think about these days where an African-American could not be a citizen of the United States. And I can’t imagine how Governor Pence can defend the insult-driven selfish “me first” style of Donald Trump. QUIJANO: Governor Pence, let me ask you, you have said Donald Trump is, quote, “thoughtful, compassionate, and steady.” Yet 67 percent of voters feel he is a risky choice, and 65 percent feel he does not have the right kind of temperament to be president. Why do so many Americans think Mr. Trump is simply too erratic? PENCE: Well, let me — let me say first and foremost that, Senator, you and Hillary Clinton would know a lot about an insult-driven campaign. It really is remarkable. At a time when literally, in the wake of Hillary Clinton’s tenure as secretary of state, where she was the architect of the Obama administration’s foreign policy, we see entire portions of the world, particularly the wider Middle East, literally spinning out of control. I mean, the situation we’re watching hour by hour in Syria today is the result of the failed foreign policy and the weak foreign policy that Hillary Clinton helped lead in this administration and create. The newly emboldened — the aggression of Russia, whether it was in Ukraine or now their heavy-handed approach… KAINE: You guys love Russia. You both have said… PENCE: … their heavy-handed approach. KAINE: You both have said — you both have said Vladimir Putin is a better leader than the president. PENCE: Well…[crosstalk] QUIJANO: Well, we’re going to get to Russia in just a moment. But I do want to get back to the question at… PENCE: But in the midst — Elaine, thank you. Thank you. Thank you, Senator, I’ll… KAINE: These guys have praised Vladimir Putin as a great leader. How can that…[crosstalk] QUIJANO: Yes, and we will get to that, Senator. We do have that coming up here. But in the meantime, the questions… PENCE: Well, Senator, I must have hit a…[crosstalk]…I must have hit a nerve here. QUIJANO: Why the disconnect? PENCE: Because at a time of great challenge in the life of this nation, where we’ve weakened America’s place in the world, stifled America’s economy, the campaign of Hillary Clinton and Tim Kaine has been an avalanche of insults. Look, to get to your question about trustworthiness, Donald Trump has built a business through hard times and through good times. He’s brought an extraordinary business acumen. He’s employed tens of thousands of people in this country. KAINE: And paid few taxes and lost a billion a year. [crosstalk] QUIJANO: And why the disconnect with your running mate? PENCE: But there’s a — there’s a reason why people question the trustworthiness of Hillary Clinton. And that’s because they’re paying attention. I mean, the reality is, when she was secretary of state, Senator, come on. She had a Clinton Foundation accepting contributions from foreign governments. KAINE: You are Donald Trump’s apprentice. Let me talk about this…[crosstalk] PENCE: Senator, I think I’m still on my time. KAINE: Well, I think — isn’t this a discussion? QUIJANO: This is our open discussion. KAINE: Yeah, let’s talk about the state of…[crosstalk] PENCE: Well, let me interrupt — let me interrupt you and finish my sentence, if I can. KAINE: Finish your sentence. PENCE: The Clinton Foundation accepted foreign contributions from foreign governments and foreign donors while she was secretary of state. KAINE: OK, now I can weigh in. Now… PENCE: She had a private server… KAINE: Now, I get to weigh in. Now, let me just say this… PENCE: … that was discovered…[crosstalk] QUIJANO: … Senator, you have an opportunity to respond. PENCE: … keep that pay to play process out of the reach of the public. KAINE: Governor Pence — Governor Pence doesn’t think the world’s going so well and he, you know, is going to say it’s everybody’s fault. PENCE: Do you? KAINE: Let me tell you this. When Hillary Clinton became secretary of state, Governor Pence, do you know that Osama bin Laden was alive? PENCE: Yes. KAINE: Do you know that we had 175,000 troops deployed in the battlefield in Iraq and Afghanistan? Do you know that Iran was racing toward a nuclear weapon and Russia was expanding its stockpile? Under Secretary Clinton’s leadership, she was part of the national team, public safety team that went after and revived the dormant hunt against bin Laden and wiped him off the face of the Earth. She worked to deal with the Russians to reduce their chemical weapons stockpile. She worked a tough negotiation with nations around the world to eliminate the Iranian nuclear weapons program without firing a shot. PENCE: Eliminate the Iranian nuclear weapons program? KAINE: Absolutely, without firing a shot. And instead of 175,000 American troops deployed overseas, we now have 15,000. PENCE: Right and… KAINE: These are very, very good things. PENCE: And Iraq has been overrun by ISIS, because Hillary Clinton failed to renegotiate… KAINE: Well, if you want to put more American troops in Iraq, you can propose that. PENCE: Hillary Clinton — Hillary Clinton — Hillary Clinton failed to renegotiate a status of forces agreement… KAINE: No, that is incorrect. That’s incorrect. PENCE: And so we removed — we removed all of our… QUIJANO: Gentlemen, we’ll get to…[crosstalk] PENCE: … troops from Iraq, and ISIS was able to be conjured up in that vacuum. KAINE: But I’d like to correct… PENCE: … and overrun vast areas of Iraq. KAINE: Governor, President Bush said we would leave Iraq at the end of 2011. And, Elaine, Iraq didn’t want our troops to stay, and they wouldn’t give us the protection for our troops. And guess what? If a nation where our troops are serving does not want us to stay, we’re not going to stay without their protection. PENCE: It was a failure of the secretary of state… QUIJANO: We need to move on to the next topic, gentlemen. KAINE: If Governor Pence wants to put more troops back in Iraq, that’s… QUIJANO: There are a lot of people wondering in this country about the economy. Let’s turn to the issue of the economy. KAINE: OK. QUIJANO: According to the nonpartisan Committee for a Responsible Federal Budget, neither of your economic plans will reduce the growing $19 trillion gross national debt. In fact, your plans would add even more to it. Both of you were governors who balanced state budgets. Are you concerned that adding more to the debt could be disastrous for the country. Governor Pence? PENCE: I think the fact that — that under this past administration of which Hillary Clinton was a part, we’ve almost doubled the national debt is atrocious. I mean, I’m very proud of the fact that — I come from a state that works. The state of Indiana has balanced budgets. We cut taxes, we’ve made record investments in education and in infrastructure, and I still finish my term with $2 billion in the bank. That’s a little bit different than when Senator Kaine was governor here in Virginia. He actually — he actually tried to raise taxes by about $4 billion. He left his state about $2 billion in the hole. In the state of Indiana, we’ve cut unemployment in half; unemployment doubled when he was governor. But I think he’s a very fitting running mate for Hillary Clinton, because in the wake of a season where American families are struggling in this economy under the weight of higher taxes and Obamacare and the war on coal and the stifling avalanche of regulation coming out of this administration, Hillary Clinton and Tim Kaine want more of the same. It really is remarkable that they actually are advocating a trillion dollars in tax increases, which I get that. You tried to raise taxes here in Virginia and were unsuccessful. But a trillion dollars in tax increases, more regulation, more of the same war on coal, and more of Obamacare that now even former President Bill Clinton calls Obamacare a crazy plan. But Hillary Clinton and Tim Kaine want to build on Obamacare. They want to expand it into a single-payer program. And for all the world, Hillary Clinton just thinks Obamacare is a good start. Look, Donald Trump and I have a plan to get this economy moving again just the way that it worked in the 1980s, just the way it worked in the 1960s, and that is by lowering taxes across the board for working families, small businesses and family farms, ending the war on coal that is hurting jobs and hurting this economy even here in Virginia, repealing Obamacare lock, stock, and barrel, and repealing all of the executive orders that Barack Obama has signed that are stifling economic growth in this economy. We can get America moving again. Put on top of that the kind of trade deals that’ll put the American worker first, and you’ve got a prescription for real growth. And when you get the economy growing, Elaine, that’s when you can deal with the national debt. When we get back to 3.5 percent to 4 percent growth with Donald Trump’s plan will do, then we’re going to have the resources to meet our nation’s needs at home and abroad, and we’re going to have the ability to bring down the national debt. QUIJANO: Senator Kaine? KAINE: Elaine, on the economy, there’s a fundamental choice for the American electorate. Do you want a “you’re hired” president in Hillary Clinton or do you want a “you’re fired” president in Donald Trump? I think that’s not such a hard choice. Hillary and I have a plan that’s on the table that’s a “you’re hired” plan. Five components. First thing we do is we invest in manufacturing, infrastructure, and research in the clean energy jobs of tomorrow. Second thing is we invest in our workforce, from pre-K education to great teachers to debt-free college and tuition-free college for families that make less than $125,000 a year. Third, we promote fairness by raising the minimum wage, so you can’t work full-time and be under the poverty level, and by paying women equal pay for equal work. Fourth, we promote small business growth, just as we’ve done in Virginia, to make it easier to start and grow small businesses. Hillary and I each grew up in small-business families. My dad, who ran an iron working and welding shop, is here tonight. And, fifth, we have a tax plan that targets tax relief to middle- class individuals and small businesses and asks those at the very top who’ve benefited as we’ve come out of recession to pay more. The Trump plan is a different plan. It’s a “you’re fired” plan. And there’s two key elements to it. First, Donald Trump said wages are too high. And both Donald Trump and Mike Pence think we ought to eliminate the federal minimum wage. Mike Pence, when he was in Congress, voted against raising the minimum wage above $5.15. And he has been a one-man bulwark against minimum wage increases in Indiana. The second component of the plan is massive tax breaks for the very top, trillions of dollars of tax breaks for people just like Donald Trump. The problem with this, Elaine, is that’s exactly what we did 10 years ago and it put the economy into the deepest recession — the deepest recession since the 1930s. Independent analysts say the Clinton plan would grow the economy by 10.5 million jobs. The Trump plan would cost 3.5 million jobs. And Donald Trump — why would he do this? Because his tax plan basically helps him. And if he ever met his promise and he gave his tax returns to the American public like he said he would, we would see just how much his economic plan is really a Trump-first plan. QUIJANO: On that point, Governor Pence, recently the New York Times released part of Mr. Trump’s 1995 tax return and reported that he could have avoided paying federal income taxes for years. Yesterday, Mr. Trump said he brilliantly used the laws to pay as little tax as legally possible. Does that seem fair to you? PENCE: Well, first, let me say, I appreciated the “you’re hired,” “you’re fired” thing, Senator. You use that a whole lot. And I think your running mate used a lot of pre-done lines. Look, what — what you all just heard out there is more taxes, $2 trillion in more spending, more deficits, more debt, more government. And if you think that’s all working, then you look at the other side of the table. I mean, the truth of the matter is, the policies of this administration, which Hillary Clinton and Senator Kaine want to continue, have run this economy into a ditch. We’re in the… KAINE: Fifteen million new jobs? PENCE: … slowest economic recovery since the Great Depression. KAINE: Fifteen million new jobs? QUIJANO: Governor…[crosstalk] PENCE: There are millions more people living in poverty today than the day that Barack Obama with Hillary Clinton at his side… KAINE: And the poverty level and the median income… PENCE: … stepped into the Oval Office. KAINE: … improved dramatically between 2014 and 2015. PENCE: You — honestly, Senator, you can roll out the numbers and the sunny side, but I got to tell you, people in Scranton know different. People in Fort Wayne, Indiana, know different. I mean, this economy is struggling. The answer to this economy is not more taxes. KAINE: But it’s not the giveaway tax relief to the folks at the top. PENCE: It’s not more spending…[crosstalk] KAINE: I am interested to hear whether he’ll defend his running mate’s not releasing taxes and not paying taxes. PENCE: Absolutely I will. QUIJANO: Governor, with all due respect, the question was about whether it seems fair to you that Mr. Trump said he brilliantly used the laws to pay as little tax as legally possible. PENCE: Well, this is probably the difference between Donald Trump and Hillary Clinton and Senator Kaine. And, I mean, Hillary Clinton and Senator Kaine — God bless you for it, career public servants, that’s great — Donald Trump is a businessman, not a career politician. He actually built a business. Those tax returns that were — that came out publicly this week show that he faced some pretty tough times 20 years ago. But like virtually every other business, including the New York Times not too long ago, he used what’s called net operating loss. We have a tax code, Senator, that actually is designed to encourage entrepreneurship in this country. KAINE: But why won’t he release his tax returns? PENCE: Well, we’re answering the question about — about a business thing, is he… KAINE: I do want to come back to that, but… PENCE: His tax returns — his tax returns showed he went through a very difficult time, but he used the tax code just the way it’s supposed to be used. And he did it brilliantly. KAINE: How do you know that? You haven’t seen his tax returns. PENCE: He created a runway — because he’s created a business that’s worth billions of dollars today. KAINE: How do you know that? PENCE: And with regard to paying taxes, this whole riff about not paying taxes and people saying he didn’t pay taxes for years, Donald Trump has created tens of thousands of jobs. And he’s paid payroll taxes, sales taxes, property taxes… KAINE: Elaine, let me talk about something. QUIJANO: Senator, I’m going to give you about 30 seconds to respond, and I have question on Social Security for you. KAINE: OK. PENCE: The only issue on taxes — Hillary Clinton is going to raise taxes, and Donald Trump and I are going to cut them. KAINE: Donald Trump started this campaign in 2014 and he said, “If I run for president, I will absolutely release my taxes.” He’s broken his first… PENCE: And he will. KAINE: He’s broken his first promise. Second, he stood on the stage… PENCE: He hasn’t broken his promise. He said he’s… KAINE: He stood on the stage last week and when Hillary said, you haven’t been paying taxes, he said, “That makes me smart.” So it’s smart not to pay for our military? It’s smart not to pay for veterans? It’s smart not to pay for teachers? And I guess all of us who do pay for those things, I guess we’re stupid. And the last thing I’ll say is this… PENCE: Senator, do you take all the deductions that you’re entitled to? KAINE: The last thing — the last thing I want to ask Governor Pence is… PENCE: I do. KAINE: Governor Pence had to give Donald Trump his tax returns to show he was qualified to be vice president. Donald Trump must give the American public his tax returns to show that he’s qualified to be president. And he’s breaking his promise. PENCE: Elaine, I have to respond to this. QUIJANO: You get very little time, 20 seconds. PENCE: I’ll be — I’ll be very respectful. QUIJANO: Governor? PENCE: Look, Donald Trump has filed over 100 pages of financial disclosure, which is what the law requires. KAINE: But he said he would release his tax returns. QUIJANO: All right, Gentlemen… PENCE: The American people can review that. And he’s going — Senator, he’s going to release his tax returns when the audit is over… QUIJANO: … I need to ask you about Social Security… KAINE: Richard Nixon released tax returns when he was under audit. PENCE: They’re going to raise your taxes. We’re going to cut your taxes. QUIJANO: Gentlemen… KAINE: If you can’t meet Nixon’s standard… QUIJANO: The people at home cannot understand either one of you when you speak over each other. I would please ask you to wait until it is that the other is finished. KAINE: All right. We’re having fun up here. QUIJANO: Senator Kaine, on the issue of Social Security, in 18 years, when the Social Security Trust Funds run out of money, you’ll be 76. The Committee for a Responsible Federal Budget estimates your benefits could be cut by as much as $7,500 per year. What would your administration do to prevent this cut? KAINE: First, we’re going to protect Social Security, which is one of the greatest programs that the American government has ever done. It happened at a time when you would work your whole life, your whole life, raising your kids, working, being a Little League coach or a Sunday school teacher, and then you would retire into poverty. And Social Security has enabled people to retire with dignity and overwhelmingly not be in poverty. We have to keep it solvent. And we will keep it solvent. And we’ll look for strategies like adjusting the payroll tax cap upward in order to do that. Here’s what Hillary and I will not do. And I want to make this very plain. We will never, ever engage in a risky scheme to privatize Social Security. Donald Trump wrote a book and he said Social Security is a Ponzi scheme and privatization would be good for all of us. And when Congressman Pence was in Congress, he was the chief cheerleader for the privatization of Social Security. Even after President Bush stopped pushing for it, Congressman Pence kept pushing for it. We’re going to stand up against efforts to privatize Social Security. And we’ll look for ways to keep it solvent going forward, focusing primarily on the payroll tax cap. QUIJANO: Governor Pence, I’ll give you an opportunity to respond. PENCE: Well, thanks, Elaine. There they go again. OK… KAINE: Go read — go read the book. PENCE: All Donald Trump — all Donald Trump and I have said about Social Security is we’re going to meet our obligations to our seniors. That’s it. KAINE: Go read the book. PENCE: We’ve said we’re going to meet the obligations of Medicare. That’s what this campaign is really about, Senator. And I get, this is — this is the old scare tactic that they roll out… KAINE: But — but you have a voting record, Governor. PENCE: And I get all of that. I just, look… KAINE: I… PENCE: There’s a question that you asked a little bit earlier that I want to go back to. KAINE: I can’t believe that you won’t defend your own voting record. PENCE: I have to go back to. QUIJANO: We… PENCE: Well, look, I — you’re running with Hillary Clinton, who wants to raise taxes by $1 trillion, increase spending by $2 trillion, and you say you’re going to keep the promises of Social Security. Donald Trump and I are going to cut taxes. We’re going to — we’re going to — we’re going to… KAINE: You’re not going to cut taxes. You’re going to raise taxes on the middle class. PENCE: … reform government programs so we can meet the obligations of Social Security and Medicare. QUIJANO: All right. PENCE: Stay on the path that your party has us on, we’re going to be in a — in a mountain range of debt. And we’re going to face hard choices and…[crosstalk] Gentleman, I want to move on now. KAINE: You did ask this question about debt, and the debt explosion on the Trump plan is much, much bigger than anything on the Clinton side. QUIJANO: All right. Let me move on now… PENCE: Three hundred and five economists said your plan is bad for the economy. QUIJANO: … to the issue of law enforcement and race relations. Law enforcement and race relations. After the Dallas police shooting, Police Chief David Brown said, quote, “We’re asking cops to do too much in this country. Every societal failure we put it off on the cops to solve. Not enough mental health funding, not enough drug addiction funding, schools fail, let’s give it to the cops.” Do we ask too much of police officers in this country? And how would you specifically address the chief’s concerns? Senator Kaine? KAINE: Elaine, I think that’s a very fair comment. I think we put a lot on police shoulders. And this is something I got a lot of scar tissue and experience on. I was a city councilman and mayor in Richmond. And when I came in, we had one of the highest homicide rates in the United States. We fought very, very hard over the course of my time in local office with our police department, and we reduced our homicide rate nearly in half. And then when I was governor of Virginia, we worked hard, too. And we did something we had really wanted to do. For the first time ever, we cracked the top 10, 10 safest states, because we worked together. Here’s what I learned as a mayor and a governor. The way you make communities safer and the way you make police safer is through community policing. You build the bonds between the community and the police force, build bonds of understanding, and then when people feel comfortable in their communities, that gap between the police and the communities they serve narrows. And when that gap narrows, it’s safer for the communities and it’s safer for the police. That model still works across our country, but there are some other models that don’t work, an overly aggressive, more militarized model. Donald Trump recently said we need to do more stop-and-frisk around the country. That would be a big mistake because it polarizes the relationship between the police and the community. So here’s what we’ll do. We’ll focus on community policing. We will focus on — and Hillary Clinton has rolled out a really comprehensive mental health reform package that she worked on with law enforcement professionals, and we will also fight the scourge of gun violence in the United States. I’m a gun-owner. I’m a strong Second Amendment supporter. But I’ve got a lot of scar tissue, because when I was governor of Virginia, there was a horrible shooting at Virginia Tech, and we learned that through that painful situation that gaps in the background record check system should have been closed and it could have prevented that crime, and so we’re going to work to do things like close background record checks. And if we do, we won’t have the tragedies that we did. One of those killed at Virginia Tech was a guy named Liviu Librescu. He was a 70-plus-year-old Romanian Holocaust survivor. He had survived the Holocaust. Then he survived the Soviet Union takeover of his country. But then he was a visiting professor at Virginia Tech, and he couldn’t survive the scourge of gun violence. We can support the Second Amendment and do things like background record checks and make us safer, and that will make police safer, too. QUIJANO: Governor Pence? PENCE: You know, my uncle was a cop, a career cop, on the beat in downtown Chicago. He was my hero when I was growing up. And we’d go up to visit my dad’s family in Chicago. My three brothers and I would marvel at my uncle when he would come out in his uniform, sidearm at his side. Police officers are the best of us. And the men and women, white, African-American, Asian, Latino, Hispanic, they put their lives on the line every single day. And let me say, at the risk of agreeing with you, community policing is a great idea. It’s worked in the Hoosier state. And we fully support that. Donald Trump and I are going to make sure that law enforcement have the resources and the tools to be able to really restore law and order to the cities and communities in this nation. It’s probably — probably why the 330,000 members of the Fraternal Order of Police endorsed Donald Trump as the next president of the United States of America, because they see his commitment to them. They see his commitment to law and order. But they also — they also hear the bad mouthing, the bad mouthing that comes from people that seize upon tragedy in the wake of police action shootings as — as a reason to — to use a broad brush to accuse law enforcement of — of implicit bias or institutional racism. And that really has got to stop. I mean, when an African-American police officer in Charlotte named Brentley Vinson, an all-star football player who went to Liberty University here in the state, came home, followed his dad into law enforcement, joined the force in Charlotte, joined the force in Charlotte in 2014, was involved in a police action shooting that claimed the life of Keith — Keith Lamont Scott, it was a tragedy. I mean, I — we — we mourn with those who mourn. We — we grieve with those who grieve. And we’re saddened at the loss of life. But Hillary Clinton actually referred to that moment as an example of implicit bias in the police force, where — where she used — when she was asked in the debate a week ago whether there was implicit bias in law enforcement, her only answer was that there’s implicit bias in everyone in the United States. I just think… KAINE: Can I — can I explain… PENCE: … I just think what we ought to do is we ought to stop seizing on these moments of tragedy. We ought to assure the public that we’ll have a full and complete and transparent investigation whenever there’s a loss of life because of police action. But, Senator, please, you know, enough of this seeking every opportunity to demean law enforcement broadly by making the accusation of implicit bias every time tragedy occurs. KAINE: Elaine — Elaine, people shouldn’t be afraid to bring up issues of bias in law enforcement. And if you’re afraid to have… PENCE: I’m not afraid to bring that up. KAINE: And if — if you’re afraid to have the discussion, you’ll never solve it. And so here’s — here’s an example, heartbreaking. We would agree this is a heartbreaking example. The guy, Philando Castile, who was killed in St. Paul, he was a worker, a valued worker in a local school. And he was killed for no apparent reason in an incident that will be discussed and will be investigated. But when folks went and explored this situation, what they found is that Philando Castile, who was a — they called him Mr. Rogers with Dreadlocks in the school that he worked. The kids loved him. But he had been stopped by police 40 or 50 times before that fatal incident. And if you look at sentencing in this country, African-Americans and Latinos get sentenced for the same crimes at very different rates. PENCE: We need criminal justice reform. KAINE: Well, we do. PENCE: Indiana has passed criminal justice reform. KAINE: But I just want to say, those who say that we should not… PENCE: But that’s not what you’re talking about. KAINE: … we should not be able to bring up and talk about bias in the system, we’ll never solve the problem… QUIJANO: Governor Pence…[crosstalk]…Governor Pence… PENCE: Senator, when African-American police officers involved in a police action shooting involving an African-American, why would Hillary Clinton accuse that African-American police officer of implicit bias? KAINE: Well, I guess I can’t believe you are defending the position that there is no bias and it’s a topic we don’t even…[crosstalk] QUIJANO: Governor Pence, I have a question on that point. PENCE: I did not make that statement. I… QUIJANO: Your fellow Republican, Governor Pence, Senator Tim Scott, who is African-American, recently spoke on the Senate floor. He said he was stopped seven times by law enforcement in one year. KAINE: A U.S. senator. QUIJANO: He said, “I have felt the anger, the frustration, the sadness, and the humiliation that comes with feeling like you’re being targeted for nothing more than being just yourself.” What would you say to Senator Scott about his experiences? PENCE: Well, I have the deepest respect for Senator Scott, and he’s a close friend. And what I would say is that we — we need to adopt criminal justice reform nationally. I — I signed criminal justice reform in the state of Indiana, Senator, and we’re very proud of it. I worked when I was in Congress on the second chance act. We have got to do a better job recognizing and correcting the errors in the system that do reflect on institutional bias in criminal justice. But what — what — what Donald Trump and I are saying is let’s not have the reflex of assuming the worst of men and women in law enforcement. We truly do believe that law enforcement is not a force for racism or division in our country… KAINE: Elaine, can I… QUIJANO: So what would you say to Senator Scott, Governor? PENCE: Law enforcement in this country is a force for good. They are the — they truly are people that put their lives on the line every single day. But I would — I would suggest to you, what we need to do is assert a stronger leadership at the national level to support law enforcement. You just heard Senator Kaine reject stop-and-frisk. Well, I would suggest to you that the families that live in our inner cities that are besieged by crime… KAINE: Elaine, let me — let me… QUIJANO: Governor, the question is about Senator Scott. What would — what would you tell Senator Scott? KAINE: Elaine, if I could — if I could jump in. I’ve heard Senator Scott make that eloquent plea. And look, criminal justice is about respecting the law and being respected by the law. So there is a fundamental respect issue here. And I just want to talk about the tone that’s set from the top. Donald Trump during his campaign has called Mexicans rapists and criminals. He’s called women slobs, pigs, dogs, disgusting. I don’t like saying that in front of my wife and my mother. He attacked an Indiana-born federal judge and said he was unqualified to hear a federal lawsuit because his parents were Mexican. He went after John McCain, a POW, and said he wasn’t a hero because he’d been captured. He said African-Americans are living in Hell. And he perpetrated this outrageous and bigoted lie that President Obama is not a U.S. citizen. If you want to have a society where people are respected and respect laws, you can’t have somebody at the top who demeans every group that he talks about. And I just — again, I cannot believe that Governor Pence will defend the insult-driven campaign that Donald Trump has run. QUIJANO: All right. I want to turn to our next segment now, immigration. Your running mates have both said that undocumented immigrants who have committed violent crimes should be deported. What would you tell the millions of undocumented immigrants who have not committed violent crimes? Governor Pence? PENCE: Donald Trump’s laid out a plan to end illegal immigration once and for all in this country. We’ve been talking it to death for 20 years. Hillary Clinton and Tim Kaine want to continue the policies of open borders, amnesty, catch and release, sanctuary cities, all the things that are driving — that are driving wages down in this country, Senator, and also too often with criminal aliens in the country, it’s bringing heartbreak. But I — Donald Trump has a plan that he laid out in Arizona, that will deal systemically with illegal immigration, beginning with border security, internal enforcement. It’s probably why for the first time in the history of Immigration and Customs Enforcement their union actually endorsed Donald Trump as the next president of the United States, because they know they need help to enforce the laws of this country. And Donald Trump has laid out a priority to remove criminal aliens, remove people that have overstayed their visas. And — and once we have accomplished all of that, which will — which will strengthen our economy, strengthen the rule of law in the country and make our communities safer once the criminal aliens are out, then we’ll deal with those that remain. But I have to tell you, I just — I was listening to the avalanche of insults coming out of Senator Kaine a minute ago. KAINE: These were Donald’s — hold on a second, Governor. [crosstalk] PENCE: It’s my time, Senator. QUIJANO: It is, in fact, the governor’s time. KAINE: I apologize. It’s your two minutes. I apologize. PENCE: Thanks. I forgive you. He says ours is an insult-driven campaign. Did you all just hear that? Ours is an insult-driven campaign? I mean, to be honest with you, if Donald Trump had said all of the things that you’ve said he said in the way you said he said them, he still wouldn’t have a fraction of the insults that Hillary Clinton leveled when she said that half of our supporters were a basket of deplorables. It’s — she said they were irredeemable, they were not American. I mean, it’s extraordinary. And then she labeled one after another “ism” on millions of Americans who believe that we can have a stronger America at home and abroad, who believe we can get this economy moving again, who believe that we can end illegal immigration once and for all. So, Senator, this — this insult-driven campaign, I mean… QUIJANO: Governor… PENCE: That’s small potatoes compared to Hillary Clinton… QUIJANO: Senator Kaine? PENCE: …. calling half of Donald Trump’s supporters a basket of deplorables. KAINE: Hillary Clinton said something on the campaign trail, and the very next day, she said, you know what, I shouldn’t have said that. PENCE: She said she shouldn’t have said half. QUIJANO: Governor, this is Senator Kaine’s two minutes, please. KAINE: Yeah, that’s right, so now we’re even. PENCE: Yeah. [laughter] KAINE: Look for Donald Trump apologizing to John McCain for saying he wasn’t a hero… PENCE: Oh… KAINE: … to Donald Trump apologizing for calling women slobs, pigs, dogs, disgusting. PENCE: She apologized for saying “half.” QUIJANO: Governor. It is his two minutes, please. KAINE: Did Donald Trump apologize for taking after somebody in a Twitter war and making fun of her weight? Did he apologize for saying African-Americans are living in Hell? Did he apologize for saying President Obama was not even a citizen of the United States? You will look in vain to see Donald Trump ever taking responsibility for anybody and apologizing. Immigration. There’s two plans on the table. Hillary and I believe in comprehensive immigration reform. Donald Trump believes in deportation nation. You’ve got to pick your choice. Hillary and I want a bipartisan reform that will put keeping families together as the top goal, second, that will help focus enforcement efforts on those who are violent, third, that will do more border control, and, fourth, that will provide a path to citizenship for those who work hard, pay taxes, play by the rules, and take criminal background record checks. That’s our proposal. Donald Trump proposes to deport 16 million people, 11 million who are here without documents. And both Donald Trump and Mike Pence want to get rid of birthright citizenship. So if you’re born here, but your parents don’t have documents, they want to eliminate that. That’s another 4.5 million people. These guys — and Donald Trump has said it — deportation force. They want to go house to house, school to school, business to business, and kick out 16 million people. And I cannot believe… PENCE: That’s nonsense. That’s nonsense. KAINE: I cannot believe that Governor Pence would sit here and defend his running mate’s claim that we should create a deportation force to — so that they’ll all be gone. PENCE: Senator, we have a deportation force. It’s called Immigrations and Customs Enforcement. And the union for Immigrations and Customs Enforcement for the first time in their history endorsed Donald Trump to be the next president of the United States of America. KAINE: So you like the 16 million deportations? PENCE: Senator, that’s — that’s nonsense. Look, what you just heard is they have a plan for open borders, amnesty. That’s…[crosstalk] KAINE: Our plan is like Ronald Reagan’s plan from 1986. PENCE: They call it comprehensive immigration reform — they call it comprehensive immigration reform on Capitol Hill. We all know the routine. It’s amnesty. And you heard one of the last things he mentioned was border security. That’s how Washington always plays it. KAINE: No, I… PENCE: They always say we’re going to do this, we’re going to do that, we’ll eventually get the border…[crosstalk] KAINE: … border security three years ago, and Governor Pence was against it. QUIJANO: Governor, Mr. Trump has said… PENCE: Ronald Reagan said a nation without borders is not a nation. Donald Trump is committed to restoring the borders of this nation and securing our nation, enforcing our laws. QUIJANO: So, Governor, how would these millions of undocumented immigrants leave? Would they be forcibly removed? PENCE: Well, I think Donald Trump laid out a series of priorities that doesn’t ends with border security. It begins with border security. And after we secure the border, not only build a wall, but beneath the ground and in the air, we do internal enforcement. But he said the focus has to be on criminal aliens. We just — we just had a conversation about law enforcement. We just had a conversation about the — the violence that’s besetting our cities. The reality is that there’s heartbreak and tragedy that has struck American families because people that came into this country illegally are now involved in criminal enterprise and activity. And we don’t have the resources or the will to deport them systematically.  Donald Trump has said we’re going to move those people out, people who’ve overstayed their visas. We’re going to enforce the law of this country. We’re going to strengthen Immigrations and Customs Enforcements with more resources and more personnel to be able to do that. And then Donald Trump has made it clear, once we’ve done all of those things, that we’re going to reform the immigration system that we have… KAINE: I just have to correct Governor Pence…. PENCE: … where people can come into this country. KAINE: I have to… PENCE: That’s the order that you should do it. Border security, removing criminal aliens, upholding with law, and then — but then, Senator, I’ll work you when you go back to the Senate, I promise you, we’ll work with you to reform the immigration system. KAINE: I look forward to working together in whatever capacities we serve in. But I just want to make it very, very clear that he’s trying to fuzz up what Donald Trump has said. When Donald Trump spoke in Phoenix, he looked the audience in the eye and he said, no, we’re building a wall, and we’re deporting everybody. He said, quote, “They will all be gone.” “They will all be gone.” And this is one of these ones where you can just go to the tape on it and see what Donald Trump has said. And to add… PENCE: He’s talking about criminal aliens. KAINE: And to add to it, and to add to it, and to add to it, we are a nation of immigrants. Mike Pence and I both are descended from immigrant families. Some things, you know, maybe weren’t said so great about the Irish when they came, but we’ve done well by absorbing immigrants, and it’s made our nation stronger. When Donald Trump says Mexicans are rapists and criminals, Mexican immigrants, when Donald Trump says about your judge, a Hoosier judge, he said that Judge Curiel was unqualified to hear a case because his parents were Mexican, I can’t imagine how you could defend that. QUIJANO: Gentleman, I’d like to shift now to the threat of terrorism. Do you think the world today is a safer or more dangerous place than it was eight years ago? Has the terrorist threat increased or decreased? Senator Kaine? KAINE: The terrorist threat has decreased in some ways, because bin Laden is dead. The terrorist threat has decreased in some ways because an Iranian nuclear weapons program has been stopped. The terrorist threat to United States troops has been decreased in some ways because there’s not 175,000 in a dangerous part of the world. There’s only 15,000. But there are other parts of the world that are challenging. Let me tell you this: To beat terrorism, there’s only one candidate who can do it, and it’s Hillary Clinton. Remember, Hillary Clinton was the senator from New York on 9/11. She was there at the World Trade Center when they were still searching for victims and survivors. That’s seared onto her, the need to beat terrorism. And she’s got a plan to do it. She was part of the national security team that wiped out bin Laden. Here’s her plan to defeat ISIL. First, we’ve got to keep taking out their leaders on the battlefield. She was part of the team that got bin Laden, and she’ll lead the team that will get Abu Bakr al-Baghdadi, the head of ISIS. Second, we’ve got to disrupt financing networks, third, disrupt their ability to recruit on the Internet, in their safe havens. But, fourth, we also have to work with allies to share and surge intelligence. That’s the Hillary Clinton plan; she’s got the experience to do it. Donald Trump. Donald Trump can’t start a Twitter war with Miss Universe without shooting himself in the foot. Donald Trump doesn’t have a plan. He said, “I have a secret plan,” and then he said, “Um, I know more than all the generals about ISIL.” And then he said, “I’m going to call the generals to help me figure out a plan.” And finally he said, “I’m going to fire all the generals.” He doesn’t have a plan. But he does have dangerous ideas. Here’s four. He trash talks the military. The military is a disaster, John McCain’s no hero, the generals need all to be fired, and I know more than them. He wants to tear up alliances. NATO is obsolete, and we’ll only work together with Israel if they pay “big league.” Third, he loves dictators. He’s got kind of a personal Mount Rushmore, Vladimir Putin, Kim Jong-un, Moammar Gadhafi… PENCE: Oh, please. Come on. KAINE: … and Saddam Hussein. And last and most dangerously, Donald Trump believes — Donald Trump believes that the world will be safer if more nations have nuclear weapons. He’s said Saudi Arabia should get them, Japan should get them, Korea should get them. And when he was confronted with this, and told, wait a minute, terrorists could get those, proliferation could lead to nuclear war, here’s what Donald Trump said, and I quote: “Go ahead, folks, enjoy yourselves.” I’d love to hear Governor Pence tell me what’s so enjoyable or comical about nuclear war. QUIJANO: Governor Pence? PENCE: Did you work on that one a long time? Because that had a lot of really creative lines in it. KAINE: Well, I’m going to see if you can defend any of it. PENCE: Well, look, I can defend — I — I — I can — I can make very clear to the American people, after traveling millions of miles as our secretary of state, after being the architect of the foreign policy of this administration, America is less safe today than it was the day that Barack Obama became president of the United States. It’s absolutely inarguable. We’ve weakened America’s place in the world. It’s been a combination of factors, but mostly it’s been a lack of leadership. I mean, I will give you — and I was in Washington, D.C., on 9/11. I saw the clouds of smoke rise from the Pentagon. KAINE: I was in Virginia where the Pentagon’s…[crosstalk] PENCE: I know you were. We all lived through that day as a nation. It was heartbreaking. And I want to give this president credit for bringing Osama bin Laden to justice. But the truth is, Osama bin Laden led Al Qaida. Our primary threat today is ISIS. And because Hillary Clinton failed to renegotiate a status of forces agreement that would have allowed some American combat troops to remain in Iraq and secure the hard fought gains the American soldier had won by 2009, ISIS was able to be literally conjured up out of the desert, and it’s overrun vast areas that the American soldier had won in Operation Iraqi Freedom. My heart breaks for the likes of Lance Cpl. Scott Zubowski. He fell in Fallujah in 2005. He fought hard through some of the most difficult days in Operation Iraqi Freedom, and he paid the ultimate sacrifice to defend our freedom and secure that nation. And that nation was secured in 2009. But because Hillary Clinton and Barack Obama failed to provide a status of forces agreement and leave sufficient troops in there, we are back at war. The president just ordered more troops on the ground. We are back at war in Iraq. And Scott Zubowski, whose mom would always come to Memorial Day events in Newcastle, Indiana, to see me, and I’d always give her a hug and tell her we’re never going to forget her son and we never will, Scott Zubowski and the sacrifices the American soldier made were squandered in Iraq because this administration created a vacuum in which ISIS was able to grow. And a reference to the Iranian deal, the Iranian deal that Hillary Clinton initiated, $150 billion to the radical mullahs in Iran. KAINE: Stopping a nuclear weapons program without firing a shot? PENCE: You didn’t stop the nuclear weapons program. KAINE: Yes, we did. PENCE: You essentially… KAINE: Even the Israeli military says it stopped. PENCE: … guaranteed that Iran will someday become a nuclear power, because there’s no limitations once the period of time of the treaty comes off. QUIJANO: Governor Pence, Mr. Trump has proposed extreme vetting of immigrants from parts of the world that export terrorism. But that does not address many of the recent terrorist attacks in the United States, such as the Orlando nightclub massacre and the recent bombings in New York and New Jersey. Those were homegrown, committed by U.S. citizens and legal residents. What specific tools would you use to prevent those kinds of attacks? PENCE: Well, I think it’s — I think it’s a great question, Elaine, but it really does begin with us reforming our immigration system and putting the interests, particularly the safety and security of the American people, first. I mean, Donald Trump has called for extreme vetting for people coming into this country so that we don’t bring people into the United States who are hostile to our Bill of Rights freedoms, who are hostile to the American way life. But also, Donald Trump and I are committed to suspending the Syrian refugee program and programs and immigration from areas of the world that have been compromised by terrorism. Hillary Clinton and Tim Kaine want to increase the Syrian refugee program by 500…[crosstalk] KAINE: Elaine, I want to…[crosstalk] QUIJANO: Governor, the question was about homegrown. PENCE: Yeah, and so — but first, you know, let’s make sure we’re putting the safety and security of the American people first instead of Hillary Clinton expanding the Syrian refugee program… KAINE: Or instead of you violating the Constitution by blocking people based on their national origin rather than whether they’re dangerous. PENCE: That’s not — that’s absolutely false. KAINE: That’s what the Seventh Circuit decided just — here’s the difference, Elaine. PENCE: The Seventh Circuit… KAINE: We have different views on — on refugee issues and on immigration. Hillary and I want to do enforcement based on, are people dangerous? These guys say all Mexicans are bad. PENCE: That’s absolutely false. KAINE: And with respect to refugees, we want to keep people out if they’re dangerous. Donald Trump said keep them out if they’re Muslim. Mike Pence… PENCE: Absolutely… KAINE: … put a program in place to keep them out if they’re from Syria. And yesterday an appellate court with three Republican judges struck down the Pence plan… PENCE: Right. Right. KAINE: … and said it was discriminatory… PENCE: And those judges — those judges said… KAINE: We should focus upon danger, not upon discrimination. QUIJANO: Governor? PENCE: Elaine, to your point, those judges said it was because there wasn’t any evidence yet that — that ISIS had infiltrated the United States. Well, Germany just arrested three Syrian refugees that were connected to ISIS. [crosstalk] KAINE: But they told you there’s a right way and a wrong way to do it. PENCE: But, look, if you’re going to be critical of me on that, that’s fair game. I will tell you, after two Syrian refugees were involved in the attack in Paris that is called Paris’ 9/11, as governor of the state of Indiana, I have no higher priority than the safety and security of the people of my state. KAINE: But, Governor Pence… PENCE: So you bet I suspended that program. KAINE: But, Governor Pence, I just… PENCE: And I stand by that decision. And if I’m vice president of the United States or Donald Trump is president, we’re going to put the safety and security of the American people first. KAINE: Sure. Can we just be clear — Hillary and I will do immigration enforcement and we’ll vet refugees based on whether they’re dangerous or not. We won’t do it based on discriminating against you from the country you come from or the religion that you practice. PENCE: But the problem with that… KAINE: That is completely antithetical to the Jeffersonian values of…[crosstalk] PENCE: Elaine, the director of the FBI, our homeland security, said we can’t know for certain who these people are coming from Syria. KAINE: Yes, we can, and when we don’t let them know, we don’t let them in. PENCE: So — the FBI… KAINE: When we don’t know who they are, we don’t let them in. PENCE: The FBI and homeland security said we can’t know for certain. You’ve got to err on the side of the safety and security of the American people, Senator. I understand the… KAINE: By trashing all Syrians or trashing all Muslims? PENCE: … the U.N. wants us to expand the Syrian refugee program… QUIJANO: Senator Kaine, let me ask you this. Secretary Clinton… PENCE: We’re going to put the safety and security of the American people first. QUIJANO: … has talked about an intelligence surge. KAINE: Yes. QUIJANO: What exactly would an intelligence surge look like? And how would that help identify terrorists with no operational connection to a foreign terrorist organization? KAINE: Intelligence surge is two things, Elaine. It’s two things. It’s, first, dramatically expanding our intelligence capacities by hiring great professionals, but also we’ve got some of the best intel and cyber employees in the world right here in the United States working for many of our private sector companies. So it involves increasing our own workforce, but striking great partnerships with some of our cyber and intel experts in the private sector so that we can, consistent with constitutional principles, gather more intelligence. But the second piece of this is really, really important. It also means creating stronger alliances, because you gather intelligence and then you share your intelligence back and forth with allies. And that’s how you find out who may be trying to recruit, who may be trying to come from one country to the next. Alliances are critical. That’s why Donald Trump’s claim that he wants to — that NATO is obsolete and that we need to get rid of NATO is so dangerous. PENCE: That’s not his plan. KAINE: Well, he said NATO is obsolete. And, look, if you put aside — push aside your alliances, who you’re going to share intelligence with? Hillary Clinton is the secretary of state who knows how to build alliances. She built the sanctions regime around the world that stopped the Iranian nuclear weapons program. And that’s what an intelligence surge means. Better skill and capacity, but also better alliances. QUIJANO: All right. I’d like to turn now to the tragedy in Syria. Two hundred fifty thousand… PENCE: Can I speak about the cybersecurity surge at all? QUIJANO: You can — you can have 30 seconds, Governor, quickly, please. PENCE: First, Donald Trump just spoke about this issue this week. We have got to bring together the best resources of this country to understand that cyber warfare is the new warfare of the asymmetrical enemies that we face in this country. And I look forward if I’m privileged to be in this role of working with you in the Senate to make sure that we resource that effort. KAINE: We will work together in whatever roles we inhabit. PENCE: We have an intelligence, sir. But I will also tell you that it’s important in this moment to remember that Hillary Clinton had a private server in her home that had classified information on it… QUIJANO: And I don’t — 30 seconds is on up. PENCE: … about drone strikes, e-mails from the president of the United States of America were on there. QUIJANO: Right. PENCE: Her private server was subject to being hacked by foreign…[crosstalk] QUIJANO: I’d like to ask you about Syria, Governor. PENCE: We could put cybersecurity first if we just make sure the next secretary of state doesn’t have a private server. [crosstalk] KAINE: A full investigation concluded that not one reasonable prosecutor would take any additional step. You don’t get to decide the rights and wrongs of this. We have a justice system that does that. And a Republican FBI director did an investigation and concluded that…[crosstalk] QUIJANO: All right, we are moving on now. Two hundred fifty thousand people… PENCE: If your son or my son handled classified information the way Hillary Clinton did… QUIJANO: … one hundred thousand of them children — Governor… PENCE: … they’d be court martialed. KAINE: That is absolutely false and you know that. PENCE: Absolutely true. KAINE: And you know that, Governor. QUIJANO: Governor… PENCE: It’s absolutely true. QUIJANO: Gentlemen, please. KAINE: Because the FBI did an investigation. QUIJANO: Gentlemen. KAINE: And they concluded that there was no reasonable prosecutor who would take it further. Sorry. QUIJANO: Senator Kaine, Governor Pence, please. KAINE: Syria. QUIJANO: I want to turn now to Syria. Two hundred fifty thousand people, 100,000 of them children, are under siege in Aleppo, Syria. Bunker buster bombs, cluster munitions, and incendiary weapons are being dropped on them by Russian and Syrian militaries. Does the U.S. have a responsibility to protect civilians and prevent mass casualties on this scale, Governor Pence? PENCE: The United States of America needs to begin to exercise strong leadership to protect the vulnerable citizens and over 100,000 children in Aleppo. Hillary Clinton’s top priority when she became secretary of state was the Russian reset, the Russian reset. After the Russian reset, the Russians invaded Ukraine and took over Crimea. And the small and bullying leader of Russia is now dictating terms to the United States to the point where all the United States of America — the greatest nation on Earth — just withdraws from talks about a cease-fire while Vladimir Putin puts a missile defense system in Syria while he marshals the forces and begins — look, we have got to begin to lean into this with strong, broad-shouldered American leadership. It begins by rebuilding our military. And the Russians and the Chinese have been making enormous investments in the military. We have the smallest Navy since 1916. We have the lowest number of troops since the end of the Second World War. We’ve got to work with the Congress, and Donald Trump will, to rebuild our military and project American strength in the world. But about Aleppo and about Syria, I truly do believe that what America ought to do right now is immediately establish safe zones, so that families and vulnerable families with children can move out of those areas, work with our Arab partners, real time, right now, to make that happen. And secondly, I just have to tell you that the provocations by Russia need to be met with American strength. And if Russia chooses to be involved and continue, I should say, to be involved in this barbaric attack on civilians in Aleppo, the United States of America should be prepared to use military force to strike military targets of the Assad regime to prevent them from this humanitarian crisis that is taking place in Aleppo. There’s a broad range of other things that we ought to do, as well. We ought to deploy a missile defense shield to the Czech Republic and Poland which Hillary Clinton and Barack Obama pulled back on out of not wanting to offend the Russians back in 2009. QUIJANO: Governor, your two minutes are up. PENCE: We’ve just got to have American strength on the world stage. When Donald Trump becomes president of the United States, the Russians and other countries in the world will know they’re dealing with a strong American president. QUIJANO: Senator Kaine? KAINE: Hillary and I also agree that the establishment of humanitarian zones in northern Syria with the provision of international human aid, consistent with the U.N. Security Council resolution that was passed in February 2014, would be a very, very good idea. And Hillary also has the ability to stand up to Russia in a way that this ticket does not. Donald Trump, again and again, has praised Vladimir Putin. And it’s clear that he has business dealings with Russian oligarchs who are very connected to Putin. The Trump campaign management team had to be fired a month or so ago because of those shadowy connections with pro-Putin forces. Governor Pence made the odd claim, he said inarguably Vladimir Putin is a better leader than President Obama. Vladimir Putin has run his economy into the ground. He persecutes LGBT folks and journalists. If you don’t know the difference between dictatorship and leadership, then you got to go back to a fifth-grade civics class. I’ll tell you what offends me… PENCE: Well, that offended me. KAINE: Governor Pence just said — Governor Pence just said that Donald Trump will rebuild the military. No, he won’t. Donald Trump is avoiding paying taxes. The New York Times story — and we need to get this — but the New York Times suggested that he probably didn’t pay taxes for about 18 years starting in 1995. Those years included the years of 9/11. So get this. On 9/11, Hillary Clinton and Donald Trump’s hometown was attacked by the worst terrorist attack in the history of the United States. Young men and women — young men and women signed up to serve in the military to fight terrorism. Hillary Clinton went to Washington to get funds to rebuild her city and protect first responders, but Donald Trump was fighting a very different fight. It was a fight to avoid paying taxes so that he wouldn’t support the fight against terror. QUIJANO: The question was about Aleppo, Senator. KAINE: He wouldn’t support troops. He wouldn’t — he wouldn’t support — this is important, Elaine. When a guy running for president will not support the troops, not support veterans, not support teachers, that’s really important. QUIJANO: Right. KAINE: And I said about Aleppo, we do agree the notion is we have to create a humanitarian zone in northern Syria. It’s very important. QUIJANO: Governor Pence, you had mentioned a no-fly zone. Where would you propose setting up a safe zone specifically? How would you keep it safe? PENCE: Well, first and foremost, Donald Trump supports our troops. Donald Trump supports our veterans. KAINE: He won’t pay taxes. PENCE: Donald Trump has paid all the taxes that he’s — do you not take deductions? How does that work? QUIJANO: Gentlemen, this is about Syria. I’d like to…[crosstalk] PENCE: Honestly, Senator. Honestly, Senator. KAINE: It is about our troops. It is about our troops. PENCE: I understand why you want to change — I understand why you want to change the subject. KAINE: How can you support the troops if you won’t pay taxes? PENCE: I understand why you want to change the subject. And let me be very clear on this Russian thing. The larger question here… KAINE: Do you think Donald Trump is smart to not pay taxes? QUIJANO: Gentlemen, we’re going to have time to get to Russia here. PENCE: What we’re dealing with is the — you know, there’s an old proverb that says the Russian bear never dies, it just hibernates. And the truth of the matter is, the weak and feckless foreign policy of Hillary Clinton and Barack Obama has awakened an aggression in Russia that first appeared a few years ago with their move in Georgia, now their move into Crimea, now their move into the wider Middle East. And all the while, all we do is fold our arms and say we’re not having talks anymore. To answer your question, we just need American strength. We need to — we need to marshal the resources of our allies in the region, and in the immediate, we need to act and act now to get people out of harm’s way. QUIJANO: And exactly how would those safe zones work? How would they remain safe? PENCE: The — the safe zones would have to be — as the senator said, there’s already a framework for this that’s been recognized by the international community. The United States of America needs to be prepared to work with our allies in the region to create a route for safe passage and then to protect people in those areas, including with a no-fly zone. But, look, this is very tough stuff. I served on the Foreign Affairs Committee for a decade. I traveled in and out of that region for 10 years. I saw what the American soldier won in Operation Iraqi Freedom. And to see the weak and feckless leadership that Hillary Clinton was the architect of and the foreign policy of the Obama administration… KAINE: Well, let me — let me come back… PENCE: … is deeply troubling to me. That will all change the day Donald Trump becomes president of the United States. KAINE: … and talk about — let me talk about the things that Governor Pence doesn’t want to acknowledge, Elaine. He doesn’t want to acknowledge that we stopped the Iranian nuclear weapons program. He doesn’t want to acknowledge… PENCE: You didn’t. KAINE: … that Hillary was part of the team that got bin Laden. He doesn’t want to acknowledge… PENCE: I just did. KAINE: … that it’s a good thing, not a bad thing, that it’s a good thing — not a bad thing — that we’re down from 175,000 troops deployed overseas to 15,000. But let me tell you what will really make the Middle East dangerous. Donald Trump’s idea that more nations should get nuclear weapons, Saudi Arabia, Japan, South Korea. Ronald Reagan said something really interesting about nuclear proliferation back in the 1980s. He said the problem with nuclear proliferation is that some fool or maniac could trigger a catastrophic event. And I think that’s who Governor Pence’s running mate is, exactly who Governor Reagan warned us about. PENCE: And come on. Senator. Senator, that was even beneath you and Hillary Clinton. And that — that’s pretty low. KAINE: But do you — do you think — do you think we should have — more nuclear weapons in the world will make us safer? PENCE: Senator, the… KAINE: That’s what Donald Trump thinks. PENCE: Ronald Reagan also said nuclear war should never be fought because it can never be won. And the United States of America needs to make investments in modernizing our nuclear force for both deterrence… KAINE: But can you defend Donald Trump’s claim that more nations should get nuclear weapons? PENCE: … and assurance to our allies. But let me go back to this Iran thing. I mean, he keeps saying that they prevented — that Hillary Clinton started the deal with the Iranians prevented Iran from getting a nuclear weapon. [crosstalk] KAINE: That’s what the Israeli joint chiefs of staff is saying right now. PENCE: Well, that’s not what — that’s not what Israel thinks. KAINE: Gadi Eizenkot, you can go check it. PENCE: You wouldn’t necessarily know that. KAINE: Go to the tape. PENCE: I know you boycotted Prime Minister Netanyahu’s speech when he came before the Congress. KAINE: No, I visited him in his office. I visited him in his office. PENCE: You boycotted the speech. The point is, what this Iran — so-called Iran deal did was essentially guarantee — I mean, when I was in Congress, I fought hard on a bipartisan basis with Republican and Democrat members to move forward the toughest sanctions, it — literally in the history of the United States, against Iran. KAINE: And then Hillary used them to get a deal. PENCE: We were bringing them to heel, but the goal was always that we would only lift the sanctions if Iran permanently renounced their nuclear ambitions. KAINE: Elaine, let me just mention one thing. [crosstalk] PENCE: They have not — Elaine, let me finish a sentence. They have not renounced their nuclear ambitions. And when the deal’s period runs out, there’s no limitation on them obtaining weapons. That…[crosstalk] QUIJANO: And very quickly, Senator. KAINE: Elaine… PENCE: … and the fact that they got $1.7 billion in a ransom payment… QUIJANO: We need to talk about Russia. Very quickly, though, Senator, please. PENCE: … is astonishing to the American people. KAINE: Six times tonight, I have said to Governor Pence I can’t imagine how you can defend your running mate’s position on one issue after the next. And in all six cases, he’s refused to defend his running mate. PENCE: Well, let’s — no, no, don’t put words in my mouth. QUIJANO: All right. PENCE: He’s going…[crosstalk] KAINE: And yet he is asking everybody to vote for somebody that he cannot defend. And I just think that should be underlined. PENCE: No, I’m — look…[crosstalk] QUIJANO: All right, gentlemen, let’s talk about Russia. This is a topic that has come up. PENCE: I’m very, very happy to defend Donald Trump. If he wants to take these one at a time, I’ll take them one at a time. QUIJANO: I will give you an opportunity to do that. KAINE: More nations should get nuclear weapons. Try to defend that. PENCE: Don’t put words in my mouth. Well, he never said that, Senator. KAINE: He absolutely said it. Saudi Arabia, South Korea, Japan. PENCE: Most of the stuff you’ve said, he’s never said. QUIJANO: Gentlemen, Russia. Russian President Vladimir Putin invaded Ukraine, annexed Crimea, and has provided crucial military support to the Assad regime. What steps, if any, would your administration take to counter these actions? Senator Kaine? KAINE: You’ve got to be tough on Russia. So let’s start with not praising Vladimir Putin as a great leader. Donald Trump and Mike Pence have said he’s a great leader. And Donald Trump has business… PENCE: No, we haven’t. KAINE: … has business dealings — has business dealings with Russia that he refuses to disclose. Hillary Clinton has gone toe-to-toe with Russia. She went toe-to-toe with Russia as secretary of state to do the New START Agreement to reduce Russia’s nuclear stockpile. She’s had the experience doing it. She went toe-to-toe with Russia and lodged protests when they went into Georgia. And we’ve done the same thing about Ukraine, but more than launching protests, we’ve put punishing economic sanctions on Russia that we need to continue. Donald Trump, on the other hand, didn’t know that Russia had invaded the Crimea. PENCE: Oh, that’s nonsense. KAINE: He was on a TV show a couple months back, and he said, “I’ll guarantee you this, Russia’s not going into the Ukraine.” And he had to be reminded that they had gone into the Crimea two years before. PENCE: He knew that. KAINE: Hillary Clinton has gone toe-to-toe with Russia to work out a deal on New START. She got them engaged in a meaningful way to cap Iran’s nuclear weapons program. And yet she stood up to them on issues such as Syria and their invasion of Georgia. You’ve got to have the ability to do that, and Hillary does. On the other hand, in Donald Trump, you have somebody who praises Vladimir Putin all the time. America should really wonder about a President Trump, who had a campaign manager with ties to Putin, pro-Putin elements in the Ukraine, who had to be fired for that reason. They should wonder — when Donald Trump is sitting down with Vladimir Putin, is it going to be America’s bottom line or is it going to be Donald Trump’s bottom line that he’s going to be worried about with all of his business dealings? Now, this could be solved if Donald Trump would be willing to release his tax returns, as he told the American public that he would do. And I know he’s laughing at this, but every president… PENCE: But what’s it got to do with Russia? KAINE: Every president since Richard Nixon has done it, and Donald Trump has said I’m doing business with Russia. The only way the American public will see whether he has a conflict of interest… PENCE: No, he hasn’t said that. KAINE: He has, actually. QUIJANO: Senator, your time is up. Governor? PENCE: Well, thanks. I’m just trying to keep up with the insult-driven campaign on the other side of the table. KAINE: You know, I’m just saying facts about your running mate. PENCE: Yeah. KAINE: And I know you can’t defend. QUIJANO: Senator, please. This is the governor’s two minutes. PENCE: I’m happy to defend him, Senator. Don’t put words in my mouth that I’m not defending him. KAINE: You’re not. PENCE: I’m happy to defend him. Most of what you said is completely false, and the American people know that. KAINE: I’ll run through the list of things where you won’t defend… PENCE: This isn’t the old days where you can just say stuff and people believe it. QUIJANO: Senator, please. This is Governor Pence’s two minutes. PENCE: Look, this is the alternative universe of Washington, D.C., versus reality. Hillary Clinton said her number-one priority was a reset with Russia. That reset resulted in the invasion of Ukraine, after they’d infiltrated with what are called little green men, Russian soldiers that were dressing up like Ukrainian dissidents, and then they moved all the way into Crimea, took over the Crimean Peninsula. Donald Trump knew that happened. He basically was saying it’s not going to happen again. The truth of the matter is that what you have in the rise of aggressive Russia, which has had — increased its influence in Iran, that’s now — now because of this deal is on a pathway in the future to obtain a nuclear — the leading state sponsor of terror in the world in Iran now has a closer working relationship with Russia because of Hillary Clinton and Barack Obama’s foreign policy and $150 billion and sanctions all being lifted. And then, of course, Syria, I mean, it really is extraordinary that — Syria is imploding. You just asked a very thoughtful question about the disaster in Aleppo. ISIS is headquartered in Raqqa. It is — ISIS from Raqqa has overrun vast areas that at great sacrifice the American soldier won in Operation Iraqi Freedom, and yet Senator Kaine still sits here, loyal soldier — I get all that — in saying that the foreign policy of Hillary Clinton and Barack Obama somehow made the world more secure. I mean, it really is astonishing that on the day… KAINE: We wiped out the leader of Al Qaida. PENCE: … on the day that Iran released four American hostages… KAINE: We stopped Iran from getting nuclear weapons. QUIJANO: Governor… PENCE: … we delivered $400 million in cash as a ransom payment for Americans held by the radical mullahs in Tehran. [crosstalk] QUIJANO: Governor, yesterday, Mr. Trump said… KAINE: And we stopped a nuclear weapons program without a shot. QUIJANO: … quote, “Putin has no respect for Hillary Clinton and no respect for Obama.” Why do you think he’ll respect a Trump-Pence administration? PENCE: Strength. Plain and simple. KAINE: Business dealings. PENCE: Donald Trump — that’s nonsense. Donald Trump is a strong leader… KAINE: Donald Trump’s son says that the Trump organization… PENCE: … who is going to lead with American strength. QUIJANO: Please, Senator, I’ll give you a chance to respond. PENCE: We’re going to rebuild our military. And let me — let me — this whole Putin thing. Look, America is stronger than Russia. Our economy is 16 times larger than the Russian economy. America’s political system is superior to the crony, corrupt capitalist system in Russia in every way. When Donald Trump and I observe that, as I’ve said in Syria, in Iran, in Ukraine, that the small and bullying leader of Russia has been stronger on the world stage than this administration, that’s stating painful facts. That’s not an endorsement of Vladimir Putin. That’s an indictment of the weak and feckless leadership… QUIJANO: Senator Kaine? PENCE: … of Hillary Clinton and Barack Obama. KAINE: Well, this is one where we can just kind of go to the tape on it. But Governor Pence said, inarguably, Vladimir Putin is a better leader than President Obama. PENCE: That is absolutely inaccurate. KAINE: And — and — and I just think a guy who praises… PENCE: He said he’s stronger — he’s been stronger on the world stage. KAINE: No, he said leader. And if — and I’ll just say this, Governor. PENCE: You just said better. KAINE: If you mistake leadership for dictatorship, and you can’t tell the difference, a country that’s running its economy into the ground… PENCE: Yeah, here we go. This is the grade school thing again? KAINE: … persecuting journalists… PENCE: Right, this is grade school. KAINE: … if you can’t tell the difference, you shouldn’t be commander-in-chief. PENCE: Yeah. KAINE: And with Donald Trump — Donald Trump’s sons say that they have all these business dealings with Russia. Those could be disclosed with tax returns, but they refuse to do them. Americans need to worry about whether Donald Trump will be watching out for America’s bottom line or his own bottom line. QUIJANO: Senator Kaine, what went wrong with the Russia reset? KAINE: Vladimir Putin. Vladimir Putin is a dictator. QUIJANO: And what would do you differently? KAINE: Vladimir Putin is a dictator. He’s not a leader. Anybody who thinks otherwise doesn’t know Russian history and they don’t know Vladimir Putin. Hillary Clinton knows exactly who this guy is. John McCain said, I look in his eyes and I see KGB. And Hillary kind of has that same feeling. PENCE: Right. KAINE: So how do deal with him? You’ve got to — we do have to deal with Russia in a lot of different ways. There are areas where we can cooperate. So it was Hillary Clinton who worked with Russia on the New START Treaty to reduce their nuclear weapons stockpile. It was Hillary Clinton that worked with Russia to get them engaged in a community of nations to stop the Iranian nuclear weapons program without firing a shot. She’s not going around praising Vladimir Putin as a great guy. But she knows how to sit down at a table and negotiate tough deals. This is a very challenging part of the world, and we ought to have a commander-in-chief who is prepared and done it, rather than somebody who goes around praising Vladimir Putin as a great leader. QUIJANO: All right, I’d like to ask now about North Korea, Iran and the threat of nuclear weapons. North Korea recently conducted its fifth and most powerful nuclear test. PENCE: Right. QUIJANO: What specific steps would you take to prevent North Korea from developing a nuclear-armed missile capable of reaching the United States? Governor Pence? PENCE: Well, first, we need to — we need to make a commitment to rebuild our military, including modernizing our nuclear forces. And we also need — we also need an effective American diplomacy that will marshal the resources of nations in the Asian Pacific Rim to put pressure on North Korea, on Kim Jong-un, to abandon his nuclear ambitions. It has to remain the policy of the United States of America the denuclearization of the Korean Peninsula, plain and simple. And when Donald Trump is president of the United States, we’re — we’re not going to have the — the kind of posture in the world that has Russia invading Crimea and Ukraine, that has the Chinese building new islands in the South China Sea, that has literally the world, including North Korea, flouting American power. We’re going to — we’re going to go back to the days of peace through strength. But I have to tell you that — that all this talk about tax returns — and I get it, you know, you want to keep bringing that up. It must have — must have… KAINE: Until he…[crosstalk] PENCE: … done well in some focus group. But here — Hillary Clinton and her husband set up a private foundation called the Clinton Foundation. While she was secretary of state, the Clinton Foundation accepted tens of millions of dollars from foreign governments and foreign donors. Now, you all need to know out there, this is basic stuff. Foreign donors, and certainly foreign governments, cannot participate in the American political process. They cannot make financial contributions. But the Clintons figured out a way to create a foundation where foreign governments and foreign donors could donate millions of dollars. And then we found, thanks to the good work of the Associated Press, that more than half of her private meetings when she was secretary of state were given to major donors of the Clinton Foundation. When you talk about all these — all these baseless rumors about Russia and the rest, Hillary Clinton — you asked the trustworthy question at the very beginning — the reason… QUIJANO: Governor, your two minutes are up. PENCE: … the reason the American people don’t trust Hillary Clinton is because they are looking at the pay to play politics that she operated with the Clinton Foundation through a private server… QUIJANO: Governor, please. PENCE: … while she’s secretary of state. QUIJANO: Your two minutes are up, Governor. PENCE: And they’re saying enough is enough. QUIJANO: Senator Kaine? KAINE: I’m going to talk about the foundation, and then I’ll talk about North Korea. So, on the foundation. I am glad to talk about the foundation. The Clinton Foundation is one of the highest- rated charities in the world. It provides AIDS drugs to about 11.5 million people. It helps Americans deal with opioid overdoses. It gets higher rankings for its charity than the American Red Cross does. The Clinton Foundation does an awful lot of good work. Hillary Clinton as secretary of state took no action to benefit the foundation. The State Department did an investigation, and they concluded that everything Hillary Clinton did as secretary of state was completely in the interest of the United States. So the foundation does good work. And Hillary Clinton as secretary of state acted in the interests of the United States. But let’s compare this now with the Trump organization and the Trump Foundation. The Trump organization is an octopus-like organization with tentacles all over the world whose conflict of interests could only be known if Donald Trump would release his tax returns. He’s refused to do it. His sons have said that the organization has a lot of business dealings in Russia. And remember, the Trump organization is not a non-profit. It’s putting money into Donald Trump’s pockets and into the pockets of his children, whereas the Clinton Foundation is a non-profit and no Clinton family member draws any salary. PENCE: The Trump Foundation is a non-profit. KAINE: In addition, Donald Trump has a foundation. The foundation was just fined for illegally contributing foundation dollars to a political campaign of a Florida attorney general. They made an illegal contribution, and then they tried to hide it by disguising it to somebody else. And the person they donated to was somebody whose office was charged with investigating Trump University. This is the difference between a foundation that does good work and a secretary of state who acted in accord with American interest and somebody who is conflicted and doing work around the world and won’t share with the American public what he’s doing and what those conflicts are. QUIJANO: Governor, I will give you 30 seconds to respond, because I know you want to, but, again, I would remind you both this was about North Korea. [laughter] PENCE: Well, thank you. Thank you. The Trump Foundation is a private family foundation. They give virtually every cent in the Trump Foundation to charitable causes. KAINE: Political contributions? PENCE: Less than ten cents on the dollar in the Clinton Foundation has gone to charitable causes. KAINE: A $20,000 portrait of Donald Trump? PENCE: Less than 10 cents on the dollar of the Clinton Foundation has gone to charitable causes. KAINE: Ninety percent. PENCE: It has been a platform for the Clintons to travel the world, to have staff. But honestly, Senator, we would know a lot more about it if Hillary Clinton would just turn over the 33,000 e-mails… QUIJANO: All right, let’s turn back to North Korea… PENCE: … that she refused to turn over in her private server… QUIJANO: Senator Kaine… PENCE: … and we’d have a much better picture of what the Clinton Foundation was about. QUIJANO: Senator Kaine, if you had intelligence that North Korea was about to launch a missile, a nuclear-armed missile capable of reaching the United States, would you take preemptive action? KAINE: If we — look, a president should take action to defend the United States against imminent threat. You have to. A president has to do that. Now exactly what action, you would have to determine what your intelligence was, how certain you were of that intelligence, but you would have to take action. You asked the question about how do we deal with a North Korea. I’m on the Foreign Relations Committee. We just did an extensive sanctions package against North Korea. And interestingly enough, Elaine, the U.N. followed and did this — virtually the same package. Often China will use their veto in the Security Council to veto a package like that. They’re starting to get worried about North Korea, too. So they actually supported the sanctions package, even though many of the sanctions are against Chinese firms, Chinese financial institutions. So we’re working together with China, and we need to. China’s another one of those relationships where it’s competitive, it’s also challenging, and in times like North Korea, we have to be able to cooperate. Hillary understands that very well. She went once famously to China and stood up at a human rights meeting and looked them in the eye and said, “Women’s rights are human rights.” They didn’t want her to say that, but she did. But she’s also worked on a lot of diplomatic and important diplomatic deals with China. And that’s what it’s going to take. The thing I would worry a little bit about is that Donald Trump owes about $650 million to banks, including the Bank of China. I’m not sure he could stand up so tough to the people who have loaned him money. QUIJANO: All right. I’d like to turn to our next segment now. And in this, I’d like to focus on social issues. You have both been open about the role that faith has played in your lives. Can you discuss in detail a time when you struggled to balance your personal faith and a public policy position? Senator Kaine? KAINE: Yeah, that’s an easy one for me, Elaine. It’s an easy one. I’m really fortunate. I grew up in a wonderful household with great Irish Catholic parents. My mom and dad are sitting right here. I was educated by Jesuits at Rockhurst High School in Kansas City. My 40th reunion is in 10 days. And I worked with Jesuit missionaries in Honduras, now nearly 35 years ago, and they were the heroes of my life. I try to practice my religion in a very devout way and follow the teachings of my church in my own personal life. But I don’t believe in this nation, a First Amendment nation, where we don’t raise any religion over the other, and we allow people to worship as they please, that the doctrines of any one religion should be mandated for everyone. For me, the hardest struggle in my faith life was the Catholic Church is against the death penalty and so am I. But I was governor of a state, and the state law said that there was a death penalty for crimes if the jury determined them to be heinous. And so I had to grapple with that. When I was running for governor, I was attacked pretty strongly because of my position on the death penalty. But I looked the voters of Virginia in the eye and said, look, this is my religion. I’m not going to change my religious practice to get one vote, but I know how to take an oath and uphold the law. And if you elect me, I will uphold the law. And I was elected, and I did. It was very, very difficult to allow executions to go forward, but in circumstances where I didn’t feel like there was a case for clemency, I told Virginia voters I would uphold the law, and I did. That was a real struggle. But I think it is really, really important that those of us who have deep faith lives don’t feel like we could just substitute our own views for everybody else in society, regardless of their views. QUIJANO: Governor Pence? PENCE: Well, it’s a wonderful question. And my Christian faith is at the very heart of who I am. I was also raised in a wonderful family of faith. It was a church on Sunday morning and grace before dinner. But my Christian faith became real for me when I made a personal decision for Christ when I was a freshman in college. And I’ve tried to live that out however imperfectly every day of my life since. And with my wife at my side, we’ve followed a calling into public service, where we’ve — we’ve tried to — we’ve tried to keep faith with the values that we cherish. And with regard to when I struggle, I appreciate, and — and — and — I have a great deal of respect for Senator Kaine’s sincere faith. I truly do. KAINE: That’s shared. PENCE: But for me, I would tell you that for me the sanctity of life proceeds out of the belief that — that ancient principle that — where God says before you were formed in the womb, I knew you, and so for my first time in public life, I sought to stand with great compassion for the sanctity of life. The state of Indiana has also sought to make sure that we expand alternatives in health care counseling for women, non-abortion alternatives. I’m also very pleased at the fact we’re well on our way in Indiana to becoming the most pro-adoption state in America. I think if you’re going to be pro-life, you should — you should be pro-adoption. But what I can’t understand is with Hillary Clinton and now Senator Kaine at her side is to support a practice like partial-birth abortion. I mean, to hold to the view — and I know Senator Kaine, you hold pro-life views personally — but the very idea that a child that is almost born into the world could still have their life taken from them is just anathema to me. And I cannot — I can’t conscience about — about a party that supports that. Or that — I know you’ve historically opposed taxpayer funding of abortion. But Hillary Clinton wants to — wants to repeal the longstanding provision in the law where we said we wouldn’t use taxpayer dollars to fund abortion. So for me, my faith informs my life. I try and spend a little time on my knees every day. But it all for me begins with cherishing the dignity, the worth, the value of every human life. KAINE: Elaine, this is a fundamental question, a fundamental question. Hillary and I are both people out of religious backgrounds, from Methodist church experience, which was really formative for her as a public servant. But we really feel like you should live fully and with enthusiasm the commands of your faith. But it is not the role of the public servant to mandate that for everybody else. So let’s talk about abortion and choice. Let’s talk about them. We support Roe v. Wade. We support the constitutional right of American women to consult their own conscience, their own supportive partner, their own minister, but then make their own decision about pregnancy. That’s something we trust American women to do that. And we don’t think that women should be punished, as Donald Trump said they should, for making the decision to have an abortion. Governor Pence wants to repeal Roe v. Wade. He said he wants to put it on the ash heap of history. And we have some young people in the audience who weren’t even born when Roe was decided. This is pretty important. Before Roe v. Wade, states could pass criminal laws to do just that, to punish women if they made the choice to terminate a pregnancy. I think you should live your moral values. But the last thing, the very last thing that government should do is have laws that would punish women who make reproductive choices. And that is the fundamental difference between a Clinton-Kaine ticket and a Trump-Pence ticket that wants to punish women who make that choice. PENCE: No, it’s really not. Donald Trump and I would never support legislation that punished women who made the heartbreaking choice to end a pregnancy. KAINE: Then why did Donald Trump say that? PENCE: We just never would. KAINE: Why did he say that? PENCE: Well, look, it’s — look, he’s not a polished politician like you and Hillary Clinton. And so… KAINE: Well, I would admit that’s not a polished…[crosstalk] PENCE: You know, things don’t always come out exactly the way he means them. KAINE: Well, can I say… PENCE: But I’m telling you what the policy of our administration would be. KAINE: Great line from the — great line from the gospel of Matthew. From the fullness of the heart, the mouth speaks. PENCE: Yeah. KAINE: When Donald Trump says women should be punished or Mexicans are rapists and criminals… PENCE: I’m telling you… KAINE: … or John McCain is not a hero, he is showing you who he is. PENCE: Senator, you’ve whipped out that Mexican thing again. He — look… KAINE: Can you defend it? PENCE: There are criminal aliens in this country, Tim, who have come into this country illegally who are perpetrating violence and taking American lives. KAINE: You want to — you want to use a big broad brush against Mexicans on that? PENCE: He also said and many of them are good people. You keep leaving that out of your quote. And if you want me to go there, I’ll go there. But here’s — there is a choice, and it is a choice on life. I couldn’t be more proud to be standing with Donald Trump, who’s standing for the right to life. It’s a principle that — Senator Kaine — and I’m very gentle about this, because I really do respect you — it’s a principle that you embrace. And I have appreciated the fact that you’ve supported the Hyde amendment, which bans the use of taxpayer funding for abortion, in the past, but that’s not Hillary Clinton’s view. People need to understand, we can come together as a nation. We can create a culture of life. More and more young people today are embracing life because we know we are — we’re better for it. We can — like Mother Teresa said at that famous national prayer breakfast… KAINE: This is important — PENCE: … bring the — let’s welcome the children into our world. There are so many families around the country who can’t have children. We could improve adoption… KAINE: But, Governor… PENCE: … so that families that can’t have children can adopt more readily those children from crisis pregnancies. KAINE: Governor, why don’t you trust women to make this choice for themselves? We can encourage people to support life. Of course we can. But why don’t you trust women? Why doesn’t Donald Trump trust women to make this choice for themselves? That’s what we ought to be doing in public life. Living our lives of faith or motivation with enthusiasm and excitement, convincing each other, dialoguing with each other about important moral issues of the day… PENCE: Because there are… KAINE: … but on fundamental issues of morality, we should let women make their own decisions. PENCE: Because there is — a society can be judged by how it deals with its most vulnerable, the aged, the infirm, the disabled, and the unborn. I believe it with all my heart. And I couldn’t be more proud to be standing with a pro-life candidate in Donald Trump. QUIJANO: I do have one final question for you both tonight. It has been a divisive campaign. Senator Kaine, if your ticket wins, what specifically are you going to do to unify the country and reassure the people who voted against you? KAINE: That’s a really important one. That may be the $64,000 question, because it has been a divisive campaign. And again, Hillary is running a campaign about stronger together, and Donald Trump — and this is — this is not directed at this man, except to the extent that he can’t defend Donald Trump — Donald Trump has run a campaign that’s been about one insult after the next. But we do have to bring the country together. So here’s what we’ll do. Hillary Clinton was first lady, then senator for eight years and secretary of state. And I served in the Senate. And I’m really amazed, Elaine, as I talk to Republican senators, how well they regard and respect Hillary Clinton. She was on the Armed Services Committee. She was on other committees. She worked across the aisle when she was first lady to get the CHIP program passed so that 8 million low-income kids have health insurance in this country, including 150,000 in Indiana. She worked across the aisle after 9/11 to get health benefits for the first responders who bravely went into the towers and into the Pentagon. She worked to get benefits for — TRICARE benefits for National Guard members, including Hoosiers and Virginians in the National Guard. She has a track record of working across the aisle to make things happen. And, you know, Elaine, I have the same track record. I was a governor of Virginia with two Republican houses. And in the Senate, I have good working relationships across the aisle. Because I think it’s fine to be a Democrat or Republican or independent, but after Election Day, the goal is work together. And Hillary Clinton has a track record of accomplishment across the aisle that will enable her to do just that when we work with the new Congress in January. QUIJANO: Governor, how will you unify the country if you win? PENCE: Well, thank you, Elaine, and thanks for a great discussion… KAINE: Absolutely. PENCE: … tonight. Thank you, Senator. This is a very challenging time in the life of our nation. Weakened America’s place in the world after the leadership of Hillary Clinton and Barack Obama on the world stage has been followed by an economy that is truly struggling, stifled by an avalanche of more taxes, more regulation, Obamacare, the war on coal, and the kind of trade deals that have put American workers in the back seat. I think the best way that we can bring people together is through change in Washington, D.C. You know, I served in Washington, D.C., for 12 years in the Congress of the United States. And I served with many Republicans and Democrats, men and women of goodwill. The potential is there to really change the direction of this country, but it’s going to take leadership to do it. The American people want to see our nation standing tall on the world stage again. They want to see us supporting our military, rebuilding our military, commanding the respect of the world, and they want to see the American economy off to the races again. They want to see an American comeback. And Donald Trump’s entire career has been about building. It’s been about — it’s going through hardship just like a businessperson does and finding a way through smarts and ingenuity and resilience to fight forward and — when Donald Trump becomes president of the United States, we’re going to have a stronger America. When you hear him say he wants to make America great again, when we do that, I truly do believe the American people are going to be standing taller. They’re going to see that real change can happen after decades of just talking about it. And when that happens, the American people are going to stand tall, stand together, and we’ll have the kind of unity that’s been missing for way too long. QUIJANO: All right, gentlemen, thank you so much. This concludes the vice presidential debate. My thanks to the candidates, the commission, and to you for watching. Please tune in this Sunday for the second presidential debate at Washington University in St. Louis and the final debate on October 19th at the University of Nevada, Las Vegas. From Farmville, Virginia, I’m Elaine Quijano of CBS News. Good night. © COPYRIGHT 2020 THE COMMISSION ON PRESIDENTIAL DEBATES. ALL RIGHTS RESERVED.'"
      ]
     },
     "execution_count": 8,
     "metadata": {},
     "output_type": "execute_result"
    }
   ],
   "source": [
    "df['text'][5]"
   ]
  },
  {
   "cell_type": "code",
   "execution_count": 9,
   "metadata": {},
   "outputs": [
    {
     "data": {
      "text/plain": [
       "93"
      ]
     },
     "execution_count": 9,
     "metadata": {},
     "output_type": "execute_result"
    }
   ],
   "source": [
    "len(debatelink)"
   ]
  },
  {
   "cell_type": "code",
   "execution_count": 10,
   "metadata": {},
   "outputs": [],
   "source": [
    "# req = requests.get('https://www.presidency.ucsb.edu/documents/republican-candidates-debate-des-moines-iowa-1')"
   ]
  },
  {
   "cell_type": "code",
   "execution_count": 11,
   "metadata": {},
   "outputs": [],
   "source": [
    "# req = requests.get('https://www.presidency.ucsb.edu/documents/republican-candidates-debate-des-moines-iowa-1')"
   ]
  },
  {
   "cell_type": "code",
   "execution_count": 12,
   "metadata": {},
   "outputs": [],
   "source": [
    "# req.status_code"
   ]
  },
  {
   "cell_type": "code",
   "execution_count": 13,
   "metadata": {},
   "outputs": [],
   "source": [
    "# req.content"
   ]
  },
  {
   "cell_type": "code",
   "execution_count": 14,
   "metadata": {},
   "outputs": [],
   "source": [
    "# req.text"
   ]
  },
  {
   "cell_type": "code",
   "execution_count": 15,
   "metadata": {},
   "outputs": [],
   "source": [
    "# sitesoup = BeautifulSoup(req.content)"
   ]
  },
  {
   "cell_type": "code",
   "execution_count": 16,
   "metadata": {},
   "outputs": [],
   "source": [
    "# [tag.text for tag in sitesoup.select('p')]"
   ]
  },
  {
   "cell_type": "code",
   "execution_count": 17,
   "metadata": {},
   "outputs": [
    {
     "data": {
      "text/plain": [
       "[]"
      ]
     },
     "execution_count": 17,
     "metadata": {},
     "output_type": "execute_result"
    }
   ],
   "source": [
    "import re \n",
    "# Function to extract text between all-caps words followed by a colon\n",
    "def extract_text_segments(text, name):\n",
    "    pattern = f\"{name}:\\s*([\\s\\S]*?)(?=(?:[A-Z]+\\s*:\\s*|$))\"\n",
    "    matches = re.finditer(pattern, text)\n",
    "    indices = [(match.start(), match.end()) for match in matches]\n",
    "\n",
    "    extracted_texts = []\n",
    "    for i in range(len(indices) - 1):\n",
    "        start = indices[i][0]\n",
    "        end = indices[i][1]\n",
    "        extracted_text = text[start:end].strip()\n",
    "        extracted_texts.append(extracted_text)\n",
    "\n",
    "    return extracted_texts\n",
    "\n",
    "extract_text_segments(df['text'][5], 'CLINTON')"
   ]
  },
  {
   "cell_type": "markdown",
   "metadata": {},
   "source": [
    "loop through dftext get just clinton, add that extracted text to a row 'clinton' in new dataframe\n",
    "- year = \n",
    "- dict = {'Year':None, \n",
    "        'Name':None \n",
    "        'Text': None\n",
    "- df2 = pd.DataFrame(dict) \n",
    "- df2.loc[len(df.index)] = ['year, 'name', extracted text]  \n",
    "- split last 4 characters of 'date' value in df"
   ]
  },
  {
   "cell_type": "code",
   "execution_count": 18,
   "metadata": {},
   "outputs": [],
   "source": [
    "# names = ['CLINTON', 'TRUMP', 'OBAMA', 'ROMNEY',\n",
    "#         'MCCAIN', 'BUSH', 'KERRY', 'GORE', 'CLINTON', 'DOLE',\n",
    "#         'DUKAKIS', 'REAGAN', 'MONDALE', 'CARTER', 'FORD', 'NIXON',\n",
    "#         'KENNEDY', 'ANDERSON']\n",
    "\n",
    "# dict = {'Year':[None], \n",
    "#         'Name':[None], \n",
    "#         'Text': [None]}\n",
    "# df2 = pd.DataFrame(dict) \n",
    "                            \n",
    "# def text_extractor(data):\n",
    "#     for row in data:\n",
    "#         for name in names:\n",
    "#             extracted_text = extract_text_segments(data, name)\n",
    "#             year = df['date'].str[-4:]\n",
    "#             df2.loc[len(df.index)] = [year, name, extracted_text]\n",
    "#     return df2\n",
    "\n",
    "# text_extractor(df['text'])"
   ]
  },
  {
   "cell_type": "code",
   "execution_count": 19,
   "metadata": {},
   "outputs": [
    {
     "name": "stderr",
     "output_type": "stream",
     "text": [
      "/Users/shelleywang/miniconda3/envs/tensorflow_test/lib/python3.10/site-packages/pandas/core/dtypes/cast.py:965: VisibleDeprecationWarning: Creating an ndarray from ragged nested sequences (which is a list-or-tuple of lists-or-tuples-or ndarrays with different lengths or shapes) is deprecated. If you meant to do this, you must specify 'dtype=object' when creating the ndarray.\n",
      "  element = np.asarray(element)\n"
     ]
    },
    {
     "name": "stdout",
     "output_type": "stream",
     "text": [
      "     Year      Name                                               Text\n",
      "0    2016   CLINTON  [CLINTON: Thank you very much, Chris. And than...\n",
      "1    2016   CLINTON  [CLINTON: Well, thank you. Are you a teacher? ...\n",
      "2    2016   CLINTON  [CLINTON: How are you, Donald? [applause], CLI...\n",
      "3    1996   CLINTON  [CLINTON: I was going to applaud, too. Well, t...\n",
      "4    1996   CLINTON  [CLINTON: Thank you, Jim. And thank you to the...\n",
      "..    ...       ...                                                ...\n",
      "163  1960   KENNEDY  [KENNEDY: In the first place I’ve never sugges...\n",
      "164  1960   KENNEDY  [KENNEDY: Good evening, Mr. Shadel. MR., KENNE...\n",
      "165  1960   KENNEDY  [KENNEDY: Good evening, Mr. Howe. MR., KENNEDY...\n",
      "166  1980  ANDERSON  [ANDERSON: Miss Loomis, I think it’s very appr...\n",
      "167  1980  ANDERSON  [ANDERSON: Miss Loomis, I think it’s very appr...\n",
      "\n",
      "[168 rows x 3 columns]\n"
     ]
    }
   ],
   "source": [
    "import pandas as pd\n",
    "\n",
    "names = ['CLINTON', 'TRUMP', 'OBAMA', 'ROMNEY', 'MCCAIN', 'BUSH', 'KERRY', 'GORE', 'CLINTON', 'DOLE', 'DUKAKIS', 'REAGAN', 'MONDALE', 'CARTER', 'FORD', 'NIXON', 'KENNEDY', 'ANDERSON']\n",
    "\n",
    "dict2 = {'Year': [], 'Name': [], 'Text': []}\n",
    "df2 = pd.DataFrame(dict2)\n",
    "\n",
    "def text_extractor(data):\n",
    "    for name in names:\n",
    "        for index, row in df.iterrows():\n",
    "            if name in row['text']:\n",
    "                extracted_text = extract_text_segments(row['text'], name)\n",
    "                year = row['date'][-4:]\n",
    "                df2.loc[len(df2.index)] = [year, name, extracted_text]\n",
    "    return df2\n",
    "\n",
    "result_df = text_extractor(df)\n",
    "print(result_df)\n"
   ]
  },
  {
   "cell_type": "code",
   "execution_count": 20,
   "metadata": {},
   "outputs": [],
   "source": [
    "# result_df['Text'] = \" \".join(map(str, result_df['Text']))"
   ]
  },
  {
   "cell_type": "code",
   "execution_count": 21,
   "metadata": {},
   "outputs": [
    {
     "data": {
      "text/plain": [
       "['CLINTON: Well, thank you. Are you a teacher? Yes, I think that that’s a very good question, because I’ve heard from lots of teachers and parents about some of their concerns about some of the things that are being said and done in this campaign. And I think it is very important for us to make clear to our children that our country really is great because we’re good. And we are going to respect one another, lift each other up. We are going to be looking for ways to celebrate our diversity, and we are going to try to reach out to every boy and girl, as well as every adult, to bring them in to working on behalf of our country. I have a very positive and optimistic view about what we can do together. That’s why the slogan of my campaign is “Stronger Together,” because I think if we work together, if we overcome the divisiveness that sometimes sets Americans against one another, and instead we make some big goals—and I’ve set forth some big goals, getting the economy to work for everyone, not just those at the top, making sure that we have the best education system from preschool through college and making it affordable, and so much else. If we set those goals and we go together to try to achieve them, there’s nothing in my opinion that America can’t do. So that’s why I hope that we will come together in this campaign. Obviously, I’m hoping to earn your vote, I’m hoping to be elected in November, and I can promise you, I will work with every American. I want to be the president for all Americans, regardless of your political beliefs, where you come from, what you look like, your religion. I want us to heal our country and bring it together because that’s, I think, the best way for us to get the future that our children and our grandchildren deserve.',\n",
       " 'CLINTON: Well, like everyone else, I’ve spent a lot of time thinking over the last 48 hours about what we heard and saw. You know, with prior Republican nominees for president, I disagreed with them on politics, policies, principles, but I never questioned their fitness to serve. Donald Trump is different. I said starting back in June that he was not fit to be president and commander-in-chief. And many Republicans and independents have said the same thing. What we all saw and heard on Friday was Donald talking about women, what he thinks about women, what he does to women. And he has said that the video doesn’t represent who he is. But I think it’s clear to anyone who heard it that it represents exactly who he is. Because we’ve seen this throughout the campaign. We have seen him insult women. We’ve seen him rate women on their appearance, ranking them from one to ten. We’ve seen him embarrass women on TV and on Twitter. We saw him after the first debate spend nearly a week denigrating a former Miss Universe in the harshest, most personal terms. So, yes, this is who Donald Trump is. But it’s not only women, and it’s not only this video that raises questions about his fitness to be our president, because he has also targeted immigrants, African-Americans, Latinos, people with disabilities, POWs, Muslims, and so many others. So this is who Donald Trump is. And the question for us, the question our country must answer is that this is not who we are. That’s why—to go back to your question—I want to send a message—we all should—to every boy and girl and, indeed, to the entire world that America already is great, but we are great because we are good, and we will respect one another, and we will work with one another, and we will celebrate our diversity. These are very important values to me, because this is the America that I know and love. And I can pledge to you tonight that this is the America that I will serve if I’m so fortunate enough to become your president.',\n",
       " 'CLINTON: Well, first, let me start by saying that so much of what he’s just said is not right, but he gets to run his campaign any way he chooses. He gets to decide what he wants to talk about. Instead of answering people’s questions, talking about our agenda, laying out the plans that we have that we think can make a better life and a better country, that’s his choice. When I hear something like that, I am reminded of what my friend, Michelle Obama, advised us all: When they go low, you go high. [applause] And, look, if this were just about one video, maybe what he’s saying tonight would be understandable, but everyone can draw their own conclusions at this point about whether or not the man in the video or the man on the stage respects women. But he never apologizes for anything to anyone. He never apologized to Mr. and Mrs. Khan, the Gold Star family whose son, Captain Khan, died in the line of duty in Iraq. And Donald insulted and attacked them for weeks over their religion. He never apologized to the distinguished federal judge who was born in Indiana, but Donald said he couldn’t be trusted to be a judge because his parents were, quote, “Mexican.” He never apologized to the reporter that he mimicked and mocked on national television and our children were watching. And he never apologized for the racist lie that President Obama was not born in the United States of America. He owes the president an apology, he owes our country an apology, and he needs to take responsibility for his actions and his words.',\n",
       " 'CLINTON: … because everything he just said is absolutely false, but I’m not surprised.',\n",
       " 'CLINTON: In the first debate…[laughter]',\n",
       " 'CLINTON: … I told people that it would be impossible to be fact-checking Donald all the time. I’d never get to talk about anything I want to do and how we’re going to really make lives better for people. So, once again, go to HillaryClinton.com. We have literally Trump—you can fact check him in real time. Last time at the first debate, we had millions of people fact checking, so I expect we’ll have millions more fact checking, because, you know, it is—it’s just awfully good that someone with the temperament of Donald Trump is not in charge of the law in our country.',\n",
       " 'CLINTON: Well, Martha, first, let me say—and I’ve said before, but I’ll repeat it, because I want everyone to hear it—that was a mistake, and I take responsibility for using a personal e-mail account. Obviously, if I were to do it over again, I would not. I’m not making any excuses. It was a mistake. And I am very sorry about that. But I think it’s also important to point out where there are some misleading accusations from critics and others. After a year-long investigation, there is no evidence that anyone hacked the server I was using and there is no evidence that anyone can point to at all—anyone who says otherwise has no basis—that any classified material ended up in the wrong hands. I take classified materials very seriously and always have. When I was on the Senate Armed Services Committee, I was privy to a lot of classified material. Obviously, as secretary of state, I had some of the most important secrets that we possess, such as going after Bin Laden. So I am very committed to taking classified information seriously. And as I said, there is no evidence that any classified information ended up in the wrong hands.',\n",
       " 'CLINTON: Look, it’s just not true. And so please, go to…',\n",
       " 'CLINTON: It was personal e-mails, not official.',\n",
       " 'CLINTON: Not—well, we turned over 35,000, so…',\n",
       " 'CLINTON: Yes, that’s true, I didn’t.',\n",
       " 'CLINTON: I didn’t in the first debate, and I’m going to try not to in this debate, because I’d like to get to the questions that the people have brought here tonight to talk to us about.',\n",
       " 'CLINTON: OK, Donald. I know you’re into big diversion tonight, anything to avoid talking about your campaign and the way it’s exploding and the way Republicans are leaving you. But let’s at least focus…',\n",
       " 'CLINTON: … on some of the issues that people care about tonight. Let’s get to their questions.',\n",
       " 'CLINTON: If he wants to start, he can start. No, go ahead, Donald.',\n",
       " 'CLINTON: Well, I think Donald was about to say he’s going to solve it by repealing it and getting rid of the Affordable Care Act. And I’m going to fix it, because I agree with you. Premiums have gotten too high. Copays, deductibles, prescription drug costs, and I’ve laid out a series of actions that we can take to try to get those costs down. But here’s what I don’t want people to forget when we’re talking about reining in the costs, which has to be the highest priority of the next president, when the Affordable Care Act passed, it wasn’t just that 20 million people got insurance who didn’t have it before. But that in and of itself was a good thing. I meet these people all the time, and they tell me what a difference having that insurance meant to them and their families. But everybody else, the 170 million of us who get health insurance through our employers got big benefits. Number one, insurance companies can’t deny you coverage because of a pre-existing condition. Number two, no lifetime limits, which is a big deal if you have serious health problems. Number three, women can’t be charged more than men for our health insurance, which is the way it used to be before the Affordable Care Act. Number four, if you’re under 26, and your parents have a policy, you can be on that policy until the age of 26, something that didn’t happen before. So I want very much to save what works and is good about the Affordable Care Act. But we’ve got to get costs down. We’ve got to provide some additional help to small businesses so that they can afford to provide health insurance. But if we repeal it, as Donald has proposed, and start over again, all of those benefits I just mentioned are lost to everybody, not just people who get their health insurance on the exchange. And then we would have to start all over again. Right now, we are at 90 percent health insurance coverage. That’s the highest we’ve ever been in our country.',\n",
       " 'CLINTON: So I want us to get to 100 percent, but get costs down and keep quality up.',\n",
       " 'CLINTON: No, I mean, he clarified what he meant. And it’s very clear. Look, we are in a situation in our country where if we were to start all over again, we might come up with a different system. But we have an employer-based system. That’s where the vast majority of people get their health care. And the Affordable Care Act was meant to try to fill the gap between people who were too poor and couldn’t put together any resources to afford health care, namely people on Medicaid. Obviously, Medicare, which is a single-payer system, which takes care of our elderly and does a great job doing it, by the way, and then all of the people who were employed, but people who were working but didn’t have the money to afford insurance and didn’t have anybody, an employer or anybody else, to help them. That was the slot that the Obamacare approach was to take. And like I say, 20 million people now have health insurance. So if we just rip it up and throw it away, what Donald’s not telling you is we just turn it back to the insurance companies the way it used to be, and that means the insurance companies…',\n",
       " 'CLINTON: … get to do pretty much whatever they want, including saying, look, I’m sorry, you’ve got diabetes, you had cancer, your child has asthma…',\n",
       " 'CLINTON: … you may not be able to have insurance because you can’t afford it. So let’s fix what’s broken about it, but let’s not throw it away and give it all back to the insurance companies and the drug companies. That’s not going to work.',\n",
       " 'CLINTON: Well, thank you for asking your question. And I’ve heard this question from a lot of Muslim-Americans across our country, because, unfortunately, there’s been a lot of very divisive, dark things said about Muslims. And even someone like Captain Khan, the young man who sacrificed himself defending our country in the United States Army, has been subject to attack by Donald. I want to say just a couple of things. First, we’ve had Muslims in America since George Washington. And we’ve had many successful Muslims. We just lost a particularly well-known one with Muhammad Ali. My vision of America is an America where everyone has a place, if you’re willing to work hard, you do your part, you contribute to the community. That’s what America is. That’s what we want America to be for our children and our grandchildren. It’s also very short-sighted and even dangerous to be engaging in the kind of demagogic rhetoric that Donald has about Muslims. We need American Muslims to be part of our eyes and ears on our front lines. I’ve worked with a lot of different Muslim groups around America. I’ve met with a lot of them, and I’ve heard how important it is for them to feel that they are wanted and included and part of our country, part of our homeland security, and that’s what I want to see. It’s also important I intend to defeat ISIS, to do so in a coalition with majority Muslim nations. Right now, a lot of those nations are hearing what Donald says and wondering, why should we cooperate with the Americans? And this is a gift to ISIS and the terrorists, violent jihadist terrorists. We are not at war with Islam. And it is a mistake and it plays into the hands of the terrorists to act as though we are. So I want a country where citizens like you and your family are just as welcome as anyone else.',\n",
       " 'CLINTON: Well, first of all, I will not let anyone into our country that I think poses a risk to us. But there are a lot of refugees, women and children—think of that picture we all saw of that 4-year-old boy with the blood on his forehead because he’d been bombed by the Russian and Syrian air forces. There are children suffering in this catastrophic war, largely, I believe, because of Russian aggression. And we need to do our part. We by no means are carrying anywhere near the load that Europe and others are. But we will have vetting that is as tough as it needs to be from our professionals, our intelligence experts and others. But it is important for us as a policy, you know, not to say, as Donald has said, we’re going to ban people based on a religion. How do you do that? We are a country founded on religious freedom and liberty. How do we do what he has advocated without causing great distress within our own county? Are we going to have religious tests when people fly into our country? And how do we expect to be able to implement those? So I thought that what he said was extremely unwise and even dangerous. And indeed, you can look at the propaganda on a lot of the terrorist sites, and what Donald Trump says about Muslims is used to recruit fighters, because they want to create a war between us. And the final thing I would say, this is the 10th or 12th time that he’s denied being for the war in Iraq. We have it on tape. The entire press corps has looked at it. It’s been debunked, but it never stops him from saying whatever he wants to say.',\n",
       " 'CLINTON: So, please…',\n",
       " 'CLINTON: … go to HillaryClinton.com and you can see it.',\n",
       " 'CLINTON: Well, right. As I recall, that was something I said about Abraham Lincoln after having seen the wonderful Steven Spielberg movie called “Lincoln.” It was a master class watching President Lincoln get the Congress to approve the 13th Amendment. It was principled, and it was strategic. And I was making the point that it is hard sometimes to get the Congress to do what you want to do and you have to keep working at it. And, yes, President Lincoln was trying to convince some people, he used some arguments, convincing other people, he used other arguments. That was a great—I thought a great display of presidential leadership. But, you know, let’s talk about what’s really going on here, Martha, because our intelligence community just came out and said in the last few days that the Kremlin, meaning Putin and the Russian government, are directing the attacks, the hacking on American accounts to influence our election. And WikiLeaks is part of that, as are other sites where the Russians hack information, we don’t even know if it’s accurate information, and then they put it out. We have never in the history of our country been in a situation where an adversary, a foreign power, is working so hard to influence the outcome of the election. And believe me, they’re not doing it to get me elected. They’re doing it to try to influence the election for Donald Trump. Now, maybe because he has praised Putin, maybe because he says he agrees with a lot of what Putin wants to do, maybe because he wants to do business in Moscow, I don’t know the reasons. But we deserve answers. And we should demand that Donald release all of his tax returns so that people can see what are the entanglements and the financial relationships that he has…',\n",
       " 'CLINTON: … with the Russians and other foreign powers.',\n",
       " 'CLINTON: Well, everything you’ve heard just now from Donald is not true. I’m sorry I have to keep saying this, but he lives in an alternative reality. And it is sort of amusing to hear somebody who hasn’t paid federal income taxes in maybe 20 years talking about what he’s going to do. But I’ll tell you what he’s going to do. His plan will give the wealthy and corporations the biggest tax cuts they’ve ever had, more than the Bush tax cuts by at least a factor of two. Donald always takes care of Donald and people like Donald, and this would be a massive gift. And, indeed, the way that he talks about his tax cuts would end up raising taxes on middle-class families, millions of middle-class families. Now, here’s what I want to do. I have said nobody who makes less than $250,000 a year—and that’s the vast majority of Americans as you know—will have their taxes raised, because I think we’ve got to go where the money is. And the money is with people who have taken advantage of every single break in the tax code. And, yes, when I was a senator, I did vote to close corporate loopholes. I voted to close, I think, one of the loopholes he took advantage of when he claimed a billion-dollar loss that enabled him to avoid paying taxes. I want to have a tax on people who are making a million dollars. It’s called the Buffett rule. Yes, Warren Buffett is the one who’s gone out and said somebody like him should not be paying a lower tax rate than his secretary. I want to have a surcharge on incomes above $5 million. We have to make up for lost times, because I want to invest in you. I want to invest in hard-working families. And I think it’s been unfortunate, but it’s happened, that since the Great Recession, the gains have all gone to the top. And we need to reverse that. People like Donald, who paid zero in taxes, zero for our vets, zero for our military, zero for health and education, that is wrong.',\n",
       " 'CLINTON: And we’re going to make sure that nobody, no corporation, and no individual can get away without paying his fair share to support our country.',\n",
       " 'CLINTON: Well, here we go again. I’ve been in favor of getting rid of carried interest for years, starting when I was a senator from New York. But that’s not the point here.',\n",
       " 'CLINTON: Because I was a senator with a Republican president.',\n",
       " 'CLINTON: I will be the president and we will get it done. That’s exactly right.',\n",
       " 'CLINTON: You know, under our Constitution, presidents have something called veto power. Look, he has now said repeatedly, “30 years this and 30 years that.” So let me talk about my 30 years in public service. I’m very glad to do so. Eight million kids every year have health insurance, because when I was first lady I worked with Democrats and Republicans to create the Children’s Health Insurance Program. Hundreds of thousands of kids now have a chance to be adopted because I worked to change our adoption and foster care system. After 9/11, I went to work with Republican mayor, governor and president to rebuild New York and to get health care for our first responders who were suffering because they had run toward danger and gotten sickened by it. Hundreds of thousands of National Guard and Reserve members have health care because of work that I did, and children have safer medicines because I was able to pass a law that required the dosing to be more carefully done. When I was secretary of state, I went around the world advocating for our country, but also advocating for women’s rights, to make sure that women had a decent chance to have a better life and negotiated a treaty with Russia to lower nuclear weapons. Four hundred pieces of legislation have my name on it as a sponsor or cosponsor when I was a senator for eight years. I worked very hard and was very proud to be re-elected in New York by an even bigger margin than I had been elected the first time. And as president, I will take that work, that bipartisan work, that finding common ground, because you have to be able to get along with people to get things done in Washington.',\n",
       " 'CLINTON: And I’ve proven that I can, and for 30 years, I’ve produced results for people.',\n",
       " 'CLINTON: Well, the situation in Syria is catastrophic. And every day that goes by, we see the results of the regime by Assad in partnership with the Iranians on the ground, the Russians in the air, bombarding places, in particular Aleppo, where there are hundreds of thousands of people, probably about 250,000 still left. And there is a determined effort by the Russian air force to destroy Aleppo in order to eliminate the last of the Syrian rebels who are really holding out against the Assad regime. Russia hasn’t paid any attention to ISIS. They’re interested in keeping Assad in power. So I, when I was secretary of state, advocated and I advocate today a no-fly zone and safe zones. We need some leverage with the Russians, because they are not going to come to the negotiating table for a diplomatic resolution, unless there is some leverage over them. And we have to work more closely with our partners and allies on the ground. But I want to emphasize that what is at stake here is the ambitions and the aggressiveness of Russia. Russia has decided that it’s all in, in Syria. And they’ve also decided who they want to see become president of the United States, too, and it’s not me. I’ve stood up to Russia. I’ve taken on Putin and others, and I would do that as president. I think wherever we can cooperate with Russia, that’s fine. And I did as secretary of state. That’s how we got a treaty reducing nuclear weapons. It’s how we got the sanctions on Iran that put a lid on the Iranian nuclear program without firing a single shot. So I would go to the negotiating table with more leverage than we have now. But I do support the effort to investigate for crimes, war crimes committed by the Syrians and the Russians and try to hold them accountable.',\n",
       " 'CLINTON: No, I wasn’t. I was gone. I hate to interrupt you, but at some point…',\n",
       " 'CLINTON: At some point, we need to do some fact-checking here.',\n",
       " 'CLINTON: I would not use American ground forces in Syria. I think that would be a very serious mistake. I don’t think American troops should be holding territory, which is what they would have to do as an occupying force. I don’t think that is a smart strategy. I do think the use of special forces, which we’re using, the use of enablers and trainers in Iraq, which has had some positive effects, are very much in our interests, and so I do support what is happening, but let me just…',\n",
       " 'CLINTON: Well, Martha, I hope that by the time I—if I’m fortunate…',\n",
       " 'CLINTON: I hope by the time I am president that we will have pushed ISIS out of Iraq. I do think that there is a good chance that we can take Mosul. And, you know, Donald says he knows more about ISIS than the generals. No, he doesn’t. There are a lot of very important planning going on, and some of it is to signal to the Sunnis in the area, as well as Kurdish Peshmerga fighters, that we all need to be in this. And that takes a lot of planning and preparation. I would go after Baghdadi. I would specifically target Baghdadi, because I think our targeting of Al Qaida leaders—and I was involved in a lot of those operations, highly classified ones—made a difference. So I think that could help. I would also consider arming the Kurds. The Kurds have been our best partners in Syria, as well as Iraq. And I know there’s a lot of concern about that in some circles, but I think they should have the equipment they need so that Kurdish and Arab fighters on the ground are the principal way that we take Raqqa after pushing ISIS out of Iraq.',\n",
       " 'CLINTON: Well, 67 percent of the people voted to re-elect me when I ran for my second term, and I was very proud and very humbled by that. Mr. Carter, I have tried my entire life to do what I can to support children and families. You know, right out of law school, I went to work for the Children’s Defense Fund. And Donald talks a lot about, you know, the 30 years I’ve been in public service. I’m proud of that. You know, I started off as a young lawyer working against discrimination against African-American children in schools and in the criminal justice system. I worked to make sure that kids with disabilities could get a public education, something that I care very much about. I have worked with Latinos—one of my first jobs in politics was down in south Texas registering Latino citizens to be able to vote. So I have a deep devotion, to use your absolutely correct word, to making sure that every American feels like he or she has a place in our country. And I think when you look at the letters that I get, a lot of people are worried that maybe they wouldn’t have a place in Donald Trump’s America. They write me, and one woman wrote me about her son, Felix. She adopted him from Ethiopia when he was a toddler. He’s 10 years old now. This is the only country he’s ever known. And he listens to Donald on TV and he said to his mother one day, will he send me back to Ethiopia if he gets elected? You know, children listen to what is being said. To go back to the very, very first question. And there’s a lot of fear—in fact, teachers and parents are calling it the Trump effect. Bullying is up. A lot of people are feeling, you know, uneasy. A lot of kids are expressing their concerns. So, first and foremost, I will do everything I can to reach out to everybody.',\n",
       " 'CLINTON: Democrats, Republicans, independents, people across our country. If you don’t vote for me, I still want to be your president.',\n",
       " 'CLINTON: I want to be the best president I can be for every American.',\n",
       " 'CLINTON: Well, within hours I said that I was sorry about the way I talked about that, because my argument is not with his supporters. It’s with him and with the hateful and divisive campaign that he has run, and the inciting of violence at his rallies, and the very brutal kinds of comments about not just women, but all Americans, all kinds of Americans. And what he has said about African-Americans and Latinos, about Muslims, about POWs, about immigrants, about people with disabilities, he’s never apologized for. And so I do think that a lot of the tone and tenor that he has said—I’m proud of the campaign that Bernie Sanders and I ran. We ran a campaign based on issues, not insults. And he is supporting me 100 percent.',\n",
       " 'CLINTON: Because we talked about what we wanted to do. We might have had some differences, and we had a lot of debates…',\n",
       " 'CLINTON: No.',\n",
       " 'CLINTON: Well, it’s not only my opinion. It’s the opinion of many others, national security experts, Republicans, former Republican members of Congress. But it’s in part because those of us who have had the great privilege of seeing this job up close and know how difficult it is, and it’s not just because I watched my husband take a $300 billion deficit and turn it into a $200 billion surplus, and 23 million new jobs were created, and incomes went up for everybody. Everybody. African-American incomes went up 33 percent. And it’s not just because I worked with George W. Bush after 9/11, and I was very proud that when I told him what the city needed, what we needed to recover, he said you’ve got it, and he never wavered. He stuck with me. And I have worked and I admire President Obama. He inherited the worst financial crisis since the Great Depression. That was a terrible time for our country.',\n",
       " 'CLINTON: Nine million people lost their jobs.',\n",
       " 'CLINTON: Five million homes were lost.',\n",
       " 'CLINTON: And $13 trillion in family wealth was wiped out. We are back on the right track. He would send us back into recession with his tax plans that benefit the wealthiest of Americans.',\n",
       " 'CLINTON: Thank you. Well, you’re right. This is one of the most important issues in this election. I want to appoint Supreme Court justices who understand the way the world really works, who have real-life experience, who have not just been in a big law firm and maybe clerked for a judge and then gotten on the bench, but, you know, maybe they tried some more cases, they actually understand what people are up against. Because I think the current court has gone in the wrong direction. And so I would want to see the Supreme Court reverse Citizens United and get dark, unaccountable money out of our politics. Donald doesn’t agree with that. I would like the Supreme Court to understand that voting rights are still a big problem in many parts of our country, that we don’t always do everything we can to make it possible for people of color and older people and young people to be able to exercise their franchise. I want a Supreme Court that will stick with Roe v. Wade and a woman’s right to choose, and I want a Supreme Court that will stick with marriage equality. Now, Donald has put forth the names of some people that he would consider. And among the ones that he has suggested are people who would reverse Roe v. Wade and reverse marriage equality. I think that would be a terrible mistake and would take us backwards. I want a Supreme Court that doesn’t always side with corporate interests. I want a Supreme Court that understands because you’re wealthy and you can give more money to something doesn’t mean you have any more rights or should have any more rights than anybody else. So I have very clear views about what I want to see to kind of change the balance on the Supreme Court. And I regret deeply that the Senate has not done its job and they have not permitted a vote on the person that President Obama, a highly qualified person, they’ve not given him a vote to be able to be have the full complement of nine Supreme Court justices. I think that was a dereliction of duty. I hope that they will see their way to doing it, but if I am so fortunate enough as to be president, I will immediately move to make sure that we fill that, we have nine justices that get to work on behalf of our people.',\n",
       " 'CLINTON: Well…[crosstalk]',\n",
       " 'CLINTON: The question was about the Supreme Court. And I just want to quickly say, I respect the Second Amendment. But I believe there should be comprehensive background checks, and we should close the gun show loophole, and close the online loophole.',\n",
       " 'CLINTON: We have to save as many lives as we possibly can.',\n",
       " 'CLINTON: And actually—well, that was very interesting. First of all, China is illegally dumping steel in the United States and Donald Trump is buying it to build his buildings, putting steelworkers and American steel plants out of business. That’s something that I fought against as a senator and that I would have a trade prosecutor to make sure that we don’t get taken advantage of by China on steel or anything else. You know, because it sounds like you’re in the business or you’re aware of people in the business—you know that we are now for the first time ever energy-independent. We are not dependent upon the Middle East. But the Middle East still controls a lot of the prices. So the price of oil has been way down. And that has had a damaging effect on a lot of the oil companies, right? We are, however, producing a lot of natural gas, which serves as a bridge to more renewable fuels. And I think that’s an important transition. We’ve got to remain energy-independent. It gives us much more power and freedom than to be worried about what goes on in the Middle East. We have enough worries over there without having to worry about that. So I have a comprehensive energy policy, but it really does include fighting climate change, because I think that is a serious problem. And I support moving toward more clean, renewable energy as quickly as we can, because I think we can be the 21st century clean energy superpower and create millions of new jobs and businesses. But I also want to be sure that we don’t leave people behind. That’s why I’m the only candidate from the very beginning of this campaign who had a plan to help us revitalize coal country, because those coal miners and their fathers and their grandfathers, they dug that coal out. A lot of them lost their lives. They were injured, but they turned the lights on and they powered our factories. I don’t want to walk away from them. So we’ve got to do something for them.',\n",
       " 'CLINTON: But the price of coal is down worldwide. So we have to look at this comprehensively.',\n",
       " 'CLINTON: And that’s exactly what I have proposed. I hope you will go to HillaryClinton.com and look at my entire policy.']"
      ]
     },
     "execution_count": 21,
     "metadata": {},
     "output_type": "execute_result"
    }
   ],
   "source": [
    "result_df['Text'][1]"
   ]
  },
  {
   "cell_type": "code",
   "execution_count": 22,
   "metadata": {},
   "outputs": [],
   "source": [
    "result_df['Text']= [\" \".join(x) for x in result_df['Text']]"
   ]
  },
  {
   "cell_type": "code",
   "execution_count": 23,
   "metadata": {},
   "outputs": [
    {
     "data": {
      "text/plain": [
       "'CLINTON: Well, thank you. Are you a teacher? Yes, I think that that’s a very good question, because I’ve heard from lots of teachers and parents about some of their concerns about some of the things that are being said and done in this campaign. And I think it is very important for us to make clear to our children that our country really is great because we’re good. And we are going to respect one another, lift each other up. We are going to be looking for ways to celebrate our diversity, and we are going to try to reach out to every boy and girl, as well as every adult, to bring them in to working on behalf of our country. I have a very positive and optimistic view about what we can do together. That’s why the slogan of my campaign is “Stronger Together,” because I think if we work together, if we overcome the divisiveness that sometimes sets Americans against one another, and instead we make some big goals—and I’ve set forth some big goals, getting the economy to work for everyone, not just those at the top, making sure that we have the best education system from preschool through college and making it affordable, and so much else. If we set those goals and we go together to try to achieve them, there’s nothing in my opinion that America can’t do. So that’s why I hope that we will come together in this campaign. Obviously, I’m hoping to earn your vote, I’m hoping to be elected in November, and I can promise you, I will work with every American. I want to be the president for all Americans, regardless of your political beliefs, where you come from, what you look like, your religion. I want us to heal our country and bring it together because that’s, I think, the best way for us to get the future that our children and our grandchildren deserve. CLINTON: Well, like everyone else, I’ve spent a lot of time thinking over the last 48 hours about what we heard and saw. You know, with prior Republican nominees for president, I disagreed with them on politics, policies, principles, but I never questioned their fitness to serve. Donald Trump is different. I said starting back in June that he was not fit to be president and commander-in-chief. And many Republicans and independents have said the same thing. What we all saw and heard on Friday was Donald talking about women, what he thinks about women, what he does to women. And he has said that the video doesn’t represent who he is. But I think it’s clear to anyone who heard it that it represents exactly who he is. Because we’ve seen this throughout the campaign. We have seen him insult women. We’ve seen him rate women on their appearance, ranking them from one to ten. We’ve seen him embarrass women on TV and on Twitter. We saw him after the first debate spend nearly a week denigrating a former Miss Universe in the harshest, most personal terms. So, yes, this is who Donald Trump is. But it’s not only women, and it’s not only this video that raises questions about his fitness to be our president, because he has also targeted immigrants, African-Americans, Latinos, people with disabilities, POWs, Muslims, and so many others. So this is who Donald Trump is. And the question for us, the question our country must answer is that this is not who we are. That’s why—to go back to your question—I want to send a message—we all should—to every boy and girl and, indeed, to the entire world that America already is great, but we are great because we are good, and we will respect one another, and we will work with one another, and we will celebrate our diversity. These are very important values to me, because this is the America that I know and love. And I can pledge to you tonight that this is the America that I will serve if I’m so fortunate enough to become your president. CLINTON: Well, first, let me start by saying that so much of what he’s just said is not right, but he gets to run his campaign any way he chooses. He gets to decide what he wants to talk about. Instead of answering people’s questions, talking about our agenda, laying out the plans that we have that we think can make a better life and a better country, that’s his choice. When I hear something like that, I am reminded of what my friend, Michelle Obama, advised us all: When they go low, you go high. [applause] And, look, if this were just about one video, maybe what he’s saying tonight would be understandable, but everyone can draw their own conclusions at this point about whether or not the man in the video or the man on the stage respects women. But he never apologizes for anything to anyone. He never apologized to Mr. and Mrs. Khan, the Gold Star family whose son, Captain Khan, died in the line of duty in Iraq. And Donald insulted and attacked them for weeks over their religion. He never apologized to the distinguished federal judge who was born in Indiana, but Donald said he couldn’t be trusted to be a judge because his parents were, quote, “Mexican.” He never apologized to the reporter that he mimicked and mocked on national television and our children were watching. And he never apologized for the racist lie that President Obama was not born in the United States of America. He owes the president an apology, he owes our country an apology, and he needs to take responsibility for his actions and his words. CLINTON: … because everything he just said is absolutely false, but I’m not surprised. CLINTON: In the first debate…[laughter] CLINTON: … I told people that it would be impossible to be fact-checking Donald all the time. I’d never get to talk about anything I want to do and how we’re going to really make lives better for people. So, once again, go to HillaryClinton.com. We have literally Trump—you can fact check him in real time. Last time at the first debate, we had millions of people fact checking, so I expect we’ll have millions more fact checking, because, you know, it is—it’s just awfully good that someone with the temperament of Donald Trump is not in charge of the law in our country. CLINTON: Well, Martha, first, let me say—and I’ve said before, but I’ll repeat it, because I want everyone to hear it—that was a mistake, and I take responsibility for using a personal e-mail account. Obviously, if I were to do it over again, I would not. I’m not making any excuses. It was a mistake. And I am very sorry about that. But I think it’s also important to point out where there are some misleading accusations from critics and others. After a year-long investigation, there is no evidence that anyone hacked the server I was using and there is no evidence that anyone can point to at all—anyone who says otherwise has no basis—that any classified material ended up in the wrong hands. I take classified materials very seriously and always have. When I was on the Senate Armed Services Committee, I was privy to a lot of classified material. Obviously, as secretary of state, I had some of the most important secrets that we possess, such as going after Bin Laden. So I am very committed to taking classified information seriously. And as I said, there is no evidence that any classified information ended up in the wrong hands. CLINTON: Look, it’s just not true. And so please, go to… CLINTON: It was personal e-mails, not official. CLINTON: Not—well, we turned over 35,000, so… CLINTON: Yes, that’s true, I didn’t. CLINTON: I didn’t in the first debate, and I’m going to try not to in this debate, because I’d like to get to the questions that the people have brought here tonight to talk to us about. CLINTON: OK, Donald. I know you’re into big diversion tonight, anything to avoid talking about your campaign and the way it’s exploding and the way Republicans are leaving you. But let’s at least focus… CLINTON: … on some of the issues that people care about tonight. Let’s get to their questions. CLINTON: If he wants to start, he can start. No, go ahead, Donald. CLINTON: Well, I think Donald was about to say he’s going to solve it by repealing it and getting rid of the Affordable Care Act. And I’m going to fix it, because I agree with you. Premiums have gotten too high. Copays, deductibles, prescription drug costs, and I’ve laid out a series of actions that we can take to try to get those costs down. But here’s what I don’t want people to forget when we’re talking about reining in the costs, which has to be the highest priority of the next president, when the Affordable Care Act passed, it wasn’t just that 20 million people got insurance who didn’t have it before. But that in and of itself was a good thing. I meet these people all the time, and they tell me what a difference having that insurance meant to them and their families. But everybody else, the 170 million of us who get health insurance through our employers got big benefits. Number one, insurance companies can’t deny you coverage because of a pre-existing condition. Number two, no lifetime limits, which is a big deal if you have serious health problems. Number three, women can’t be charged more than men for our health insurance, which is the way it used to be before the Affordable Care Act. Number four, if you’re under 26, and your parents have a policy, you can be on that policy until the age of 26, something that didn’t happen before. So I want very much to save what works and is good about the Affordable Care Act. But we’ve got to get costs down. We’ve got to provide some additional help to small businesses so that they can afford to provide health insurance. But if we repeal it, as Donald has proposed, and start over again, all of those benefits I just mentioned are lost to everybody, not just people who get their health insurance on the exchange. And then we would have to start all over again. Right now, we are at 90 percent health insurance coverage. That’s the highest we’ve ever been in our country. CLINTON: So I want us to get to 100 percent, but get costs down and keep quality up. CLINTON: No, I mean, he clarified what he meant. And it’s very clear. Look, we are in a situation in our country where if we were to start all over again, we might come up with a different system. But we have an employer-based system. That’s where the vast majority of people get their health care. And the Affordable Care Act was meant to try to fill the gap between people who were too poor and couldn’t put together any resources to afford health care, namely people on Medicaid. Obviously, Medicare, which is a single-payer system, which takes care of our elderly and does a great job doing it, by the way, and then all of the people who were employed, but people who were working but didn’t have the money to afford insurance and didn’t have anybody, an employer or anybody else, to help them. That was the slot that the Obamacare approach was to take. And like I say, 20 million people now have health insurance. So if we just rip it up and throw it away, what Donald’s not telling you is we just turn it back to the insurance companies the way it used to be, and that means the insurance companies… CLINTON: … get to do pretty much whatever they want, including saying, look, I’m sorry, you’ve got diabetes, you had cancer, your child has asthma… CLINTON: … you may not be able to have insurance because you can’t afford it. So let’s fix what’s broken about it, but let’s not throw it away and give it all back to the insurance companies and the drug companies. That’s not going to work. CLINTON: Well, thank you for asking your question. And I’ve heard this question from a lot of Muslim-Americans across our country, because, unfortunately, there’s been a lot of very divisive, dark things said about Muslims. And even someone like Captain Khan, the young man who sacrificed himself defending our country in the United States Army, has been subject to attack by Donald. I want to say just a couple of things. First, we’ve had Muslims in America since George Washington. And we’ve had many successful Muslims. We just lost a particularly well-known one with Muhammad Ali. My vision of America is an America where everyone has a place, if you’re willing to work hard, you do your part, you contribute to the community. That’s what America is. That’s what we want America to be for our children and our grandchildren. It’s also very short-sighted and even dangerous to be engaging in the kind of demagogic rhetoric that Donald has about Muslims. We need American Muslims to be part of our eyes and ears on our front lines. I’ve worked with a lot of different Muslim groups around America. I’ve met with a lot of them, and I’ve heard how important it is for them to feel that they are wanted and included and part of our country, part of our homeland security, and that’s what I want to see. It’s also important I intend to defeat ISIS, to do so in a coalition with majority Muslim nations. Right now, a lot of those nations are hearing what Donald says and wondering, why should we cooperate with the Americans? And this is a gift to ISIS and the terrorists, violent jihadist terrorists. We are not at war with Islam. And it is a mistake and it plays into the hands of the terrorists to act as though we are. So I want a country where citizens like you and your family are just as welcome as anyone else. CLINTON: Well, first of all, I will not let anyone into our country that I think poses a risk to us. But there are a lot of refugees, women and children—think of that picture we all saw of that 4-year-old boy with the blood on his forehead because he’d been bombed by the Russian and Syrian air forces. There are children suffering in this catastrophic war, largely, I believe, because of Russian aggression. And we need to do our part. We by no means are carrying anywhere near the load that Europe and others are. But we will have vetting that is as tough as it needs to be from our professionals, our intelligence experts and others. But it is important for us as a policy, you know, not to say, as Donald has said, we’re going to ban people based on a religion. How do you do that? We are a country founded on religious freedom and liberty. How do we do what he has advocated without causing great distress within our own county? Are we going to have religious tests when people fly into our country? And how do we expect to be able to implement those? So I thought that what he said was extremely unwise and even dangerous. And indeed, you can look at the propaganda on a lot of the terrorist sites, and what Donald Trump says about Muslims is used to recruit fighters, because they want to create a war between us. And the final thing I would say, this is the 10th or 12th time that he’s denied being for the war in Iraq. We have it on tape. The entire press corps has looked at it. It’s been debunked, but it never stops him from saying whatever he wants to say. CLINTON: So, please… CLINTON: … go to HillaryClinton.com and you can see it. CLINTON: Well, right. As I recall, that was something I said about Abraham Lincoln after having seen the wonderful Steven Spielberg movie called “Lincoln.” It was a master class watching President Lincoln get the Congress to approve the 13th Amendment. It was principled, and it was strategic. And I was making the point that it is hard sometimes to get the Congress to do what you want to do and you have to keep working at it. And, yes, President Lincoln was trying to convince some people, he used some arguments, convincing other people, he used other arguments. That was a great—I thought a great display of presidential leadership. But, you know, let’s talk about what’s really going on here, Martha, because our intelligence community just came out and said in the last few days that the Kremlin, meaning Putin and the Russian government, are directing the attacks, the hacking on American accounts to influence our election. And WikiLeaks is part of that, as are other sites where the Russians hack information, we don’t even know if it’s accurate information, and then they put it out. We have never in the history of our country been in a situation where an adversary, a foreign power, is working so hard to influence the outcome of the election. And believe me, they’re not doing it to get me elected. They’re doing it to try to influence the election for Donald Trump. Now, maybe because he has praised Putin, maybe because he says he agrees with a lot of what Putin wants to do, maybe because he wants to do business in Moscow, I don’t know the reasons. But we deserve answers. And we should demand that Donald release all of his tax returns so that people can see what are the entanglements and the financial relationships that he has… CLINTON: … with the Russians and other foreign powers. CLINTON: Well, everything you’ve heard just now from Donald is not true. I’m sorry I have to keep saying this, but he lives in an alternative reality. And it is sort of amusing to hear somebody who hasn’t paid federal income taxes in maybe 20 years talking about what he’s going to do. But I’ll tell you what he’s going to do. His plan will give the wealthy and corporations the biggest tax cuts they’ve ever had, more than the Bush tax cuts by at least a factor of two. Donald always takes care of Donald and people like Donald, and this would be a massive gift. And, indeed, the way that he talks about his tax cuts would end up raising taxes on middle-class families, millions of middle-class families. Now, here’s what I want to do. I have said nobody who makes less than $250,000 a year—and that’s the vast majority of Americans as you know—will have their taxes raised, because I think we’ve got to go where the money is. And the money is with people who have taken advantage of every single break in the tax code. And, yes, when I was a senator, I did vote to close corporate loopholes. I voted to close, I think, one of the loopholes he took advantage of when he claimed a billion-dollar loss that enabled him to avoid paying taxes. I want to have a tax on people who are making a million dollars. It’s called the Buffett rule. Yes, Warren Buffett is the one who’s gone out and said somebody like him should not be paying a lower tax rate than his secretary. I want to have a surcharge on incomes above $5 million. We have to make up for lost times, because I want to invest in you. I want to invest in hard-working families. And I think it’s been unfortunate, but it’s happened, that since the Great Recession, the gains have all gone to the top. And we need to reverse that. People like Donald, who paid zero in taxes, zero for our vets, zero for our military, zero for health and education, that is wrong. CLINTON: And we’re going to make sure that nobody, no corporation, and no individual can get away without paying his fair share to support our country. CLINTON: Well, here we go again. I’ve been in favor of getting rid of carried interest for years, starting when I was a senator from New York. But that’s not the point here. CLINTON: Because I was a senator with a Republican president. CLINTON: I will be the president and we will get it done. That’s exactly right. CLINTON: You know, under our Constitution, presidents have something called veto power. Look, he has now said repeatedly, “30 years this and 30 years that.” So let me talk about my 30 years in public service. I’m very glad to do so. Eight million kids every year have health insurance, because when I was first lady I worked with Democrats and Republicans to create the Children’s Health Insurance Program. Hundreds of thousands of kids now have a chance to be adopted because I worked to change our adoption and foster care system. After 9/11, I went to work with Republican mayor, governor and president to rebuild New York and to get health care for our first responders who were suffering because they had run toward danger and gotten sickened by it. Hundreds of thousands of National Guard and Reserve members have health care because of work that I did, and children have safer medicines because I was able to pass a law that required the dosing to be more carefully done. When I was secretary of state, I went around the world advocating for our country, but also advocating for women’s rights, to make sure that women had a decent chance to have a better life and negotiated a treaty with Russia to lower nuclear weapons. Four hundred pieces of legislation have my name on it as a sponsor or cosponsor when I was a senator for eight years. I worked very hard and was very proud to be re-elected in New York by an even bigger margin than I had been elected the first time. And as president, I will take that work, that bipartisan work, that finding common ground, because you have to be able to get along with people to get things done in Washington. CLINTON: And I’ve proven that I can, and for 30 years, I’ve produced results for people. CLINTON: Well, the situation in Syria is catastrophic. And every day that goes by, we see the results of the regime by Assad in partnership with the Iranians on the ground, the Russians in the air, bombarding places, in particular Aleppo, where there are hundreds of thousands of people, probably about 250,000 still left. And there is a determined effort by the Russian air force to destroy Aleppo in order to eliminate the last of the Syrian rebels who are really holding out against the Assad regime. Russia hasn’t paid any attention to ISIS. They’re interested in keeping Assad in power. So I, when I was secretary of state, advocated and I advocate today a no-fly zone and safe zones. We need some leverage with the Russians, because they are not going to come to the negotiating table for a diplomatic resolution, unless there is some leverage over them. And we have to work more closely with our partners and allies on the ground. But I want to emphasize that what is at stake here is the ambitions and the aggressiveness of Russia. Russia has decided that it’s all in, in Syria. And they’ve also decided who they want to see become president of the United States, too, and it’s not me. I’ve stood up to Russia. I’ve taken on Putin and others, and I would do that as president. I think wherever we can cooperate with Russia, that’s fine. And I did as secretary of state. That’s how we got a treaty reducing nuclear weapons. It’s how we got the sanctions on Iran that put a lid on the Iranian nuclear program without firing a single shot. So I would go to the negotiating table with more leverage than we have now. But I do support the effort to investigate for crimes, war crimes committed by the Syrians and the Russians and try to hold them accountable. CLINTON: No, I wasn’t. I was gone. I hate to interrupt you, but at some point… CLINTON: At some point, we need to do some fact-checking here. CLINTON: I would not use American ground forces in Syria. I think that would be a very serious mistake. I don’t think American troops should be holding territory, which is what they would have to do as an occupying force. I don’t think that is a smart strategy. I do think the use of special forces, which we’re using, the use of enablers and trainers in Iraq, which has had some positive effects, are very much in our interests, and so I do support what is happening, but let me just… CLINTON: Well, Martha, I hope that by the time I—if I’m fortunate… CLINTON: I hope by the time I am president that we will have pushed ISIS out of Iraq. I do think that there is a good chance that we can take Mosul. And, you know, Donald says he knows more about ISIS than the generals. No, he doesn’t. There are a lot of very important planning going on, and some of it is to signal to the Sunnis in the area, as well as Kurdish Peshmerga fighters, that we all need to be in this. And that takes a lot of planning and preparation. I would go after Baghdadi. I would specifically target Baghdadi, because I think our targeting of Al Qaida leaders—and I was involved in a lot of those operations, highly classified ones—made a difference. So I think that could help. I would also consider arming the Kurds. The Kurds have been our best partners in Syria, as well as Iraq. And I know there’s a lot of concern about that in some circles, but I think they should have the equipment they need so that Kurdish and Arab fighters on the ground are the principal way that we take Raqqa after pushing ISIS out of Iraq. CLINTON: Well, 67 percent of the people voted to re-elect me when I ran for my second term, and I was very proud and very humbled by that. Mr. Carter, I have tried my entire life to do what I can to support children and families. You know, right out of law school, I went to work for the Children’s Defense Fund. And Donald talks a lot about, you know, the 30 years I’ve been in public service. I’m proud of that. You know, I started off as a young lawyer working against discrimination against African-American children in schools and in the criminal justice system. I worked to make sure that kids with disabilities could get a public education, something that I care very much about. I have worked with Latinos—one of my first jobs in politics was down in south Texas registering Latino citizens to be able to vote. So I have a deep devotion, to use your absolutely correct word, to making sure that every American feels like he or she has a place in our country. And I think when you look at the letters that I get, a lot of people are worried that maybe they wouldn’t have a place in Donald Trump’s America. They write me, and one woman wrote me about her son, Felix. She adopted him from Ethiopia when he was a toddler. He’s 10 years old now. This is the only country he’s ever known. And he listens to Donald on TV and he said to his mother one day, will he send me back to Ethiopia if he gets elected? You know, children listen to what is being said. To go back to the very, very first question. And there’s a lot of fear—in fact, teachers and parents are calling it the Trump effect. Bullying is up. A lot of people are feeling, you know, uneasy. A lot of kids are expressing their concerns. So, first and foremost, I will do everything I can to reach out to everybody. CLINTON: Democrats, Republicans, independents, people across our country. If you don’t vote for me, I still want to be your president. CLINTON: I want to be the best president I can be for every American. CLINTON: Well, within hours I said that I was sorry about the way I talked about that, because my argument is not with his supporters. It’s with him and with the hateful and divisive campaign that he has run, and the inciting of violence at his rallies, and the very brutal kinds of comments about not just women, but all Americans, all kinds of Americans. And what he has said about African-Americans and Latinos, about Muslims, about POWs, about immigrants, about people with disabilities, he’s never apologized for. And so I do think that a lot of the tone and tenor that he has said—I’m proud of the campaign that Bernie Sanders and I ran. We ran a campaign based on issues, not insults. And he is supporting me 100 percent. CLINTON: Because we talked about what we wanted to do. We might have had some differences, and we had a lot of debates… CLINTON: No. CLINTON: Well, it’s not only my opinion. It’s the opinion of many others, national security experts, Republicans, former Republican members of Congress. But it’s in part because those of us who have had the great privilege of seeing this job up close and know how difficult it is, and it’s not just because I watched my husband take a $300 billion deficit and turn it into a $200 billion surplus, and 23 million new jobs were created, and incomes went up for everybody. Everybody. African-American incomes went up 33 percent. And it’s not just because I worked with George W. Bush after 9/11, and I was very proud that when I told him what the city needed, what we needed to recover, he said you’ve got it, and he never wavered. He stuck with me. And I have worked and I admire President Obama. He inherited the worst financial crisis since the Great Depression. That was a terrible time for our country. CLINTON: Nine million people lost their jobs. CLINTON: Five million homes were lost. CLINTON: And $13 trillion in family wealth was wiped out. We are back on the right track. He would send us back into recession with his tax plans that benefit the wealthiest of Americans. CLINTON: Thank you. Well, you’re right. This is one of the most important issues in this election. I want to appoint Supreme Court justices who understand the way the world really works, who have real-life experience, who have not just been in a big law firm and maybe clerked for a judge and then gotten on the bench, but, you know, maybe they tried some more cases, they actually understand what people are up against. Because I think the current court has gone in the wrong direction. And so I would want to see the Supreme Court reverse Citizens United and get dark, unaccountable money out of our politics. Donald doesn’t agree with that. I would like the Supreme Court to understand that voting rights are still a big problem in many parts of our country, that we don’t always do everything we can to make it possible for people of color and older people and young people to be able to exercise their franchise. I want a Supreme Court that will stick with Roe v. Wade and a woman’s right to choose, and I want a Supreme Court that will stick with marriage equality. Now, Donald has put forth the names of some people that he would consider. And among the ones that he has suggested are people who would reverse Roe v. Wade and reverse marriage equality. I think that would be a terrible mistake and would take us backwards. I want a Supreme Court that doesn’t always side with corporate interests. I want a Supreme Court that understands because you’re wealthy and you can give more money to something doesn’t mean you have any more rights or should have any more rights than anybody else. So I have very clear views about what I want to see to kind of change the balance on the Supreme Court. And I regret deeply that the Senate has not done its job and they have not permitted a vote on the person that President Obama, a highly qualified person, they’ve not given him a vote to be able to be have the full complement of nine Supreme Court justices. I think that was a dereliction of duty. I hope that they will see their way to doing it, but if I am so fortunate enough as to be president, I will immediately move to make sure that we fill that, we have nine justices that get to work on behalf of our people. CLINTON: Well…[crosstalk] CLINTON: The question was about the Supreme Court. And I just want to quickly say, I respect the Second Amendment. But I believe there should be comprehensive background checks, and we should close the gun show loophole, and close the online loophole. CLINTON: We have to save as many lives as we possibly can. CLINTON: And actually—well, that was very interesting. First of all, China is illegally dumping steel in the United States and Donald Trump is buying it to build his buildings, putting steelworkers and American steel plants out of business. That’s something that I fought against as a senator and that I would have a trade prosecutor to make sure that we don’t get taken advantage of by China on steel or anything else. You know, because it sounds like you’re in the business or you’re aware of people in the business—you know that we are now for the first time ever energy-independent. We are not dependent upon the Middle East. But the Middle East still controls a lot of the prices. So the price of oil has been way down. And that has had a damaging effect on a lot of the oil companies, right? We are, however, producing a lot of natural gas, which serves as a bridge to more renewable fuels. And I think that’s an important transition. We’ve got to remain energy-independent. It gives us much more power and freedom than to be worried about what goes on in the Middle East. We have enough worries over there without having to worry about that. So I have a comprehensive energy policy, but it really does include fighting climate change, because I think that is a serious problem. And I support moving toward more clean, renewable energy as quickly as we can, because I think we can be the 21st century clean energy superpower and create millions of new jobs and businesses. But I also want to be sure that we don’t leave people behind. That’s why I’m the only candidate from the very beginning of this campaign who had a plan to help us revitalize coal country, because those coal miners and their fathers and their grandfathers, they dug that coal out. A lot of them lost their lives. They were injured, but they turned the lights on and they powered our factories. I don’t want to walk away from them. So we’ve got to do something for them. CLINTON: But the price of coal is down worldwide. So we have to look at this comprehensively. CLINTON: And that’s exactly what I have proposed. I hope you will go to HillaryClinton.com and look at my entire policy.'"
      ]
     },
     "execution_count": 23,
     "metadata": {},
     "output_type": "execute_result"
    }
   ],
   "source": [
    "result_df['Text'][1]"
   ]
  },
  {
   "cell_type": "code",
   "execution_count": 24,
   "metadata": {},
   "outputs": [],
   "source": [
    "#making text column into one string from a list of strings, another method\n",
    "\n",
    "# test = result_df['Text'].str.join(\"\")\n",
    "# test[1]"
   ]
  },
  {
   "cell_type": "code",
   "execution_count": 25,
   "metadata": {},
   "outputs": [
    {
     "data": {
      "text/plain": [
       "str"
      ]
     },
     "execution_count": 25,
     "metadata": {},
     "output_type": "execute_result"
    }
   ],
   "source": [
    "type(result_df['Text'][1])"
   ]
  },
  {
   "cell_type": "code",
   "execution_count": 26,
   "metadata": {},
   "outputs": [],
   "source": [
    "# result_df.to_csv('test.csv')"
   ]
  },
  {
   "cell_type": "code",
   "execution_count": 27,
   "metadata": {},
   "outputs": [
    {
     "data": {
      "text/plain": [
       "Year    True\n",
       "Name    True\n",
       "Text    True\n",
       "dtype: bool"
      ]
     },
     "execution_count": 27,
     "metadata": {},
     "output_type": "execute_result"
    }
   ],
   "source": [
    "result_df.iloc[166] == result_df.iloc[167]"
   ]
  },
  {
   "cell_type": "code",
   "execution_count": 28,
   "metadata": {},
   "outputs": [
    {
     "data": {
      "text/html": [
       "<div>\n",
       "<style scoped>\n",
       "    .dataframe tbody tr th:only-of-type {\n",
       "        vertical-align: middle;\n",
       "    }\n",
       "\n",
       "    .dataframe tbody tr th {\n",
       "        vertical-align: top;\n",
       "    }\n",
       "\n",
       "    .dataframe thead th {\n",
       "        text-align: right;\n",
       "    }\n",
       "</style>\n",
       "<table border=\"1\" class=\"dataframe\">\n",
       "  <thead>\n",
       "    <tr style=\"text-align: right;\">\n",
       "      <th></th>\n",
       "      <th>Year</th>\n",
       "      <th>Name</th>\n",
       "      <th>Text</th>\n",
       "    </tr>\n",
       "  </thead>\n",
       "  <tbody>\n",
       "    <tr>\n",
       "      <th>0</th>\n",
       "      <td>2016</td>\n",
       "      <td>CLINTON</td>\n",
       "      <td>CLINTON: Thank you very much, Chris. And thank...</td>\n",
       "    </tr>\n",
       "    <tr>\n",
       "      <th>1</th>\n",
       "      <td>2016</td>\n",
       "      <td>CLINTON</td>\n",
       "      <td>CLINTON: Well, thank you. Are you a teacher? Y...</td>\n",
       "    </tr>\n",
       "    <tr>\n",
       "      <th>2</th>\n",
       "      <td>2016</td>\n",
       "      <td>CLINTON</td>\n",
       "      <td>CLINTON: How are you, Donald? [applause] CLINT...</td>\n",
       "    </tr>\n",
       "    <tr>\n",
       "      <th>3</th>\n",
       "      <td>1996</td>\n",
       "      <td>CLINTON</td>\n",
       "      <td>CLINTON: I was going to applaud, too. Well, th...</td>\n",
       "    </tr>\n",
       "    <tr>\n",
       "      <th>4</th>\n",
       "      <td>1996</td>\n",
       "      <td>CLINTON</td>\n",
       "      <td>CLINTON: Thank you, Jim. And thank you to the ...</td>\n",
       "    </tr>\n",
       "    <tr>\n",
       "      <th>...</th>\n",
       "      <td>...</td>\n",
       "      <td>...</td>\n",
       "      <td>...</td>\n",
       "    </tr>\n",
       "    <tr>\n",
       "      <th>163</th>\n",
       "      <td>1960</td>\n",
       "      <td>KENNEDY</td>\n",
       "      <td>NaN</td>\n",
       "    </tr>\n",
       "    <tr>\n",
       "      <th>164</th>\n",
       "      <td>1960</td>\n",
       "      <td>KENNEDY</td>\n",
       "      <td>NaN</td>\n",
       "    </tr>\n",
       "    <tr>\n",
       "      <th>165</th>\n",
       "      <td>1960</td>\n",
       "      <td>KENNEDY</td>\n",
       "      <td>NaN</td>\n",
       "    </tr>\n",
       "    <tr>\n",
       "      <th>166</th>\n",
       "      <td>1980</td>\n",
       "      <td>ANDERSON</td>\n",
       "      <td>ANDERSON: Miss Loomis, I think it’s very appro...</td>\n",
       "    </tr>\n",
       "    <tr>\n",
       "      <th>167</th>\n",
       "      <td>1980</td>\n",
       "      <td>ANDERSON</td>\n",
       "      <td>NaN</td>\n",
       "    </tr>\n",
       "  </tbody>\n",
       "</table>\n",
       "<p>168 rows × 3 columns</p>\n",
       "</div>"
      ],
      "text/plain": [
       "     Year      Name                                               Text\n",
       "0    2016   CLINTON  CLINTON: Thank you very much, Chris. And thank...\n",
       "1    2016   CLINTON  CLINTON: Well, thank you. Are you a teacher? Y...\n",
       "2    2016   CLINTON  CLINTON: How are you, Donald? [applause] CLINT...\n",
       "3    1996   CLINTON  CLINTON: I was going to applaud, too. Well, th...\n",
       "4    1996   CLINTON  CLINTON: Thank you, Jim. And thank you to the ...\n",
       "..    ...       ...                                                ...\n",
       "163  1960   KENNEDY                                                NaN\n",
       "164  1960   KENNEDY                                                NaN\n",
       "165  1960   KENNEDY                                                NaN\n",
       "166  1980  ANDERSON  ANDERSON: Miss Loomis, I think it’s very appro...\n",
       "167  1980  ANDERSON                                                NaN\n",
       "\n",
       "[168 rows x 3 columns]"
      ]
     },
     "execution_count": 28,
     "metadata": {},
     "output_type": "execute_result"
    }
   ],
   "source": [
    "result_df['Text'] = result_df['Text'].drop_duplicates(keep='first')\n",
    "result_df"
   ]
  },
  {
   "cell_type": "code",
   "execution_count": 29,
   "metadata": {},
   "outputs": [],
   "source": [
    "result_df.dropna(inplace=True)"
   ]
  },
  {
   "cell_type": "code",
   "execution_count": 30,
   "metadata": {},
   "outputs": [
    {
     "data": {
      "text/html": [
       "<div>\n",
       "<style scoped>\n",
       "    .dataframe tbody tr th:only-of-type {\n",
       "        vertical-align: middle;\n",
       "    }\n",
       "\n",
       "    .dataframe tbody tr th {\n",
       "        vertical-align: top;\n",
       "    }\n",
       "\n",
       "    .dataframe thead th {\n",
       "        text-align: right;\n",
       "    }\n",
       "</style>\n",
       "<table border=\"1\" class=\"dataframe\">\n",
       "  <thead>\n",
       "    <tr style=\"text-align: right;\">\n",
       "      <th></th>\n",
       "      <th>Year</th>\n",
       "      <th>Name</th>\n",
       "      <th>Text</th>\n",
       "    </tr>\n",
       "  </thead>\n",
       "  <tbody>\n",
       "  </tbody>\n",
       "</table>\n",
       "</div>"
      ],
      "text/plain": [
       "Empty DataFrame\n",
       "Columns: [Year, Name, Text]\n",
       "Index: []"
      ]
     },
     "execution_count": 30,
     "metadata": {},
     "output_type": "execute_result"
    }
   ],
   "source": [
    "result_df[result_df['Text'].isna() == True]"
   ]
  },
  {
   "cell_type": "code",
   "execution_count": 31,
   "metadata": {},
   "outputs": [
    {
     "name": "stdout",
     "output_type": "stream",
     "text": [
      "<class 'pandas.core.frame.DataFrame'>\n",
      "Index: 74 entries, 0 to 166\n",
      "Data columns (total 3 columns):\n",
      " #   Column  Non-Null Count  Dtype \n",
      "---  ------  --------------  ----- \n",
      " 0   Year    74 non-null     object\n",
      " 1   Name    74 non-null     object\n",
      " 2   Text    74 non-null     object\n",
      "dtypes: object(3)\n",
      "memory usage: 2.3+ KB\n"
     ]
    }
   ],
   "source": [
    "result_df.info()"
   ]
  },
  {
   "cell_type": "code",
   "execution_count": 32,
   "metadata": {},
   "outputs": [],
   "source": [
    "# Write a function for the below\n"
   ]
  },
  {
   "cell_type": "code",
   "execution_count": 33,
   "metadata": {},
   "outputs": [],
   "source": [
    "mask = (result_df['Name'] == \"CLINTON\") & (result_df['Year'] == \"2016\")\n",
    "result_df.loc[mask, 'Name'] = \"H_CLINTON\""
   ]
  },
  {
   "cell_type": "code",
   "execution_count": 34,
   "metadata": {},
   "outputs": [],
   "source": [
    "mask = (result_df['Name'] == \"CLINTON\") & (result_df['Year'] == \"1992\")\n",
    "result_df.loc[mask, 'Name'] = \"B_CLINTON\""
   ]
  },
  {
   "cell_type": "code",
   "execution_count": 35,
   "metadata": {},
   "outputs": [],
   "source": [
    "mask = (result_df['Name'] == \"CLINTON\") & (result_df['Year'] == \"1996\")\n",
    "result_df.loc[mask, 'Name'] = \"B_CLINTON\""
   ]
  },
  {
   "cell_type": "code",
   "execution_count": 36,
   "metadata": {},
   "outputs": [],
   "source": [
    "mask = (result_df['Name'] == \"BUSH\") & (result_df['Year'] == \"2008\")\n",
    "result_df.loc[mask, 'Name'] = \"BUSH_2\""
   ]
  },
  {
   "cell_type": "code",
   "execution_count": 37,
   "metadata": {},
   "outputs": [],
   "source": [
    "mask = (result_df['Name'] == \"BUSH\") & (result_df['Year'] == \"2004\")\n",
    "result_df.loc[mask, 'Name'] = \"BUSH_2\""
   ]
  },
  {
   "cell_type": "code",
   "execution_count": 38,
   "metadata": {},
   "outputs": [],
   "source": [
    "mask = (result_df['Name'] == \"BUSH\") & (result_df['Year'] == \"2000\")\n",
    "result_df.loc[mask, 'Name'] = \"BUSH_2\""
   ]
  },
  {
   "cell_type": "code",
   "execution_count": 39,
   "metadata": {},
   "outputs": [],
   "source": [
    "mask = (result_df['Name'] == \"BUSH\") & (result_df['Year'] == \"1988\") \n",
    "result_df.loc[mask, 'Name'] = \"BUSH_1\""
   ]
  },
  {
   "cell_type": "code",
   "execution_count": 40,
   "metadata": {},
   "outputs": [],
   "source": [
    "mask = (result_df['Name'] == \"BUSH\") & (result_df['Year'] == \"1992\") \n",
    "result_df.loc[mask, 'Name'] = \"BUSH_1\""
   ]
  },
  {
   "cell_type": "code",
   "execution_count": 41,
   "metadata": {},
   "outputs": [
    {
     "data": {
      "text/plain": [
       "Name\n",
       "B_CLINTON    7\n",
       "BUSH_1       7\n",
       "OBAMA        6\n",
       "BUSH_2       6\n",
       "GORE         5\n",
       "TRUMP        5\n",
       "KENNEDY      4\n",
       "NIXON        4\n",
       "FORD         4\n",
       "CARTER       4\n",
       "H_CLINTON    3\n",
       "KERRY        3\n",
       "MCCAIN       3\n",
       "ROMNEY       3\n",
       "DOLE         2\n",
       "DUKAKIS      2\n",
       "REAGAN       2\n",
       "MONDALE      2\n",
       "BUSH         1\n",
       "ANDERSON     1\n",
       "Name: count, dtype: int64"
      ]
     },
     "execution_count": 41,
     "metadata": {},
     "output_type": "execute_result"
    }
   ],
   "source": [
    "result_df['Name'].value_counts()"
   ]
  },
  {
   "cell_type": "code",
   "execution_count": 42,
   "metadata": {},
   "outputs": [],
   "source": [
    "result_df = result_df[result_df['Name'] != \"BUSH\"]"
   ]
  },
  {
   "cell_type": "code",
   "execution_count": 43,
   "metadata": {},
   "outputs": [
    {
     "data": {
      "text/html": [
       "<div>\n",
       "<style scoped>\n",
       "    .dataframe tbody tr th:only-of-type {\n",
       "        vertical-align: middle;\n",
       "    }\n",
       "\n",
       "    .dataframe tbody tr th {\n",
       "        vertical-align: top;\n",
       "    }\n",
       "\n",
       "    .dataframe thead th {\n",
       "        text-align: right;\n",
       "    }\n",
       "</style>\n",
       "<table border=\"1\" class=\"dataframe\">\n",
       "  <thead>\n",
       "    <tr style=\"text-align: right;\">\n",
       "      <th></th>\n",
       "      <th>Year</th>\n",
       "      <th>Name</th>\n",
       "      <th>Text</th>\n",
       "    </tr>\n",
       "  </thead>\n",
       "  <tbody>\n",
       "    <tr>\n",
       "      <th>0</th>\n",
       "      <td>2016</td>\n",
       "      <td>H_CLINTON</td>\n",
       "      <td>CLINTON: Thank you very much, Chris. And thank...</td>\n",
       "    </tr>\n",
       "    <tr>\n",
       "      <th>1</th>\n",
       "      <td>2016</td>\n",
       "      <td>H_CLINTON</td>\n",
       "      <td>CLINTON: Well, thank you. Are you a teacher? Y...</td>\n",
       "    </tr>\n",
       "    <tr>\n",
       "      <th>2</th>\n",
       "      <td>2016</td>\n",
       "      <td>H_CLINTON</td>\n",
       "      <td>CLINTON: How are you, Donald? [applause] CLINT...</td>\n",
       "    </tr>\n",
       "    <tr>\n",
       "      <th>3</th>\n",
       "      <td>1996</td>\n",
       "      <td>B_CLINTON</td>\n",
       "      <td>CLINTON: I was going to applaud, too. Well, th...</td>\n",
       "    </tr>\n",
       "    <tr>\n",
       "      <th>4</th>\n",
       "      <td>1996</td>\n",
       "      <td>B_CLINTON</td>\n",
       "      <td>CLINTON: Thank you, Jim. And thank you to the ...</td>\n",
       "    </tr>\n",
       "    <tr>\n",
       "      <th>...</th>\n",
       "      <td>...</td>\n",
       "      <td>...</td>\n",
       "      <td>...</td>\n",
       "    </tr>\n",
       "    <tr>\n",
       "      <th>158</th>\n",
       "      <td>1960</td>\n",
       "      <td>KENNEDY</td>\n",
       "      <td>KENNEDY: Good evening, Mr. Howe. MR. KENNEDY: ...</td>\n",
       "    </tr>\n",
       "    <tr>\n",
       "      <th>159</th>\n",
       "      <td>1960</td>\n",
       "      <td>KENNEDY</td>\n",
       "      <td>KENNEDY: Good evening, Mr. Shadel. MR. KENNEDY...</td>\n",
       "    </tr>\n",
       "    <tr>\n",
       "      <th>160</th>\n",
       "      <td>1960</td>\n",
       "      <td>KENNEDY</td>\n",
       "      <td>KENNEDY: In the first place I’ve never suggest...</td>\n",
       "    </tr>\n",
       "    <tr>\n",
       "      <th>161</th>\n",
       "      <td>1960</td>\n",
       "      <td>KENNEDY</td>\n",
       "      <td>KENNEDY: Mr. Smith, Mr. Nixon. In the election...</td>\n",
       "    </tr>\n",
       "    <tr>\n",
       "      <th>166</th>\n",
       "      <td>1980</td>\n",
       "      <td>ANDERSON</td>\n",
       "      <td>ANDERSON: Miss Loomis, I think it’s very appro...</td>\n",
       "    </tr>\n",
       "  </tbody>\n",
       "</table>\n",
       "<p>73 rows × 3 columns</p>\n",
       "</div>"
      ],
      "text/plain": [
       "     Year       Name                                               Text\n",
       "0    2016  H_CLINTON  CLINTON: Thank you very much, Chris. And thank...\n",
       "1    2016  H_CLINTON  CLINTON: Well, thank you. Are you a teacher? Y...\n",
       "2    2016  H_CLINTON  CLINTON: How are you, Donald? [applause] CLINT...\n",
       "3    1996  B_CLINTON  CLINTON: I was going to applaud, too. Well, th...\n",
       "4    1996  B_CLINTON  CLINTON: Thank you, Jim. And thank you to the ...\n",
       "..    ...        ...                                                ...\n",
       "158  1960    KENNEDY  KENNEDY: Good evening, Mr. Howe. MR. KENNEDY: ...\n",
       "159  1960    KENNEDY  KENNEDY: Good evening, Mr. Shadel. MR. KENNEDY...\n",
       "160  1960    KENNEDY  KENNEDY: In the first place I’ve never suggest...\n",
       "161  1960    KENNEDY  KENNEDY: Mr. Smith, Mr. Nixon. In the election...\n",
       "166  1980   ANDERSON  ANDERSON: Miss Loomis, I think it’s very appro...\n",
       "\n",
       "[73 rows x 3 columns]"
      ]
     },
     "execution_count": 43,
     "metadata": {},
     "output_type": "execute_result"
    }
   ],
   "source": [
    "result_df"
   ]
  },
  {
   "cell_type": "code",
   "execution_count": 44,
   "metadata": {},
   "outputs": [
    {
     "data": {
      "text/plain": [
       "73"
      ]
     },
     "execution_count": 44,
     "metadata": {},
     "output_type": "execute_result"
    }
   ],
   "source": [
    "len(result_df)"
   ]
  },
  {
   "cell_type": "code",
   "execution_count": 45,
   "metadata": {},
   "outputs": [
    {
     "data": {
      "text/plain": [
       "Name\n",
       "BUSH_1       7\n",
       "B_CLINTON    7\n",
       "OBAMA        6\n",
       "BUSH_2       6\n",
       "GORE         5\n",
       "TRUMP        5\n",
       "CARTER       4\n",
       "KENNEDY      4\n",
       "NIXON        4\n",
       "FORD         4\n",
       "H_CLINTON    3\n",
       "KERRY        3\n",
       "MCCAIN       3\n",
       "ROMNEY       3\n",
       "DUKAKIS      2\n",
       "REAGAN       2\n",
       "MONDALE      2\n",
       "DOLE         2\n",
       "ANDERSON     1\n",
       "Name: count, dtype: int64"
      ]
     },
     "execution_count": 45,
     "metadata": {},
     "output_type": "execute_result"
    }
   ],
   "source": [
    "result_df['Name'].value_counts()"
   ]
  },
  {
   "cell_type": "code",
   "execution_count": 46,
   "metadata": {},
   "outputs": [
    {
     "name": "stderr",
     "output_type": "stream",
     "text": [
      "/var/folders/45/9490rsy120vgdzpsxzj4d3wr0000gn/T/ipykernel_61575/1577171818.py:4: SettingWithCopyWarning: \n",
      "A value is trying to be set on a copy of a slice from a DataFrame.\n",
      "Try using .loc[row_indexer,col_indexer] = value instead\n",
      "\n",
      "See the caveats in the documentation: https://pandas.pydata.org/pandas-docs/stable/user_guide/indexing.html#returning-a-view-versus-a-copy\n",
      "  result_df['Target'] = 1  # Default value for rows not matching dems or ind\n"
     ]
    },
    {
     "data": {
      "text/html": [
       "<div>\n",
       "<style scoped>\n",
       "    .dataframe tbody tr th:only-of-type {\n",
       "        vertical-align: middle;\n",
       "    }\n",
       "\n",
       "    .dataframe tbody tr th {\n",
       "        vertical-align: top;\n",
       "    }\n",
       "\n",
       "    .dataframe thead th {\n",
       "        text-align: right;\n",
       "    }\n",
       "</style>\n",
       "<table border=\"1\" class=\"dataframe\">\n",
       "  <thead>\n",
       "    <tr style=\"text-align: right;\">\n",
       "      <th></th>\n",
       "      <th>Year</th>\n",
       "      <th>Name</th>\n",
       "      <th>Text</th>\n",
       "      <th>Target</th>\n",
       "    </tr>\n",
       "  </thead>\n",
       "  <tbody>\n",
       "    <tr>\n",
       "      <th>0</th>\n",
       "      <td>2016</td>\n",
       "      <td>H_CLINTON</td>\n",
       "      <td>CLINTON: Thank you very much, Chris. And thank...</td>\n",
       "      <td>0</td>\n",
       "    </tr>\n",
       "    <tr>\n",
       "      <th>1</th>\n",
       "      <td>2016</td>\n",
       "      <td>H_CLINTON</td>\n",
       "      <td>CLINTON: Well, thank you. Are you a teacher? Y...</td>\n",
       "      <td>0</td>\n",
       "    </tr>\n",
       "    <tr>\n",
       "      <th>2</th>\n",
       "      <td>2016</td>\n",
       "      <td>H_CLINTON</td>\n",
       "      <td>CLINTON: How are you, Donald? [applause] CLINT...</td>\n",
       "      <td>0</td>\n",
       "    </tr>\n",
       "    <tr>\n",
       "      <th>3</th>\n",
       "      <td>1996</td>\n",
       "      <td>B_CLINTON</td>\n",
       "      <td>CLINTON: I was going to applaud, too. Well, th...</td>\n",
       "      <td>0</td>\n",
       "    </tr>\n",
       "    <tr>\n",
       "      <th>4</th>\n",
       "      <td>1996</td>\n",
       "      <td>B_CLINTON</td>\n",
       "      <td>CLINTON: Thank you, Jim. And thank you to the ...</td>\n",
       "      <td>0</td>\n",
       "    </tr>\n",
       "    <tr>\n",
       "      <th>...</th>\n",
       "      <td>...</td>\n",
       "      <td>...</td>\n",
       "      <td>...</td>\n",
       "      <td>...</td>\n",
       "    </tr>\n",
       "    <tr>\n",
       "      <th>153</th>\n",
       "      <td>1960</td>\n",
       "      <td>NIXON</td>\n",
       "      <td>NIXON: Mr. Smith, Senator Kennedy. The things ...</td>\n",
       "      <td>1</td>\n",
       "    </tr>\n",
       "    <tr>\n",
       "      <th>158</th>\n",
       "      <td>1960</td>\n",
       "      <td>KENNEDY</td>\n",
       "      <td>KENNEDY: Good evening, Mr. Howe. MR. KENNEDY: ...</td>\n",
       "      <td>0</td>\n",
       "    </tr>\n",
       "    <tr>\n",
       "      <th>159</th>\n",
       "      <td>1960</td>\n",
       "      <td>KENNEDY</td>\n",
       "      <td>KENNEDY: Good evening, Mr. Shadel. MR. KENNEDY...</td>\n",
       "      <td>0</td>\n",
       "    </tr>\n",
       "    <tr>\n",
       "      <th>160</th>\n",
       "      <td>1960</td>\n",
       "      <td>KENNEDY</td>\n",
       "      <td>KENNEDY: In the first place I’ve never suggest...</td>\n",
       "      <td>0</td>\n",
       "    </tr>\n",
       "    <tr>\n",
       "      <th>161</th>\n",
       "      <td>1960</td>\n",
       "      <td>KENNEDY</td>\n",
       "      <td>KENNEDY: Mr. Smith, Mr. Nixon. In the election...</td>\n",
       "      <td>0</td>\n",
       "    </tr>\n",
       "  </tbody>\n",
       "</table>\n",
       "<p>72 rows × 4 columns</p>\n",
       "</div>"
      ],
      "text/plain": [
       "     Year       Name                                               Text   \n",
       "0    2016  H_CLINTON  CLINTON: Thank you very much, Chris. And thank...  \\\n",
       "1    2016  H_CLINTON  CLINTON: Well, thank you. Are you a teacher? Y...   \n",
       "2    2016  H_CLINTON  CLINTON: How are you, Donald? [applause] CLINT...   \n",
       "3    1996  B_CLINTON  CLINTON: I was going to applaud, too. Well, th...   \n",
       "4    1996  B_CLINTON  CLINTON: Thank you, Jim. And thank you to the ...   \n",
       "..    ...        ...                                                ...   \n",
       "153  1960      NIXON  NIXON: Mr. Smith, Senator Kennedy. The things ...   \n",
       "158  1960    KENNEDY  KENNEDY: Good evening, Mr. Howe. MR. KENNEDY: ...   \n",
       "159  1960    KENNEDY  KENNEDY: Good evening, Mr. Shadel. MR. KENNEDY...   \n",
       "160  1960    KENNEDY  KENNEDY: In the first place I’ve never suggest...   \n",
       "161  1960    KENNEDY  KENNEDY: Mr. Smith, Mr. Nixon. In the election...   \n",
       "\n",
       "     Target  \n",
       "0         0  \n",
       "1         0  \n",
       "2         0  \n",
       "3         0  \n",
       "4         0  \n",
       "..      ...  \n",
       "153       1  \n",
       "158       0  \n",
       "159       0  \n",
       "160       0  \n",
       "161       0  \n",
       "\n",
       "[72 rows x 4 columns]"
      ]
     },
     "execution_count": 46,
     "metadata": {},
     "output_type": "execute_result"
    }
   ],
   "source": [
    "dems = ['B_CLINTON', 'OBAMA', 'GORE', 'CARTER', 'KENNEDY', 'H_CLINTON', 'KERRY', 'DUKAKIS', 'MONDALE']\n",
    "ind = ['ANDERSON']\n",
    "\n",
    "result_df['Target'] = 1  # Default value for rows not matching dems or ind\n",
    "\n",
    "for row in result_df['Name']:\n",
    "    if row in dems:\n",
    "        result_df.loc[result_df['Name'] == row, 'Target'] = 0\n",
    "    else:\n",
    "        result_df.loc[result_df['Name'] == row, 'Target'] = 1\n",
    "\n",
    "result_df = result_df[result_df['Name'] != \"ANDERSON\"]\n",
    "result_df\n"
   ]
  },
  {
   "cell_type": "code",
   "execution_count": 47,
   "metadata": {},
   "outputs": [
    {
     "data": {
      "text/html": [
       "<div>\n",
       "<style scoped>\n",
       "    .dataframe tbody tr th:only-of-type {\n",
       "        vertical-align: middle;\n",
       "    }\n",
       "\n",
       "    .dataframe tbody tr th {\n",
       "        vertical-align: top;\n",
       "    }\n",
       "\n",
       "    .dataframe thead th {\n",
       "        text-align: right;\n",
       "    }\n",
       "</style>\n",
       "<table border=\"1\" class=\"dataframe\">\n",
       "  <thead>\n",
       "    <tr style=\"text-align: right;\">\n",
       "      <th></th>\n",
       "      <th>Year</th>\n",
       "      <th>Name</th>\n",
       "      <th>Text</th>\n",
       "      <th>Target</th>\n",
       "    </tr>\n",
       "  </thead>\n",
       "  <tbody>\n",
       "  </tbody>\n",
       "</table>\n",
       "</div>"
      ],
      "text/plain": [
       "Empty DataFrame\n",
       "Columns: [Year, Name, Text, Target]\n",
       "Index: []"
      ]
     },
     "execution_count": 47,
     "metadata": {},
     "output_type": "execute_result"
    }
   ],
   "source": [
    "result_df[result_df['Name'] == 'Anderson']"
   ]
  },
  {
   "cell_type": "code",
   "execution_count": 48,
   "metadata": {},
   "outputs": [
    {
     "data": {
      "text/html": [
       "<div>\n",
       "<style scoped>\n",
       "    .dataframe tbody tr th:only-of-type {\n",
       "        vertical-align: middle;\n",
       "    }\n",
       "\n",
       "    .dataframe tbody tr th {\n",
       "        vertical-align: top;\n",
       "    }\n",
       "\n",
       "    .dataframe thead th {\n",
       "        text-align: right;\n",
       "    }\n",
       "</style>\n",
       "<table border=\"1\" class=\"dataframe\">\n",
       "  <thead>\n",
       "    <tr style=\"text-align: right;\">\n",
       "      <th></th>\n",
       "      <th>Year</th>\n",
       "      <th>Name</th>\n",
       "      <th>Text</th>\n",
       "      <th>Target</th>\n",
       "    </tr>\n",
       "  </thead>\n",
       "  <tbody>\n",
       "    <tr>\n",
       "      <th>126</th>\n",
       "      <td>1980</td>\n",
       "      <td>REAGAN</td>\n",
       "      <td>REAGAN: I don’t know what the differences migh...</td>\n",
       "      <td>1</td>\n",
       "    </tr>\n",
       "    <tr>\n",
       "      <th>127</th>\n",
       "      <td>1980</td>\n",
       "      <td>REAGAN</td>\n",
       "      <td>REAGAN: I believe that the only unpopular meas...</td>\n",
       "      <td>1</td>\n",
       "    </tr>\n",
       "  </tbody>\n",
       "</table>\n",
       "</div>"
      ],
      "text/plain": [
       "     Year    Name                                               Text  Target\n",
       "126  1980  REAGAN  REAGAN: I don’t know what the differences migh...       1\n",
       "127  1980  REAGAN  REAGAN: I believe that the only unpopular meas...       1"
      ]
     },
     "execution_count": 48,
     "metadata": {},
     "output_type": "execute_result"
    }
   ],
   "source": [
    "result_df[result_df['Name'] == \"REAGAN\"]"
   ]
  },
  {
   "cell_type": "code",
   "execution_count": 49,
   "metadata": {},
   "outputs": [
    {
     "data": {
      "text/plain": [
       "Target\n",
       "0    36\n",
       "1    36\n",
       "Name: count, dtype: int64"
      ]
     },
     "execution_count": 49,
     "metadata": {},
     "output_type": "execute_result"
    }
   ],
   "source": [
    "result_df['Target'].value_counts()"
   ]
  },
  {
   "cell_type": "code",
   "execution_count": 50,
   "metadata": {},
   "outputs": [
    {
     "data": {
      "text/plain": [
       "'CLINTON: Thank you very much, Chris. And thanks to UNLV for hosting us. You know, I think when we talk about the Supreme Court, it really raises the central issue in this election, namely, what kind of country are we going to be? What kind of opportunities will we provide for our citizens? What kind of rights will Americans have? And I feel strongly that the Supreme Court needs to stand on the side of the American people, not on the side of the powerful corporations and the wealthy. For me, that means that we need a Supreme Court that will stand up on behalf of women’s rights, on behalf of the rights of the LGBT community, that will stand up and say no to Citizens United, a decision that has undermined the election system in our country because of the way it permits dark, unaccountable money to come into our electoral system. I have major disagreements with my opponent about these issues and others that will be before the Supreme Court. But I feel that at this point in our country’s history, it is important that we not reverse marriage equality, that we not reverse Roe v. Wade, that we stand up against Citizens United, we stand up for the rights of people in the workplace, that we stand up and basically say: The Supreme Court should represent all of us. That’s how I see the court, and the kind of people that I would be looking to nominate to the court would be in the great tradition of standing up to the powerful, standing up on behalf of our rights as Americans. And I look forward to having that opportunity. I would hope that the Senate would do its job and confirm the nominee that President Obama has sent to them. That’s the way the Constitution fundamentally should operate. The president nominates, and then the Senate advises and consents, or not, but they go forward with the process. CLINTON: Well, first of all, I support the Second Amendment. I lived in Arkansas for 18 wonderful years. I represented upstate New York. I understand and respect the tradition of gun ownership. It goes back to the founding of our country. But I also believe that there can be and must be reasonable regulation. Because I support the Second Amendment doesn’t mean that I want people who shouldn’t have guns to be able to threaten you, kill you or members of your family. And so when I think about what we need to do, we have 33,000 people a year who die from guns. I think we need comprehensive background checks, need to close the online loophole, close the gun show loophole. There’s other matters that I think are sensible that are the kind of reforms that would make a difference that are not in any way conflicting with the Second Amendment. You mentioned the Heller decision. And what I was saying that you referenced, Chris, was that I disagreed with the way the court applied the Second Amendment in that case, because what the District of Columbia was trying to do was to protect toddlers from guns and so they wanted people with guns to safely store them. And the court didn’t accept that reasonable regulation, but they’ve accepted many others. So I see no conflict between saving people’s lives and defending the Second Amendment. CLINTON: Well, I was upset because, unfortunately, dozens of toddlers injure themselves, even kill people with guns, because, unfortunately, not everyone who has loaded guns in their homes takes appropriate precautions. But there’s no doubt that I respect the Second Amendment, that I also believe there’s an individual right to bear arms. That is not in conflict with sensible, commonsense regulation. And, you know, look, I understand that Donald’s been strongly supported by the NRA. The gun lobby’s on his side. They’re running millions of dollars of ads against me. And I regret that, because what I would like to see is for people to come together and say: of course we’re going to protect and defend the Second Amendment. But we’re going to do it in a way that tries to save some of these 33,000 lives that we lose every year. CLINTON: Well, I strongly support Roe v. Wade, which guarantees a constitutional right to a woman to make the most intimate, most difficult, in many cases, decisions about her health care that one can imagine. And in this case, it’s not only about Roe v. Wade. It is about what’s happening right now in America. So many states are putting very stringent regulations on women that block them from exercising that choice to the extent that they are defunding Planned Parenthood, which, of course, provides all kinds of cancer screenings and other benefits for women in our country. Donald has said he’s in favor of defunding Planned Parenthood. He even supported shutting the government down to defund Planned Parenthood. I will defend Planned Parenthood. I will defend Roe v. Wade, and I will defend women’s rights to make their own health care decisions. CLINTON: And we have come too far to have that turned back now. And, indeed, he said women should be punished, that there should be some form of punishment for women who obtain abortions. And I could just not be more opposed to that kind of thinking. CLINTON: Because Roe v. Wade very clearly sets out that there can be regulations on abortion so long as the life and the health of the mother are taken into account. And when I voted as a senator, I did not think that that was the case. The kinds of cases that fall at the end of pregnancy are often the most heartbreaking, painful decisions for families to make. I have met with women who toward the end of their pregnancy get the worst news one could get, that their health is in jeopardy if they continue to carry to term or that something terrible has happened or just been discovered about the pregnancy. I do not think the United States government should be stepping in and making those most personal of decisions. So you can regulate if you are doing so with the life and the health of the mother taken into account. CLINTON: Well, that is not what happens in these cases. And using that kind of scare rhetoric is just terribly unfortunate. You should meet with some of the women that I have met with, women I have known over the course of my life. This is one of the worst possible choices that any woman and her family has to make. And I do not believe the government should be making it. You know, I’ve had the great honor of traveling across the world on behalf of our country. I’ve been to countries where governments either forced women to have abortions, like they used to do in China, or forced women to bear children, like they used to do in Romania. And I can tell you: The government has no business in the decisions that women make with their families in accordance with their faith, with medical advice. And I will stand up for that right. CLINTON: Well, as he was talking, I was thinking about a young girl I met here in Las Vegas, Carla, who is very worried that her parents might be deported, because she was born in this country but they were not. They work hard, they do everything they can to give her a good life. And you’re right. I don’t want to rip families apart. I don’t want to be sending parents away from children. I don’t want to see the deportation force that Donald has talked about in action in our country. We have 11 million undocumented people. They have 4 million American citizen children, 15 million people. He said as recently as a few weeks ago in Phoenix that every undocumented person would be subject to deportation. Now, here’s what that means. It means you would have to have a massive law enforcement presence, where law enforcement officers would be going school to school, home to home, business to business, rounding up people who are undocumented. And we would then have to put them on trains, on buses to get them out of our country. I think that is an idea that is not in keeping with who we are as a nation. I think it’s an idea that would rip our country apart. I have been for border security for years. I voted for border security in the United States Senate. And my comprehensive immigration reform plan of course includes border security. But I want to put our resources where I think they’re most needed: Getting rid of any violent person. Anybody who should be deported, we should deport them. When it comes to the wall that Donald talks about building, he went to Mexico, he had a meeting with the Mexican president. Didn’t even raise it. He choked and then got into a Twitter war because the Mexican president said we’re not paying for that wall. So I think we are both a nation of immigrants and we are a nation of laws and that we can act accordingly. And that’s why I’m introducing comprehensive immigration reform within the first 100 days with a path to citizenship. CLINTON: I voted for border security, and there are… CLINTON: There are some limited places where that was appropriate. There also is necessarily going to be new technology and how best to deploy that. But it is clear, when you look at what Donald has been proposing, he started his campaign bashing immigrants, calling Mexican immigrants rapists and criminals and drug dealers, that he has a very different view about what we should do to deal with immigrants. Now, what I am also arguing is that bringing undocumented immigrants out from the shadows, putting them into the formal economy will be good, because then employers can’t exploit them and undercut Americans’ wages. And Donald knows a lot about this. He used undocumented labor to build the Trump Tower. He underpaid undocumented workers, and when they complained, he basically said what a lot of employers do: “You complain, I’ll get you deported.” I want to get everybody out of the shadows, get the economy working, and not let employers like Donald exploit undocumented workers, which hurts them, but also hurts American workers. CLINTON: We will not have open borders. That is… CLINTON: That is a rank mischaracterization. CLINTON: We will have secure borders, but we’ll also have reform. And this used to be a bipartisan issue. Ronald Reagan was the last president… CLINTON: … to sign immigration reform, and George W. Bush supported it, as well. CLINTON: Well, if you went on to read the rest of the sentence, I was talking about energy. You know, we trade more energy with our neighbors than we trade with the rest of the world combined. And I do want us to have an electric grid, an energy system that crosses borders. I think that would be a great benefit to us. But you are very clearly quoting from WikiLeaks. And what’s really important about WikiLeaks is that the Russian government has engaged in espionage against Americans. They have hacked American websites, American accounts of private people, of institutions. Then they have given that information to WikiLeaks for the purpose of putting it on the Internet. This has come from the highest levels of the Russian government, clearly, from Putin himself, in an effort, as 17 of our intelligence agencies have confirmed, to influence our election. So I actually think the most important question of this evening, Chris, is, finally, will Donald Trump admit and condemn that the Russians are doing this and make it clear that he will not have the help of Putin in this election, that he rejects Russian espionage against Americans, which he actually encouraged in the past. Those are the questions we need answered. We’ve never had anything like this happen in any of our elections before. CLINTON: Well, that’s because he’d rather have a puppet as president of the United States. CLINTON: And it’s pretty clear… CLINTON: It’s pretty clear you won’t admit… CLINTON: … that the Russians have engaged in cyberattacks against the United States of America, that you encouraged espionage against our people, that you are willing to spout the Putin line, sign up for his wish list, break up NATO, do whatever he wants to do, and that you continue to get help from him, because he has a very clear favorite in this race. So I think that this is such an unprecedented situation. We’ve never had a foreign government trying to interfere in our election. We have 17—17 intelligence agencies, civilian and military, who have all concluded that these espionage attacks, these cyberattacks, come from the highest levels of the Kremlin and they are designed to influence our election. I find that deeply disturbing. CLINTON: And I think it’s time you take a stand… CLINTON: I am not quoting myself. CLINTON: I am quoting 17… CLINTON: … 17 intelligence—do you doubt 17 military and civilian… CLINTON: … agencies. CLINTON: Well, he’d rather believe Vladimir Putin than the military and civilian intelligence professionals who are sworn to protect us. I find that just absolutely…[crosstalk] CLINTON: I—I find it ironic that he’s raising nuclear weapons. This is a person who has been very cavalier, even casual about the use of nuclear weapons. He’s… CLINTON: … advocated more countries getting them, Japan, Korea, even Saudi Arabia. He said, well, if we have them, why don’t we use them, which I think is terrifying. But here’s the deal. The bottom line on nuclear weapons is that when the president gives the order, it must be followed. There’s about four minutes between the order being given and the people responsible for launching nuclear weapons to do so. And that’s why 10 people who have had that awesome responsibility have come out and, in an unprecedented way, said they would not trust Donald Trump with the nuclear codes or to have his finger on the nuclear button. CLINTON: Well, I’m just quoting you when you were asked… CLINTON: … about a potential nuclear—nuclear competition in Asia, you said, you know, go ahead, enjoy yourselves, folks. That kind… CLINTON: … of language—well… CLINTON: The United States has kept the peace—the United States has kept the peace through our alliances. Donald wants to tear up our alliances. I think it makes the world safer and, frankly, it makes the United States safer. I would work with our allies in Asia, in Europe, in the Middle East, and elsewhere. That’s the only way we’re going to be able to keep the peace. CLINTON: Well, I think when the middle class thrives, America thrives. And so my plan is based on growing the economy, giving middle-class families many more opportunities. I want us to have the biggest jobs program since World War II, jobs in infrastructure and advanced manufacturing. I think we can compete with high-wage countries, and I believe we should. New jobs and clean energy, not only to fight climate change, which is a serious problem, but to create new opportunities and new businesses. I want us to do more to help small business. That’s where two-thirds of the new jobs are going to come from. I want us to raise the national minimum wage, because people who live in poverty should not—who work full-time should not still be in poverty. And I sure do want to make sure women get equal pay for the work we do. I feel strongly that we have to have an education system that starts with preschool and goes through college. That’s why I want more technical education in high schools and in community colleges, real apprenticeships to prepare young people for the jobs of the future. I want to make college debt-free and for families making less than $125,000, you will not get a tuition bill from a public college or university if the plan that I worked on with Bernie Sanders is enacted. And we’re going to work hard to make sure that it is, because we are going to go where the money is. Most of the gains in the last years since the Great Recession have gone to the very top. So we are going to have the wealthy pay their fair share. We’re going to have corporations make a contribution greater than they are now to our country. That is a plan that has been analyzed by independent experts which said that it could produce 10 million new jobs. By contrast, Donald’s plan has been analyzed to conclude it might lose 3.5 million jobs. Why? Because his whole plan is to cut taxes, to give the biggest tax breaks ever to the wealthy and to corporations, adding $20 trillion to our debt, and causing the kind of dislocation that we have seen before, because it truly will be trickle-down economics on steroids. So the plan I have I think will actually produce greater opportunities. The plan he has will cost us jobs and possibly lead to another Great Recession. CLINTON: Well, let me translate that, if I can, Chris, because… CLINTON: … the fact is, he’s going to advocate for the largest tax cuts we’ve ever seen, three times more than the tax cuts under the Bush administration. I have said repeatedly throughout this campaign: I will not raise taxes on anyone making $250,000 or less. I also will not add a penny to the debt. I have costed out what I’m going to do. He will, through his massive tax cuts, add $20 trillion to the debt. Well, he mentioned the debt. We know how to get control of the debt. When my husband was president, we went from a $300 billion deficit to a $200 billion surplus and we were actually on the path to eliminating the national debt. When President Obama came into office, he inherited the worst economic disaster since the Great Depression. He has cut the deficit by two-thirds. So, yes, one of the ways you go after the debt, one of the ways you create jobs is by investing in people. So I do have investments, investments in new jobs, investments in education, skill training, and the opportunities for people to get ahead and stay ahead. That’s the kind of approach that will work. CLINTON: Cutting taxes on the wealthy, we’ve tried that. It has not worked the way that it has been promised. CLINTON: Well, it’s a combination, Chris. And let me say that when you inherit the level of economic catastrophe that President Obama inherited, it was a real touch-and-go situation. I was in the Senate before I became secretary of state. I’ve never seen people as physically distraught as the Bush administration team was because of what was happening to the economy. I personally believe that the steps that President Obama took saved the economy. He doesn’t get the credit he deserves for taking some very hard positions. But it was a terrible recession. So now we’ve dug ourselves out of it, we’re standing, but we’re not yet running. So what I am proposing is that we invest from the middle out and the ground up, not the top down. That is not going to work. That’s why what I have put forward doesn’t add a penny to the debt, but it is the kind of approach that will enable more people to take those new jobs, higher-paying jobs. We’re beginning to see some increase in incomes, and we certainly have had a long string of increasing jobs. We’ve got to do more to get the whole economy moving, and that’s what I believe I will be able to do. CLINTON: Well, first, let me say, number one, when I saw the final agreement for TPP, I said I was against it. It didn’t meet my test. I’ve had the same test. Does it create jobs, raise incomes, and further our national security? I’m against it now. I’ll be against it after the election. I’ll be against it when I’m president. There’s only one of us on this stage who’s actually shipped jobs to Mexico, because that’s Donald. He’s shipped jobs to 12 countries, including Mexico. But he mentioned China. And, you know, one of the biggest problems we have with China is the illegal dumping of steel and aluminum into our markets. I have fought against that as a senator. I’ve stood up against it as secretary of state. Donald has bought Chinese steel and aluminum. In fact, the Trump Hotel right here in Las Vegas was made with Chinese steel. So he goes around with crocodile tears about how terrible it is, but he has given jobs to Chinese steelworkers, not American steelworkers. CLINTON: That’s the kind of approach that is just not going to work. CLINTON: We’re going to pull the country together. We’re going to have trade agreements that we enforce. That’s why I’m going to have a trade prosecutor for the first time in history. And we’re going to enforce those agreements, and we’re going to look for businesses to help us by buying American products. CLINTON: No, I voted. CLINTON: Well, first of all, what he just said about the State Department is not only untrue, it’s been debunked numerous times. But I think it’s really an important issue. He raised the 30 years of experience, so let me just talk briefly about that. You know, back in the 1970s, I worked for the Children’s Defense Fund. And I was taking on discrimination against African-American kids in schools. He was getting sued by the Justice Department for racial discrimination in his apartment buildings. In the 1980s, I was working to reform the schools in Arkansas. He was borrowing $14 million from his father to start his businesses. In the 1990s, I went to Beijing and I said women’s rights are human rights. He insulted a former Miss Universe, Alicia Machado, called her an eating machine. CLINTON: And on the day when I was in the Situation Room, monitoring the raid that brought Osama bin Laden to justice, he was hosting the “Celebrity Apprentice.” So I’m happy to compare my 30 years of experience, what I’ve done for this country, trying to help in every way I could, especially kids and families get ahead and stay ahead, with your 30 years, and I’ll let the American people make that decision. CLINTON: Well… CLINTON: At the last debate, we heard Donald talking about what he did to women. And after that, a number of women have come forward saying that’s exactly what he did to them. Now, what was his response? Well, he held a number of big rallies where he said that he could not possibly have done those things to those women because they were not attractive enough for them to be assaulted. CLINTON: In fact, he went on to say… CLINTON: He went on to say, “Look at her. I don’t think so.” About another woman, he said, “That wouldn’t be my first choice.” He attacked the woman reporter writing the story, called her “disgusting,” as he has called a number of women during this campaign. Donald thinks belittling women makes him bigger. He goes after their dignity, their self-worth, and I don’t think there is a woman anywhere who doesn’t know what that feels like. So we now know what Donald thinks and what he says and how he acts toward women. That’s who Donald is. I think it’s really up to all of us to demonstrate who we are and who our country is, and to stand up and be very clear about what we expect from our next president, how we want to bring our country together, where we don’t want to have the kind of pitting of people one against the other, where instead we celebrate our diversity, we lift people up, and we make our country even greater. America is great, because America is good. And it really is up to all of us to make that true, now and in the future, and particularly for our children and our grandchildren. CLINTON: Well, every time Donald is pushed on something which is obviously uncomfortable, like what these women are saying, he immediately goes to denying responsibility. And it’s not just about women. He never apologizes or says he’s sorry for anything. So we know what he has said and what he’s done to women. But he also went after a disabled reporter, mocked and mimicked him on national television. CLINTON: He went after Mr. and Mrs. Khan, the parents of a young man who died serving our country, a Gold Star family, because of their religion. He went after John McCain, a prisoner of war, said he prefers “people who aren’t captured.” He went after a federal judge, born in Indiana, but who Donald said couldn’t be trusted to try the fraud and racketeering case against Trump University because his parents were Mexican. So it’s not one thing. This is a pattern, a pattern of divisiveness, of a very dark and in many ways dangerous vision of our country, where he incites violence, where he applauds people who are pushing and pulling and punching at his rallies. That is not who America is. And I hope that as we move in the last weeks of this campaign, more and more people will understand what’s at stake in this election. It really does come down to what kind of country we are going to have. CLINTON: Well, everything I did as secretary of state was in furtherance of our country’s interests and our values. The State Department has said that. I think that’s been proven. But I am happy, in fact I’m thrilled to talk about the Clinton Foundation, because it is a world-renowned charity and I am so proud of the work that it does. You know, I could talk for the rest of the debate—I know I don’t have the time to do that. But just briefly, the Clinton Foundation made it possible for 11 million people around the world with HIV-AIDS to afford treatment, and that’s about half of all the people in the world who are getting treatment. In partnership with the American Health Association… CLINTON: … we have made environments in schools healthier for kids, including healthier lunches… CLINTON: Well, it is an open discussion. And you… CLINTON: Well, but there is no—but there is no evidence—but there is…[crosstalk] CLINTON: There is a lot of evidence about the very good work… CLINTON: … and the high rankings…[crosstalk] CLINTON: Well, very quickly, we at the Clinton Foundation spend 90 percent—90 percent of all the money that is donated on behalf of programs of people around the world and in our own country. I’m very proud of that. We have the highest rating from the watchdogs that follow foundations. And I’d be happy to compare what we do with the Trump Foundation, which took money from other people and bought a six-foot portrait of Donald. I mean, who does that? It just was astonishing. But when it comes to Haiti, Haiti is the poorest country in our hemisphere. The earthquake and the hurricanes, it has devastated Haiti. Bill and I have been involved in trying to help Haiti for many years. The Clinton Foundation raised $30 million to help Haiti after the catastrophic earthquake and all of the terrible problems the people there had. We have done things to help small businesses, agriculture, and so much else. And we’re going to keep working to help Haiti… CLINTON: … because it’s an important part of the American experience. CLINTON: But, of course, there’s no way we can know whether any of that is true, because he hasn’t released his tax returns. He is the first candidate ever to run for president in the last 40-plus years who has not released his tax returns, so everything he says about charity or anything else, we can’t prove it. You can look at our tax returns. We’ve got them all out there. But what is really troubling is that we learned in the last debate he has not paid a penny in federal income tax. And we were talking about immigrants a few minutes ago, Chris. You know, half of all immigrants—undocumented immigrants in our country—actually pay federal income tax. So we have undocumented immigrants in America who are paying more federal income tax than a billionaire. I find that just astonishing. CLINTON: Well, you know… CLINTON: Made with Chinese steel. CLINTON: Well, Chris, let me respond to that, because that’s horrifying. You know, every time Donald thinks things are not going in his direction, he claims whatever it is, is rigged against him. The FBI conducted a year-long investigation into my e-mails. They concluded there was no case; he said the FBI was rigged. He lost the Iowa caucus. He lost the Wisconsin primary. He said the Republican primary was rigged against him. Then Trump University gets sued for fraud and racketeering; he claims the court system and the federal judge is rigged against him. There was even a time when he didn’t get an Emmy for his TV program three years in a row and he started tweeting that the Emmys were rigged against him. CLINTON: This is—this is a mindset. This is how Donald thinks. And it’s funny, but it’s also really troubling. CLINTON: So that is not the way our democracy works. We’ve been around for 240 years. We’ve had free and fair elections. We’ve accepted the outcomes when we may not have liked them. And that is what must be expected of anyone standing on a debate stage during a general election. You know, President Obama said the other day when you’re whining before the game is even finished… [applause] CLINTON: … it just shows you’re not up to doing the job. And let’s—you know, let’s be clear about what he is saying and what that means. He is denigrating—he’s talking down our democracy. And I, for one, am appalled that somebody who is the nominee of one of our two major parties would take that kind of position. CLINTON: Well, I am encouraged that there is an effort led by the Iraqi army, supported by Kurdish forces, and also given the help and advice from the number of special forces and other Americans on the ground. But I will not support putting American soldiers into Iraq as an occupying force. I don’t think that is in our interest, and I don’t think that would be smart to do. In fact, Chris, I think that would be a big red flag waving for ISIS to reconstitute itself. The goal here is to take back Mosul. It’s going to be a hard fight. I’ve got no illusions about that. And then continue to press into Syria to begin to take back and move on Raqqa, which is the ISIS headquarters. I am hopeful that the hard work that American military advisers have done will pay off and that we will see a real—a really successful military operation. But we know we’ve got lots of work to do. Syria will remain a hotbed of terrorism as long as the civil war, aided and abetted by the Iranians and the Russians, continue. So I have said, look, we need to keep our eye on ISIS. That’s why I want to have an intelligence surge that protects us here at home, why we have to go after them from the air, on the ground, online, why we have to make sure here at home we don’t let terrorists buy weapons. If you’re too dangerous to fly, you’re too dangerous to buy a gun. And I’m going to continue to push for a no-fly zone and safe havens within Syria not only to help protect the Syrians and prevent the constant outflow of refugees, but to, frankly, gain some leverage on both the Syrian government and the Russians so that perhaps we can have the kind of serious negotiation necessary to bring the conflict to an end and go forward on a political track. CLINTON: Well, you know, once again, Donald is implying that he didn’t support the invasion of Iraq. I said it was a mistake. I’ve said that years ago. He has consistently denied what is… CLINTON: … a very clear fact that… CLINTON: … before the invasion, he supported it. And, you know, I just want everybody to go Google it. Google “Donald Trump Iraq.” And you will see the dozens of sources which verify that he was for the invasion of Iraq. CLINTON: And you can actually hear the audio of him saying that. Now, why does that matter? Well, it matters because he has not told the truth about that position. I guess he believes it makes him look better now to contrast with me because I did vote for it. But what’s really important here is to understand all the interplay. Mosul is a Sunni city. Mosul is on the border of Syria. And, yes, we do need to go after Baghdadi, and—just like we went after bin Laden, while you were doing “Celebrity Apprentice,” and we brought him to justice. We need to go after the leadership. But we need to get rid of them, get rid of their fighters. There are an estimated several thousand fighters in Mosul. They’ve been digging underground. They’ve been prepared to defend. It’s going to be tough fighting. But I think we can take back Mosul, and then we can move on into Syria and take back Raqqa. This is what we have to do. I’m just amazed that he seems to think that the Iraqi government and our allies and everybody else launched the attack on Mosul to help me in this election, but that’s how Donald thinks. You know, he always is looking for some conspiracy. CLINTON: He has all the conspiracy theories…[crosstalk] CLINTON: This conspiracy theory, which he’s been spewing out for quite some time. CLINTON: He says…[crosstalk] CLINTON: … unfit, and he proves it every time he talks. CLINTON: Well, you should ask Bernie Sanders who he’s supporting for president. And he has said… CLINTON: … as he has campaigned for me around the country, you are the most dangerous person to run for president in the modern history of America. I think he’s right. CLINTON: Well, Chris, first of all, I think a no-fly zone could save lives and could hasten the end of the conflict. I’m well aware of the really legitimate concerns that you have expressed from both the president and the general. This would not be done just on the first day. This would take a lot of negotiation. And it would also take making it clear to the Russians and the Syrians that our purpose here was to provide safe zones on the ground. We’ve had millions of people leave Syria and those millions of people inside Syria who have been dislocated. So I think we could strike a deal and make it very clear to the Russians and the Syrians that this was something that we believe was in the best interests of the people on the ground in Syria, it would help us with our fight against ISIS. But I want to respond to what Donald said about refugees. He’s made these claims repeatedly. I am not going to let anyone into this country who is not vetted, who we do not have confidence in. But I am not going to slam the door on women and children. That picture of that little 4-year-old boy in Aleppo, with the blood coming down his face while he sat in an ambulance, is haunting. And so we are going to do very careful, thorough vetting. That does not solve our internal challenges with ISIS and our need to stop radicalization, to work with American Muslim communities who are on the front lines to identify and prevent attacks. In fact, the killer of the dozens of people at the nightclub in Orlando, the Pulse nightclub, was born in Queens, the same place Donald was born. So let’s be clear about what the threat is and how we are best going to be able to meet it. And, yes, some of that threat emanates from over in Syria and Iraq, and we’ve got to keep fighting, and I will defeat ISIS, and some of it is we have to up our game and be much smarter here at home. CLINTON: Well, first, when I hear Donald talk like that and know that his slogan is “Make America Great Again,” I wonder when he thought America was great. And before he rushes and says, “You know, before you and President Obama were there,” I think it’s important to recognize that he has been criticizing our government for decades. You know, back in 1987, he took out a $100,000 ad in the New York Times, during the time when President Reagan was president, and basically said exactly what he just said now, that we were the laughingstock of the world. He was criticizing President Reagan. This is the way Donald thinks about himself, puts himself into, you know, the middle and says, “You know, I alone can fix it,” as he said on the convention stage. But if you look at the debt, which is the issue you asked about, Chris, I pay for everything I’m proposing. I do not add a penny to the national debt. I take that very seriously, because I do think it’s one of the issues we’ve got to come to grips with. So when I talk about how we’re going to pay for education, how we’re going to invest in infrastructure, how we’re going to get the cost of prescription drugs down, and a lot of the other issues that people talk to me about all the time, I’ve made it very clear we are going where the money is. We are going to ask the wealthy and corporations to pay their fair share. And there is no evidence whatsoever that that will slow down or diminish our growth. In fact, I think just the opposite. We’ll have what economists call middle-out growth. We’ve got to get back to rebuilding the middle class, the families of America. That’s where growth will come from. That’s why I want to invest in you. I want to invest in your family. And I think that’s the smartest way to grow the economy, to make the economy fairer. And we just have a big disagreement about this. It may be because of our experiences. You know, he started off with his dad as a millionaire… CLINTON: I started off with—my dad was a small-business man. CLINTON: And I think it—you know, it’s a difference that affects how we see the world and what we want to do with the economy. CLINTON: Well, Chris, I am on record as saying that we need to put more money into the Social Security Trust Fund. That’s part of my commitment to raise taxes on the wealthy. My Social Security payroll contribution will go up, as will Donald’s, assuming he can’t figure out how to get out of it. But what we want to do is to replenish the Social Security Trust Fund… CLINTON: … by making sure that we have sufficient resources, and that will come from either raising the cap and/or finding other ways to get more money into it. I will not cut benefits. I want to enhance benefits for low-income workers and for women who have been disadvantaged by the current Social Security system. But what Donald is proposing with these massive tax cuts will result in a $20 trillion additional national debt. That will have dire consequences for Social Security and Medicare. And I’ll say something about the Affordable Care Act, which he wants to repeal. The Affordable Care Act extended the solvency of the Medicare Trust Fund. So if he repeals it, our Medicare problem gets worse. What we need to do is go after… CLINTON: … the long-term health care drivers. We’ve got to get costs down, increase value, emphasize wellness. I have a plan for doing that. And I think that we will be able to get entitlement spending under control by with more resources and smarter decisions.'"
      ]
     },
     "execution_count": 50,
     "metadata": {},
     "output_type": "execute_result"
    }
   ],
   "source": [
    "result_df['Text'][0]"
   ]
  },
  {
   "cell_type": "code",
   "execution_count": 51,
   "metadata": {},
   "outputs": [
    {
     "data": {
      "text/plain": [
       "' Well, thank you. Are you a teacher? Yes, I think that that’s a very good question, because I’ve heard from lots of teachers and parents about some of their concerns about some of the things that are being said and done in this campaign. And I think it is very important for us to make clear to our children that our country really is great because we’re good. And we are going to respect one another, lift each other up. We are going to be looking for ways to celebrate our diversity, and we are going to try to reach out to every boy and girl, as well as every adult, to bring them in to working on behalf of our country. I have a very positive and optimistic view about what we can do together. That’s why the slogan of my campaign is “Stronger Together,” because I think if we work together, if we overcome the divisiveness that sometimes sets Americans against one another, and instead we make some big goals—and I’ve set forth some big goals, getting the economy to work for everyone, not just those at the top, making sure that we have the best education system from preschool through college and making it affordable, and so much else. If we set those goals and we go together to try to achieve them, there’s nothing in my opinion that America can’t do. So that’s why I hope that we will come together in this campaign. Obviously, I’m hoping to earn your vote, I’m hoping to be elected in November, and I can promise you, I will work with every American. I want to be the president for all Americans, regardless of your political beliefs, where you come from, what you look like, your religion. I want us to heal our country and bring it together because that’s, I think, the best way for us to get the future that our children and our grandchildren deserve.  Well, like everyone else, I’ve spent a lot of time thinking over the last 48 hours about what we heard and saw. You know, with prior Republican nominees for president, I disagreed with them on politics, policies, principles, but I never questioned their fitness to serve. Donald Trump is different. I said starting back in June that he was not fit to be president and commander-in-chief. And many Republicans and independents have said the same thing. What we all saw and heard on Friday was Donald talking about women, what he thinks about women, what he does to women. And he has said that the video doesn’t represent who he is. But I think it’s clear to anyone who heard it that it represents exactly who he is. Because we’ve seen this throughout the campaign. We have seen him insult women. We’ve seen him rate women on their appearance, ranking them from one to ten. We’ve seen him embarrass women on TV and on Twitter. We saw him after the first debate spend nearly a week denigrating a former Miss Universe in the harshest, most personal terms. So, yes, this is who Donald Trump is. But it’s not only women, and it’s not only this video that raises questions about his fitness to be our president, because he has also targeted immigrants, African-Americans, Latinos, people with disabilities, POWs, Muslims, and so many others. So this is who Donald Trump is. And the question for us, the question our country must answer is that this is not who we are. That’s why—to go back to your question—I want to send a message—we all should—to every boy and girl and, indeed, to the entire world that America already is great, but we are great because we are good, and we will respect one another, and we will work with one another, and we will celebrate our diversity. These are very important values to me, because this is the America that I know and love. And I can pledge to you tonight that this is the America that I will serve if I’m so fortunate enough to become your president.  Well, first, let me start by saying that so much of what he’s just said is not right, but he gets to run his campaign any way he chooses. He gets to decide what he wants to talk about. Instead of answering people’s questions, talking about our agenda, laying out the plans that we have that we think can make a better life and a better country, that’s his choice. When I hear something like that, I am reminded of what my friend, Michelle Obama, advised us all: When they go low, you go high. [applause] And, look, if this were just about one video, maybe what he’s saying tonight would be understandable, but everyone can draw their own conclusions at this point about whether or not the man in the video or the man on the stage respects women. But he never apologizes for anything to anyone. He never apologized to Mr. and Mrs. Khan, the Gold Star family whose son, Captain Khan, died in the line of duty in Iraq. And Donald insulted and attacked them for weeks over their religion. He never apologized to the distinguished federal judge who was born in Indiana, but Donald said he couldn’t be trusted to be a judge because his parents were, quote, “Mexican.” He never apologized to the reporter that he mimicked and mocked on national television and our children were watching. And he never apologized for the racist lie that President Obama was not born in the United States of America. He owes the president an apology, he owes our country an apology, and he needs to take responsibility for his actions and his words.  … because everything he just said is absolutely false, but I’m not surprised.  In the first debate…[laughter]  … I told people that it would be impossible to be fact-checking Donald all the time. I’d never get to talk about anything I want to do and how we’re going to really make lives better for people. So, once again, go to HillaryClinton.com. We have literally Trump—you can fact check him in real time. Last time at the first debate, we had millions of people fact checking, so I expect we’ll have millions more fact checking, because, you know, it is—it’s just awfully good that someone with the temperament of Donald Trump is not in charge of the law in our country.  Well, Martha, first, let me say—and I’ve said before, but I’ll repeat it, because I want everyone to hear it—that was a mistake, and I take responsibility for using a personal e-mail account. Obviously, if I were to do it over again, I would not. I’m not making any excuses. It was a mistake. And I am very sorry about that. But I think it’s also important to point out where there are some misleading accusations from critics and others. After a year-long investigation, there is no evidence that anyone hacked the server I was using and there is no evidence that anyone can point to at all—anyone who says otherwise has no basis—that any classified material ended up in the wrong hands. I take classified materials very seriously and always have. When I was on the Senate Armed Services Committee, I was privy to a lot of classified material. Obviously, as secretary of state, I had some of the most important secrets that we possess, such as going after Bin Laden. So I am very committed to taking classified information seriously. And as I said, there is no evidence that any classified information ended up in the wrong hands.  Look, it’s just not true. And so please, go to…  It was personal e-mails, not official.  Not—well, we turned over 35,000, so…  Yes, that’s true, I didn’t.  I didn’t in the first debate, and I’m going to try not to in this debate, because I’d like to get to the questions that the people have brought here tonight to talk to us about.  OK, Donald. I know you’re into big diversion tonight, anything to avoid talking about your campaign and the way it’s exploding and the way Republicans are leaving you. But let’s at least focus…  … on some of the issues that people care about tonight. Let’s get to their questions.  If he wants to start, he can start. No, go ahead, Donald.  Well, I think Donald was about to say he’s going to solve it by repealing it and getting rid of the Affordable Care Act. And I’m going to fix it, because I agree with you. Premiums have gotten too high. Copays, deductibles, prescription drug costs, and I’ve laid out a series of actions that we can take to try to get those costs down. But here’s what I don’t want people to forget when we’re talking about reining in the costs, which has to be the highest priority of the next president, when the Affordable Care Act passed, it wasn’t just that 20 million people got insurance who didn’t have it before. But that in and of itself was a good thing. I meet these people all the time, and they tell me what a difference having that insurance meant to them and their families. But everybody else, the 170 million of us who get health insurance through our employers got big benefits. Number one, insurance companies can’t deny you coverage because of a pre-existing condition. Number two, no lifetime limits, which is a big deal if you have serious health problems. Number three, women can’t be charged more than men for our health insurance, which is the way it used to be before the Affordable Care Act. Number four, if you’re under 26, and your parents have a policy, you can be on that policy until the age of 26, something that didn’t happen before. So I want very much to save what works and is good about the Affordable Care Act. But we’ve got to get costs down. We’ve got to provide some additional help to small businesses so that they can afford to provide health insurance. But if we repeal it, as Donald has proposed, and start over again, all of those benefits I just mentioned are lost to everybody, not just people who get their health insurance on the exchange. And then we would have to start all over again. Right now, we are at 90 percent health insurance coverage. That’s the highest we’ve ever been in our country.  So I want us to get to 100 percent, but get costs down and keep quality up.  No, I mean, he clarified what he meant. And it’s very clear. Look, we are in a situation in our country where if we were to start all over again, we might come up with a different system. But we have an employer-based system. That’s where the vast majority of people get their health care. And the Affordable Care Act was meant to try to fill the gap between people who were too poor and couldn’t put together any resources to afford health care, namely people on Medicaid. Obviously, Medicare, which is a single-payer system, which takes care of our elderly and does a great job doing it, by the way, and then all of the people who were employed, but people who were working but didn’t have the money to afford insurance and didn’t have anybody, an employer or anybody else, to help them. That was the slot that the Obamacare approach was to take. And like I say, 20 million people now have health insurance. So if we just rip it up and throw it away, what Donald’s not telling you is we just turn it back to the insurance companies the way it used to be, and that means the insurance companies…  … get to do pretty much whatever they want, including saying, look, I’m sorry, you’ve got diabetes, you had cancer, your child has asthma…  … you may not be able to have insurance because you can’t afford it. So let’s fix what’s broken about it, but let’s not throw it away and give it all back to the insurance companies and the drug companies. That’s not going to work.  Well, thank you for asking your question. And I’ve heard this question from a lot of Muslim-Americans across our country, because, unfortunately, there’s been a lot of very divisive, dark things said about Muslims. And even someone like Captain Khan, the young man who sacrificed himself defending our country in the United States Army, has been subject to attack by Donald. I want to say just a couple of things. First, we’ve had Muslims in America since George Washington. And we’ve had many successful Muslims. We just lost a particularly well-known one with Muhammad Ali. My vision of America is an America where everyone has a place, if you’re willing to work hard, you do your part, you contribute to the community. That’s what America is. That’s what we want America to be for our children and our grandchildren. It’s also very short-sighted and even dangerous to be engaging in the kind of demagogic rhetoric that Donald has about Muslims. We need American Muslims to be part of our eyes and ears on our front lines. I’ve worked with a lot of different Muslim groups around America. I’ve met with a lot of them, and I’ve heard how important it is for them to feel that they are wanted and included and part of our country, part of our homeland security, and that’s what I want to see. It’s also important I intend to defeat ISIS, to do so in a coalition with majority Muslim nations. Right now, a lot of those nations are hearing what Donald says and wondering, why should we cooperate with the Americans? And this is a gift to ISIS and the terrorists, violent jihadist terrorists. We are not at war with Islam. And it is a mistake and it plays into the hands of the terrorists to act as though we are. So I want a country where citizens like you and your family are just as welcome as anyone else.  Well, first of all, I will not let anyone into our country that I think poses a risk to us. But there are a lot of refugees, women and children—think of that picture we all saw of that 4-year-old boy with the blood on his forehead because he’d been bombed by the Russian and Syrian air forces. There are children suffering in this catastrophic war, largely, I believe, because of Russian aggression. And we need to do our part. We by no means are carrying anywhere near the load that Europe and others are. But we will have vetting that is as tough as it needs to be from our professionals, our intelligence experts and others. But it is important for us as a policy, you know, not to say, as Donald has said, we’re going to ban people based on a religion. How do you do that? We are a country founded on religious freedom and liberty. How do we do what he has advocated without causing great distress within our own county? Are we going to have religious tests when people fly into our country? And how do we expect to be able to implement those? So I thought that what he said was extremely unwise and even dangerous. And indeed, you can look at the propaganda on a lot of the terrorist sites, and what Donald Trump says about Muslims is used to recruit fighters, because they want to create a war between us. And the final thing I would say, this is the 10th or 12th time that he’s denied being for the war in Iraq. We have it on tape. The entire press corps has looked at it. It’s been debunked, but it never stops him from saying whatever he wants to say.  So, please…  … go to HillaryClinton.com and you can see it.  Well, right. As I recall, that was something I said about Abraham Lincoln after having seen the wonderful Steven Spielberg movie called “Lincoln.” It was a master class watching President Lincoln get the Congress to approve the 13th Amendment. It was principled, and it was strategic. And I was making the point that it is hard sometimes to get the Congress to do what you want to do and you have to keep working at it. And, yes, President Lincoln was trying to convince some people, he used some arguments, convincing other people, he used other arguments. That was a great—I thought a great display of presidential leadership. But, you know, let’s talk about what’s really going on here, Martha, because our intelligence community just came out and said in the last few days that the Kremlin, meaning Putin and the Russian government, are directing the attacks, the hacking on American accounts to influence our election. And WikiLeaks is part of that, as are other sites where the Russians hack information, we don’t even know if it’s accurate information, and then they put it out. We have never in the history of our country been in a situation where an adversary, a foreign power, is working so hard to influence the outcome of the election. And believe me, they’re not doing it to get me elected. They’re doing it to try to influence the election for Donald Trump. Now, maybe because he has praised Putin, maybe because he says he agrees with a lot of what Putin wants to do, maybe because he wants to do business in Moscow, I don’t know the reasons. But we deserve answers. And we should demand that Donald release all of his tax returns so that people can see what are the entanglements and the financial relationships that he has…  … with the Russians and other foreign powers.  Well, everything you’ve heard just now from Donald is not true. I’m sorry I have to keep saying this, but he lives in an alternative reality. And it is sort of amusing to hear somebody who hasn’t paid federal income taxes in maybe 20 years talking about what he’s going to do. But I’ll tell you what he’s going to do. His plan will give the wealthy and corporations the biggest tax cuts they’ve ever had, more than the Bush tax cuts by at least a factor of two. Donald always takes care of Donald and people like Donald, and this would be a massive gift. And, indeed, the way that he talks about his tax cuts would end up raising taxes on middle-class families, millions of middle-class families. Now, here’s what I want to do. I have said nobody who makes less than $250,000 a year—and that’s the vast majority of Americans as you know—will have their taxes raised, because I think we’ve got to go where the money is. And the money is with people who have taken advantage of every single break in the tax code. And, yes, when I was a senator, I did vote to close corporate loopholes. I voted to close, I think, one of the loopholes he took advantage of when he claimed a billion-dollar loss that enabled him to avoid paying taxes. I want to have a tax on people who are making a million dollars. It’s called the Buffett rule. Yes, Warren Buffett is the one who’s gone out and said somebody like him should not be paying a lower tax rate than his secretary. I want to have a surcharge on incomes above $5 million. We have to make up for lost times, because I want to invest in you. I want to invest in hard-working families. And I think it’s been unfortunate, but it’s happened, that since the Great Recession, the gains have all gone to the top. And we need to reverse that. People like Donald, who paid zero in taxes, zero for our vets, zero for our military, zero for health and education, that is wrong.  And we’re going to make sure that nobody, no corporation, and no individual can get away without paying his fair share to support our country.  Well, here we go again. I’ve been in favor of getting rid of carried interest for years, starting when I was a senator from New York. But that’s not the point here.  Because I was a senator with a Republican president.  I will be the president and we will get it done. That’s exactly right.  You know, under our Constitution, presidents have something called veto power. Look, he has now said repeatedly, “30 years this and 30 years that.” So let me talk about my 30 years in public service. I’m very glad to do so. Eight million kids every year have health insurance, because when I was first lady I worked with Democrats and Republicans to create the Children’s Health Insurance Program. Hundreds of thousands of kids now have a chance to be adopted because I worked to change our adoption and foster care system. After 9/11, I went to work with Republican mayor, governor and president to rebuild New York and to get health care for our first responders who were suffering because they had run toward danger and gotten sickened by it. Hundreds of thousands of National Guard and Reserve members have health care because of work that I did, and children have safer medicines because I was able to pass a law that required the dosing to be more carefully done. When I was secretary of state, I went around the world advocating for our country, but also advocating for women’s rights, to make sure that women had a decent chance to have a better life and negotiated a treaty with Russia to lower nuclear weapons. Four hundred pieces of legislation have my name on it as a sponsor or cosponsor when I was a senator for eight years. I worked very hard and was very proud to be re-elected in New York by an even bigger margin than I had been elected the first time. And as president, I will take that work, that bipartisan work, that finding common ground, because you have to be able to get along with people to get things done in Washington.  And I’ve proven that I can, and for 30 years, I’ve produced results for people.  Well, the situation in Syria is catastrophic. And every day that goes by, we see the results of the regime by Assad in partnership with the Iranians on the ground, the Russians in the air, bombarding places, in particular Aleppo, where there are hundreds of thousands of people, probably about 250,000 still left. And there is a determined effort by the Russian air force to destroy Aleppo in order to eliminate the last of the Syrian rebels who are really holding out against the Assad regime. Russia hasn’t paid any attention to ISIS. They’re interested in keeping Assad in power. So I, when I was secretary of state, advocated and I advocate today a no-fly zone and safe zones. We need some leverage with the Russians, because they are not going to come to the negotiating table for a diplomatic resolution, unless there is some leverage over them. And we have to work more closely with our partners and allies on the ground. But I want to emphasize that what is at stake here is the ambitions and the aggressiveness of Russia. Russia has decided that it’s all in, in Syria. And they’ve also decided who they want to see become president of the United States, too, and it’s not me. I’ve stood up to Russia. I’ve taken on Putin and others, and I would do that as president. I think wherever we can cooperate with Russia, that’s fine. And I did as secretary of state. That’s how we got a treaty reducing nuclear weapons. It’s how we got the sanctions on Iran that put a lid on the Iranian nuclear program without firing a single shot. So I would go to the negotiating table with more leverage than we have now. But I do support the effort to investigate for crimes, war crimes committed by the Syrians and the Russians and try to hold them accountable.  No, I wasn’t. I was gone. I hate to interrupt you, but at some point…  At some point, we need to do some fact-checking here.  I would not use American ground forces in Syria. I think that would be a very serious mistake. I don’t think American troops should be holding territory, which is what they would have to do as an occupying force. I don’t think that is a smart strategy. I do think the use of special forces, which we’re using, the use of enablers and trainers in Iraq, which has had some positive effects, are very much in our interests, and so I do support what is happening, but let me just…  Well, Martha, I hope that by the time I—if I’m fortunate…  I hope by the time I am president that we will have pushed ISIS out of Iraq. I do think that there is a good chance that we can take Mosul. And, you know, Donald says he knows more about ISIS than the generals. No, he doesn’t. There are a lot of very important planning going on, and some of it is to signal to the Sunnis in the area, as well as Kurdish Peshmerga fighters, that we all need to be in this. And that takes a lot of planning and preparation. I would go after Baghdadi. I would specifically target Baghdadi, because I think our targeting of Al Qaida leaders—and I was involved in a lot of those operations, highly classified ones—made a difference. So I think that could help. I would also consider arming the Kurds. The Kurds have been our best partners in Syria, as well as Iraq. And I know there’s a lot of concern about that in some circles, but I think they should have the equipment they need so that Kurdish and Arab fighters on the ground are the principal way that we take Raqqa after pushing ISIS out of Iraq.  Well, 67 percent of the people voted to re-elect me when I ran for my second term, and I was very proud and very humbled by that. Mr. Carter, I have tried my entire life to do what I can to support children and families. You know, right out of law school, I went to work for the Children’s Defense Fund. And Donald talks a lot about, you know, the 30 years I’ve been in public service. I’m proud of that. You know, I started off as a young lawyer working against discrimination against African-American children in schools and in the criminal justice system. I worked to make sure that kids with disabilities could get a public education, something that I care very much about. I have worked with Latinos—one of my first jobs in politics was down in south Texas registering Latino citizens to be able to vote. So I have a deep devotion, to use your absolutely correct word, to making sure that every American feels like he or she has a place in our country. And I think when you look at the letters that I get, a lot of people are worried that maybe they wouldn’t have a place in Donald Trump’s America. They write me, and one woman wrote me about her son, Felix. She adopted him from Ethiopia when he was a toddler. He’s 10 years old now. This is the only country he’s ever known. And he listens to Donald on TV and he said to his mother one day, will he send me back to Ethiopia if he gets elected? You know, children listen to what is being said. To go back to the very, very first question. And there’s a lot of fear—in fact, teachers and parents are calling it the Trump effect. Bullying is up. A lot of people are feeling, you know, uneasy. A lot of kids are expressing their concerns. So, first and foremost, I will do everything I can to reach out to everybody.  Democrats, Republicans, independents, people across our country. If you don’t vote for me, I still want to be your president.  I want to be the best president I can be for every American.  Well, within hours I said that I was sorry about the way I talked about that, because my argument is not with his supporters. It’s with him and with the hateful and divisive campaign that he has run, and the inciting of violence at his rallies, and the very brutal kinds of comments about not just women, but all Americans, all kinds of Americans. And what he has said about African-Americans and Latinos, about Muslims, about POWs, about immigrants, about people with disabilities, he’s never apologized for. And so I do think that a lot of the tone and tenor that he has said—I’m proud of the campaign that Bernie Sanders and I ran. We ran a campaign based on issues, not insults. And he is supporting me 100 percent.  Because we talked about what we wanted to do. We might have had some differences, and we had a lot of debates…  No.  Well, it’s not only my opinion. It’s the opinion of many others, national security experts, Republicans, former Republican members of Congress. But it’s in part because those of us who have had the great privilege of seeing this job up close and know how difficult it is, and it’s not just because I watched my husband take a $300 billion deficit and turn it into a $200 billion surplus, and 23 million new jobs were created, and incomes went up for everybody. Everybody. African-American incomes went up 33 percent. And it’s not just because I worked with George W. Bush after 9/11, and I was very proud that when I told him what the city needed, what we needed to recover, he said you’ve got it, and he never wavered. He stuck with me. And I have worked and I admire President Obama. He inherited the worst financial crisis since the Great Depression. That was a terrible time for our country.  Nine million people lost their jobs.  Five million homes were lost.  And $13 trillion in family wealth was wiped out. We are back on the right track. He would send us back into recession with his tax plans that benefit the wealthiest of Americans.  Thank you. Well, you’re right. This is one of the most important issues in this election. I want to appoint Supreme Court justices who understand the way the world really works, who have real-life experience, who have not just been in a big law firm and maybe clerked for a judge and then gotten on the bench, but, you know, maybe they tried some more cases, they actually understand what people are up against. Because I think the current court has gone in the wrong direction. And so I would want to see the Supreme Court reverse Citizens United and get dark, unaccountable money out of our politics. Donald doesn’t agree with that. I would like the Supreme Court to understand that voting rights are still a big problem in many parts of our country, that we don’t always do everything we can to make it possible for people of color and older people and young people to be able to exercise their franchise. I want a Supreme Court that will stick with Roe v. Wade and a woman’s right to choose, and I want a Supreme Court that will stick with marriage equality. Now, Donald has put forth the names of some people that he would consider. And among the ones that he has suggested are people who would reverse Roe v. Wade and reverse marriage equality. I think that would be a terrible mistake and would take us backwards. I want a Supreme Court that doesn’t always side with corporate interests. I want a Supreme Court that understands because you’re wealthy and you can give more money to something doesn’t mean you have any more rights or should have any more rights than anybody else. So I have very clear views about what I want to see to kind of change the balance on the Supreme Court. And I regret deeply that the Senate has not done its job and they have not permitted a vote on the person that President Obama, a highly qualified person, they’ve not given him a vote to be able to be have the full complement of nine Supreme Court justices. I think that was a dereliction of duty. I hope that they will see their way to doing it, but if I am so fortunate enough as to be president, I will immediately move to make sure that we fill that, we have nine justices that get to work on behalf of our people.  Well…[crosstalk]  The question was about the Supreme Court. And I just want to quickly say, I respect the Second Amendment. But I believe there should be comprehensive background checks, and we should close the gun show loophole, and close the online loophole.  We have to save as many lives as we possibly can.  And actually—well, that was very interesting. First of all, China is illegally dumping steel in the United States and Donald Trump is buying it to build his buildings, putting steelworkers and American steel plants out of business. That’s something that I fought against as a senator and that I would have a trade prosecutor to make sure that we don’t get taken advantage of by China on steel or anything else. You know, because it sounds like you’re in the business or you’re aware of people in the business—you know that we are now for the first time ever energy-independent. We are not dependent upon the Middle East. But the Middle East still controls a lot of the prices. So the price of oil has been way down. And that has had a damaging effect on a lot of the oil companies, right? We are, however, producing a lot of natural gas, which serves as a bridge to more renewable fuels. And I think that’s an important transition. We’ve got to remain energy-independent. It gives us much more power and freedom than to be worried about what goes on in the Middle East. We have enough worries over there without having to worry about that. So I have a comprehensive energy policy, but it really does include fighting climate change, because I think that is a serious problem. And I support moving toward more clean, renewable energy as quickly as we can, because I think we can be the 21st century clean energy superpower and create millions of new jobs and businesses. But I also want to be sure that we don’t leave people behind. That’s why I’m the only candidate from the very beginning of this campaign who had a plan to help us revitalize coal country, because those coal miners and their fathers and their grandfathers, they dug that coal out. A lot of them lost their lives. They were injured, but they turned the lights on and they powered our factories. I don’t want to walk away from them. So we’ve got to do something for them.  But the price of coal is down worldwide. So we have to look at this comprehensively.  And that’s exactly what I have proposed. I hope you will go to HillaryClinton.com and look at my entire policy.'"
      ]
     },
     "execution_count": 51,
     "metadata": {},
     "output_type": "execute_result"
    }
   ],
   "source": [
    "candidates = ['CLINTON:', 'OBAMA:', 'GORE:', 'CARTER:', 'KENNEDY:', 'KERRY:', 'DUKAKIS:', 'MONDALE:', 'DOLE:', 'ANDERSON:', 'BUSH:', \"TRUMP:\", \"NIXON:\", \"MCCAIN:\", 'FORD:', 'ROMNEY:', 'REAGAN:']\n",
    "\n",
    "# Iterate through each row in the \"Text\" column\n",
    "for index, row in result_df.iterrows():\n",
    "    text = row['Text']\n",
    "    \n",
    "    # Iterate through each candidate in the list\n",
    "    for candidate in candidates:\n",
    "        # Check if candidate is in the text\n",
    "        if candidate in text:\n",
    "            # Replace candidate with an empty string\n",
    "            text = text.replace(candidate, \"\")\n",
    "    \n",
    "    # Update the \"Text\" column with the modified text\n",
    "    result_df.at[index, 'Text'] = text\n",
    "\n",
    "result_df['Text'][1]"
   ]
  },
  {
   "cell_type": "code",
   "execution_count": 52,
   "metadata": {},
   "outputs": [
    {
     "data": {
      "text/plain": [
       "' No. There are many people who believe that the only way we can get this country turned around is to tax the middle class more and punish them more, but the truth is that middle-class Americans are basically the only group of Americans who’ve been taxed more in the 1980s and during the last 12 years, even though their incomes have gone down. The wealthiest Americans have been taxed much less, even though their incomes have gone up. Middle-class people will have their fair share of changing to do, and many challenges to face, including the challenge of becoming constantly re-educated. But my plan is a departure from trickle-down economics, just cutting taxes on the wealthiest Americans and getting out of the way. It’s also a departure from tax-and- spend economics, because you can’t tax and divide an economy that isn’t growing. I propose an American version of what works in other countries — I think we can do it better: invest and grow. I believe we can increase investment and reduce the deficit at the same time, if we not only ask the wealthiest Americans and foreign corporations to pay their share; we also provide over $100 billion in tax relief, in terms of incentives for new plants, new small businesses, new technologies, new housing, and for middle class families; and we have $140 billion of spending cuts. Invest and grow. Raise some more money, spend the money on tax incentives to have growth in the private sector, take the money from the defense cuts and reinvest it in new transportation and communications and environmental clean-up systems. This will work. On this, as on so many other issues, I have a fundamental difference from the present administration. I don’t believe trickle down economics will work. Unemployment is up. Most people are working harder for less money than they were making 10 years ago. I think we can do better if we have the courage to change.  I disagree with both of them. For one thing, let me just follow up here. I disagree with Mr. Perot that the answer is to raise — put a 50-cent gas tax on the middle class and raise more taxes on the middle class and the working poor than on the wealthy. His own analysis says that unemployment will be slightly higher in 1995 under his plan than it is today. And as far as what Mr. Bush says, he is the person who raised taxes on the middle class after saying he wouldn’t. And just this year, Mr. Bush vetoed a tax increase on the wealthy that gave middle class tax relief. He vetoed middle class tax relief this year. And furthermore, under this administration, spending has increased more than it has in the last 20 years and he asked Congress to spend more money than it actually spent. Now, it’s hard to out-spend Congress but he tried to for the last 3 years. So my view is the middle class is the — they’ve been suffering, Jim. Now, should people pay more for Medicare if they can? Yes. Should they pay more for Social Security if they get more out of it than they paid in, they’re upper income people? Yes. But look what’s happened to the middle class. Middle class Americans are working harder for less money than they were making ten years ago and they’re paying higher taxes. The tax burden on them has not gone down. It has gone up. I don’t think the answer is to slow the economy down more, drive unemployment up more and undermine the health of the private sector. The answer is to invest and grow this economy. That’s what works in other countries and that’s what’ll work here.  Mr. Bush’s Bureau of Labor Statistics says that Arkansas ranks first in the country in the growth of new jobs this year, first.  4th in manufacturing jobs, 4th in the reduction of poverty, 4th in income increase. Over the last 10 years we’ve created manufacturing jobs much more rapidly than the national average. Over the last 5 years our income has grown more rapidly than the national average. We are 2nd in tax burden, the 2nd lowest tax burden in the country. We have the lowest per capita state and local spending in the country. We’re low spending, low tax burden. We dramatically increased investment and our jobs are growing. I wish America had that kind of record and I think most people looking at us tonight would like it if we had more jobs and a lower spending burden on the government.  Mr. Perot, with all respect, I think it is highly relevant, and I think that a 4-billion dollar budget of state and federal funds is not all that small, and I think the fact that I took a state that was one of the poorest states in the country and had been for 153 years and tried my best to modernize its economy and to make the kind of changes that have generated support from people like the presidents of Apple Computer and Hewlett-Packard and some of the biggest companies in this country, 24 retired generals and admirals and hundreds of business executives, are highly relevant. And, you know, I’m frankly amazed that since you grew up 5 blocks from there you would think that what goes on in that state is irrelevant. I think it’s been pretty impressive.  And the people who have jobs — (APPLAUSE) The people who have jobs and educations and opportunities that didn’t have them 10 years ago don’t think it’s irrelevant at all; they think it’s highly relevant and they wish the rest of the country had them.  Well, you think it’s relevant. (Laughter)  The only thing I would say about that is, I think that on the economy, Mr. Bush said for a long time there was no recession, and then said it would be better to do nothing than to have a compromise effort with the Congress. He really didn’t have a new economic program until over 1300 days into his presidency, and not all of his health care initiative has been presented to the Congress even now. I think it’s important to elect a president who is committed to getting this economy going again, and who realizes we have to abandon trickle-down economics and put the American people first again, and who will send programs to the Congress in the first hundred days to deal with the critical issues that America is crying out for leadership on — jobs, incomes, the health care crisis, the need to control the economy. Those things deserve to be dealt with from day one. I will deal with them from day 1. They will be my first priority, not my election year concern.  I don’t have any criticism of Mr. Perot. I think what I’d like to talk about a minute, since you’re asking the question, is the General Motors issue. I don’t think there’s any question that the automobile executives made some errors in the 1980s, but I also think we should look at how much productivity has increased lately, how much labor has done to increase productivity and how much management has done. And we’re still losing a lot of auto jobs, in my judgment, because we don’t have a national economic strategy that will build the industrial base of this country. Just today I met with the presidents and the vice presidents of the Willow Run union here, near here. They both said they were Vietnam veterans supporting me because I had an economic program to put them back to work. We need an investment incentive to modernize plant and equipment; we’ve got to control the health care costs for those people — otherwise we can’t keep the manufacturing jobs here; and we need a tough trade policy that is fair, that insists on open markets in return for open markets. We ought to have a strategy that will build the economic and industrial base. So I think Mr. Perot was right in questioning the management practices. But they didn’t have much of a partner in government here as compared with the policies the Germans and the Japanese followed, and I believe we can do better. That’s one of the things I want to change. I know that we can grow manufacturing jobs. We did it in my state, and we can do it nationally.  Let’s just talk about the CAFE standards — that’s the fuel efficiency standards. They are now 27.5 miles per gallon per automobile fleet. I never said — and I defy you to find where I said — I gave an extensive environmental speech in April, and I said that we ought to have a goal of raising the fuel efficiency standards to 40 miles a gallon. I think that should be a goal. I have never said we should write it into law if there is evidence that that goal cannot be achieved. The Natl Science Foundation did a study which said it would be difficult for us to reach fuel efficiency standards in excess of 37 miles per gallon by the year 2000. I think we should try to raise the fuel efficiency. And let me say this. I think we ought to have incentives to do it, I think we ought to push to do it. That doesn’t mean we have to write it into the law. Look, I am a job creator, not a job destroyer. It is the Bush administration that has had no new jobs in the private sector in the last 4 years. In my state, we’re leading the country in private sector job growth. But it is good for America to improve fuel efficiency. We also ought to convert more vehicles to compressed natural gas. That’s another way to improve the environment.  I’d like to respond to that. You know, Mr. Bush was very grateful when I was among the Democrats who said he ought to have the authority to negotiate an agreement with Mexico. Neither I nor anybody else, as far a I know, agreed to give him our proxy to say that whatever he did was fine for the workers of this country and for the interests of this country. I am the one who’s in the middle on this. Mr. Perot says it’s a bad deal. Mr. Bush says it’s a hunky-dory deal. I say on balance it does more good than harm if, if we can get some protection for the environment so that the Mexicans have to follow their own environmental standards, their own labor law standards, and if we have a genuine commitment to reeducate and retrain the American workers who lose their jobs and reinvest in this economy. I have a realistic approach to trade. I want more trade, and I know there are some good things in that agreement. But it can sure be made better. Let me just point out, just today in the Los Angeles Times Clyde Prestowitz, who was one of President Reagan’s leading trade advisers and a life-long conservative Republican, endorsed my candidacy because he knows that I’ll have a free and fair trade policy, a hard-headed, realistic policy, and not get caught up in rubber-stamping everything the Bush administration did. If I wanted to do that, why would I run for president, Jim? Anybody else can run the middle class down and run the economy in a ditch. I want to change it. (APPLAUSE)  That’s what’s wrong with Mr. Bush. His whole deal is you’ve gotta be for it or against it, you can’t make it better. I believe we can be better. I think the American people are sick and tired of either/or solutions, people being pushed in the corner, polarized to extremes. GOVERNOR CLINTON (continuing): I want think they want somebody with common sense who can do what’s best for the American people. And I’d be happy to discuss these other issues, but I can’t believe he is accusing me of getting on both sides. He said trickle-down economics was voodoo economics; now he’s it’s biggest practitioner. (Laughter and applause) He promised — he — you know — let me just say —  I could run this string out a long time, but remember this, Jim. Those 209 Americans last Thursday night in Richmond told us they wanted us to stop talking about each other and start talking about Americans and their problems and their promise, and I think we ought to get back to that. I’ll be glad to answer any question you have, but this election ought to be about the American people. (APPLAUSE)  Jim.  Why, I had a great response to that.  Just very briefly. I think Ross is right and that we do need some more restrictions on lobbyists. We ought to make them disclose the people they’ve given money to when they’re testifying before congressional committees; we ought to close the lawyers’ loopholes; they ought to have to disclose when they’re really lobbying. And we ought to have to limit — we ought to have a much longer period of time, about 5 years, between the time when people can leave executive branch offices and then go out and start lobbying for foreign interests. I agree with that. We’ve wrecked the airline industry already because of all these leverage buyouts and all these terrible things that have happened to the airline industry. We’re going to have a hard time rebuilding it. But the real thing we got to have is a competitive economic strategy. Look what’s happening to McDonnell Douglas; even Boeing is losing market share — because we let the Europeans spend $25-$40 billion on Airbus without an appropriate competitive response. What I want America to do is to trade more but to compete and win by investing in competitive ways. And we’re in real trouble on that. (APPLAUSE)  If I had it to do over again I might answer the questions a little better. You know, I’d been in public life a long time and no one had ever questioned my role and so I was asked a lot of questions about things that happened a long time ago and I don’t think I answered them as well as I could have. Going back 23 years, I don’t know, Helen. I was opposed to the war. I couldn’t help that. I felt very strongly about it, and I didn’t want to go at the time. It’s easy to say in retrospect I would have done something differently. President Lincoln opposed the war and there were people who said maybe he shouldn’t be president, but I think he made us a pretty good president in wartime. We’ve had a lot of other presidents who didn’t wear their country’s uniform who had to order our young soldiers into battle, including President Wilson and President Roosevelt. So the answer is I could do that. I wouldn’t relish doing it but I wouldn’t shrink from it. I think that the president has to be prepared to use the power of the nation when our vital interests are threatened, when our treaty commitments are at stake, when we know that something has to be done that is in the national interest, and that is a part of being president. Could I do it? Yes, I could.  The mistake that was made was making the “read my lips” promise in the first place just to get elected, knowing what the size of the deficit was. (APPLAUSE) Knowing what the size of the deficit was, knowing there was no plan to control health care costs and knowing that we did not have a strategy to get real economic growth back into this economy. The choices were not good then. I think at the time, the mistake that was made was signing off on the deal late on Saturday night in the middle of the night. That’s just what the president did when he vetoed the Family Leave Act. I think what he should have done is gone before the American people on the front end and said listen, I made a commitment and it was wrong. I made a mistake because I couldn’t have foreseen these circumstances and this is the best deal we can work out at the time. He said it was in the public interest at the time and most everybody who was involved in it, I guess, thought it was. The real mistake was the “read my lips” promise in the first place. You just can’t promise something like that just to get elected if you know there’s a good chance that circumstances may overtake you.  Well, I believe in the town hall meetings; they started with my campaign in New Hampshire. And I think Ross Perot has done a good job in having them. And I, as you know, pushed for the debate to include the 209 American citizens who were part of it in Richmond a few days ago. I’ve done a lot of them, and I’ll continue to do them as president. But I’d also like to point out that I haven’t been part of what we’re criticizing in Washington tonight. Of the 3 of us, I have balanced a government budget 12 times, I have offered and passed campaign finance reform, offered, pushed for and passed in public referendum lobbyist restrictions, done the kinds of things you have to do to get legislators together not only to establish consensus but to challenge them to change. And in 12 years as governor I guess I’ve taken on every interest group there was in my state at one time or another to fight for change. It can be done. That’s why I tried to be so specific in this campaign to have a mandate, if elected, so that Congress will know what the American people have voted for. (APPLAUSE)  Susan, I don’t agree that there are no women and minorities in important positions in my campaign. There are many. But I think even more relevant is my record at home. For most of my time as governor a woman was my chief of staff. An African American was my chief cabinet officer. An African American was my chief economic development officer. It was interesting today. There was a story today or yesterday in the Washington Post about my economic programs and my chief budget officer and my chief economic officer were both African Americans, even though the Post didn’t mention that, which I think is a sign of progress. The Natl Women’s Political Caucus gave me an award, one of their Good Guy Awards, for my involvement of women in high levels of government, and I’ve appointed more minorities to positions of high level in government than all the governors in the history of my state combined, before me. So that’s what I’ll do as president. I don’t think we’ve got a person to waste and I think I owe the American people a White House staff, a Cabinet and appointments that look like America but that meet high standards of excellence, and that’s what I’ll do. (APPLAUSE)  Let’s take Mr. Bush for the moment at his word — he’s right, we don’t have any evidence at least that our government did tell Saddam Hussein he could have that part of Kuwait. And let’s give him the credit he deserves for organizing Operation Desert Storm and Desert Shield. It was a remarkable event. But let’s look at where I think the real mistake was made. In 1988 when the war between Iraq and Iran ended, we knew Saddam Hussein was a tyrant, we had dealt with him because he was against Iran — the enemy of my enemy maybe is my friend. All right, the war’s over; we know he’s dropping mustard gas on his own people, we know he’s threatened to incinerate half of Israel. Several government departments — several — had information that he was converting our aid to military purposes and trying to develop weapons of mass destruction. But in late ’89 the president signed a secret policy saying we were going to continue to try to improve relations with him, and we sent him some sort of communication on the eve of his invasion of Kuwait that we still wanted better relations. So I think what was wrong — I give credit where credit is due — but the responsibility was in coddling Saddam Hussein when there was no reason to do it and when people at high levels in our government knew he was trying to do things that were outrageous.  Gene, there is a problem in the sense that there are some problem banks, and on December 19th new regulations will go into effect which will in effect give the government the responsibility to close some banks that are not technically insolvent but that are plainly in trouble. On the other hand, I don’t think that we have any reason to believe that the dimensions of this crisis are anywhere near as great as the savings and loan crisis. The mistake that both parties made in Washington with the S&L business was deregulating them without proper capital requirements, proper oversight and regulation, proper training of the executives. Many people predicted what happened, and it was a disaster. The banking system in this country is fundamentally sound with some weak banks. I think that our goal ought to be first of all not to politicize it, not to frighten people; secondly to say that we have to enforce the law in 2 ways. We don’t want to overreact, as the federal regulators have in my judgment, on good banks so that they’ve created credit crunches, that is, they have made our recession worse in the last couple of years — but we do want to act prudently with the banks that are in trouble. We also want to say that insofar as is humanly possible the banking industry itself should pay for the cost of any bank failures; the taxpayers should not. And that will be my policy. And I believe if we have a good balanced approach, we can get the good banks loaning money again, end the credit crunch, have proper regulation on the ones that are in trouble, and not overreact. It is a serious problem, but I don’t see it as the kind of terrible, terrible problem that the S&L problem was.  I would just point out, on the point Mr. Perot made, I agree that we need to cut spending in Congress. I’ve called for a 25% reduction in congressional staffs and expenditures. But the White House staff increased its expenditures by considerably more than Congress has in the last 4 years under the Bush administration, and Congress has actually spent a billion dollars less than President Bush asked them to spend. Now, when you out-spend Congress you’re really swinging. That, however, is not my only passion. The real problem in this country is that most people are working hard and falling farther behind. My passion is to pass a jobs program and get incomes up with an investment incentive program to grow jobs in the private sector, to waste less public money and invest more, to control health care costs and provide for affordable health care for all Americans and to make sure we’ve got the best trained workforce in the world. That is my passion. We’ve gotta get this country growing again and this economy strong again or we can’t bring down the deficit. Economic growth is the key to the future of this country. (APPLAUSE)  My plan — you can read my plan. My plan says that we want to raise marginal incomes on family incomes above $200,000 from 31 to 36 percent, that we want to ask foreign corporations simply to pay the same percentage of taxes on their income that American corporations play (sic) in America, that we want to use that money to provide over $100 billion in tax cuts for investment in new plant and equipment, for small business, for new technologies, and for middle class tax relief. Now, I’ll tell ya this. I will not raise taxes on the middle class to pay for these programs. If the money does not come in there to pay for these programs, we will cut other government spending or we will slow down the phase-in of the programs. I am not gonna raise taxes on the middle class to pay for these programs. Now furthermore, I am not gonna tell you “read my lips” on anything because I cannot foresee what emergencies might develop in this country. And the president said never, never, never would he raise taxes in New Jersey, and within a day Marlin Fitzwater, his spokesman, said now, that’s not a promise. So I think even he has learned that you can’t say “read my lips” because you can’t know what emergencies might come up. But I can tell you this. I’m not gonna raise taxes on middle class Americans to pay for the programs I’ve recommended. Read my plan. And you know how you can trust me about that? Because you know, in the first debate, Mr. Bush made some news. He’d just said Jim Baker was going to be secretary of state and in the first debate he said no, now he’s gonna be responsible for domestic economic policy. Well, I’ll tell ya. I’ll make some news in the 3rd debate. The person responsible for domestic economic policy in my administration will be Bill Clinton. I’m gonna make those decisions, and I won’t raise taxes on the middle class to pay for my programs. (APPLAUSE)  Jim, you permitted Mr. Bush to break the rules, he said, to defend the honor of the country. What about the honor of my state? We rank first in the country in job growth, we got the lowest spending, state and local, in the country, and the 2nd lowest tax burden. And the difference between Arkansas and the US is that we’re going in the right direction and this country’s going in the wrong direction. And I have to defend the honor of my state. (APPLAUSE)  I really can’t believe Mr. Bush is still trying to make trust an issue after “read my lips” and 15 million new jobs and embracing what he called voodoo economics and embracing an export enhancement program for farmers he threatened to veto and going all around the country giving out money in programs that he once opposed. But the main thing is he still didn’t get it, from what he said the other night to that fine woman on our program, the 209 people in Richmond. They don’t want us talking about each other. They want us to talk about the problems of this country. I don’t think he’ll be reelected because trickle down economics is a failure and he’s offering more of it, and what he’s saying about my program is just not true. Look at the Republicans that have endorsed me. High tech executives in Northern California. Look at the 24 generals and admirals, retired, that have endorsed me, including the deputy commander of Desert Storm. Look at Sarah Brady, Jim Brady’s wife, President Reagan’s press secretary, who endorsed me because he knuckled under to the NRA and wouldn’t fight for the Brady Bill. We’ve got a broad-based coalition that goes beyond party because I am going to change this country and make it better, with the help of the American people. (APPLAUSE)'"
      ]
     },
     "execution_count": 52,
     "metadata": {},
     "output_type": "execute_result"
    }
   ],
   "source": [
    "result_df['Text'][5]"
   ]
  },
  {
   "cell_type": "code",
   "execution_count": 53,
   "metadata": {},
   "outputs": [
    {
     "data": {
      "text/plain": [
       "Name\n",
       "B_CLINTON    7\n",
       "BUSH_1       7\n",
       "OBAMA        6\n",
       "BUSH_2       6\n",
       "GORE         5\n",
       "TRUMP        5\n",
       "NIXON        4\n",
       "FORD         4\n",
       "CARTER       4\n",
       "KENNEDY      4\n",
       "KERRY        3\n",
       "MCCAIN       3\n",
       "ROMNEY       3\n",
       "H_CLINTON    3\n",
       "DOLE         2\n",
       "DUKAKIS      2\n",
       "REAGAN       2\n",
       "MONDALE      2\n",
       "Name: count, dtype: int64"
      ]
     },
     "execution_count": 53,
     "metadata": {},
     "output_type": "execute_result"
    }
   ],
   "source": [
    "result_df['Name'].value_counts()"
   ]
  },
  {
   "cell_type": "markdown",
   "metadata": {},
   "source": [
    "## Combining Another Df to result_df"
   ]
  },
  {
   "cell_type": "code",
   "execution_count": 54,
   "metadata": {},
   "outputs": [
    {
     "name": "stdout",
     "output_type": "stream",
     "text": [
      "<class 'pandas.core.frame.DataFrame'>\n",
      "Index: 72 entries, 0 to 161\n",
      "Data columns (total 4 columns):\n",
      " #   Column  Non-Null Count  Dtype \n",
      "---  ------  --------------  ----- \n",
      " 0   Year    72 non-null     object\n",
      " 1   Name    72 non-null     object\n",
      " 2   Text    72 non-null     object\n",
      " 3   Target  72 non-null     int64 \n",
      "dtypes: int64(1), object(3)\n",
      "memory usage: 4.9+ KB\n"
     ]
    }
   ],
   "source": [
    "result_df.info()"
   ]
  },
  {
   "cell_type": "code",
   "execution_count": 55,
   "metadata": {},
   "outputs": [
    {
     "name": "stderr",
     "output_type": "stream",
     "text": [
      "/var/folders/45/9490rsy120vgdzpsxzj4d3wr0000gn/T/ipykernel_61575/3851356818.py:1: SettingWithCopyWarning: \n",
      "A value is trying to be set on a copy of a slice from a DataFrame\n",
      "\n",
      "See the caveats in the documentation: https://pandas.pydata.org/pandas-docs/stable/user_guide/indexing.html#returning-a-view-versus-a-copy\n",
      "  result_df.rename(columns = {'tokens':'string_tokens'}, inplace = True)\n"
     ]
    },
    {
     "data": {
      "text/html": [
       "<div>\n",
       "<style scoped>\n",
       "    .dataframe tbody tr th:only-of-type {\n",
       "        vertical-align: middle;\n",
       "    }\n",
       "\n",
       "    .dataframe tbody tr th {\n",
       "        vertical-align: top;\n",
       "    }\n",
       "\n",
       "    .dataframe thead th {\n",
       "        text-align: right;\n",
       "    }\n",
       "</style>\n",
       "<table border=\"1\" class=\"dataframe\">\n",
       "  <thead>\n",
       "    <tr style=\"text-align: right;\">\n",
       "      <th></th>\n",
       "      <th>Year</th>\n",
       "      <th>Name</th>\n",
       "      <th>Text</th>\n",
       "      <th>Target</th>\n",
       "    </tr>\n",
       "  </thead>\n",
       "  <tbody>\n",
       "    <tr>\n",
       "      <th>0</th>\n",
       "      <td>2016</td>\n",
       "      <td>H_CLINTON</td>\n",
       "      <td>Thank you very much, Chris. And thanks to UNL...</td>\n",
       "      <td>0</td>\n",
       "    </tr>\n",
       "    <tr>\n",
       "      <th>1</th>\n",
       "      <td>2016</td>\n",
       "      <td>H_CLINTON</td>\n",
       "      <td>Well, thank you. Are you a teacher? Yes, I th...</td>\n",
       "      <td>0</td>\n",
       "    </tr>\n",
       "    <tr>\n",
       "      <th>2</th>\n",
       "      <td>2016</td>\n",
       "      <td>H_CLINTON</td>\n",
       "      <td>How are you, Donald? [applause]  Well, thank ...</td>\n",
       "      <td>0</td>\n",
       "    </tr>\n",
       "    <tr>\n",
       "      <th>3</th>\n",
       "      <td>1996</td>\n",
       "      <td>B_CLINTON</td>\n",
       "      <td>I was going to applaud, too. Well, thank you,...</td>\n",
       "      <td>0</td>\n",
       "    </tr>\n",
       "    <tr>\n",
       "      <th>4</th>\n",
       "      <td>1996</td>\n",
       "      <td>B_CLINTON</td>\n",
       "      <td>Thank you, Jim. And thank you to the people o...</td>\n",
       "      <td>0</td>\n",
       "    </tr>\n",
       "  </tbody>\n",
       "</table>\n",
       "</div>"
      ],
      "text/plain": [
       "   Year       Name                                               Text  Target\n",
       "0  2016  H_CLINTON   Thank you very much, Chris. And thanks to UNL...       0\n",
       "1  2016  H_CLINTON   Well, thank you. Are you a teacher? Yes, I th...       0\n",
       "2  2016  H_CLINTON   How are you, Donald? [applause]  Well, thank ...       0\n",
       "3  1996  B_CLINTON   I was going to applaud, too. Well, thank you,...       0\n",
       "4  1996  B_CLINTON   Thank you, Jim. And thank you to the people o...       0"
      ]
     },
     "execution_count": 55,
     "metadata": {},
     "output_type": "execute_result"
    }
   ],
   "source": [
    "result_df.rename(columns = {'tokens':'string_tokens'}, inplace = True)\n",
    "result_df.head()"
   ]
  },
  {
   "cell_type": "markdown",
   "metadata": {},
   "source": [
    "### Conventions df fixing"
   ]
  },
  {
   "cell_type": "code",
   "execution_count": 56,
   "metadata": {},
   "outputs": [
    {
     "data": {
      "text/html": [
       "<div>\n",
       "<style scoped>\n",
       "    .dataframe tbody tr th:only-of-type {\n",
       "        vertical-align: middle;\n",
       "    }\n",
       "\n",
       "    .dataframe tbody tr th {\n",
       "        vertical-align: top;\n",
       "    }\n",
       "\n",
       "    .dataframe thead th {\n",
       "        text-align: right;\n",
       "    }\n",
       "</style>\n",
       "<table border=\"1\" class=\"dataframe\">\n",
       "  <thead>\n",
       "    <tr style=\"text-align: right;\">\n",
       "      <th></th>\n",
       "      <th>Year</th>\n",
       "      <th>Text</th>\n",
       "      <th>link</th>\n",
       "      <th>Name</th>\n",
       "      <th>Target</th>\n",
       "      <th>list_tokens</th>\n",
       "      <th>string_tokens</th>\n",
       "    </tr>\n",
       "  </thead>\n",
       "  <tbody>\n",
       "    <tr>\n",
       "      <th>0</th>\n",
       "      <td>2020</td>\n",
       "      <td>Good evening. Ella Baker, a giant of the civil...</td>\n",
       "      <td>https://www.presidency.ucsb.edu/documents/addr...</td>\n",
       "      <td>BIDEN</td>\n",
       "      <td>0.0</td>\n",
       "      <td>['good', 'evening', 'ella', 'baker', 'giant', ...</td>\n",
       "      <td>good evening ella baker giant civil right move...</td>\n",
       "    </tr>\n",
       "    <tr>\n",
       "      <th>1</th>\n",
       "      <td>2016</td>\n",
       "      <td>Thank you all very, very much! Thank you for t...</td>\n",
       "      <td>https://www.presidency.ucsb.edu/documents/addr...</td>\n",
       "      <td>CLINTON</td>\n",
       "      <td>0.0</td>\n",
       "      <td>['thank', 'much', 'thank', 'amazing', 'welcome...</td>\n",
       "      <td>thank much thank amazing welcome thank great c...</td>\n",
       "    </tr>\n",
       "    <tr>\n",
       "      <th>2</th>\n",
       "      <td>2012</td>\n",
       "      <td>The First Lady. Thank you so much. Tonight I a...</td>\n",
       "      <td>https://www.presidency.ucsb.edu/documents/rema...</td>\n",
       "      <td>OBAMA</td>\n",
       "      <td>0.0</td>\n",
       "      <td>['first', 'lady', 'thank', 'much', 'tonight', ...</td>\n",
       "      <td>first lady thank much tonight thrilled honored...</td>\n",
       "    </tr>\n",
       "    <tr>\n",
       "      <th>3</th>\n",
       "      <td>2008</td>\n",
       "      <td>To Chairman Dean and my great friend Dick Durb...</td>\n",
       "      <td>https://www.presidency.ucsb.edu/documents/addr...</td>\n",
       "      <td>OBAMA</td>\n",
       "      <td>0.0</td>\n",
       "      <td>['chairman', 'dean', 'great', 'friend', 'dick'...</td>\n",
       "      <td>chairman dean great friend dick durbin fellow ...</td>\n",
       "    </tr>\n",
       "    <tr>\n",
       "      <th>4</th>\n",
       "      <td>2004</td>\n",
       "      <td>I'm John Kerry and I'm reporting for duty. We ...</td>\n",
       "      <td>https://www.presidency.ucsb.edu/documents/addr...</td>\n",
       "      <td>KERRY</td>\n",
       "      <td>0.0</td>\n",
       "      <td>['john', 'kerry', 'reporting', 'duty', 'tonigh...</td>\n",
       "      <td>john kerry reporting duty tonight love country...</td>\n",
       "    </tr>\n",
       "  </tbody>\n",
       "</table>\n",
       "</div>"
      ],
      "text/plain": [
       "   Year                                               Text   \n",
       "0  2020  Good evening. Ella Baker, a giant of the civil...  \\\n",
       "1  2016  Thank you all very, very much! Thank you for t...   \n",
       "2  2012  The First Lady. Thank you so much. Tonight I a...   \n",
       "3  2008  To Chairman Dean and my great friend Dick Durb...   \n",
       "4  2004  I'm John Kerry and I'm reporting for duty. We ...   \n",
       "\n",
       "                                                link     Name  Target   \n",
       "0  https://www.presidency.ucsb.edu/documents/addr...    BIDEN     0.0  \\\n",
       "1  https://www.presidency.ucsb.edu/documents/addr...  CLINTON     0.0   \n",
       "2  https://www.presidency.ucsb.edu/documents/rema...    OBAMA     0.0   \n",
       "3  https://www.presidency.ucsb.edu/documents/addr...    OBAMA     0.0   \n",
       "4  https://www.presidency.ucsb.edu/documents/addr...    KERRY     0.0   \n",
       "\n",
       "                                         list_tokens   \n",
       "0  ['good', 'evening', 'ella', 'baker', 'giant', ...  \\\n",
       "1  ['thank', 'much', 'thank', 'amazing', 'welcome...   \n",
       "2  ['first', 'lady', 'thank', 'much', 'tonight', ...   \n",
       "3  ['chairman', 'dean', 'great', 'friend', 'dick'...   \n",
       "4  ['john', 'kerry', 'reporting', 'duty', 'tonigh...   \n",
       "\n",
       "                                       string_tokens  \n",
       "0  good evening ella baker giant civil right move...  \n",
       "1  thank much thank amazing welcome thank great c...  \n",
       "2  first lady thank much tonight thrilled honored...  \n",
       "3  chairman dean great friend dick durbin fellow ...  \n",
       "4  john kerry reporting duty tonight love country...  "
      ]
     },
     "execution_count": 56,
     "metadata": {},
     "output_type": "execute_result"
    }
   ],
   "source": [
    "conventions_df = pd.read_csv('../data/conventions.csv')\n",
    "conventions_df.rename(columns = {'date':'Year', 'speaker':'Name','text':'Text', 'convention':'Target','tokens':'list_tokens'}, inplace = True)\n",
    "conventions_df['Target'] = conventions_df['Target'].replace(to_replace={'DNC':0, 'RNC':1})\n",
    "conventions_df.loc[(conventions_df['Name'] == 'johnson') & (conventions_df['Year'] == 1964), 'Target'] = 0\n",
    "conventions_df['Name'] = [name.upper() for name in conventions_df['Name']]\n",
    "# conventions_df.iloc[14]['Target'] = 0\n",
    "# conventions_df[conventions_df['Target'].isna()]\n",
    "conventions_df.head()"
   ]
  },
  {
   "cell_type": "code",
   "execution_count": 57,
   "metadata": {},
   "outputs": [
    {
     "data": {
      "text/plain": [
       "numpy.int64"
      ]
     },
     "execution_count": 57,
     "metadata": {},
     "output_type": "execute_result"
    }
   ],
   "source": [
    "type(conventions_df['Year'][2])"
   ]
  },
  {
   "cell_type": "code",
   "execution_count": 58,
   "metadata": {},
   "outputs": [],
   "source": [
    "mask = (conventions_df['Name'] == \"CLINTON\") & (conventions_df['Year'] < 2010)\n",
    "conventions_df.loc[mask, 'Name'] = \"B_CLINTON\""
   ]
  },
  {
   "cell_type": "code",
   "execution_count": 59,
   "metadata": {},
   "outputs": [],
   "source": [
    "mask = (conventions_df['Name'] == \"CLINTON\") & (conventions_df['Year'] > 2010)\n",
    "conventions_df.loc[mask, 'Name'] = \"H_CLINTON\""
   ]
  },
  {
   "cell_type": "code",
   "execution_count": 60,
   "metadata": {},
   "outputs": [],
   "source": [
    "mask = (conventions_df['Name'] == \"BUSH\") & (conventions_df['Year'] > 1990)\n",
    "conventions_df.loc[mask, 'Name'] = \"BUSH_2\""
   ]
  },
  {
   "cell_type": "code",
   "execution_count": 61,
   "metadata": {},
   "outputs": [],
   "source": [
    "mask = (conventions_df['Name'] == \"BUSH\") & (conventions_df['Year'] < 1990)\n",
    "conventions_df.loc[mask, 'Name'] = \"BUSH_1\""
   ]
  },
  {
   "cell_type": "code",
   "execution_count": 62,
   "metadata": {},
   "outputs": [
    {
     "data": {
      "text/plain": [
       "Name\n",
       "NIXON        3\n",
       "BUSH_2       3\n",
       "TRUMP        2\n",
       "OBAMA        2\n",
       "B_CLINTON    2\n",
       "REAGAN       2\n",
       "CARTER       2\n",
       "BIDEN        1\n",
       "FORD         1\n",
       "BUSH_1       1\n",
       "DOLE         1\n",
       "MCCAIN       1\n",
       "ROMNEY       1\n",
       "JOHNSON      1\n",
       "KENNEDY      1\n",
       "H_CLINTON    1\n",
       "HUMPHREY     1\n",
       "MCGOVERN     1\n",
       "MONDALE      1\n",
       "DUKAKIS      1\n",
       "GORE         1\n",
       "KERRY        1\n",
       "GOLDWATER    1\n",
       "Name: count, dtype: int64"
      ]
     },
     "execution_count": 62,
     "metadata": {},
     "output_type": "execute_result"
    }
   ],
   "source": [
    "conventions_df['Name'].value_counts()"
   ]
  },
  {
   "cell_type": "markdown",
   "metadata": {},
   "source": [
    "### Inaugural df fixing"
   ]
  },
  {
   "cell_type": "code",
   "execution_count": 63,
   "metadata": {},
   "outputs": [
    {
     "data": {
      "text/html": [
       "<div>\n",
       "<style scoped>\n",
       "    .dataframe tbody tr th:only-of-type {\n",
       "        vertical-align: middle;\n",
       "    }\n",
       "\n",
       "    .dataframe tbody tr th {\n",
       "        vertical-align: top;\n",
       "    }\n",
       "\n",
       "    .dataframe thead th {\n",
       "        text-align: right;\n",
       "    }\n",
       "</style>\n",
       "<table border=\"1\" class=\"dataframe\">\n",
       "  <thead>\n",
       "    <tr style=\"text-align: right;\">\n",
       "      <th></th>\n",
       "      <th>Year</th>\n",
       "      <th>Name</th>\n",
       "      <th>Text</th>\n",
       "      <th>link</th>\n",
       "      <th>text_lower</th>\n",
       "      <th>list_tokens</th>\n",
       "      <th>Target</th>\n",
       "    </tr>\n",
       "  </thead>\n",
       "  <tbody>\n",
       "    <tr>\n",
       "      <th>0</th>\n",
       "      <td>1961</td>\n",
       "      <td>KENNEDY</td>\n",
       "      <td>Vice President Johnson, Mr. Speaker, Mr. Chief...</td>\n",
       "      <td>https://www.presidency.ucsb.edu/documents/inau...</td>\n",
       "      <td>vice president johnson, mr. speaker, mr. chief...</td>\n",
       "      <td>['vice', 'president', 'johnson', 'speaker', 'c...</td>\n",
       "      <td>0</td>\n",
       "    </tr>\n",
       "    <tr>\n",
       "      <th>1</th>\n",
       "      <td>1965</td>\n",
       "      <td>JOHNSON</td>\n",
       "      <td>My fellow countrymen: On this occasion the oat...</td>\n",
       "      <td>https://www.presidency.ucsb.edu/documents/the-...</td>\n",
       "      <td>my fellow countrymen: on this occasion the oat...</td>\n",
       "      <td>['fellow', 'countryman', 'occasion', 'oath', '...</td>\n",
       "      <td>0</td>\n",
       "    </tr>\n",
       "    <tr>\n",
       "      <th>2</th>\n",
       "      <td>1969</td>\n",
       "      <td>NIXON</td>\n",
       "      <td>Senator Dirksen, Mr. Chief Justice, Mr. Vice p...</td>\n",
       "      <td>https://www.presidency.ucsb.edu/documents/inau...</td>\n",
       "      <td>senator dirksen, mr. chief justice, mr. vice p...</td>\n",
       "      <td>['senator', 'dirksen', 'chief', 'justice', 'vi...</td>\n",
       "      <td>1</td>\n",
       "    </tr>\n",
       "    <tr>\n",
       "      <th>3</th>\n",
       "      <td>1977</td>\n",
       "      <td>CARTER</td>\n",
       "      <td>For myself and for our Nation, I want to thank...</td>\n",
       "      <td>https://www.presidency.ucsb.edu/documents/inau...</td>\n",
       "      <td>for myself and for our nation, i want to thank...</td>\n",
       "      <td>['nation', 'want', 'thank', 'predecessor', 'do...</td>\n",
       "      <td>0</td>\n",
       "    </tr>\n",
       "    <tr>\n",
       "      <th>4</th>\n",
       "      <td>1981</td>\n",
       "      <td>REAGAN</td>\n",
       "      <td>Senator Hatfield, Mr. Chief Justice, Mr. Presi...</td>\n",
       "      <td>https://www.presidency.ucsb.edu/documents/inau...</td>\n",
       "      <td>senator hatfield, mr. chief justice, mr. presi...</td>\n",
       "      <td>['senator', 'hatfield', 'chief', 'justice', 'p...</td>\n",
       "      <td>1</td>\n",
       "    </tr>\n",
       "  </tbody>\n",
       "</table>\n",
       "</div>"
      ],
      "text/plain": [
       "   Year     Name                                               Text   \n",
       "0  1961  KENNEDY  Vice President Johnson, Mr. Speaker, Mr. Chief...  \\\n",
       "1  1965  JOHNSON  My fellow countrymen: On this occasion the oat...   \n",
       "2  1969    NIXON  Senator Dirksen, Mr. Chief Justice, Mr. Vice p...   \n",
       "3  1977   CARTER  For myself and for our Nation, I want to thank...   \n",
       "4  1981   REAGAN  Senator Hatfield, Mr. Chief Justice, Mr. Presi...   \n",
       "\n",
       "                                                link   \n",
       "0  https://www.presidency.ucsb.edu/documents/inau...  \\\n",
       "1  https://www.presidency.ucsb.edu/documents/the-...   \n",
       "2  https://www.presidency.ucsb.edu/documents/inau...   \n",
       "3  https://www.presidency.ucsb.edu/documents/inau...   \n",
       "4  https://www.presidency.ucsb.edu/documents/inau...   \n",
       "\n",
       "                                          text_lower   \n",
       "0  vice president johnson, mr. speaker, mr. chief...  \\\n",
       "1  my fellow countrymen: on this occasion the oat...   \n",
       "2  senator dirksen, mr. chief justice, mr. vice p...   \n",
       "3  for myself and for our nation, i want to thank...   \n",
       "4  senator hatfield, mr. chief justice, mr. presi...   \n",
       "\n",
       "                                         list_tokens  Target  \n",
       "0  ['vice', 'president', 'johnson', 'speaker', 'c...       0  \n",
       "1  ['fellow', 'countryman', 'occasion', 'oath', '...       0  \n",
       "2  ['senator', 'dirksen', 'chief', 'justice', 'vi...       1  \n",
       "3  ['nation', 'want', 'thank', 'predecessor', 'do...       0  \n",
       "4  ['senator', 'hatfield', 'chief', 'justice', 'p...       1  "
      ]
     },
     "execution_count": 63,
     "metadata": {},
     "output_type": "execute_result"
    }
   ],
   "source": [
    "inaugural_df = pd.read_csv('../data/inaugural_speeches.csv')\n",
    "inaugural_df.drop(columns='Unnamed: 0', inplace=True)\n",
    "inaugural_df.rename(columns = {'date':'Year', 'name':'Name','text':'Text', 'tokens':'list_tokens'}, inplace = True)\n",
    "\n",
    "dems = ['kennedy', 'johnson', 'carter', 'clinton', 'obama', 'biden']\n",
    "\n",
    "inaugural_df['Target'] = 1  # Default value for rows not matching dems or ind\n",
    "\n",
    "for row in inaugural_df['Name']:\n",
    "    if row in dems:\n",
    "        inaugural_df.loc[inaugural_df['Name'] == row, 'Target'] = 0\n",
    "    else:\n",
    "        inaugural_df.loc[inaugural_df['Name'] == row, 'Target'] = 1\n",
    "        \n",
    "inaugural_df['Name'] = [name.upper() for name in inaugural_df['Name']]\n",
    "\n",
    "inaugural_df.head()"
   ]
  },
  {
   "cell_type": "code",
   "execution_count": 64,
   "metadata": {},
   "outputs": [],
   "source": [
    "inaugural_df['Name'] = inaugural_df['Name'].replace(to_replace={'CLINTON':'B_CLINTON'})"
   ]
  },
  {
   "cell_type": "code",
   "execution_count": 65,
   "metadata": {},
   "outputs": [],
   "source": [
    "mask = (inaugural_df['Name'] == \"BUSH\") & (inaugural_df['Year'] > 1990)\n",
    "inaugural_df.loc[mask, 'Name'] = \"BUSH_2\""
   ]
  },
  {
   "cell_type": "code",
   "execution_count": 66,
   "metadata": {},
   "outputs": [],
   "source": [
    "mask = (inaugural_df['Name'] == \"BUSH\") & (inaugural_df['Year'] < 1990)\n",
    "inaugural_df.loc[mask, 'Name'] = \"BUSH_1\""
   ]
  },
  {
   "cell_type": "code",
   "execution_count": 67,
   "metadata": {},
   "outputs": [
    {
     "data": {
      "text/plain": [
       "Name\n",
       "REAGAN       2\n",
       "B_CLINTON    2\n",
       "BUSH_2       2\n",
       "OBAMA        2\n",
       "KENNEDY      1\n",
       "JOHNSON      1\n",
       "NIXON        1\n",
       "CARTER       1\n",
       "BUSH_1       1\n",
       "TRUMP        1\n",
       "BIDEN        1\n",
       "Name: count, dtype: int64"
      ]
     },
     "execution_count": 67,
     "metadata": {},
     "output_type": "execute_result"
    }
   ],
   "source": [
    "inaugural_df['Name'].value_counts()"
   ]
  },
  {
   "cell_type": "code",
   "execution_count": null,
   "metadata": {},
   "outputs": [],
   "source": []
  },
  {
   "cell_type": "markdown",
   "metadata": {},
   "source": [
    "# NLP"
   ]
  },
  {
   "cell_type": "code",
   "execution_count": 68,
   "metadata": {},
   "outputs": [
    {
     "name": "stderr",
     "output_type": "stream",
     "text": [
      "[nltk_data] Downloading package wordnet to\n",
      "[nltk_data]     /Users/shelleywang/nltk_data...\n",
      "[nltk_data]   Package wordnet is already up-to-date!\n",
      "[nltk_data] Downloading package tagsets to\n",
      "[nltk_data]     /Users/shelleywang/nltk_data...\n",
      "[nltk_data]   Package tagsets is already up-to-date!\n",
      "[nltk_data] Downloading package averaged_perceptron_tagger to\n",
      "[nltk_data]     /Users/shelleywang/nltk_data...\n",
      "[nltk_data]   Package averaged_perceptron_tagger is already up-to-\n",
      "[nltk_data]       date!\n"
     ]
    }
   ],
   "source": [
    "from collections import defaultdict\n",
    "import numpy as np\n",
    "import pandas as pd\n",
    "from sklearn.model_selection import train_test_split\n",
    "\n",
    "import nltk\n",
    "nltk.download('wordnet')\n",
    "nltk.download('tagsets')\n",
    "nltk.download('averaged_perceptron_tagger')\n",
    "\n",
    "from nltk.probability import FreqDist\n",
    "from nltk.corpus import stopwords\n",
    "from nltk.tokenize import regexp_tokenize, word_tokenize, RegexpTokenizer\n",
    "from nltk import pos_tag\n",
    "from nltk.corpus import stopwords, wordnet\n",
    "from nltk.stem import WordNetLemmatizer\n",
    "import matplotlib.pyplot as plt\n",
    "import string\n",
    "import re\n",
    "from sklearn.naive_bayes import MultinomialNB\n",
    "from sklearn.metrics import accuracy_score, precision_score\n",
    "\n",
    "from sklearn.feature_extraction.text import CountVectorizer, TfidfVectorizer,\\\n",
    "HashingVectorizer"
   ]
  },
  {
   "cell_type": "code",
   "execution_count": 69,
   "metadata": {},
   "outputs": [
    {
     "name": "stderr",
     "output_type": "stream",
     "text": [
      "/var/folders/45/9490rsy120vgdzpsxzj4d3wr0000gn/T/ipykernel_61575/2379029665.py:1: SettingWithCopyWarning: \n",
      "A value is trying to be set on a copy of a slice from a DataFrame.\n",
      "Try using .loc[row_indexer,col_indexer] = value instead\n",
      "\n",
      "See the caveats in the documentation: https://pandas.pydata.org/pandas-docs/stable/user_guide/indexing.html#returning-a-view-versus-a-copy\n",
      "  result_df['text_lower'] = [\"\".join(item for item in lst).lower() for lst in result_df['Text']]\n"
     ]
    }
   ],
   "source": [
    "result_df['text_lower'] = [\"\".join(item for item in lst).lower() for lst in result_df['Text']]"
   ]
  },
  {
   "cell_type": "code",
   "execution_count": 70,
   "metadata": {},
   "outputs": [
    {
     "data": {
      "text/plain": [
       "str"
      ]
     },
     "execution_count": 70,
     "metadata": {},
     "output_type": "execute_result"
    }
   ],
   "source": [
    "type(result_df['text_lower'][1])"
   ]
  },
  {
   "cell_type": "code",
   "execution_count": 71,
   "metadata": {},
   "outputs": [],
   "source": [
    "from nltk.corpus import stopwords\n",
    "tokenizer = RegexpTokenizer(r\"(?u)\\w{3,}\") # This pattern finds words that are at least 3 letters long\n",
    "stopwords = stopwords.words(\"english\")\n",
    "lemmatizer = WordNetLemmatizer()\n",
    "\n",
    "def preprocessing(text, tokenizer, stopwords, lemmatizer):\n",
    "    # Make everything in the df[\"Text\"] column into a lower-case string\n",
    "    #text = [\"\".join(item for item in lst).lower() for lst in text]\n",
    "\n",
    "    # Tokenize\n",
    "    tokens = tokenizer.tokenize(text)\n",
    "    \n",
    "    # Remove stopwords\n",
    "    tokens = [token for token in tokens if token not in stopwords]\n",
    "    \n",
    "    # Lemmatize\n",
    "    tokens = [lemmatizer.lemmatize(token) for token in tokens]\n",
    "    \n",
    "    \n",
    "    return tokens"
   ]
  },
  {
   "cell_type": "code",
   "execution_count": 72,
   "metadata": {},
   "outputs": [
    {
     "name": "stderr",
     "output_type": "stream",
     "text": [
      "/var/folders/45/9490rsy120vgdzpsxzj4d3wr0000gn/T/ipykernel_61575/3951515843.py:2: SettingWithCopyWarning: \n",
      "A value is trying to be set on a copy of a slice from a DataFrame.\n",
      "Try using .loc[row_indexer,col_indexer] = value instead\n",
      "\n",
      "See the caveats in the documentation: https://pandas.pydata.org/pandas-docs/stable/user_guide/indexing.html#returning-a-view-versus-a-copy\n",
      "  result_df['list_tokens'] = result_df['text_lower'].apply(lambda x: preprocessing(x, tokenizer, stopwords, lemmatizer))\n"
     ]
    },
    {
     "data": {
      "text/html": [
       "<div>\n",
       "<style scoped>\n",
       "    .dataframe tbody tr th:only-of-type {\n",
       "        vertical-align: middle;\n",
       "    }\n",
       "\n",
       "    .dataframe tbody tr th {\n",
       "        vertical-align: top;\n",
       "    }\n",
       "\n",
       "    .dataframe thead th {\n",
       "        text-align: right;\n",
       "    }\n",
       "</style>\n",
       "<table border=\"1\" class=\"dataframe\">\n",
       "  <thead>\n",
       "    <tr style=\"text-align: right;\">\n",
       "      <th></th>\n",
       "      <th>Year</th>\n",
       "      <th>Name</th>\n",
       "      <th>Text</th>\n",
       "      <th>Target</th>\n",
       "      <th>text_lower</th>\n",
       "      <th>list_tokens</th>\n",
       "    </tr>\n",
       "  </thead>\n",
       "  <tbody>\n",
       "    <tr>\n",
       "      <th>0</th>\n",
       "      <td>2016</td>\n",
       "      <td>H_CLINTON</td>\n",
       "      <td>Thank you very much, Chris. And thanks to UNL...</td>\n",
       "      <td>0</td>\n",
       "      <td>thank you very much, chris. and thanks to unl...</td>\n",
       "      <td>[thank, much, chris, thanks, unlv, hosting, kn...</td>\n",
       "    </tr>\n",
       "    <tr>\n",
       "      <th>1</th>\n",
       "      <td>2016</td>\n",
       "      <td>H_CLINTON</td>\n",
       "      <td>Well, thank you. Are you a teacher? Yes, I th...</td>\n",
       "      <td>0</td>\n",
       "      <td>well, thank you. are you a teacher? yes, i th...</td>\n",
       "      <td>[well, thank, teacher, yes, think, good, quest...</td>\n",
       "    </tr>\n",
       "    <tr>\n",
       "      <th>2</th>\n",
       "      <td>2016</td>\n",
       "      <td>H_CLINTON</td>\n",
       "      <td>How are you, Donald? [applause]  Well, thank ...</td>\n",
       "      <td>0</td>\n",
       "      <td>how are you, donald? [applause]  well, thank ...</td>\n",
       "      <td>[donald, applause, well, thank, lester, thanks...</td>\n",
       "    </tr>\n",
       "    <tr>\n",
       "      <th>3</th>\n",
       "      <td>1996</td>\n",
       "      <td>B_CLINTON</td>\n",
       "      <td>I was going to applaud, too. Well, thank you,...</td>\n",
       "      <td>0</td>\n",
       "      <td>i was going to applaud, too. well, thank you,...</td>\n",
       "      <td>[going, applaud, well, thank, jim, thanks, peo...</td>\n",
       "    </tr>\n",
       "    <tr>\n",
       "      <th>4</th>\n",
       "      <td>1996</td>\n",
       "      <td>B_CLINTON</td>\n",
       "      <td>Thank you, Jim. And thank you to the people o...</td>\n",
       "      <td>0</td>\n",
       "      <td>thank you, jim. and thank you to the people o...</td>\n",
       "      <td>[thank, jim, thank, people, hartford, host, wa...</td>\n",
       "    </tr>\n",
       "    <tr>\n",
       "      <th>...</th>\n",
       "      <td>...</td>\n",
       "      <td>...</td>\n",
       "      <td>...</td>\n",
       "      <td>...</td>\n",
       "      <td>...</td>\n",
       "      <td>...</td>\n",
       "    </tr>\n",
       "    <tr>\n",
       "      <th>153</th>\n",
       "      <td>1960</td>\n",
       "      <td>NIXON</td>\n",
       "      <td>Mr. Smith, Senator Kennedy. The things that S...</td>\n",
       "      <td>1</td>\n",
       "      <td>mr. smith, senator kennedy. the things that s...</td>\n",
       "      <td>[smith, senator, kennedy, thing, senator, kenn...</td>\n",
       "    </tr>\n",
       "    <tr>\n",
       "      <th>158</th>\n",
       "      <td>1960</td>\n",
       "      <td>KENNEDY</td>\n",
       "      <td>Good evening, Mr. Howe. MR.  Mr. Howe, Mr. Vi...</td>\n",
       "      <td>0</td>\n",
       "      <td>good evening, mr. howe. mr.  mr. howe, mr. vi...</td>\n",
       "      <td>[good, evening, howe, howe, vice, president, f...</td>\n",
       "    </tr>\n",
       "    <tr>\n",
       "      <th>159</th>\n",
       "      <td>1960</td>\n",
       "      <td>KENNEDY</td>\n",
       "      <td>Good evening, Mr. Shadel. MR.  Mr. McGee, we ...</td>\n",
       "      <td>0</td>\n",
       "      <td>good evening, mr. shadel. mr.  mr. mcgee, we ...</td>\n",
       "      <td>[good, evening, shadel, mcgee, contractual, ri...</td>\n",
       "    </tr>\n",
       "    <tr>\n",
       "      <th>160</th>\n",
       "      <td>1960</td>\n",
       "      <td>KENNEDY</td>\n",
       "      <td>In the first place I’ve never suggested that ...</td>\n",
       "      <td>0</td>\n",
       "      <td>in the first place i’ve never suggested that ...</td>\n",
       "      <td>[first, place, never, suggested, cuba, lost, e...</td>\n",
       "    </tr>\n",
       "    <tr>\n",
       "      <th>161</th>\n",
       "      <td>1960</td>\n",
       "      <td>KENNEDY</td>\n",
       "      <td>Mr. Smith, Mr. Nixon. In the election of 1860...</td>\n",
       "      <td>0</td>\n",
       "      <td>mr. smith, mr. nixon. in the election of 1860...</td>\n",
       "      <td>[smith, nixon, election, 1860, abraham, lincol...</td>\n",
       "    </tr>\n",
       "  </tbody>\n",
       "</table>\n",
       "<p>72 rows × 6 columns</p>\n",
       "</div>"
      ],
      "text/plain": [
       "     Year       Name                                               Text   \n",
       "0    2016  H_CLINTON   Thank you very much, Chris. And thanks to UNL...  \\\n",
       "1    2016  H_CLINTON   Well, thank you. Are you a teacher? Yes, I th...   \n",
       "2    2016  H_CLINTON   How are you, Donald? [applause]  Well, thank ...   \n",
       "3    1996  B_CLINTON   I was going to applaud, too. Well, thank you,...   \n",
       "4    1996  B_CLINTON   Thank you, Jim. And thank you to the people o...   \n",
       "..    ...        ...                                                ...   \n",
       "153  1960      NIXON   Mr. Smith, Senator Kennedy. The things that S...   \n",
       "158  1960    KENNEDY   Good evening, Mr. Howe. MR.  Mr. Howe, Mr. Vi...   \n",
       "159  1960    KENNEDY   Good evening, Mr. Shadel. MR.  Mr. McGee, we ...   \n",
       "160  1960    KENNEDY   In the first place I’ve never suggested that ...   \n",
       "161  1960    KENNEDY   Mr. Smith, Mr. Nixon. In the election of 1860...   \n",
       "\n",
       "     Target                                         text_lower   \n",
       "0         0   thank you very much, chris. and thanks to unl...  \\\n",
       "1         0   well, thank you. are you a teacher? yes, i th...   \n",
       "2         0   how are you, donald? [applause]  well, thank ...   \n",
       "3         0   i was going to applaud, too. well, thank you,...   \n",
       "4         0   thank you, jim. and thank you to the people o...   \n",
       "..      ...                                                ...   \n",
       "153       1   mr. smith, senator kennedy. the things that s...   \n",
       "158       0   good evening, mr. howe. mr.  mr. howe, mr. vi...   \n",
       "159       0   good evening, mr. shadel. mr.  mr. mcgee, we ...   \n",
       "160       0   in the first place i’ve never suggested that ...   \n",
       "161       0   mr. smith, mr. nixon. in the election of 1860...   \n",
       "\n",
       "                                           list_tokens  \n",
       "0    [thank, much, chris, thanks, unlv, hosting, kn...  \n",
       "1    [well, thank, teacher, yes, think, good, quest...  \n",
       "2    [donald, applause, well, thank, lester, thanks...  \n",
       "3    [going, applaud, well, thank, jim, thanks, peo...  \n",
       "4    [thank, jim, thank, people, hartford, host, wa...  \n",
       "..                                                 ...  \n",
       "153  [smith, senator, kennedy, thing, senator, kenn...  \n",
       "158  [good, evening, howe, howe, vice, president, f...  \n",
       "159  [good, evening, shadel, mcgee, contractual, ri...  \n",
       "160  [first, place, never, suggested, cuba, lost, e...  \n",
       "161  [smith, nixon, election, 1860, abraham, lincol...  \n",
       "\n",
       "[72 rows x 6 columns]"
      ]
     },
     "execution_count": 72,
     "metadata": {},
     "output_type": "execute_result"
    }
   ],
   "source": [
    "# Apply the preprocessing function to the 'Text' column\n",
    "result_df['list_tokens'] = result_df['text_lower'].apply(lambda x: preprocessing(x, tokenizer, stopwords, lemmatizer))\n",
    "result_df"
   ]
  },
  {
   "cell_type": "code",
   "execution_count": 73,
   "metadata": {},
   "outputs": [],
   "source": [
    "# preprocessing(\"test of a string blah,\", tokenizer, stopwords, lemmatizer)"
   ]
  },
  {
   "cell_type": "code",
   "execution_count": 74,
   "metadata": {},
   "outputs": [],
   "source": [
    "# tokenized_df = result_df['text_lower'].apply((lambda x: preprocessing(x, tokenizer, stopwords, lemmatizer)))\n",
    "# result_df['tokens'] = tokenized_df\n",
    "# result_df['tokens'][1]"
   ]
  },
  {
   "cell_type": "code",
   "execution_count": 75,
   "metadata": {},
   "outputs": [
    {
     "data": {
      "text/plain": [
       "list"
      ]
     },
     "execution_count": 75,
     "metadata": {},
     "output_type": "execute_result"
    }
   ],
   "source": [
    "type(result_df['list_tokens'][0])"
   ]
  },
  {
   "cell_type": "code",
   "execution_count": 76,
   "metadata": {},
   "outputs": [
    {
     "data": {
      "text/plain": [
       "['thank',\n",
       " 'much',\n",
       " 'chris',\n",
       " 'thanks',\n",
       " 'unlv',\n",
       " 'hosting',\n",
       " 'know',\n",
       " 'think',\n",
       " 'talk',\n",
       " 'supreme',\n",
       " 'court',\n",
       " 'really',\n",
       " 'raise',\n",
       " 'central',\n",
       " 'issue',\n",
       " 'election',\n",
       " 'namely',\n",
       " 'kind',\n",
       " 'country',\n",
       " 'going',\n",
       " 'kind',\n",
       " 'opportunity',\n",
       " 'provide',\n",
       " 'citizen',\n",
       " 'kind',\n",
       " 'right',\n",
       " 'american',\n",
       " 'feel',\n",
       " 'strongly',\n",
       " 'supreme',\n",
       " 'court',\n",
       " 'need',\n",
       " 'stand',\n",
       " 'side',\n",
       " 'american',\n",
       " 'people',\n",
       " 'side',\n",
       " 'powerful',\n",
       " 'corporation',\n",
       " 'wealthy',\n",
       " 'mean',\n",
       " 'need',\n",
       " 'supreme',\n",
       " 'court',\n",
       " 'stand',\n",
       " 'behalf',\n",
       " 'woman',\n",
       " 'right',\n",
       " 'behalf',\n",
       " 'right',\n",
       " 'lgbt',\n",
       " 'community',\n",
       " 'stand',\n",
       " 'say',\n",
       " 'citizen',\n",
       " 'united',\n",
       " 'decision',\n",
       " 'undermined',\n",
       " 'election',\n",
       " 'system',\n",
       " 'country',\n",
       " 'way',\n",
       " 'permit',\n",
       " 'dark',\n",
       " 'unaccountable',\n",
       " 'money',\n",
       " 'come',\n",
       " 'electoral',\n",
       " 'system',\n",
       " 'major',\n",
       " 'disagreement',\n",
       " 'opponent',\n",
       " 'issue',\n",
       " 'others',\n",
       " 'supreme',\n",
       " 'court',\n",
       " 'feel',\n",
       " 'point',\n",
       " 'country',\n",
       " 'history',\n",
       " 'important',\n",
       " 'reverse',\n",
       " 'marriage',\n",
       " 'equality',\n",
       " 'reverse',\n",
       " 'roe',\n",
       " 'wade',\n",
       " 'stand',\n",
       " 'citizen',\n",
       " 'united',\n",
       " 'stand',\n",
       " 'right',\n",
       " 'people',\n",
       " 'workplace',\n",
       " 'stand',\n",
       " 'basically',\n",
       " 'say',\n",
       " 'supreme',\n",
       " 'court',\n",
       " 'represent',\n",
       " 'see',\n",
       " 'court',\n",
       " 'kind',\n",
       " 'people',\n",
       " 'would',\n",
       " 'looking',\n",
       " 'nominate',\n",
       " 'court',\n",
       " 'would',\n",
       " 'great',\n",
       " 'tradition',\n",
       " 'standing',\n",
       " 'powerful',\n",
       " 'standing',\n",
       " 'behalf',\n",
       " 'right',\n",
       " 'american',\n",
       " 'look',\n",
       " 'forward',\n",
       " 'opportunity',\n",
       " 'would',\n",
       " 'hope',\n",
       " 'senate',\n",
       " 'would',\n",
       " 'job',\n",
       " 'confirm',\n",
       " 'nominee',\n",
       " 'president',\n",
       " 'obama',\n",
       " 'sent',\n",
       " 'way',\n",
       " 'constitution',\n",
       " 'fundamentally',\n",
       " 'operate',\n",
       " 'president',\n",
       " 'nominates',\n",
       " 'senate',\n",
       " 'advises',\n",
       " 'consent',\n",
       " 'forward',\n",
       " 'process',\n",
       " 'well',\n",
       " 'first',\n",
       " 'support',\n",
       " 'second',\n",
       " 'amendment',\n",
       " 'lived',\n",
       " 'arkansas',\n",
       " 'wonderful',\n",
       " 'year',\n",
       " 'represented',\n",
       " 'upstate',\n",
       " 'new',\n",
       " 'york',\n",
       " 'understand',\n",
       " 'respect',\n",
       " 'tradition',\n",
       " 'gun',\n",
       " 'ownership',\n",
       " 'go',\n",
       " 'back',\n",
       " 'founding',\n",
       " 'country',\n",
       " 'also',\n",
       " 'believe',\n",
       " 'must',\n",
       " 'reasonable',\n",
       " 'regulation',\n",
       " 'support',\n",
       " 'second',\n",
       " 'amendment',\n",
       " 'mean',\n",
       " 'want',\n",
       " 'people',\n",
       " 'gun',\n",
       " 'able',\n",
       " 'threaten',\n",
       " 'kill',\n",
       " 'member',\n",
       " 'family',\n",
       " 'think',\n",
       " 'need',\n",
       " '000',\n",
       " 'people',\n",
       " 'year',\n",
       " 'die',\n",
       " 'gun',\n",
       " 'think',\n",
       " 'need',\n",
       " 'comprehensive',\n",
       " 'background',\n",
       " 'check',\n",
       " 'need',\n",
       " 'close',\n",
       " 'online',\n",
       " 'loophole',\n",
       " 'close',\n",
       " 'gun',\n",
       " 'show',\n",
       " 'loophole',\n",
       " 'matter',\n",
       " 'think',\n",
       " 'sensible',\n",
       " 'kind',\n",
       " 'reform',\n",
       " 'would',\n",
       " 'make',\n",
       " 'difference',\n",
       " 'way',\n",
       " 'conflicting',\n",
       " 'second',\n",
       " 'amendment',\n",
       " 'mentioned',\n",
       " 'heller',\n",
       " 'decision',\n",
       " 'saying',\n",
       " 'referenced',\n",
       " 'chris',\n",
       " 'disagreed',\n",
       " 'way',\n",
       " 'court',\n",
       " 'applied',\n",
       " 'second',\n",
       " 'amendment',\n",
       " 'case',\n",
       " 'district',\n",
       " 'columbia',\n",
       " 'trying',\n",
       " 'protect',\n",
       " 'toddler',\n",
       " 'gun',\n",
       " 'wanted',\n",
       " 'people',\n",
       " 'gun',\n",
       " 'safely',\n",
       " 'store',\n",
       " 'court',\n",
       " 'accept',\n",
       " 'reasonable',\n",
       " 'regulation',\n",
       " 'accepted',\n",
       " 'many',\n",
       " 'others',\n",
       " 'see',\n",
       " 'conflict',\n",
       " 'saving',\n",
       " 'people',\n",
       " 'life',\n",
       " 'defending',\n",
       " 'second',\n",
       " 'amendment',\n",
       " 'well',\n",
       " 'upset',\n",
       " 'unfortunately',\n",
       " 'dozen',\n",
       " 'toddler',\n",
       " 'injure',\n",
       " 'even',\n",
       " 'kill',\n",
       " 'people',\n",
       " 'gun',\n",
       " 'unfortunately',\n",
       " 'everyone',\n",
       " 'loaded',\n",
       " 'gun',\n",
       " 'home',\n",
       " 'take',\n",
       " 'appropriate',\n",
       " 'precaution',\n",
       " 'doubt',\n",
       " 'respect',\n",
       " 'second',\n",
       " 'amendment',\n",
       " 'also',\n",
       " 'believe',\n",
       " 'individual',\n",
       " 'right',\n",
       " 'bear',\n",
       " 'arm',\n",
       " 'conflict',\n",
       " 'sensible',\n",
       " 'commonsense',\n",
       " 'regulation',\n",
       " 'know',\n",
       " 'look',\n",
       " 'understand',\n",
       " 'donald',\n",
       " 'strongly',\n",
       " 'supported',\n",
       " 'nra',\n",
       " 'gun',\n",
       " 'lobby',\n",
       " 'side',\n",
       " 'running',\n",
       " 'million',\n",
       " 'dollar',\n",
       " 'ad',\n",
       " 'regret',\n",
       " 'would',\n",
       " 'like',\n",
       " 'see',\n",
       " 'people',\n",
       " 'come',\n",
       " 'together',\n",
       " 'say',\n",
       " 'course',\n",
       " 'going',\n",
       " 'protect',\n",
       " 'defend',\n",
       " 'second',\n",
       " 'amendment',\n",
       " 'going',\n",
       " 'way',\n",
       " 'try',\n",
       " 'save',\n",
       " '000',\n",
       " 'life',\n",
       " 'lose',\n",
       " 'every',\n",
       " 'year',\n",
       " 'well',\n",
       " 'strongly',\n",
       " 'support',\n",
       " 'roe',\n",
       " 'wade',\n",
       " 'guarantee',\n",
       " 'constitutional',\n",
       " 'right',\n",
       " 'woman',\n",
       " 'make',\n",
       " 'intimate',\n",
       " 'difficult',\n",
       " 'many',\n",
       " 'case',\n",
       " 'decision',\n",
       " 'health',\n",
       " 'care',\n",
       " 'one',\n",
       " 'imagine',\n",
       " 'case',\n",
       " 'roe',\n",
       " 'wade',\n",
       " 'happening',\n",
       " 'right',\n",
       " 'america',\n",
       " 'many',\n",
       " 'state',\n",
       " 'putting',\n",
       " 'stringent',\n",
       " 'regulation',\n",
       " 'woman',\n",
       " 'block',\n",
       " 'exercising',\n",
       " 'choice',\n",
       " 'extent',\n",
       " 'defunding',\n",
       " 'planned',\n",
       " 'parenthood',\n",
       " 'course',\n",
       " 'provides',\n",
       " 'kind',\n",
       " 'cancer',\n",
       " 'screening',\n",
       " 'benefit',\n",
       " 'woman',\n",
       " 'country',\n",
       " 'donald',\n",
       " 'said',\n",
       " 'favor',\n",
       " 'defunding',\n",
       " 'planned',\n",
       " 'parenthood',\n",
       " 'even',\n",
       " 'supported',\n",
       " 'shutting',\n",
       " 'government',\n",
       " 'defund',\n",
       " 'planned',\n",
       " 'parenthood',\n",
       " 'defend',\n",
       " 'planned',\n",
       " 'parenthood',\n",
       " 'defend',\n",
       " 'roe',\n",
       " 'wade',\n",
       " 'defend',\n",
       " 'woman',\n",
       " 'right',\n",
       " 'make',\n",
       " 'health',\n",
       " 'care',\n",
       " 'decision',\n",
       " 'come',\n",
       " 'far',\n",
       " 'turned',\n",
       " 'back',\n",
       " 'indeed',\n",
       " 'said',\n",
       " 'woman',\n",
       " 'punished',\n",
       " 'form',\n",
       " 'punishment',\n",
       " 'woman',\n",
       " 'obtain',\n",
       " 'abortion',\n",
       " 'could',\n",
       " 'opposed',\n",
       " 'kind',\n",
       " 'thinking',\n",
       " 'roe',\n",
       " 'wade',\n",
       " 'clearly',\n",
       " 'set',\n",
       " 'regulation',\n",
       " 'abortion',\n",
       " 'long',\n",
       " 'life',\n",
       " 'health',\n",
       " 'mother',\n",
       " 'taken',\n",
       " 'account',\n",
       " 'voted',\n",
       " 'senator',\n",
       " 'think',\n",
       " 'case',\n",
       " 'kind',\n",
       " 'case',\n",
       " 'fall',\n",
       " 'end',\n",
       " 'pregnancy',\n",
       " 'often',\n",
       " 'heartbreaking',\n",
       " 'painful',\n",
       " 'decision',\n",
       " 'family',\n",
       " 'make',\n",
       " 'met',\n",
       " 'woman',\n",
       " 'toward',\n",
       " 'end',\n",
       " 'pregnancy',\n",
       " 'get',\n",
       " 'worst',\n",
       " 'news',\n",
       " 'one',\n",
       " 'could',\n",
       " 'get',\n",
       " 'health',\n",
       " 'jeopardy',\n",
       " 'continue',\n",
       " 'carry',\n",
       " 'term',\n",
       " 'something',\n",
       " 'terrible',\n",
       " 'happened',\n",
       " 'discovered',\n",
       " 'pregnancy',\n",
       " 'think',\n",
       " 'united',\n",
       " 'state',\n",
       " 'government',\n",
       " 'stepping',\n",
       " 'making',\n",
       " 'personal',\n",
       " 'decision',\n",
       " 'regulate',\n",
       " 'life',\n",
       " 'health',\n",
       " 'mother',\n",
       " 'taken',\n",
       " 'account',\n",
       " 'well',\n",
       " 'happens',\n",
       " 'case',\n",
       " 'using',\n",
       " 'kind',\n",
       " 'scare',\n",
       " 'rhetoric',\n",
       " 'terribly',\n",
       " 'unfortunate',\n",
       " 'meet',\n",
       " 'woman',\n",
       " 'met',\n",
       " 'woman',\n",
       " 'known',\n",
       " 'course',\n",
       " 'life',\n",
       " 'one',\n",
       " 'worst',\n",
       " 'possible',\n",
       " 'choice',\n",
       " 'woman',\n",
       " 'family',\n",
       " 'make',\n",
       " 'believe',\n",
       " 'government',\n",
       " 'making',\n",
       " 'know',\n",
       " 'great',\n",
       " 'honor',\n",
       " 'traveling',\n",
       " 'across',\n",
       " 'world',\n",
       " 'behalf',\n",
       " 'country',\n",
       " 'country',\n",
       " 'government',\n",
       " 'either',\n",
       " 'forced',\n",
       " 'woman',\n",
       " 'abortion',\n",
       " 'like',\n",
       " 'used',\n",
       " 'china',\n",
       " 'forced',\n",
       " 'woman',\n",
       " 'bear',\n",
       " 'child',\n",
       " 'like',\n",
       " 'used',\n",
       " 'romania',\n",
       " 'tell',\n",
       " 'government',\n",
       " 'business',\n",
       " 'decision',\n",
       " 'woman',\n",
       " 'make',\n",
       " 'family',\n",
       " 'accordance',\n",
       " 'faith',\n",
       " 'medical',\n",
       " 'advice',\n",
       " 'stand',\n",
       " 'right',\n",
       " 'well',\n",
       " 'talking',\n",
       " 'thinking',\n",
       " 'young',\n",
       " 'girl',\n",
       " 'met',\n",
       " 'la',\n",
       " 'vega',\n",
       " 'carla',\n",
       " 'worried',\n",
       " 'parent',\n",
       " 'might',\n",
       " 'deported',\n",
       " 'born',\n",
       " 'country',\n",
       " 'work',\n",
       " 'hard',\n",
       " 'everything',\n",
       " 'give',\n",
       " 'good',\n",
       " 'life',\n",
       " 'right',\n",
       " 'want',\n",
       " 'rip',\n",
       " 'family',\n",
       " 'apart',\n",
       " 'want',\n",
       " 'sending',\n",
       " 'parent',\n",
       " 'away',\n",
       " 'child',\n",
       " 'want',\n",
       " 'see',\n",
       " 'deportation',\n",
       " 'force',\n",
       " 'donald',\n",
       " 'talked',\n",
       " 'action',\n",
       " 'country',\n",
       " 'million',\n",
       " 'undocumented',\n",
       " 'people',\n",
       " 'million',\n",
       " 'american',\n",
       " 'citizen',\n",
       " 'child',\n",
       " 'million',\n",
       " 'people',\n",
       " 'said',\n",
       " 'recently',\n",
       " 'week',\n",
       " 'ago',\n",
       " 'phoenix',\n",
       " 'every',\n",
       " 'undocumented',\n",
       " 'person',\n",
       " 'would',\n",
       " 'subject',\n",
       " 'deportation',\n",
       " 'mean',\n",
       " 'mean',\n",
       " 'would',\n",
       " 'massive',\n",
       " 'law',\n",
       " 'enforcement',\n",
       " 'presence',\n",
       " 'law',\n",
       " 'enforcement',\n",
       " 'officer',\n",
       " 'would',\n",
       " 'going',\n",
       " 'school',\n",
       " 'school',\n",
       " 'home',\n",
       " 'home',\n",
       " 'business',\n",
       " 'business',\n",
       " 'rounding',\n",
       " 'people',\n",
       " 'undocumented',\n",
       " 'would',\n",
       " 'put',\n",
       " 'train',\n",
       " 'bus',\n",
       " 'get',\n",
       " 'country',\n",
       " 'think',\n",
       " 'idea',\n",
       " 'keeping',\n",
       " 'nation',\n",
       " 'think',\n",
       " 'idea',\n",
       " 'would',\n",
       " 'rip',\n",
       " 'country',\n",
       " 'apart',\n",
       " 'border',\n",
       " 'security',\n",
       " 'year',\n",
       " 'voted',\n",
       " 'border',\n",
       " 'security',\n",
       " 'united',\n",
       " 'state',\n",
       " 'senate',\n",
       " 'comprehensive',\n",
       " 'immigration',\n",
       " 'reform',\n",
       " 'plan',\n",
       " 'course',\n",
       " 'includes',\n",
       " 'border',\n",
       " 'security',\n",
       " 'want',\n",
       " 'put',\n",
       " 'resource',\n",
       " 'think',\n",
       " 'needed',\n",
       " 'getting',\n",
       " 'rid',\n",
       " 'violent',\n",
       " 'person',\n",
       " 'anybody',\n",
       " 'deported',\n",
       " 'deport',\n",
       " 'come',\n",
       " 'wall',\n",
       " 'donald',\n",
       " 'talk',\n",
       " 'building',\n",
       " 'went',\n",
       " 'mexico',\n",
       " 'meeting',\n",
       " 'mexican',\n",
       " 'president',\n",
       " 'even',\n",
       " 'raise',\n",
       " 'choked',\n",
       " 'got',\n",
       " 'twitter',\n",
       " 'war',\n",
       " 'mexican',\n",
       " 'president',\n",
       " 'said',\n",
       " 'paying',\n",
       " 'wall',\n",
       " 'think',\n",
       " 'nation',\n",
       " 'immigrant',\n",
       " 'nation',\n",
       " 'law',\n",
       " 'act',\n",
       " 'accordingly',\n",
       " 'introducing',\n",
       " 'comprehensive',\n",
       " 'immigration',\n",
       " 'reform',\n",
       " 'within',\n",
       " 'first',\n",
       " '100',\n",
       " 'day',\n",
       " 'path',\n",
       " 'citizenship',\n",
       " 'voted',\n",
       " 'border',\n",
       " 'security',\n",
       " 'limited',\n",
       " 'place',\n",
       " 'appropriate',\n",
       " 'also',\n",
       " 'necessarily',\n",
       " 'going',\n",
       " 'new',\n",
       " 'technology',\n",
       " 'best',\n",
       " 'deploy',\n",
       " 'clear',\n",
       " 'look',\n",
       " 'donald',\n",
       " 'proposing',\n",
       " 'started',\n",
       " 'campaign',\n",
       " 'bashing',\n",
       " 'immigrant',\n",
       " 'calling',\n",
       " 'mexican',\n",
       " 'immigrant',\n",
       " 'rapist',\n",
       " 'criminal',\n",
       " 'drug',\n",
       " 'dealer',\n",
       " 'different',\n",
       " 'view',\n",
       " 'deal',\n",
       " 'immigrant',\n",
       " 'also',\n",
       " 'arguing',\n",
       " 'bringing',\n",
       " 'undocumented',\n",
       " 'immigrant',\n",
       " 'shadow',\n",
       " 'putting',\n",
       " 'formal',\n",
       " 'economy',\n",
       " 'good',\n",
       " 'employer',\n",
       " 'exploit',\n",
       " 'undercut',\n",
       " 'american',\n",
       " 'wage',\n",
       " 'donald',\n",
       " 'know',\n",
       " 'lot',\n",
       " 'used',\n",
       " 'undocumented',\n",
       " 'labor',\n",
       " 'build',\n",
       " 'trump',\n",
       " 'tower',\n",
       " 'underpaid',\n",
       " 'undocumented',\n",
       " 'worker',\n",
       " 'complained',\n",
       " 'basically',\n",
       " 'said',\n",
       " 'lot',\n",
       " 'employer',\n",
       " 'complain',\n",
       " 'get',\n",
       " 'deported',\n",
       " 'want',\n",
       " 'get',\n",
       " 'everybody',\n",
       " 'shadow',\n",
       " 'get',\n",
       " 'economy',\n",
       " 'working',\n",
       " 'let',\n",
       " 'employer',\n",
       " 'like',\n",
       " 'donald',\n",
       " 'exploit',\n",
       " 'undocumented',\n",
       " 'worker',\n",
       " 'hurt',\n",
       " 'also',\n",
       " 'hurt',\n",
       " 'american',\n",
       " 'worker',\n",
       " 'open',\n",
       " 'border',\n",
       " 'rank',\n",
       " 'mischaracterization',\n",
       " 'secure',\n",
       " 'border',\n",
       " 'also',\n",
       " 'reform',\n",
       " 'used',\n",
       " 'bipartisan',\n",
       " 'issue',\n",
       " 'ronald',\n",
       " 'reagan',\n",
       " 'last',\n",
       " 'president',\n",
       " 'sign',\n",
       " 'immigration',\n",
       " 'reform',\n",
       " 'george',\n",
       " 'bush',\n",
       " 'supported',\n",
       " 'well',\n",
       " 'well',\n",
       " 'went',\n",
       " 'read',\n",
       " 'rest',\n",
       " 'sentence',\n",
       " 'talking',\n",
       " 'energy',\n",
       " 'know',\n",
       " 'trade',\n",
       " 'energy',\n",
       " 'neighbor',\n",
       " 'trade',\n",
       " 'rest',\n",
       " 'world',\n",
       " 'combined',\n",
       " 'want',\n",
       " 'electric',\n",
       " 'grid',\n",
       " 'energy',\n",
       " 'system',\n",
       " 'cross',\n",
       " 'border',\n",
       " 'think',\n",
       " 'would',\n",
       " 'great',\n",
       " 'benefit',\n",
       " 'clearly',\n",
       " 'quoting',\n",
       " 'wikileaks',\n",
       " 'really',\n",
       " 'important',\n",
       " 'wikileaks',\n",
       " 'russian',\n",
       " 'government',\n",
       " 'engaged',\n",
       " 'espionage',\n",
       " 'american',\n",
       " 'hacked',\n",
       " 'american',\n",
       " 'website',\n",
       " 'american',\n",
       " 'account',\n",
       " 'private',\n",
       " 'people',\n",
       " 'institution',\n",
       " 'given',\n",
       " 'information',\n",
       " 'wikileaks',\n",
       " 'purpose',\n",
       " 'putting',\n",
       " 'internet',\n",
       " 'come',\n",
       " 'highest',\n",
       " 'level',\n",
       " 'russian',\n",
       " 'government',\n",
       " 'clearly',\n",
       " 'putin',\n",
       " 'effort',\n",
       " 'intelligence',\n",
       " 'agency',\n",
       " 'confirmed',\n",
       " 'influence',\n",
       " 'election',\n",
       " 'actually',\n",
       " 'think',\n",
       " 'important',\n",
       " 'question',\n",
       " 'evening',\n",
       " 'chris',\n",
       " 'finally',\n",
       " 'donald',\n",
       " 'trump',\n",
       " 'admit',\n",
       " 'condemn',\n",
       " 'russian',\n",
       " 'make',\n",
       " 'clear',\n",
       " 'help',\n",
       " 'putin',\n",
       " 'election',\n",
       " 'reject',\n",
       " 'russian',\n",
       " 'espionage',\n",
       " 'american',\n",
       " 'actually',\n",
       " 'encouraged',\n",
       " 'past',\n",
       " 'question',\n",
       " 'need',\n",
       " 'answered',\n",
       " 'never',\n",
       " 'anything',\n",
       " 'like',\n",
       " 'happen',\n",
       " 'election',\n",
       " 'well',\n",
       " 'rather',\n",
       " 'puppet',\n",
       " 'president',\n",
       " 'united',\n",
       " 'state',\n",
       " 'pretty',\n",
       " 'clear',\n",
       " 'pretty',\n",
       " 'clear',\n",
       " 'admit',\n",
       " 'russian',\n",
       " 'engaged',\n",
       " 'cyberattacks',\n",
       " 'united',\n",
       " 'state',\n",
       " 'america',\n",
       " 'encouraged',\n",
       " 'espionage',\n",
       " 'people',\n",
       " 'willing',\n",
       " 'spout',\n",
       " 'putin',\n",
       " 'line',\n",
       " 'sign',\n",
       " 'wish',\n",
       " 'list',\n",
       " 'break',\n",
       " 'nato',\n",
       " 'whatever',\n",
       " 'want',\n",
       " 'continue',\n",
       " 'get',\n",
       " 'help',\n",
       " 'clear',\n",
       " 'favorite',\n",
       " 'race',\n",
       " 'think',\n",
       " 'unprecedented',\n",
       " 'situation',\n",
       " 'never',\n",
       " 'foreign',\n",
       " 'government',\n",
       " 'trying',\n",
       " 'interfere',\n",
       " 'election',\n",
       " 'intelligence',\n",
       " 'agency',\n",
       " 'civilian',\n",
       " 'military',\n",
       " 'concluded',\n",
       " 'espionage',\n",
       " 'attack',\n",
       " 'cyberattacks',\n",
       " 'come',\n",
       " 'highest',\n",
       " 'level',\n",
       " 'kremlin',\n",
       " 'designed',\n",
       " 'influence',\n",
       " 'election',\n",
       " 'find',\n",
       " 'deeply',\n",
       " 'disturbing',\n",
       " 'think',\n",
       " 'time',\n",
       " 'take',\n",
       " 'stand',\n",
       " 'quoting',\n",
       " 'quoting',\n",
       " 'intelligence',\n",
       " 'doubt',\n",
       " 'military',\n",
       " 'civilian',\n",
       " 'agency',\n",
       " 'well',\n",
       " 'rather',\n",
       " 'believe',\n",
       " 'vladimir',\n",
       " 'putin',\n",
       " 'military',\n",
       " 'civilian',\n",
       " 'intelligence',\n",
       " 'professional',\n",
       " 'sworn',\n",
       " 'protect',\n",
       " 'find',\n",
       " 'absolutely',\n",
       " 'crosstalk',\n",
       " 'find',\n",
       " 'ironic',\n",
       " 'raising',\n",
       " 'nuclear',\n",
       " 'weapon',\n",
       " 'person',\n",
       " 'cavalier',\n",
       " 'even',\n",
       " 'casual',\n",
       " 'use',\n",
       " ...]"
      ]
     },
     "execution_count": 76,
     "metadata": {},
     "output_type": "execute_result"
    }
   ],
   "source": [
    "result_df['list_tokens'][0]"
   ]
  },
  {
   "cell_type": "code",
   "execution_count": 77,
   "metadata": {},
   "outputs": [
    {
     "name": "stderr",
     "output_type": "stream",
     "text": [
      "/var/folders/45/9490rsy120vgdzpsxzj4d3wr0000gn/T/ipykernel_61575/3750983202.py:3: SettingWithCopyWarning: \n",
      "A value is trying to be set on a copy of a slice from a DataFrame.\n",
      "Try using .loc[row_indexer,col_indexer] = value instead\n",
      "\n",
      "See the caveats in the documentation: https://pandas.pydata.org/pandas-docs/stable/user_guide/indexing.html#returning-a-view-versus-a-copy\n",
      "  result_df['string_tokens'] = result_df['list_tokens'].apply(lambda x: ' '.join(x))\n"
     ]
    },
    {
     "data": {
      "text/plain": [
       "'thank much chris thanks unlv hosting know think talk supreme court really raise central issue election namely kind country going kind opportunity provide citizen kind right american feel strongly supreme court need stand side american people side powerful corporation wealthy mean need supreme court stand behalf woman right behalf right lgbt community stand say citizen united decision undermined election system country way permit dark unaccountable money come electoral system major disagreement opponent issue others supreme court feel point country history important reverse marriage equality reverse roe wade stand citizen united stand right people workplace stand basically say supreme court represent see court kind people would looking nominate court would great tradition standing powerful standing behalf right american look forward opportunity would hope senate would job confirm nominee president obama sent way constitution fundamentally operate president nominates senate advises consent forward process well first support second amendment lived arkansas wonderful year represented upstate new york understand respect tradition gun ownership go back founding country also believe must reasonable regulation support second amendment mean want people gun able threaten kill member family think need 000 people year die gun think need comprehensive background check need close online loophole close gun show loophole matter think sensible kind reform would make difference way conflicting second amendment mentioned heller decision saying referenced chris disagreed way court applied second amendment case district columbia trying protect toddler gun wanted people gun safely store court accept reasonable regulation accepted many others see conflict saving people life defending second amendment well upset unfortunately dozen toddler injure even kill people gun unfortunately everyone loaded gun home take appropriate precaution doubt respect second amendment also believe individual right bear arm conflict sensible commonsense regulation know look understand donald strongly supported nra gun lobby side running million dollar ad regret would like see people come together say course going protect defend second amendment going way try save 000 life lose every year well strongly support roe wade guarantee constitutional right woman make intimate difficult many case decision health care one imagine case roe wade happening right america many state putting stringent regulation woman block exercising choice extent defunding planned parenthood course provides kind cancer screening benefit woman country donald said favor defunding planned parenthood even supported shutting government defund planned parenthood defend planned parenthood defend roe wade defend woman right make health care decision come far turned back indeed said woman punished form punishment woman obtain abortion could opposed kind thinking roe wade clearly set regulation abortion long life health mother taken account voted senator think case kind case fall end pregnancy often heartbreaking painful decision family make met woman toward end pregnancy get worst news one could get health jeopardy continue carry term something terrible happened discovered pregnancy think united state government stepping making personal decision regulate life health mother taken account well happens case using kind scare rhetoric terribly unfortunate meet woman met woman known course life one worst possible choice woman family make believe government making know great honor traveling across world behalf country country government either forced woman abortion like used china forced woman bear child like used romania tell government business decision woman make family accordance faith medical advice stand right well talking thinking young girl met la vega carla worried parent might deported born country work hard everything give good life right want rip family apart want sending parent away child want see deportation force donald talked action country million undocumented people million american citizen child million people said recently week ago phoenix every undocumented person would subject deportation mean mean would massive law enforcement presence law enforcement officer would going school school home home business business rounding people undocumented would put train bus get country think idea keeping nation think idea would rip country apart border security year voted border security united state senate comprehensive immigration reform plan course includes border security want put resource think needed getting rid violent person anybody deported deport come wall donald talk building went mexico meeting mexican president even raise choked got twitter war mexican president said paying wall think nation immigrant nation law act accordingly introducing comprehensive immigration reform within first 100 day path citizenship voted border security limited place appropriate also necessarily going new technology best deploy clear look donald proposing started campaign bashing immigrant calling mexican immigrant rapist criminal drug dealer different view deal immigrant also arguing bringing undocumented immigrant shadow putting formal economy good employer exploit undercut american wage donald know lot used undocumented labor build trump tower underpaid undocumented worker complained basically said lot employer complain get deported want get everybody shadow get economy working let employer like donald exploit undocumented worker hurt also hurt american worker open border rank mischaracterization secure border also reform used bipartisan issue ronald reagan last president sign immigration reform george bush supported well well went read rest sentence talking energy know trade energy neighbor trade rest world combined want electric grid energy system cross border think would great benefit clearly quoting wikileaks really important wikileaks russian government engaged espionage american hacked american website american account private people institution given information wikileaks purpose putting internet come highest level russian government clearly putin effort intelligence agency confirmed influence election actually think important question evening chris finally donald trump admit condemn russian make clear help putin election reject russian espionage american actually encouraged past question need answered never anything like happen election well rather puppet president united state pretty clear pretty clear admit russian engaged cyberattacks united state america encouraged espionage people willing spout putin line sign wish list break nato whatever want continue get help clear favorite race think unprecedented situation never foreign government trying interfere election intelligence agency civilian military concluded espionage attack cyberattacks come highest level kremlin designed influence election find deeply disturbing think time take stand quoting quoting intelligence doubt military civilian agency well rather believe vladimir putin military civilian intelligence professional sworn protect find absolutely crosstalk find ironic raising nuclear weapon person cavalier even casual use nuclear weapon advocated country getting japan korea even saudi arabia said well use think terrifying deal bottom line nuclear weapon president give order must followed four minute order given people responsible launching nuclear weapon people awesome responsibility come unprecedented way said would trust donald trump nuclear code finger nuclear button well quoting asked potential nuclear nuclear competition asia said know ahead enjoy folk kind language well united state kept peace united state kept peace alliance donald want tear alliance think make world safer frankly make united state safer would work ally asia europe middle east elsewhere way going able keep peace well think middle class thrives america thrives plan based growing economy giving middle class family many opportunity want biggest job program since world war job infrastructure advanced manufacturing think compete high wage country believe new job clean energy fight climate change serious problem create new opportunity new business want help small business two third new job going come want raise national minimum wage people live poverty work full time still poverty sure want make sure woman get equal pay work feel strongly education system start preschool go college want technical education high school community college real apprenticeship prepare young people job future want make college debt free family making le 125 000 get tuition bill public college university plan worked bernie sander enacted going work hard make sure going money gain last year since great recession gone top going wealthy pay fair share going corporation make contribution greater country plan analyzed independent expert said could produce million new job contrast donald plan analyzed conclude might lose million job whole plan cut tax give biggest tax break ever wealthy corporation adding trillion debt causing kind dislocation seen truly trickle economics steroid plan think actually produce greater opportunity plan cost job possibly lead another great recession well let translate chris fact going advocate largest tax cut ever seen three time tax cut bush administration said repeatedly throughout campaign raise tax anyone making 250 000 le also add penny debt costed going massive tax cut add trillion debt well mentioned debt know get control debt husband president went 300 billion deficit 200 billion surplus actually path eliminating national debt president obama came office inherited worst economic disaster since great depression cut deficit two third yes one way debt one way create job investing people investment investment new job investment education skill training opportunity people get ahead stay ahead kind approach work cutting tax wealthy tried worked way promised well combination chris let say inherit level economic catastrophe president obama inherited real touch situation senate became secretary state never seen people physically distraught bush administration team happening economy personally believe step president obama took saved economy get credit deserves taking hard position terrible recession dug standing yet running proposing invest middle ground top going work put forward add penny debt kind approach enable people take new job higher paying job beginning see increase income certainly long string increasing job got get whole economy moving believe able well first let say number one saw final agreement tpp said meet test test create job raise income national security election president one stage actually shipped job mexico donald shipped job country including mexico mentioned china know one biggest problem china illegal dumping steel aluminum market fought senator stood secretary state donald bought chinese steel aluminum fact trump hotel right la vega made chinese steel go around crocodile tear terrible given job chinese steelworker american steelworker kind approach going work going pull country together going trade agreement enforce going trade prosecutor first time history going enforce agreement going look business help buying american product voted well first said state department untrue debunked numerous time think really important issue raised year experience let talk briefly know back 1970s worked child defense fund taking discrimination african american kid school getting sued justice department racial discrimination apartment building 1980s working reform school arkansas borrowing million father start business 1990s went beijing said woman right human right insulted former miss universe alicia machado called eating machine day situation room monitoring raid brought osama bin laden justice hosting celebrity apprentice happy compare year experience done country trying help every way could especially kid family get ahead stay ahead year let american people make decision well last debate heard donald talking woman number woman come forward saying exactly response well held number big rally said could possibly done thing woman attractive enough assaulted fact went say went say look think another woman said first choice attacked woman reporter writing story called disgusting called number woman campaign donald think belittling woman make bigger go dignity self worth think woman anywhere know feel like know donald think say act toward woman donald think really demonstrate country stand clear expect next president want bring country together want kind pitting people one instead celebrate diversity lift people make country even greater america great america good really make true future particularly child grandchild well every time donald pushed something obviously uncomfortable like woman saying immediately go denying responsibility woman never apologizes say sorry anything know said done woman also went disabled reporter mocked mimicked national television went mr khan parent young man died serving country gold star family religion went john mccain prisoner war said prefers people captured went federal judge born indiana donald said trusted try fraud racketeering case trump university parent mexican one thing pattern pattern divisiveness dark many way dangerous vision country incites violence applauds people pushing pulling punching rally america hope move last week campaign people understand stake election really come kind country going well everything secretary state furtherance country interest value state department said think proven happy fact thrilled talk clinton foundation world renowned charity proud work know could talk rest debate know time briefly clinton foundation made possible million people around world hiv aid afford treatment half people world getting treatment partnership american health association made environment school healthier kid including healthier lunch well open discussion well evidence crosstalk lot evidence good work high ranking crosstalk well quickly clinton foundation spend percent percent money donated behalf program people around world country proud highest rating watchdog follow foundation happy compare trump foundation took money people bought six foot portrait donald mean astonishing come haiti haiti poorest country hemisphere earthquake hurricane devastated haiti bill involved trying help haiti many year clinton foundation raised million help haiti catastrophic earthquake terrible problem people done thing help small business agriculture much else going keep working help haiti important part american experience course way know whether true released tax return first candidate ever run president last plus year released tax return everything say charity anything else prove look tax return got really troubling learned last debate paid penny federal income tax talking immigrant minute ago chris know half immigrant undocumented immigrant country actually pay federal income tax undocumented immigrant america paying federal income tax billionaire find astonishing well know made chinese steel well chris let respond horrifying know every time donald think thing going direction claim whatever rigged fbi conducted year long investigation mail concluded case said fbi rigged lost iowa caucus lost wisconsin primary said republican primary rigged trump university get sued fraud racketeering claim court system federal judge rigged even time get emmy program three year row started tweeting emmy rigged mindset donald think funny also really troubling way democracy work around 240 year free fair election accepted outcome may liked must expected anyone standing debate stage general election know president obama said day whining game even finished applause show job let know let clear saying mean denigrating talking democracy one appalled somebody nominee one two major party would take kind position well encouraged effort led iraqi army supported kurdish force also given help advice number special force american ground support putting american soldier iraq occupying force think interest think would smart fact chris think would big red flag waving isi reconstitute goal take back mosul going hard fight got illusion continue press syria begin take back move raqqa isi headquarters hopeful hard work american military adviser done pay see real really successful military operation know got lot work syria remain hotbed terrorism long civil war aided abetted iranian russian continue said look need keep eye isi want intelligence surge protects home air ground online make sure home let terrorist buy weapon dangerous fly dangerous buy gun going continue push fly zone safe haven within syria help protect syrian prevent constant outflow refugee frankly gain leverage syrian government russian perhaps kind serious negotiation necessary bring conflict end forward political track well know donald implying support invasion iraq said mistake said year ago consistently denied clear fact invasion supported know want everybody google google donald trump iraq see dozen source verify invasion iraq actually hear audio saying matter well matter told truth position guess belief make look better contrast vote really important understand interplay mosul sunni city mosul border syria yes need baghdadi like went bin laden celebrity apprentice brought justice need leadership need get rid get rid fighter estimated several thousand fighter mosul digging underground prepared defend going tough fighting think take back mosul move syria take back raqqa amazed seems think iraqi government ally everybody else launched attack mosul help election donald think know always looking conspiracy conspiracy theory crosstalk conspiracy theory spewing quite time say crosstalk unfit prof every time talk well ask bernie sander supporting president said campaigned around country dangerous person run president modern history america think right well chris first think fly zone could save life could hasten end conflict well aware really legitimate concern expressed president general would done first day would take lot negotiation would also take making clear russian syrian purpose provide safe zone ground million people leave syria million people inside syria dislocated think could strike deal make clear russian syrian something believe best interest people ground syria would help fight isi want respond donald said refugee made claim repeatedly going let anyone country vetted confidence going slam door woman child picture little year old boy aleppo blood coming face sat ambulance haunting going careful thorough vetting solve internal challenge isi need stop radicalization work american muslim community front line identify prevent attack fact killer dozen people nightclub orlando pulse nightclub born queen place donald born let clear threat best going able meet yes threat emanates syria iraq got keep fighting defeat isi game much smarter home well first hear donald talk like know slogan make america great wonder thought america great rush say know president obama think important recognize criticizing government decade know back 1987 took 100 000 new york time time president reagan president basically said exactly said laughingstock world criticizing president reagan way donald think put know middle say know alone fix said convention stage look debt issue asked chris pay everything proposing add penny national debt take seriously think one issue got come grip talk going pay education going invest infrastructure going get cost prescription drug lot issue people talk time made clear going money going ask wealthy corporation pay fair share evidence whatsoever slow diminish growth fact think opposite economist call middle growth got get back rebuilding middle class family america growth come want invest want invest family think smartest way grow economy make economy fairer big disagreement may experience know started dad millionaire started dad small business man think know difference affect see world want economy well chris record saying need put money social security trust fund part commitment raise tax wealthy social security payroll contribution donald assuming figure get want replenish social security trust fund making sure sufficient resource come either raising cap finding way get money cut benefit want enhance benefit low income worker woman disadvantaged current social security system donald proposing massive tax cut result trillion additional national debt dire consequence social security medicare say something affordable care act want repeal affordable care act extended solvency medicare trust fund repeal medicare problem get worse need long term health care driver got get cost increase value emphasize wellness plan think able get entitlement spending control resource smarter decision'"
      ]
     },
     "execution_count": 77,
     "metadata": {},
     "output_type": "execute_result"
    }
   ],
   "source": [
    "# making the tokens list of strings into one big string for some reason\n",
    "# Assuming 'tokens' is the column containing lists of strings\n",
    "result_df['string_tokens'] = result_df['list_tokens'].apply(lambda x: ' '.join(x))\n",
    "result_df['string_tokens'][0]"
   ]
  },
  {
   "cell_type": "markdown",
   "metadata": {},
   "source": [
    "## Saving result_df"
   ]
  },
  {
   "cell_type": "code",
   "execution_count": 78,
   "metadata": {},
   "outputs": [],
   "source": [
    "# Saving df as a csv\n",
    "result_df.to_csv('../data/result_df.csv')"
   ]
  },
  {
   "cell_type": "code",
   "execution_count": 79,
   "metadata": {},
   "outputs": [],
   "source": [
    "# result_df['string_tokens'] = result_df['tokens'].str.join(\" \")\n",
    "\n",
    "# result_df['string_tokens']= [\" \".join(x) for x in result_df['tokens']]\n",
    "\n",
    "######\n",
    "# string_tokens_list = []\n",
    "# test_df = result_df\n",
    "# test_df = test_df.reset_index(drop=True)\n",
    "# test_df['string_tokens'] = string_tokens_list\n",
    "\n",
    "# for lst in test_df['tokens']:\n",
    "#     for item in lst:\n",
    "#         string = \" \".join(x for x in item)\n",
    "#         string_tokens_list.append(string)\n",
    "\n",
    "# test_df['string_tokens'] = string_tokens_list\n",
    "\n",
    "########\n",
    "# for list in result_df['tokens']:\n",
    "#     for item in list:\n",
    "#         string = \" \".join(x for x in item)\n",
    "#         result_df['string_tokens'] = string\n",
    "#         result_df['string_tokens'].append(x)\n",
    "        "
   ]
  },
  {
   "cell_type": "markdown",
   "metadata": {},
   "source": [
    "# Combining all 3 Df's"
   ]
  },
  {
   "cell_type": "code",
   "execution_count": 80,
   "metadata": {},
   "outputs": [
    {
     "data": {
      "text/plain": [
       "(32, 7)"
      ]
     },
     "execution_count": 80,
     "metadata": {},
     "output_type": "execute_result"
    }
   ],
   "source": [
    "conventions_df.shape"
   ]
  },
  {
   "cell_type": "code",
   "execution_count": 81,
   "metadata": {},
   "outputs": [
    {
     "data": {
      "text/html": [
       "<div>\n",
       "<style scoped>\n",
       "    .dataframe tbody tr th:only-of-type {\n",
       "        vertical-align: middle;\n",
       "    }\n",
       "\n",
       "    .dataframe tbody tr th {\n",
       "        vertical-align: top;\n",
       "    }\n",
       "\n",
       "    .dataframe thead th {\n",
       "        text-align: right;\n",
       "    }\n",
       "</style>\n",
       "<table border=\"1\" class=\"dataframe\">\n",
       "  <thead>\n",
       "    <tr style=\"text-align: right;\">\n",
       "      <th></th>\n",
       "      <th>Year</th>\n",
       "      <th>Name</th>\n",
       "      <th>Text</th>\n",
       "      <th>Target</th>\n",
       "      <th>text_lower</th>\n",
       "      <th>list_tokens</th>\n",
       "      <th>string_tokens</th>\n",
       "      <th>link</th>\n",
       "    </tr>\n",
       "  </thead>\n",
       "  <tbody>\n",
       "    <tr>\n",
       "      <th>0</th>\n",
       "      <td>2016</td>\n",
       "      <td>H_CLINTON</td>\n",
       "      <td>Thank you very much, Chris. And thanks to UNL...</td>\n",
       "      <td>0.0</td>\n",
       "      <td>thank you very much, chris. and thanks to unl...</td>\n",
       "      <td>[thank, much, chris, thanks, unlv, hosting, kn...</td>\n",
       "      <td>thank much chris thanks unlv hosting know thin...</td>\n",
       "      <td>NaN</td>\n",
       "    </tr>\n",
       "    <tr>\n",
       "      <th>1</th>\n",
       "      <td>2016</td>\n",
       "      <td>H_CLINTON</td>\n",
       "      <td>Well, thank you. Are you a teacher? Yes, I th...</td>\n",
       "      <td>0.0</td>\n",
       "      <td>well, thank you. are you a teacher? yes, i th...</td>\n",
       "      <td>[well, thank, teacher, yes, think, good, quest...</td>\n",
       "      <td>well thank teacher yes think good question hea...</td>\n",
       "      <td>NaN</td>\n",
       "    </tr>\n",
       "    <tr>\n",
       "      <th>2</th>\n",
       "      <td>2016</td>\n",
       "      <td>H_CLINTON</td>\n",
       "      <td>How are you, Donald? [applause]  Well, thank ...</td>\n",
       "      <td>0.0</td>\n",
       "      <td>how are you, donald? [applause]  well, thank ...</td>\n",
       "      <td>[donald, applause, well, thank, lester, thanks...</td>\n",
       "      <td>donald applause well thank lester thanks hofst...</td>\n",
       "      <td>NaN</td>\n",
       "    </tr>\n",
       "    <tr>\n",
       "      <th>3</th>\n",
       "      <td>1996</td>\n",
       "      <td>B_CLINTON</td>\n",
       "      <td>I was going to applaud, too. Well, thank you,...</td>\n",
       "      <td>0.0</td>\n",
       "      <td>i was going to applaud, too. well, thank you,...</td>\n",
       "      <td>[going, applaud, well, thank, jim, thanks, peo...</td>\n",
       "      <td>going applaud well thank jim thanks people san...</td>\n",
       "      <td>NaN</td>\n",
       "    </tr>\n",
       "    <tr>\n",
       "      <th>4</th>\n",
       "      <td>1996</td>\n",
       "      <td>B_CLINTON</td>\n",
       "      <td>Thank you, Jim. And thank you to the people o...</td>\n",
       "      <td>0.0</td>\n",
       "      <td>thank you, jim. and thank you to the people o...</td>\n",
       "      <td>[thank, jim, thank, people, hartford, host, wa...</td>\n",
       "      <td>thank jim thank people hartford host want begi...</td>\n",
       "      <td>NaN</td>\n",
       "    </tr>\n",
       "    <tr>\n",
       "      <th>...</th>\n",
       "      <td>...</td>\n",
       "      <td>...</td>\n",
       "      <td>...</td>\n",
       "      <td>...</td>\n",
       "      <td>...</td>\n",
       "      <td>...</td>\n",
       "      <td>...</td>\n",
       "      <td>...</td>\n",
       "    </tr>\n",
       "    <tr>\n",
       "      <th>10</th>\n",
       "      <td>2005</td>\n",
       "      <td>BUSH_2</td>\n",
       "      <td>Vice President Cheney, Mr. Chief Justice, Pres...</td>\n",
       "      <td>1.0</td>\n",
       "      <td>vice president cheney, mr. chief justice, pres...</td>\n",
       "      <td>['vice', 'president', 'cheney', 'chief', 'just...</td>\n",
       "      <td>NaN</td>\n",
       "      <td>https://www.presidency.ucsb.edu/documents/inau...</td>\n",
       "    </tr>\n",
       "    <tr>\n",
       "      <th>11</th>\n",
       "      <td>2009</td>\n",
       "      <td>OBAMA</td>\n",
       "      <td>My fellow citizens, I stand here today humbled...</td>\n",
       "      <td>0.0</td>\n",
       "      <td>my fellow citizens, i stand here today humbled...</td>\n",
       "      <td>['fellow', 'citizen', 'stand', 'today', 'humbl...</td>\n",
       "      <td>NaN</td>\n",
       "      <td>https://www.presidency.ucsb.edu/documents/inau...</td>\n",
       "    </tr>\n",
       "    <tr>\n",
       "      <th>12</th>\n",
       "      <td>2013</td>\n",
       "      <td>OBAMA</td>\n",
       "      <td>Thank you. Thank you so much. Vice President B...</td>\n",
       "      <td>0.0</td>\n",
       "      <td>thank you. thank you so much. vice president b...</td>\n",
       "      <td>['thank', 'thank', 'much', 'vice', 'president'...</td>\n",
       "      <td>NaN</td>\n",
       "      <td>https://www.presidency.ucsb.edu/documents/inau...</td>\n",
       "    </tr>\n",
       "    <tr>\n",
       "      <th>13</th>\n",
       "      <td>2017</td>\n",
       "      <td>TRUMP</td>\n",
       "      <td>Chief Justice Roberts, President Carter, Presi...</td>\n",
       "      <td>1.0</td>\n",
       "      <td>chief justice roberts, president carter, presi...</td>\n",
       "      <td>['chief', 'justice', 'robert', 'president', 'c...</td>\n",
       "      <td>NaN</td>\n",
       "      <td>https://www.presidency.ucsb.edu/documents/inau...</td>\n",
       "    </tr>\n",
       "    <tr>\n",
       "      <th>14</th>\n",
       "      <td>2021</td>\n",
       "      <td>BIDEN</td>\n",
       "      <td>Chief Justice Roberts, Vice President Harris, ...</td>\n",
       "      <td>0.0</td>\n",
       "      <td>chief justice roberts, vice president harris, ...</td>\n",
       "      <td>['chief', 'justice', 'robert', 'vice', 'presid...</td>\n",
       "      <td>NaN</td>\n",
       "      <td>https://www.presidency.ucsb.edu/documents/inau...</td>\n",
       "    </tr>\n",
       "  </tbody>\n",
       "</table>\n",
       "<p>119 rows × 8 columns</p>\n",
       "</div>"
      ],
      "text/plain": [
       "    Year       Name                                               Text   \n",
       "0   2016  H_CLINTON   Thank you very much, Chris. And thanks to UNL...  \\\n",
       "1   2016  H_CLINTON   Well, thank you. Are you a teacher? Yes, I th...   \n",
       "2   2016  H_CLINTON   How are you, Donald? [applause]  Well, thank ...   \n",
       "3   1996  B_CLINTON   I was going to applaud, too. Well, thank you,...   \n",
       "4   1996  B_CLINTON   Thank you, Jim. And thank you to the people o...   \n",
       "..   ...        ...                                                ...   \n",
       "10  2005     BUSH_2  Vice President Cheney, Mr. Chief Justice, Pres...   \n",
       "11  2009      OBAMA  My fellow citizens, I stand here today humbled...   \n",
       "12  2013      OBAMA  Thank you. Thank you so much. Vice President B...   \n",
       "13  2017      TRUMP  Chief Justice Roberts, President Carter, Presi...   \n",
       "14  2021      BIDEN  Chief Justice Roberts, Vice President Harris, ...   \n",
       "\n",
       "    Target                                         text_lower   \n",
       "0      0.0   thank you very much, chris. and thanks to unl...  \\\n",
       "1      0.0   well, thank you. are you a teacher? yes, i th...   \n",
       "2      0.0   how are you, donald? [applause]  well, thank ...   \n",
       "3      0.0   i was going to applaud, too. well, thank you,...   \n",
       "4      0.0   thank you, jim. and thank you to the people o...   \n",
       "..     ...                                                ...   \n",
       "10     1.0  vice president cheney, mr. chief justice, pres...   \n",
       "11     0.0  my fellow citizens, i stand here today humbled...   \n",
       "12     0.0  thank you. thank you so much. vice president b...   \n",
       "13     1.0  chief justice roberts, president carter, presi...   \n",
       "14     0.0  chief justice roberts, vice president harris, ...   \n",
       "\n",
       "                                          list_tokens   \n",
       "0   [thank, much, chris, thanks, unlv, hosting, kn...  \\\n",
       "1   [well, thank, teacher, yes, think, good, quest...   \n",
       "2   [donald, applause, well, thank, lester, thanks...   \n",
       "3   [going, applaud, well, thank, jim, thanks, peo...   \n",
       "4   [thank, jim, thank, people, hartford, host, wa...   \n",
       "..                                                ...   \n",
       "10  ['vice', 'president', 'cheney', 'chief', 'just...   \n",
       "11  ['fellow', 'citizen', 'stand', 'today', 'humbl...   \n",
       "12  ['thank', 'thank', 'much', 'vice', 'president'...   \n",
       "13  ['chief', 'justice', 'robert', 'president', 'c...   \n",
       "14  ['chief', 'justice', 'robert', 'vice', 'presid...   \n",
       "\n",
       "                                        string_tokens   \n",
       "0   thank much chris thanks unlv hosting know thin...  \\\n",
       "1   well thank teacher yes think good question hea...   \n",
       "2   donald applause well thank lester thanks hofst...   \n",
       "3   going applaud well thank jim thanks people san...   \n",
       "4   thank jim thank people hartford host want begi...   \n",
       "..                                                ...   \n",
       "10                                                NaN   \n",
       "11                                                NaN   \n",
       "12                                                NaN   \n",
       "13                                                NaN   \n",
       "14                                                NaN   \n",
       "\n",
       "                                                 link  \n",
       "0                                                 NaN  \n",
       "1                                                 NaN  \n",
       "2                                                 NaN  \n",
       "3                                                 NaN  \n",
       "4                                                 NaN  \n",
       "..                                                ...  \n",
       "10  https://www.presidency.ucsb.edu/documents/inau...  \n",
       "11  https://www.presidency.ucsb.edu/documents/inau...  \n",
       "12  https://www.presidency.ucsb.edu/documents/inau...  \n",
       "13  https://www.presidency.ucsb.edu/documents/inau...  \n",
       "14  https://www.presidency.ucsb.edu/documents/inau...  \n",
       "\n",
       "[119 rows x 8 columns]"
      ]
     },
     "execution_count": 81,
     "metadata": {},
     "output_type": "execute_result"
    }
   ],
   "source": [
    "final_df = pd.concat([result_df, conventions_df, inaugural_df], axis=0)\n",
    "final_df"
   ]
  },
  {
   "cell_type": "code",
   "execution_count": 82,
   "metadata": {},
   "outputs": [
    {
     "data": {
      "text/plain": [
       "Year              0\n",
       "Name              0\n",
       "Text              0\n",
       "Target            0\n",
       "text_lower       32\n",
       "list_tokens       0\n",
       "string_tokens    15\n",
       "link             72\n",
       "dtype: int64"
      ]
     },
     "execution_count": 82,
     "metadata": {},
     "output_type": "execute_result"
    }
   ],
   "source": [
    "final_df.isna().sum()"
   ]
  },
  {
   "cell_type": "code",
   "execution_count": 86,
   "metadata": {},
   "outputs": [],
   "source": [
    "import ast\n",
    "\n",
    "# Function to convert string to list\n",
    "def convert_string_to_list(string):\n",
    "    try:\n",
    "        return ast.literal_eval(string)\n",
    "    except ValueError:\n",
    "        return string  # returns the original string in case of an error\n",
    "\n",
    "# Apply this function to the desired column\n",
    "final_df['list_tokens'] = final_df['list_tokens'].apply(convert_string_to_list)"
   ]
  },
  {
   "cell_type": "code",
   "execution_count": 87,
   "metadata": {},
   "outputs": [],
   "source": [
    "final_df['string_tokens']= [\" \".join(x) for x in final_df['list_tokens']]"
   ]
  },
  {
   "cell_type": "code",
   "execution_count": 88,
   "metadata": {},
   "outputs": [
    {
     "data": {
      "text/plain": [
       "1    well thank teacher yes think good question hea...\n",
       "1    thank much thank amazing welcome thank great c...\n",
       "1    fellow countryman occasion oath taken god mine...\n",
       "Name: string_tokens, dtype: object"
      ]
     },
     "execution_count": 88,
     "metadata": {},
     "output_type": "execute_result"
    }
   ],
   "source": [
    "final_df['string_tokens'][1]"
   ]
  },
  {
   "cell_type": "code",
   "execution_count": 89,
   "metadata": {},
   "outputs": [
    {
     "data": {
      "text/plain": [
       "Year              0\n",
       "Name              0\n",
       "Text              0\n",
       "Target            0\n",
       "text_lower       32\n",
       "list_tokens       0\n",
       "string_tokens     0\n",
       "link             72\n",
       "dtype: int64"
      ]
     },
     "execution_count": 89,
     "metadata": {},
     "output_type": "execute_result"
    }
   ],
   "source": [
    "final_df.isna().sum()"
   ]
  },
  {
   "cell_type": "markdown",
   "metadata": {},
   "source": [
    "#### Nate's visualization of top most predictive words based on a very basic mnb would go here\n",
    "We would justify removing these stop words before we run the model using that"
   ]
  },
  {
   "cell_type": "code",
   "execution_count": 107,
   "metadata": {},
   "outputs": [],
   "source": [
    "add_stopwords = ['mccain','bush','donald','romney','ford','nixon','george','john','dole','dan','richard','reagan','trump','quayle','jim','obama','hillary','joe','clinton','carter','khrushchev','kennedy','biden','crosstalk','bernie','sander']"
   ]
  },
  {
   "cell_type": "code",
   "execution_count": 116,
   "metadata": {},
   "outputs": [
    {
     "data": {
      "text/html": [
       "<div>\n",
       "<style scoped>\n",
       "    .dataframe tbody tr th:only-of-type {\n",
       "        vertical-align: middle;\n",
       "    }\n",
       "\n",
       "    .dataframe tbody tr th {\n",
       "        vertical-align: top;\n",
       "    }\n",
       "\n",
       "    .dataframe thead th {\n",
       "        text-align: right;\n",
       "    }\n",
       "</style>\n",
       "<table border=\"1\" class=\"dataframe\">\n",
       "  <thead>\n",
       "    <tr style=\"text-align: right;\">\n",
       "      <th></th>\n",
       "      <th>Year</th>\n",
       "      <th>Name</th>\n",
       "      <th>Text</th>\n",
       "      <th>Target</th>\n",
       "      <th>text_lower</th>\n",
       "      <th>list_tokens</th>\n",
       "      <th>string_tokens</th>\n",
       "      <th>link</th>\n",
       "    </tr>\n",
       "  </thead>\n",
       "  <tbody>\n",
       "    <tr>\n",
       "      <th>0</th>\n",
       "      <td>2016</td>\n",
       "      <td>H_CLINTON</td>\n",
       "      <td>Thank you very much, Chris. And thanks to UNL...</td>\n",
       "      <td>0.0</td>\n",
       "      <td>thank you very much, chris. and thanks to unl...</td>\n",
       "      <td>[thank, much, chris, thanks, unlv, hosting, kn...</td>\n",
       "      <td>thank much chris thanks unlv hosting know thin...</td>\n",
       "      <td>NaN</td>\n",
       "    </tr>\n",
       "    <tr>\n",
       "      <th>1</th>\n",
       "      <td>2016</td>\n",
       "      <td>H_CLINTON</td>\n",
       "      <td>Well, thank you. Are you a teacher? Yes, I th...</td>\n",
       "      <td>0.0</td>\n",
       "      <td>well, thank you. are you a teacher? yes, i th...</td>\n",
       "      <td>[well, thank, teacher, yes, think, good, quest...</td>\n",
       "      <td>well thank teacher yes think good question hea...</td>\n",
       "      <td>NaN</td>\n",
       "    </tr>\n",
       "    <tr>\n",
       "      <th>2</th>\n",
       "      <td>2016</td>\n",
       "      <td>H_CLINTON</td>\n",
       "      <td>How are you, Donald? [applause]  Well, thank ...</td>\n",
       "      <td>0.0</td>\n",
       "      <td>how are you, donald? [applause]  well, thank ...</td>\n",
       "      <td>[donald, applause, well, thank, lester, thanks...</td>\n",
       "      <td>applause well thank lester thanks hofstra host...</td>\n",
       "      <td>NaN</td>\n",
       "    </tr>\n",
       "    <tr>\n",
       "      <th>3</th>\n",
       "      <td>1996</td>\n",
       "      <td>B_CLINTON</td>\n",
       "      <td>I was going to applaud, too. Well, thank you,...</td>\n",
       "      <td>0.0</td>\n",
       "      <td>i was going to applaud, too. well, thank you,...</td>\n",
       "      <td>[going, applaud, well, thank, jim, thanks, peo...</td>\n",
       "      <td>going applaud well thank thanks people san die...</td>\n",
       "      <td>NaN</td>\n",
       "    </tr>\n",
       "    <tr>\n",
       "      <th>4</th>\n",
       "      <td>1996</td>\n",
       "      <td>B_CLINTON</td>\n",
       "      <td>Thank you, Jim. And thank you to the people o...</td>\n",
       "      <td>0.0</td>\n",
       "      <td>thank you, jim. and thank you to the people o...</td>\n",
       "      <td>[thank, jim, thank, people, hartford, host, wa...</td>\n",
       "      <td>thank thank people hartford host want begin sa...</td>\n",
       "      <td>NaN</td>\n",
       "    </tr>\n",
       "  </tbody>\n",
       "</table>\n",
       "</div>"
      ],
      "text/plain": [
       "   Year       Name                                               Text  Target   \n",
       "0  2016  H_CLINTON   Thank you very much, Chris. And thanks to UNL...     0.0  \\\n",
       "1  2016  H_CLINTON   Well, thank you. Are you a teacher? Yes, I th...     0.0   \n",
       "2  2016  H_CLINTON   How are you, Donald? [applause]  Well, thank ...     0.0   \n",
       "3  1996  B_CLINTON   I was going to applaud, too. Well, thank you,...     0.0   \n",
       "4  1996  B_CLINTON   Thank you, Jim. And thank you to the people o...     0.0   \n",
       "\n",
       "                                          text_lower   \n",
       "0   thank you very much, chris. and thanks to unl...  \\\n",
       "1   well, thank you. are you a teacher? yes, i th...   \n",
       "2   how are you, donald? [applause]  well, thank ...   \n",
       "3   i was going to applaud, too. well, thank you,...   \n",
       "4   thank you, jim. and thank you to the people o...   \n",
       "\n",
       "                                         list_tokens   \n",
       "0  [thank, much, chris, thanks, unlv, hosting, kn...  \\\n",
       "1  [well, thank, teacher, yes, think, good, quest...   \n",
       "2  [donald, applause, well, thank, lester, thanks...   \n",
       "3  [going, applaud, well, thank, jim, thanks, peo...   \n",
       "4  [thank, jim, thank, people, hartford, host, wa...   \n",
       "\n",
       "                                       string_tokens link  \n",
       "0  thank much chris thanks unlv hosting know thin...  NaN  \n",
       "1  well thank teacher yes think good question hea...  NaN  \n",
       "2  applause well thank lester thanks hofstra host...  NaN  \n",
       "3  going applaud well thank thanks people san die...  NaN  \n",
       "4  thank thank people hartford host want begin sa...  NaN  "
      ]
     },
     "execution_count": 116,
     "metadata": {},
     "output_type": "execute_result"
    }
   ],
   "source": [
    "# Function to remove stopwords from a string\n",
    "def remove_stopwords(text):\n",
    "    words = text.split()\n",
    "    filtered_words = [word for word in words if word not in add_stopwords]\n",
    "    return ' '.join(filtered_words)\n",
    "\n",
    "# Apply the remove_stopwords function to the 'string_tokens' column\n",
    "final_df['string_tokens'] = final_df['string_tokens'].apply(lambda x: remove_stopwords(x))\n",
    "\n",
    "# Display the updated DataFrame\n",
    "final_df.head()\n"
   ]
  },
  {
   "cell_type": "code",
   "execution_count": 117,
   "metadata": {},
   "outputs": [],
   "source": [
    "final_df.to_csv('../data/final_df.csv', index=False)"
   ]
  },
  {
   "cell_type": "markdown",
   "metadata": {},
   "source": [
    "## NLP Modelling"
   ]
  },
  {
   "cell_type": "code",
   "execution_count": 118,
   "metadata": {},
   "outputs": [
    {
     "data": {
      "text/plain": [
       "Year              0\n",
       "Name              0\n",
       "Text              0\n",
       "Target            0\n",
       "text_lower       32\n",
       "list_tokens       0\n",
       "string_tokens     0\n",
       "link             72\n",
       "dtype: int64"
      ]
     },
     "execution_count": 118,
     "metadata": {},
     "output_type": "execute_result"
    }
   ],
   "source": [
    "final_df.isna().sum()"
   ]
  },
  {
   "cell_type": "code",
   "execution_count": 119,
   "metadata": {},
   "outputs": [
    {
     "data": {
      "text/plain": [
       "1    well thank teacher yes think good question hea...\n",
       "1    thank much thank amazing welcome thank great c...\n",
       "1    fellow countryman occasion oath taken god mine...\n",
       "Name: string_tokens, dtype: object"
      ]
     },
     "execution_count": 119,
     "metadata": {},
     "output_type": "execute_result"
    }
   ],
   "source": [
    "final_df['string_tokens'][1]"
   ]
  },
  {
   "cell_type": "code",
   "execution_count": 120,
   "metadata": {},
   "outputs": [],
   "source": [
    "# import matplotlib.pyplot as plt\n",
    "# import pandas as pd\n",
    "# from nltk.probability import FreqDist\n",
    "\n",
    "# # Create a frequency distribution for each unique value in result_df['Name']\n",
    "# for speaker in result_df['Name'].unique():\n",
    "#     # Filter the dataframe for the specific speaker\n",
    "#     speaker_df = result_df[result_df['Name'] == speaker]\n",
    "    \n",
    "#     # Combine all tokens for the specific speaker into a list\n",
    "#     tokens = [token for sublist in speaker_df['tokens'] for token in sublist]\n",
    "    \n",
    "#     # Create a frequency distribution for the tokens\n",
    "#     freq_dist = FreqDist(tokens)\n",
    "    \n",
    "#     # Get the top 10 tokens\n",
    "#     top_tokens = freq_dist.most_common(10)\n",
    "    \n",
    "#     # Extract words and frequencies\n",
    "#     words, frequencies = zip(*sorted(top_tokens, key=lambda x: x[1], reverse=True))\n",
    "    \n",
    "#     # Plot the frequency distribution for the specific speaker using a bar graph\n",
    "#     plt.figure(figsize=(10, 6))\n",
    "#     plt.bar(words, frequencies)\n",
    "    \n",
    "#     plt.title(f\"Top 10 Word Usage Frequency Distribution for {speaker}\")\n",
    "#     plt.xlabel(words)\n",
    "#     plt.ylabel(\"Frequency\")\n",
    "#     plt.xticks(rotation=45, ha='right')  # Rotate x-axis labels for better readability\n",
    "\n",
    "# plt.show()\n",
    "\n",
    "# import matplotlib.pyplot as plt\n",
    "# from nltk.probability import FreqDist\n",
    "\n",
    "# # Create a frequency distribution for each speaker\n",
    "# speaker_freq_dist = {}\n",
    "# for speaker in result_df['Name'].unique():\n",
    "#     tokens = [token for sublist in result_df[result_df['Name'] == speaker]['tokens'] for token in sublist]\n",
    "#     freq_dist = FreqDist(tokens)\n",
    "#     speaker_freq_dist[speaker] = freq_dist\n",
    "\n",
    "# # Plot the frequency distribution for each speaker\n",
    "# for speaker, freq_dist in speaker_freq_dist.items():\n",
    "#     plt.figure(figsize=(10, 6))\n",
    "#     freq_dist.plot(30, cumulative=False)\n",
    "#     plt.title(f\"Word Usage Frequency Distribution for {speaker}\")\n",
    "#     plt.xlabel(\"Words\")\n",
    "#     plt.ylabel(\"Frequency\")\n",
    "#     plt.show()"
   ]
  },
  {
   "cell_type": "code",
   "execution_count": 121,
   "metadata": {},
   "outputs": [],
   "source": [
    "X_train, X_test, y_train, y_test = train_test_split(final_df[\"string_tokens\"], final_df['Target'], random_state=42)"
   ]
  },
  {
   "cell_type": "code",
   "execution_count": 122,
   "metadata": {},
   "outputs": [
    {
     "data": {
      "text/html": [
       "<div>\n",
       "<style scoped>\n",
       "    .dataframe tbody tr th:only-of-type {\n",
       "        vertical-align: middle;\n",
       "    }\n",
       "\n",
       "    .dataframe tbody tr th {\n",
       "        vertical-align: top;\n",
       "    }\n",
       "\n",
       "    .dataframe thead th {\n",
       "        text-align: right;\n",
       "    }\n",
       "</style>\n",
       "<table border=\"1\" class=\"dataframe\">\n",
       "  <thead>\n",
       "    <tr style=\"text-align: right;\">\n",
       "      <th></th>\n",
       "      <th>Year</th>\n",
       "      <th>Name</th>\n",
       "      <th>Text</th>\n",
       "      <th>Target</th>\n",
       "      <th>text_lower</th>\n",
       "      <th>list_tokens</th>\n",
       "      <th>string_tokens</th>\n",
       "      <th>link</th>\n",
       "    </tr>\n",
       "  </thead>\n",
       "  <tbody>\n",
       "  </tbody>\n",
       "</table>\n",
       "</div>"
      ],
      "text/plain": [
       "Empty DataFrame\n",
       "Columns: [Year, Name, Text, Target, text_lower, list_tokens, string_tokens, link]\n",
       "Index: []"
      ]
     },
     "execution_count": 122,
     "metadata": {},
     "output_type": "execute_result"
    }
   ],
   "source": [
    "final_df[final_df['string_tokens'].isna()]"
   ]
  },
  {
   "cell_type": "code",
   "execution_count": 123,
   "metadata": {},
   "outputs": [],
   "source": [
    "# vectorizer = TfidfVectorizer()\n",
    "# vectorizer.fit(X_train)\n",
    "# X_train_vectorized = vectorizer.transform(X_train)\n",
    "# X_test_vectorized = vectorizer.transform(X_test)\n"
   ]
  },
  {
   "cell_type": "code",
   "execution_count": 124,
   "metadata": {},
   "outputs": [],
   "source": [
    "# mnb = MultinomialNB()\n",
    "# mnb = mnb.fit(X_train_vectorized, y_train)\n"
   ]
  },
  {
   "cell_type": "markdown",
   "metadata": {},
   "source": [
    "## Pipeline # 1: Tfidf Vec"
   ]
  },
  {
   "cell_type": "code",
   "execution_count": null,
   "metadata": {},
   "outputs": [],
   "source": []
  },
  {
   "cell_type": "code",
   "execution_count": 125,
   "metadata": {},
   "outputs": [
    {
     "data": {
      "text/plain": [
       "Year\n",
       "1992    11\n",
       "1960     8\n",
       "2008     7\n",
       "2016     6\n",
       "1976     6\n",
       "2012     6\n",
       "2004     6\n",
       "2000     6\n",
       "1996     5\n",
       "1988     4\n",
       "1980     3\n",
       "1964     2\n",
       "1992     2\n",
       "1968     2\n",
       "1972     2\n",
       "1976     2\n",
       "1980     2\n",
       "1960     2\n",
       "1988     2\n",
       "1984     2\n",
       "1996     2\n",
       "2004     2\n",
       "2008     2\n",
       "2012     2\n",
       "2016     2\n",
       "2020     2\n",
       "1984     2\n",
       "2020     2\n",
       "2000     2\n",
       "1993     1\n",
       "2017     1\n",
       "2013     1\n",
       "2009     1\n",
       "2005     1\n",
       "2001     1\n",
       "1997     1\n",
       "1977     1\n",
       "1989     1\n",
       "1985     1\n",
       "1981     1\n",
       "1969     1\n",
       "1965     1\n",
       "1961     1\n",
       "2021     1\n",
       "Name: count, dtype: int64"
      ]
     },
     "execution_count": 125,
     "metadata": {},
     "output_type": "execute_result"
    }
   ],
   "source": [
    "final_df['Year'].value_counts()"
   ]
  },
  {
   "cell_type": "code",
   "execution_count": 126,
   "metadata": {},
   "outputs": [
    {
     "data": {
      "text/html": [
       "<style>#sk-container-id-5 {color: black;background-color: white;}#sk-container-id-5 pre{padding: 0;}#sk-container-id-5 div.sk-toggleable {background-color: white;}#sk-container-id-5 label.sk-toggleable__label {cursor: pointer;display: block;width: 100%;margin-bottom: 0;padding: 0.3em;box-sizing: border-box;text-align: center;}#sk-container-id-5 label.sk-toggleable__label-arrow:before {content: \"▸\";float: left;margin-right: 0.25em;color: #696969;}#sk-container-id-5 label.sk-toggleable__label-arrow:hover:before {color: black;}#sk-container-id-5 div.sk-estimator:hover label.sk-toggleable__label-arrow:before {color: black;}#sk-container-id-5 div.sk-toggleable__content {max-height: 0;max-width: 0;overflow: hidden;text-align: left;background-color: #f0f8ff;}#sk-container-id-5 div.sk-toggleable__content pre {margin: 0.2em;color: black;border-radius: 0.25em;background-color: #f0f8ff;}#sk-container-id-5 input.sk-toggleable__control:checked~div.sk-toggleable__content {max-height: 200px;max-width: 100%;overflow: auto;}#sk-container-id-5 input.sk-toggleable__control:checked~label.sk-toggleable__label-arrow:before {content: \"▾\";}#sk-container-id-5 div.sk-estimator input.sk-toggleable__control:checked~label.sk-toggleable__label {background-color: #d4ebff;}#sk-container-id-5 div.sk-label input.sk-toggleable__control:checked~label.sk-toggleable__label {background-color: #d4ebff;}#sk-container-id-5 input.sk-hidden--visually {border: 0;clip: rect(1px 1px 1px 1px);clip: rect(1px, 1px, 1px, 1px);height: 1px;margin: -1px;overflow: hidden;padding: 0;position: absolute;width: 1px;}#sk-container-id-5 div.sk-estimator {font-family: monospace;background-color: #f0f8ff;border: 1px dotted black;border-radius: 0.25em;box-sizing: border-box;margin-bottom: 0.5em;}#sk-container-id-5 div.sk-estimator:hover {background-color: #d4ebff;}#sk-container-id-5 div.sk-parallel-item::after {content: \"\";width: 100%;border-bottom: 1px solid gray;flex-grow: 1;}#sk-container-id-5 div.sk-label:hover label.sk-toggleable__label {background-color: #d4ebff;}#sk-container-id-5 div.sk-serial::before {content: \"\";position: absolute;border-left: 1px solid gray;box-sizing: border-box;top: 0;bottom: 0;left: 50%;z-index: 0;}#sk-container-id-5 div.sk-serial {display: flex;flex-direction: column;align-items: center;background-color: white;padding-right: 0.2em;padding-left: 0.2em;position: relative;}#sk-container-id-5 div.sk-item {position: relative;z-index: 1;}#sk-container-id-5 div.sk-parallel {display: flex;align-items: stretch;justify-content: center;background-color: white;position: relative;}#sk-container-id-5 div.sk-item::before, #sk-container-id-5 div.sk-parallel-item::before {content: \"\";position: absolute;border-left: 1px solid gray;box-sizing: border-box;top: 0;bottom: 0;left: 50%;z-index: -1;}#sk-container-id-5 div.sk-parallel-item {display: flex;flex-direction: column;z-index: 1;position: relative;background-color: white;}#sk-container-id-5 div.sk-parallel-item:first-child::after {align-self: flex-end;width: 50%;}#sk-container-id-5 div.sk-parallel-item:last-child::after {align-self: flex-start;width: 50%;}#sk-container-id-5 div.sk-parallel-item:only-child::after {width: 0;}#sk-container-id-5 div.sk-dashed-wrapped {border: 1px dashed gray;margin: 0 0.4em 0.5em 0.4em;box-sizing: border-box;padding-bottom: 0.4em;background-color: white;}#sk-container-id-5 div.sk-label label {font-family: monospace;font-weight: bold;display: inline-block;line-height: 1.2em;}#sk-container-id-5 div.sk-label-container {text-align: center;}#sk-container-id-5 div.sk-container {/* jupyter's `normalize.less` sets `[hidden] { display: none; }` but bootstrap.min.css set `[hidden] { display: none !important; }` so we also need the `!important` here to be able to override the default hidden behavior on the sphinx rendered scikit-learn.org. See: https://github.com/scikit-learn/scikit-learn/issues/21755 */display: inline-block !important;position: relative;}#sk-container-id-5 div.sk-text-repr-fallback {display: none;}</style><div id=\"sk-container-id-5\" class=\"sk-top-container\"><div class=\"sk-text-repr-fallback\"><pre>Pipeline(steps=[(&#x27;tfidf&#x27;, TfidfVectorizer()), (&#x27;mnb&#x27;, MultinomialNB())])</pre><b>In a Jupyter environment, please rerun this cell to show the HTML representation or trust the notebook. <br />On GitHub, the HTML representation is unable to render, please try loading this page with nbviewer.org.</b></div><div class=\"sk-container\" hidden><div class=\"sk-item sk-dashed-wrapped\"><div class=\"sk-label-container\"><div class=\"sk-label sk-toggleable\"><input class=\"sk-toggleable__control sk-hidden--visually\" id=\"sk-estimator-id-15\" type=\"checkbox\" ><label for=\"sk-estimator-id-15\" class=\"sk-toggleable__label sk-toggleable__label-arrow\">Pipeline</label><div class=\"sk-toggleable__content\"><pre>Pipeline(steps=[(&#x27;tfidf&#x27;, TfidfVectorizer()), (&#x27;mnb&#x27;, MultinomialNB())])</pre></div></div></div><div class=\"sk-serial\"><div class=\"sk-item\"><div class=\"sk-estimator sk-toggleable\"><input class=\"sk-toggleable__control sk-hidden--visually\" id=\"sk-estimator-id-16\" type=\"checkbox\" ><label for=\"sk-estimator-id-16\" class=\"sk-toggleable__label sk-toggleable__label-arrow\">TfidfVectorizer</label><div class=\"sk-toggleable__content\"><pre>TfidfVectorizer()</pre></div></div></div><div class=\"sk-item\"><div class=\"sk-estimator sk-toggleable\"><input class=\"sk-toggleable__control sk-hidden--visually\" id=\"sk-estimator-id-17\" type=\"checkbox\" ><label for=\"sk-estimator-id-17\" class=\"sk-toggleable__label sk-toggleable__label-arrow\">MultinomialNB</label><div class=\"sk-toggleable__content\"><pre>MultinomialNB()</pre></div></div></div></div></div></div></div>"
      ],
      "text/plain": [
       "Pipeline(steps=[('tfidf', TfidfVectorizer()), ('mnb', MultinomialNB())])"
      ]
     },
     "execution_count": 126,
     "metadata": {},
     "output_type": "execute_result"
    }
   ],
   "source": [
    "pipe = Pipeline(steps=[\n",
    "    ('tfidf', TfidfVectorizer()), \n",
    "    ('mnb', MultinomialNB())])\n",
    "pipe.fit(X_train, y_train)"
   ]
  },
  {
   "cell_type": "code",
   "execution_count": 127,
   "metadata": {},
   "outputs": [
    {
     "data": {
      "text/plain": [
       "array([0.5       , 0.5       , 0.66666667, 0.66666667, 0.47058824])"
      ]
     },
     "execution_count": 127,
     "metadata": {},
     "output_type": "execute_result"
    }
   ],
   "source": [
    "cross_val_score(pipe, X_train, y_train)"
   ]
  },
  {
   "cell_type": "code",
   "execution_count": 128,
   "metadata": {},
   "outputs": [
    {
     "data": {
      "text/plain": [
       "0.4666666666666667"
      ]
     },
     "execution_count": 128,
     "metadata": {},
     "output_type": "execute_result"
    }
   ],
   "source": [
    "pipe.score(X_test, y_test)"
   ]
  },
  {
   "cell_type": "markdown",
   "metadata": {},
   "source": [
    "## Grid Search Tfidf Pipe"
   ]
  },
  {
   "cell_type": "code",
   "execution_count": 129,
   "metadata": {},
   "outputs": [],
   "source": [
    "def evaluate_grid(gs):\n",
    "    y_pred = gs.predict(X_test)\n",
    "    print(\"Best Params: \" + str(gs.best_params_)) \n",
    "    print(\"Best CV Accuracy: \" + str(gs.best_score_)) \n",
    "    print(\"Train Accuracy: \" + str(gs.score(X_train, y_train)))"
   ]
  },
  {
   "cell_type": "code",
   "execution_count": 130,
   "metadata": {},
   "outputs": [],
   "source": [
    "def plot_cm(y_test, gs):\n",
    "    '''\n",
    "    Takes in true values and predicted values and plots a confusion matrix\n",
    "    '''\n",
    "    y_pred = gs.predict(X_test)    \n",
    "    cm = confusion_matrix(y_test, y_pred)\n",
    "    disp = ConfusionMatrixDisplay(confusion_matrix=cm, display_labels=['dem', 'ind', 'rep'])\n",
    "    disp.plot();"
   ]
  },
  {
   "cell_type": "code",
   "execution_count": 131,
   "metadata": {},
   "outputs": [],
   "source": [
    "gs = GridSearchCV(pipe, param_grid= {\n",
    "    'tfidf__max_df': [0.75, 0.9, 1.0], # default 1.0\n",
    "    'tfidf__min_df': [0.0, 0.05, 0.1], # default 1\n",
    "    'tfidf__ngram_range': [(1, 1), (1, 2)], # default (1,1)\n",
    "    'tfidf__max_features': [None, 2, 20], # default (None)\n",
    "    'tfidf__norm': ['l1', 'l2', None]\n",
    "})"
   ]
  },
  {
   "cell_type": "code",
   "execution_count": 132,
   "metadata": {},
   "outputs": [
    {
     "data": {
      "text/html": [
       "<style>#sk-container-id-6 {color: black;background-color: white;}#sk-container-id-6 pre{padding: 0;}#sk-container-id-6 div.sk-toggleable {background-color: white;}#sk-container-id-6 label.sk-toggleable__label {cursor: pointer;display: block;width: 100%;margin-bottom: 0;padding: 0.3em;box-sizing: border-box;text-align: center;}#sk-container-id-6 label.sk-toggleable__label-arrow:before {content: \"▸\";float: left;margin-right: 0.25em;color: #696969;}#sk-container-id-6 label.sk-toggleable__label-arrow:hover:before {color: black;}#sk-container-id-6 div.sk-estimator:hover label.sk-toggleable__label-arrow:before {color: black;}#sk-container-id-6 div.sk-toggleable__content {max-height: 0;max-width: 0;overflow: hidden;text-align: left;background-color: #f0f8ff;}#sk-container-id-6 div.sk-toggleable__content pre {margin: 0.2em;color: black;border-radius: 0.25em;background-color: #f0f8ff;}#sk-container-id-6 input.sk-toggleable__control:checked~div.sk-toggleable__content {max-height: 200px;max-width: 100%;overflow: auto;}#sk-container-id-6 input.sk-toggleable__control:checked~label.sk-toggleable__label-arrow:before {content: \"▾\";}#sk-container-id-6 div.sk-estimator input.sk-toggleable__control:checked~label.sk-toggleable__label {background-color: #d4ebff;}#sk-container-id-6 div.sk-label input.sk-toggleable__control:checked~label.sk-toggleable__label {background-color: #d4ebff;}#sk-container-id-6 input.sk-hidden--visually {border: 0;clip: rect(1px 1px 1px 1px);clip: rect(1px, 1px, 1px, 1px);height: 1px;margin: -1px;overflow: hidden;padding: 0;position: absolute;width: 1px;}#sk-container-id-6 div.sk-estimator {font-family: monospace;background-color: #f0f8ff;border: 1px dotted black;border-radius: 0.25em;box-sizing: border-box;margin-bottom: 0.5em;}#sk-container-id-6 div.sk-estimator:hover {background-color: #d4ebff;}#sk-container-id-6 div.sk-parallel-item::after {content: \"\";width: 100%;border-bottom: 1px solid gray;flex-grow: 1;}#sk-container-id-6 div.sk-label:hover label.sk-toggleable__label {background-color: #d4ebff;}#sk-container-id-6 div.sk-serial::before {content: \"\";position: absolute;border-left: 1px solid gray;box-sizing: border-box;top: 0;bottom: 0;left: 50%;z-index: 0;}#sk-container-id-6 div.sk-serial {display: flex;flex-direction: column;align-items: center;background-color: white;padding-right: 0.2em;padding-left: 0.2em;position: relative;}#sk-container-id-6 div.sk-item {position: relative;z-index: 1;}#sk-container-id-6 div.sk-parallel {display: flex;align-items: stretch;justify-content: center;background-color: white;position: relative;}#sk-container-id-6 div.sk-item::before, #sk-container-id-6 div.sk-parallel-item::before {content: \"\";position: absolute;border-left: 1px solid gray;box-sizing: border-box;top: 0;bottom: 0;left: 50%;z-index: -1;}#sk-container-id-6 div.sk-parallel-item {display: flex;flex-direction: column;z-index: 1;position: relative;background-color: white;}#sk-container-id-6 div.sk-parallel-item:first-child::after {align-self: flex-end;width: 50%;}#sk-container-id-6 div.sk-parallel-item:last-child::after {align-self: flex-start;width: 50%;}#sk-container-id-6 div.sk-parallel-item:only-child::after {width: 0;}#sk-container-id-6 div.sk-dashed-wrapped {border: 1px dashed gray;margin: 0 0.4em 0.5em 0.4em;box-sizing: border-box;padding-bottom: 0.4em;background-color: white;}#sk-container-id-6 div.sk-label label {font-family: monospace;font-weight: bold;display: inline-block;line-height: 1.2em;}#sk-container-id-6 div.sk-label-container {text-align: center;}#sk-container-id-6 div.sk-container {/* jupyter's `normalize.less` sets `[hidden] { display: none; }` but bootstrap.min.css set `[hidden] { display: none !important; }` so we also need the `!important` here to be able to override the default hidden behavior on the sphinx rendered scikit-learn.org. See: https://github.com/scikit-learn/scikit-learn/issues/21755 */display: inline-block !important;position: relative;}#sk-container-id-6 div.sk-text-repr-fallback {display: none;}</style><div id=\"sk-container-id-6\" class=\"sk-top-container\"><div class=\"sk-text-repr-fallback\"><pre>GridSearchCV(estimator=Pipeline(steps=[(&#x27;tfidf&#x27;, TfidfVectorizer()),\n",
       "                                       (&#x27;mnb&#x27;, MultinomialNB())]),\n",
       "             param_grid={&#x27;tfidf__max_df&#x27;: [0.75, 0.9, 1.0],\n",
       "                         &#x27;tfidf__max_features&#x27;: [None, 2, 20],\n",
       "                         &#x27;tfidf__min_df&#x27;: [0.0, 0.05, 0.1],\n",
       "                         &#x27;tfidf__ngram_range&#x27;: [(1, 1), (1, 2)],\n",
       "                         &#x27;tfidf__norm&#x27;: [&#x27;l1&#x27;, &#x27;l2&#x27;, None]})</pre><b>In a Jupyter environment, please rerun this cell to show the HTML representation or trust the notebook. <br />On GitHub, the HTML representation is unable to render, please try loading this page with nbviewer.org.</b></div><div class=\"sk-container\" hidden><div class=\"sk-item sk-dashed-wrapped\"><div class=\"sk-label-container\"><div class=\"sk-label sk-toggleable\"><input class=\"sk-toggleable__control sk-hidden--visually\" id=\"sk-estimator-id-18\" type=\"checkbox\" ><label for=\"sk-estimator-id-18\" class=\"sk-toggleable__label sk-toggleable__label-arrow\">GridSearchCV</label><div class=\"sk-toggleable__content\"><pre>GridSearchCV(estimator=Pipeline(steps=[(&#x27;tfidf&#x27;, TfidfVectorizer()),\n",
       "                                       (&#x27;mnb&#x27;, MultinomialNB())]),\n",
       "             param_grid={&#x27;tfidf__max_df&#x27;: [0.75, 0.9, 1.0],\n",
       "                         &#x27;tfidf__max_features&#x27;: [None, 2, 20],\n",
       "                         &#x27;tfidf__min_df&#x27;: [0.0, 0.05, 0.1],\n",
       "                         &#x27;tfidf__ngram_range&#x27;: [(1, 1), (1, 2)],\n",
       "                         &#x27;tfidf__norm&#x27;: [&#x27;l1&#x27;, &#x27;l2&#x27;, None]})</pre></div></div></div><div class=\"sk-parallel\"><div class=\"sk-parallel-item\"><div class=\"sk-item\"><div class=\"sk-label-container\"><div class=\"sk-label sk-toggleable\"><input class=\"sk-toggleable__control sk-hidden--visually\" id=\"sk-estimator-id-19\" type=\"checkbox\" ><label for=\"sk-estimator-id-19\" class=\"sk-toggleable__label sk-toggleable__label-arrow\">estimator: Pipeline</label><div class=\"sk-toggleable__content\"><pre>Pipeline(steps=[(&#x27;tfidf&#x27;, TfidfVectorizer()), (&#x27;mnb&#x27;, MultinomialNB())])</pre></div></div></div><div class=\"sk-serial\"><div class=\"sk-item\"><div class=\"sk-serial\"><div class=\"sk-item\"><div class=\"sk-estimator sk-toggleable\"><input class=\"sk-toggleable__control sk-hidden--visually\" id=\"sk-estimator-id-20\" type=\"checkbox\" ><label for=\"sk-estimator-id-20\" class=\"sk-toggleable__label sk-toggleable__label-arrow\">TfidfVectorizer</label><div class=\"sk-toggleable__content\"><pre>TfidfVectorizer()</pre></div></div></div><div class=\"sk-item\"><div class=\"sk-estimator sk-toggleable\"><input class=\"sk-toggleable__control sk-hidden--visually\" id=\"sk-estimator-id-21\" type=\"checkbox\" ><label for=\"sk-estimator-id-21\" class=\"sk-toggleable__label sk-toggleable__label-arrow\">MultinomialNB</label><div class=\"sk-toggleable__content\"><pre>MultinomialNB()</pre></div></div></div></div></div></div></div></div></div></div></div></div>"
      ],
      "text/plain": [
       "GridSearchCV(estimator=Pipeline(steps=[('tfidf', TfidfVectorizer()),\n",
       "                                       ('mnb', MultinomialNB())]),\n",
       "             param_grid={'tfidf__max_df': [0.75, 0.9, 1.0],\n",
       "                         'tfidf__max_features': [None, 2, 20],\n",
       "                         'tfidf__min_df': [0.0, 0.05, 0.1],\n",
       "                         'tfidf__ngram_range': [(1, 1), (1, 2)],\n",
       "                         'tfidf__norm': ['l1', 'l2', None]})"
      ]
     },
     "execution_count": 132,
     "metadata": {},
     "output_type": "execute_result"
    }
   ],
   "source": [
    "gs.fit(X_train, y_train)\n"
   ]
  },
  {
   "cell_type": "code",
   "execution_count": 133,
   "metadata": {},
   "outputs": [
    {
     "name": "stdout",
     "output_type": "stream",
     "text": [
      "Best Params: {'tfidf__max_df': 1.0, 'tfidf__max_features': None, 'tfidf__min_df': 0.0, 'tfidf__ngram_range': (1, 2), 'tfidf__norm': None}\n",
      "Best CV Accuracy: 0.8084967320261438\n",
      "Train Accuracy: 0.9887640449438202\n"
     ]
    }
   ],
   "source": [
    "evaluate_grid(gs)"
   ]
  },
  {
   "cell_type": "code",
   "execution_count": 134,
   "metadata": {},
   "outputs": [
    {
     "ename": "ValueError",
     "evalue": "The number of FixedLocator locations (2), usually from a call to set_ticks, does not match the number of labels (3).",
     "output_type": "error",
     "traceback": [
      "\u001b[0;31m---------------------------------------------------------------------------\u001b[0m",
      "\u001b[0;31mValueError\u001b[0m                                Traceback (most recent call last)",
      "Cell \u001b[0;32mIn[134], line 1\u001b[0m\n\u001b[0;32m----> 1\u001b[0m \u001b[43mplot_cm\u001b[49m\u001b[43m(\u001b[49m\u001b[43my_test\u001b[49m\u001b[43m,\u001b[49m\u001b[43m \u001b[49m\u001b[43mgs\u001b[49m\u001b[43m)\u001b[49m\n",
      "Cell \u001b[0;32mIn[130], line 8\u001b[0m, in \u001b[0;36mplot_cm\u001b[0;34m(y_test, gs)\u001b[0m\n\u001b[1;32m      6\u001b[0m cm \u001b[38;5;241m=\u001b[39m confusion_matrix(y_test, y_pred)\n\u001b[1;32m      7\u001b[0m disp \u001b[38;5;241m=\u001b[39m ConfusionMatrixDisplay(confusion_matrix\u001b[38;5;241m=\u001b[39mcm, display_labels\u001b[38;5;241m=\u001b[39m[\u001b[38;5;124m'\u001b[39m\u001b[38;5;124mdem\u001b[39m\u001b[38;5;124m'\u001b[39m, \u001b[38;5;124m'\u001b[39m\u001b[38;5;124mind\u001b[39m\u001b[38;5;124m'\u001b[39m, \u001b[38;5;124m'\u001b[39m\u001b[38;5;124mrep\u001b[39m\u001b[38;5;124m'\u001b[39m])\n\u001b[0;32m----> 8\u001b[0m \u001b[43mdisp\u001b[49m\u001b[38;5;241;43m.\u001b[39;49m\u001b[43mplot\u001b[49m\u001b[43m(\u001b[49m\u001b[43m)\u001b[49m\n",
      "File \u001b[0;32m~/miniconda3/envs/tensorflow_test/lib/python3.10/site-packages/sklearn/metrics/_plot/confusion_matrix.py:181\u001b[0m, in \u001b[0;36mConfusionMatrixDisplay.plot\u001b[0;34m(self, include_values, cmap, xticks_rotation, values_format, ax, colorbar, im_kw, text_kw)\u001b[0m\n\u001b[1;32m    179\u001b[0m \u001b[38;5;28;01mif\u001b[39;00m colorbar:\n\u001b[1;32m    180\u001b[0m     fig\u001b[38;5;241m.\u001b[39mcolorbar(\u001b[38;5;28mself\u001b[39m\u001b[38;5;241m.\u001b[39mim_, ax\u001b[38;5;241m=\u001b[39max)\n\u001b[0;32m--> 181\u001b[0m \u001b[43max\u001b[49m\u001b[38;5;241;43m.\u001b[39;49m\u001b[43mset\u001b[49m\u001b[43m(\u001b[49m\n\u001b[1;32m    182\u001b[0m \u001b[43m    \u001b[49m\u001b[43mxticks\u001b[49m\u001b[38;5;241;43m=\u001b[39;49m\u001b[43mnp\u001b[49m\u001b[38;5;241;43m.\u001b[39;49m\u001b[43marange\u001b[49m\u001b[43m(\u001b[49m\u001b[43mn_classes\u001b[49m\u001b[43m)\u001b[49m\u001b[43m,\u001b[49m\n\u001b[1;32m    183\u001b[0m \u001b[43m    \u001b[49m\u001b[43myticks\u001b[49m\u001b[38;5;241;43m=\u001b[39;49m\u001b[43mnp\u001b[49m\u001b[38;5;241;43m.\u001b[39;49m\u001b[43marange\u001b[49m\u001b[43m(\u001b[49m\u001b[43mn_classes\u001b[49m\u001b[43m)\u001b[49m\u001b[43m,\u001b[49m\n\u001b[1;32m    184\u001b[0m \u001b[43m    \u001b[49m\u001b[43mxticklabels\u001b[49m\u001b[38;5;241;43m=\u001b[39;49m\u001b[43mdisplay_labels\u001b[49m\u001b[43m,\u001b[49m\n\u001b[1;32m    185\u001b[0m \u001b[43m    \u001b[49m\u001b[43myticklabels\u001b[49m\u001b[38;5;241;43m=\u001b[39;49m\u001b[43mdisplay_labels\u001b[49m\u001b[43m,\u001b[49m\n\u001b[1;32m    186\u001b[0m \u001b[43m    \u001b[49m\u001b[43mylabel\u001b[49m\u001b[38;5;241;43m=\u001b[39;49m\u001b[38;5;124;43m\"\u001b[39;49m\u001b[38;5;124;43mTrue label\u001b[39;49m\u001b[38;5;124;43m\"\u001b[39;49m\u001b[43m,\u001b[49m\n\u001b[1;32m    187\u001b[0m \u001b[43m    \u001b[49m\u001b[43mxlabel\u001b[49m\u001b[38;5;241;43m=\u001b[39;49m\u001b[38;5;124;43m\"\u001b[39;49m\u001b[38;5;124;43mPredicted label\u001b[39;49m\u001b[38;5;124;43m\"\u001b[39;49m\u001b[43m,\u001b[49m\n\u001b[1;32m    188\u001b[0m \u001b[43m\u001b[49m\u001b[43m)\u001b[49m\n\u001b[1;32m    190\u001b[0m ax\u001b[38;5;241m.\u001b[39mset_ylim((n_classes \u001b[38;5;241m-\u001b[39m \u001b[38;5;241m0.5\u001b[39m, \u001b[38;5;241m-\u001b[39m\u001b[38;5;241m0.5\u001b[39m))\n\u001b[1;32m    191\u001b[0m plt\u001b[38;5;241m.\u001b[39msetp(ax\u001b[38;5;241m.\u001b[39mget_xticklabels(), rotation\u001b[38;5;241m=\u001b[39mxticks_rotation)\n",
      "File \u001b[0;32m~/miniconda3/envs/tensorflow_test/lib/python3.10/site-packages/matplotlib/artist.py:147\u001b[0m, in \u001b[0;36mArtist.__init_subclass__.<locals>.<lambda>\u001b[0;34m(self, **kwargs)\u001b[0m\n\u001b[1;32m    139\u001b[0m \u001b[38;5;28;01mif\u001b[39;00m \u001b[38;5;129;01mnot\u001b[39;00m \u001b[38;5;28mhasattr\u001b[39m(\u001b[38;5;28mcls\u001b[39m\u001b[38;5;241m.\u001b[39mset, \u001b[38;5;124m'\u001b[39m\u001b[38;5;124m_autogenerated_signature\u001b[39m\u001b[38;5;124m'\u001b[39m):\n\u001b[1;32m    140\u001b[0m     \u001b[38;5;66;03m# Don't overwrite cls.set if the subclass or one of its parents\u001b[39;00m\n\u001b[1;32m    141\u001b[0m     \u001b[38;5;66;03m# has defined a set method set itself.\u001b[39;00m\n\u001b[1;32m    142\u001b[0m     \u001b[38;5;66;03m# If there was no explicit definition, cls.set is inherited from\u001b[39;00m\n\u001b[1;32m    143\u001b[0m     \u001b[38;5;66;03m# the hierarchy of auto-generated set methods, which hold the\u001b[39;00m\n\u001b[1;32m    144\u001b[0m     \u001b[38;5;66;03m# flag _autogenerated_signature.\u001b[39;00m\n\u001b[1;32m    145\u001b[0m     \u001b[38;5;28;01mreturn\u001b[39;00m\n\u001b[0;32m--> 147\u001b[0m \u001b[38;5;28mcls\u001b[39m\u001b[38;5;241m.\u001b[39mset \u001b[38;5;241m=\u001b[39m \u001b[38;5;28;01mlambda\u001b[39;00m \u001b[38;5;28mself\u001b[39m, \u001b[38;5;241m*\u001b[39m\u001b[38;5;241m*\u001b[39mkwargs: \u001b[43mArtist\u001b[49m\u001b[38;5;241;43m.\u001b[39;49m\u001b[43mset\u001b[49m\u001b[43m(\u001b[49m\u001b[38;5;28;43mself\u001b[39;49m\u001b[43m,\u001b[49m\u001b[43m \u001b[49m\u001b[38;5;241;43m*\u001b[39;49m\u001b[38;5;241;43m*\u001b[39;49m\u001b[43mkwargs\u001b[49m\u001b[43m)\u001b[49m\n\u001b[1;32m    148\u001b[0m \u001b[38;5;28mcls\u001b[39m\u001b[38;5;241m.\u001b[39mset\u001b[38;5;241m.\u001b[39m\u001b[38;5;18m__name__\u001b[39m \u001b[38;5;241m=\u001b[39m \u001b[38;5;124m\"\u001b[39m\u001b[38;5;124mset\u001b[39m\u001b[38;5;124m\"\u001b[39m\n\u001b[1;32m    149\u001b[0m \u001b[38;5;28mcls\u001b[39m\u001b[38;5;241m.\u001b[39mset\u001b[38;5;241m.\u001b[39m\u001b[38;5;18m__qualname__\u001b[39m \u001b[38;5;241m=\u001b[39m \u001b[38;5;124mf\u001b[39m\u001b[38;5;124m\"\u001b[39m\u001b[38;5;132;01m{\u001b[39;00m\u001b[38;5;28mcls\u001b[39m\u001b[38;5;241m.\u001b[39m\u001b[38;5;18m__qualname__\u001b[39m\u001b[38;5;132;01m}\u001b[39;00m\u001b[38;5;124m.set\u001b[39m\u001b[38;5;124m\"\u001b[39m\n",
      "File \u001b[0;32m~/miniconda3/envs/tensorflow_test/lib/python3.10/site-packages/matplotlib/artist.py:1231\u001b[0m, in \u001b[0;36mArtist.set\u001b[0;34m(self, **kwargs)\u001b[0m\n\u001b[1;32m   1227\u001b[0m \u001b[38;5;28;01mdef\u001b[39;00m \u001b[38;5;21mset\u001b[39m(\u001b[38;5;28mself\u001b[39m, \u001b[38;5;241m*\u001b[39m\u001b[38;5;241m*\u001b[39mkwargs):\n\u001b[1;32m   1228\u001b[0m     \u001b[38;5;66;03m# docstring and signature are auto-generated via\u001b[39;00m\n\u001b[1;32m   1229\u001b[0m     \u001b[38;5;66;03m# Artist._update_set_signature_and_docstring() at the end of the\u001b[39;00m\n\u001b[1;32m   1230\u001b[0m     \u001b[38;5;66;03m# module.\u001b[39;00m\n\u001b[0;32m-> 1231\u001b[0m     \u001b[38;5;28;01mreturn\u001b[39;00m \u001b[38;5;28;43mself\u001b[39;49m\u001b[38;5;241;43m.\u001b[39;49m\u001b[43m_internal_update\u001b[49m\u001b[43m(\u001b[49m\u001b[43mcbook\u001b[49m\u001b[38;5;241;43m.\u001b[39;49m\u001b[43mnormalize_kwargs\u001b[49m\u001b[43m(\u001b[49m\u001b[43mkwargs\u001b[49m\u001b[43m,\u001b[49m\u001b[43m \u001b[49m\u001b[38;5;28;43mself\u001b[39;49m\u001b[43m)\u001b[49m\u001b[43m)\u001b[49m\n",
      "File \u001b[0;32m~/miniconda3/envs/tensorflow_test/lib/python3.10/site-packages/matplotlib/artist.py:1223\u001b[0m, in \u001b[0;36mArtist._internal_update\u001b[0;34m(self, kwargs)\u001b[0m\n\u001b[1;32m   1216\u001b[0m \u001b[38;5;28;01mdef\u001b[39;00m \u001b[38;5;21m_internal_update\u001b[39m(\u001b[38;5;28mself\u001b[39m, kwargs):\n\u001b[1;32m   1217\u001b[0m \u001b[38;5;250m    \u001b[39m\u001b[38;5;124;03m\"\"\"\u001b[39;00m\n\u001b[1;32m   1218\u001b[0m \u001b[38;5;124;03m    Update artist properties without prenormalizing them, but generating\u001b[39;00m\n\u001b[1;32m   1219\u001b[0m \u001b[38;5;124;03m    errors as if calling `set`.\u001b[39;00m\n\u001b[1;32m   1220\u001b[0m \n\u001b[1;32m   1221\u001b[0m \u001b[38;5;124;03m    The lack of prenormalization is to maintain backcompatibility.\u001b[39;00m\n\u001b[1;32m   1222\u001b[0m \u001b[38;5;124;03m    \"\"\"\u001b[39;00m\n\u001b[0;32m-> 1223\u001b[0m     \u001b[38;5;28;01mreturn\u001b[39;00m \u001b[38;5;28;43mself\u001b[39;49m\u001b[38;5;241;43m.\u001b[39;49m\u001b[43m_update_props\u001b[49m\u001b[43m(\u001b[49m\n\u001b[1;32m   1224\u001b[0m \u001b[43m        \u001b[49m\u001b[43mkwargs\u001b[49m\u001b[43m,\u001b[49m\u001b[43m \u001b[49m\u001b[38;5;124;43m\"\u001b[39;49m\u001b[38;5;132;43;01m{cls.__name__}\u001b[39;49;00m\u001b[38;5;124;43m.set() got an unexpected keyword argument \u001b[39;49m\u001b[38;5;124;43m\"\u001b[39;49m\n\u001b[1;32m   1225\u001b[0m \u001b[43m        \u001b[49m\u001b[38;5;124;43m\"\u001b[39;49m\u001b[38;5;132;43;01m{prop_name!r}\u001b[39;49;00m\u001b[38;5;124;43m\"\u001b[39;49m\u001b[43m)\u001b[49m\n",
      "File \u001b[0;32m~/miniconda3/envs/tensorflow_test/lib/python3.10/site-packages/matplotlib/artist.py:1199\u001b[0m, in \u001b[0;36mArtist._update_props\u001b[0;34m(self, props, errfmt)\u001b[0m\n\u001b[1;32m   1196\u001b[0m             \u001b[38;5;28;01mif\u001b[39;00m \u001b[38;5;129;01mnot\u001b[39;00m \u001b[38;5;28mcallable\u001b[39m(func):\n\u001b[1;32m   1197\u001b[0m                 \u001b[38;5;28;01mraise\u001b[39;00m \u001b[38;5;167;01mAttributeError\u001b[39;00m(\n\u001b[1;32m   1198\u001b[0m                     errfmt\u001b[38;5;241m.\u001b[39mformat(\u001b[38;5;28mcls\u001b[39m\u001b[38;5;241m=\u001b[39m\u001b[38;5;28mtype\u001b[39m(\u001b[38;5;28mself\u001b[39m), prop_name\u001b[38;5;241m=\u001b[39mk))\n\u001b[0;32m-> 1199\u001b[0m             ret\u001b[38;5;241m.\u001b[39mappend(\u001b[43mfunc\u001b[49m\u001b[43m(\u001b[49m\u001b[43mv\u001b[49m\u001b[43m)\u001b[49m)\n\u001b[1;32m   1200\u001b[0m \u001b[38;5;28;01mif\u001b[39;00m ret:\n\u001b[1;32m   1201\u001b[0m     \u001b[38;5;28mself\u001b[39m\u001b[38;5;241m.\u001b[39mpchanged()\n",
      "File \u001b[0;32m~/miniconda3/envs/tensorflow_test/lib/python3.10/site-packages/matplotlib/axes/_base.py:74\u001b[0m, in \u001b[0;36m_axis_method_wrapper.__set_name__.<locals>.wrapper\u001b[0;34m(self, *args, **kwargs)\u001b[0m\n\u001b[1;32m     73\u001b[0m \u001b[38;5;28;01mdef\u001b[39;00m \u001b[38;5;21mwrapper\u001b[39m(\u001b[38;5;28mself\u001b[39m, \u001b[38;5;241m*\u001b[39margs, \u001b[38;5;241m*\u001b[39m\u001b[38;5;241m*\u001b[39mkwargs):\n\u001b[0;32m---> 74\u001b[0m     \u001b[38;5;28;01mreturn\u001b[39;00m \u001b[43mget_method\u001b[49m\u001b[43m(\u001b[49m\u001b[38;5;28;43mself\u001b[39;49m\u001b[43m)\u001b[49m\u001b[43m(\u001b[49m\u001b[38;5;241;43m*\u001b[39;49m\u001b[43margs\u001b[49m\u001b[43m,\u001b[49m\u001b[43m \u001b[49m\u001b[38;5;241;43m*\u001b[39;49m\u001b[38;5;241;43m*\u001b[39;49m\u001b[43mkwargs\u001b[49m\u001b[43m)\u001b[49m\n",
      "File \u001b[0;32m~/miniconda3/envs/tensorflow_test/lib/python3.10/site-packages/matplotlib/_api/deprecation.py:297\u001b[0m, in \u001b[0;36mrename_parameter.<locals>.wrapper\u001b[0;34m(*args, **kwargs)\u001b[0m\n\u001b[1;32m    292\u001b[0m     warn_deprecated(\n\u001b[1;32m    293\u001b[0m         since, message\u001b[38;5;241m=\u001b[39m\u001b[38;5;124mf\u001b[39m\u001b[38;5;124m\"\u001b[39m\u001b[38;5;124mThe \u001b[39m\u001b[38;5;132;01m{\u001b[39;00mold\u001b[38;5;132;01m!r}\u001b[39;00m\u001b[38;5;124m parameter of \u001b[39m\u001b[38;5;132;01m{\u001b[39;00mfunc\u001b[38;5;241m.\u001b[39m\u001b[38;5;18m__name__\u001b[39m\u001b[38;5;132;01m}\u001b[39;00m\u001b[38;5;124m() \u001b[39m\u001b[38;5;124m\"\u001b[39m\n\u001b[1;32m    294\u001b[0m         \u001b[38;5;124mf\u001b[39m\u001b[38;5;124m\"\u001b[39m\u001b[38;5;124mhas been renamed \u001b[39m\u001b[38;5;132;01m{\u001b[39;00mnew\u001b[38;5;132;01m!r}\u001b[39;00m\u001b[38;5;124m since Matplotlib \u001b[39m\u001b[38;5;132;01m{\u001b[39;00msince\u001b[38;5;132;01m}\u001b[39;00m\u001b[38;5;124m; support \u001b[39m\u001b[38;5;124m\"\u001b[39m\n\u001b[1;32m    295\u001b[0m         \u001b[38;5;124mf\u001b[39m\u001b[38;5;124m\"\u001b[39m\u001b[38;5;124mfor the old name will be dropped %(removal)s.\u001b[39m\u001b[38;5;124m\"\u001b[39m)\n\u001b[1;32m    296\u001b[0m     kwargs[new] \u001b[38;5;241m=\u001b[39m kwargs\u001b[38;5;241m.\u001b[39mpop(old)\n\u001b[0;32m--> 297\u001b[0m \u001b[38;5;28;01mreturn\u001b[39;00m \u001b[43mfunc\u001b[49m\u001b[43m(\u001b[49m\u001b[38;5;241;43m*\u001b[39;49m\u001b[43margs\u001b[49m\u001b[43m,\u001b[49m\u001b[43m \u001b[49m\u001b[38;5;241;43m*\u001b[39;49m\u001b[38;5;241;43m*\u001b[39;49m\u001b[43mkwargs\u001b[49m\u001b[43m)\u001b[49m\n",
      "File \u001b[0;32m~/miniconda3/envs/tensorflow_test/lib/python3.10/site-packages/matplotlib/axis.py:1969\u001b[0m, in \u001b[0;36mAxis.set_ticklabels\u001b[0;34m(self, labels, minor, fontdict, **kwargs)\u001b[0m\n\u001b[1;32m   1965\u001b[0m \u001b[38;5;28;01mif\u001b[39;00m \u001b[38;5;28misinstance\u001b[39m(locator, mticker\u001b[38;5;241m.\u001b[39mFixedLocator):\n\u001b[1;32m   1966\u001b[0m     \u001b[38;5;66;03m# Passing [] as a list of labels is often used as a way to\u001b[39;00m\n\u001b[1;32m   1967\u001b[0m     \u001b[38;5;66;03m# remove all tick labels, so only error for > 0 labels\u001b[39;00m\n\u001b[1;32m   1968\u001b[0m     \u001b[38;5;28;01mif\u001b[39;00m \u001b[38;5;28mlen\u001b[39m(locator\u001b[38;5;241m.\u001b[39mlocs) \u001b[38;5;241m!=\u001b[39m \u001b[38;5;28mlen\u001b[39m(labels) \u001b[38;5;129;01mand\u001b[39;00m \u001b[38;5;28mlen\u001b[39m(labels) \u001b[38;5;241m!=\u001b[39m \u001b[38;5;241m0\u001b[39m:\n\u001b[0;32m-> 1969\u001b[0m         \u001b[38;5;28;01mraise\u001b[39;00m \u001b[38;5;167;01mValueError\u001b[39;00m(\n\u001b[1;32m   1970\u001b[0m             \u001b[38;5;124m\"\u001b[39m\u001b[38;5;124mThe number of FixedLocator locations\u001b[39m\u001b[38;5;124m\"\u001b[39m\n\u001b[1;32m   1971\u001b[0m             \u001b[38;5;124mf\u001b[39m\u001b[38;5;124m\"\u001b[39m\u001b[38;5;124m (\u001b[39m\u001b[38;5;132;01m{\u001b[39;00m\u001b[38;5;28mlen\u001b[39m(locator\u001b[38;5;241m.\u001b[39mlocs)\u001b[38;5;132;01m}\u001b[39;00m\u001b[38;5;124m), usually from a call to\u001b[39m\u001b[38;5;124m\"\u001b[39m\n\u001b[1;32m   1972\u001b[0m             \u001b[38;5;124m\"\u001b[39m\u001b[38;5;124m set_ticks, does not match\u001b[39m\u001b[38;5;124m\"\u001b[39m\n\u001b[1;32m   1973\u001b[0m             \u001b[38;5;124mf\u001b[39m\u001b[38;5;124m\"\u001b[39m\u001b[38;5;124m the number of labels (\u001b[39m\u001b[38;5;132;01m{\u001b[39;00m\u001b[38;5;28mlen\u001b[39m(labels)\u001b[38;5;132;01m}\u001b[39;00m\u001b[38;5;124m).\u001b[39m\u001b[38;5;124m\"\u001b[39m)\n\u001b[1;32m   1974\u001b[0m     tickd \u001b[38;5;241m=\u001b[39m {loc: lab \u001b[38;5;28;01mfor\u001b[39;00m loc, lab \u001b[38;5;129;01min\u001b[39;00m \u001b[38;5;28mzip\u001b[39m(locator\u001b[38;5;241m.\u001b[39mlocs, labels)}\n\u001b[1;32m   1975\u001b[0m     func \u001b[38;5;241m=\u001b[39m functools\u001b[38;5;241m.\u001b[39mpartial(\u001b[38;5;28mself\u001b[39m\u001b[38;5;241m.\u001b[39m_format_with_dict, tickd)\n",
      "\u001b[0;31mValueError\u001b[0m: The number of FixedLocator locations (2), usually from a call to set_ticks, does not match the number of labels (3)."
     ]
    },
    {
     "data": {
      "image/png": "[encoded data removed]",
      "text/plain": [
       "<Figure size 640x480 with 2 Axes>"
      ]
     },
     "metadata": {},
     "output_type": "display_data"
    }
   ],
   "source": [
    "plot_cm(y_test, gs)"
   ]
  },
  {
   "cell_type": "code",
   "execution_count": 135,
   "metadata": {},
   "outputs": [
    {
     "data": {
      "text/html": [
       "<style>#sk-container-id-7 {color: black;background-color: white;}#sk-container-id-7 pre{padding: 0;}#sk-container-id-7 div.sk-toggleable {background-color: white;}#sk-container-id-7 label.sk-toggleable__label {cursor: pointer;display: block;width: 100%;margin-bottom: 0;padding: 0.3em;box-sizing: border-box;text-align: center;}#sk-container-id-7 label.sk-toggleable__label-arrow:before {content: \"▸\";float: left;margin-right: 0.25em;color: #696969;}#sk-container-id-7 label.sk-toggleable__label-arrow:hover:before {color: black;}#sk-container-id-7 div.sk-estimator:hover label.sk-toggleable__label-arrow:before {color: black;}#sk-container-id-7 div.sk-toggleable__content {max-height: 0;max-width: 0;overflow: hidden;text-align: left;background-color: #f0f8ff;}#sk-container-id-7 div.sk-toggleable__content pre {margin: 0.2em;color: black;border-radius: 0.25em;background-color: #f0f8ff;}#sk-container-id-7 input.sk-toggleable__control:checked~div.sk-toggleable__content {max-height: 200px;max-width: 100%;overflow: auto;}#sk-container-id-7 input.sk-toggleable__control:checked~label.sk-toggleable__label-arrow:before {content: \"▾\";}#sk-container-id-7 div.sk-estimator input.sk-toggleable__control:checked~label.sk-toggleable__label {background-color: #d4ebff;}#sk-container-id-7 div.sk-label input.sk-toggleable__control:checked~label.sk-toggleable__label {background-color: #d4ebff;}#sk-container-id-7 input.sk-hidden--visually {border: 0;clip: rect(1px 1px 1px 1px);clip: rect(1px, 1px, 1px, 1px);height: 1px;margin: -1px;overflow: hidden;padding: 0;position: absolute;width: 1px;}#sk-container-id-7 div.sk-estimator {font-family: monospace;background-color: #f0f8ff;border: 1px dotted black;border-radius: 0.25em;box-sizing: border-box;margin-bottom: 0.5em;}#sk-container-id-7 div.sk-estimator:hover {background-color: #d4ebff;}#sk-container-id-7 div.sk-parallel-item::after {content: \"\";width: 100%;border-bottom: 1px solid gray;flex-grow: 1;}#sk-container-id-7 div.sk-label:hover label.sk-toggleable__label {background-color: #d4ebff;}#sk-container-id-7 div.sk-serial::before {content: \"\";position: absolute;border-left: 1px solid gray;box-sizing: border-box;top: 0;bottom: 0;left: 50%;z-index: 0;}#sk-container-id-7 div.sk-serial {display: flex;flex-direction: column;align-items: center;background-color: white;padding-right: 0.2em;padding-left: 0.2em;position: relative;}#sk-container-id-7 div.sk-item {position: relative;z-index: 1;}#sk-container-id-7 div.sk-parallel {display: flex;align-items: stretch;justify-content: center;background-color: white;position: relative;}#sk-container-id-7 div.sk-item::before, #sk-container-id-7 div.sk-parallel-item::before {content: \"\";position: absolute;border-left: 1px solid gray;box-sizing: border-box;top: 0;bottom: 0;left: 50%;z-index: -1;}#sk-container-id-7 div.sk-parallel-item {display: flex;flex-direction: column;z-index: 1;position: relative;background-color: white;}#sk-container-id-7 div.sk-parallel-item:first-child::after {align-self: flex-end;width: 50%;}#sk-container-id-7 div.sk-parallel-item:last-child::after {align-self: flex-start;width: 50%;}#sk-container-id-7 div.sk-parallel-item:only-child::after {width: 0;}#sk-container-id-7 div.sk-dashed-wrapped {border: 1px dashed gray;margin: 0 0.4em 0.5em 0.4em;box-sizing: border-box;padding-bottom: 0.4em;background-color: white;}#sk-container-id-7 div.sk-label label {font-family: monospace;font-weight: bold;display: inline-block;line-height: 1.2em;}#sk-container-id-7 div.sk-label-container {text-align: center;}#sk-container-id-7 div.sk-container {/* jupyter's `normalize.less` sets `[hidden] { display: none; }` but bootstrap.min.css set `[hidden] { display: none !important; }` so we also need the `!important` here to be able to override the default hidden behavior on the sphinx rendered scikit-learn.org. See: https://github.com/scikit-learn/scikit-learn/issues/21755 */display: inline-block !important;position: relative;}#sk-container-id-7 div.sk-text-repr-fallback {display: none;}</style><div id=\"sk-container-id-7\" class=\"sk-top-container\"><div class=\"sk-text-repr-fallback\"><pre>GridSearchCV(estimator=Pipeline(steps=[(&#x27;tfidf&#x27;, TfidfVectorizer()),\n",
       "                                       (&#x27;mnb&#x27;, MultinomialNB())]),\n",
       "             param_grid={&#x27;tfidf__max_df&#x27;: [0.95, 1.0],\n",
       "                         &#x27;tfidf__max_features&#x27;: [None, 1],\n",
       "                         &#x27;tfidf__min_df&#x27;: [0.0, 0.05],\n",
       "                         &#x27;tfidf__ngram_range&#x27;: [(2, 2), (1, 2)],\n",
       "                         &#x27;tfidf__norm&#x27;: [&#x27;l1&#x27;, &#x27;l2&#x27;, None]})</pre><b>In a Jupyter environment, please rerun this cell to show the HTML representation or trust the notebook. <br />On GitHub, the HTML representation is unable to render, please try loading this page with nbviewer.org.</b></div><div class=\"sk-container\" hidden><div class=\"sk-item sk-dashed-wrapped\"><div class=\"sk-label-container\"><div class=\"sk-label sk-toggleable\"><input class=\"sk-toggleable__control sk-hidden--visually\" id=\"sk-estimator-id-22\" type=\"checkbox\" ><label for=\"sk-estimator-id-22\" class=\"sk-toggleable__label sk-toggleable__label-arrow\">GridSearchCV</label><div class=\"sk-toggleable__content\"><pre>GridSearchCV(estimator=Pipeline(steps=[(&#x27;tfidf&#x27;, TfidfVectorizer()),\n",
       "                                       (&#x27;mnb&#x27;, MultinomialNB())]),\n",
       "             param_grid={&#x27;tfidf__max_df&#x27;: [0.95, 1.0],\n",
       "                         &#x27;tfidf__max_features&#x27;: [None, 1],\n",
       "                         &#x27;tfidf__min_df&#x27;: [0.0, 0.05],\n",
       "                         &#x27;tfidf__ngram_range&#x27;: [(2, 2), (1, 2)],\n",
       "                         &#x27;tfidf__norm&#x27;: [&#x27;l1&#x27;, &#x27;l2&#x27;, None]})</pre></div></div></div><div class=\"sk-parallel\"><div class=\"sk-parallel-item\"><div class=\"sk-item\"><div class=\"sk-label-container\"><div class=\"sk-label sk-toggleable\"><input class=\"sk-toggleable__control sk-hidden--visually\" id=\"sk-estimator-id-23\" type=\"checkbox\" ><label for=\"sk-estimator-id-23\" class=\"sk-toggleable__label sk-toggleable__label-arrow\">estimator: Pipeline</label><div class=\"sk-toggleable__content\"><pre>Pipeline(steps=[(&#x27;tfidf&#x27;, TfidfVectorizer()), (&#x27;mnb&#x27;, MultinomialNB())])</pre></div></div></div><div class=\"sk-serial\"><div class=\"sk-item\"><div class=\"sk-serial\"><div class=\"sk-item\"><div class=\"sk-estimator sk-toggleable\"><input class=\"sk-toggleable__control sk-hidden--visually\" id=\"sk-estimator-id-24\" type=\"checkbox\" ><label for=\"sk-estimator-id-24\" class=\"sk-toggleable__label sk-toggleable__label-arrow\">TfidfVectorizer</label><div class=\"sk-toggleable__content\"><pre>TfidfVectorizer()</pre></div></div></div><div class=\"sk-item\"><div class=\"sk-estimator sk-toggleable\"><input class=\"sk-toggleable__control sk-hidden--visually\" id=\"sk-estimator-id-25\" type=\"checkbox\" ><label for=\"sk-estimator-id-25\" class=\"sk-toggleable__label sk-toggleable__label-arrow\">MultinomialNB</label><div class=\"sk-toggleable__content\"><pre>MultinomialNB()</pre></div></div></div></div></div></div></div></div></div></div></div></div>"
      ],
      "text/plain": [
       "GridSearchCV(estimator=Pipeline(steps=[('tfidf', TfidfVectorizer()),\n",
       "                                       ('mnb', MultinomialNB())]),\n",
       "             param_grid={'tfidf__max_df': [0.95, 1.0],\n",
       "                         'tfidf__max_features': [None, 1],\n",
       "                         'tfidf__min_df': [0.0, 0.05],\n",
       "                         'tfidf__ngram_range': [(2, 2), (1, 2)],\n",
       "                         'tfidf__norm': ['l1', 'l2', None]})"
      ]
     },
     "execution_count": 135,
     "metadata": {},
     "output_type": "execute_result"
    }
   ],
   "source": [
    "gs2 = GridSearchCV(pipe, param_grid= {\n",
    "    'tfidf__max_df': [0.95, 1.0], # default 1.0 was best\n",
    "    'tfidf__min_df': [0.0, 0.05], # default 1, 0 was best\n",
    "    'tfidf__ngram_range': [(2, 2), (1, 2)], # default (1,1)\n",
    "    'tfidf__max_features': [None, 1], # default (None) was best\n",
    "    'tfidf__norm': ['l1', 'l2', None] # best was None\n",
    "})\n",
    "gs2.fit(X_train, y_train)"
   ]
  },
  {
   "cell_type": "code",
   "execution_count": 136,
   "metadata": {},
   "outputs": [
    {
     "name": "stdout",
     "output_type": "stream",
     "text": [
      "Best Params: {'tfidf__max_df': 0.95, 'tfidf__max_features': None, 'tfidf__min_df': 0.05, 'tfidf__ngram_range': (2, 2), 'tfidf__norm': None}\n",
      "Best CV Accuracy: 0.8529411764705882\n",
      "Train Accuracy: 0.9887640449438202\n"
     ]
    }
   ],
   "source": [
    "evaluate_grid(gs2)"
   ]
  },
  {
   "cell_type": "code",
   "execution_count": null,
   "metadata": {},
   "outputs": [],
   "source": []
  },
  {
   "cell_type": "code",
   "execution_count": 137,
   "metadata": {},
   "outputs": [
    {
     "ename": "ValueError",
     "evalue": "The number of FixedLocator locations (2), usually from a call to set_ticks, does not match the number of labels (3).",
     "output_type": "error",
     "traceback": [
      "\u001b[0;31m---------------------------------------------------------------------------\u001b[0m",
      "\u001b[0;31mValueError\u001b[0m                                Traceback (most recent call last)",
      "Cell \u001b[0;32mIn[137], line 1\u001b[0m\n\u001b[0;32m----> 1\u001b[0m \u001b[43mplot_cm\u001b[49m\u001b[43m(\u001b[49m\u001b[43my_test\u001b[49m\u001b[43m,\u001b[49m\u001b[43m \u001b[49m\u001b[43mgs2\u001b[49m\u001b[43m)\u001b[49m\n",
      "Cell \u001b[0;32mIn[130], line 8\u001b[0m, in \u001b[0;36mplot_cm\u001b[0;34m(y_test, gs)\u001b[0m\n\u001b[1;32m      6\u001b[0m cm \u001b[38;5;241m=\u001b[39m confusion_matrix(y_test, y_pred)\n\u001b[1;32m      7\u001b[0m disp \u001b[38;5;241m=\u001b[39m ConfusionMatrixDisplay(confusion_matrix\u001b[38;5;241m=\u001b[39mcm, display_labels\u001b[38;5;241m=\u001b[39m[\u001b[38;5;124m'\u001b[39m\u001b[38;5;124mdem\u001b[39m\u001b[38;5;124m'\u001b[39m, \u001b[38;5;124m'\u001b[39m\u001b[38;5;124mind\u001b[39m\u001b[38;5;124m'\u001b[39m, \u001b[38;5;124m'\u001b[39m\u001b[38;5;124mrep\u001b[39m\u001b[38;5;124m'\u001b[39m])\n\u001b[0;32m----> 8\u001b[0m \u001b[43mdisp\u001b[49m\u001b[38;5;241;43m.\u001b[39;49m\u001b[43mplot\u001b[49m\u001b[43m(\u001b[49m\u001b[43m)\u001b[49m\n",
      "File \u001b[0;32m~/miniconda3/envs/tensorflow_test/lib/python3.10/site-packages/sklearn/metrics/_plot/confusion_matrix.py:181\u001b[0m, in \u001b[0;36mConfusionMatrixDisplay.plot\u001b[0;34m(self, include_values, cmap, xticks_rotation, values_format, ax, colorbar, im_kw, text_kw)\u001b[0m\n\u001b[1;32m    179\u001b[0m \u001b[38;5;28;01mif\u001b[39;00m colorbar:\n\u001b[1;32m    180\u001b[0m     fig\u001b[38;5;241m.\u001b[39mcolorbar(\u001b[38;5;28mself\u001b[39m\u001b[38;5;241m.\u001b[39mim_, ax\u001b[38;5;241m=\u001b[39max)\n\u001b[0;32m--> 181\u001b[0m \u001b[43max\u001b[49m\u001b[38;5;241;43m.\u001b[39;49m\u001b[43mset\u001b[49m\u001b[43m(\u001b[49m\n\u001b[1;32m    182\u001b[0m \u001b[43m    \u001b[49m\u001b[43mxticks\u001b[49m\u001b[38;5;241;43m=\u001b[39;49m\u001b[43mnp\u001b[49m\u001b[38;5;241;43m.\u001b[39;49m\u001b[43marange\u001b[49m\u001b[43m(\u001b[49m\u001b[43mn_classes\u001b[49m\u001b[43m)\u001b[49m\u001b[43m,\u001b[49m\n\u001b[1;32m    183\u001b[0m \u001b[43m    \u001b[49m\u001b[43myticks\u001b[49m\u001b[38;5;241;43m=\u001b[39;49m\u001b[43mnp\u001b[49m\u001b[38;5;241;43m.\u001b[39;49m\u001b[43marange\u001b[49m\u001b[43m(\u001b[49m\u001b[43mn_classes\u001b[49m\u001b[43m)\u001b[49m\u001b[43m,\u001b[49m\n\u001b[1;32m    184\u001b[0m \u001b[43m    \u001b[49m\u001b[43mxticklabels\u001b[49m\u001b[38;5;241;43m=\u001b[39;49m\u001b[43mdisplay_labels\u001b[49m\u001b[43m,\u001b[49m\n\u001b[1;32m    185\u001b[0m \u001b[43m    \u001b[49m\u001b[43myticklabels\u001b[49m\u001b[38;5;241;43m=\u001b[39;49m\u001b[43mdisplay_labels\u001b[49m\u001b[43m,\u001b[49m\n\u001b[1;32m    186\u001b[0m \u001b[43m    \u001b[49m\u001b[43mylabel\u001b[49m\u001b[38;5;241;43m=\u001b[39;49m\u001b[38;5;124;43m\"\u001b[39;49m\u001b[38;5;124;43mTrue label\u001b[39;49m\u001b[38;5;124;43m\"\u001b[39;49m\u001b[43m,\u001b[49m\n\u001b[1;32m    187\u001b[0m \u001b[43m    \u001b[49m\u001b[43mxlabel\u001b[49m\u001b[38;5;241;43m=\u001b[39;49m\u001b[38;5;124;43m\"\u001b[39;49m\u001b[38;5;124;43mPredicted label\u001b[39;49m\u001b[38;5;124;43m\"\u001b[39;49m\u001b[43m,\u001b[49m\n\u001b[1;32m    188\u001b[0m \u001b[43m\u001b[49m\u001b[43m)\u001b[49m\n\u001b[1;32m    190\u001b[0m ax\u001b[38;5;241m.\u001b[39mset_ylim((n_classes \u001b[38;5;241m-\u001b[39m \u001b[38;5;241m0.5\u001b[39m, \u001b[38;5;241m-\u001b[39m\u001b[38;5;241m0.5\u001b[39m))\n\u001b[1;32m    191\u001b[0m plt\u001b[38;5;241m.\u001b[39msetp(ax\u001b[38;5;241m.\u001b[39mget_xticklabels(), rotation\u001b[38;5;241m=\u001b[39mxticks_rotation)\n",
      "File \u001b[0;32m~/miniconda3/envs/tensorflow_test/lib/python3.10/site-packages/matplotlib/artist.py:147\u001b[0m, in \u001b[0;36mArtist.__init_subclass__.<locals>.<lambda>\u001b[0;34m(self, **kwargs)\u001b[0m\n\u001b[1;32m    139\u001b[0m \u001b[38;5;28;01mif\u001b[39;00m \u001b[38;5;129;01mnot\u001b[39;00m \u001b[38;5;28mhasattr\u001b[39m(\u001b[38;5;28mcls\u001b[39m\u001b[38;5;241m.\u001b[39mset, \u001b[38;5;124m'\u001b[39m\u001b[38;5;124m_autogenerated_signature\u001b[39m\u001b[38;5;124m'\u001b[39m):\n\u001b[1;32m    140\u001b[0m     \u001b[38;5;66;03m# Don't overwrite cls.set if the subclass or one of its parents\u001b[39;00m\n\u001b[1;32m    141\u001b[0m     \u001b[38;5;66;03m# has defined a set method set itself.\u001b[39;00m\n\u001b[1;32m    142\u001b[0m     \u001b[38;5;66;03m# If there was no explicit definition, cls.set is inherited from\u001b[39;00m\n\u001b[1;32m    143\u001b[0m     \u001b[38;5;66;03m# the hierarchy of auto-generated set methods, which hold the\u001b[39;00m\n\u001b[1;32m    144\u001b[0m     \u001b[38;5;66;03m# flag _autogenerated_signature.\u001b[39;00m\n\u001b[1;32m    145\u001b[0m     \u001b[38;5;28;01mreturn\u001b[39;00m\n\u001b[0;32m--> 147\u001b[0m \u001b[38;5;28mcls\u001b[39m\u001b[38;5;241m.\u001b[39mset \u001b[38;5;241m=\u001b[39m \u001b[38;5;28;01mlambda\u001b[39;00m \u001b[38;5;28mself\u001b[39m, \u001b[38;5;241m*\u001b[39m\u001b[38;5;241m*\u001b[39mkwargs: \u001b[43mArtist\u001b[49m\u001b[38;5;241;43m.\u001b[39;49m\u001b[43mset\u001b[49m\u001b[43m(\u001b[49m\u001b[38;5;28;43mself\u001b[39;49m\u001b[43m,\u001b[49m\u001b[43m \u001b[49m\u001b[38;5;241;43m*\u001b[39;49m\u001b[38;5;241;43m*\u001b[39;49m\u001b[43mkwargs\u001b[49m\u001b[43m)\u001b[49m\n\u001b[1;32m    148\u001b[0m \u001b[38;5;28mcls\u001b[39m\u001b[38;5;241m.\u001b[39mset\u001b[38;5;241m.\u001b[39m\u001b[38;5;18m__name__\u001b[39m \u001b[38;5;241m=\u001b[39m \u001b[38;5;124m\"\u001b[39m\u001b[38;5;124mset\u001b[39m\u001b[38;5;124m\"\u001b[39m\n\u001b[1;32m    149\u001b[0m \u001b[38;5;28mcls\u001b[39m\u001b[38;5;241m.\u001b[39mset\u001b[38;5;241m.\u001b[39m\u001b[38;5;18m__qualname__\u001b[39m \u001b[38;5;241m=\u001b[39m \u001b[38;5;124mf\u001b[39m\u001b[38;5;124m\"\u001b[39m\u001b[38;5;132;01m{\u001b[39;00m\u001b[38;5;28mcls\u001b[39m\u001b[38;5;241m.\u001b[39m\u001b[38;5;18m__qualname__\u001b[39m\u001b[38;5;132;01m}\u001b[39;00m\u001b[38;5;124m.set\u001b[39m\u001b[38;5;124m\"\u001b[39m\n",
      "File \u001b[0;32m~/miniconda3/envs/tensorflow_test/lib/python3.10/site-packages/matplotlib/artist.py:1231\u001b[0m, in \u001b[0;36mArtist.set\u001b[0;34m(self, **kwargs)\u001b[0m\n\u001b[1;32m   1227\u001b[0m \u001b[38;5;28;01mdef\u001b[39;00m \u001b[38;5;21mset\u001b[39m(\u001b[38;5;28mself\u001b[39m, \u001b[38;5;241m*\u001b[39m\u001b[38;5;241m*\u001b[39mkwargs):\n\u001b[1;32m   1228\u001b[0m     \u001b[38;5;66;03m# docstring and signature are auto-generated via\u001b[39;00m\n\u001b[1;32m   1229\u001b[0m     \u001b[38;5;66;03m# Artist._update_set_signature_and_docstring() at the end of the\u001b[39;00m\n\u001b[1;32m   1230\u001b[0m     \u001b[38;5;66;03m# module.\u001b[39;00m\n\u001b[0;32m-> 1231\u001b[0m     \u001b[38;5;28;01mreturn\u001b[39;00m \u001b[38;5;28;43mself\u001b[39;49m\u001b[38;5;241;43m.\u001b[39;49m\u001b[43m_internal_update\u001b[49m\u001b[43m(\u001b[49m\u001b[43mcbook\u001b[49m\u001b[38;5;241;43m.\u001b[39;49m\u001b[43mnormalize_kwargs\u001b[49m\u001b[43m(\u001b[49m\u001b[43mkwargs\u001b[49m\u001b[43m,\u001b[49m\u001b[43m \u001b[49m\u001b[38;5;28;43mself\u001b[39;49m\u001b[43m)\u001b[49m\u001b[43m)\u001b[49m\n",
      "File \u001b[0;32m~/miniconda3/envs/tensorflow_test/lib/python3.10/site-packages/matplotlib/artist.py:1223\u001b[0m, in \u001b[0;36mArtist._internal_update\u001b[0;34m(self, kwargs)\u001b[0m\n\u001b[1;32m   1216\u001b[0m \u001b[38;5;28;01mdef\u001b[39;00m \u001b[38;5;21m_internal_update\u001b[39m(\u001b[38;5;28mself\u001b[39m, kwargs):\n\u001b[1;32m   1217\u001b[0m \u001b[38;5;250m    \u001b[39m\u001b[38;5;124;03m\"\"\"\u001b[39;00m\n\u001b[1;32m   1218\u001b[0m \u001b[38;5;124;03m    Update artist properties without prenormalizing them, but generating\u001b[39;00m\n\u001b[1;32m   1219\u001b[0m \u001b[38;5;124;03m    errors as if calling `set`.\u001b[39;00m\n\u001b[1;32m   1220\u001b[0m \n\u001b[1;32m   1221\u001b[0m \u001b[38;5;124;03m    The lack of prenormalization is to maintain backcompatibility.\u001b[39;00m\n\u001b[1;32m   1222\u001b[0m \u001b[38;5;124;03m    \"\"\"\u001b[39;00m\n\u001b[0;32m-> 1223\u001b[0m     \u001b[38;5;28;01mreturn\u001b[39;00m \u001b[38;5;28;43mself\u001b[39;49m\u001b[38;5;241;43m.\u001b[39;49m\u001b[43m_update_props\u001b[49m\u001b[43m(\u001b[49m\n\u001b[1;32m   1224\u001b[0m \u001b[43m        \u001b[49m\u001b[43mkwargs\u001b[49m\u001b[43m,\u001b[49m\u001b[43m \u001b[49m\u001b[38;5;124;43m\"\u001b[39;49m\u001b[38;5;132;43;01m{cls.__name__}\u001b[39;49;00m\u001b[38;5;124;43m.set() got an unexpected keyword argument \u001b[39;49m\u001b[38;5;124;43m\"\u001b[39;49m\n\u001b[1;32m   1225\u001b[0m \u001b[43m        \u001b[49m\u001b[38;5;124;43m\"\u001b[39;49m\u001b[38;5;132;43;01m{prop_name!r}\u001b[39;49;00m\u001b[38;5;124;43m\"\u001b[39;49m\u001b[43m)\u001b[49m\n",
      "File \u001b[0;32m~/miniconda3/envs/tensorflow_test/lib/python3.10/site-packages/matplotlib/artist.py:1199\u001b[0m, in \u001b[0;36mArtist._update_props\u001b[0;34m(self, props, errfmt)\u001b[0m\n\u001b[1;32m   1196\u001b[0m             \u001b[38;5;28;01mif\u001b[39;00m \u001b[38;5;129;01mnot\u001b[39;00m \u001b[38;5;28mcallable\u001b[39m(func):\n\u001b[1;32m   1197\u001b[0m                 \u001b[38;5;28;01mraise\u001b[39;00m \u001b[38;5;167;01mAttributeError\u001b[39;00m(\n\u001b[1;32m   1198\u001b[0m                     errfmt\u001b[38;5;241m.\u001b[39mformat(\u001b[38;5;28mcls\u001b[39m\u001b[38;5;241m=\u001b[39m\u001b[38;5;28mtype\u001b[39m(\u001b[38;5;28mself\u001b[39m), prop_name\u001b[38;5;241m=\u001b[39mk))\n\u001b[0;32m-> 1199\u001b[0m             ret\u001b[38;5;241m.\u001b[39mappend(\u001b[43mfunc\u001b[49m\u001b[43m(\u001b[49m\u001b[43mv\u001b[49m\u001b[43m)\u001b[49m)\n\u001b[1;32m   1200\u001b[0m \u001b[38;5;28;01mif\u001b[39;00m ret:\n\u001b[1;32m   1201\u001b[0m     \u001b[38;5;28mself\u001b[39m\u001b[38;5;241m.\u001b[39mpchanged()\n",
      "File \u001b[0;32m~/miniconda3/envs/tensorflow_test/lib/python3.10/site-packages/matplotlib/axes/_base.py:74\u001b[0m, in \u001b[0;36m_axis_method_wrapper.__set_name__.<locals>.wrapper\u001b[0;34m(self, *args, **kwargs)\u001b[0m\n\u001b[1;32m     73\u001b[0m \u001b[38;5;28;01mdef\u001b[39;00m \u001b[38;5;21mwrapper\u001b[39m(\u001b[38;5;28mself\u001b[39m, \u001b[38;5;241m*\u001b[39margs, \u001b[38;5;241m*\u001b[39m\u001b[38;5;241m*\u001b[39mkwargs):\n\u001b[0;32m---> 74\u001b[0m     \u001b[38;5;28;01mreturn\u001b[39;00m \u001b[43mget_method\u001b[49m\u001b[43m(\u001b[49m\u001b[38;5;28;43mself\u001b[39;49m\u001b[43m)\u001b[49m\u001b[43m(\u001b[49m\u001b[38;5;241;43m*\u001b[39;49m\u001b[43margs\u001b[49m\u001b[43m,\u001b[49m\u001b[43m \u001b[49m\u001b[38;5;241;43m*\u001b[39;49m\u001b[38;5;241;43m*\u001b[39;49m\u001b[43mkwargs\u001b[49m\u001b[43m)\u001b[49m\n",
      "File \u001b[0;32m~/miniconda3/envs/tensorflow_test/lib/python3.10/site-packages/matplotlib/_api/deprecation.py:297\u001b[0m, in \u001b[0;36mrename_parameter.<locals>.wrapper\u001b[0;34m(*args, **kwargs)\u001b[0m\n\u001b[1;32m    292\u001b[0m     warn_deprecated(\n\u001b[1;32m    293\u001b[0m         since, message\u001b[38;5;241m=\u001b[39m\u001b[38;5;124mf\u001b[39m\u001b[38;5;124m\"\u001b[39m\u001b[38;5;124mThe \u001b[39m\u001b[38;5;132;01m{\u001b[39;00mold\u001b[38;5;132;01m!r}\u001b[39;00m\u001b[38;5;124m parameter of \u001b[39m\u001b[38;5;132;01m{\u001b[39;00mfunc\u001b[38;5;241m.\u001b[39m\u001b[38;5;18m__name__\u001b[39m\u001b[38;5;132;01m}\u001b[39;00m\u001b[38;5;124m() \u001b[39m\u001b[38;5;124m\"\u001b[39m\n\u001b[1;32m    294\u001b[0m         \u001b[38;5;124mf\u001b[39m\u001b[38;5;124m\"\u001b[39m\u001b[38;5;124mhas been renamed \u001b[39m\u001b[38;5;132;01m{\u001b[39;00mnew\u001b[38;5;132;01m!r}\u001b[39;00m\u001b[38;5;124m since Matplotlib \u001b[39m\u001b[38;5;132;01m{\u001b[39;00msince\u001b[38;5;132;01m}\u001b[39;00m\u001b[38;5;124m; support \u001b[39m\u001b[38;5;124m\"\u001b[39m\n\u001b[1;32m    295\u001b[0m         \u001b[38;5;124mf\u001b[39m\u001b[38;5;124m\"\u001b[39m\u001b[38;5;124mfor the old name will be dropped %(removal)s.\u001b[39m\u001b[38;5;124m\"\u001b[39m)\n\u001b[1;32m    296\u001b[0m     kwargs[new] \u001b[38;5;241m=\u001b[39m kwargs\u001b[38;5;241m.\u001b[39mpop(old)\n\u001b[0;32m--> 297\u001b[0m \u001b[38;5;28;01mreturn\u001b[39;00m \u001b[43mfunc\u001b[49m\u001b[43m(\u001b[49m\u001b[38;5;241;43m*\u001b[39;49m\u001b[43margs\u001b[49m\u001b[43m,\u001b[49m\u001b[43m \u001b[49m\u001b[38;5;241;43m*\u001b[39;49m\u001b[38;5;241;43m*\u001b[39;49m\u001b[43mkwargs\u001b[49m\u001b[43m)\u001b[49m\n",
      "File \u001b[0;32m~/miniconda3/envs/tensorflow_test/lib/python3.10/site-packages/matplotlib/axis.py:1969\u001b[0m, in \u001b[0;36mAxis.set_ticklabels\u001b[0;34m(self, labels, minor, fontdict, **kwargs)\u001b[0m\n\u001b[1;32m   1965\u001b[0m \u001b[38;5;28;01mif\u001b[39;00m \u001b[38;5;28misinstance\u001b[39m(locator, mticker\u001b[38;5;241m.\u001b[39mFixedLocator):\n\u001b[1;32m   1966\u001b[0m     \u001b[38;5;66;03m# Passing [] as a list of labels is often used as a way to\u001b[39;00m\n\u001b[1;32m   1967\u001b[0m     \u001b[38;5;66;03m# remove all tick labels, so only error for > 0 labels\u001b[39;00m\n\u001b[1;32m   1968\u001b[0m     \u001b[38;5;28;01mif\u001b[39;00m \u001b[38;5;28mlen\u001b[39m(locator\u001b[38;5;241m.\u001b[39mlocs) \u001b[38;5;241m!=\u001b[39m \u001b[38;5;28mlen\u001b[39m(labels) \u001b[38;5;129;01mand\u001b[39;00m \u001b[38;5;28mlen\u001b[39m(labels) \u001b[38;5;241m!=\u001b[39m \u001b[38;5;241m0\u001b[39m:\n\u001b[0;32m-> 1969\u001b[0m         \u001b[38;5;28;01mraise\u001b[39;00m \u001b[38;5;167;01mValueError\u001b[39;00m(\n\u001b[1;32m   1970\u001b[0m             \u001b[38;5;124m\"\u001b[39m\u001b[38;5;124mThe number of FixedLocator locations\u001b[39m\u001b[38;5;124m\"\u001b[39m\n\u001b[1;32m   1971\u001b[0m             \u001b[38;5;124mf\u001b[39m\u001b[38;5;124m\"\u001b[39m\u001b[38;5;124m (\u001b[39m\u001b[38;5;132;01m{\u001b[39;00m\u001b[38;5;28mlen\u001b[39m(locator\u001b[38;5;241m.\u001b[39mlocs)\u001b[38;5;132;01m}\u001b[39;00m\u001b[38;5;124m), usually from a call to\u001b[39m\u001b[38;5;124m\"\u001b[39m\n\u001b[1;32m   1972\u001b[0m             \u001b[38;5;124m\"\u001b[39m\u001b[38;5;124m set_ticks, does not match\u001b[39m\u001b[38;5;124m\"\u001b[39m\n\u001b[1;32m   1973\u001b[0m             \u001b[38;5;124mf\u001b[39m\u001b[38;5;124m\"\u001b[39m\u001b[38;5;124m the number of labels (\u001b[39m\u001b[38;5;132;01m{\u001b[39;00m\u001b[38;5;28mlen\u001b[39m(labels)\u001b[38;5;132;01m}\u001b[39;00m\u001b[38;5;124m).\u001b[39m\u001b[38;5;124m\"\u001b[39m)\n\u001b[1;32m   1974\u001b[0m     tickd \u001b[38;5;241m=\u001b[39m {loc: lab \u001b[38;5;28;01mfor\u001b[39;00m loc, lab \u001b[38;5;129;01min\u001b[39;00m \u001b[38;5;28mzip\u001b[39m(locator\u001b[38;5;241m.\u001b[39mlocs, labels)}\n\u001b[1;32m   1975\u001b[0m     func \u001b[38;5;241m=\u001b[39m functools\u001b[38;5;241m.\u001b[39mpartial(\u001b[38;5;28mself\u001b[39m\u001b[38;5;241m.\u001b[39m_format_with_dict, tickd)\n",
      "\u001b[0;31mValueError\u001b[0m: The number of FixedLocator locations (2), usually from a call to set_ticks, does not match the number of labels (3)."
     ]
    },
    {
     "data": {
      "image/png": "[encoded data removed]",
      "text/plain": [
       "<Figure size 640x480 with 2 Axes>"
      ]
     },
     "metadata": {},
     "output_type": "display_data"
    }
   ],
   "source": [
    "plot_cm(y_test, gs2)"
   ]
  },
  {
   "cell_type": "code",
   "execution_count": 138,
   "metadata": {},
   "outputs": [
    {
     "data": {
      "text/html": [
       "<style>#sk-container-id-8 {color: black;background-color: white;}#sk-container-id-8 pre{padding: 0;}#sk-container-id-8 div.sk-toggleable {background-color: white;}#sk-container-id-8 label.sk-toggleable__label {cursor: pointer;display: block;width: 100%;margin-bottom: 0;padding: 0.3em;box-sizing: border-box;text-align: center;}#sk-container-id-8 label.sk-toggleable__label-arrow:before {content: \"▸\";float: left;margin-right: 0.25em;color: #696969;}#sk-container-id-8 label.sk-toggleable__label-arrow:hover:before {color: black;}#sk-container-id-8 div.sk-estimator:hover label.sk-toggleable__label-arrow:before {color: black;}#sk-container-id-8 div.sk-toggleable__content {max-height: 0;max-width: 0;overflow: hidden;text-align: left;background-color: #f0f8ff;}#sk-container-id-8 div.sk-toggleable__content pre {margin: 0.2em;color: black;border-radius: 0.25em;background-color: #f0f8ff;}#sk-container-id-8 input.sk-toggleable__control:checked~div.sk-toggleable__content {max-height: 200px;max-width: 100%;overflow: auto;}#sk-container-id-8 input.sk-toggleable__control:checked~label.sk-toggleable__label-arrow:before {content: \"▾\";}#sk-container-id-8 div.sk-estimator input.sk-toggleable__control:checked~label.sk-toggleable__label {background-color: #d4ebff;}#sk-container-id-8 div.sk-label input.sk-toggleable__control:checked~label.sk-toggleable__label {background-color: #d4ebff;}#sk-container-id-8 input.sk-hidden--visually {border: 0;clip: rect(1px 1px 1px 1px);clip: rect(1px, 1px, 1px, 1px);height: 1px;margin: -1px;overflow: hidden;padding: 0;position: absolute;width: 1px;}#sk-container-id-8 div.sk-estimator {font-family: monospace;background-color: #f0f8ff;border: 1px dotted black;border-radius: 0.25em;box-sizing: border-box;margin-bottom: 0.5em;}#sk-container-id-8 div.sk-estimator:hover {background-color: #d4ebff;}#sk-container-id-8 div.sk-parallel-item::after {content: \"\";width: 100%;border-bottom: 1px solid gray;flex-grow: 1;}#sk-container-id-8 div.sk-label:hover label.sk-toggleable__label {background-color: #d4ebff;}#sk-container-id-8 div.sk-serial::before {content: \"\";position: absolute;border-left: 1px solid gray;box-sizing: border-box;top: 0;bottom: 0;left: 50%;z-index: 0;}#sk-container-id-8 div.sk-serial {display: flex;flex-direction: column;align-items: center;background-color: white;padding-right: 0.2em;padding-left: 0.2em;position: relative;}#sk-container-id-8 div.sk-item {position: relative;z-index: 1;}#sk-container-id-8 div.sk-parallel {display: flex;align-items: stretch;justify-content: center;background-color: white;position: relative;}#sk-container-id-8 div.sk-item::before, #sk-container-id-8 div.sk-parallel-item::before {content: \"\";position: absolute;border-left: 1px solid gray;box-sizing: border-box;top: 0;bottom: 0;left: 50%;z-index: -1;}#sk-container-id-8 div.sk-parallel-item {display: flex;flex-direction: column;z-index: 1;position: relative;background-color: white;}#sk-container-id-8 div.sk-parallel-item:first-child::after {align-self: flex-end;width: 50%;}#sk-container-id-8 div.sk-parallel-item:last-child::after {align-self: flex-start;width: 50%;}#sk-container-id-8 div.sk-parallel-item:only-child::after {width: 0;}#sk-container-id-8 div.sk-dashed-wrapped {border: 1px dashed gray;margin: 0 0.4em 0.5em 0.4em;box-sizing: border-box;padding-bottom: 0.4em;background-color: white;}#sk-container-id-8 div.sk-label label {font-family: monospace;font-weight: bold;display: inline-block;line-height: 1.2em;}#sk-container-id-8 div.sk-label-container {text-align: center;}#sk-container-id-8 div.sk-container {/* jupyter's `normalize.less` sets `[hidden] { display: none; }` but bootstrap.min.css set `[hidden] { display: none !important; }` so we also need the `!important` here to be able to override the default hidden behavior on the sphinx rendered scikit-learn.org. See: https://github.com/scikit-learn/scikit-learn/issues/21755 */display: inline-block !important;position: relative;}#sk-container-id-8 div.sk-text-repr-fallback {display: none;}</style><div id=\"sk-container-id-8\" class=\"sk-top-container\"><div class=\"sk-text-repr-fallback\"><pre>GridSearchCV(estimator=Pipeline(steps=[(&#x27;tfidf&#x27;, TfidfVectorizer()),\n",
       "                                       (&#x27;mnb&#x27;, MultinomialNB())]),\n",
       "             param_grid={&#x27;tfidf__max_df&#x27;: [0.95, 1.0],\n",
       "                         &#x27;tfidf__max_features&#x27;: [None, 1],\n",
       "                         &#x27;tfidf__min_df&#x27;: [0.05, 0.0],\n",
       "                         &#x27;tfidf__ngram_range&#x27;: [(2, 2), (1, 2), (1, 3)],\n",
       "                         &#x27;tfidf__norm&#x27;: [None]})</pre><b>In a Jupyter environment, please rerun this cell to show the HTML representation or trust the notebook. <br />On GitHub, the HTML representation is unable to render, please try loading this page with nbviewer.org.</b></div><div class=\"sk-container\" hidden><div class=\"sk-item sk-dashed-wrapped\"><div class=\"sk-label-container\"><div class=\"sk-label sk-toggleable\"><input class=\"sk-toggleable__control sk-hidden--visually\" id=\"sk-estimator-id-26\" type=\"checkbox\" ><label for=\"sk-estimator-id-26\" class=\"sk-toggleable__label sk-toggleable__label-arrow\">GridSearchCV</label><div class=\"sk-toggleable__content\"><pre>GridSearchCV(estimator=Pipeline(steps=[(&#x27;tfidf&#x27;, TfidfVectorizer()),\n",
       "                                       (&#x27;mnb&#x27;, MultinomialNB())]),\n",
       "             param_grid={&#x27;tfidf__max_df&#x27;: [0.95, 1.0],\n",
       "                         &#x27;tfidf__max_features&#x27;: [None, 1],\n",
       "                         &#x27;tfidf__min_df&#x27;: [0.05, 0.0],\n",
       "                         &#x27;tfidf__ngram_range&#x27;: [(2, 2), (1, 2), (1, 3)],\n",
       "                         &#x27;tfidf__norm&#x27;: [None]})</pre></div></div></div><div class=\"sk-parallel\"><div class=\"sk-parallel-item\"><div class=\"sk-item\"><div class=\"sk-label-container\"><div class=\"sk-label sk-toggleable\"><input class=\"sk-toggleable__control sk-hidden--visually\" id=\"sk-estimator-id-27\" type=\"checkbox\" ><label for=\"sk-estimator-id-27\" class=\"sk-toggleable__label sk-toggleable__label-arrow\">estimator: Pipeline</label><div class=\"sk-toggleable__content\"><pre>Pipeline(steps=[(&#x27;tfidf&#x27;, TfidfVectorizer()), (&#x27;mnb&#x27;, MultinomialNB())])</pre></div></div></div><div class=\"sk-serial\"><div class=\"sk-item\"><div class=\"sk-serial\"><div class=\"sk-item\"><div class=\"sk-estimator sk-toggleable\"><input class=\"sk-toggleable__control sk-hidden--visually\" id=\"sk-estimator-id-28\" type=\"checkbox\" ><label for=\"sk-estimator-id-28\" class=\"sk-toggleable__label sk-toggleable__label-arrow\">TfidfVectorizer</label><div class=\"sk-toggleable__content\"><pre>TfidfVectorizer()</pre></div></div></div><div class=\"sk-item\"><div class=\"sk-estimator sk-toggleable\"><input class=\"sk-toggleable__control sk-hidden--visually\" id=\"sk-estimator-id-29\" type=\"checkbox\" ><label for=\"sk-estimator-id-29\" class=\"sk-toggleable__label sk-toggleable__label-arrow\">MultinomialNB</label><div class=\"sk-toggleable__content\"><pre>MultinomialNB()</pre></div></div></div></div></div></div></div></div></div></div></div></div>"
      ],
      "text/plain": [
       "GridSearchCV(estimator=Pipeline(steps=[('tfidf', TfidfVectorizer()),\n",
       "                                       ('mnb', MultinomialNB())]),\n",
       "             param_grid={'tfidf__max_df': [0.95, 1.0],\n",
       "                         'tfidf__max_features': [None, 1],\n",
       "                         'tfidf__min_df': [0.05, 0.0],\n",
       "                         'tfidf__ngram_range': [(2, 2), (1, 2), (1, 3)],\n",
       "                         'tfidf__norm': [None]})"
      ]
     },
     "execution_count": 138,
     "metadata": {},
     "output_type": "execute_result"
    }
   ],
   "source": [
    "gs3 = GridSearchCV(pipe, param_grid= {\n",
    "    'tfidf__max_df': [0.95, 1.0], # earlier 0.95 was best\n",
    "    'tfidf__min_df': [0.05, 0.0], # 0.05 was best\n",
    "    'tfidf__ngram_range': [(2,2), (1,2), (1,3)], # default (1,1)\n",
    "   'tfidf__max_features': [None, 1], # default (None) was best so commenting it out\n",
    "    'tfidf__norm': [None] # None was best\n",
    "})\n",
    "gs3.fit(X_train, y_train)"
   ]
  },
  {
   "cell_type": "code",
   "execution_count": 139,
   "metadata": {},
   "outputs": [
    {
     "name": "stdout",
     "output_type": "stream",
     "text": [
      "Best Params: {'tfidf__max_df': 0.95, 'tfidf__max_features': None, 'tfidf__min_df': 0.05, 'tfidf__ngram_range': (2, 2), 'tfidf__norm': None}\n",
      "Best CV Accuracy: 0.8529411764705882\n",
      "Train Accuracy: 0.9887640449438202\n"
     ]
    }
   ],
   "source": [
    "evaluate_grid(gs3)"
   ]
  },
  {
   "cell_type": "code",
   "execution_count": 140,
   "metadata": {},
   "outputs": [
    {
     "data": {
      "text/plain": [
       "0.8666666666666667"
      ]
     },
     "execution_count": 140,
     "metadata": {},
     "output_type": "execute_result"
    }
   ],
   "source": [
    "gs3.score(X_test, y_test)"
   ]
  },
  {
   "cell_type": "code",
   "execution_count": null,
   "metadata": {},
   "outputs": [],
   "source": [
    "plot_cm(y_test, gs3)"
   ]
  },
  {
   "cell_type": "code",
   "execution_count": null,
   "metadata": {},
   "outputs": [],
   "source": [
    "gs4 = GridSearchCV(pipe, param_grid= {\n",
    "    'tfidf__max_df': [0.3, 0.35, 0.4, 0.45], # earlier 0.4 was best\n",
    "    'tfidf__min_df': [0.0], # 0.0 was best\n",
    "    'tfidf__ngram_range': [(2,2), (3,3)], # default (1,1)\n",
    "   'tfidf__max_features': [None, 2, 20], # default (None) was best so commenting it out\n",
    "    'tfidf__norm': [None] # None was best\n",
    "})\n",
    "gs4.fit(X_train, y_train)\n"
   ]
  },
  {
   "cell_type": "code",
   "execution_count": null,
   "metadata": {},
   "outputs": [],
   "source": [
    "evaluate_grid(gs4)"
   ]
  },
  {
   "cell_type": "code",
   "execution_count": null,
   "metadata": {},
   "outputs": [],
   "source": [
    "plot_cm(y_test, gs4)"
   ]
  },
  {
   "cell_type": "code",
   "execution_count": null,
   "metadata": {},
   "outputs": [],
   "source": [
    "gs5 = GridSearchCV(pipe, param_grid= {\n",
    "    'tfidf__max_df': [0.3, 0.25, 0.2], # earlier 0.3 was best\n",
    "    'tfidf__min_df': [0.0], # 0.0 was best\n",
    "    'tfidf__ngram_range': [(2,2), (3,3)], # default (1,1)\n",
    "   'tfidf__max_features': [None, 2, 20], # default (None) was best so commenting it out\n",
    "    'tfidf__norm': [None] # None was best\n",
    "})\n",
    "gs5.fit(X_train, y_train)\n"
   ]
  },
  {
   "cell_type": "code",
   "execution_count": null,
   "metadata": {},
   "outputs": [],
   "source": [
    "evaluate_grid(gs5)"
   ]
  },
  {
   "cell_type": "code",
   "execution_count": null,
   "metadata": {},
   "outputs": [],
   "source": [
    "plot_cm(y_test, gs5)"
   ]
  },
  {
   "cell_type": "code",
   "execution_count": null,
   "metadata": {},
   "outputs": [],
   "source": [
    "final_model = gs5.best_estimator_"
   ]
  },
  {
   "cell_type": "markdown",
   "metadata": {},
   "source": [
    "## Combining New Data Frame"
   ]
  },
  {
   "cell_type": "code",
   "execution_count": null,
   "metadata": {},
   "outputs": [],
   "source": []
  },
  {
   "cell_type": "code",
   "execution_count": null,
   "metadata": {},
   "outputs": [],
   "source": []
  },
  {
   "cell_type": "code",
   "execution_count": null,
   "metadata": {},
   "outputs": [],
   "source": []
  },
  {
   "cell_type": "code",
   "execution_count": null,
   "metadata": {},
   "outputs": [],
   "source": []
  },
  {
   "cell_type": "code",
   "execution_count": null,
   "metadata": {},
   "outputs": [],
   "source": []
  },
  {
   "cell_type": "code",
   "execution_count": null,
   "metadata": {},
   "outputs": [],
   "source": []
  },
  {
   "cell_type": "markdown",
   "metadata": {},
   "source": [
    "## Pipeline #2 Count Vec"
   ]
  },
  {
   "cell_type": "code",
   "execution_count": null,
   "metadata": {},
   "outputs": [],
   "source": [
    "pipe2 = Pipeline(steps=[\n",
    "    ('countvec', CountVectorizer()), \n",
    "    ('mnb', MultinomialNB())])\n",
    "pipe2.fit(X_train, y_train)"
   ]
  },
  {
   "cell_type": "markdown",
   "metadata": {},
   "source": [
    "## Grid Search Count Pipeline"
   ]
  },
  {
   "cell_type": "code",
   "execution_count": null,
   "metadata": {},
   "outputs": [],
   "source": [
    "gs_c2 = GridSearchCV(pipe2, param_grid= {\n",
    "    'countvec__max_df': [0.75, 0.9, 1.0], # default 1.0\n",
    "    'countvec__min_df': [0.0, 0.05, 0.1], # default 1\n",
    "    'countvec__ngram_range': [(1, 1), (1, 2)], # default (1,1)\n",
    "    'countvec__max_features': [None, 2, 20], # default (None)\n",
    "})\n",
    "gs_c2.fit(X_train, y_train)"
   ]
  },
  {
   "cell_type": "code",
   "execution_count": null,
   "metadata": {},
   "outputs": [],
   "source": [
    "evaluate_grid(gs_c2)"
   ]
  },
  {
   "cell_type": "code",
   "execution_count": null,
   "metadata": {},
   "outputs": [],
   "source": [
    "plot_cm(y_test, gs_c2)"
   ]
  },
  {
   "cell_type": "code",
   "execution_count": null,
   "metadata": {},
   "outputs": [],
   "source": [
    "gs_c3 = GridSearchCV(pipe2, param_grid= {\n",
    "    'countvec__max_df': [0.75, 0.8, 0.6], # best was 0.75\n",
    "    'countvec__min_df': [0.3, 0.2, 0.1], # default 1, best was 0.1\n",
    "    'countvec__ngram_range': [(2,2), (1, 2)], # default (1,1)\n",
    "    'countvec__max_features': [None, 1], # best was the default (None)\n",
    "})\n",
    "gs_c3.fit(X_train, y_train)"
   ]
  },
  {
   "cell_type": "code",
   "execution_count": null,
   "metadata": {},
   "outputs": [],
   "source": [
    "evaluate_grid(gs_c3)"
   ]
  },
  {
   "cell_type": "code",
   "execution_count": null,
   "metadata": {},
   "outputs": [],
   "source": [
    "plot_cm(y_test, gs_c3)"
   ]
  },
  {
   "cell_type": "code",
   "execution_count": null,
   "metadata": {},
   "outputs": [],
   "source": [
    "gs_c4 = GridSearchCV(pipe2, param_grid= {\n",
    "    'countvec__max_df': [0.75, 0.8, 0.6], # default 1.0\n",
    "    'countvec__min_df': [0.15, 0.095, 0.1], # default 1, best was 0.1\n",
    "    'countvec__ngram_range': [(2,2), (1, 2)], # default (1,1)\n",
    "    'countvec__max_features': [None, 1], # default (None)\n",
    "})\n",
    "gs_c4.fit(X_train, y_train)"
   ]
  },
  {
   "cell_type": "code",
   "execution_count": null,
   "metadata": {},
   "outputs": [],
   "source": [
    "evaluate_grid(gs_c4)"
   ]
  },
  {
   "cell_type": "markdown",
   "metadata": {},
   "source": [
    "# Pipe 3: a Tree model"
   ]
  },
  {
   "cell_type": "code",
   "execution_count": 141,
   "metadata": {},
   "outputs": [
    {
     "data": {
      "text/html": [
       "<style>#sk-container-id-9 {color: black;background-color: white;}#sk-container-id-9 pre{padding: 0;}#sk-container-id-9 div.sk-toggleable {background-color: white;}#sk-container-id-9 label.sk-toggleable__label {cursor: pointer;display: block;width: 100%;margin-bottom: 0;padding: 0.3em;box-sizing: border-box;text-align: center;}#sk-container-id-9 label.sk-toggleable__label-arrow:before {content: \"▸\";float: left;margin-right: 0.25em;color: #696969;}#sk-container-id-9 label.sk-toggleable__label-arrow:hover:before {color: black;}#sk-container-id-9 div.sk-estimator:hover label.sk-toggleable__label-arrow:before {color: black;}#sk-container-id-9 div.sk-toggleable__content {max-height: 0;max-width: 0;overflow: hidden;text-align: left;background-color: #f0f8ff;}#sk-container-id-9 div.sk-toggleable__content pre {margin: 0.2em;color: black;border-radius: 0.25em;background-color: #f0f8ff;}#sk-container-id-9 input.sk-toggleable__control:checked~div.sk-toggleable__content {max-height: 200px;max-width: 100%;overflow: auto;}#sk-container-id-9 input.sk-toggleable__control:checked~label.sk-toggleable__label-arrow:before {content: \"▾\";}#sk-container-id-9 div.sk-estimator input.sk-toggleable__control:checked~label.sk-toggleable__label {background-color: #d4ebff;}#sk-container-id-9 div.sk-label input.sk-toggleable__control:checked~label.sk-toggleable__label {background-color: #d4ebff;}#sk-container-id-9 input.sk-hidden--visually {border: 0;clip: rect(1px 1px 1px 1px);clip: rect(1px, 1px, 1px, 1px);height: 1px;margin: -1px;overflow: hidden;padding: 0;position: absolute;width: 1px;}#sk-container-id-9 div.sk-estimator {font-family: monospace;background-color: #f0f8ff;border: 1px dotted black;border-radius: 0.25em;box-sizing: border-box;margin-bottom: 0.5em;}#sk-container-id-9 div.sk-estimator:hover {background-color: #d4ebff;}#sk-container-id-9 div.sk-parallel-item::after {content: \"\";width: 100%;border-bottom: 1px solid gray;flex-grow: 1;}#sk-container-id-9 div.sk-label:hover label.sk-toggleable__label {background-color: #d4ebff;}#sk-container-id-9 div.sk-serial::before {content: \"\";position: absolute;border-left: 1px solid gray;box-sizing: border-box;top: 0;bottom: 0;left: 50%;z-index: 0;}#sk-container-id-9 div.sk-serial {display: flex;flex-direction: column;align-items: center;background-color: white;padding-right: 0.2em;padding-left: 0.2em;position: relative;}#sk-container-id-9 div.sk-item {position: relative;z-index: 1;}#sk-container-id-9 div.sk-parallel {display: flex;align-items: stretch;justify-content: center;background-color: white;position: relative;}#sk-container-id-9 div.sk-item::before, #sk-container-id-9 div.sk-parallel-item::before {content: \"\";position: absolute;border-left: 1px solid gray;box-sizing: border-box;top: 0;bottom: 0;left: 50%;z-index: -1;}#sk-container-id-9 div.sk-parallel-item {display: flex;flex-direction: column;z-index: 1;position: relative;background-color: white;}#sk-container-id-9 div.sk-parallel-item:first-child::after {align-self: flex-end;width: 50%;}#sk-container-id-9 div.sk-parallel-item:last-child::after {align-self: flex-start;width: 50%;}#sk-container-id-9 div.sk-parallel-item:only-child::after {width: 0;}#sk-container-id-9 div.sk-dashed-wrapped {border: 1px dashed gray;margin: 0 0.4em 0.5em 0.4em;box-sizing: border-box;padding-bottom: 0.4em;background-color: white;}#sk-container-id-9 div.sk-label label {font-family: monospace;font-weight: bold;display: inline-block;line-height: 1.2em;}#sk-container-id-9 div.sk-label-container {text-align: center;}#sk-container-id-9 div.sk-container {/* jupyter's `normalize.less` sets `[hidden] { display: none; }` but bootstrap.min.css set `[hidden] { display: none !important; }` so we also need the `!important` here to be able to override the default hidden behavior on the sphinx rendered scikit-learn.org. See: https://github.com/scikit-learn/scikit-learn/issues/21755 */display: inline-block !important;position: relative;}#sk-container-id-9 div.sk-text-repr-fallback {display: none;}</style><div id=\"sk-container-id-9\" class=\"sk-top-container\"><div class=\"sk-text-repr-fallback\"><pre>Pipeline(steps=[(&#x27;tfidf&#x27;, TfidfVectorizer()),\n",
       "                (&#x27;rf&#x27;, RandomForestClassifier(random_state=42))])</pre><b>In a Jupyter environment, please rerun this cell to show the HTML representation or trust the notebook. <br />On GitHub, the HTML representation is unable to render, please try loading this page with nbviewer.org.</b></div><div class=\"sk-container\" hidden><div class=\"sk-item sk-dashed-wrapped\"><div class=\"sk-label-container\"><div class=\"sk-label sk-toggleable\"><input class=\"sk-toggleable__control sk-hidden--visually\" id=\"sk-estimator-id-30\" type=\"checkbox\" ><label for=\"sk-estimator-id-30\" class=\"sk-toggleable__label sk-toggleable__label-arrow\">Pipeline</label><div class=\"sk-toggleable__content\"><pre>Pipeline(steps=[(&#x27;tfidf&#x27;, TfidfVectorizer()),\n",
       "                (&#x27;rf&#x27;, RandomForestClassifier(random_state=42))])</pre></div></div></div><div class=\"sk-serial\"><div class=\"sk-item\"><div class=\"sk-estimator sk-toggleable\"><input class=\"sk-toggleable__control sk-hidden--visually\" id=\"sk-estimator-id-31\" type=\"checkbox\" ><label for=\"sk-estimator-id-31\" class=\"sk-toggleable__label sk-toggleable__label-arrow\">TfidfVectorizer</label><div class=\"sk-toggleable__content\"><pre>TfidfVectorizer()</pre></div></div></div><div class=\"sk-item\"><div class=\"sk-estimator sk-toggleable\"><input class=\"sk-toggleable__control sk-hidden--visually\" id=\"sk-estimator-id-32\" type=\"checkbox\" ><label for=\"sk-estimator-id-32\" class=\"sk-toggleable__label sk-toggleable__label-arrow\">RandomForestClassifier</label><div class=\"sk-toggleable__content\"><pre>RandomForestClassifier(random_state=42)</pre></div></div></div></div></div></div></div>"
      ],
      "text/plain": [
       "Pipeline(steps=[('tfidf', TfidfVectorizer()),\n",
       "                ('rf', RandomForestClassifier(random_state=42))])"
      ]
     },
     "execution_count": 141,
     "metadata": {},
     "output_type": "execute_result"
    }
   ],
   "source": [
    "from sklearn.ensemble import RandomForestClassifier\n",
    "\n",
    "pipe3 = Pipeline(steps=[\n",
    "    ('tfidf', TfidfVectorizer()), \n",
    "    ('rf', RandomForestClassifier(random_state=42))])\n",
    "pipe3.fit(X_train, y_train)"
   ]
  },
  {
   "cell_type": "code",
   "execution_count": 142,
   "metadata": {},
   "outputs": [
    {
     "data": {
      "text/plain": [
       "1.0"
      ]
     },
     "execution_count": 142,
     "metadata": {},
     "output_type": "execute_result"
    }
   ],
   "source": [
    "pipe3.score(X_train, y_train)"
   ]
  },
  {
   "cell_type": "code",
   "execution_count": 143,
   "metadata": {},
   "outputs": [
    {
     "data": {
      "text/plain": [
       "array([0.77777778, 0.83333333, 0.83333333, 0.5       , 0.64705882])"
      ]
     },
     "execution_count": 143,
     "metadata": {},
     "output_type": "execute_result"
    }
   ],
   "source": [
    "cross_val_score(pipe3, X_train, y_train)"
   ]
  },
  {
   "cell_type": "code",
   "execution_count": 144,
   "metadata": {},
   "outputs": [
    {
     "data": {
      "text/html": [
       "<style>#sk-container-id-10 {color: black;background-color: white;}#sk-container-id-10 pre{padding: 0;}#sk-container-id-10 div.sk-toggleable {background-color: white;}#sk-container-id-10 label.sk-toggleable__label {cursor: pointer;display: block;width: 100%;margin-bottom: 0;padding: 0.3em;box-sizing: border-box;text-align: center;}#sk-container-id-10 label.sk-toggleable__label-arrow:before {content: \"▸\";float: left;margin-right: 0.25em;color: #696969;}#sk-container-id-10 label.sk-toggleable__label-arrow:hover:before {color: black;}#sk-container-id-10 div.sk-estimator:hover label.sk-toggleable__label-arrow:before {color: black;}#sk-container-id-10 div.sk-toggleable__content {max-height: 0;max-width: 0;overflow: hidden;text-align: left;background-color: #f0f8ff;}#sk-container-id-10 div.sk-toggleable__content pre {margin: 0.2em;color: black;border-radius: 0.25em;background-color: #f0f8ff;}#sk-container-id-10 input.sk-toggleable__control:checked~div.sk-toggleable__content {max-height: 200px;max-width: 100%;overflow: auto;}#sk-container-id-10 input.sk-toggleable__control:checked~label.sk-toggleable__label-arrow:before {content: \"▾\";}#sk-container-id-10 div.sk-estimator input.sk-toggleable__control:checked~label.sk-toggleable__label {background-color: #d4ebff;}#sk-container-id-10 div.sk-label input.sk-toggleable__control:checked~label.sk-toggleable__label {background-color: #d4ebff;}#sk-container-id-10 input.sk-hidden--visually {border: 0;clip: rect(1px 1px 1px 1px);clip: rect(1px, 1px, 1px, 1px);height: 1px;margin: -1px;overflow: hidden;padding: 0;position: absolute;width: 1px;}#sk-container-id-10 div.sk-estimator {font-family: monospace;background-color: #f0f8ff;border: 1px dotted black;border-radius: 0.25em;box-sizing: border-box;margin-bottom: 0.5em;}#sk-container-id-10 div.sk-estimator:hover {background-color: #d4ebff;}#sk-container-id-10 div.sk-parallel-item::after {content: \"\";width: 100%;border-bottom: 1px solid gray;flex-grow: 1;}#sk-container-id-10 div.sk-label:hover label.sk-toggleable__label {background-color: #d4ebff;}#sk-container-id-10 div.sk-serial::before {content: \"\";position: absolute;border-left: 1px solid gray;box-sizing: border-box;top: 0;bottom: 0;left: 50%;z-index: 0;}#sk-container-id-10 div.sk-serial {display: flex;flex-direction: column;align-items: center;background-color: white;padding-right: 0.2em;padding-left: 0.2em;position: relative;}#sk-container-id-10 div.sk-item {position: relative;z-index: 1;}#sk-container-id-10 div.sk-parallel {display: flex;align-items: stretch;justify-content: center;background-color: white;position: relative;}#sk-container-id-10 div.sk-item::before, #sk-container-id-10 div.sk-parallel-item::before {content: \"\";position: absolute;border-left: 1px solid gray;box-sizing: border-box;top: 0;bottom: 0;left: 50%;z-index: -1;}#sk-container-id-10 div.sk-parallel-item {display: flex;flex-direction: column;z-index: 1;position: relative;background-color: white;}#sk-container-id-10 div.sk-parallel-item:first-child::after {align-self: flex-end;width: 50%;}#sk-container-id-10 div.sk-parallel-item:last-child::after {align-self: flex-start;width: 50%;}#sk-container-id-10 div.sk-parallel-item:only-child::after {width: 0;}#sk-container-id-10 div.sk-dashed-wrapped {border: 1px dashed gray;margin: 0 0.4em 0.5em 0.4em;box-sizing: border-box;padding-bottom: 0.4em;background-color: white;}#sk-container-id-10 div.sk-label label {font-family: monospace;font-weight: bold;display: inline-block;line-height: 1.2em;}#sk-container-id-10 div.sk-label-container {text-align: center;}#sk-container-id-10 div.sk-container {/* jupyter's `normalize.less` sets `[hidden] { display: none; }` but bootstrap.min.css set `[hidden] { display: none !important; }` so we also need the `!important` here to be able to override the default hidden behavior on the sphinx rendered scikit-learn.org. See: https://github.com/scikit-learn/scikit-learn/issues/21755 */display: inline-block !important;position: relative;}#sk-container-id-10 div.sk-text-repr-fallback {display: none;}</style><div id=\"sk-container-id-10\" class=\"sk-top-container\"><div class=\"sk-text-repr-fallback\"><pre>GridSearchCV(estimator=Pipeline(steps=[(&#x27;tfidf&#x27;, TfidfVectorizer()),\n",
       "                                       (&#x27;rf&#x27;,\n",
       "                                        RandomForestClassifier(random_state=42))]),\n",
       "             param_grid={&#x27;rf__max_depth&#x27;: [None, 5, 10],\n",
       "                         &#x27;rf__min_samples_leaf&#x27;: [1, 5, 10],\n",
       "                         &#x27;rf__min_samples_split&#x27;: [2, 5, 10],\n",
       "                         &#x27;rf__n_estimators&#x27;: [100, 200, 300]})</pre><b>In a Jupyter environment, please rerun this cell to show the HTML representation or trust the notebook. <br />On GitHub, the HTML representation is unable to render, please try loading this page with nbviewer.org.</b></div><div class=\"sk-container\" hidden><div class=\"sk-item sk-dashed-wrapped\"><div class=\"sk-label-container\"><div class=\"sk-label sk-toggleable\"><input class=\"sk-toggleable__control sk-hidden--visually\" id=\"sk-estimator-id-33\" type=\"checkbox\" ><label for=\"sk-estimator-id-33\" class=\"sk-toggleable__label sk-toggleable__label-arrow\">GridSearchCV</label><div class=\"sk-toggleable__content\"><pre>GridSearchCV(estimator=Pipeline(steps=[(&#x27;tfidf&#x27;, TfidfVectorizer()),\n",
       "                                       (&#x27;rf&#x27;,\n",
       "                                        RandomForestClassifier(random_state=42))]),\n",
       "             param_grid={&#x27;rf__max_depth&#x27;: [None, 5, 10],\n",
       "                         &#x27;rf__min_samples_leaf&#x27;: [1, 5, 10],\n",
       "                         &#x27;rf__min_samples_split&#x27;: [2, 5, 10],\n",
       "                         &#x27;rf__n_estimators&#x27;: [100, 200, 300]})</pre></div></div></div><div class=\"sk-parallel\"><div class=\"sk-parallel-item\"><div class=\"sk-item\"><div class=\"sk-label-container\"><div class=\"sk-label sk-toggleable\"><input class=\"sk-toggleable__control sk-hidden--visually\" id=\"sk-estimator-id-34\" type=\"checkbox\" ><label for=\"sk-estimator-id-34\" class=\"sk-toggleable__label sk-toggleable__label-arrow\">estimator: Pipeline</label><div class=\"sk-toggleable__content\"><pre>Pipeline(steps=[(&#x27;tfidf&#x27;, TfidfVectorizer()),\n",
       "                (&#x27;rf&#x27;, RandomForestClassifier(random_state=42))])</pre></div></div></div><div class=\"sk-serial\"><div class=\"sk-item\"><div class=\"sk-serial\"><div class=\"sk-item\"><div class=\"sk-estimator sk-toggleable\"><input class=\"sk-toggleable__control sk-hidden--visually\" id=\"sk-estimator-id-35\" type=\"checkbox\" ><label for=\"sk-estimator-id-35\" class=\"sk-toggleable__label sk-toggleable__label-arrow\">TfidfVectorizer</label><div class=\"sk-toggleable__content\"><pre>TfidfVectorizer()</pre></div></div></div><div class=\"sk-item\"><div class=\"sk-estimator sk-toggleable\"><input class=\"sk-toggleable__control sk-hidden--visually\" id=\"sk-estimator-id-36\" type=\"checkbox\" ><label for=\"sk-estimator-id-36\" class=\"sk-toggleable__label sk-toggleable__label-arrow\">RandomForestClassifier</label><div class=\"sk-toggleable__content\"><pre>RandomForestClassifier(random_state=42)</pre></div></div></div></div></div></div></div></div></div></div></div></div>"
      ],
      "text/plain": [
       "GridSearchCV(estimator=Pipeline(steps=[('tfidf', TfidfVectorizer()),\n",
       "                                       ('rf',\n",
       "                                        RandomForestClassifier(random_state=42))]),\n",
       "             param_grid={'rf__max_depth': [None, 5, 10],\n",
       "                         'rf__min_samples_leaf': [1, 5, 10],\n",
       "                         'rf__min_samples_split': [2, 5, 10],\n",
       "                         'rf__n_estimators': [100, 200, 300]})"
      ]
     },
     "execution_count": 144,
     "metadata": {},
     "output_type": "execute_result"
    }
   ],
   "source": [
    "gs_rf = GridSearchCV(pipe3, param_grid = {\n",
    "        'rf__max_depth': [None, 5, 10],\n",
    "        'rf__min_samples_split': [2, 5, 10],\n",
    "        'rf__min_samples_leaf': [1, 5, 10],\n",
    "        'rf__n_estimators': [100, 200, 300],\n",
    "})\n",
    "gs_rf.fit(X_train, y_train)"
   ]
  },
  {
   "cell_type": "code",
   "execution_count": 145,
   "metadata": {},
   "outputs": [
    {
     "name": "stdout",
     "output_type": "stream",
     "text": [
      "Best Params: {'rf__max_depth': 5, 'rf__min_samples_leaf': 1, 'rf__min_samples_split': 10, 'rf__n_estimators': 200}\n",
      "Best CV Accuracy: 0.7633986928104576\n",
      "Train Accuracy: 1.0\n"
     ]
    }
   ],
   "source": [
    "evaluate_grid(gs_rf)"
   ]
  },
  {
   "cell_type": "code",
   "execution_count": 101,
   "metadata": {},
   "outputs": [
    {
     "name": "stderr",
     "output_type": "stream",
     "text": [
      "/Users/shelleywang/miniconda3/envs/tensorflow_test/lib/python3.10/site-packages/sklearn/model_selection/_validation.py:378: FitFailedWarning: \n",
      "90 fits failed out of a total of 270.\n",
      "The score on these train-test partitions for these parameters will be set to nan.\n",
      "If these failures are not expected, you can try to debug them by setting error_score='raise'.\n",
      "\n",
      "Below are more details about the failures:\n",
      "--------------------------------------------------------------------------------\n",
      "90 fits failed with the following error:\n",
      "Traceback (most recent call last):\n",
      "  File \"/Users/shelleywang/miniconda3/envs/tensorflow_test/lib/python3.10/site-packages/sklearn/model_selection/_validation.py\", line 686, in _fit_and_score\n",
      "    estimator.fit(X_train, y_train, **fit_params)\n",
      "  File \"/Users/shelleywang/miniconda3/envs/tensorflow_test/lib/python3.10/site-packages/sklearn/pipeline.py\", line 405, in fit\n",
      "    self._final_estimator.fit(Xt, y, **fit_params_last_step)\n",
      "  File \"/Users/shelleywang/miniconda3/envs/tensorflow_test/lib/python3.10/site-packages/sklearn/ensemble/_forest.py\", line 340, in fit\n",
      "    self._validate_params()\n",
      "  File \"/Users/shelleywang/miniconda3/envs/tensorflow_test/lib/python3.10/site-packages/sklearn/base.py\", line 600, in _validate_params\n",
      "    validate_parameter_constraints(\n",
      "  File \"/Users/shelleywang/miniconda3/envs/tensorflow_test/lib/python3.10/site-packages/sklearn/utils/_param_validation.py\", line 97, in validate_parameter_constraints\n",
      "    raise InvalidParameterError(\n",
      "sklearn.utils._param_validation.InvalidParameterError: The 'min_samples_split' parameter of RandomForestClassifier must be an int in the range [2, inf) or a float in the range (0.0, 1.0]. Got 1 instead.\n",
      "\n",
      "  warnings.warn(some_fits_failed_message, FitFailedWarning)\n",
      "/Users/shelleywang/miniconda3/envs/tensorflow_test/lib/python3.10/site-packages/sklearn/model_selection/_search.py:952: UserWarning: One or more of the test scores are non-finite: [0.70718954 0.69607843 0.70718954 0.70718954 0.69607843 0.70718954\n",
      "        nan        nan        nan 0.70718954 0.74117647 0.76339869\n",
      " 0.70718954 0.74117647 0.76339869        nan        nan        nan\n",
      " 0.69607843 0.70718954 0.69607843 0.69607843 0.70718954 0.69607843\n",
      "        nan        nan        nan 0.61699346 0.61699346 0.61699346\n",
      " 0.61699346 0.61699346 0.61699346        nan        nan        nan\n",
      " 0.61699346 0.62810458 0.61699346 0.61699346 0.62810458 0.61699346\n",
      "        nan        nan        nan 0.61699346 0.63921569 0.6503268\n",
      " 0.61699346 0.63921569 0.6503268         nan        nan        nan]\n",
      "  warnings.warn(\n"
     ]
    },
    {
     "data": {
      "text/html": [
       "<style>#sk-container-id-4 {color: black;background-color: white;}#sk-container-id-4 pre{padding: 0;}#sk-container-id-4 div.sk-toggleable {background-color: white;}#sk-container-id-4 label.sk-toggleable__label {cursor: pointer;display: block;width: 100%;margin-bottom: 0;padding: 0.3em;box-sizing: border-box;text-align: center;}#sk-container-id-4 label.sk-toggleable__label-arrow:before {content: \"▸\";float: left;margin-right: 0.25em;color: #696969;}#sk-container-id-4 label.sk-toggleable__label-arrow:hover:before {color: black;}#sk-container-id-4 div.sk-estimator:hover label.sk-toggleable__label-arrow:before {color: black;}#sk-container-id-4 div.sk-toggleable__content {max-height: 0;max-width: 0;overflow: hidden;text-align: left;background-color: #f0f8ff;}#sk-container-id-4 div.sk-toggleable__content pre {margin: 0.2em;color: black;border-radius: 0.25em;background-color: #f0f8ff;}#sk-container-id-4 input.sk-toggleable__control:checked~div.sk-toggleable__content {max-height: 200px;max-width: 100%;overflow: auto;}#sk-container-id-4 input.sk-toggleable__control:checked~label.sk-toggleable__label-arrow:before {content: \"▾\";}#sk-container-id-4 div.sk-estimator input.sk-toggleable__control:checked~label.sk-toggleable__label {background-color: #d4ebff;}#sk-container-id-4 div.sk-label input.sk-toggleable__control:checked~label.sk-toggleable__label {background-color: #d4ebff;}#sk-container-id-4 input.sk-hidden--visually {border: 0;clip: rect(1px 1px 1px 1px);clip: rect(1px, 1px, 1px, 1px);height: 1px;margin: -1px;overflow: hidden;padding: 0;position: absolute;width: 1px;}#sk-container-id-4 div.sk-estimator {font-family: monospace;background-color: #f0f8ff;border: 1px dotted black;border-radius: 0.25em;box-sizing: border-box;margin-bottom: 0.5em;}#sk-container-id-4 div.sk-estimator:hover {background-color: #d4ebff;}#sk-container-id-4 div.sk-parallel-item::after {content: \"\";width: 100%;border-bottom: 1px solid gray;flex-grow: 1;}#sk-container-id-4 div.sk-label:hover label.sk-toggleable__label {background-color: #d4ebff;}#sk-container-id-4 div.sk-serial::before {content: \"\";position: absolute;border-left: 1px solid gray;box-sizing: border-box;top: 0;bottom: 0;left: 50%;z-index: 0;}#sk-container-id-4 div.sk-serial {display: flex;flex-direction: column;align-items: center;background-color: white;padding-right: 0.2em;padding-left: 0.2em;position: relative;}#sk-container-id-4 div.sk-item {position: relative;z-index: 1;}#sk-container-id-4 div.sk-parallel {display: flex;align-items: stretch;justify-content: center;background-color: white;position: relative;}#sk-container-id-4 div.sk-item::before, #sk-container-id-4 div.sk-parallel-item::before {content: \"\";position: absolute;border-left: 1px solid gray;box-sizing: border-box;top: 0;bottom: 0;left: 50%;z-index: -1;}#sk-container-id-4 div.sk-parallel-item {display: flex;flex-direction: column;z-index: 1;position: relative;background-color: white;}#sk-container-id-4 div.sk-parallel-item:first-child::after {align-self: flex-end;width: 50%;}#sk-container-id-4 div.sk-parallel-item:last-child::after {align-self: flex-start;width: 50%;}#sk-container-id-4 div.sk-parallel-item:only-child::after {width: 0;}#sk-container-id-4 div.sk-dashed-wrapped {border: 1px dashed gray;margin: 0 0.4em 0.5em 0.4em;box-sizing: border-box;padding-bottom: 0.4em;background-color: white;}#sk-container-id-4 div.sk-label label {font-family: monospace;font-weight: bold;display: inline-block;line-height: 1.2em;}#sk-container-id-4 div.sk-label-container {text-align: center;}#sk-container-id-4 div.sk-container {/* jupyter's `normalize.less` sets `[hidden] { display: none; }` but bootstrap.min.css set `[hidden] { display: none !important; }` so we also need the `!important` here to be able to override the default hidden behavior on the sphinx rendered scikit-learn.org. See: https://github.com/scikit-learn/scikit-learn/issues/21755 */display: inline-block !important;position: relative;}#sk-container-id-4 div.sk-text-repr-fallback {display: none;}</style><div id=\"sk-container-id-4\" class=\"sk-top-container\"><div class=\"sk-text-repr-fallback\"><pre>GridSearchCV(estimator=Pipeline(steps=[(&#x27;tfidf&#x27;, TfidfVectorizer()),\n",
       "                                       (&#x27;rf&#x27;,\n",
       "                                        RandomForestClassifier(random_state=42))]),\n",
       "             param_grid={&#x27;rf__max_depth&#x27;: [None, 1],\n",
       "                         &#x27;rf__min_samples_leaf&#x27;: [4, 5, 6],\n",
       "                         &#x27;rf__min_samples_split&#x27;: [2, 3, 1],\n",
       "                         &#x27;rf__n_estimators&#x27;: [190, 200, 210]})</pre><b>In a Jupyter environment, please rerun this cell to show the HTML representation or trust the notebook. <br />On GitHub, the HTML representation is unable to render, please try loading this page with nbviewer.org.</b></div><div class=\"sk-container\" hidden><div class=\"sk-item sk-dashed-wrapped\"><div class=\"sk-label-container\"><div class=\"sk-label sk-toggleable\"><input class=\"sk-toggleable__control sk-hidden--visually\" id=\"sk-estimator-id-11\" type=\"checkbox\" ><label for=\"sk-estimator-id-11\" class=\"sk-toggleable__label sk-toggleable__label-arrow\">GridSearchCV</label><div class=\"sk-toggleable__content\"><pre>GridSearchCV(estimator=Pipeline(steps=[(&#x27;tfidf&#x27;, TfidfVectorizer()),\n",
       "                                       (&#x27;rf&#x27;,\n",
       "                                        RandomForestClassifier(random_state=42))]),\n",
       "             param_grid={&#x27;rf__max_depth&#x27;: [None, 1],\n",
       "                         &#x27;rf__min_samples_leaf&#x27;: [4, 5, 6],\n",
       "                         &#x27;rf__min_samples_split&#x27;: [2, 3, 1],\n",
       "                         &#x27;rf__n_estimators&#x27;: [190, 200, 210]})</pre></div></div></div><div class=\"sk-parallel\"><div class=\"sk-parallel-item\"><div class=\"sk-item\"><div class=\"sk-label-container\"><div class=\"sk-label sk-toggleable\"><input class=\"sk-toggleable__control sk-hidden--visually\" id=\"sk-estimator-id-12\" type=\"checkbox\" ><label for=\"sk-estimator-id-12\" class=\"sk-toggleable__label sk-toggleable__label-arrow\">estimator: Pipeline</label><div class=\"sk-toggleable__content\"><pre>Pipeline(steps=[(&#x27;tfidf&#x27;, TfidfVectorizer()),\n",
       "                (&#x27;rf&#x27;, RandomForestClassifier(random_state=42))])</pre></div></div></div><div class=\"sk-serial\"><div class=\"sk-item\"><div class=\"sk-serial\"><div class=\"sk-item\"><div class=\"sk-estimator sk-toggleable\"><input class=\"sk-toggleable__control sk-hidden--visually\" id=\"sk-estimator-id-13\" type=\"checkbox\" ><label for=\"sk-estimator-id-13\" class=\"sk-toggleable__label sk-toggleable__label-arrow\">TfidfVectorizer</label><div class=\"sk-toggleable__content\"><pre>TfidfVectorizer()</pre></div></div></div><div class=\"sk-item\"><div class=\"sk-estimator sk-toggleable\"><input class=\"sk-toggleable__control sk-hidden--visually\" id=\"sk-estimator-id-14\" type=\"checkbox\" ><label for=\"sk-estimator-id-14\" class=\"sk-toggleable__label sk-toggleable__label-arrow\">RandomForestClassifier</label><div class=\"sk-toggleable__content\"><pre>RandomForestClassifier(random_state=42)</pre></div></div></div></div></div></div></div></div></div></div></div></div>"
      ],
      "text/plain": [
       "GridSearchCV(estimator=Pipeline(steps=[('tfidf', TfidfVectorizer()),\n",
       "                                       ('rf',\n",
       "                                        RandomForestClassifier(random_state=42))]),\n",
       "             param_grid={'rf__max_depth': [None, 1],\n",
       "                         'rf__min_samples_leaf': [4, 5, 6],\n",
       "                         'rf__min_samples_split': [2, 3, 1],\n",
       "                         'rf__n_estimators': [190, 200, 210]})"
      ]
     },
     "execution_count": 101,
     "metadata": {},
     "output_type": "execute_result"
    }
   ],
   "source": [
    "gs2_rf = GridSearchCV(pipe3, param_grid = {\n",
    "        'rf__max_depth': [None, 1],\n",
    "        'rf__min_samples_split': [2, 3, 1],\n",
    "        'rf__min_samples_leaf': [4, 5, 6],\n",
    "        'rf__n_estimators': [190, 200, 210],\n",
    "})\n",
    "gs2_rf.fit(X_train, y_train)"
   ]
  },
  {
   "cell_type": "code",
   "execution_count": 146,
   "metadata": {},
   "outputs": [
    {
     "name": "stdout",
     "output_type": "stream",
     "text": [
      "Best Params: {'rf__max_depth': None, 'rf__min_samples_leaf': 5, 'rf__min_samples_split': 2, 'rf__n_estimators': 210}\n",
      "Best CV Accuracy: 0.7633986928104576\n",
      "Train Accuracy: 1.0\n"
     ]
    }
   ],
   "source": [
    "evaluate_grid(gs2_rf)"
   ]
  },
  {
   "cell_type": "code",
   "execution_count": 147,
   "metadata": {},
   "outputs": [
    {
     "ename": "AttributeError",
     "evalue": "'Pipeline' object has no attribute 'feature_importances_'",
     "output_type": "error",
     "traceback": [
      "\u001b[0;31m---------------------------------------------------------------------------\u001b[0m",
      "\u001b[0;31mAttributeError\u001b[0m                            Traceback (most recent call last)",
      "Cell \u001b[0;32mIn[147], line 3\u001b[0m\n\u001b[1;32m      1\u001b[0m final_rf \u001b[38;5;241m=\u001b[39m gs2_rf\u001b[38;5;241m.\u001b[39mbest_estimator_\n\u001b[1;32m      2\u001b[0m final_rf\u001b[38;5;241m.\u001b[39mfit(X_train, y_train)\n\u001b[0;32m----> 3\u001b[0m \u001b[43mfinal_rf\u001b[49m\u001b[38;5;241;43m.\u001b[39;49m\u001b[43mfeature_importances_\u001b[49m\n",
      "\u001b[0;31mAttributeError\u001b[0m: 'Pipeline' object has no attribute 'feature_importances_'"
     ]
    }
   ],
   "source": [
    "final_rf = gs2_rf.best_estimator_\n",
    "# final_rf.fit(X_train, y_train)\n",
    "final_rf.feature_importances_"
   ]
  },
  {
   "cell_type": "markdown",
   "metadata": {},
   "source": [
    "# Trying a time split"
   ]
  },
  {
   "cell_type": "code",
   "execution_count": 107,
   "metadata": {},
   "outputs": [
    {
     "data": {
      "text/plain": [
       "Year\n",
       "1960     8\n",
       "1976     6\n",
       "1980     4\n",
       "1984     2\n",
       "1988     4\n",
       "1992    11\n",
       "1996     5\n",
       "2000     6\n",
       "2004     6\n",
       "2008     7\n",
       "2012     6\n",
       "2016     6\n",
       "2020     2\n",
       "Name: count, dtype: int64"
      ]
     },
     "execution_count": 107,
     "metadata": {},
     "output_type": "execute_result"
    }
   ],
   "source": [
    "result_df['Year'].value_counts().sort_index()"
   ]
  },
  {
   "cell_type": "code",
   "execution_count": 116,
   "metadata": {},
   "outputs": [
    {
     "data": {
      "text/plain": [
       "str"
      ]
     },
     "execution_count": 116,
     "metadata": {},
     "output_type": "execute_result"
    }
   ],
   "source": [
    "type(result_df['Year'][1])"
   ]
  },
  {
   "cell_type": "code",
   "execution_count": 123,
   "metadata": {},
   "outputs": [
    {
     "data": {
      "text/plain": [
       "Year\n",
       "1996    5\n",
       "2000    6\n",
       "2004    6\n",
       "2008    7\n",
       "2012    6\n",
       "2016    6\n",
       "2020    2\n",
       "Name: count, dtype: int64"
      ]
     },
     "execution_count": 123,
     "metadata": {},
     "output_type": "execute_result"
    }
   ],
   "source": [
    "ninesix_on = result_df[result_df['Year'] >= \"1996\"]\n",
    "ninesix_on['Year'].value_counts().sort_index()"
   ]
  },
  {
   "cell_type": "code",
   "execution_count": 124,
   "metadata": {},
   "outputs": [
    {
     "data": {
      "text/plain": [
       "Year\n",
       "1960     8\n",
       "1976     6\n",
       "1980     4\n",
       "1984     2\n",
       "1988     4\n",
       "1992    11\n",
       "Name: count, dtype: int64"
      ]
     },
     "execution_count": 124,
     "metadata": {},
     "output_type": "execute_result"
    }
   ],
   "source": [
    "pre_ninesix = result_df[result_df['Year'] < \"1996\"]\n",
    "pre_ninesix['Year'].value_counts().sort_index()"
   ]
  },
  {
   "cell_type": "code",
   "execution_count": 127,
   "metadata": {},
   "outputs": [
    {
     "name": "stdout",
     "output_type": "stream",
     "text": [
      "38\n",
      "35\n"
     ]
    }
   ],
   "source": [
    "print(len(ninesix_on))\n",
    "print(len(pre_ninesix))"
   ]
  },
  {
   "cell_type": "code",
   "execution_count": 136,
   "metadata": {},
   "outputs": [],
   "source": [
    "X_train_pre_ninesix, X_test_pre_ninesix, y_train_pre_ninesix, y_test_pre_ninesix = train_test_split(pre_ninesix[\"tokens\"], pre_ninesix['Target'], random_state=42)"
   ]
  },
  {
   "cell_type": "code",
   "execution_count": 137,
   "metadata": {},
   "outputs": [
    {
     "data": {
      "text/plain": [
       "1.0"
      ]
     },
     "execution_count": 137,
     "metadata": {},
     "output_type": "execute_result"
    }
   ],
   "source": [
    "final_model.fit(X_train_pre_ninesix, y_train_pre_ninesix)\n",
    "final_model.score(X_train_pre_ninesix, y_train_pre_ninesix)\n"
   ]
  },
  {
   "cell_type": "code",
   "execution_count": 138,
   "metadata": {},
   "outputs": [
    {
     "data": {
      "text/plain": [
       "0.8888888888888888"
      ]
     },
     "execution_count": 138,
     "metadata": {},
     "output_type": "execute_result"
    }
   ],
   "source": [
    "final_model.score(X_test_pre_ninesix, y_test_pre_ninesix)"
   ]
  },
  {
   "cell_type": "code",
   "execution_count": 139,
   "metadata": {},
   "outputs": [],
   "source": [
    "X_train_ninesix_on, X_test_ninesix_on, y_train_ninesix_on, y_test_ninesix_on = train_test_split(ninesix_on[\"tokens\"], ninesix_on['Target'], random_state=42)"
   ]
  },
  {
   "cell_type": "code",
   "execution_count": 140,
   "metadata": {},
   "outputs": [
    {
     "data": {
      "text/plain": [
       "1.0"
      ]
     },
     "execution_count": 140,
     "metadata": {},
     "output_type": "execute_result"
    }
   ],
   "source": [
    "final_model.fit(X_train_pre_ninesix, y_train_pre_ninesix)\n",
    "final_model.score(X_train_pre_ninesix, y_train_pre_ninesix)"
   ]
  },
  {
   "cell_type": "code",
   "execution_count": 141,
   "metadata": {},
   "outputs": [
    {
     "data": {
      "text/plain": [
       "0.8888888888888888"
      ]
     },
     "execution_count": 141,
     "metadata": {},
     "output_type": "execute_result"
    }
   ],
   "source": [
    "final_model.score(X_test_pre_ninesix, y_test_pre_ninesix)"
   ]
  },
  {
   "cell_type": "code",
   "execution_count": null,
   "metadata": {},
   "outputs": [],
   "source": []
  }
 ],
 "metadata": {
  "kernelspec": {
   "display_name": "Python (tensorflow_test)”\n\n",
   "language": "python",
   "name": "tensorflow_test"
  },
  "language_info": {
   "codemirror_mode": {
    "name": "ipython",
    "version": 3
   },
   "file_extension": ".py",
   "mimetype": "text/x-python",
   "name": "python",
   "nbconvert_exporter": "python",
   "pygments_lexer": "ipython3",
   "version": "3.10.10"
  }
 },
 "nbformat": 4,
 "nbformat_minor": 2
}
